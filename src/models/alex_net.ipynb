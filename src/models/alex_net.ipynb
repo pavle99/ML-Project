{
 "cells": [
  {
   "cell_type": "code",
   "execution_count": 1,
   "metadata": {},
   "outputs": [],
   "source": [
    "import sys\n",
    "\n",
    "sys.path.append(\"..\")"
   ]
  },
  {
   "cell_type": "code",
   "execution_count": 2,
   "metadata": {},
   "outputs": [],
   "source": [
    "from tensorflow import keras"
   ]
  },
  {
   "cell_type": "code",
   "execution_count": 3,
   "metadata": {},
   "outputs": [],
   "source": [
    "from utils.preprocessing_utils import PreprocessingUtils"
   ]
  },
  {
   "cell_type": "code",
   "execution_count": 4,
   "metadata": {},
   "outputs": [],
   "source": [
    "from utils.model_wrapper import ModelWrapper"
   ]
  },
  {
   "cell_type": "code",
   "execution_count": 5,
   "metadata": {},
   "outputs": [
    {
     "name": "stdout",
     "output_type": "stream",
     "text": [
      "Files already exist, skipping...\n",
      "Loading images and labels...\n",
      "Images and labels loaded successfully!\n",
      "Preprocessing labels...\n",
      "Labels preprocessed successfully!\n",
      "Splitting data into train, test and validation sets...\n",
      "Data split successfully!\n"
     ]
    }
   ],
   "source": [
    "preprocessing_utils = PreprocessingUtils()"
   ]
  },
  {
   "cell_type": "code",
   "execution_count": 6,
   "metadata": {},
   "outputs": [],
   "source": [
    "def build_alex_net(model_name: str):\n",
    "    model = keras.models.Sequential(\n",
    "        name=model_name,\n",
    "        layers=[\n",
    "            keras.layers.Conv2D(\n",
    "                96, (11, 11), strides=(4, 4), activation=\"relu\", input_shape=preprocessing_utils.images.shape[1:]\n",
    "            ),\n",
    "            keras.layers.BatchNormalization(),\n",
    "            keras.layers.MaxPooling2D((3, 3), strides=(2, 2)),\n",
    "            keras.layers.Conv2D(256, (5, 5), activation=\"relu\"),\n",
    "            keras.layers.BatchNormalization(),\n",
    "            keras.layers.MaxPooling2D((3, 3), strides=(2, 2)),\n",
    "            keras.layers.Conv2D(384, (3, 3), activation=\"relu\"),\n",
    "            keras.layers.Conv2D(384, (3, 3), activation=\"relu\"),\n",
    "            keras.layers.Conv2D(256, (3, 3), activation=\"relu\"),\n",
    "            keras.layers.MaxPooling2D((3, 3), strides=(2, 2)),\n",
    "            keras.layers.Flatten(),\n",
    "            keras.layers.Dense(4096, activation=\"relu\", kernel_regularizer=keras.regularizers.l2(0.01)),\n",
    "            keras.layers.Dropout(0.5),\n",
    "            keras.layers.Dense(4096, activation=\"relu\", kernel_regularizer=keras.regularizers.l2(0.01)),\n",
    "            keras.layers.Dropout(0.5),\n",
    "            keras.layers.Dense(preprocessing_utils.num_classes, activation=\"softmax\"),\n",
    "        ],\n",
    "    )\n",
    "\n",
    "    model.compile(optimizer=\"adam\", loss=\"categorical_crossentropy\", metrics=[\"accuracy\"])\n",
    "\n",
    "    model.summary()\n",
    "\n",
    "    return model"
   ]
  },
  {
   "cell_type": "code",
   "execution_count": 7,
   "metadata": {},
   "outputs": [],
   "source": [
    "alex_net_wrapper = ModelWrapper(\"AlexNet\", preprocessing_utils=preprocessing_utils)"
   ]
  },
  {
   "cell_type": "code",
   "execution_count": 8,
   "metadata": {},
   "outputs": [
    {
     "name": "stdout",
     "output_type": "stream",
     "text": [
      "Building model...\n",
      "Model: \"AlexNet\"\n",
      "_________________________________________________________________\n",
      " Layer (type)                Output Shape              Param #   \n",
      "=================================================================\n",
      " conv2d (Conv2D)             (None, 62, 62, 96)        34944     \n",
      "                                                                 \n",
      " batch_normalization (BatchN  (None, 62, 62, 96)       384       \n",
      " ormalization)                                                   \n",
      "                                                                 \n",
      " max_pooling2d (MaxPooling2D  (None, 30, 30, 96)       0         \n",
      " )                                                               \n",
      "                                                                 \n",
      " conv2d_1 (Conv2D)           (None, 26, 26, 256)       614656    \n",
      "                                                                 \n",
      " batch_normalization_1 (Batc  (None, 26, 26, 256)      1024      \n",
      " hNormalization)                                                 \n",
      "                                                                 \n",
      " max_pooling2d_1 (MaxPooling  (None, 12, 12, 256)      0         \n",
      " 2D)                                                             \n",
      "                                                                 \n",
      " conv2d_2 (Conv2D)           (None, 10, 10, 384)       885120    \n",
      "                                                                 \n",
      " conv2d_3 (Conv2D)           (None, 8, 8, 384)         1327488   \n",
      "                                                                 \n",
      " conv2d_4 (Conv2D)           (None, 6, 6, 256)         884992    \n",
      "                                                                 \n",
      " max_pooling2d_2 (MaxPooling  (None, 2, 2, 256)        0         \n",
      " 2D)                                                             \n",
      "                                                                 \n",
      " flatten (Flatten)           (None, 1024)              0         \n",
      "                                                                 \n",
      " dense (Dense)               (None, 4096)              4198400   \n",
      "                                                                 \n",
      " dropout (Dropout)           (None, 4096)              0         \n",
      "                                                                 \n",
      " dense_1 (Dense)             (None, 4096)              16781312  \n",
      "                                                                 \n",
      " dropout_1 (Dropout)         (None, 4096)              0         \n",
      "                                                                 \n",
      " dense_2 (Dense)             (None, 25)                102425    \n",
      "                                                                 \n",
      "=================================================================\n",
      "Total params: 24,830,745\n",
      "Trainable params: 24,830,041\n",
      "Non-trainable params: 704\n",
      "_________________________________________________________________\n",
      "Model built successfully!\n",
      "Saving model summary to ../../artifacts/model_summaries/summary_AlexNet...\n",
      "Model summary saved successfully!\n"
     ]
    }
   ],
   "source": [
    "alex_net_wrapper.build_model(build_fn=build_alex_net, model_name=alex_net_wrapper.model_name)"
   ]
  },
  {
   "cell_type": "code",
   "execution_count": 9,
   "metadata": {},
   "outputs": [
    {
     "name": "stdout",
     "output_type": "stream",
     "text": [
      "Epoch 1/100\n",
      "9/9 [==============================] - ETA: 0s - loss: 48.4151 - accuracy: 0.0662\n",
      "Epoch 1: val_loss improved from inf to 31.87669, saving model to ../../artifacts/checkpoints\\checkpoint_AlexNet\n"
     ]
    },
    {
     "name": "stderr",
     "output_type": "stream",
     "text": [
      "WARNING:absl:Found untraced functions such as _jit_compiled_convolution_op, _jit_compiled_convolution_op, _jit_compiled_convolution_op, _jit_compiled_convolution_op, _jit_compiled_convolution_op while saving (showing 5 of 5). These functions will not be directly callable after loading.\n"
     ]
    },
    {
     "name": "stdout",
     "output_type": "stream",
     "text": [
      "INFO:tensorflow:Assets written to: ../../artifacts/checkpoints\\checkpoint_AlexNet\\assets\n"
     ]
    },
    {
     "name": "stderr",
     "output_type": "stream",
     "text": [
      "INFO:tensorflow:Assets written to: ../../artifacts/checkpoints\\checkpoint_AlexNet\\assets\n"
     ]
    },
    {
     "name": "stdout",
     "output_type": "stream",
     "text": [
      "9/9 [==============================] - 15s 645ms/step - loss: 48.4151 - accuracy: 0.0662 - val_loss: 31.8767 - val_accuracy: 0.0599 - lr: 0.0010\n",
      "Epoch 2/100\n",
      "9/9 [==============================] - ETA: 0s - loss: 24.3222 - accuracy: 0.0834\n",
      "Epoch 2: val_loss improved from 31.87669 to 15.82162, saving model to ../../artifacts/checkpoints\\checkpoint_AlexNet\n"
     ]
    },
    {
     "name": "stderr",
     "output_type": "stream",
     "text": [
      "WARNING:absl:Found untraced functions such as _jit_compiled_convolution_op, _jit_compiled_convolution_op, _jit_compiled_convolution_op, _jit_compiled_convolution_op, _jit_compiled_convolution_op while saving (showing 5 of 5). These functions will not be directly callable after loading.\n"
     ]
    },
    {
     "name": "stdout",
     "output_type": "stream",
     "text": [
      "INFO:tensorflow:Assets written to: ../../artifacts/checkpoints\\checkpoint_AlexNet\\assets\n"
     ]
    },
    {
     "name": "stderr",
     "output_type": "stream",
     "text": [
      "INFO:tensorflow:Assets written to: ../../artifacts/checkpoints\\checkpoint_AlexNet\\assets\n"
     ]
    },
    {
     "name": "stdout",
     "output_type": "stream",
     "text": [
      "9/9 [==============================] - 4s 491ms/step - loss: 24.3222 - accuracy: 0.0834 - val_loss: 15.8216 - val_accuracy: 0.0599 - lr: 0.0010\n",
      "Epoch 3/100\n",
      "8/9 [=========================>....] - ETA: 0s - loss: 12.6134 - accuracy: 0.0950\n",
      "Epoch 3: val_loss improved from 15.82162 to 9.22787, saving model to ../../artifacts/checkpoints\\checkpoint_AlexNet\n"
     ]
    },
    {
     "name": "stderr",
     "output_type": "stream",
     "text": [
      "WARNING:absl:Found untraced functions such as _jit_compiled_convolution_op, _jit_compiled_convolution_op, _jit_compiled_convolution_op, _jit_compiled_convolution_op, _jit_compiled_convolution_op while saving (showing 5 of 5). These functions will not be directly callable after loading.\n"
     ]
    },
    {
     "name": "stdout",
     "output_type": "stream",
     "text": [
      "INFO:tensorflow:Assets written to: ../../artifacts/checkpoints\\checkpoint_AlexNet\\assets\n"
     ]
    },
    {
     "name": "stderr",
     "output_type": "stream",
     "text": [
      "INFO:tensorflow:Assets written to: ../../artifacts/checkpoints\\checkpoint_AlexNet\\assets\n"
     ]
    },
    {
     "name": "stdout",
     "output_type": "stream",
     "text": [
      "9/9 [==============================] - 4s 488ms/step - loss: 12.5318 - accuracy: 0.0954 - val_loss: 9.2279 - val_accuracy: 0.0599 - lr: 0.0010\n",
      "Epoch 4/100\n",
      "9/9 [==============================] - ETA: 0s - loss: 7.9175 - accuracy: 0.1068\n",
      "Epoch 4: val_loss improved from 9.22787 to 6.72548, saving model to ../../artifacts/checkpoints\\checkpoint_AlexNet\n"
     ]
    },
    {
     "name": "stderr",
     "output_type": "stream",
     "text": [
      "WARNING:absl:Found untraced functions such as _jit_compiled_convolution_op, _jit_compiled_convolution_op, _jit_compiled_convolution_op, _jit_compiled_convolution_op, _jit_compiled_convolution_op while saving (showing 5 of 5). These functions will not be directly callable after loading.\n"
     ]
    },
    {
     "name": "stdout",
     "output_type": "stream",
     "text": [
      "INFO:tensorflow:Assets written to: ../../artifacts/checkpoints\\checkpoint_AlexNet\\assets\n"
     ]
    },
    {
     "name": "stderr",
     "output_type": "stream",
     "text": [
      "INFO:tensorflow:Assets written to: ../../artifacts/checkpoints\\checkpoint_AlexNet\\assets\n"
     ]
    },
    {
     "name": "stdout",
     "output_type": "stream",
     "text": [
      "9/9 [==============================] - 5s 550ms/step - loss: 7.9175 - accuracy: 0.1068 - val_loss: 6.7255 - val_accuracy: 0.0507 - lr: 0.0010\n",
      "Epoch 5/100\n",
      "8/9 [=========================>....] - ETA: 0s - loss: 5.9814 - accuracy: 0.1360\n",
      "Epoch 5: val_loss improved from 6.72548 to 5.50465, saving model to ../../artifacts/checkpoints\\checkpoint_AlexNet\n"
     ]
    },
    {
     "name": "stderr",
     "output_type": "stream",
     "text": [
      "WARNING:absl:Found untraced functions such as _jit_compiled_convolution_op, _jit_compiled_convolution_op, _jit_compiled_convolution_op, _jit_compiled_convolution_op, _jit_compiled_convolution_op while saving (showing 5 of 5). These functions will not be directly callable after loading.\n"
     ]
    },
    {
     "name": "stdout",
     "output_type": "stream",
     "text": [
      "INFO:tensorflow:Assets written to: ../../artifacts/checkpoints\\checkpoint_AlexNet\\assets\n"
     ]
    },
    {
     "name": "stderr",
     "output_type": "stream",
     "text": [
      "INFO:tensorflow:Assets written to: ../../artifacts/checkpoints\\checkpoint_AlexNet\\assets\n"
     ]
    },
    {
     "name": "stdout",
     "output_type": "stream",
     "text": [
      "9/9 [==============================] - 5s 521ms/step - loss: 5.9662 - accuracy: 0.1360 - val_loss: 5.5046 - val_accuracy: 0.0691 - lr: 0.0010\n",
      "Epoch 6/100\n",
      "9/9 [==============================] - ETA: 0s - loss: 4.8925 - accuracy: 0.1477\n",
      "Epoch 6: val_loss improved from 5.50465 to 4.79778, saving model to ../../artifacts/checkpoints\\checkpoint_AlexNet\n"
     ]
    },
    {
     "name": "stderr",
     "output_type": "stream",
     "text": [
      "WARNING:absl:Found untraced functions such as _jit_compiled_convolution_op, _jit_compiled_convolution_op, _jit_compiled_convolution_op, _jit_compiled_convolution_op, _jit_compiled_convolution_op while saving (showing 5 of 5). These functions will not be directly callable after loading.\n"
     ]
    },
    {
     "name": "stdout",
     "output_type": "stream",
     "text": [
      "INFO:tensorflow:Assets written to: ../../artifacts/checkpoints\\checkpoint_AlexNet\\assets\n"
     ]
    },
    {
     "name": "stderr",
     "output_type": "stream",
     "text": [
      "INFO:tensorflow:Assets written to: ../../artifacts/checkpoints\\checkpoint_AlexNet\\assets\n"
     ]
    },
    {
     "name": "stdout",
     "output_type": "stream",
     "text": [
      "9/9 [==============================] - 4s 486ms/step - loss: 4.8925 - accuracy: 0.1477 - val_loss: 4.7978 - val_accuracy: 0.0553 - lr: 0.0010\n",
      "Epoch 7/100\n",
      "8/9 [=========================>....] - ETA: 0s - loss: 4.2422 - accuracy: 0.1635\n",
      "Epoch 7: val_loss improved from 4.79778 to 4.16898, saving model to ../../artifacts/checkpoints\\checkpoint_AlexNet\n"
     ]
    },
    {
     "name": "stderr",
     "output_type": "stream",
     "text": [
      "WARNING:absl:Found untraced functions such as _jit_compiled_convolution_op, _jit_compiled_convolution_op, _jit_compiled_convolution_op, _jit_compiled_convolution_op, _jit_compiled_convolution_op while saving (showing 5 of 5). These functions will not be directly callable after loading.\n"
     ]
    },
    {
     "name": "stdout",
     "output_type": "stream",
     "text": [
      "INFO:tensorflow:Assets written to: ../../artifacts/checkpoints\\checkpoint_AlexNet\\assets\n"
     ]
    },
    {
     "name": "stderr",
     "output_type": "stream",
     "text": [
      "INFO:tensorflow:Assets written to: ../../artifacts/checkpoints\\checkpoint_AlexNet\\assets\n"
     ]
    },
    {
     "name": "stdout",
     "output_type": "stream",
     "text": [
      "9/9 [==============================] - 4s 468ms/step - loss: 4.2379 - accuracy: 0.1615 - val_loss: 4.1690 - val_accuracy: 0.0922 - lr: 0.0010\n",
      "Epoch 8/100\n",
      "9/9 [==============================] - ETA: 0s - loss: 3.8710 - accuracy: 0.1576\n",
      "Epoch 8: val_loss improved from 4.16898 to 3.92797, saving model to ../../artifacts/checkpoints\\checkpoint_AlexNet\n"
     ]
    },
    {
     "name": "stderr",
     "output_type": "stream",
     "text": [
      "WARNING:absl:Found untraced functions such as _jit_compiled_convolution_op, _jit_compiled_convolution_op, _jit_compiled_convolution_op, _jit_compiled_convolution_op, _jit_compiled_convolution_op while saving (showing 5 of 5). These functions will not be directly callable after loading.\n"
     ]
    },
    {
     "name": "stdout",
     "output_type": "stream",
     "text": [
      "INFO:tensorflow:Assets written to: ../../artifacts/checkpoints\\checkpoint_AlexNet\\assets\n"
     ]
    },
    {
     "name": "stderr",
     "output_type": "stream",
     "text": [
      "INFO:tensorflow:Assets written to: ../../artifacts/checkpoints\\checkpoint_AlexNet\\assets\n"
     ]
    },
    {
     "name": "stdout",
     "output_type": "stream",
     "text": [
      "9/9 [==============================] - 4s 464ms/step - loss: 3.8710 - accuracy: 0.1576 - val_loss: 3.9280 - val_accuracy: 0.0968 - lr: 0.0010\n",
      "Epoch 9/100\n",
      "8/9 [=========================>....] - ETA: 0s - loss: 3.5410 - accuracy: 0.1873\n",
      "Epoch 9: val_loss improved from 3.92797 to 3.90476, saving model to ../../artifacts/checkpoints\\checkpoint_AlexNet\n"
     ]
    },
    {
     "name": "stderr",
     "output_type": "stream",
     "text": [
      "WARNING:absl:Found untraced functions such as _jit_compiled_convolution_op, _jit_compiled_convolution_op, _jit_compiled_convolution_op, _jit_compiled_convolution_op, _jit_compiled_convolution_op while saving (showing 5 of 5). These functions will not be directly callable after loading.\n"
     ]
    },
    {
     "name": "stdout",
     "output_type": "stream",
     "text": [
      "INFO:tensorflow:Assets written to: ../../artifacts/checkpoints\\checkpoint_AlexNet\\assets\n"
     ]
    },
    {
     "name": "stderr",
     "output_type": "stream",
     "text": [
      "INFO:tensorflow:Assets written to: ../../artifacts/checkpoints\\checkpoint_AlexNet\\assets\n"
     ]
    },
    {
     "name": "stdout",
     "output_type": "stream",
     "text": [
      "9/9 [==============================] - 5s 570ms/step - loss: 3.5359 - accuracy: 0.1885 - val_loss: 3.9048 - val_accuracy: 0.0691 - lr: 0.0010\n",
      "Epoch 10/100\n",
      "8/9 [=========================>....] - ETA: 0s - loss: 3.3458 - accuracy: 0.2027\n",
      "Epoch 10: val_loss improved from 3.90476 to 3.57910, saving model to ../../artifacts/checkpoints\\checkpoint_AlexNet\n"
     ]
    },
    {
     "name": "stderr",
     "output_type": "stream",
     "text": [
      "WARNING:absl:Found untraced functions such as _jit_compiled_convolution_op, _jit_compiled_convolution_op, _jit_compiled_convolution_op, _jit_compiled_convolution_op, _jit_compiled_convolution_op while saving (showing 5 of 5). These functions will not be directly callable after loading.\n"
     ]
    },
    {
     "name": "stdout",
     "output_type": "stream",
     "text": [
      "INFO:tensorflow:Assets written to: ../../artifacts/checkpoints\\checkpoint_AlexNet\\assets\n"
     ]
    },
    {
     "name": "stderr",
     "output_type": "stream",
     "text": [
      "INFO:tensorflow:Assets written to: ../../artifacts/checkpoints\\checkpoint_AlexNet\\assets\n"
     ]
    },
    {
     "name": "stdout",
     "output_type": "stream",
     "text": [
      "9/9 [==============================] - 4s 490ms/step - loss: 3.3416 - accuracy: 0.2029 - val_loss: 3.5791 - val_accuracy: 0.1106 - lr: 0.0010\n",
      "Epoch 11/100\n",
      "9/9 [==============================] - ETA: 0s - loss: 3.2213 - accuracy: 0.2021\n",
      "Epoch 11: val_loss did not improve from 3.57910\n",
      "9/9 [==============================] - 2s 200ms/step - loss: 3.2213 - accuracy: 0.2021 - val_loss: 3.8162 - val_accuracy: 0.0645 - lr: 0.0010\n",
      "Epoch 12/100\n",
      "9/9 [==============================] - ETA: 0s - loss: 3.1233 - accuracy: 0.2184\n",
      "Epoch 12: val_loss improved from 3.57910 to 3.43247, saving model to ../../artifacts/checkpoints\\checkpoint_AlexNet\n"
     ]
    },
    {
     "name": "stderr",
     "output_type": "stream",
     "text": [
      "WARNING:absl:Found untraced functions such as _jit_compiled_convolution_op, _jit_compiled_convolution_op, _jit_compiled_convolution_op, _jit_compiled_convolution_op, _jit_compiled_convolution_op while saving (showing 5 of 5). These functions will not be directly callable after loading.\n"
     ]
    },
    {
     "name": "stdout",
     "output_type": "stream",
     "text": [
      "INFO:tensorflow:Assets written to: ../../artifacts/checkpoints\\checkpoint_AlexNet\\assets\n"
     ]
    },
    {
     "name": "stderr",
     "output_type": "stream",
     "text": [
      "INFO:tensorflow:Assets written to: ../../artifacts/checkpoints\\checkpoint_AlexNet\\assets\n"
     ]
    },
    {
     "name": "stdout",
     "output_type": "stream",
     "text": [
      "9/9 [==============================] - 5s 587ms/step - loss: 3.1233 - accuracy: 0.2184 - val_loss: 3.4325 - val_accuracy: 0.1060 - lr: 0.0010\n",
      "Epoch 13/100\n",
      "8/9 [=========================>....] - ETA: 0s - loss: 3.0044 - accuracy: 0.2288\n",
      "Epoch 13: val_loss improved from 3.43247 to 3.40375, saving model to ../../artifacts/checkpoints\\checkpoint_AlexNet\n"
     ]
    },
    {
     "name": "stderr",
     "output_type": "stream",
     "text": [
      "WARNING:absl:Found untraced functions such as _jit_compiled_convolution_op, _jit_compiled_convolution_op, _jit_compiled_convolution_op, _jit_compiled_convolution_op, _jit_compiled_convolution_op while saving (showing 5 of 5). These functions will not be directly callable after loading.\n"
     ]
    },
    {
     "name": "stdout",
     "output_type": "stream",
     "text": [
      "INFO:tensorflow:Assets written to: ../../artifacts/checkpoints\\checkpoint_AlexNet\\assets\n"
     ]
    },
    {
     "name": "stderr",
     "output_type": "stream",
     "text": [
      "INFO:tensorflow:Assets written to: ../../artifacts/checkpoints\\checkpoint_AlexNet\\assets\n"
     ]
    },
    {
     "name": "stdout",
     "output_type": "stream",
     "text": [
      "9/9 [==============================] - 5s 560ms/step - loss: 3.0042 - accuracy: 0.2289 - val_loss: 3.4037 - val_accuracy: 0.1014 - lr: 0.0010\n",
      "Epoch 14/100\n",
      "9/9 [==============================] - ETA: 0s - loss: 2.8996 - accuracy: 0.2457\n",
      "Epoch 14: val_loss did not improve from 3.40375\n",
      "9/9 [==============================] - 2s 214ms/step - loss: 2.8996 - accuracy: 0.2457 - val_loss: 3.4372 - val_accuracy: 0.0968 - lr: 0.0010\n",
      "Epoch 15/100\n",
      "8/9 [=========================>....] - ETA: 0s - loss: 2.8381 - accuracy: 0.2580\n",
      "Epoch 15: val_loss improved from 3.40375 to 3.21918, saving model to ../../artifacts/checkpoints\\checkpoint_AlexNet\n"
     ]
    },
    {
     "name": "stderr",
     "output_type": "stream",
     "text": [
      "WARNING:absl:Found untraced functions such as _jit_compiled_convolution_op, _jit_compiled_convolution_op, _jit_compiled_convolution_op, _jit_compiled_convolution_op, _jit_compiled_convolution_op while saving (showing 5 of 5). These functions will not be directly callable after loading.\n"
     ]
    },
    {
     "name": "stdout",
     "output_type": "stream",
     "text": [
      "INFO:tensorflow:Assets written to: ../../artifacts/checkpoints\\checkpoint_AlexNet\\assets\n"
     ]
    },
    {
     "name": "stderr",
     "output_type": "stream",
     "text": [
      "INFO:tensorflow:Assets written to: ../../artifacts/checkpoints\\checkpoint_AlexNet\\assets\n"
     ]
    },
    {
     "name": "stdout",
     "output_type": "stream",
     "text": [
      "9/9 [==============================] - 4s 477ms/step - loss: 2.8386 - accuracy: 0.2578 - val_loss: 3.2192 - val_accuracy: 0.1429 - lr: 0.0010\n",
      "Epoch 16/100\n",
      "9/9 [==============================] - ETA: 0s - loss: 2.7888 - accuracy: 0.2722\n",
      "Epoch 16: val_loss did not improve from 3.21918\n",
      "9/9 [==============================] - 2s 230ms/step - loss: 2.7888 - accuracy: 0.2722 - val_loss: 3.3408 - val_accuracy: 0.1152 - lr: 0.0010\n",
      "Epoch 17/100\n",
      "9/9 [==============================] - ETA: 0s - loss: 2.7406 - accuracy: 0.2934\n",
      "Epoch 17: val_loss did not improve from 3.21918\n",
      "9/9 [==============================] - 2s 258ms/step - loss: 2.7406 - accuracy: 0.2934 - val_loss: 3.3809 - val_accuracy: 0.1014 - lr: 0.0010\n",
      "Epoch 18/100\n",
      "9/9 [==============================] - ETA: 0s - loss: 2.6617 - accuracy: 0.3148\n",
      "Epoch 18: val_loss did not improve from 3.21918\n",
      "9/9 [==============================] - 3s 233ms/step - loss: 2.6617 - accuracy: 0.3148 - val_loss: 3.3467 - val_accuracy: 0.1244 - lr: 0.0010\n",
      "Epoch 19/100\n",
      "9/9 [==============================] - ETA: 0s - loss: 2.5348 - accuracy: 0.3527\n",
      "Epoch 19: val_loss improved from 3.21918 to 3.19616, saving model to ../../artifacts/checkpoints\\checkpoint_AlexNet\n"
     ]
    },
    {
     "name": "stderr",
     "output_type": "stream",
     "text": [
      "WARNING:absl:Found untraced functions such as _jit_compiled_convolution_op, _jit_compiled_convolution_op, _jit_compiled_convolution_op, _jit_compiled_convolution_op, _jit_compiled_convolution_op while saving (showing 5 of 5). These functions will not be directly callable after loading.\n"
     ]
    },
    {
     "name": "stdout",
     "output_type": "stream",
     "text": [
      "INFO:tensorflow:Assets written to: ../../artifacts/checkpoints\\checkpoint_AlexNet\\assets\n"
     ]
    },
    {
     "name": "stderr",
     "output_type": "stream",
     "text": [
      "INFO:tensorflow:Assets written to: ../../artifacts/checkpoints\\checkpoint_AlexNet\\assets\n"
     ]
    },
    {
     "name": "stdout",
     "output_type": "stream",
     "text": [
      "9/9 [==============================] - 4s 494ms/step - loss: 2.5348 - accuracy: 0.3527 - val_loss: 3.1962 - val_accuracy: 0.1797 - lr: 5.0000e-04\n",
      "Epoch 20/100\n",
      "9/9 [==============================] - ETA: 0s - loss: 2.4042 - accuracy: 0.3680\n",
      "Epoch 20: val_loss did not improve from 3.19616\n",
      "9/9 [==============================] - 2s 217ms/step - loss: 2.4042 - accuracy: 0.3680 - val_loss: 3.3797 - val_accuracy: 0.1336 - lr: 5.0000e-04\n",
      "Epoch 21/100\n",
      "9/9 [==============================] - ETA: 0s - loss: 2.3116 - accuracy: 0.3829\n",
      "Epoch 21: val_loss did not improve from 3.19616\n",
      "9/9 [==============================] - 2s 220ms/step - loss: 2.3116 - accuracy: 0.3829 - val_loss: 3.2048 - val_accuracy: 0.1751 - lr: 5.0000e-04\n",
      "Epoch 22/100\n",
      "8/9 [=========================>....] - ETA: 0s - loss: 2.2778 - accuracy: 0.3940\n",
      "Epoch 22: val_loss did not improve from 3.19616\n",
      "9/9 [==============================] - 2s 194ms/step - loss: 2.2748 - accuracy: 0.3950 - val_loss: 3.3250 - val_accuracy: 0.1613 - lr: 5.0000e-04\n",
      "Epoch 23/100\n",
      "9/9 [==============================] - ETA: 0s - loss: 2.1408 - accuracy: 0.4361\n",
      "Epoch 23: val_loss improved from 3.19616 to 3.11481, saving model to ../../artifacts/checkpoints\\checkpoint_AlexNet\n"
     ]
    },
    {
     "name": "stderr",
     "output_type": "stream",
     "text": [
      "WARNING:absl:Found untraced functions such as _jit_compiled_convolution_op, _jit_compiled_convolution_op, _jit_compiled_convolution_op, _jit_compiled_convolution_op, _jit_compiled_convolution_op while saving (showing 5 of 5). These functions will not be directly callable after loading.\n"
     ]
    },
    {
     "name": "stdout",
     "output_type": "stream",
     "text": [
      "INFO:tensorflow:Assets written to: ../../artifacts/checkpoints\\checkpoint_AlexNet\\assets\n"
     ]
    },
    {
     "name": "stderr",
     "output_type": "stream",
     "text": [
      "INFO:tensorflow:Assets written to: ../../artifacts/checkpoints\\checkpoint_AlexNet\\assets\n"
     ]
    },
    {
     "name": "stdout",
     "output_type": "stream",
     "text": [
      "9/9 [==============================] - 4s 456ms/step - loss: 2.1408 - accuracy: 0.4361 - val_loss: 3.1148 - val_accuracy: 0.2074 - lr: 2.5000e-04\n",
      "Epoch 24/100\n",
      "8/9 [=========================>....] - ETA: 0s - loss: 2.0382 - accuracy: 0.4630\n",
      "Epoch 24: val_loss improved from 3.11481 to 3.02601, saving model to ../../artifacts/checkpoints\\checkpoint_AlexNet\n"
     ]
    },
    {
     "name": "stderr",
     "output_type": "stream",
     "text": [
      "WARNING:absl:Found untraced functions such as _jit_compiled_convolution_op, _jit_compiled_convolution_op, _jit_compiled_convolution_op, _jit_compiled_convolution_op, _jit_compiled_convolution_op while saving (showing 5 of 5). These functions will not be directly callable after loading.\n"
     ]
    },
    {
     "name": "stdout",
     "output_type": "stream",
     "text": [
      "INFO:tensorflow:Assets written to: ../../artifacts/checkpoints\\checkpoint_AlexNet\\assets\n"
     ]
    },
    {
     "name": "stderr",
     "output_type": "stream",
     "text": [
      "INFO:tensorflow:Assets written to: ../../artifacts/checkpoints\\checkpoint_AlexNet\\assets\n"
     ]
    },
    {
     "name": "stdout",
     "output_type": "stream",
     "text": [
      "9/9 [==============================] - 4s 469ms/step - loss: 2.0381 - accuracy: 0.4634 - val_loss: 3.0260 - val_accuracy: 0.2442 - lr: 2.5000e-04\n",
      "Epoch 25/100\n",
      "8/9 [=========================>....] - ETA: 0s - loss: 1.9924 - accuracy: 0.4678\n",
      "Epoch 25: val_loss did not improve from 3.02601\n",
      "9/9 [==============================] - 2s 196ms/step - loss: 1.9830 - accuracy: 0.4707 - val_loss: 3.1643 - val_accuracy: 0.1797 - lr: 2.5000e-04\n",
      "Epoch 26/100\n",
      "8/9 [=========================>....] - ETA: 0s - loss: 1.9530 - accuracy: 0.4770\n",
      "Epoch 26: val_loss did not improve from 3.02601\n",
      "9/9 [==============================] - 2s 194ms/step - loss: 1.9492 - accuracy: 0.4777 - val_loss: 3.1632 - val_accuracy: 0.2166 - lr: 2.5000e-04\n",
      "Epoch 27/100\n",
      "9/9 [==============================] - ETA: 0s - loss: 1.8923 - accuracy: 0.5009\n",
      "Epoch 27: val_loss did not improve from 3.02601\n",
      "9/9 [==============================] - 2s 195ms/step - loss: 1.8923 - accuracy: 0.5009 - val_loss: 3.1594 - val_accuracy: 0.2120 - lr: 2.5000e-04\n",
      "Epoch 28/100\n",
      "9/9 [==============================] - ETA: 0s - loss: 1.7798 - accuracy: 0.5361\n",
      "Epoch 28: val_loss did not improve from 3.02601\n",
      "9/9 [==============================] - 2s 231ms/step - loss: 1.7798 - accuracy: 0.5361 - val_loss: 3.0836 - val_accuracy: 0.2581 - lr: 1.2500e-04\n",
      "Epoch 29/100\n",
      "9/9 [==============================] - ETA: 0s - loss: 1.7162 - accuracy: 0.5549\n",
      "Epoch 29: val_loss did not improve from 3.02601\n",
      "9/9 [==============================] - 3s 289ms/step - loss: 1.7162 - accuracy: 0.5549 - val_loss: 3.1068 - val_accuracy: 0.2304 - lr: 1.2500e-04\n",
      "Epoch 30/100\n",
      "9/9 [==============================] - ETA: 0s - loss: 1.6692 - accuracy: 0.5651\n",
      "Epoch 30: val_loss did not improve from 3.02601\n",
      "9/9 [==============================] - 2s 267ms/step - loss: 1.6692 - accuracy: 0.5651 - val_loss: 3.1730 - val_accuracy: 0.2258 - lr: 1.2500e-04\n",
      "Epoch 31/100\n",
      "9/9 [==============================] - ETA: 0s - loss: 1.6104 - accuracy: 0.5887\n",
      "Epoch 31: val_loss improved from 3.02601 to 2.95365, saving model to ../../artifacts/checkpoints\\checkpoint_AlexNet\n"
     ]
    },
    {
     "name": "stderr",
     "output_type": "stream",
     "text": [
      "WARNING:absl:Found untraced functions such as _jit_compiled_convolution_op, _jit_compiled_convolution_op, _jit_compiled_convolution_op, _jit_compiled_convolution_op, _jit_compiled_convolution_op while saving (showing 5 of 5). These functions will not be directly callable after loading.\n"
     ]
    },
    {
     "name": "stdout",
     "output_type": "stream",
     "text": [
      "INFO:tensorflow:Assets written to: ../../artifacts/checkpoints\\checkpoint_AlexNet\\assets\n"
     ]
    },
    {
     "name": "stderr",
     "output_type": "stream",
     "text": [
      "INFO:tensorflow:Assets written to: ../../artifacts/checkpoints\\checkpoint_AlexNet\\assets\n"
     ]
    },
    {
     "name": "stdout",
     "output_type": "stream",
     "text": [
      "9/9 [==============================] - 5s 575ms/step - loss: 1.6104 - accuracy: 0.5887 - val_loss: 2.9536 - val_accuracy: 0.2673 - lr: 6.2500e-05\n",
      "Epoch 32/100\n",
      "9/9 [==============================] - ETA: 0s - loss: 1.5830 - accuracy: 0.6006\n",
      "Epoch 32: val_loss did not improve from 2.95365\n",
      "9/9 [==============================] - 2s 257ms/step - loss: 1.5830 - accuracy: 0.6006 - val_loss: 3.1273 - val_accuracy: 0.2442 - lr: 6.2500e-05\n",
      "Epoch 33/100\n",
      "9/9 [==============================] - ETA: 0s - loss: 1.5356 - accuracy: 0.6120\n",
      "Epoch 33: val_loss did not improve from 2.95365\n",
      "9/9 [==============================] - 2s 252ms/step - loss: 1.5356 - accuracy: 0.6120 - val_loss: 2.9861 - val_accuracy: 0.2765 - lr: 6.2500e-05\n",
      "Epoch 34/100\n",
      "8/9 [=========================>....] - ETA: 0s - loss: 1.5215 - accuracy: 0.6118\n",
      "Epoch 34: val_loss did not improve from 2.95365\n",
      "9/9 [==============================] - 2s 166ms/step - loss: 1.5198 - accuracy: 0.6113 - val_loss: 3.0017 - val_accuracy: 0.2765 - lr: 6.2500e-05\n",
      "Epoch 35/100\n",
      "8/9 [=========================>....] - ETA: 0s - loss: 1.4863 - accuracy: 0.6235\n",
      "Epoch 35: val_loss did not improve from 2.95365\n",
      "9/9 [==============================] - 1s 163ms/step - loss: 1.4893 - accuracy: 0.6217 - val_loss: 2.9836 - val_accuracy: 0.2949 - lr: 3.1250e-05\n",
      "Epoch 36/100\n",
      "8/9 [=========================>....] - ETA: 0s - loss: 1.4676 - accuracy: 0.6323\n",
      "Epoch 36: val_loss improved from 2.95365 to 2.93564, saving model to ../../artifacts/checkpoints\\checkpoint_AlexNet\n"
     ]
    },
    {
     "name": "stderr",
     "output_type": "stream",
     "text": [
      "WARNING:absl:Found untraced functions such as _jit_compiled_convolution_op, _jit_compiled_convolution_op, _jit_compiled_convolution_op, _jit_compiled_convolution_op, _jit_compiled_convolution_op while saving (showing 5 of 5). These functions will not be directly callable after loading.\n"
     ]
    },
    {
     "name": "stdout",
     "output_type": "stream",
     "text": [
      "INFO:tensorflow:Assets written to: ../../artifacts/checkpoints\\checkpoint_AlexNet\\assets\n"
     ]
    },
    {
     "name": "stderr",
     "output_type": "stream",
     "text": [
      "INFO:tensorflow:Assets written to: ../../artifacts/checkpoints\\checkpoint_AlexNet\\assets\n"
     ]
    },
    {
     "name": "stdout",
     "output_type": "stream",
     "text": [
      "9/9 [==============================] - 3s 404ms/step - loss: 1.4693 - accuracy: 0.6317 - val_loss: 2.9356 - val_accuracy: 0.3088 - lr: 3.1250e-05\n",
      "Epoch 37/100\n",
      "8/9 [=========================>....] - ETA: 0s - loss: 1.4526 - accuracy: 0.6285\n",
      "Epoch 37: val_loss did not improve from 2.93564\n",
      "9/9 [==============================] - 1s 160ms/step - loss: 1.4506 - accuracy: 0.6290 - val_loss: 2.9598 - val_accuracy: 0.2995 - lr: 3.1250e-05\n",
      "Epoch 38/100\n",
      "8/9 [=========================>....] - ETA: 0s - loss: 1.4306 - accuracy: 0.6370\n",
      "Epoch 38: val_loss improved from 2.93564 to 2.88470, saving model to ../../artifacts/checkpoints\\checkpoint_AlexNet\n"
     ]
    },
    {
     "name": "stderr",
     "output_type": "stream",
     "text": [
      "WARNING:absl:Found untraced functions such as _jit_compiled_convolution_op, _jit_compiled_convolution_op, _jit_compiled_convolution_op, _jit_compiled_convolution_op, _jit_compiled_convolution_op while saving (showing 5 of 5). These functions will not be directly callable after loading.\n"
     ]
    },
    {
     "name": "stdout",
     "output_type": "stream",
     "text": [
      "INFO:tensorflow:Assets written to: ../../artifacts/checkpoints\\checkpoint_AlexNet\\assets\n"
     ]
    },
    {
     "name": "stderr",
     "output_type": "stream",
     "text": [
      "INFO:tensorflow:Assets written to: ../../artifacts/checkpoints\\checkpoint_AlexNet\\assets\n"
     ]
    },
    {
     "name": "stdout",
     "output_type": "stream",
     "text": [
      "9/9 [==============================] - 3s 391ms/step - loss: 1.4317 - accuracy: 0.6351 - val_loss: 2.8847 - val_accuracy: 0.2995 - lr: 3.1250e-05\n",
      "Epoch 39/100\n",
      "8/9 [=========================>....] - ETA: 0s - loss: 1.4142 - accuracy: 0.6475\n",
      "Epoch 39: val_loss did not improve from 2.88470\n",
      "9/9 [==============================] - 2s 162ms/step - loss: 1.4177 - accuracy: 0.6466 - val_loss: 2.8887 - val_accuracy: 0.3041 - lr: 3.1250e-05\n",
      "Epoch 40/100\n",
      "8/9 [=========================>....] - ETA: 0s - loss: 1.4093 - accuracy: 0.6428\n",
      "Epoch 40: val_loss improved from 2.88470 to 2.84389, saving model to ../../artifacts/checkpoints\\checkpoint_AlexNet\n"
     ]
    },
    {
     "name": "stderr",
     "output_type": "stream",
     "text": [
      "WARNING:absl:Found untraced functions such as _jit_compiled_convolution_op, _jit_compiled_convolution_op, _jit_compiled_convolution_op, _jit_compiled_convolution_op, _jit_compiled_convolution_op while saving (showing 5 of 5). These functions will not be directly callable after loading.\n"
     ]
    },
    {
     "name": "stdout",
     "output_type": "stream",
     "text": [
      "INFO:tensorflow:Assets written to: ../../artifacts/checkpoints\\checkpoint_AlexNet\\assets\n"
     ]
    },
    {
     "name": "stderr",
     "output_type": "stream",
     "text": [
      "INFO:tensorflow:Assets written to: ../../artifacts/checkpoints\\checkpoint_AlexNet\\assets\n"
     ]
    },
    {
     "name": "stdout",
     "output_type": "stream",
     "text": [
      "9/9 [==============================] - 3s 415ms/step - loss: 1.4084 - accuracy: 0.6436 - val_loss: 2.8439 - val_accuracy: 0.3134 - lr: 3.1250e-05\n",
      "Epoch 41/100\n",
      "9/9 [==============================] - ETA: 0s - loss: 1.3978 - accuracy: 0.6492\n",
      "Epoch 41: val_loss improved from 2.84389 to 2.77760, saving model to ../../artifacts/checkpoints\\checkpoint_AlexNet\n"
     ]
    },
    {
     "name": "stderr",
     "output_type": "stream",
     "text": [
      "WARNING:absl:Found untraced functions such as _jit_compiled_convolution_op, _jit_compiled_convolution_op, _jit_compiled_convolution_op, _jit_compiled_convolution_op, _jit_compiled_convolution_op while saving (showing 5 of 5). These functions will not be directly callable after loading.\n"
     ]
    },
    {
     "name": "stdout",
     "output_type": "stream",
     "text": [
      "INFO:tensorflow:Assets written to: ../../artifacts/checkpoints\\checkpoint_AlexNet\\assets\n"
     ]
    },
    {
     "name": "stderr",
     "output_type": "stream",
     "text": [
      "INFO:tensorflow:Assets written to: ../../artifacts/checkpoints\\checkpoint_AlexNet\\assets\n"
     ]
    },
    {
     "name": "stdout",
     "output_type": "stream",
     "text": [
      "9/9 [==============================] - 4s 482ms/step - loss: 1.3978 - accuracy: 0.6492 - val_loss: 2.7776 - val_accuracy: 0.3272 - lr: 3.1250e-05\n",
      "Epoch 42/100\n",
      "9/9 [==============================] - ETA: 0s - loss: 1.3755 - accuracy: 0.6590\n",
      "Epoch 42: val_loss improved from 2.77760 to 2.76797, saving model to ../../artifacts/checkpoints\\checkpoint_AlexNet\n"
     ]
    },
    {
     "name": "stderr",
     "output_type": "stream",
     "text": [
      "WARNING:absl:Found untraced functions such as _jit_compiled_convolution_op, _jit_compiled_convolution_op, _jit_compiled_convolution_op, _jit_compiled_convolution_op, _jit_compiled_convolution_op while saving (showing 5 of 5). These functions will not be directly callable after loading.\n"
     ]
    },
    {
     "name": "stdout",
     "output_type": "stream",
     "text": [
      "INFO:tensorflow:Assets written to: ../../artifacts/checkpoints\\checkpoint_AlexNet\\assets\n"
     ]
    },
    {
     "name": "stderr",
     "output_type": "stream",
     "text": [
      "INFO:tensorflow:Assets written to: ../../artifacts/checkpoints\\checkpoint_AlexNet\\assets\n"
     ]
    },
    {
     "name": "stdout",
     "output_type": "stream",
     "text": [
      "9/9 [==============================] - 4s 486ms/step - loss: 1.3755 - accuracy: 0.6590 - val_loss: 2.7680 - val_accuracy: 0.3318 - lr: 3.1250e-05\n",
      "Epoch 43/100\n",
      "9/9 [==============================] - ETA: 0s - loss: 1.3686 - accuracy: 0.6655\n",
      "Epoch 43: val_loss improved from 2.76797 to 2.70198, saving model to ../../artifacts/checkpoints\\checkpoint_AlexNet\n"
     ]
    },
    {
     "name": "stderr",
     "output_type": "stream",
     "text": [
      "WARNING:absl:Found untraced functions such as _jit_compiled_convolution_op, _jit_compiled_convolution_op, _jit_compiled_convolution_op, _jit_compiled_convolution_op, _jit_compiled_convolution_op while saving (showing 5 of 5). These functions will not be directly callable after loading.\n"
     ]
    },
    {
     "name": "stdout",
     "output_type": "stream",
     "text": [
      "INFO:tensorflow:Assets written to: ../../artifacts/checkpoints\\checkpoint_AlexNet\\assets\n"
     ]
    },
    {
     "name": "stderr",
     "output_type": "stream",
     "text": [
      "INFO:tensorflow:Assets written to: ../../artifacts/checkpoints\\checkpoint_AlexNet\\assets\n"
     ]
    },
    {
     "name": "stdout",
     "output_type": "stream",
     "text": [
      "9/9 [==============================] - 4s 521ms/step - loss: 1.3686 - accuracy: 0.6655 - val_loss: 2.7020 - val_accuracy: 0.3502 - lr: 3.1250e-05\n",
      "Epoch 44/100\n",
      "9/9 [==============================] - ETA: 0s - loss: 1.3423 - accuracy: 0.6709\n",
      "Epoch 44: val_loss did not improve from 2.70198\n",
      "9/9 [==============================] - 2s 201ms/step - loss: 1.3423 - accuracy: 0.6709 - val_loss: 2.7034 - val_accuracy: 0.3410 - lr: 3.1250e-05\n",
      "Epoch 45/100\n",
      "9/9 [==============================] - ETA: 0s - loss: 1.3442 - accuracy: 0.6672\n",
      "Epoch 45: val_loss did not improve from 2.70198\n",
      "9/9 [==============================] - 2s 207ms/step - loss: 1.3442 - accuracy: 0.6672 - val_loss: 2.7233 - val_accuracy: 0.3364 - lr: 3.1250e-05\n",
      "Epoch 46/100\n",
      "9/9 [==============================] - ETA: 0s - loss: 1.3302 - accuracy: 0.6799\n",
      "Epoch 46: val_loss improved from 2.70198 to 2.64459, saving model to ../../artifacts/checkpoints\\checkpoint_AlexNet\n"
     ]
    },
    {
     "name": "stderr",
     "output_type": "stream",
     "text": [
      "WARNING:absl:Found untraced functions such as _jit_compiled_convolution_op, _jit_compiled_convolution_op, _jit_compiled_convolution_op, _jit_compiled_convolution_op, _jit_compiled_convolution_op while saving (showing 5 of 5). These functions will not be directly callable after loading.\n"
     ]
    },
    {
     "name": "stdout",
     "output_type": "stream",
     "text": [
      "INFO:tensorflow:Assets written to: ../../artifacts/checkpoints\\checkpoint_AlexNet\\assets\n"
     ]
    },
    {
     "name": "stderr",
     "output_type": "stream",
     "text": [
      "INFO:tensorflow:Assets written to: ../../artifacts/checkpoints\\checkpoint_AlexNet\\assets\n"
     ]
    },
    {
     "name": "stdout",
     "output_type": "stream",
     "text": [
      "9/9 [==============================] - 4s 465ms/step - loss: 1.3302 - accuracy: 0.6799 - val_loss: 2.6446 - val_accuracy: 0.3641 - lr: 3.1250e-05\n",
      "Epoch 47/100\n",
      "9/9 [==============================] - ETA: 0s - loss: 1.3198 - accuracy: 0.6767\n",
      "Epoch 47: val_loss did not improve from 2.64459\n",
      "9/9 [==============================] - 2s 208ms/step - loss: 1.3198 - accuracy: 0.6767 - val_loss: 2.6853 - val_accuracy: 0.3502 - lr: 3.1250e-05\n",
      "Epoch 48/100\n",
      "9/9 [==============================] - ETA: 0s - loss: 1.3102 - accuracy: 0.6833\n",
      "Epoch 48: val_loss improved from 2.64459 to 2.63519, saving model to ../../artifacts/checkpoints\\checkpoint_AlexNet\n"
     ]
    },
    {
     "name": "stderr",
     "output_type": "stream",
     "text": [
      "WARNING:absl:Found untraced functions such as _jit_compiled_convolution_op, _jit_compiled_convolution_op, _jit_compiled_convolution_op, _jit_compiled_convolution_op, _jit_compiled_convolution_op while saving (showing 5 of 5). These functions will not be directly callable after loading.\n"
     ]
    },
    {
     "name": "stdout",
     "output_type": "stream",
     "text": [
      "INFO:tensorflow:Assets written to: ../../artifacts/checkpoints\\checkpoint_AlexNet\\assets\n"
     ]
    },
    {
     "name": "stderr",
     "output_type": "stream",
     "text": [
      "INFO:tensorflow:Assets written to: ../../artifacts/checkpoints\\checkpoint_AlexNet\\assets\n"
     ]
    },
    {
     "name": "stdout",
     "output_type": "stream",
     "text": [
      "9/9 [==============================] - 4s 533ms/step - loss: 1.3102 - accuracy: 0.6833 - val_loss: 2.6352 - val_accuracy: 0.3502 - lr: 3.1250e-05\n",
      "Epoch 49/100\n",
      "9/9 [==============================] - ETA: 0s - loss: 1.2870 - accuracy: 0.6911\n",
      "Epoch 49: val_loss improved from 2.63519 to 2.62385, saving model to ../../artifacts/checkpoints\\checkpoint_AlexNet\n"
     ]
    },
    {
     "name": "stderr",
     "output_type": "stream",
     "text": [
      "WARNING:absl:Found untraced functions such as _jit_compiled_convolution_op, _jit_compiled_convolution_op, _jit_compiled_convolution_op, _jit_compiled_convolution_op, _jit_compiled_convolution_op while saving (showing 5 of 5). These functions will not be directly callable after loading.\n"
     ]
    },
    {
     "name": "stdout",
     "output_type": "stream",
     "text": [
      "INFO:tensorflow:Assets written to: ../../artifacts/checkpoints\\checkpoint_AlexNet\\assets\n"
     ]
    },
    {
     "name": "stderr",
     "output_type": "stream",
     "text": [
      "INFO:tensorflow:Assets written to: ../../artifacts/checkpoints\\checkpoint_AlexNet\\assets\n"
     ]
    },
    {
     "name": "stdout",
     "output_type": "stream",
     "text": [
      "9/9 [==============================] - 4s 467ms/step - loss: 1.2870 - accuracy: 0.6911 - val_loss: 2.6238 - val_accuracy: 0.3548 - lr: 3.1250e-05\n",
      "Epoch 50/100\n",
      "9/9 [==============================] - ETA: 0s - loss: 1.2834 - accuracy: 0.6930\n",
      "Epoch 50: val_loss did not improve from 2.62385\n",
      "9/9 [==============================] - 2s 206ms/step - loss: 1.2834 - accuracy: 0.6930 - val_loss: 2.6347 - val_accuracy: 0.3594 - lr: 3.1250e-05\n",
      "Epoch 51/100\n",
      "9/9 [==============================] - ETA: 0s - loss: 1.2702 - accuracy: 0.6911\n",
      "Epoch 51: val_loss improved from 2.62385 to 2.57122, saving model to ../../artifacts/checkpoints\\checkpoint_AlexNet\n"
     ]
    },
    {
     "name": "stderr",
     "output_type": "stream",
     "text": [
      "WARNING:absl:Found untraced functions such as _jit_compiled_convolution_op, _jit_compiled_convolution_op, _jit_compiled_convolution_op, _jit_compiled_convolution_op, _jit_compiled_convolution_op while saving (showing 5 of 5). These functions will not be directly callable after loading.\n"
     ]
    },
    {
     "name": "stdout",
     "output_type": "stream",
     "text": [
      "INFO:tensorflow:Assets written to: ../../artifacts/checkpoints\\checkpoint_AlexNet\\assets\n"
     ]
    },
    {
     "name": "stderr",
     "output_type": "stream",
     "text": [
      "INFO:tensorflow:Assets written to: ../../artifacts/checkpoints\\checkpoint_AlexNet\\assets\n"
     ]
    },
    {
     "name": "stdout",
     "output_type": "stream",
     "text": [
      "9/9 [==============================] - 4s 473ms/step - loss: 1.2702 - accuracy: 0.6911 - val_loss: 2.5712 - val_accuracy: 0.3594 - lr: 3.1250e-05\n",
      "Epoch 52/100\n",
      "9/9 [==============================] - ETA: 0s - loss: 1.2569 - accuracy: 0.6981\n",
      "Epoch 52: val_loss did not improve from 2.57122\n",
      "9/9 [==============================] - 2s 204ms/step - loss: 1.2569 - accuracy: 0.6981 - val_loss: 2.6577 - val_accuracy: 0.3733 - lr: 3.1250e-05\n",
      "Epoch 53/100\n",
      "9/9 [==============================] - ETA: 0s - loss: 1.2357 - accuracy: 0.7081\n",
      "Epoch 53: val_loss did not improve from 2.57122\n",
      "9/9 [==============================] - 2s 204ms/step - loss: 1.2357 - accuracy: 0.7081 - val_loss: 2.5721 - val_accuracy: 0.3687 - lr: 3.1250e-05\n",
      "Epoch 54/100\n",
      "9/9 [==============================] - ETA: 0s - loss: 1.2259 - accuracy: 0.7091\n",
      "Epoch 54: val_loss did not improve from 2.57122\n",
      "9/9 [==============================] - 2s 203ms/step - loss: 1.2259 - accuracy: 0.7091 - val_loss: 2.5938 - val_accuracy: 0.3917 - lr: 3.1250e-05\n",
      "Epoch 55/100\n",
      "9/9 [==============================] - ETA: 0s - loss: 1.2159 - accuracy: 0.7110\n",
      "Epoch 55: val_loss did not improve from 2.57122\n",
      "9/9 [==============================] - 2s 203ms/step - loss: 1.2159 - accuracy: 0.7110 - val_loss: 2.5908 - val_accuracy: 0.3641 - lr: 1.5625e-05\n",
      "Epoch 56/100\n",
      "9/9 [==============================] - ETA: 0s - loss: 1.2075 - accuracy: 0.7120\n",
      "Epoch 56: val_loss did not improve from 2.57122\n",
      "9/9 [==============================] - 2s 206ms/step - loss: 1.2075 - accuracy: 0.7120 - val_loss: 2.5810 - val_accuracy: 0.3641 - lr: 1.5625e-05\n",
      "Epoch 57/100\n",
      "9/9 [==============================] - ETA: 0s - loss: 1.1998 - accuracy: 0.7229\n",
      "Epoch 57: val_loss did not improve from 2.57122\n",
      "9/9 [==============================] - 2s 202ms/step - loss: 1.1998 - accuracy: 0.7229 - val_loss: 2.5793 - val_accuracy: 0.3733 - lr: 1.5625e-05\n",
      "Epoch 58/100\n",
      "9/9 [==============================] - ETA: 0s - loss: 1.1884 - accuracy: 0.7293\n",
      "Epoch 58: val_loss did not improve from 2.57122\n",
      "9/9 [==============================] - 2s 202ms/step - loss: 1.1884 - accuracy: 0.7293 - val_loss: 2.5822 - val_accuracy: 0.3779 - lr: 7.8125e-06\n",
      "Epoch 59/100\n",
      "9/9 [==============================] - ETA: 0s - loss: 1.1849 - accuracy: 0.7225\n",
      "Epoch 59: val_loss did not improve from 2.57122\n",
      "9/9 [==============================] - 2s 204ms/step - loss: 1.1849 - accuracy: 0.7225 - val_loss: 2.5765 - val_accuracy: 0.3779 - lr: 7.8125e-06\n",
      "Epoch 60/100\n",
      "9/9 [==============================] - ETA: 0s - loss: 1.1900 - accuracy: 0.7237\n",
      "Epoch 60: val_loss improved from 2.57122 to 2.56915, saving model to ../../artifacts/checkpoints\\checkpoint_AlexNet\n"
     ]
    },
    {
     "name": "stderr",
     "output_type": "stream",
     "text": [
      "WARNING:absl:Found untraced functions such as _jit_compiled_convolution_op, _jit_compiled_convolution_op, _jit_compiled_convolution_op, _jit_compiled_convolution_op, _jit_compiled_convolution_op while saving (showing 5 of 5). These functions will not be directly callable after loading.\n"
     ]
    },
    {
     "name": "stdout",
     "output_type": "stream",
     "text": [
      "INFO:tensorflow:Assets written to: ../../artifacts/checkpoints\\checkpoint_AlexNet\\assets\n"
     ]
    },
    {
     "name": "stderr",
     "output_type": "stream",
     "text": [
      "INFO:tensorflow:Assets written to: ../../artifacts/checkpoints\\checkpoint_AlexNet\\assets\n"
     ]
    },
    {
     "name": "stdout",
     "output_type": "stream",
     "text": [
      "9/9 [==============================] - 4s 466ms/step - loss: 1.1900 - accuracy: 0.7237 - val_loss: 2.5691 - val_accuracy: 0.3733 - lr: 7.8125e-06\n",
      "Epoch 61/100\n",
      "9/9 [==============================] - ETA: 0s - loss: 1.1823 - accuracy: 0.7268\n",
      "Epoch 61: val_loss improved from 2.56915 to 2.56226, saving model to ../../artifacts/checkpoints\\checkpoint_AlexNet\n"
     ]
    },
    {
     "name": "stderr",
     "output_type": "stream",
     "text": [
      "WARNING:absl:Found untraced functions such as _jit_compiled_convolution_op, _jit_compiled_convolution_op, _jit_compiled_convolution_op, _jit_compiled_convolution_op, _jit_compiled_convolution_op while saving (showing 5 of 5). These functions will not be directly callable after loading.\n"
     ]
    },
    {
     "name": "stdout",
     "output_type": "stream",
     "text": [
      "INFO:tensorflow:Assets written to: ../../artifacts/checkpoints\\checkpoint_AlexNet\\assets\n"
     ]
    },
    {
     "name": "stderr",
     "output_type": "stream",
     "text": [
      "INFO:tensorflow:Assets written to: ../../artifacts/checkpoints\\checkpoint_AlexNet\\assets\n"
     ]
    },
    {
     "name": "stdout",
     "output_type": "stream",
     "text": [
      "9/9 [==============================] - 4s 517ms/step - loss: 1.1823 - accuracy: 0.7268 - val_loss: 2.5623 - val_accuracy: 0.3687 - lr: 7.8125e-06\n",
      "Epoch 62/100\n",
      "9/9 [==============================] - ETA: 0s - loss: 1.1819 - accuracy: 0.7271\n",
      "Epoch 62: val_loss did not improve from 2.56226\n",
      "9/9 [==============================] - 2s 213ms/step - loss: 1.1819 - accuracy: 0.7271 - val_loss: 2.5695 - val_accuracy: 0.3594 - lr: 7.8125e-06\n",
      "Epoch 63/100\n",
      "8/9 [=========================>....] - ETA: 0s - loss: 1.1693 - accuracy: 0.7265\n",
      "Epoch 63: val_loss did not improve from 2.56226\n",
      "9/9 [==============================] - 2s 163ms/step - loss: 1.1729 - accuracy: 0.7256 - val_loss: 2.5647 - val_accuracy: 0.3641 - lr: 7.8125e-06\n",
      "Epoch 64/100\n",
      "8/9 [=========================>....] - ETA: 0s - loss: 1.1640 - accuracy: 0.7287\n",
      "Epoch 64: val_loss did not improve from 2.56226\n",
      "9/9 [==============================] - 1s 141ms/step - loss: 1.1623 - accuracy: 0.7295 - val_loss: 2.5731 - val_accuracy: 0.3733 - lr: 7.8125e-06\n",
      "Epoch 65/100\n",
      "9/9 [==============================] - ETA: 0s - loss: 1.1720 - accuracy: 0.7276\n",
      "Epoch 65: val_loss did not improve from 2.56226\n",
      "9/9 [==============================] - 1s 146ms/step - loss: 1.1720 - accuracy: 0.7276 - val_loss: 2.5717 - val_accuracy: 0.3779 - lr: 3.9063e-06\n",
      "Epoch 66/100\n",
      "8/9 [=========================>....] - ETA: 0s - loss: 1.1678 - accuracy: 0.7268\n",
      "Epoch 66: val_loss did not improve from 2.56226\n",
      "9/9 [==============================] - 1s 144ms/step - loss: 1.1709 - accuracy: 0.7246 - val_loss: 2.5639 - val_accuracy: 0.3733 - lr: 3.9063e-06\n",
      "Epoch 67/100\n",
      "8/9 [=========================>....] - ETA: 0s - loss: 1.1759 - accuracy: 0.7240\n",
      "Epoch 67: val_loss improved from 2.56226 to 2.55770, saving model to ../../artifacts/checkpoints\\checkpoint_AlexNet\n"
     ]
    },
    {
     "name": "stderr",
     "output_type": "stream",
     "text": [
      "WARNING:absl:Found untraced functions such as _jit_compiled_convolution_op, _jit_compiled_convolution_op, _jit_compiled_convolution_op, _jit_compiled_convolution_op, _jit_compiled_convolution_op while saving (showing 5 of 5). These functions will not be directly callable after loading.\n"
     ]
    },
    {
     "name": "stdout",
     "output_type": "stream",
     "text": [
      "INFO:tensorflow:Assets written to: ../../artifacts/checkpoints\\checkpoint_AlexNet\\assets\n"
     ]
    },
    {
     "name": "stderr",
     "output_type": "stream",
     "text": [
      "INFO:tensorflow:Assets written to: ../../artifacts/checkpoints\\checkpoint_AlexNet\\assets\n"
     ]
    },
    {
     "name": "stdout",
     "output_type": "stream",
     "text": [
      "9/9 [==============================] - 3s 358ms/step - loss: 1.1750 - accuracy: 0.7244 - val_loss: 2.5577 - val_accuracy: 0.3687 - lr: 3.9063e-06\n",
      "Epoch 68/100\n",
      "8/9 [=========================>....] - ETA: 0s - loss: 1.1576 - accuracy: 0.7262\n",
      "Epoch 68: val_loss did not improve from 2.55770\n",
      "9/9 [==============================] - 1s 165ms/step - loss: 1.1598 - accuracy: 0.7259 - val_loss: 2.5577 - val_accuracy: 0.3779 - lr: 3.9063e-06\n",
      "Epoch 69/100\n",
      "8/9 [=========================>....] - ETA: 0s - loss: 1.1564 - accuracy: 0.7320\n",
      "Epoch 69: val_loss improved from 2.55770 to 2.55672, saving model to ../../artifacts/checkpoints\\checkpoint_AlexNet\n"
     ]
    },
    {
     "name": "stderr",
     "output_type": "stream",
     "text": [
      "WARNING:absl:Found untraced functions such as _jit_compiled_convolution_op, _jit_compiled_convolution_op, _jit_compiled_convolution_op, _jit_compiled_convolution_op, _jit_compiled_convolution_op while saving (showing 5 of 5). These functions will not be directly callable after loading.\n"
     ]
    },
    {
     "name": "stdout",
     "output_type": "stream",
     "text": [
      "INFO:tensorflow:Assets written to: ../../artifacts/checkpoints\\checkpoint_AlexNet\\assets\n"
     ]
    },
    {
     "name": "stderr",
     "output_type": "stream",
     "text": [
      "INFO:tensorflow:Assets written to: ../../artifacts/checkpoints\\checkpoint_AlexNet\\assets\n"
     ]
    },
    {
     "name": "stdout",
     "output_type": "stream",
     "text": [
      "9/9 [==============================] - 4s 481ms/step - loss: 1.1568 - accuracy: 0.7315 - val_loss: 2.5567 - val_accuracy: 0.3871 - lr: 3.9063e-06\n",
      "Epoch 70/100\n",
      "8/9 [=========================>....] - ETA: 0s - loss: 1.1683 - accuracy: 0.7243\n",
      "Epoch 70: val_loss did not improve from 2.55672\n",
      "9/9 [==============================] - 2s 196ms/step - loss: 1.1681 - accuracy: 0.7246 - val_loss: 2.5650 - val_accuracy: 0.3825 - lr: 3.9063e-06\n",
      "Epoch 71/100\n",
      "8/9 [=========================>....] - ETA: 0s - loss: 1.1537 - accuracy: 0.7400\n",
      "Epoch 71: val_loss did not improve from 2.55672\n",
      "9/9 [==============================] - 2s 189ms/step - loss: 1.1536 - accuracy: 0.7402 - val_loss: 2.5724 - val_accuracy: 0.3779 - lr: 3.9063e-06\n",
      "Epoch 72/100\n",
      "8/9 [=========================>....] - ETA: 0s - loss: 1.1538 - accuracy: 0.7330\n",
      "Epoch 72: val_loss did not improve from 2.55672\n",
      "9/9 [==============================] - 2s 186ms/step - loss: 1.1522 - accuracy: 0.7336 - val_loss: 2.5732 - val_accuracy: 0.3825 - lr: 3.9063e-06\n",
      "Epoch 73/100\n",
      "8/9 [=========================>....] - ETA: 0s - loss: 1.1458 - accuracy: 0.7415\n",
      "Epoch 73: val_loss did not improve from 2.55672\n",
      "9/9 [==============================] - 2s 186ms/step - loss: 1.1487 - accuracy: 0.7395 - val_loss: 2.5755 - val_accuracy: 0.3825 - lr: 1.9531e-06\n",
      "Epoch 74/100\n",
      "8/9 [=========================>....] - ETA: 0s - loss: 1.1572 - accuracy: 0.7272\n",
      "Epoch 74: val_loss did not improve from 2.55672\n",
      "9/9 [==============================] - 2s 185ms/step - loss: 1.1549 - accuracy: 0.7278 - val_loss: 2.5757 - val_accuracy: 0.3825 - lr: 1.9531e-06\n",
      "Epoch 75/100\n",
      "8/9 [=========================>....] - ETA: 0s - loss: 1.1586 - accuracy: 0.7355\n",
      "Epoch 75: val_loss did not improve from 2.55672\n",
      "9/9 [==============================] - 2s 186ms/step - loss: 1.1573 - accuracy: 0.7344 - val_loss: 2.5772 - val_accuracy: 0.3825 - lr: 1.9531e-06\n",
      "Epoch 76/100\n",
      "8/9 [=========================>....] - ETA: 0s - loss: 1.1600 - accuracy: 0.7337\n",
      "Epoch 76: val_loss did not improve from 2.55672\n",
      "9/9 [==============================] - 2s 185ms/step - loss: 1.1617 - accuracy: 0.7327 - val_loss: 2.5775 - val_accuracy: 0.3825 - lr: 1.0000e-06\n",
      "Epoch 77/100\n",
      "8/9 [=========================>....] - ETA: 0s - loss: 1.1400 - accuracy: 0.7450\n",
      "Epoch 77: val_loss did not improve from 2.55672\n",
      "9/9 [==============================] - 2s 186ms/step - loss: 1.1412 - accuracy: 0.7441 - val_loss: 2.5778 - val_accuracy: 0.3825 - lr: 1.0000e-06\n",
      "Epoch 78/100\n",
      "8/9 [=========================>....] - ETA: 0s - loss: 1.1521 - accuracy: 0.7377\n",
      "Epoch 78: val_loss did not improve from 2.55672\n",
      "9/9 [==============================] - 2s 181ms/step - loss: 1.1548 - accuracy: 0.7370 - val_loss: 2.5791 - val_accuracy: 0.3733 - lr: 1.0000e-06\n",
      "Epoch 79/100\n",
      "8/9 [=========================>....] - ETA: 0s - loss: 1.1575 - accuracy: 0.7350\n",
      "Epoch 79: val_loss did not improve from 2.55672\n",
      "9/9 [==============================] - 2s 181ms/step - loss: 1.1602 - accuracy: 0.7346 - val_loss: 2.5805 - val_accuracy: 0.3733 - lr: 1.0000e-06\n",
      "Epoch 80/100\n",
      "8/9 [=========================>....] - ETA: 0s - loss: 1.1528 - accuracy: 0.7385\n",
      "Epoch 80: val_loss did not improve from 2.55672\n",
      "9/9 [==============================] - 2s 186ms/step - loss: 1.1526 - accuracy: 0.7400 - val_loss: 2.5815 - val_accuracy: 0.3733 - lr: 1.0000e-06\n",
      "Epoch 81/100\n",
      "8/9 [=========================>....] - ETA: 0s - loss: 1.1532 - accuracy: 0.7315\n",
      "Epoch 81: val_loss did not improve from 2.55672\n",
      "9/9 [==============================] - 2s 186ms/step - loss: 1.1499 - accuracy: 0.7322 - val_loss: 2.5830 - val_accuracy: 0.3733 - lr: 1.0000e-06\n",
      "Epoch 82/100\n",
      "9/9 [==============================] - ETA: 0s - loss: 1.1540 - accuracy: 0.7383\n",
      "Epoch 82: val_loss did not improve from 2.55672\n",
      "9/9 [==============================] - 2s 189ms/step - loss: 1.1540 - accuracy: 0.7383 - val_loss: 2.5854 - val_accuracy: 0.3733 - lr: 1.0000e-06\n",
      "Epoch 83/100\n",
      "8/9 [=========================>....] - ETA: 0s - loss: 1.1489 - accuracy: 0.7343\n",
      "Epoch 83: val_loss did not improve from 2.55672\n",
      "9/9 [==============================] - 2s 185ms/step - loss: 1.1456 - accuracy: 0.7361 - val_loss: 2.5875 - val_accuracy: 0.3733 - lr: 1.0000e-06\n",
      "Epoch 84/100\n",
      "8/9 [=========================>....] - ETA: 0s - loss: 1.1481 - accuracy: 0.7402\n",
      "Epoch 84: val_loss did not improve from 2.55672\n",
      "9/9 [==============================] - 2s 187ms/step - loss: 1.1500 - accuracy: 0.7380 - val_loss: 2.5885 - val_accuracy: 0.3779 - lr: 1.0000e-06\n",
      "Epoch 85/100\n",
      "8/9 [=========================>....] - ETA: 0s - loss: 1.1488 - accuracy: 0.7345\n",
      "Epoch 85: val_loss did not improve from 2.55672\n",
      "9/9 [==============================] - 2s 189ms/step - loss: 1.1484 - accuracy: 0.7344 - val_loss: 2.5886 - val_accuracy: 0.3825 - lr: 1.0000e-06\n",
      "Epoch 86/100\n",
      "8/9 [=========================>....] - ETA: 0s - loss: 1.1518 - accuracy: 0.7350\n",
      "Epoch 86: val_loss did not improve from 2.55672\n",
      "9/9 [==============================] - 2s 187ms/step - loss: 1.1506 - accuracy: 0.7361 - val_loss: 2.5896 - val_accuracy: 0.3825 - lr: 1.0000e-06\n",
      "Epoch 87/100\n",
      "8/9 [=========================>....] - ETA: 0s - loss: 1.1488 - accuracy: 0.7347\n",
      "Epoch 87: val_loss did not improve from 2.55672\n",
      "9/9 [==============================] - 2s 186ms/step - loss: 1.1517 - accuracy: 0.7339 - val_loss: 2.5900 - val_accuracy: 0.3825 - lr: 1.0000e-06\n",
      "Epoch 88/100\n",
      "8/9 [=========================>....] - ETA: 0s - loss: 1.1424 - accuracy: 0.7358\n",
      "Epoch 88: val_loss did not improve from 2.55672\n",
      "9/9 [==============================] - 2s 189ms/step - loss: 1.1420 - accuracy: 0.7366 - val_loss: 2.5903 - val_accuracy: 0.3825 - lr: 1.0000e-06\n",
      "Epoch 89/100\n",
      "8/9 [=========================>....] - ETA: 0s - loss: 1.1489 - accuracy: 0.7347\n",
      "Epoch 89: val_loss did not improve from 2.55672\n",
      "9/9 [==============================] - 2s 187ms/step - loss: 1.1450 - accuracy: 0.7368 - val_loss: 2.5920 - val_accuracy: 0.3825 - lr: 1.0000e-06\n",
      "Epoch 90/100\n",
      "8/9 [=========================>....] - ETA: 0s - loss: 1.1455 - accuracy: 0.7470\n",
      "Epoch 90: val_loss did not improve from 2.55672\n",
      "9/9 [==============================] - 2s 188ms/step - loss: 1.1445 - accuracy: 0.7477 - val_loss: 2.5925 - val_accuracy: 0.3917 - lr: 1.0000e-06\n",
      "Epoch 91/100\n",
      "8/9 [=========================>....] - ETA: 0s - loss: 1.1462 - accuracy: 0.7390\n",
      "Epoch 91: val_loss did not improve from 2.55672\n",
      "9/9 [==============================] - 2s 189ms/step - loss: 1.1445 - accuracy: 0.7392 - val_loss: 2.5938 - val_accuracy: 0.3871 - lr: 1.0000e-06\n",
      "Epoch 92/100\n",
      "8/9 [=========================>....] - ETA: 0s - loss: 1.1510 - accuracy: 0.7345\n",
      "Epoch 92: val_loss did not improve from 2.55672\n",
      "9/9 [==============================] - 2s 192ms/step - loss: 1.1496 - accuracy: 0.7351 - val_loss: 2.5940 - val_accuracy: 0.3871 - lr: 1.0000e-06\n",
      "Epoch 93/100\n",
      "8/9 [=========================>....] - ETA: 0s - loss: 1.1404 - accuracy: 0.7387\n",
      "Epoch 93: val_loss did not improve from 2.55672\n",
      "9/9 [==============================] - 2s 191ms/step - loss: 1.1401 - accuracy: 0.7397 - val_loss: 2.5940 - val_accuracy: 0.3917 - lr: 1.0000e-06\n",
      "Epoch 94/100\n",
      "8/9 [=========================>....] - ETA: 0s - loss: 1.1435 - accuracy: 0.7393\n",
      "Epoch 94: val_loss did not improve from 2.55672\n",
      "9/9 [==============================] - 2s 189ms/step - loss: 1.1405 - accuracy: 0.7407 - val_loss: 2.5953 - val_accuracy: 0.3917 - lr: 1.0000e-06\n",
      "Epoch 95/100\n",
      "8/9 [=========================>....] - ETA: 0s - loss: 1.1394 - accuracy: 0.7340\n",
      "Epoch 95: val_loss did not improve from 2.55672\n",
      "9/9 [==============================] - 2s 188ms/step - loss: 1.1414 - accuracy: 0.7336 - val_loss: 2.5964 - val_accuracy: 0.3871 - lr: 1.0000e-06\n",
      "Epoch 96/100\n",
      "8/9 [=========================>....] - ETA: 0s - loss: 1.1396 - accuracy: 0.7412\n",
      "Epoch 96: val_loss did not improve from 2.55672\n",
      "9/9 [==============================] - 2s 186ms/step - loss: 1.1387 - accuracy: 0.7419 - val_loss: 2.5972 - val_accuracy: 0.3871 - lr: 1.0000e-06\n",
      "Epoch 97/100\n",
      "8/9 [=========================>....] - ETA: 0s - loss: 1.1458 - accuracy: 0.7427\n",
      "Epoch 97: val_loss did not improve from 2.55672\n",
      "9/9 [==============================] - 2s 189ms/step - loss: 1.1469 - accuracy: 0.7414 - val_loss: 2.5976 - val_accuracy: 0.3871 - lr: 1.0000e-06\n",
      "Epoch 98/100\n",
      "8/9 [=========================>....] - ETA: 0s - loss: 1.1467 - accuracy: 0.7322\n",
      "Epoch 98: val_loss did not improve from 2.55672\n",
      "9/9 [==============================] - 2s 186ms/step - loss: 1.1437 - accuracy: 0.7329 - val_loss: 2.5980 - val_accuracy: 0.3871 - lr: 1.0000e-06\n",
      "Epoch 99/100\n",
      "8/9 [=========================>....] - ETA: 0s - loss: 1.1463 - accuracy: 0.7390\n",
      "Epoch 99: val_loss did not improve from 2.55672\n",
      "9/9 [==============================] - 2s 183ms/step - loss: 1.1454 - accuracy: 0.7400 - val_loss: 2.5982 - val_accuracy: 0.3871 - lr: 1.0000e-06\n",
      "Saving model to \"artifacts/models/AlexNet.h5\"...\n",
      "Model saved successfully!\n"
     ]
    }
   ],
   "source": [
    "alex_net_wrapper.train_and_save_model()"
   ]
  },
  {
   "cell_type": "code",
   "execution_count": 10,
   "metadata": {},
   "outputs": [
    {
     "data": {
      "image/png": "[encoded data removed]",
      "text/plain": [
       "<Figure size 640x480 with 1 Axes>"
      ]
     },
     "metadata": {},
     "output_type": "display_data"
    }
   ],
   "source": [
    "alex_net_wrapper.plot_accuracy()"
   ]
  },
  {
   "cell_type": "code",
   "execution_count": 11,
   "metadata": {},
   "outputs": [
    {
     "data": {
      "image/png": "[encoded data removed]",
      "text/plain": [
       "<Figure size 640x480 with 1 Axes>"
      ]
     },
     "metadata": {},
     "output_type": "display_data"
    }
   ],
   "source": [
    "alex_net_wrapper.plot_loss()"
   ]
  },
  {
   "cell_type": "code",
   "execution_count": 12,
   "metadata": {},
   "outputs": [
    {
     "name": "stdout",
     "output_type": "stream",
     "text": [
      "Loading model from \"../../artifacts/models/AlexNet.h5\"...\n",
      "Model loaded successfully!\n"
     ]
    }
   ],
   "source": [
    "alex_net_wrapper.load_model()"
   ]
  },
  {
   "cell_type": "code",
   "execution_count": 13,
   "metadata": {},
   "outputs": [
    {
     "name": "stdout",
     "output_type": "stream",
     "text": [
      "20/20 [==============================] - 1s 14ms/step - loss: 2.5701 - accuracy: 0.3861\n",
      "Loss: 2.5701\n",
      "Accuracy: 0.3861\n",
      "20/20 [==============================] - 1s 9ms/step\n",
      "Classification Report:\n",
      "              precision    recall  f1-score   support\n",
      "\n",
      "           0       0.37      0.30      0.33        23\n",
      "           1       0.29      0.20      0.24        25\n",
      "           2       0.61      0.58      0.59        52\n",
      "           3       0.29      0.29      0.29        38\n",
      "           4       0.36      0.37      0.36        27\n",
      "           5       0.23      0.37      0.29        35\n",
      "           6       0.35      0.33      0.34        45\n",
      "           7       0.07      0.10      0.08        10\n",
      "           8       0.22      0.17      0.19        12\n",
      "           9       0.20      0.09      0.13        11\n",
      "          10       0.30      0.30      0.30        23\n",
      "          11       0.67      0.62      0.64        26\n",
      "          12       0.32      0.38      0.35        32\n",
      "          13       0.30      0.53      0.38        15\n",
      "          14       0.24      0.24      0.24        17\n",
      "          15       0.64      0.44      0.52        16\n",
      "          16       0.19      0.31      0.24        13\n",
      "          17       0.50      0.33      0.40        21\n",
      "          18       0.28      0.28      0.28        18\n",
      "          19       0.30      0.38      0.33        21\n",
      "          20       0.47      0.75      0.58        12\n",
      "          21       0.46      0.34      0.39        53\n",
      "          22       0.41      0.47      0.44        19\n",
      "          23       0.43      0.35      0.39        17\n",
      "          24       0.86      0.63      0.73        38\n",
      "\n",
      "    accuracy                           0.39       619\n",
      "   macro avg       0.37      0.37      0.36       619\n",
      "weighted avg       0.41      0.39      0.39       619\n",
      "\n"
     ]
    },
    {
     "data": {
      "image/png": "[encoded data removed]",
      "text/plain": [
       "<Figure size 1500x1000 with 2 Axes>"
      ]
     },
     "metadata": {},
     "output_type": "display_data"
    }
   ],
   "source": [
    "alex_net_wrapper.display_evaluation_results()"
   ]
  },
  {
   "cell_type": "code",
   "execution_count": null,
   "metadata": {},
   "outputs": [],
   "source": []
  }
 ],
 "metadata": {
  "kernelspec": {
   "display_name": "ML-projekat",
   "language": "python",
   "name": "python3"
  },
  "language_info": {
   "codemirror_mode": {
    "name": "ipython",
    "version": 3
   },
   "file_extension": ".py",
   "mimetype": "text/x-python",
   "name": "python",
   "nbconvert_exporter": "python",
   "pygments_lexer": "ipython3",
   "version": "3.9.17"
  },
  "orig_nbformat": 4
 },
 "nbformat": 4,
 "nbformat_minor": 2
}
