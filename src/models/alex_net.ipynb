{
 "cells": [
  {
   "cell_type": "code",
   "execution_count": 1,
   "metadata": {},
   "outputs": [],
   "source": [
    "import sys\n",
    "\n",
    "sys.path.append(\"..\")"
   ]
  },
  {
   "cell_type": "code",
   "execution_count": 2,
   "metadata": {},
   "outputs": [],
   "source": [
    "from tensorflow import keras"
   ]
  },
  {
   "cell_type": "code",
   "execution_count": 3,
   "metadata": {},
   "outputs": [],
   "source": [
    "from utils.preprocessing_utils import PreprocessingUtils"
   ]
  },
  {
   "cell_type": "code",
   "execution_count": 4,
   "metadata": {},
   "outputs": [],
   "source": [
    "from utils.model_wrapper import ModelWrapper"
   ]
  },
  {
   "cell_type": "code",
   "execution_count": 5,
   "metadata": {},
   "outputs": [
    {
     "name": "stdout",
     "output_type": "stream",
     "text": [
      "Files already exist, skipping...\n",
      "Loading images and labels...\n",
      "Images and labels loaded successfully!\n",
      "Preprocessing labels...\n",
      "Labels preprocessed successfully!\n",
      "Files don't exist, splitting...\n",
      "Splitting data into train, test and validation sets...\n",
      "Data split successfully!\n",
      "Saving split data...\n",
      "Split data saved successfully!\n"
     ]
    }
   ],
   "source": [
    "preprocessing_utils = PreprocessingUtils()"
   ]
  },
  {
   "cell_type": "code",
   "execution_count": 6,
   "metadata": {},
   "outputs": [],
   "source": [
    "def build_alex_net(model_name: str):\n",
    "    model = keras.models.Sequential(\n",
    "        name=model_name,\n",
    "        layers=[\n",
    "            keras.layers.Conv2D(\n",
    "                96,\n",
    "                (11, 11),\n",
    "                strides=(4, 4),\n",
    "                activation=\"relu\",\n",
    "                input_shape=preprocessing_utils.images.shape[1:],\n",
    "            ),\n",
    "            keras.layers.BatchNormalization(),\n",
    "            keras.layers.MaxPooling2D((3, 3), strides=(2, 2)),\n",
    "            keras.layers.Conv2D(256, (5, 5), activation=\"relu\"),\n",
    "            keras.layers.BatchNormalization(),\n",
    "            keras.layers.MaxPooling2D((3, 3), strides=(2, 2)),\n",
    "            keras.layers.Conv2D(384, (3, 3), activation=\"relu\"),\n",
    "            keras.layers.Conv2D(384, (3, 3), activation=\"relu\"),\n",
    "            keras.layers.Conv2D(256, (3, 3), activation=\"relu\"),\n",
    "            keras.layers.MaxPooling2D((3, 3), strides=(2, 2)),\n",
    "            keras.layers.Flatten(),\n",
    "            keras.layers.Dense(\n",
    "                4096, activation=\"relu\", kernel_regularizer=keras.regularizers.l2(0.01)\n",
    "            ),\n",
    "            keras.layers.Dropout(0.5),\n",
    "            keras.layers.Dense(\n",
    "                4096, activation=\"relu\", kernel_regularizer=keras.regularizers.l2(0.01)\n",
    "            ),\n",
    "            keras.layers.Dropout(0.5),\n",
    "            keras.layers.Dense(preprocessing_utils.num_classes, activation=\"softmax\"),\n",
    "        ],\n",
    "    )\n",
    "\n",
    "    model.compile(\n",
    "        optimizer=\"adam\", loss=\"categorical_crossentropy\", metrics=[\"accuracy\"]\n",
    "    )\n",
    "\n",
    "    model.summary()\n",
    "\n",
    "    return model"
   ]
  },
  {
   "cell_type": "code",
   "execution_count": 7,
   "metadata": {},
   "outputs": [],
   "source": [
    "alex_net_wrapper = ModelWrapper(\"AlexNet\", preprocessing_utils=preprocessing_utils)"
   ]
  },
  {
   "cell_type": "code",
   "execution_count": 8,
   "metadata": {},
   "outputs": [
    {
     "name": "stdout",
     "output_type": "stream",
     "text": [
      "Building model...\n",
      "Model: \"AlexNet\"\n",
      "_________________________________________________________________\n",
      " Layer (type)                Output Shape              Param #   \n",
      "=================================================================\n",
      " conv2d (Conv2D)             (None, 62, 62, 96)        34944     \n",
      "                                                                 \n",
      " batch_normalization (BatchN  (None, 62, 62, 96)       384       \n",
      " ormalization)                                                   \n",
      "                                                                 \n",
      " max_pooling2d (MaxPooling2D  (None, 30, 30, 96)       0         \n",
      " )                                                               \n",
      "                                                                 \n",
      " conv2d_1 (Conv2D)           (None, 26, 26, 256)       614656    \n",
      "                                                                 \n",
      " batch_normalization_1 (Batc  (None, 26, 26, 256)      1024      \n",
      " hNormalization)                                                 \n",
      "                                                                 \n",
      " max_pooling2d_1 (MaxPooling  (None, 12, 12, 256)      0         \n",
      " 2D)                                                             \n",
      "                                                                 \n",
      " conv2d_2 (Conv2D)           (None, 10, 10, 384)       885120    \n",
      "                                                                 \n",
      " conv2d_3 (Conv2D)           (None, 8, 8, 384)         1327488   \n",
      "                                                                 \n",
      " conv2d_4 (Conv2D)           (None, 6, 6, 256)         884992    \n",
      "                                                                 \n",
      " max_pooling2d_2 (MaxPooling  (None, 2, 2, 256)        0         \n",
      " 2D)                                                             \n",
      "                                                                 \n",
      " flatten (Flatten)           (None, 1024)              0         \n",
      "                                                                 \n",
      " dense (Dense)               (None, 4096)              4198400   \n",
      "                                                                 \n",
      " dropout (Dropout)           (None, 4096)              0         \n",
      "                                                                 \n",
      " dense_1 (Dense)             (None, 4096)              16781312  \n",
      "                                                                 \n",
      " dropout_1 (Dropout)         (None, 4096)              0         \n",
      "                                                                 \n",
      " dense_2 (Dense)             (None, 25)                102425    \n",
      "                                                                 \n",
      "=================================================================\n",
      "Total params: 24,830,745\n",
      "Trainable params: 24,830,041\n",
      "Non-trainable params: 704\n",
      "_________________________________________________________________\n",
      "Model built successfully!\n",
      "Saving model summary to ../../artifacts/model_summaries/summary_AlexNet...\n",
      "Model summary saved successfully!\n"
     ]
    }
   ],
   "source": [
    "alex_net_wrapper.build_model(\n",
    "    build_fn=build_alex_net, model_name=alex_net_wrapper.model_name\n",
    ")"
   ]
  },
  {
   "cell_type": "code",
   "execution_count": 9,
   "metadata": {},
   "outputs": [
    {
     "name": "stdout",
     "output_type": "stream",
     "text": [
      "Epoch 1/100\n",
      "9/9 [==============================] - ETA: 0s - loss: 48.3859 - accuracy: 0.0574\n",
      "Epoch 1: val_loss improved from inf to 31.63033, saving model to ../../artifacts/checkpoints\\checkpoint_AlexNet\n"
     ]
    },
    {
     "name": "stderr",
     "output_type": "stream",
     "text": [
      "WARNING:absl:Found untraced functions such as _jit_compiled_convolution_op, _jit_compiled_convolution_op, _jit_compiled_convolution_op, _jit_compiled_convolution_op, _jit_compiled_convolution_op while saving (showing 5 of 5). These functions will not be directly callable after loading.\n"
     ]
    },
    {
     "name": "stdout",
     "output_type": "stream",
     "text": [
      "INFO:tensorflow:Assets written to: ../../artifacts/checkpoints\\checkpoint_AlexNet\\assets\n"
     ]
    },
    {
     "name": "stderr",
     "output_type": "stream",
     "text": [
      "INFO:tensorflow:Assets written to: ../../artifacts/checkpoints\\checkpoint_AlexNet\\assets\n"
     ]
    },
    {
     "name": "stdout",
     "output_type": "stream",
     "text": [
      "9/9 [==============================] - 12s 508ms/step - loss: 48.3859 - accuracy: 0.0574 - val_loss: 31.6303 - val_accuracy: 0.0461 - lr: 0.0010\n",
      "Epoch 2/100\n",
      "8/9 [=========================>....] - ETA: 0s - loss: 24.0907 - accuracy: 0.0828\n",
      "Epoch 2: val_loss improved from 31.63033 to 15.24096, saving model to ../../artifacts/checkpoints\\checkpoint_AlexNet\n"
     ]
    },
    {
     "name": "stderr",
     "output_type": "stream",
     "text": [
      "WARNING:absl:Found untraced functions such as _jit_compiled_convolution_op, _jit_compiled_convolution_op, _jit_compiled_convolution_op, _jit_compiled_convolution_op, _jit_compiled_convolution_op while saving (showing 5 of 5). These functions will not be directly callable after loading.\n"
     ]
    },
    {
     "name": "stdout",
     "output_type": "stream",
     "text": [
      "INFO:tensorflow:Assets written to: ../../artifacts/checkpoints\\checkpoint_AlexNet\\assets\n"
     ]
    },
    {
     "name": "stderr",
     "output_type": "stream",
     "text": [
      "INFO:tensorflow:Assets written to: ../../artifacts/checkpoints\\checkpoint_AlexNet\\assets\n"
     ]
    },
    {
     "name": "stdout",
     "output_type": "stream",
     "text": [
      "9/9 [==============================] - 3s 332ms/step - loss: 23.8806 - accuracy: 0.0837 - val_loss: 15.2410 - val_accuracy: 0.0553 - lr: 0.0010\n",
      "Epoch 3/100\n",
      "8/9 [=========================>....] - ETA: 0s - loss: 11.9589 - accuracy: 0.1080\n",
      "Epoch 3: val_loss improved from 15.24096 to 8.45038, saving model to ../../artifacts/checkpoints\\checkpoint_AlexNet\n"
     ]
    },
    {
     "name": "stderr",
     "output_type": "stream",
     "text": [
      "WARNING:absl:Found untraced functions such as _jit_compiled_convolution_op, _jit_compiled_convolution_op, _jit_compiled_convolution_op, _jit_compiled_convolution_op, _jit_compiled_convolution_op while saving (showing 5 of 5). These functions will not be directly callable after loading.\n"
     ]
    },
    {
     "name": "stdout",
     "output_type": "stream",
     "text": [
      "INFO:tensorflow:Assets written to: ../../artifacts/checkpoints\\checkpoint_AlexNet\\assets\n"
     ]
    },
    {
     "name": "stderr",
     "output_type": "stream",
     "text": [
      "INFO:tensorflow:Assets written to: ../../artifacts/checkpoints\\checkpoint_AlexNet\\assets\n"
     ]
    },
    {
     "name": "stdout",
     "output_type": "stream",
     "text": [
      "9/9 [==============================] - 3s 344ms/step - loss: 11.8733 - accuracy: 0.1085 - val_loss: 8.4504 - val_accuracy: 0.0829 - lr: 0.0010\n",
      "Epoch 4/100\n",
      "8/9 [=========================>....] - ETA: 0s - loss: 7.1469 - accuracy: 0.1140\n",
      "Epoch 4: val_loss improved from 8.45038 to 5.93681, saving model to ../../artifacts/checkpoints\\checkpoint_AlexNet\n"
     ]
    },
    {
     "name": "stderr",
     "output_type": "stream",
     "text": [
      "WARNING:absl:Found untraced functions such as _jit_compiled_convolution_op, _jit_compiled_convolution_op, _jit_compiled_convolution_op, _jit_compiled_convolution_op, _jit_compiled_convolution_op while saving (showing 5 of 5). These functions will not be directly callable after loading.\n"
     ]
    },
    {
     "name": "stdout",
     "output_type": "stream",
     "text": [
      "INFO:tensorflow:Assets written to: ../../artifacts/checkpoints\\checkpoint_AlexNet\\assets\n"
     ]
    },
    {
     "name": "stderr",
     "output_type": "stream",
     "text": [
      "INFO:tensorflow:Assets written to: ../../artifacts/checkpoints\\checkpoint_AlexNet\\assets\n"
     ]
    },
    {
     "name": "stdout",
     "output_type": "stream",
     "text": [
      "9/9 [==============================] - 3s 324ms/step - loss: 7.1144 - accuracy: 0.1136 - val_loss: 5.9368 - val_accuracy: 0.0599 - lr: 0.0010\n",
      "Epoch 5/100\n",
      "8/9 [=========================>....] - ETA: 0s - loss: 5.2648 - accuracy: 0.1157\n",
      "Epoch 5: val_loss improved from 5.93681 to 4.81145, saving model to ../../artifacts/checkpoints\\checkpoint_AlexNet\n"
     ]
    },
    {
     "name": "stderr",
     "output_type": "stream",
     "text": [
      "WARNING:absl:Found untraced functions such as _jit_compiled_convolution_op, _jit_compiled_convolution_op, _jit_compiled_convolution_op, _jit_compiled_convolution_op, _jit_compiled_convolution_op while saving (showing 5 of 5). These functions will not be directly callable after loading.\n"
     ]
    },
    {
     "name": "stdout",
     "output_type": "stream",
     "text": [
      "INFO:tensorflow:Assets written to: ../../artifacts/checkpoints\\checkpoint_AlexNet\\assets\n"
     ]
    },
    {
     "name": "stderr",
     "output_type": "stream",
     "text": [
      "INFO:tensorflow:Assets written to: ../../artifacts/checkpoints\\checkpoint_AlexNet\\assets\n"
     ]
    },
    {
     "name": "stdout",
     "output_type": "stream",
     "text": [
      "9/9 [==============================] - 3s 328ms/step - loss: 5.2488 - accuracy: 0.1155 - val_loss: 4.8115 - val_accuracy: 0.0599 - lr: 0.0010\n",
      "Epoch 6/100\n",
      "8/9 [=========================>....] - ETA: 0s - loss: 4.2937 - accuracy: 0.1293\n",
      "Epoch 6: val_loss improved from 4.81145 to 4.25026, saving model to ../../artifacts/checkpoints\\checkpoint_AlexNet\n"
     ]
    },
    {
     "name": "stderr",
     "output_type": "stream",
     "text": [
      "WARNING:absl:Found untraced functions such as _jit_compiled_convolution_op, _jit_compiled_convolution_op, _jit_compiled_convolution_op, _jit_compiled_convolution_op, _jit_compiled_convolution_op while saving (showing 5 of 5). These functions will not be directly callable after loading.\n"
     ]
    },
    {
     "name": "stdout",
     "output_type": "stream",
     "text": [
      "INFO:tensorflow:Assets written to: ../../artifacts/checkpoints\\checkpoint_AlexNet\\assets\n"
     ]
    },
    {
     "name": "stderr",
     "output_type": "stream",
     "text": [
      "INFO:tensorflow:Assets written to: ../../artifacts/checkpoints\\checkpoint_AlexNet\\assets\n"
     ]
    },
    {
     "name": "stdout",
     "output_type": "stream",
     "text": [
      "9/9 [==============================] - 3s 293ms/step - loss: 4.2846 - accuracy: 0.1309 - val_loss: 4.2503 - val_accuracy: 0.0369 - lr: 0.0010\n",
      "Epoch 7/100\n",
      "8/9 [=========================>....] - ETA: 0s - loss: 3.7617 - accuracy: 0.1462\n",
      "Epoch 7: val_loss improved from 4.25026 to 3.83651, saving model to ../../artifacts/checkpoints\\checkpoint_AlexNet\n"
     ]
    },
    {
     "name": "stderr",
     "output_type": "stream",
     "text": [
      "WARNING:absl:Found untraced functions such as _jit_compiled_convolution_op, _jit_compiled_convolution_op, _jit_compiled_convolution_op, _jit_compiled_convolution_op, _jit_compiled_convolution_op while saving (showing 5 of 5). These functions will not be directly callable after loading.\n"
     ]
    },
    {
     "name": "stdout",
     "output_type": "stream",
     "text": [
      "INFO:tensorflow:Assets written to: ../../artifacts/checkpoints\\checkpoint_AlexNet\\assets\n"
     ]
    },
    {
     "name": "stderr",
     "output_type": "stream",
     "text": [
      "INFO:tensorflow:Assets written to: ../../artifacts/checkpoints\\checkpoint_AlexNet\\assets\n"
     ]
    },
    {
     "name": "stdout",
     "output_type": "stream",
     "text": [
      "9/9 [==============================] - 3s 310ms/step - loss: 3.7567 - accuracy: 0.1459 - val_loss: 3.8365 - val_accuracy: 0.0737 - lr: 0.0010\n",
      "Epoch 8/100\n",
      "8/9 [=========================>....] - ETA: 0s - loss: 3.4137 - accuracy: 0.1605\n",
      "Epoch 8: val_loss improved from 3.83651 to 3.66244, saving model to ../../artifacts/checkpoints\\checkpoint_AlexNet\n"
     ]
    },
    {
     "name": "stderr",
     "output_type": "stream",
     "text": [
      "WARNING:absl:Found untraced functions such as _jit_compiled_convolution_op, _jit_compiled_convolution_op, _jit_compiled_convolution_op, _jit_compiled_convolution_op, _jit_compiled_convolution_op while saving (showing 5 of 5). These functions will not be directly callable after loading.\n"
     ]
    },
    {
     "name": "stdout",
     "output_type": "stream",
     "text": [
      "INFO:tensorflow:Assets written to: ../../artifacts/checkpoints\\checkpoint_AlexNet\\assets\n"
     ]
    },
    {
     "name": "stderr",
     "output_type": "stream",
     "text": [
      "INFO:tensorflow:Assets written to: ../../artifacts/checkpoints\\checkpoint_AlexNet\\assets\n"
     ]
    },
    {
     "name": "stdout",
     "output_type": "stream",
     "text": [
      "9/9 [==============================] - 2s 292ms/step - loss: 3.4130 - accuracy: 0.1613 - val_loss: 3.6624 - val_accuracy: 0.0507 - lr: 0.0010\n",
      "Epoch 9/100\n",
      "8/9 [=========================>....] - ETA: 0s - loss: 3.2065 - accuracy: 0.1813\n",
      "Epoch 9: val_loss improved from 3.66244 to 3.34719, saving model to ../../artifacts/checkpoints\\checkpoint_AlexNet\n"
     ]
    },
    {
     "name": "stderr",
     "output_type": "stream",
     "text": [
      "WARNING:absl:Found untraced functions such as _jit_compiled_convolution_op, _jit_compiled_convolution_op, _jit_compiled_convolution_op, _jit_compiled_convolution_op, _jit_compiled_convolution_op while saving (showing 5 of 5). These functions will not be directly callable after loading.\n"
     ]
    },
    {
     "name": "stdout",
     "output_type": "stream",
     "text": [
      "INFO:tensorflow:Assets written to: ../../artifacts/checkpoints\\checkpoint_AlexNet\\assets\n"
     ]
    },
    {
     "name": "stderr",
     "output_type": "stream",
     "text": [
      "INFO:tensorflow:Assets written to: ../../artifacts/checkpoints\\checkpoint_AlexNet\\assets\n"
     ]
    },
    {
     "name": "stdout",
     "output_type": "stream",
     "text": [
      "9/9 [==============================] - 3s 303ms/step - loss: 3.2062 - accuracy: 0.1810 - val_loss: 3.3472 - val_accuracy: 0.1244 - lr: 0.0010\n",
      "Epoch 10/100\n",
      "8/9 [=========================>....] - ETA: 0s - loss: 3.0909 - accuracy: 0.1922\n",
      "Epoch 10: val_loss improved from 3.34719 to 3.25555, saving model to ../../artifacts/checkpoints\\checkpoint_AlexNet\n"
     ]
    },
    {
     "name": "stderr",
     "output_type": "stream",
     "text": [
      "WARNING:absl:Found untraced functions such as _jit_compiled_convolution_op, _jit_compiled_convolution_op, _jit_compiled_convolution_op, _jit_compiled_convolution_op, _jit_compiled_convolution_op while saving (showing 5 of 5). These functions will not be directly callable after loading.\n"
     ]
    },
    {
     "name": "stdout",
     "output_type": "stream",
     "text": [
      "INFO:tensorflow:Assets written to: ../../artifacts/checkpoints\\checkpoint_AlexNet\\assets\n"
     ]
    },
    {
     "name": "stderr",
     "output_type": "stream",
     "text": [
      "INFO:tensorflow:Assets written to: ../../artifacts/checkpoints\\checkpoint_AlexNet\\assets\n"
     ]
    },
    {
     "name": "stdout",
     "output_type": "stream",
     "text": [
      "9/9 [==============================] - 3s 366ms/step - loss: 3.0890 - accuracy: 0.1934 - val_loss: 3.2555 - val_accuracy: 0.1567 - lr: 0.0010\n",
      "Epoch 11/100\n",
      "8/9 [=========================>....] - ETA: 0s - loss: 3.0441 - accuracy: 0.1943\n",
      "Epoch 11: val_loss did not improve from 3.25555\n",
      "9/9 [==============================] - 1s 147ms/step - loss: 3.0408 - accuracy: 0.1958 - val_loss: 3.2941 - val_accuracy: 0.1244 - lr: 0.0010\n",
      "Epoch 12/100\n",
      "8/9 [=========================>....] - ETA: 0s - loss: 2.9485 - accuracy: 0.2115\n",
      "Epoch 12: val_loss did not improve from 3.25555\n",
      "9/9 [==============================] - 1s 146ms/step - loss: 2.9490 - accuracy: 0.2102 - val_loss: 3.4206 - val_accuracy: 0.0829 - lr: 0.0010\n",
      "Epoch 13/100\n",
      "8/9 [=========================>....] - ETA: 0s - loss: 2.9243 - accuracy: 0.2105\n",
      "Epoch 13: val_loss improved from 3.25555 to 3.18647, saving model to ../../artifacts/checkpoints\\checkpoint_AlexNet\n"
     ]
    },
    {
     "name": "stderr",
     "output_type": "stream",
     "text": [
      "WARNING:absl:Found untraced functions such as _jit_compiled_convolution_op, _jit_compiled_convolution_op, _jit_compiled_convolution_op, _jit_compiled_convolution_op, _jit_compiled_convolution_op while saving (showing 5 of 5). These functions will not be directly callable after loading.\n"
     ]
    },
    {
     "name": "stdout",
     "output_type": "stream",
     "text": [
      "INFO:tensorflow:Assets written to: ../../artifacts/checkpoints\\checkpoint_AlexNet\\assets\n"
     ]
    },
    {
     "name": "stderr",
     "output_type": "stream",
     "text": [
      "INFO:tensorflow:Assets written to: ../../artifacts/checkpoints\\checkpoint_AlexNet\\assets\n"
     ]
    },
    {
     "name": "stdout",
     "output_type": "stream",
     "text": [
      "9/9 [==============================] - 3s 297ms/step - loss: 2.9224 - accuracy: 0.2114 - val_loss: 3.1865 - val_accuracy: 0.1705 - lr: 0.0010\n",
      "Epoch 14/100\n",
      "8/9 [=========================>....] - ETA: 0s - loss: 2.8262 - accuracy: 0.2333\n",
      "Epoch 14: val_loss did not improve from 3.18647\n",
      "9/9 [==============================] - 1s 146ms/step - loss: 2.8260 - accuracy: 0.2342 - val_loss: 3.3635 - val_accuracy: 0.1060 - lr: 0.0010\n",
      "Epoch 15/100\n",
      "8/9 [=========================>....] - ETA: 0s - loss: 2.8474 - accuracy: 0.2412\n",
      "Epoch 15: val_loss did not improve from 3.18647\n",
      "9/9 [==============================] - 1s 146ms/step - loss: 2.8416 - accuracy: 0.2425 - val_loss: 3.2924 - val_accuracy: 0.1382 - lr: 0.0010\n",
      "Epoch 16/100\n",
      "8/9 [=========================>....] - ETA: 0s - loss: 2.7439 - accuracy: 0.2592\n",
      "Epoch 16: val_loss improved from 3.18647 to 3.15184, saving model to ../../artifacts/checkpoints\\checkpoint_AlexNet\n"
     ]
    },
    {
     "name": "stderr",
     "output_type": "stream",
     "text": [
      "WARNING:absl:Found untraced functions such as _jit_compiled_convolution_op, _jit_compiled_convolution_op, _jit_compiled_convolution_op, _jit_compiled_convolution_op, _jit_compiled_convolution_op while saving (showing 5 of 5). These functions will not be directly callable after loading.\n"
     ]
    },
    {
     "name": "stdout",
     "output_type": "stream",
     "text": [
      "INFO:tensorflow:Assets written to: ../../artifacts/checkpoints\\checkpoint_AlexNet\\assets\n"
     ]
    },
    {
     "name": "stderr",
     "output_type": "stream",
     "text": [
      "INFO:tensorflow:Assets written to: ../../artifacts/checkpoints\\checkpoint_AlexNet\\assets\n"
     ]
    },
    {
     "name": "stdout",
     "output_type": "stream",
     "text": [
      "9/9 [==============================] - 3s 357ms/step - loss: 2.7436 - accuracy: 0.2583 - val_loss: 3.1518 - val_accuracy: 0.1336 - lr: 0.0010\n",
      "Epoch 17/100\n",
      "9/9 [==============================] - ETA: 0s - loss: 2.6748 - accuracy: 0.2824\n",
      "Epoch 17: val_loss improved from 3.15184 to 3.11507, saving model to ../../artifacts/checkpoints\\checkpoint_AlexNet\n"
     ]
    },
    {
     "name": "stderr",
     "output_type": "stream",
     "text": [
      "WARNING:absl:Found untraced functions such as _jit_compiled_convolution_op, _jit_compiled_convolution_op, _jit_compiled_convolution_op, _jit_compiled_convolution_op, _jit_compiled_convolution_op while saving (showing 5 of 5). These functions will not be directly callable after loading.\n"
     ]
    },
    {
     "name": "stdout",
     "output_type": "stream",
     "text": [
      "INFO:tensorflow:Assets written to: ../../artifacts/checkpoints\\checkpoint_AlexNet\\assets\n"
     ]
    },
    {
     "name": "stderr",
     "output_type": "stream",
     "text": [
      "INFO:tensorflow:Assets written to: ../../artifacts/checkpoints\\checkpoint_AlexNet\\assets\n"
     ]
    },
    {
     "name": "stdout",
     "output_type": "stream",
     "text": [
      "9/9 [==============================] - 6s 688ms/step - loss: 2.6748 - accuracy: 0.2824 - val_loss: 3.1151 - val_accuracy: 0.1751 - lr: 0.0010\n",
      "Epoch 18/100\n",
      "9/9 [==============================] - ETA: 0s - loss: 2.6501 - accuracy: 0.2953\n",
      "Epoch 18: val_loss did not improve from 3.11507\n",
      "9/9 [==============================] - 2s 198ms/step - loss: 2.6501 - accuracy: 0.2953 - val_loss: 3.2207 - val_accuracy: 0.1106 - lr: 0.0010\n",
      "Epoch 19/100\n",
      "8/9 [=========================>....] - ETA: 0s - loss: 2.5966 - accuracy: 0.3173\n",
      "Epoch 19: val_loss did not improve from 3.11507\n",
      "9/9 [==============================] - 2s 195ms/step - loss: 2.5995 - accuracy: 0.3145 - val_loss: 3.2728 - val_accuracy: 0.1567 - lr: 0.0010\n",
      "Epoch 20/100\n",
      "8/9 [=========================>....] - ETA: 0s - loss: 2.5297 - accuracy: 0.3365\n",
      "Epoch 20: val_loss did not improve from 3.11507\n",
      "9/9 [==============================] - 2s 196ms/step - loss: 2.5269 - accuracy: 0.3369 - val_loss: 3.5445 - val_accuracy: 0.1336 - lr: 0.0010\n",
      "Epoch 21/100\n",
      "8/9 [=========================>....] - ETA: 0s - loss: 2.4106 - accuracy: 0.3670\n",
      "Epoch 21: val_loss did not improve from 3.11507\n",
      "9/9 [==============================] - 2s 165ms/step - loss: 2.4073 - accuracy: 0.3685 - val_loss: 3.1510 - val_accuracy: 0.1475 - lr: 5.0000e-04\n",
      "Epoch 22/100\n",
      "8/9 [=========================>....] - ETA: 0s - loss: 2.2831 - accuracy: 0.3925\n",
      "Epoch 22: val_loss did not improve from 3.11507\n",
      "9/9 [==============================] - 1s 144ms/step - loss: 2.2801 - accuracy: 0.3931 - val_loss: 3.3189 - val_accuracy: 0.1843 - lr: 5.0000e-04\n",
      "Epoch 23/100\n",
      "8/9 [=========================>....] - ETA: 0s - loss: 2.1507 - accuracy: 0.4290\n",
      "Epoch 23: val_loss did not improve from 3.11507\n",
      "9/9 [==============================] - 1s 141ms/step - loss: 2.1553 - accuracy: 0.4269 - val_loss: 3.3648 - val_accuracy: 0.1336 - lr: 5.0000e-04\n",
      "Epoch 24/100\n",
      "8/9 [=========================>....] - ETA: 0s - loss: 2.0713 - accuracy: 0.4460\n",
      "Epoch 24: val_loss did not improve from 3.11507\n",
      "9/9 [==============================] - 1s 145ms/step - loss: 2.0728 - accuracy: 0.4464 - val_loss: 3.1631 - val_accuracy: 0.1935 - lr: 2.5000e-04\n",
      "Epoch 25/100\n",
      "8/9 [=========================>....] - ETA: 0s - loss: 1.9764 - accuracy: 0.4688\n",
      "Epoch 25: val_loss did not improve from 3.11507\n",
      "9/9 [==============================] - 1s 143ms/step - loss: 1.9762 - accuracy: 0.4685 - val_loss: 3.2584 - val_accuracy: 0.1889 - lr: 2.5000e-04\n",
      "Epoch 26/100\n",
      "8/9 [=========================>....] - ETA: 0s - loss: 1.8933 - accuracy: 0.4927\n",
      "Epoch 26: val_loss did not improve from 3.11507\n",
      "9/9 [==============================] - 1s 142ms/step - loss: 1.8910 - accuracy: 0.4936 - val_loss: 3.7236 - val_accuracy: 0.1567 - lr: 2.5000e-04\n",
      "Epoch 27/100\n",
      "8/9 [=========================>....] - ETA: 0s - loss: 1.7881 - accuracy: 0.5315\n",
      "Epoch 27: val_loss did not improve from 3.11507\n",
      "9/9 [==============================] - 1s 140ms/step - loss: 1.7892 - accuracy: 0.5291 - val_loss: 3.4178 - val_accuracy: 0.1797 - lr: 1.2500e-04\n",
      "Epoch 28/100\n",
      "8/9 [=========================>....] - ETA: 0s - loss: 1.7312 - accuracy: 0.5353\n",
      "Epoch 28: val_loss did not improve from 3.11507\n",
      "9/9 [==============================] - 1s 141ms/step - loss: 1.7309 - accuracy: 0.5354 - val_loss: 3.2975 - val_accuracy: 0.1843 - lr: 1.2500e-04\n",
      "Epoch 29/100\n",
      "8/9 [=========================>....] - ETA: 0s - loss: 1.6652 - accuracy: 0.5663\n",
      "Epoch 29: val_loss did not improve from 3.11507\n",
      "9/9 [==============================] - 1s 142ms/step - loss: 1.6647 - accuracy: 0.5673 - val_loss: 3.2381 - val_accuracy: 0.1935 - lr: 1.2500e-04\n",
      "Epoch 30/100\n",
      "8/9 [=========================>....] - ETA: 0s - loss: 1.6148 - accuracy: 0.5773\n",
      "Epoch 30: val_loss did not improve from 3.11507\n",
      "9/9 [==============================] - 1s 146ms/step - loss: 1.6176 - accuracy: 0.5765 - val_loss: 3.2475 - val_accuracy: 0.2028 - lr: 6.2500e-05\n",
      "Epoch 31/100\n",
      "8/9 [=========================>....] - ETA: 0s - loss: 1.6002 - accuracy: 0.5763\n",
      "Epoch 31: val_loss did not improve from 3.11507\n",
      "9/9 [==============================] - 1s 144ms/step - loss: 1.5930 - accuracy: 0.5794 - val_loss: 3.2893 - val_accuracy: 0.1982 - lr: 6.2500e-05\n",
      "Epoch 32/100\n",
      "8/9 [=========================>....] - ETA: 0s - loss: 1.5629 - accuracy: 0.5880\n",
      "Epoch 32: val_loss did not improve from 3.11507\n",
      "9/9 [==============================] - 1s 147ms/step - loss: 1.5618 - accuracy: 0.5896 - val_loss: 3.2045 - val_accuracy: 0.2350 - lr: 6.2500e-05\n",
      "Epoch 33/100\n",
      "8/9 [=========================>....] - ETA: 0s - loss: 1.5377 - accuracy: 0.5990\n",
      "Epoch 33: val_loss did not improve from 3.11507\n",
      "9/9 [==============================] - 1s 148ms/step - loss: 1.5359 - accuracy: 0.5996 - val_loss: 3.2127 - val_accuracy: 0.2258 - lr: 3.1250e-05\n",
      "Epoch 34/100\n",
      "8/9 [=========================>....] - ETA: 0s - loss: 1.5209 - accuracy: 0.6037\n",
      "Epoch 34: val_loss improved from 3.11507 to 3.09100, saving model to ../../artifacts/checkpoints\\checkpoint_AlexNet\n"
     ]
    },
    {
     "name": "stderr",
     "output_type": "stream",
     "text": [
      "WARNING:absl:Found untraced functions such as _jit_compiled_convolution_op, _jit_compiled_convolution_op, _jit_compiled_convolution_op, _jit_compiled_convolution_op, _jit_compiled_convolution_op while saving (showing 5 of 5). These functions will not be directly callable after loading.\n"
     ]
    },
    {
     "name": "stdout",
     "output_type": "stream",
     "text": [
      "INFO:tensorflow:Assets written to: ../../artifacts/checkpoints\\checkpoint_AlexNet\\assets\n"
     ]
    },
    {
     "name": "stderr",
     "output_type": "stream",
     "text": [
      "INFO:tensorflow:Assets written to: ../../artifacts/checkpoints\\checkpoint_AlexNet\\assets\n"
     ]
    },
    {
     "name": "stdout",
     "output_type": "stream",
     "text": [
      "9/9 [==============================] - 3s 308ms/step - loss: 1.5226 - accuracy: 0.6025 - val_loss: 3.0910 - val_accuracy: 0.2673 - lr: 3.1250e-05\n",
      "Epoch 35/100\n",
      "8/9 [=========================>....] - ETA: 0s - loss: 1.5172 - accuracy: 0.6003\n",
      "Epoch 35: val_loss improved from 3.09100 to 3.03375, saving model to ../../artifacts/checkpoints\\checkpoint_AlexNet\n"
     ]
    },
    {
     "name": "stderr",
     "output_type": "stream",
     "text": [
      "WARNING:absl:Found untraced functions such as _jit_compiled_convolution_op, _jit_compiled_convolution_op, _jit_compiled_convolution_op, _jit_compiled_convolution_op, _jit_compiled_convolution_op while saving (showing 5 of 5). These functions will not be directly callable after loading.\n"
     ]
    },
    {
     "name": "stdout",
     "output_type": "stream",
     "text": [
      "INFO:tensorflow:Assets written to: ../../artifacts/checkpoints\\checkpoint_AlexNet\\assets\n"
     ]
    },
    {
     "name": "stderr",
     "output_type": "stream",
     "text": [
      "INFO:tensorflow:Assets written to: ../../artifacts/checkpoints\\checkpoint_AlexNet\\assets\n"
     ]
    },
    {
     "name": "stdout",
     "output_type": "stream",
     "text": [
      "9/9 [==============================] - 2s 292ms/step - loss: 1.5115 - accuracy: 0.6020 - val_loss: 3.0338 - val_accuracy: 0.2719 - lr: 3.1250e-05\n",
      "Epoch 36/100\n",
      "8/9 [=========================>....] - ETA: 0s - loss: 1.5024 - accuracy: 0.6020\n",
      "Epoch 36: val_loss did not improve from 3.03375\n",
      "9/9 [==============================] - 1s 146ms/step - loss: 1.5055 - accuracy: 0.6001 - val_loss: 3.0524 - val_accuracy: 0.2627 - lr: 3.1250e-05\n",
      "Epoch 37/100\n",
      "8/9 [=========================>....] - ETA: 0s - loss: 1.4904 - accuracy: 0.6070\n",
      "Epoch 37: val_loss improved from 3.03375 to 2.96426, saving model to ../../artifacts/checkpoints\\checkpoint_AlexNet\n"
     ]
    },
    {
     "name": "stderr",
     "output_type": "stream",
     "text": [
      "WARNING:absl:Found untraced functions such as _jit_compiled_convolution_op, _jit_compiled_convolution_op, _jit_compiled_convolution_op, _jit_compiled_convolution_op, _jit_compiled_convolution_op while saving (showing 5 of 5). These functions will not be directly callable after loading.\n"
     ]
    },
    {
     "name": "stdout",
     "output_type": "stream",
     "text": [
      "INFO:tensorflow:Assets written to: ../../artifacts/checkpoints\\checkpoint_AlexNet\\assets\n"
     ]
    },
    {
     "name": "stderr",
     "output_type": "stream",
     "text": [
      "INFO:tensorflow:Assets written to: ../../artifacts/checkpoints\\checkpoint_AlexNet\\assets\n"
     ]
    },
    {
     "name": "stdout",
     "output_type": "stream",
     "text": [
      "9/9 [==============================] - 3s 305ms/step - loss: 1.4908 - accuracy: 0.6067 - val_loss: 2.9643 - val_accuracy: 0.2903 - lr: 3.1250e-05\n",
      "Epoch 38/100\n",
      "8/9 [=========================>....] - ETA: 0s - loss: 1.4746 - accuracy: 0.6158\n",
      "Epoch 38: val_loss did not improve from 2.96426\n",
      "9/9 [==============================] - 1s 156ms/step - loss: 1.4707 - accuracy: 0.6162 - val_loss: 2.9740 - val_accuracy: 0.2627 - lr: 3.1250e-05\n",
      "Epoch 39/100\n",
      "8/9 [=========================>....] - ETA: 0s - loss: 1.4537 - accuracy: 0.6277\n",
      "Epoch 39: val_loss improved from 2.96426 to 2.91164, saving model to ../../artifacts/checkpoints\\checkpoint_AlexNet\n"
     ]
    },
    {
     "name": "stderr",
     "output_type": "stream",
     "text": [
      "WARNING:absl:Found untraced functions such as _jit_compiled_convolution_op, _jit_compiled_convolution_op, _jit_compiled_convolution_op, _jit_compiled_convolution_op, _jit_compiled_convolution_op while saving (showing 5 of 5). These functions will not be directly callable after loading.\n"
     ]
    },
    {
     "name": "stdout",
     "output_type": "stream",
     "text": [
      "INFO:tensorflow:Assets written to: ../../artifacts/checkpoints\\checkpoint_AlexNet\\assets\n"
     ]
    },
    {
     "name": "stderr",
     "output_type": "stream",
     "text": [
      "INFO:tensorflow:Assets written to: ../../artifacts/checkpoints\\checkpoint_AlexNet\\assets\n"
     ]
    },
    {
     "name": "stdout",
     "output_type": "stream",
     "text": [
      "9/9 [==============================] - 2s 292ms/step - loss: 1.4585 - accuracy: 0.6271 - val_loss: 2.9116 - val_accuracy: 0.2857 - lr: 3.1250e-05\n",
      "Epoch 40/100\n",
      "8/9 [=========================>....] - ETA: 0s - loss: 1.4370 - accuracy: 0.6267\n",
      "Epoch 40: val_loss improved from 2.91164 to 2.90808, saving model to ../../artifacts/checkpoints\\checkpoint_AlexNet\n"
     ]
    },
    {
     "name": "stderr",
     "output_type": "stream",
     "text": [
      "WARNING:absl:Found untraced functions such as _jit_compiled_convolution_op, _jit_compiled_convolution_op, _jit_compiled_convolution_op, _jit_compiled_convolution_op, _jit_compiled_convolution_op while saving (showing 5 of 5). These functions will not be directly callable after loading.\n"
     ]
    },
    {
     "name": "stdout",
     "output_type": "stream",
     "text": [
      "INFO:tensorflow:Assets written to: ../../artifacts/checkpoints\\checkpoint_AlexNet\\assets\n"
     ]
    },
    {
     "name": "stderr",
     "output_type": "stream",
     "text": [
      "INFO:tensorflow:Assets written to: ../../artifacts/checkpoints\\checkpoint_AlexNet\\assets\n"
     ]
    },
    {
     "name": "stdout",
     "output_type": "stream",
     "text": [
      "9/9 [==============================] - 3s 311ms/step - loss: 1.4398 - accuracy: 0.6261 - val_loss: 2.9081 - val_accuracy: 0.2673 - lr: 3.1250e-05\n",
      "Epoch 41/100\n",
      "8/9 [=========================>....] - ETA: 0s - loss: 1.4235 - accuracy: 0.6277\n",
      "Epoch 41: val_loss improved from 2.90808 to 2.87007, saving model to ../../artifacts/checkpoints\\checkpoint_AlexNet\n"
     ]
    },
    {
     "name": "stderr",
     "output_type": "stream",
     "text": [
      "WARNING:absl:Found untraced functions such as _jit_compiled_convolution_op, _jit_compiled_convolution_op, _jit_compiled_convolution_op, _jit_compiled_convolution_op, _jit_compiled_convolution_op while saving (showing 5 of 5). These functions will not be directly callable after loading.\n"
     ]
    },
    {
     "name": "stdout",
     "output_type": "stream",
     "text": [
      "INFO:tensorflow:Assets written to: ../../artifacts/checkpoints\\checkpoint_AlexNet\\assets\n"
     ]
    },
    {
     "name": "stderr",
     "output_type": "stream",
     "text": [
      "INFO:tensorflow:Assets written to: ../../artifacts/checkpoints\\checkpoint_AlexNet\\assets\n"
     ]
    },
    {
     "name": "stdout",
     "output_type": "stream",
     "text": [
      "9/9 [==============================] - 3s 295ms/step - loss: 1.4237 - accuracy: 0.6281 - val_loss: 2.8701 - val_accuracy: 0.2627 - lr: 3.1250e-05\n",
      "Epoch 42/100\n",
      "8/9 [=========================>....] - ETA: 0s - loss: 1.4189 - accuracy: 0.6340\n",
      "Epoch 42: val_loss improved from 2.87007 to 2.79310, saving model to ../../artifacts/checkpoints\\checkpoint_AlexNet\n"
     ]
    },
    {
     "name": "stderr",
     "output_type": "stream",
     "text": [
      "WARNING:absl:Found untraced functions such as _jit_compiled_convolution_op, _jit_compiled_convolution_op, _jit_compiled_convolution_op, _jit_compiled_convolution_op, _jit_compiled_convolution_op while saving (showing 5 of 5). These functions will not be directly callable after loading.\n"
     ]
    },
    {
     "name": "stdout",
     "output_type": "stream",
     "text": [
      "INFO:tensorflow:Assets written to: ../../artifacts/checkpoints\\checkpoint_AlexNet\\assets\n"
     ]
    },
    {
     "name": "stderr",
     "output_type": "stream",
     "text": [
      "INFO:tensorflow:Assets written to: ../../artifacts/checkpoints\\checkpoint_AlexNet\\assets\n"
     ]
    },
    {
     "name": "stdout",
     "output_type": "stream",
     "text": [
      "9/9 [==============================] - 3s 302ms/step - loss: 1.4174 - accuracy: 0.6351 - val_loss: 2.7931 - val_accuracy: 0.3041 - lr: 3.1250e-05\n",
      "Epoch 43/100\n",
      "8/9 [=========================>....] - ETA: 0s - loss: 1.4194 - accuracy: 0.6258\n",
      "Epoch 43: val_loss did not improve from 2.79310\n",
      "9/9 [==============================] - 1s 154ms/step - loss: 1.4189 - accuracy: 0.6264 - val_loss: 2.8543 - val_accuracy: 0.2903 - lr: 3.1250e-05\n",
      "Epoch 44/100\n",
      "8/9 [=========================>....] - ETA: 0s - loss: 1.3961 - accuracy: 0.6447\n",
      "Epoch 44: val_loss improved from 2.79310 to 2.69025, saving model to ../../artifacts/checkpoints\\checkpoint_AlexNet\n"
     ]
    },
    {
     "name": "stderr",
     "output_type": "stream",
     "text": [
      "WARNING:absl:Found untraced functions such as _jit_compiled_convolution_op, _jit_compiled_convolution_op, _jit_compiled_convolution_op, _jit_compiled_convolution_op, _jit_compiled_convolution_op while saving (showing 5 of 5). These functions will not be directly callable after loading.\n"
     ]
    },
    {
     "name": "stdout",
     "output_type": "stream",
     "text": [
      "INFO:tensorflow:Assets written to: ../../artifacts/checkpoints\\checkpoint_AlexNet\\assets\n"
     ]
    },
    {
     "name": "stderr",
     "output_type": "stream",
     "text": [
      "INFO:tensorflow:Assets written to: ../../artifacts/checkpoints\\checkpoint_AlexNet\\assets\n"
     ]
    },
    {
     "name": "stdout",
     "output_type": "stream",
     "text": [
      "9/9 [==============================] - 3s 304ms/step - loss: 1.3982 - accuracy: 0.6436 - val_loss: 2.6902 - val_accuracy: 0.3041 - lr: 3.1250e-05\n",
      "Epoch 45/100\n",
      "8/9 [=========================>....] - ETA: 0s - loss: 1.3932 - accuracy: 0.6363\n",
      "Epoch 45: val_loss did not improve from 2.69025\n",
      "9/9 [==============================] - 1s 146ms/step - loss: 1.3885 - accuracy: 0.6371 - val_loss: 2.8138 - val_accuracy: 0.2949 - lr: 3.1250e-05\n",
      "Epoch 46/100\n",
      "8/9 [=========================>....] - ETA: 0s - loss: 1.3628 - accuracy: 0.6507\n",
      "Epoch 46: val_loss did not improve from 2.69025\n",
      "9/9 [==============================] - 1s 147ms/step - loss: 1.3678 - accuracy: 0.6475 - val_loss: 2.7046 - val_accuracy: 0.3088 - lr: 3.1250e-05\n",
      "Epoch 47/100\n",
      "8/9 [=========================>....] - ETA: 0s - loss: 1.3547 - accuracy: 0.6555\n",
      "Epoch 47: val_loss did not improve from 2.69025\n",
      "9/9 [==============================] - 1s 147ms/step - loss: 1.3558 - accuracy: 0.6541 - val_loss: 2.6958 - val_accuracy: 0.3180 - lr: 3.1250e-05\n",
      "Epoch 48/100\n",
      "8/9 [=========================>....] - ETA: 0s - loss: 1.3458 - accuracy: 0.6525\n",
      "Epoch 48: val_loss did not improve from 2.69025\n",
      "9/9 [==============================] - 1s 147ms/step - loss: 1.3407 - accuracy: 0.6548 - val_loss: 2.7048 - val_accuracy: 0.3134 - lr: 1.5625e-05\n",
      "Epoch 49/100\n",
      "8/9 [=========================>....] - ETA: 0s - loss: 1.3308 - accuracy: 0.6597\n",
      "Epoch 49: val_loss did not improve from 2.69025\n",
      "9/9 [==============================] - 1s 149ms/step - loss: 1.3303 - accuracy: 0.6609 - val_loss: 2.7170 - val_accuracy: 0.3088 - lr: 1.5625e-05\n",
      "Epoch 50/100\n",
      "8/9 [=========================>....] - ETA: 0s - loss: 1.3374 - accuracy: 0.6610\n",
      "Epoch 50: val_loss improved from 2.69025 to 2.63798, saving model to ../../artifacts/checkpoints\\checkpoint_AlexNet\n"
     ]
    },
    {
     "name": "stderr",
     "output_type": "stream",
     "text": [
      "WARNING:absl:Found untraced functions such as _jit_compiled_convolution_op, _jit_compiled_convolution_op, _jit_compiled_convolution_op, _jit_compiled_convolution_op, _jit_compiled_convolution_op while saving (showing 5 of 5). These functions will not be directly callable after loading.\n"
     ]
    },
    {
     "name": "stdout",
     "output_type": "stream",
     "text": [
      "INFO:tensorflow:Assets written to: ../../artifacts/checkpoints\\checkpoint_AlexNet\\assets\n"
     ]
    },
    {
     "name": "stderr",
     "output_type": "stream",
     "text": [
      "INFO:tensorflow:Assets written to: ../../artifacts/checkpoints\\checkpoint_AlexNet\\assets\n"
     ]
    },
    {
     "name": "stdout",
     "output_type": "stream",
     "text": [
      "9/9 [==============================] - 3s 297ms/step - loss: 1.3364 - accuracy: 0.6599 - val_loss: 2.6380 - val_accuracy: 0.3180 - lr: 1.5625e-05\n",
      "Epoch 51/100\n",
      "8/9 [=========================>....] - ETA: 0s - loss: 1.3247 - accuracy: 0.6625\n",
      "Epoch 51: val_loss improved from 2.63798 to 2.61085, saving model to ../../artifacts/checkpoints\\checkpoint_AlexNet\n"
     ]
    },
    {
     "name": "stderr",
     "output_type": "stream",
     "text": [
      "WARNING:absl:Found untraced functions such as _jit_compiled_convolution_op, _jit_compiled_convolution_op, _jit_compiled_convolution_op, _jit_compiled_convolution_op, _jit_compiled_convolution_op while saving (showing 5 of 5). These functions will not be directly callable after loading.\n"
     ]
    },
    {
     "name": "stdout",
     "output_type": "stream",
     "text": [
      "INFO:tensorflow:Assets written to: ../../artifacts/checkpoints\\checkpoint_AlexNet\\assets\n"
     ]
    },
    {
     "name": "stderr",
     "output_type": "stream",
     "text": [
      "INFO:tensorflow:Assets written to: ../../artifacts/checkpoints\\checkpoint_AlexNet\\assets\n"
     ]
    },
    {
     "name": "stdout",
     "output_type": "stream",
     "text": [
      "9/9 [==============================] - 3s 310ms/step - loss: 1.3262 - accuracy: 0.6612 - val_loss: 2.6108 - val_accuracy: 0.3318 - lr: 1.5625e-05\n",
      "Epoch 52/100\n",
      "8/9 [=========================>....] - ETA: 0s - loss: 1.3096 - accuracy: 0.6628\n",
      "Epoch 52: val_loss improved from 2.61085 to 2.60379, saving model to ../../artifacts/checkpoints\\checkpoint_AlexNet\n"
     ]
    },
    {
     "name": "stderr",
     "output_type": "stream",
     "text": [
      "WARNING:absl:Found untraced functions such as _jit_compiled_convolution_op, _jit_compiled_convolution_op, _jit_compiled_convolution_op, _jit_compiled_convolution_op, _jit_compiled_convolution_op while saving (showing 5 of 5). These functions will not be directly callable after loading.\n"
     ]
    },
    {
     "name": "stdout",
     "output_type": "stream",
     "text": [
      "INFO:tensorflow:Assets written to: ../../artifacts/checkpoints\\checkpoint_AlexNet\\assets\n"
     ]
    },
    {
     "name": "stderr",
     "output_type": "stream",
     "text": [
      "INFO:tensorflow:Assets written to: ../../artifacts/checkpoints\\checkpoint_AlexNet\\assets\n"
     ]
    },
    {
     "name": "stdout",
     "output_type": "stream",
     "text": [
      "9/9 [==============================] - 3s 292ms/step - loss: 1.3091 - accuracy: 0.6626 - val_loss: 2.6038 - val_accuracy: 0.3364 - lr: 1.5625e-05\n",
      "Epoch 53/100\n",
      "8/9 [=========================>....] - ETA: 0s - loss: 1.3105 - accuracy: 0.6735\n",
      "Epoch 53: val_loss improved from 2.60379 to 2.58150, saving model to ../../artifacts/checkpoints\\checkpoint_AlexNet\n"
     ]
    },
    {
     "name": "stderr",
     "output_type": "stream",
     "text": [
      "WARNING:absl:Found untraced functions such as _jit_compiled_convolution_op, _jit_compiled_convolution_op, _jit_compiled_convolution_op, _jit_compiled_convolution_op, _jit_compiled_convolution_op while saving (showing 5 of 5). These functions will not be directly callable after loading.\n"
     ]
    },
    {
     "name": "stdout",
     "output_type": "stream",
     "text": [
      "INFO:tensorflow:Assets written to: ../../artifacts/checkpoints\\checkpoint_AlexNet\\assets\n"
     ]
    },
    {
     "name": "stderr",
     "output_type": "stream",
     "text": [
      "INFO:tensorflow:Assets written to: ../../artifacts/checkpoints\\checkpoint_AlexNet\\assets\n"
     ]
    },
    {
     "name": "stdout",
     "output_type": "stream",
     "text": [
      "9/9 [==============================] - 3s 306ms/step - loss: 1.3094 - accuracy: 0.6736 - val_loss: 2.5815 - val_accuracy: 0.3548 - lr: 1.5625e-05\n",
      "Epoch 54/100\n",
      "8/9 [=========================>....] - ETA: 0s - loss: 1.3009 - accuracy: 0.6755\n",
      "Epoch 54: val_loss improved from 2.58150 to 2.57378, saving model to ../../artifacts/checkpoints\\checkpoint_AlexNet\n"
     ]
    },
    {
     "name": "stderr",
     "output_type": "stream",
     "text": [
      "WARNING:absl:Found untraced functions such as _jit_compiled_convolution_op, _jit_compiled_convolution_op, _jit_compiled_convolution_op, _jit_compiled_convolution_op, _jit_compiled_convolution_op while saving (showing 5 of 5). These functions will not be directly callable after loading.\n"
     ]
    },
    {
     "name": "stdout",
     "output_type": "stream",
     "text": [
      "INFO:tensorflow:Assets written to: ../../artifacts/checkpoints\\checkpoint_AlexNet\\assets\n"
     ]
    },
    {
     "name": "stderr",
     "output_type": "stream",
     "text": [
      "INFO:tensorflow:Assets written to: ../../artifacts/checkpoints\\checkpoint_AlexNet\\assets\n"
     ]
    },
    {
     "name": "stdout",
     "output_type": "stream",
     "text": [
      "9/9 [==============================] - 2s 292ms/step - loss: 1.3043 - accuracy: 0.6733 - val_loss: 2.5738 - val_accuracy: 0.3502 - lr: 1.5625e-05\n",
      "Epoch 55/100\n",
      "8/9 [=========================>....] - ETA: 0s - loss: 1.2817 - accuracy: 0.6810\n",
      "Epoch 55: val_loss did not improve from 2.57378\n",
      "9/9 [==============================] - 1s 146ms/step - loss: 1.2845 - accuracy: 0.6801 - val_loss: 2.5769 - val_accuracy: 0.3594 - lr: 1.5625e-05\n",
      "Epoch 56/100\n",
      "8/9 [=========================>....] - ETA: 0s - loss: 1.2958 - accuracy: 0.6725\n",
      "Epoch 56: val_loss improved from 2.57378 to 2.54813, saving model to ../../artifacts/checkpoints\\checkpoint_AlexNet\n"
     ]
    },
    {
     "name": "stderr",
     "output_type": "stream",
     "text": [
      "WARNING:absl:Found untraced functions such as _jit_compiled_convolution_op, _jit_compiled_convolution_op, _jit_compiled_convolution_op, _jit_compiled_convolution_op, _jit_compiled_convolution_op while saving (showing 5 of 5). These functions will not be directly callable after loading.\n"
     ]
    },
    {
     "name": "stdout",
     "output_type": "stream",
     "text": [
      "INFO:tensorflow:Assets written to: ../../artifacts/checkpoints\\checkpoint_AlexNet\\assets\n"
     ]
    },
    {
     "name": "stderr",
     "output_type": "stream",
     "text": [
      "INFO:tensorflow:Assets written to: ../../artifacts/checkpoints\\checkpoint_AlexNet\\assets\n"
     ]
    },
    {
     "name": "stdout",
     "output_type": "stream",
     "text": [
      "9/9 [==============================] - 2s 291ms/step - loss: 1.2969 - accuracy: 0.6733 - val_loss: 2.5481 - val_accuracy: 0.3779 - lr: 1.5625e-05\n",
      "Epoch 57/100\n",
      "8/9 [=========================>....] - ETA: 0s - loss: 1.2709 - accuracy: 0.6817\n",
      "Epoch 57: val_loss improved from 2.54813 to 2.53743, saving model to ../../artifacts/checkpoints\\checkpoint_AlexNet\n"
     ]
    },
    {
     "name": "stderr",
     "output_type": "stream",
     "text": [
      "WARNING:absl:Found untraced functions such as _jit_compiled_convolution_op, _jit_compiled_convolution_op, _jit_compiled_convolution_op, _jit_compiled_convolution_op, _jit_compiled_convolution_op while saving (showing 5 of 5). These functions will not be directly callable after loading.\n"
     ]
    },
    {
     "name": "stdout",
     "output_type": "stream",
     "text": [
      "INFO:tensorflow:Assets written to: ../../artifacts/checkpoints\\checkpoint_AlexNet\\assets\n"
     ]
    },
    {
     "name": "stderr",
     "output_type": "stream",
     "text": [
      "INFO:tensorflow:Assets written to: ../../artifacts/checkpoints\\checkpoint_AlexNet\\assets\n"
     ]
    },
    {
     "name": "stdout",
     "output_type": "stream",
     "text": [
      "9/9 [==============================] - 3s 306ms/step - loss: 1.2734 - accuracy: 0.6816 - val_loss: 2.5374 - val_accuracy: 0.3825 - lr: 1.5625e-05\n",
      "Epoch 58/100\n",
      "8/9 [=========================>....] - ETA: 0s - loss: 1.2861 - accuracy: 0.6750\n",
      "Epoch 58: val_loss improved from 2.53743 to 2.52820, saving model to ../../artifacts/checkpoints\\checkpoint_AlexNet\n"
     ]
    },
    {
     "name": "stderr",
     "output_type": "stream",
     "text": [
      "WARNING:absl:Found untraced functions such as _jit_compiled_convolution_op, _jit_compiled_convolution_op, _jit_compiled_convolution_op, _jit_compiled_convolution_op, _jit_compiled_convolution_op while saving (showing 5 of 5). These functions will not be directly callable after loading.\n"
     ]
    },
    {
     "name": "stdout",
     "output_type": "stream",
     "text": [
      "INFO:tensorflow:Assets written to: ../../artifacts/checkpoints\\checkpoint_AlexNet\\assets\n"
     ]
    },
    {
     "name": "stderr",
     "output_type": "stream",
     "text": [
      "INFO:tensorflow:Assets written to: ../../artifacts/checkpoints\\checkpoint_AlexNet\\assets\n"
     ]
    },
    {
     "name": "stdout",
     "output_type": "stream",
     "text": [
      "9/9 [==============================] - 2s 292ms/step - loss: 1.2838 - accuracy: 0.6760 - val_loss: 2.5282 - val_accuracy: 0.3641 - lr: 1.5625e-05\n",
      "Epoch 59/100\n",
      "8/9 [=========================>....] - ETA: 0s - loss: 1.2795 - accuracy: 0.6802\n",
      "Epoch 59: val_loss improved from 2.52820 to 2.52542, saving model to ../../artifacts/checkpoints\\checkpoint_AlexNet\n"
     ]
    },
    {
     "name": "stderr",
     "output_type": "stream",
     "text": [
      "WARNING:absl:Found untraced functions such as _jit_compiled_convolution_op, _jit_compiled_convolution_op, _jit_compiled_convolution_op, _jit_compiled_convolution_op, _jit_compiled_convolution_op while saving (showing 5 of 5). These functions will not be directly callable after loading.\n"
     ]
    },
    {
     "name": "stdout",
     "output_type": "stream",
     "text": [
      "INFO:tensorflow:Assets written to: ../../artifacts/checkpoints\\checkpoint_AlexNet\\assets\n"
     ]
    },
    {
     "name": "stderr",
     "output_type": "stream",
     "text": [
      "INFO:tensorflow:Assets written to: ../../artifacts/checkpoints\\checkpoint_AlexNet\\assets\n"
     ]
    },
    {
     "name": "stdout",
     "output_type": "stream",
     "text": [
      "9/9 [==============================] - 3s 301ms/step - loss: 1.2781 - accuracy: 0.6811 - val_loss: 2.5254 - val_accuracy: 0.3687 - lr: 1.5625e-05\n",
      "Epoch 60/100\n",
      "8/9 [=========================>....] - ETA: 0s - loss: 1.2622 - accuracy: 0.6880\n",
      "Epoch 60: val_loss improved from 2.52542 to 2.49045, saving model to ../../artifacts/checkpoints\\checkpoint_AlexNet\n"
     ]
    },
    {
     "name": "stderr",
     "output_type": "stream",
     "text": [
      "WARNING:absl:Found untraced functions such as _jit_compiled_convolution_op, _jit_compiled_convolution_op, _jit_compiled_convolution_op, _jit_compiled_convolution_op, _jit_compiled_convolution_op while saving (showing 5 of 5). These functions will not be directly callable after loading.\n"
     ]
    },
    {
     "name": "stdout",
     "output_type": "stream",
     "text": [
      "INFO:tensorflow:Assets written to: ../../artifacts/checkpoints\\checkpoint_AlexNet\\assets\n"
     ]
    },
    {
     "name": "stderr",
     "output_type": "stream",
     "text": [
      "INFO:tensorflow:Assets written to: ../../artifacts/checkpoints\\checkpoint_AlexNet\\assets\n"
     ]
    },
    {
     "name": "stdout",
     "output_type": "stream",
     "text": [
      "9/9 [==============================] - 2s 292ms/step - loss: 1.2632 - accuracy: 0.6867 - val_loss: 2.4904 - val_accuracy: 0.3963 - lr: 1.5625e-05\n",
      "Epoch 61/100\n",
      "8/9 [=========================>....] - ETA: 0s - loss: 1.2581 - accuracy: 0.6890\n",
      "Epoch 61: val_loss did not improve from 2.49045\n",
      "9/9 [==============================] - 1s 147ms/step - loss: 1.2595 - accuracy: 0.6872 - val_loss: 2.5034 - val_accuracy: 0.3779 - lr: 1.5625e-05\n",
      "Epoch 62/100\n",
      "8/9 [=========================>....] - ETA: 0s - loss: 1.2633 - accuracy: 0.6913\n",
      "Epoch 62: val_loss improved from 2.49045 to 2.49018, saving model to ../../artifacts/checkpoints\\checkpoint_AlexNet\n"
     ]
    },
    {
     "name": "stderr",
     "output_type": "stream",
     "text": [
      "WARNING:absl:Found untraced functions such as _jit_compiled_convolution_op, _jit_compiled_convolution_op, _jit_compiled_convolution_op, _jit_compiled_convolution_op, _jit_compiled_convolution_op while saving (showing 5 of 5). These functions will not be directly callable after loading.\n"
     ]
    },
    {
     "name": "stdout",
     "output_type": "stream",
     "text": [
      "INFO:tensorflow:Assets written to: ../../artifacts/checkpoints\\checkpoint_AlexNet\\assets\n"
     ]
    },
    {
     "name": "stderr",
     "output_type": "stream",
     "text": [
      "INFO:tensorflow:Assets written to: ../../artifacts/checkpoints\\checkpoint_AlexNet\\assets\n"
     ]
    },
    {
     "name": "stdout",
     "output_type": "stream",
     "text": [
      "9/9 [==============================] - 3s 303ms/step - loss: 1.2614 - accuracy: 0.6908 - val_loss: 2.4902 - val_accuracy: 0.3963 - lr: 1.5625e-05\n",
      "Epoch 63/100\n",
      "8/9 [=========================>....] - ETA: 0s - loss: 1.2570 - accuracy: 0.6883\n",
      "Epoch 63: val_loss improved from 2.49018 to 2.47741, saving model to ../../artifacts/checkpoints\\checkpoint_AlexNet\n"
     ]
    },
    {
     "name": "stderr",
     "output_type": "stream",
     "text": [
      "WARNING:absl:Found untraced functions such as _jit_compiled_convolution_op, _jit_compiled_convolution_op, _jit_compiled_convolution_op, _jit_compiled_convolution_op, _jit_compiled_convolution_op while saving (showing 5 of 5). These functions will not be directly callable after loading.\n"
     ]
    },
    {
     "name": "stdout",
     "output_type": "stream",
     "text": [
      "INFO:tensorflow:Assets written to: ../../artifacts/checkpoints\\checkpoint_AlexNet\\assets\n"
     ]
    },
    {
     "name": "stderr",
     "output_type": "stream",
     "text": [
      "INFO:tensorflow:Assets written to: ../../artifacts/checkpoints\\checkpoint_AlexNet\\assets\n"
     ]
    },
    {
     "name": "stdout",
     "output_type": "stream",
     "text": [
      "9/9 [==============================] - 2s 290ms/step - loss: 1.2545 - accuracy: 0.6896 - val_loss: 2.4774 - val_accuracy: 0.4009 - lr: 1.5625e-05\n",
      "Epoch 64/100\n",
      "8/9 [=========================>....] - ETA: 0s - loss: 1.2545 - accuracy: 0.6885\n",
      "Epoch 64: val_loss improved from 2.47741 to 2.45604, saving model to ../../artifacts/checkpoints\\checkpoint_AlexNet\n"
     ]
    },
    {
     "name": "stderr",
     "output_type": "stream",
     "text": [
      "WARNING:absl:Found untraced functions such as _jit_compiled_convolution_op, _jit_compiled_convolution_op, _jit_compiled_convolution_op, _jit_compiled_convolution_op, _jit_compiled_convolution_op while saving (showing 5 of 5). These functions will not be directly callable after loading.\n"
     ]
    },
    {
     "name": "stdout",
     "output_type": "stream",
     "text": [
      "INFO:tensorflow:Assets written to: ../../artifacts/checkpoints\\checkpoint_AlexNet\\assets\n"
     ]
    },
    {
     "name": "stderr",
     "output_type": "stream",
     "text": [
      "INFO:tensorflow:Assets written to: ../../artifacts/checkpoints\\checkpoint_AlexNet\\assets\n"
     ]
    },
    {
     "name": "stdout",
     "output_type": "stream",
     "text": [
      "9/9 [==============================] - 3s 305ms/step - loss: 1.2519 - accuracy: 0.6896 - val_loss: 2.4560 - val_accuracy: 0.3963 - lr: 1.5625e-05\n",
      "Epoch 65/100\n",
      "8/9 [=========================>....] - ETA: 0s - loss: 1.2423 - accuracy: 0.6888\n",
      "Epoch 65: val_loss did not improve from 2.45604\n",
      "9/9 [==============================] - 1s 146ms/step - loss: 1.2419 - accuracy: 0.6882 - val_loss: 2.4659 - val_accuracy: 0.4009 - lr: 1.5625e-05\n",
      "Epoch 66/100\n",
      "8/9 [=========================>....] - ETA: 0s - loss: 1.2316 - accuracy: 0.6957\n",
      "Epoch 66: val_loss did not improve from 2.45604\n",
      "9/9 [==============================] - 1s 145ms/step - loss: 1.2285 - accuracy: 0.6962 - val_loss: 2.4792 - val_accuracy: 0.4055 - lr: 1.5625e-05\n",
      "Epoch 67/100\n",
      "8/9 [=========================>....] - ETA: 0s - loss: 1.2268 - accuracy: 0.6975\n",
      "Epoch 67: val_loss improved from 2.45604 to 2.44428, saving model to ../../artifacts/checkpoints\\checkpoint_AlexNet\n"
     ]
    },
    {
     "name": "stderr",
     "output_type": "stream",
     "text": [
      "WARNING:absl:Found untraced functions such as _jit_compiled_convolution_op, _jit_compiled_convolution_op, _jit_compiled_convolution_op, _jit_compiled_convolution_op, _jit_compiled_convolution_op while saving (showing 5 of 5). These functions will not be directly callable after loading.\n"
     ]
    },
    {
     "name": "stdout",
     "output_type": "stream",
     "text": [
      "INFO:tensorflow:Assets written to: ../../artifacts/checkpoints\\checkpoint_AlexNet\\assets\n"
     ]
    },
    {
     "name": "stderr",
     "output_type": "stream",
     "text": [
      "INFO:tensorflow:Assets written to: ../../artifacts/checkpoints\\checkpoint_AlexNet\\assets\n"
     ]
    },
    {
     "name": "stdout",
     "output_type": "stream",
     "text": [
      "9/9 [==============================] - 2s 292ms/step - loss: 1.2309 - accuracy: 0.6964 - val_loss: 2.4443 - val_accuracy: 0.3963 - lr: 1.5625e-05\n",
      "Epoch 68/100\n",
      "8/9 [=========================>....] - ETA: 0s - loss: 1.2336 - accuracy: 0.6877\n",
      "Epoch 68: val_loss did not improve from 2.44428\n",
      "9/9 [==============================] - 1s 146ms/step - loss: 1.2358 - accuracy: 0.6879 - val_loss: 2.4714 - val_accuracy: 0.3963 - lr: 1.5625e-05\n",
      "Epoch 69/100\n",
      "8/9 [=========================>....] - ETA: 0s - loss: 1.2142 - accuracy: 0.7042\n",
      "Epoch 69: val_loss did not improve from 2.44428\n",
      "9/9 [==============================] - 1s 146ms/step - loss: 1.2165 - accuracy: 0.7040 - val_loss: 2.4824 - val_accuracy: 0.4009 - lr: 1.5625e-05\n",
      "Epoch 70/100\n",
      "8/9 [=========================>....] - ETA: 0s - loss: 1.2114 - accuracy: 0.7067\n",
      "Epoch 70: val_loss improved from 2.44428 to 2.44279, saving model to ../../artifacts/checkpoints\\checkpoint_AlexNet\n"
     ]
    },
    {
     "name": "stderr",
     "output_type": "stream",
     "text": [
      "WARNING:absl:Found untraced functions such as _jit_compiled_convolution_op, _jit_compiled_convolution_op, _jit_compiled_convolution_op, _jit_compiled_convolution_op, _jit_compiled_convolution_op while saving (showing 5 of 5). These functions will not be directly callable after loading.\n"
     ]
    },
    {
     "name": "stdout",
     "output_type": "stream",
     "text": [
      "INFO:tensorflow:Assets written to: ../../artifacts/checkpoints\\checkpoint_AlexNet\\assets\n"
     ]
    },
    {
     "name": "stderr",
     "output_type": "stream",
     "text": [
      "INFO:tensorflow:Assets written to: ../../artifacts/checkpoints\\checkpoint_AlexNet\\assets\n"
     ]
    },
    {
     "name": "stdout",
     "output_type": "stream",
     "text": [
      "9/9 [==============================] - 3s 306ms/step - loss: 1.2156 - accuracy: 0.7047 - val_loss: 2.4428 - val_accuracy: 0.4147 - lr: 1.5625e-05\n",
      "Epoch 71/100\n",
      "8/9 [=========================>....] - ETA: 0s - loss: 1.2041 - accuracy: 0.7067\n",
      "Epoch 71: val_loss did not improve from 2.44279\n",
      "9/9 [==============================] - 1s 152ms/step - loss: 1.2054 - accuracy: 0.7064 - val_loss: 2.4623 - val_accuracy: 0.4101 - lr: 1.5625e-05\n",
      "Epoch 72/100\n",
      "8/9 [=========================>....] - ETA: 0s - loss: 1.2003 - accuracy: 0.7040\n",
      "Epoch 72: val_loss did not improve from 2.44279\n",
      "9/9 [==============================] - 1s 147ms/step - loss: 1.1991 - accuracy: 0.7037 - val_loss: 2.4460 - val_accuracy: 0.4194 - lr: 1.5625e-05\n",
      "Epoch 73/100\n",
      "8/9 [=========================>....] - ETA: 0s - loss: 1.1923 - accuracy: 0.7048\n",
      "Epoch 73: val_loss did not improve from 2.44279\n",
      "9/9 [==============================] - 1s 151ms/step - loss: 1.1957 - accuracy: 0.7045 - val_loss: 2.4442 - val_accuracy: 0.4147 - lr: 1.5625e-05\n",
      "Epoch 74/100\n",
      "8/9 [=========================>....] - ETA: 0s - loss: 1.1961 - accuracy: 0.7110\n",
      "Epoch 74: val_loss improved from 2.44279 to 2.43813, saving model to ../../artifacts/checkpoints\\checkpoint_AlexNet\n"
     ]
    },
    {
     "name": "stderr",
     "output_type": "stream",
     "text": [
      "WARNING:absl:Found untraced functions such as _jit_compiled_convolution_op, _jit_compiled_convolution_op, _jit_compiled_convolution_op, _jit_compiled_convolution_op, _jit_compiled_convolution_op while saving (showing 5 of 5). These functions will not be directly callable after loading.\n"
     ]
    },
    {
     "name": "stdout",
     "output_type": "stream",
     "text": [
      "INFO:tensorflow:Assets written to: ../../artifacts/checkpoints\\checkpoint_AlexNet\\assets\n"
     ]
    },
    {
     "name": "stderr",
     "output_type": "stream",
     "text": [
      "INFO:tensorflow:Assets written to: ../../artifacts/checkpoints\\checkpoint_AlexNet\\assets\n"
     ]
    },
    {
     "name": "stdout",
     "output_type": "stream",
     "text": [
      "9/9 [==============================] - 2s 291ms/step - loss: 1.1911 - accuracy: 0.7120 - val_loss: 2.4381 - val_accuracy: 0.4286 - lr: 7.8125e-06\n",
      "Epoch 75/100\n",
      "8/9 [=========================>....] - ETA: 0s - loss: 1.1732 - accuracy: 0.7195\n",
      "Epoch 75: val_loss did not improve from 2.43813\n",
      "9/9 [==============================] - 1s 151ms/step - loss: 1.1757 - accuracy: 0.7183 - val_loss: 2.4460 - val_accuracy: 0.4332 - lr: 7.8125e-06\n",
      "Epoch 76/100\n",
      "8/9 [=========================>....] - ETA: 0s - loss: 1.1787 - accuracy: 0.7110\n",
      "Epoch 76: val_loss improved from 2.43813 to 2.43238, saving model to ../../artifacts/checkpoints\\checkpoint_AlexNet\n"
     ]
    },
    {
     "name": "stderr",
     "output_type": "stream",
     "text": [
      "WARNING:absl:Found untraced functions such as _jit_compiled_convolution_op, _jit_compiled_convolution_op, _jit_compiled_convolution_op, _jit_compiled_convolution_op, _jit_compiled_convolution_op while saving (showing 5 of 5). These functions will not be directly callable after loading.\n"
     ]
    },
    {
     "name": "stdout",
     "output_type": "stream",
     "text": [
      "INFO:tensorflow:Assets written to: ../../artifacts/checkpoints\\checkpoint_AlexNet\\assets\n"
     ]
    },
    {
     "name": "stderr",
     "output_type": "stream",
     "text": [
      "INFO:tensorflow:Assets written to: ../../artifacts/checkpoints\\checkpoint_AlexNet\\assets\n"
     ]
    },
    {
     "name": "stdout",
     "output_type": "stream",
     "text": [
      "9/9 [==============================] - 2s 293ms/step - loss: 1.1781 - accuracy: 0.7096 - val_loss: 2.4324 - val_accuracy: 0.4240 - lr: 7.8125e-06\n",
      "Epoch 77/100\n",
      "8/9 [=========================>....] - ETA: 0s - loss: 1.1740 - accuracy: 0.7147\n",
      "Epoch 77: val_loss improved from 2.43238 to 2.43213, saving model to ../../artifacts/checkpoints\\checkpoint_AlexNet\n"
     ]
    },
    {
     "name": "stderr",
     "output_type": "stream",
     "text": [
      "WARNING:absl:Found untraced functions such as _jit_compiled_convolution_op, _jit_compiled_convolution_op, _jit_compiled_convolution_op, _jit_compiled_convolution_op, _jit_compiled_convolution_op while saving (showing 5 of 5). These functions will not be directly callable after loading.\n"
     ]
    },
    {
     "name": "stdout",
     "output_type": "stream",
     "text": [
      "INFO:tensorflow:Assets written to: ../../artifacts/checkpoints\\checkpoint_AlexNet\\assets\n"
     ]
    },
    {
     "name": "stderr",
     "output_type": "stream",
     "text": [
      "INFO:tensorflow:Assets written to: ../../artifacts/checkpoints\\checkpoint_AlexNet\\assets\n"
     ]
    },
    {
     "name": "stdout",
     "output_type": "stream",
     "text": [
      "9/9 [==============================] - 3s 307ms/step - loss: 1.1792 - accuracy: 0.7137 - val_loss: 2.4321 - val_accuracy: 0.4332 - lr: 7.8125e-06\n",
      "Epoch 78/100\n",
      "8/9 [=========================>....] - ETA: 0s - loss: 1.1733 - accuracy: 0.7197\n",
      "Epoch 78: val_loss did not improve from 2.43213\n",
      "9/9 [==============================] - 1s 155ms/step - loss: 1.1761 - accuracy: 0.7181 - val_loss: 2.4365 - val_accuracy: 0.4147 - lr: 7.8125e-06\n",
      "Epoch 79/100\n",
      "8/9 [=========================>....] - ETA: 0s - loss: 1.1783 - accuracy: 0.7128\n",
      "Epoch 79: val_loss did not improve from 2.43213\n",
      "9/9 [==============================] - 1s 148ms/step - loss: 1.1741 - accuracy: 0.7147 - val_loss: 2.4387 - val_accuracy: 0.4286 - lr: 7.8125e-06\n",
      "Epoch 80/100\n",
      "8/9 [=========================>....] - ETA: 0s - loss: 1.1679 - accuracy: 0.7170\n",
      "Epoch 80: val_loss did not improve from 2.43213\n",
      "9/9 [==============================] - 1s 146ms/step - loss: 1.1655 - accuracy: 0.7161 - val_loss: 2.4362 - val_accuracy: 0.4286 - lr: 7.8125e-06\n",
      "Epoch 81/100\n",
      "8/9 [=========================>....] - ETA: 0s - loss: 1.1646 - accuracy: 0.7178\n",
      "Epoch 81: val_loss improved from 2.43213 to 2.42454, saving model to ../../artifacts/checkpoints\\checkpoint_AlexNet\n"
     ]
    },
    {
     "name": "stderr",
     "output_type": "stream",
     "text": [
      "WARNING:absl:Found untraced functions such as _jit_compiled_convolution_op, _jit_compiled_convolution_op, _jit_compiled_convolution_op, _jit_compiled_convolution_op, _jit_compiled_convolution_op while saving (showing 5 of 5). These functions will not be directly callable after loading.\n"
     ]
    },
    {
     "name": "stdout",
     "output_type": "stream",
     "text": [
      "INFO:tensorflow:Assets written to: ../../artifacts/checkpoints\\checkpoint_AlexNet\\assets\n"
     ]
    },
    {
     "name": "stderr",
     "output_type": "stream",
     "text": [
      "INFO:tensorflow:Assets written to: ../../artifacts/checkpoints\\checkpoint_AlexNet\\assets\n"
     ]
    },
    {
     "name": "stdout",
     "output_type": "stream",
     "text": [
      "9/9 [==============================] - 2s 292ms/step - loss: 1.1674 - accuracy: 0.7176 - val_loss: 2.4245 - val_accuracy: 0.4240 - lr: 3.9063e-06\n",
      "Epoch 82/100\n",
      "8/9 [=========================>....] - ETA: 0s - loss: 1.1644 - accuracy: 0.7175\n",
      "Epoch 82: val_loss improved from 2.42454 to 2.41801, saving model to ../../artifacts/checkpoints\\checkpoint_AlexNet\n"
     ]
    },
    {
     "name": "stderr",
     "output_type": "stream",
     "text": [
      "WARNING:absl:Found untraced functions such as _jit_compiled_convolution_op, _jit_compiled_convolution_op, _jit_compiled_convolution_op, _jit_compiled_convolution_op, _jit_compiled_convolution_op while saving (showing 5 of 5). These functions will not be directly callable after loading.\n"
     ]
    },
    {
     "name": "stdout",
     "output_type": "stream",
     "text": [
      "INFO:tensorflow:Assets written to: ../../artifacts/checkpoints\\checkpoint_AlexNet\\assets\n"
     ]
    },
    {
     "name": "stderr",
     "output_type": "stream",
     "text": [
      "INFO:tensorflow:Assets written to: ../../artifacts/checkpoints\\checkpoint_AlexNet\\assets\n"
     ]
    },
    {
     "name": "stdout",
     "output_type": "stream",
     "text": [
      "9/9 [==============================] - 3s 307ms/step - loss: 1.1599 - accuracy: 0.7190 - val_loss: 2.4180 - val_accuracy: 0.4240 - lr: 3.9063e-06\n",
      "Epoch 83/100\n",
      "8/9 [=========================>....] - ETA: 0s - loss: 1.1740 - accuracy: 0.7138\n",
      "Epoch 83: val_loss did not improve from 2.41801\n",
      "9/9 [==============================] - 1s 147ms/step - loss: 1.1697 - accuracy: 0.7154 - val_loss: 2.4263 - val_accuracy: 0.4240 - lr: 3.9063e-06\n",
      "Epoch 84/100\n",
      "8/9 [=========================>....] - ETA: 0s - loss: 1.1556 - accuracy: 0.7178\n",
      "Epoch 84: val_loss did not improve from 2.41801\n",
      "9/9 [==============================] - 1s 149ms/step - loss: 1.1551 - accuracy: 0.7181 - val_loss: 2.4298 - val_accuracy: 0.4240 - lr: 3.9063e-06\n",
      "Epoch 85/100\n",
      "8/9 [=========================>....] - ETA: 0s - loss: 1.1630 - accuracy: 0.7165\n",
      "Epoch 85: val_loss did not improve from 2.41801\n",
      "9/9 [==============================] - 1s 147ms/step - loss: 1.1620 - accuracy: 0.7173 - val_loss: 2.4305 - val_accuracy: 0.4286 - lr: 3.9063e-06\n",
      "Epoch 86/100\n",
      "8/9 [=========================>....] - ETA: 0s - loss: 1.1650 - accuracy: 0.7165\n",
      "Epoch 86: val_loss did not improve from 2.41801\n",
      "9/9 [==============================] - 1s 146ms/step - loss: 1.1636 - accuracy: 0.7166 - val_loss: 2.4277 - val_accuracy: 0.4286 - lr: 1.9531e-06\n",
      "Epoch 87/100\n",
      "8/9 [=========================>....] - ETA: 0s - loss: 1.1587 - accuracy: 0.7182\n",
      "Epoch 87: val_loss did not improve from 2.41801\n",
      "9/9 [==============================] - 1s 147ms/step - loss: 1.1581 - accuracy: 0.7193 - val_loss: 2.4287 - val_accuracy: 0.4286 - lr: 1.9531e-06\n",
      "Epoch 88/100\n",
      "8/9 [=========================>....] - ETA: 0s - loss: 1.1576 - accuracy: 0.7165\n",
      "Epoch 88: val_loss did not improve from 2.41801\n",
      "9/9 [==============================] - 1s 147ms/step - loss: 1.1567 - accuracy: 0.7173 - val_loss: 2.4291 - val_accuracy: 0.4286 - lr: 1.9531e-06\n",
      "Epoch 89/100\n",
      "8/9 [=========================>....] - ETA: 0s - loss: 1.1578 - accuracy: 0.7232\n",
      "Epoch 89: val_loss did not improve from 2.41801\n",
      "9/9 [==============================] - 1s 146ms/step - loss: 1.1593 - accuracy: 0.7225 - val_loss: 2.4293 - val_accuracy: 0.4286 - lr: 1.0000e-06\n",
      "Epoch 90/100\n",
      "8/9 [=========================>....] - ETA: 0s - loss: 1.1554 - accuracy: 0.7220\n",
      "Epoch 90: val_loss did not improve from 2.41801\n",
      "9/9 [==============================] - 1s 148ms/step - loss: 1.1558 - accuracy: 0.7234 - val_loss: 2.4296 - val_accuracy: 0.4286 - lr: 1.0000e-06\n",
      "Epoch 91/100\n",
      "8/9 [=========================>....] - ETA: 0s - loss: 1.1509 - accuracy: 0.7197\n",
      "Epoch 91: val_loss did not improve from 2.41801\n",
      "9/9 [==============================] - 1s 145ms/step - loss: 1.1528 - accuracy: 0.7188 - val_loss: 2.4291 - val_accuracy: 0.4286 - lr: 1.0000e-06\n",
      "Epoch 92/100\n",
      "8/9 [=========================>....] - ETA: 0s - loss: 1.1592 - accuracy: 0.7168\n",
      "Epoch 92: val_loss did not improve from 2.41801\n",
      "9/9 [==============================] - 1s 145ms/step - loss: 1.1589 - accuracy: 0.7169 - val_loss: 2.4293 - val_accuracy: 0.4286 - lr: 1.0000e-06\n",
      "Epoch 93/100\n",
      "8/9 [=========================>....] - ETA: 0s - loss: 1.1597 - accuracy: 0.7255\n",
      "Epoch 93: val_loss did not improve from 2.41801\n",
      "9/9 [==============================] - 1s 144ms/step - loss: 1.1583 - accuracy: 0.7249 - val_loss: 2.4304 - val_accuracy: 0.4286 - lr: 1.0000e-06\n",
      "Epoch 94/100\n",
      "8/9 [=========================>....] - ETA: 0s - loss: 1.1591 - accuracy: 0.7243\n",
      "Epoch 94: val_loss did not improve from 2.41801\n",
      "9/9 [==============================] - 1s 145ms/step - loss: 1.1625 - accuracy: 0.7222 - val_loss: 2.4306 - val_accuracy: 0.4286 - lr: 1.0000e-06\n",
      "Epoch 95/100\n",
      "8/9 [=========================>....] - ETA: 0s - loss: 1.1584 - accuracy: 0.7128\n",
      "Epoch 95: val_loss did not improve from 2.41801\n",
      "9/9 [==============================] - 1s 145ms/step - loss: 1.1559 - accuracy: 0.7132 - val_loss: 2.4304 - val_accuracy: 0.4286 - lr: 1.0000e-06\n",
      "Epoch 96/100\n",
      "8/9 [=========================>....] - ETA: 0s - loss: 1.1634 - accuracy: 0.7200\n",
      "Epoch 96: val_loss did not improve from 2.41801\n",
      "9/9 [==============================] - 1s 145ms/step - loss: 1.1618 - accuracy: 0.7205 - val_loss: 2.4312 - val_accuracy: 0.4332 - lr: 1.0000e-06\n",
      "Epoch 97/100\n",
      "8/9 [=========================>....] - ETA: 0s - loss: 1.1519 - accuracy: 0.7253\n",
      "Epoch 97: val_loss did not improve from 2.41801\n",
      "9/9 [==============================] - 1s 144ms/step - loss: 1.1532 - accuracy: 0.7244 - val_loss: 2.4321 - val_accuracy: 0.4332 - lr: 1.0000e-06\n",
      "Epoch 98/100\n",
      "8/9 [=========================>....] - ETA: 0s - loss: 1.1635 - accuracy: 0.7128\n",
      "Epoch 98: val_loss did not improve from 2.41801\n",
      "9/9 [==============================] - 1s 143ms/step - loss: 1.1612 - accuracy: 0.7130 - val_loss: 2.4334 - val_accuracy: 0.4286 - lr: 1.0000e-06\n",
      "Epoch 99/100\n",
      "8/9 [=========================>....] - ETA: 0s - loss: 1.1636 - accuracy: 0.7253\n",
      "Epoch 99: val_loss did not improve from 2.41801\n",
      "9/9 [==============================] - 1s 141ms/step - loss: 1.1608 - accuracy: 0.7263 - val_loss: 2.4341 - val_accuracy: 0.4286 - lr: 1.0000e-06\n",
      "Epoch 100/100\n",
      "8/9 [=========================>....] - ETA: 0s - loss: 1.1573 - accuracy: 0.7275\n",
      "Epoch 100: val_loss did not improve from 2.41801\n",
      "9/9 [==============================] - 1s 140ms/step - loss: 1.1531 - accuracy: 0.7276 - val_loss: 2.4343 - val_accuracy: 0.4332 - lr: 1.0000e-06\n",
      "Saving model to \"artifacts/models/AlexNet.h5\"...\n",
      "Model saved successfully!\n",
      "Saving history to \"artifacts/model_histories/history_AlexNet\"...\n",
      "History saved successfully!\n"
     ]
    }
   ],
   "source": [
    "alex_net_wrapper.train_and_save_model_and_history()"
   ]
  },
  {
   "cell_type": "code",
   "execution_count": 10,
   "metadata": {},
   "outputs": [
    {
     "name": "stdout",
     "output_type": "stream",
     "text": [
      "Loading model from \"../../artifacts/models/AlexNet.h5\"...\n",
      "Model loaded successfully!\n",
      "Loading history from \"../../artifacts/model_histories/history_AlexNet\"...\n",
      "History loaded successfully!\n"
     ]
    }
   ],
   "source": [
    "alex_net_wrapper.load_model_and_history()"
   ]
  },
  {
   "cell_type": "code",
   "execution_count": 11,
   "metadata": {},
   "outputs": [
    {
     "data": {
      "image/png": "[encoded data removed]",
      "text/plain": [
       "<Figure size 640x480 with 1 Axes>"
      ]
     },
     "metadata": {},
     "output_type": "display_data"
    }
   ],
   "source": [
    "alex_net_wrapper.plot_accuracy()"
   ]
  },
  {
   "cell_type": "code",
   "execution_count": 12,
   "metadata": {},
   "outputs": [
    {
     "data": {
      "image/png": "[encoded data removed]",
      "text/plain": [
       "<Figure size 640x480 with 1 Axes>"
      ]
     },
     "metadata": {},
     "output_type": "display_data"
    }
   ],
   "source": [
    "alex_net_wrapper.plot_loss()"
   ]
  },
  {
   "cell_type": "code",
   "execution_count": 13,
   "metadata": {},
   "outputs": [
    {
     "name": "stdout",
     "output_type": "stream",
     "text": [
      "20/20 [==============================] - 0s 8ms/step - loss: 2.6867 - accuracy: 0.3748\n",
      "Loss: 2.6867\n",
      "Accuracy: 0.3748\n",
      "20/20 [==============================] - 0s 5ms/step\n",
      "Classification Report:\n",
      "              precision    recall  f1-score   support\n",
      "\n",
      "           0       0.31      0.22      0.26        23\n",
      "           1       0.32      0.24      0.27        25\n",
      "           2       0.59      0.63      0.61        52\n",
      "           3       0.24      0.32      0.27        38\n",
      "           4       0.28      0.30      0.29        27\n",
      "           5       0.26      0.40      0.32        35\n",
      "           6       0.30      0.24      0.27        45\n",
      "           7       0.00      0.00      0.00        10\n",
      "           8       0.40      0.17      0.24        12\n",
      "           9       0.14      0.09      0.11        11\n",
      "          10       0.56      0.43      0.49        23\n",
      "          11       0.56      0.58      0.57        26\n",
      "          12       0.34      0.41      0.37        32\n",
      "          13       0.30      0.47      0.37        15\n",
      "          14       0.20      0.18      0.19        17\n",
      "          15       0.47      0.44      0.45        16\n",
      "          16       0.20      0.38      0.26        13\n",
      "          17       0.38      0.43      0.40        21\n",
      "          18       0.28      0.28      0.28        18\n",
      "          19       0.40      0.38      0.39        21\n",
      "          20       0.36      0.33      0.35        12\n",
      "          21       0.31      0.19      0.24        53\n",
      "          22       0.45      0.53      0.49        19\n",
      "          23       0.50      0.41      0.45        17\n",
      "          24       0.82      0.71      0.76        38\n",
      "\n",
      "    accuracy                           0.37       619\n",
      "   macro avg       0.36      0.35      0.35       619\n",
      "weighted avg       0.38      0.37      0.37       619\n",
      "\n"
     ]
    },
    {
     "data": {
      "image/png": "[encoded data removed]",
      "text/plain": [
       "<Figure size 1500x1000 with 2 Axes>"
      ]
     },
     "metadata": {},
     "output_type": "display_data"
    }
   ],
   "source": [
    "alex_net_wrapper.display_evaluation_results()"
   ]
  }
 ],
 "metadata": {
  "kernelspec": {
   "display_name": "ML-projekat",
   "language": "python",
   "name": "python3"
  },
  "language_info": {
   "codemirror_mode": {
    "name": "ipython",
    "version": 3
   },
   "file_extension": ".py",
   "mimetype": "text/x-python",
   "name": "python",
   "nbconvert_exporter": "python",
   "pygments_lexer": "ipython3",
   "version": "3.9.17"
  },
  "orig_nbformat": 4
 },
 "nbformat": 4,
 "nbformat_minor": 2
}
