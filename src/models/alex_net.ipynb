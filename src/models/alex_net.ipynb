{
 "cells": [
  {
   "cell_type": "code",
   "execution_count": 1,
   "metadata": {},
   "outputs": [],
   "source": [
    "import sys\n",
    "\n",
    "sys.path.append(\"..\")"
   ]
  },
  {
   "cell_type": "code",
   "execution_count": 2,
   "metadata": {},
   "outputs": [],
   "source": [
    "from tensorflow import keras"
   ]
  },
  {
   "cell_type": "code",
   "execution_count": 3,
   "metadata": {},
   "outputs": [],
   "source": [
    "from utils.preprocessing_utils import PreprocessingUtils"
   ]
  },
  {
   "cell_type": "code",
   "execution_count": 4,
   "metadata": {},
   "outputs": [],
   "source": [
    "from utils.model_wrapper import ModelWrapper"
   ]
  },
  {
   "cell_type": "code",
   "execution_count": 5,
   "metadata": {},
   "outputs": [
    {
     "name": "stdout",
     "output_type": "stream",
     "text": [
      "Files already exist, skipping...\n",
      "Loading images and labels...\n",
      "Images and labels loaded successfully!\n",
      "Preprocessing labels...\n",
      "Labels preprocessed successfully!\n",
      "Splitting data into train, test and validation sets...\n",
      "Data split successfully!\n"
     ]
    }
   ],
   "source": [
    "preprocessing_utils = PreprocessingUtils()"
   ]
  },
  {
   "cell_type": "code",
   "execution_count": 6,
   "metadata": {},
   "outputs": [],
   "source": [
    "def build_alex_net(model_name: str):\n",
    "    model = keras.models.Sequential(\n",
    "        name=model_name,\n",
    "        layers=[\n",
    "            keras.layers.Conv2D(\n",
    "                96, (11, 11), strides=(4, 4), activation=\"relu\", input_shape=preprocessing_utils.images.shape[1:]\n",
    "            ),\n",
    "            keras.layers.BatchNormalization(),\n",
    "            keras.layers.MaxPooling2D((3, 3), strides=(2, 2)),\n",
    "            keras.layers.Conv2D(256, (5, 5), activation=\"relu\"),\n",
    "            keras.layers.BatchNormalization(),\n",
    "            keras.layers.MaxPooling2D((3, 3), strides=(2, 2)),\n",
    "            keras.layers.Conv2D(384, (3, 3), activation=\"relu\"),\n",
    "            keras.layers.Conv2D(384, (3, 3), activation=\"relu\"),\n",
    "            keras.layers.Conv2D(256, (3, 3), activation=\"relu\"),\n",
    "            keras.layers.MaxPooling2D((3, 3), strides=(2, 2)),\n",
    "            keras.layers.Flatten(),\n",
    "            keras.layers.Dense(4096, activation=\"relu\", kernel_regularizer=keras.regularizers.l2(0.01)),\n",
    "            keras.layers.Dropout(0.5),\n",
    "            keras.layers.Dense(4096, activation=\"relu\", kernel_regularizer=keras.regularizers.l2(0.01)),\n",
    "            keras.layers.Dropout(0.5),\n",
    "            keras.layers.Dense(preprocessing_utils.num_classes, activation=\"softmax\"),\n",
    "        ],\n",
    "    )\n",
    "\n",
    "    model.compile(optimizer=\"adam\", loss=\"categorical_crossentropy\", metrics=[\"accuracy\"])\n",
    "\n",
    "    model.summary()\n",
    "\n",
    "    return model"
   ]
  },
  {
   "cell_type": "code",
   "execution_count": 7,
   "metadata": {},
   "outputs": [],
   "source": [
    "alex_net_wrapper = ModelWrapper(\"AlexNet\", preprocessing_utils=preprocessing_utils)"
   ]
  },
  {
   "cell_type": "code",
   "execution_count": 8,
   "metadata": {},
   "outputs": [
    {
     "name": "stdout",
     "output_type": "stream",
     "text": [
      "Building model...\n",
      "Model: \"AlexNet\"\n",
      "_________________________________________________________________\n",
      " Layer (type)                Output Shape              Param #   \n",
      "=================================================================\n",
      " conv2d (Conv2D)             (None, 62, 62, 96)        34944     \n",
      "                                                                 \n",
      " batch_normalization (BatchN  (None, 62, 62, 96)       384       \n",
      " ormalization)                                                   \n",
      "                                                                 \n",
      " max_pooling2d (MaxPooling2D  (None, 30, 30, 96)       0         \n",
      " )                                                               \n",
      "                                                                 \n",
      " conv2d_1 (Conv2D)           (None, 26, 26, 256)       614656    \n",
      "                                                                 \n",
      " batch_normalization_1 (Batc  (None, 26, 26, 256)      1024      \n",
      " hNormalization)                                                 \n",
      "                                                                 \n",
      " max_pooling2d_1 (MaxPooling  (None, 12, 12, 256)      0         \n",
      " 2D)                                                             \n",
      "                                                                 \n",
      " conv2d_2 (Conv2D)           (None, 10, 10, 384)       885120    \n",
      "                                                                 \n",
      " conv2d_3 (Conv2D)           (None, 8, 8, 384)         1327488   \n",
      "                                                                 \n",
      " conv2d_4 (Conv2D)           (None, 6, 6, 256)         884992    \n",
      "                                                                 \n",
      " max_pooling2d_2 (MaxPooling  (None, 2, 2, 256)        0         \n",
      " 2D)                                                             \n",
      "                                                                 \n",
      " flatten (Flatten)           (None, 1024)              0         \n",
      "                                                                 \n",
      " dense (Dense)               (None, 4096)              4198400   \n",
      "                                                                 \n",
      " dropout (Dropout)           (None, 4096)              0         \n",
      "                                                                 \n",
      " dense_1 (Dense)             (None, 4096)              16781312  \n",
      "                                                                 \n",
      " dropout_1 (Dropout)         (None, 4096)              0         \n",
      "                                                                 \n",
      " dense_2 (Dense)             (None, 25)                102425    \n",
      "                                                                 \n",
      "=================================================================\n",
      "Total params: 24,830,745\n",
      "Trainable params: 24,830,041\n",
      "Non-trainable params: 704\n",
      "_________________________________________________________________\n",
      "Model built successfully!\n",
      "Saving model summary to ../../artifacts/model_summaries/summary_AlexNet...\n",
      "Model summary saved successfully!\n"
     ]
    }
   ],
   "source": [
    "alex_net_wrapper.build_model(build_fn=build_alex_net, model_name=alex_net_wrapper.model_name)"
   ]
  },
  {
   "cell_type": "code",
   "execution_count": 9,
   "metadata": {},
   "outputs": [
    {
     "name": "stdout",
     "output_type": "stream",
     "text": [
      "Epoch 1/100\n",
      "9/9 [==============================] - ETA: 0s - loss: 48.9646 - accuracy: 0.0688\n",
      "Epoch 1: val_loss improved from inf to 33.22534, saving model to ../../artifacts/checkpoints\\checkpoint_AlexNet\n"
     ]
    },
    {
     "name": "stderr",
     "output_type": "stream",
     "text": [
      "WARNING:absl:Found untraced functions such as _jit_compiled_convolution_op, _jit_compiled_convolution_op, _jit_compiled_convolution_op, _jit_compiled_convolution_op, _jit_compiled_convolution_op while saving (showing 5 of 5). These functions will not be directly callable after loading.\n"
     ]
    },
    {
     "name": "stdout",
     "output_type": "stream",
     "text": [
      "INFO:tensorflow:Assets written to: ../../artifacts/checkpoints\\checkpoint_AlexNet\\assets\n"
     ]
    },
    {
     "name": "stderr",
     "output_type": "stream",
     "text": [
      "INFO:tensorflow:Assets written to: ../../artifacts/checkpoints\\checkpoint_AlexNet\\assets\n"
     ]
    },
    {
     "name": "stdout",
     "output_type": "stream",
     "text": [
      "9/9 [==============================] - 15s 516ms/step - loss: 48.9646 - accuracy: 0.0688 - val_loss: 33.2253 - val_accuracy: 0.0599 - lr: 0.0010\n",
      "Epoch 2/100\n",
      "8/9 [=========================>....] - ETA: 0s - loss: 25.6175 - accuracy: 0.0780\n",
      "Epoch 2: val_loss improved from 33.22534 to 17.12112, saving model to ../../artifacts/checkpoints\\checkpoint_AlexNet\n"
     ]
    },
    {
     "name": "stderr",
     "output_type": "stream",
     "text": [
      "WARNING:absl:Found untraced functions such as _jit_compiled_convolution_op, _jit_compiled_convolution_op, _jit_compiled_convolution_op, _jit_compiled_convolution_op, _jit_compiled_convolution_op while saving (showing 5 of 5). These functions will not be directly callable after loading.\n"
     ]
    },
    {
     "name": "stdout",
     "output_type": "stream",
     "text": [
      "INFO:tensorflow:Assets written to: ../../artifacts/checkpoints\\checkpoint_AlexNet\\assets\n"
     ]
    },
    {
     "name": "stderr",
     "output_type": "stream",
     "text": [
      "INFO:tensorflow:Assets written to: ../../artifacts/checkpoints\\checkpoint_AlexNet\\assets\n"
     ]
    },
    {
     "name": "stdout",
     "output_type": "stream",
     "text": [
      "9/9 [==============================] - 3s 331ms/step - loss: 25.4173 - accuracy: 0.0788 - val_loss: 17.1211 - val_accuracy: 0.0599 - lr: 0.0010\n",
      "Epoch 3/100\n",
      "8/9 [=========================>....] - ETA: 0s - loss: 13.9239 - accuracy: 0.0852\n",
      "Epoch 3: val_loss improved from 17.12112 to 10.47826, saving model to ../../artifacts/checkpoints\\checkpoint_AlexNet\n"
     ]
    },
    {
     "name": "stderr",
     "output_type": "stream",
     "text": [
      "WARNING:absl:Found untraced functions such as _jit_compiled_convolution_op, _jit_compiled_convolution_op, _jit_compiled_convolution_op, _jit_compiled_convolution_op, _jit_compiled_convolution_op while saving (showing 5 of 5). These functions will not be directly callable after loading.\n"
     ]
    },
    {
     "name": "stdout",
     "output_type": "stream",
     "text": [
      "INFO:tensorflow:Assets written to: ../../artifacts/checkpoints\\checkpoint_AlexNet\\assets\n"
     ]
    },
    {
     "name": "stderr",
     "output_type": "stream",
     "text": [
      "INFO:tensorflow:Assets written to: ../../artifacts/checkpoints\\checkpoint_AlexNet\\assets\n"
     ]
    },
    {
     "name": "stdout",
     "output_type": "stream",
     "text": [
      "9/9 [==============================] - 3s 299ms/step - loss: 13.8426 - accuracy: 0.0847 - val_loss: 10.4783 - val_accuracy: 0.0599 - lr: 0.0010\n",
      "Epoch 4/100\n",
      "8/9 [=========================>....] - ETA: 0s - loss: 9.1262 - accuracy: 0.0962\n",
      "Epoch 4: val_loss improved from 10.47826 to 7.76280, saving model to ../../artifacts/checkpoints\\checkpoint_AlexNet\n"
     ]
    },
    {
     "name": "stderr",
     "output_type": "stream",
     "text": [
      "WARNING:absl:Found untraced functions such as _jit_compiled_convolution_op, _jit_compiled_convolution_op, _jit_compiled_convolution_op, _jit_compiled_convolution_op, _jit_compiled_convolution_op while saving (showing 5 of 5). These functions will not be directly callable after loading.\n"
     ]
    },
    {
     "name": "stdout",
     "output_type": "stream",
     "text": [
      "INFO:tensorflow:Assets written to: ../../artifacts/checkpoints\\checkpoint_AlexNet\\assets\n"
     ]
    },
    {
     "name": "stderr",
     "output_type": "stream",
     "text": [
      "INFO:tensorflow:Assets written to: ../../artifacts/checkpoints\\checkpoint_AlexNet\\assets\n"
     ]
    },
    {
     "name": "stdout",
     "output_type": "stream",
     "text": [
      "9/9 [==============================] - 3s 310ms/step - loss: 9.0930 - accuracy: 0.0954 - val_loss: 7.7628 - val_accuracy: 0.0599 - lr: 0.0010\n",
      "Epoch 5/100\n",
      "8/9 [=========================>....] - ETA: 0s - loss: 7.0305 - accuracy: 0.1023\n",
      "Epoch 5: val_loss improved from 7.76280 to 6.26677, saving model to ../../artifacts/checkpoints\\checkpoint_AlexNet\n"
     ]
    },
    {
     "name": "stderr",
     "output_type": "stream",
     "text": [
      "WARNING:absl:Found untraced functions such as _jit_compiled_convolution_op, _jit_compiled_convolution_op, _jit_compiled_convolution_op, _jit_compiled_convolution_op, _jit_compiled_convolution_op while saving (showing 5 of 5). These functions will not be directly callable after loading.\n"
     ]
    },
    {
     "name": "stdout",
     "output_type": "stream",
     "text": [
      "INFO:tensorflow:Assets written to: ../../artifacts/checkpoints\\checkpoint_AlexNet\\assets\n"
     ]
    },
    {
     "name": "stderr",
     "output_type": "stream",
     "text": [
      "INFO:tensorflow:Assets written to: ../../artifacts/checkpoints\\checkpoint_AlexNet\\assets\n"
     ]
    },
    {
     "name": "stdout",
     "output_type": "stream",
     "text": [
      "9/9 [==============================] - 3s 303ms/step - loss: 7.0120 - accuracy: 0.1027 - val_loss: 6.2668 - val_accuracy: 0.0783 - lr: 0.0010\n",
      "Epoch 6/100\n",
      "8/9 [=========================>....] - ETA: 0s - loss: 5.7563 - accuracy: 0.1085\n",
      "Epoch 6: val_loss improved from 6.26677 to 5.32392, saving model to ../../artifacts/checkpoints\\checkpoint_AlexNet\n"
     ]
    },
    {
     "name": "stderr",
     "output_type": "stream",
     "text": [
      "WARNING:absl:Found untraced functions such as _jit_compiled_convolution_op, _jit_compiled_convolution_op, _jit_compiled_convolution_op, _jit_compiled_convolution_op, _jit_compiled_convolution_op while saving (showing 5 of 5). These functions will not be directly callable after loading.\n"
     ]
    },
    {
     "name": "stdout",
     "output_type": "stream",
     "text": [
      "INFO:tensorflow:Assets written to: ../../artifacts/checkpoints\\checkpoint_AlexNet\\assets\n"
     ]
    },
    {
     "name": "stderr",
     "output_type": "stream",
     "text": [
      "INFO:tensorflow:Assets written to: ../../artifacts/checkpoints\\checkpoint_AlexNet\\assets\n"
     ]
    },
    {
     "name": "stdout",
     "output_type": "stream",
     "text": [
      "9/9 [==============================] - 3s 316ms/step - loss: 5.7409 - accuracy: 0.1095 - val_loss: 5.3239 - val_accuracy: 0.0691 - lr: 0.0010\n",
      "Epoch 7/100\n",
      "8/9 [=========================>....] - ETA: 0s - loss: 4.9149 - accuracy: 0.1318\n",
      "Epoch 7: val_loss improved from 5.32392 to 4.73304, saving model to ../../artifacts/checkpoints\\checkpoint_AlexNet\n"
     ]
    },
    {
     "name": "stderr",
     "output_type": "stream",
     "text": [
      "WARNING:absl:Found untraced functions such as _jit_compiled_convolution_op, _jit_compiled_convolution_op, _jit_compiled_convolution_op, _jit_compiled_convolution_op, _jit_compiled_convolution_op while saving (showing 5 of 5). These functions will not be directly callable after loading.\n"
     ]
    },
    {
     "name": "stdout",
     "output_type": "stream",
     "text": [
      "INFO:tensorflow:Assets written to: ../../artifacts/checkpoints\\checkpoint_AlexNet\\assets\n"
     ]
    },
    {
     "name": "stderr",
     "output_type": "stream",
     "text": [
      "INFO:tensorflow:Assets written to: ../../artifacts/checkpoints\\checkpoint_AlexNet\\assets\n"
     ]
    },
    {
     "name": "stdout",
     "output_type": "stream",
     "text": [
      "9/9 [==============================] - 3s 332ms/step - loss: 4.9075 - accuracy: 0.1328 - val_loss: 4.7330 - val_accuracy: 0.0783 - lr: 0.0010\n",
      "Epoch 8/100\n",
      "8/9 [=========================>....] - ETA: 0s - loss: 4.3882 - accuracy: 0.1552\n",
      "Epoch 8: val_loss improved from 4.73304 to 4.32158, saving model to ../../artifacts/checkpoints\\checkpoint_AlexNet\n"
     ]
    },
    {
     "name": "stderr",
     "output_type": "stream",
     "text": [
      "WARNING:absl:Found untraced functions such as _jit_compiled_convolution_op, _jit_compiled_convolution_op, _jit_compiled_convolution_op, _jit_compiled_convolution_op, _jit_compiled_convolution_op while saving (showing 5 of 5). These functions will not be directly callable after loading.\n"
     ]
    },
    {
     "name": "stdout",
     "output_type": "stream",
     "text": [
      "INFO:tensorflow:Assets written to: ../../artifacts/checkpoints\\checkpoint_AlexNet\\assets\n"
     ]
    },
    {
     "name": "stderr",
     "output_type": "stream",
     "text": [
      "INFO:tensorflow:Assets written to: ../../artifacts/checkpoints\\checkpoint_AlexNet\\assets\n"
     ]
    },
    {
     "name": "stdout",
     "output_type": "stream",
     "text": [
      "9/9 [==============================] - 3s 317ms/step - loss: 4.3857 - accuracy: 0.1547 - val_loss: 4.3216 - val_accuracy: 0.0829 - lr: 0.0010\n",
      "Epoch 9/100\n",
      "8/9 [=========================>....] - ETA: 0s - loss: 4.0154 - accuracy: 0.1612\n",
      "Epoch 9: val_loss improved from 4.32158 to 4.03710, saving model to ../../artifacts/checkpoints\\checkpoint_AlexNet\n"
     ]
    },
    {
     "name": "stderr",
     "output_type": "stream",
     "text": [
      "WARNING:absl:Found untraced functions such as _jit_compiled_convolution_op, _jit_compiled_convolution_op, _jit_compiled_convolution_op, _jit_compiled_convolution_op, _jit_compiled_convolution_op while saving (showing 5 of 5). These functions will not be directly callable after loading.\n"
     ]
    },
    {
     "name": "stdout",
     "output_type": "stream",
     "text": [
      "INFO:tensorflow:Assets written to: ../../artifacts/checkpoints\\checkpoint_AlexNet\\assets\n"
     ]
    },
    {
     "name": "stderr",
     "output_type": "stream",
     "text": [
      "INFO:tensorflow:Assets written to: ../../artifacts/checkpoints\\checkpoint_AlexNet\\assets\n"
     ]
    },
    {
     "name": "stdout",
     "output_type": "stream",
     "text": [
      "9/9 [==============================] - 3s 345ms/step - loss: 4.0140 - accuracy: 0.1598 - val_loss: 4.0371 - val_accuracy: 0.0876 - lr: 0.0010\n",
      "Epoch 10/100\n",
      "8/9 [=========================>....] - ETA: 0s - loss: 3.7297 - accuracy: 0.1682\n",
      "Epoch 10: val_loss improved from 4.03710 to 3.91402, saving model to ../../artifacts/checkpoints\\checkpoint_AlexNet\n"
     ]
    },
    {
     "name": "stderr",
     "output_type": "stream",
     "text": [
      "WARNING:absl:Found untraced functions such as _jit_compiled_convolution_op, _jit_compiled_convolution_op, _jit_compiled_convolution_op, _jit_compiled_convolution_op, _jit_compiled_convolution_op while saving (showing 5 of 5). These functions will not be directly callable after loading.\n"
     ]
    },
    {
     "name": "stdout",
     "output_type": "stream",
     "text": [
      "INFO:tensorflow:Assets written to: ../../artifacts/checkpoints\\checkpoint_AlexNet\\assets\n"
     ]
    },
    {
     "name": "stderr",
     "output_type": "stream",
     "text": [
      "INFO:tensorflow:Assets written to: ../../artifacts/checkpoints\\checkpoint_AlexNet\\assets\n"
     ]
    },
    {
     "name": "stdout",
     "output_type": "stream",
     "text": [
      "9/9 [==============================] - 2s 288ms/step - loss: 3.7274 - accuracy: 0.1693 - val_loss: 3.9140 - val_accuracy: 0.0876 - lr: 0.0010\n",
      "Epoch 11/100\n",
      "8/9 [=========================>....] - ETA: 0s - loss: 3.5623 - accuracy: 0.1762\n",
      "Epoch 11: val_loss improved from 3.91402 to 3.63318, saving model to ../../artifacts/checkpoints\\checkpoint_AlexNet\n"
     ]
    },
    {
     "name": "stderr",
     "output_type": "stream",
     "text": [
      "WARNING:absl:Found untraced functions such as _jit_compiled_convolution_op, _jit_compiled_convolution_op, _jit_compiled_convolution_op, _jit_compiled_convolution_op, _jit_compiled_convolution_op while saving (showing 5 of 5). These functions will not be directly callable after loading.\n"
     ]
    },
    {
     "name": "stdout",
     "output_type": "stream",
     "text": [
      "INFO:tensorflow:Assets written to: ../../artifacts/checkpoints\\checkpoint_AlexNet\\assets\n"
     ]
    },
    {
     "name": "stderr",
     "output_type": "stream",
     "text": [
      "INFO:tensorflow:Assets written to: ../../artifacts/checkpoints\\checkpoint_AlexNet\\assets\n"
     ]
    },
    {
     "name": "stdout",
     "output_type": "stream",
     "text": [
      "9/9 [==============================] - 3s 301ms/step - loss: 3.5590 - accuracy: 0.1764 - val_loss: 3.6332 - val_accuracy: 0.1152 - lr: 0.0010\n",
      "Epoch 12/100\n",
      "8/9 [=========================>....] - ETA: 0s - loss: 3.3857 - accuracy: 0.1865\n",
      "Epoch 12: val_loss did not improve from 3.63318\n",
      "9/9 [==============================] - 1s 147ms/step - loss: 3.3826 - accuracy: 0.1880 - val_loss: 3.6893 - val_accuracy: 0.0876 - lr: 0.0010\n",
      "Epoch 13/100\n",
      "9/9 [==============================] - ETA: 0s - loss: 3.2587 - accuracy: 0.1931\n",
      "Epoch 13: val_loss improved from 3.63318 to 3.48895, saving model to ../../artifacts/checkpoints\\checkpoint_AlexNet\n"
     ]
    },
    {
     "name": "stderr",
     "output_type": "stream",
     "text": [
      "WARNING:absl:Found untraced functions such as _jit_compiled_convolution_op, _jit_compiled_convolution_op, _jit_compiled_convolution_op, _jit_compiled_convolution_op, _jit_compiled_convolution_op while saving (showing 5 of 5). These functions will not be directly callable after loading.\n"
     ]
    },
    {
     "name": "stdout",
     "output_type": "stream",
     "text": [
      "INFO:tensorflow:Assets written to: ../../artifacts/checkpoints\\checkpoint_AlexNet\\assets\n"
     ]
    },
    {
     "name": "stderr",
     "output_type": "stream",
     "text": [
      "INFO:tensorflow:Assets written to: ../../artifacts/checkpoints\\checkpoint_AlexNet\\assets\n"
     ]
    },
    {
     "name": "stdout",
     "output_type": "stream",
     "text": [
      "9/9 [==============================] - 3s 388ms/step - loss: 3.2587 - accuracy: 0.1931 - val_loss: 3.4890 - val_accuracy: 0.1336 - lr: 0.0010\n",
      "Epoch 14/100\n",
      "8/9 [=========================>....] - ETA: 0s - loss: 3.1299 - accuracy: 0.2150\n",
      "Epoch 14: val_loss improved from 3.48895 to 3.36351, saving model to ../../artifacts/checkpoints\\checkpoint_AlexNet\n"
     ]
    },
    {
     "name": "stderr",
     "output_type": "stream",
     "text": [
      "WARNING:absl:Found untraced functions such as _jit_compiled_convolution_op, _jit_compiled_convolution_op, _jit_compiled_convolution_op, _jit_compiled_convolution_op, _jit_compiled_convolution_op while saving (showing 5 of 5). These functions will not be directly callable after loading.\n"
     ]
    },
    {
     "name": "stdout",
     "output_type": "stream",
     "text": [
      "INFO:tensorflow:Assets written to: ../../artifacts/checkpoints\\checkpoint_AlexNet\\assets\n"
     ]
    },
    {
     "name": "stderr",
     "output_type": "stream",
     "text": [
      "INFO:tensorflow:Assets written to: ../../artifacts/checkpoints\\checkpoint_AlexNet\\assets\n"
     ]
    },
    {
     "name": "stdout",
     "output_type": "stream",
     "text": [
      "9/9 [==============================] - 3s 304ms/step - loss: 3.1271 - accuracy: 0.2172 - val_loss: 3.3635 - val_accuracy: 0.1429 - lr: 0.0010\n",
      "Epoch 15/100\n",
      "8/9 [=========================>....] - ETA: 0s - loss: 3.0579 - accuracy: 0.2245\n",
      "Epoch 15: val_loss improved from 3.36351 to 3.30512, saving model to ../../artifacts/checkpoints\\checkpoint_AlexNet\n"
     ]
    },
    {
     "name": "stderr",
     "output_type": "stream",
     "text": [
      "WARNING:absl:Found untraced functions such as _jit_compiled_convolution_op, _jit_compiled_convolution_op, _jit_compiled_convolution_op, _jit_compiled_convolution_op, _jit_compiled_convolution_op while saving (showing 5 of 5). These functions will not be directly callable after loading.\n"
     ]
    },
    {
     "name": "stdout",
     "output_type": "stream",
     "text": [
      "INFO:tensorflow:Assets written to: ../../artifacts/checkpoints\\checkpoint_AlexNet\\assets\n"
     ]
    },
    {
     "name": "stderr",
     "output_type": "stream",
     "text": [
      "INFO:tensorflow:Assets written to: ../../artifacts/checkpoints\\checkpoint_AlexNet\\assets\n"
     ]
    },
    {
     "name": "stdout",
     "output_type": "stream",
     "text": [
      "9/9 [==============================] - 3s 318ms/step - loss: 3.0552 - accuracy: 0.2250 - val_loss: 3.3051 - val_accuracy: 0.1889 - lr: 0.0010\n",
      "Epoch 16/100\n",
      "8/9 [=========================>....] - ETA: 0s - loss: 2.9528 - accuracy: 0.2422\n",
      "Epoch 16: val_loss did not improve from 3.30512\n",
      "9/9 [==============================] - 1s 147ms/step - loss: 2.9536 - accuracy: 0.2423 - val_loss: 3.4143 - val_accuracy: 0.1475 - lr: 0.0010\n",
      "Epoch 17/100\n",
      "8/9 [=========================>....] - ETA: 0s - loss: 2.8857 - accuracy: 0.2573\n",
      "Epoch 17: val_loss did not improve from 3.30512\n",
      "9/9 [==============================] - 1s 147ms/step - loss: 2.8866 - accuracy: 0.2569 - val_loss: 3.3410 - val_accuracy: 0.1336 - lr: 0.0010\n",
      "Epoch 18/100\n",
      "8/9 [=========================>....] - ETA: 0s - loss: 2.8594 - accuracy: 0.2630\n",
      "Epoch 18: val_loss did not improve from 3.30512\n",
      "9/9 [==============================] - 1s 142ms/step - loss: 2.8577 - accuracy: 0.2639 - val_loss: 3.3413 - val_accuracy: 0.1429 - lr: 0.0010\n",
      "Epoch 19/100\n",
      "8/9 [=========================>....] - ETA: 0s - loss: 2.7452 - accuracy: 0.2803\n",
      "Epoch 19: val_loss improved from 3.30512 to 3.22713, saving model to ../../artifacts/checkpoints\\checkpoint_AlexNet\n"
     ]
    },
    {
     "name": "stderr",
     "output_type": "stream",
     "text": [
      "WARNING:absl:Found untraced functions such as _jit_compiled_convolution_op, _jit_compiled_convolution_op, _jit_compiled_convolution_op, _jit_compiled_convolution_op, _jit_compiled_convolution_op while saving (showing 5 of 5). These functions will not be directly callable after loading.\n"
     ]
    },
    {
     "name": "stdout",
     "output_type": "stream",
     "text": [
      "INFO:tensorflow:Assets written to: ../../artifacts/checkpoints\\checkpoint_AlexNet\\assets\n"
     ]
    },
    {
     "name": "stderr",
     "output_type": "stream",
     "text": [
      "INFO:tensorflow:Assets written to: ../../artifacts/checkpoints\\checkpoint_AlexNet\\assets\n"
     ]
    },
    {
     "name": "stdout",
     "output_type": "stream",
     "text": [
      "9/9 [==============================] - 2s 288ms/step - loss: 2.7413 - accuracy: 0.2810 - val_loss: 3.2271 - val_accuracy: 0.1567 - lr: 5.0000e-04\n",
      "Epoch 20/100\n",
      "8/9 [=========================>....] - ETA: 0s - loss: 2.6017 - accuracy: 0.3090\n",
      "Epoch 20: val_loss did not improve from 3.22713\n",
      "9/9 [==============================] - 1s 143ms/step - loss: 2.6009 - accuracy: 0.3094 - val_loss: 3.2709 - val_accuracy: 0.1567 - lr: 5.0000e-04\n",
      "Epoch 21/100\n",
      "8/9 [=========================>....] - ETA: 0s - loss: 2.5233 - accuracy: 0.3383\n",
      "Epoch 21: val_loss improved from 3.22713 to 3.12388, saving model to ../../artifacts/checkpoints\\checkpoint_AlexNet\n"
     ]
    },
    {
     "name": "stderr",
     "output_type": "stream",
     "text": [
      "WARNING:absl:Found untraced functions such as _jit_compiled_convolution_op, _jit_compiled_convolution_op, _jit_compiled_convolution_op, _jit_compiled_convolution_op, _jit_compiled_convolution_op while saving (showing 5 of 5). These functions will not be directly callable after loading.\n"
     ]
    },
    {
     "name": "stdout",
     "output_type": "stream",
     "text": [
      "INFO:tensorflow:Assets written to: ../../artifacts/checkpoints\\checkpoint_AlexNet\\assets\n"
     ]
    },
    {
     "name": "stderr",
     "output_type": "stream",
     "text": [
      "INFO:tensorflow:Assets written to: ../../artifacts/checkpoints\\checkpoint_AlexNet\\assets\n"
     ]
    },
    {
     "name": "stdout",
     "output_type": "stream",
     "text": [
      "9/9 [==============================] - 3s 311ms/step - loss: 2.5202 - accuracy: 0.3384 - val_loss: 3.1239 - val_accuracy: 0.1475 - lr: 5.0000e-04\n",
      "Epoch 22/100\n",
      "8/9 [=========================>....] - ETA: 0s - loss: 2.4912 - accuracy: 0.3325\n",
      "Epoch 22: val_loss did not improve from 3.12388\n",
      "9/9 [==============================] - 1s 142ms/step - loss: 2.4945 - accuracy: 0.3313 - val_loss: 3.3785 - val_accuracy: 0.1244 - lr: 5.0000e-04\n",
      "Epoch 23/100\n",
      "8/9 [=========================>....] - ETA: 0s - loss: 2.3721 - accuracy: 0.3627\n",
      "Epoch 23: val_loss did not improve from 3.12388\n",
      "9/9 [==============================] - 1s 143ms/step - loss: 2.3722 - accuracy: 0.3620 - val_loss: 3.7078 - val_accuracy: 0.1106 - lr: 5.0000e-04\n",
      "Epoch 24/100\n",
      "8/9 [=========================>....] - ETA: 0s - loss: 2.3139 - accuracy: 0.3792\n",
      "Epoch 24: val_loss did not improve from 3.12388\n",
      "9/9 [==============================] - 1s 141ms/step - loss: 2.3164 - accuracy: 0.3785 - val_loss: 3.1847 - val_accuracy: 0.1889 - lr: 5.0000e-04\n",
      "Epoch 25/100\n",
      "8/9 [=========================>....] - ETA: 0s - loss: 2.2120 - accuracy: 0.4207\n",
      "Epoch 25: val_loss did not improve from 3.12388\n",
      "9/9 [==============================] - 1s 144ms/step - loss: 2.2143 - accuracy: 0.4206 - val_loss: 3.3212 - val_accuracy: 0.1659 - lr: 2.5000e-04\n",
      "Epoch 26/100\n",
      "8/9 [=========================>....] - ETA: 0s - loss: 2.1058 - accuracy: 0.4473\n",
      "Epoch 26: val_loss did not improve from 3.12388\n",
      "9/9 [==============================] - 1s 143ms/step - loss: 2.1039 - accuracy: 0.4478 - val_loss: 3.5769 - val_accuracy: 0.1429 - lr: 2.5000e-04\n",
      "Epoch 27/100\n",
      "8/9 [=========================>....] - ETA: 0s - loss: 2.0122 - accuracy: 0.4688\n",
      "Epoch 27: val_loss did not improve from 3.12388\n",
      "9/9 [==============================] - 1s 142ms/step - loss: 2.0235 - accuracy: 0.4653 - val_loss: 3.4575 - val_accuracy: 0.1705 - lr: 2.5000e-04\n",
      "Epoch 28/100\n",
      "8/9 [=========================>....] - ETA: 0s - loss: 1.9537 - accuracy: 0.4837\n",
      "Epoch 28: val_loss did not improve from 3.12388\n",
      "9/9 [==============================] - 1s 142ms/step - loss: 1.9526 - accuracy: 0.4848 - val_loss: 3.4503 - val_accuracy: 0.1567 - lr: 1.2500e-04\n",
      "Epoch 29/100\n",
      "8/9 [=========================>....] - ETA: 0s - loss: 1.8872 - accuracy: 0.5030\n",
      "Epoch 29: val_loss did not improve from 3.12388\n",
      "9/9 [==============================] - 1s 142ms/step - loss: 1.8831 - accuracy: 0.5035 - val_loss: 3.4669 - val_accuracy: 0.1843 - lr: 1.2500e-04\n",
      "Epoch 30/100\n",
      "8/9 [=========================>....] - ETA: 0s - loss: 1.8385 - accuracy: 0.5145\n",
      "Epoch 30: val_loss did not improve from 3.12388\n",
      "9/9 [==============================] - 1s 143ms/step - loss: 1.8365 - accuracy: 0.5147 - val_loss: 3.4929 - val_accuracy: 0.1613 - lr: 1.2500e-04\n",
      "Epoch 31/100\n",
      "8/9 [=========================>....] - ETA: 0s - loss: 1.7806 - accuracy: 0.5353\n",
      "Epoch 31: val_loss did not improve from 3.12388\n",
      "9/9 [==============================] - 1s 142ms/step - loss: 1.7832 - accuracy: 0.5347 - val_loss: 3.3161 - val_accuracy: 0.1935 - lr: 6.2500e-05\n",
      "Epoch 32/100\n",
      "8/9 [=========================>....] - ETA: 0s - loss: 1.7361 - accuracy: 0.5470\n",
      "Epoch 32: val_loss did not improve from 3.12388\n",
      "9/9 [==============================] - 1s 144ms/step - loss: 1.7384 - accuracy: 0.5459 - val_loss: 3.3983 - val_accuracy: 0.2074 - lr: 6.2500e-05\n",
      "Epoch 33/100\n",
      "8/9 [=========================>....] - ETA: 0s - loss: 1.7131 - accuracy: 0.5502\n",
      "Epoch 33: val_loss did not improve from 3.12388\n",
      "9/9 [==============================] - 1s 143ms/step - loss: 1.7148 - accuracy: 0.5502 - val_loss: 3.3806 - val_accuracy: 0.2028 - lr: 6.2500e-05\n",
      "Epoch 34/100\n",
      "8/9 [=========================>....] - ETA: 0s - loss: 1.6935 - accuracy: 0.5665\n",
      "Epoch 34: val_loss did not improve from 3.12388\n",
      "9/9 [==============================] - 1s 143ms/step - loss: 1.6936 - accuracy: 0.5685 - val_loss: 3.3476 - val_accuracy: 0.2166 - lr: 3.1250e-05\n",
      "Epoch 35/100\n",
      "8/9 [=========================>....] - ETA: 0s - loss: 1.6724 - accuracy: 0.5742\n",
      "Epoch 35: val_loss did not improve from 3.12388\n",
      "9/9 [==============================] - 1s 141ms/step - loss: 1.6679 - accuracy: 0.5750 - val_loss: 3.3355 - val_accuracy: 0.2166 - lr: 3.1250e-05\n",
      "Epoch 36/100\n",
      "8/9 [=========================>....] - ETA: 0s - loss: 1.6439 - accuracy: 0.5735\n",
      "Epoch 36: val_loss did not improve from 3.12388\n",
      "9/9 [==============================] - 1s 143ms/step - loss: 1.6490 - accuracy: 0.5712 - val_loss: 3.2322 - val_accuracy: 0.2350 - lr: 3.1250e-05\n",
      "Epoch 37/100\n",
      "8/9 [=========================>....] - ETA: 0s - loss: 1.6356 - accuracy: 0.5820\n",
      "Epoch 37: val_loss did not improve from 3.12388\n",
      "9/9 [==============================] - 1s 144ms/step - loss: 1.6346 - accuracy: 0.5836 - val_loss: 3.2515 - val_accuracy: 0.2442 - lr: 1.5625e-05\n",
      "Epoch 38/100\n",
      "8/9 [=========================>....] - ETA: 0s - loss: 1.6208 - accuracy: 0.5903\n",
      "Epoch 38: val_loss did not improve from 3.12388\n",
      "9/9 [==============================] - 1s 146ms/step - loss: 1.6281 - accuracy: 0.5867 - val_loss: 3.1849 - val_accuracy: 0.2488 - lr: 1.5625e-05\n",
      "Epoch 39/100\n",
      "8/9 [=========================>....] - ETA: 0s - loss: 1.6198 - accuracy: 0.5800\n",
      "Epoch 39: val_loss improved from 3.12388 to 3.10761, saving model to ../../artifacts/checkpoints\\checkpoint_AlexNet\n"
     ]
    },
    {
     "name": "stderr",
     "output_type": "stream",
     "text": [
      "WARNING:absl:Found untraced functions such as _jit_compiled_convolution_op, _jit_compiled_convolution_op, _jit_compiled_convolution_op, _jit_compiled_convolution_op, _jit_compiled_convolution_op while saving (showing 5 of 5). These functions will not be directly callable after loading.\n"
     ]
    },
    {
     "name": "stdout",
     "output_type": "stream",
     "text": [
      "INFO:tensorflow:Assets written to: ../../artifacts/checkpoints\\checkpoint_AlexNet\\assets\n"
     ]
    },
    {
     "name": "stderr",
     "output_type": "stream",
     "text": [
      "INFO:tensorflow:Assets written to: ../../artifacts/checkpoints\\checkpoint_AlexNet\\assets\n"
     ]
    },
    {
     "name": "stdout",
     "output_type": "stream",
     "text": [
      "9/9 [==============================] - 2s 285ms/step - loss: 1.6188 - accuracy: 0.5806 - val_loss: 3.1076 - val_accuracy: 0.2581 - lr: 1.5625e-05\n",
      "Epoch 40/100\n",
      "8/9 [=========================>....] - ETA: 0s - loss: 1.5967 - accuracy: 0.5970\n",
      "Epoch 40: val_loss did not improve from 3.10761\n",
      "9/9 [==============================] - 1s 142ms/step - loss: 1.5999 - accuracy: 0.5957 - val_loss: 3.1109 - val_accuracy: 0.2719 - lr: 1.5625e-05\n",
      "Epoch 41/100\n",
      "8/9 [=========================>....] - ETA: 0s - loss: 1.6046 - accuracy: 0.5888\n",
      "Epoch 41: val_loss improved from 3.10761 to 3.03362, saving model to ../../artifacts/checkpoints\\checkpoint_AlexNet\n"
     ]
    },
    {
     "name": "stderr",
     "output_type": "stream",
     "text": [
      "WARNING:absl:Found untraced functions such as _jit_compiled_convolution_op, _jit_compiled_convolution_op, _jit_compiled_convolution_op, _jit_compiled_convolution_op, _jit_compiled_convolution_op while saving (showing 5 of 5). These functions will not be directly callable after loading.\n"
     ]
    },
    {
     "name": "stdout",
     "output_type": "stream",
     "text": [
      "INFO:tensorflow:Assets written to: ../../artifacts/checkpoints\\checkpoint_AlexNet\\assets\n"
     ]
    },
    {
     "name": "stderr",
     "output_type": "stream",
     "text": [
      "INFO:tensorflow:Assets written to: ../../artifacts/checkpoints\\checkpoint_AlexNet\\assets\n"
     ]
    },
    {
     "name": "stdout",
     "output_type": "stream",
     "text": [
      "9/9 [==============================] - 3s 296ms/step - loss: 1.5983 - accuracy: 0.5906 - val_loss: 3.0336 - val_accuracy: 0.2673 - lr: 1.5625e-05\n",
      "Epoch 42/100\n",
      "8/9 [=========================>....] - ETA: 0s - loss: 1.5948 - accuracy: 0.5968\n",
      "Epoch 42: val_loss improved from 3.03362 to 3.01985, saving model to ../../artifacts/checkpoints\\checkpoint_AlexNet\n"
     ]
    },
    {
     "name": "stderr",
     "output_type": "stream",
     "text": [
      "WARNING:absl:Found untraced functions such as _jit_compiled_convolution_op, _jit_compiled_convolution_op, _jit_compiled_convolution_op, _jit_compiled_convolution_op, _jit_compiled_convolution_op while saving (showing 5 of 5). These functions will not be directly callable after loading.\n"
     ]
    },
    {
     "name": "stdout",
     "output_type": "stream",
     "text": [
      "INFO:tensorflow:Assets written to: ../../artifacts/checkpoints\\checkpoint_AlexNet\\assets\n"
     ]
    },
    {
     "name": "stderr",
     "output_type": "stream",
     "text": [
      "INFO:tensorflow:Assets written to: ../../artifacts/checkpoints\\checkpoint_AlexNet\\assets\n"
     ]
    },
    {
     "name": "stdout",
     "output_type": "stream",
     "text": [
      "9/9 [==============================] - 2s 291ms/step - loss: 1.5897 - accuracy: 0.5982 - val_loss: 3.0198 - val_accuracy: 0.2765 - lr: 1.5625e-05\n",
      "Epoch 43/100\n",
      "8/9 [=========================>....] - ETA: 0s - loss: 1.5775 - accuracy: 0.5985\n",
      "Epoch 43: val_loss improved from 3.01985 to 2.97300, saving model to ../../artifacts/checkpoints\\checkpoint_AlexNet\n"
     ]
    },
    {
     "name": "stderr",
     "output_type": "stream",
     "text": [
      "WARNING:absl:Found untraced functions such as _jit_compiled_convolution_op, _jit_compiled_convolution_op, _jit_compiled_convolution_op, _jit_compiled_convolution_op, _jit_compiled_convolution_op while saving (showing 5 of 5). These functions will not be directly callable after loading.\n"
     ]
    },
    {
     "name": "stdout",
     "output_type": "stream",
     "text": [
      "INFO:tensorflow:Assets written to: ../../artifacts/checkpoints\\checkpoint_AlexNet\\assets\n"
     ]
    },
    {
     "name": "stderr",
     "output_type": "stream",
     "text": [
      "INFO:tensorflow:Assets written to: ../../artifacts/checkpoints\\checkpoint_AlexNet\\assets\n"
     ]
    },
    {
     "name": "stdout",
     "output_type": "stream",
     "text": [
      "9/9 [==============================] - 3s 295ms/step - loss: 1.5825 - accuracy: 0.5969 - val_loss: 2.9730 - val_accuracy: 0.2811 - lr: 1.5625e-05\n",
      "Epoch 44/100\n",
      "8/9 [=========================>....] - ETA: 0s - loss: 1.5750 - accuracy: 0.5985\n",
      "Epoch 44: val_loss improved from 2.97300 to 2.93900, saving model to ../../artifacts/checkpoints\\checkpoint_AlexNet\n"
     ]
    },
    {
     "name": "stderr",
     "output_type": "stream",
     "text": [
      "WARNING:absl:Found untraced functions such as _jit_compiled_convolution_op, _jit_compiled_convolution_op, _jit_compiled_convolution_op, _jit_compiled_convolution_op, _jit_compiled_convolution_op while saving (showing 5 of 5). These functions will not be directly callable after loading.\n"
     ]
    },
    {
     "name": "stdout",
     "output_type": "stream",
     "text": [
      "INFO:tensorflow:Assets written to: ../../artifacts/checkpoints\\checkpoint_AlexNet\\assets\n"
     ]
    },
    {
     "name": "stderr",
     "output_type": "stream",
     "text": [
      "INFO:tensorflow:Assets written to: ../../artifacts/checkpoints\\checkpoint_AlexNet\\assets\n"
     ]
    },
    {
     "name": "stdout",
     "output_type": "stream",
     "text": [
      "9/9 [==============================] - 3s 303ms/step - loss: 1.5764 - accuracy: 0.5982 - val_loss: 2.9390 - val_accuracy: 0.2719 - lr: 1.5625e-05\n",
      "Epoch 45/100\n",
      "8/9 [=========================>....] - ETA: 0s - loss: 1.5668 - accuracy: 0.6010\n",
      "Epoch 45: val_loss improved from 2.93900 to 2.92696, saving model to ../../artifacts/checkpoints\\checkpoint_AlexNet\n"
     ]
    },
    {
     "name": "stderr",
     "output_type": "stream",
     "text": [
      "WARNING:absl:Found untraced functions such as _jit_compiled_convolution_op, _jit_compiled_convolution_op, _jit_compiled_convolution_op, _jit_compiled_convolution_op, _jit_compiled_convolution_op while saving (showing 5 of 5). These functions will not be directly callable after loading.\n"
     ]
    },
    {
     "name": "stdout",
     "output_type": "stream",
     "text": [
      "INFO:tensorflow:Assets written to: ../../artifacts/checkpoints\\checkpoint_AlexNet\\assets\n"
     ]
    },
    {
     "name": "stderr",
     "output_type": "stream",
     "text": [
      "INFO:tensorflow:Assets written to: ../../artifacts/checkpoints\\checkpoint_AlexNet\\assets\n"
     ]
    },
    {
     "name": "stdout",
     "output_type": "stream",
     "text": [
      "9/9 [==============================] - 3s 317ms/step - loss: 1.5664 - accuracy: 0.6006 - val_loss: 2.9270 - val_accuracy: 0.2811 - lr: 1.5625e-05\n",
      "Epoch 46/100\n",
      "9/9 [==============================] - ETA: 0s - loss: 1.5615 - accuracy: 0.5999\n",
      "Epoch 46: val_loss improved from 2.92696 to 2.87145, saving model to ../../artifacts/checkpoints\\checkpoint_AlexNet\n"
     ]
    },
    {
     "name": "stderr",
     "output_type": "stream",
     "text": [
      "WARNING:absl:Found untraced functions such as _jit_compiled_convolution_op, _jit_compiled_convolution_op, _jit_compiled_convolution_op, _jit_compiled_convolution_op, _jit_compiled_convolution_op while saving (showing 5 of 5). These functions will not be directly callable after loading.\n"
     ]
    },
    {
     "name": "stdout",
     "output_type": "stream",
     "text": [
      "INFO:tensorflow:Assets written to: ../../artifacts/checkpoints\\checkpoint_AlexNet\\assets\n"
     ]
    },
    {
     "name": "stderr",
     "output_type": "stream",
     "text": [
      "INFO:tensorflow:Assets written to: ../../artifacts/checkpoints\\checkpoint_AlexNet\\assets\n"
     ]
    },
    {
     "name": "stdout",
     "output_type": "stream",
     "text": [
      "9/9 [==============================] - 6s 702ms/step - loss: 1.5615 - accuracy: 0.5999 - val_loss: 2.8714 - val_accuracy: 0.3041 - lr: 1.5625e-05\n",
      "Epoch 47/100\n",
      "8/9 [=========================>....] - ETA: 0s - loss: 1.5528 - accuracy: 0.6083\n",
      "Epoch 47: val_loss improved from 2.87145 to 2.86589, saving model to ../../artifacts/checkpoints\\checkpoint_AlexNet\n"
     ]
    },
    {
     "name": "stderr",
     "output_type": "stream",
     "text": [
      "WARNING:absl:Found untraced functions such as _jit_compiled_convolution_op, _jit_compiled_convolution_op, _jit_compiled_convolution_op, _jit_compiled_convolution_op, _jit_compiled_convolution_op while saving (showing 5 of 5). These functions will not be directly callable after loading.\n"
     ]
    },
    {
     "name": "stdout",
     "output_type": "stream",
     "text": [
      "INFO:tensorflow:Assets written to: ../../artifacts/checkpoints\\checkpoint_AlexNet\\assets\n"
     ]
    },
    {
     "name": "stderr",
     "output_type": "stream",
     "text": [
      "INFO:tensorflow:Assets written to: ../../artifacts/checkpoints\\checkpoint_AlexNet\\assets\n"
     ]
    },
    {
     "name": "stdout",
     "output_type": "stream",
     "text": [
      "9/9 [==============================] - 3s 344ms/step - loss: 1.5546 - accuracy: 0.6074 - val_loss: 2.8659 - val_accuracy: 0.2949 - lr: 1.5625e-05\n",
      "Epoch 48/100\n",
      "9/9 [==============================] - ETA: 0s - loss: 1.5531 - accuracy: 0.6008\n",
      "Epoch 48: val_loss improved from 2.86589 to 2.83623, saving model to ../../artifacts/checkpoints\\checkpoint_AlexNet\n"
     ]
    },
    {
     "name": "stderr",
     "output_type": "stream",
     "text": [
      "WARNING:absl:Found untraced functions such as _jit_compiled_convolution_op, _jit_compiled_convolution_op, _jit_compiled_convolution_op, _jit_compiled_convolution_op, _jit_compiled_convolution_op while saving (showing 5 of 5). These functions will not be directly callable after loading.\n"
     ]
    },
    {
     "name": "stdout",
     "output_type": "stream",
     "text": [
      "INFO:tensorflow:Assets written to: ../../artifacts/checkpoints\\checkpoint_AlexNet\\assets\n"
     ]
    },
    {
     "name": "stderr",
     "output_type": "stream",
     "text": [
      "INFO:tensorflow:Assets written to: ../../artifacts/checkpoints\\checkpoint_AlexNet\\assets\n"
     ]
    },
    {
     "name": "stdout",
     "output_type": "stream",
     "text": [
      "9/9 [==============================] - 3s 369ms/step - loss: 1.5531 - accuracy: 0.6008 - val_loss: 2.8362 - val_accuracy: 0.3318 - lr: 1.5625e-05\n",
      "Epoch 49/100\n",
      "8/9 [=========================>....] - ETA: 0s - loss: 1.5448 - accuracy: 0.6080\n",
      "Epoch 49: val_loss improved from 2.83623 to 2.79205, saving model to ../../artifacts/checkpoints\\checkpoint_AlexNet\n"
     ]
    },
    {
     "name": "stderr",
     "output_type": "stream",
     "text": [
      "WARNING:absl:Found untraced functions such as _jit_compiled_convolution_op, _jit_compiled_convolution_op, _jit_compiled_convolution_op, _jit_compiled_convolution_op, _jit_compiled_convolution_op while saving (showing 5 of 5). These functions will not be directly callable after loading.\n"
     ]
    },
    {
     "name": "stdout",
     "output_type": "stream",
     "text": [
      "INFO:tensorflow:Assets written to: ../../artifacts/checkpoints\\checkpoint_AlexNet\\assets\n"
     ]
    },
    {
     "name": "stderr",
     "output_type": "stream",
     "text": [
      "INFO:tensorflow:Assets written to: ../../artifacts/checkpoints\\checkpoint_AlexNet\\assets\n"
     ]
    },
    {
     "name": "stdout",
     "output_type": "stream",
     "text": [
      "9/9 [==============================] - 2s 288ms/step - loss: 1.5469 - accuracy: 0.6079 - val_loss: 2.7920 - val_accuracy: 0.3226 - lr: 1.5625e-05\n",
      "Epoch 50/100\n",
      "8/9 [=========================>....] - ETA: 0s - loss: 1.5495 - accuracy: 0.6043\n",
      "Epoch 50: val_loss improved from 2.79205 to 2.78082, saving model to ../../artifacts/checkpoints\\checkpoint_AlexNet\n"
     ]
    },
    {
     "name": "stderr",
     "output_type": "stream",
     "text": [
      "WARNING:absl:Found untraced functions such as _jit_compiled_convolution_op, _jit_compiled_convolution_op, _jit_compiled_convolution_op, _jit_compiled_convolution_op, _jit_compiled_convolution_op while saving (showing 5 of 5). These functions will not be directly callable after loading.\n"
     ]
    },
    {
     "name": "stdout",
     "output_type": "stream",
     "text": [
      "INFO:tensorflow:Assets written to: ../../artifacts/checkpoints\\checkpoint_AlexNet\\assets\n"
     ]
    },
    {
     "name": "stderr",
     "output_type": "stream",
     "text": [
      "INFO:tensorflow:Assets written to: ../../artifacts/checkpoints\\checkpoint_AlexNet\\assets\n"
     ]
    },
    {
     "name": "stdout",
     "output_type": "stream",
     "text": [
      "9/9 [==============================] - 3s 306ms/step - loss: 1.5480 - accuracy: 0.6047 - val_loss: 2.7808 - val_accuracy: 0.3318 - lr: 1.5625e-05\n",
      "Epoch 51/100\n",
      "8/9 [=========================>....] - ETA: 0s - loss: 1.5333 - accuracy: 0.6068\n",
      "Epoch 51: val_loss improved from 2.78082 to 2.75616, saving model to ../../artifacts/checkpoints\\checkpoint_AlexNet\n"
     ]
    },
    {
     "name": "stderr",
     "output_type": "stream",
     "text": [
      "WARNING:absl:Found untraced functions such as _jit_compiled_convolution_op, _jit_compiled_convolution_op, _jit_compiled_convolution_op, _jit_compiled_convolution_op, _jit_compiled_convolution_op while saving (showing 5 of 5). These functions will not be directly callable after loading.\n"
     ]
    },
    {
     "name": "stdout",
     "output_type": "stream",
     "text": [
      "INFO:tensorflow:Assets written to: ../../artifacts/checkpoints\\checkpoint_AlexNet\\assets\n"
     ]
    },
    {
     "name": "stderr",
     "output_type": "stream",
     "text": [
      "INFO:tensorflow:Assets written to: ../../artifacts/checkpoints\\checkpoint_AlexNet\\assets\n"
     ]
    },
    {
     "name": "stdout",
     "output_type": "stream",
     "text": [
      "9/9 [==============================] - 3s 304ms/step - loss: 1.5318 - accuracy: 0.6081 - val_loss: 2.7562 - val_accuracy: 0.3364 - lr: 1.5625e-05\n",
      "Epoch 52/100\n",
      "8/9 [=========================>....] - ETA: 0s - loss: 1.5312 - accuracy: 0.6120\n",
      "Epoch 52: val_loss improved from 2.75616 to 2.72157, saving model to ../../artifacts/checkpoints\\checkpoint_AlexNet\n"
     ]
    },
    {
     "name": "stderr",
     "output_type": "stream",
     "text": [
      "WARNING:absl:Found untraced functions such as _jit_compiled_convolution_op, _jit_compiled_convolution_op, _jit_compiled_convolution_op, _jit_compiled_convolution_op, _jit_compiled_convolution_op while saving (showing 5 of 5). These functions will not be directly callable after loading.\n"
     ]
    },
    {
     "name": "stdout",
     "output_type": "stream",
     "text": [
      "INFO:tensorflow:Assets written to: ../../artifacts/checkpoints\\checkpoint_AlexNet\\assets\n"
     ]
    },
    {
     "name": "stderr",
     "output_type": "stream",
     "text": [
      "INFO:tensorflow:Assets written to: ../../artifacts/checkpoints\\checkpoint_AlexNet\\assets\n"
     ]
    },
    {
     "name": "stdout",
     "output_type": "stream",
     "text": [
      "9/9 [==============================] - 3s 318ms/step - loss: 1.5330 - accuracy: 0.6115 - val_loss: 2.7216 - val_accuracy: 0.3318 - lr: 1.5625e-05\n",
      "Epoch 53/100\n",
      "9/9 [==============================] - ETA: 0s - loss: 1.5200 - accuracy: 0.6191\n",
      "Epoch 53: val_loss improved from 2.72157 to 2.71204, saving model to ../../artifacts/checkpoints\\checkpoint_AlexNet\n"
     ]
    },
    {
     "name": "stderr",
     "output_type": "stream",
     "text": [
      "WARNING:absl:Found untraced functions such as _jit_compiled_convolution_op, _jit_compiled_convolution_op, _jit_compiled_convolution_op, _jit_compiled_convolution_op, _jit_compiled_convolution_op while saving (showing 5 of 5). These functions will not be directly callable after loading.\n"
     ]
    },
    {
     "name": "stdout",
     "output_type": "stream",
     "text": [
      "INFO:tensorflow:Assets written to: ../../artifacts/checkpoints\\checkpoint_AlexNet\\assets\n"
     ]
    },
    {
     "name": "stderr",
     "output_type": "stream",
     "text": [
      "INFO:tensorflow:Assets written to: ../../artifacts/checkpoints\\checkpoint_AlexNet\\assets\n"
     ]
    },
    {
     "name": "stdout",
     "output_type": "stream",
     "text": [
      "9/9 [==============================] - 3s 373ms/step - loss: 1.5200 - accuracy: 0.6191 - val_loss: 2.7120 - val_accuracy: 0.3364 - lr: 1.5625e-05\n",
      "Epoch 54/100\n",
      "9/9 [==============================] - ETA: 0s - loss: 1.5131 - accuracy: 0.6152\n",
      "Epoch 54: val_loss did not improve from 2.71204\n",
      "9/9 [==============================] - 2s 237ms/step - loss: 1.5131 - accuracy: 0.6152 - val_loss: 2.7158 - val_accuracy: 0.3364 - lr: 1.5625e-05\n",
      "Epoch 55/100\n",
      "9/9 [==============================] - ETA: 0s - loss: 1.5050 - accuracy: 0.6125\n",
      "Epoch 55: val_loss improved from 2.71204 to 2.67610, saving model to ../../artifacts/checkpoints\\checkpoint_AlexNet\n"
     ]
    },
    {
     "name": "stderr",
     "output_type": "stream",
     "text": [
      "WARNING:absl:Found untraced functions such as _jit_compiled_convolution_op, _jit_compiled_convolution_op, _jit_compiled_convolution_op, _jit_compiled_convolution_op, _jit_compiled_convolution_op while saving (showing 5 of 5). These functions will not be directly callable after loading.\n"
     ]
    },
    {
     "name": "stdout",
     "output_type": "stream",
     "text": [
      "INFO:tensorflow:Assets written to: ../../artifacts/checkpoints\\checkpoint_AlexNet\\assets\n"
     ]
    },
    {
     "name": "stderr",
     "output_type": "stream",
     "text": [
      "INFO:tensorflow:Assets written to: ../../artifacts/checkpoints\\checkpoint_AlexNet\\assets\n"
     ]
    },
    {
     "name": "stdout",
     "output_type": "stream",
     "text": [
      "9/9 [==============================] - 3s 359ms/step - loss: 1.5050 - accuracy: 0.6125 - val_loss: 2.6761 - val_accuracy: 0.3364 - lr: 1.5625e-05\n",
      "Epoch 56/100\n",
      "8/9 [=========================>....] - ETA: 0s - loss: 1.4998 - accuracy: 0.6220\n",
      "Epoch 56: val_loss improved from 2.67610 to 2.67062, saving model to ../../artifacts/checkpoints\\checkpoint_AlexNet\n"
     ]
    },
    {
     "name": "stderr",
     "output_type": "stream",
     "text": [
      "WARNING:absl:Found untraced functions such as _jit_compiled_convolution_op, _jit_compiled_convolution_op, _jit_compiled_convolution_op, _jit_compiled_convolution_op, _jit_compiled_convolution_op while saving (showing 5 of 5). These functions will not be directly callable after loading.\n"
     ]
    },
    {
     "name": "stdout",
     "output_type": "stream",
     "text": [
      "INFO:tensorflow:Assets written to: ../../artifacts/checkpoints\\checkpoint_AlexNet\\assets\n"
     ]
    },
    {
     "name": "stderr",
     "output_type": "stream",
     "text": [
      "INFO:tensorflow:Assets written to: ../../artifacts/checkpoints\\checkpoint_AlexNet\\assets\n"
     ]
    },
    {
     "name": "stdout",
     "output_type": "stream",
     "text": [
      "9/9 [==============================] - 3s 330ms/step - loss: 1.4998 - accuracy: 0.6220 - val_loss: 2.6706 - val_accuracy: 0.3456 - lr: 1.5625e-05\n",
      "Epoch 57/100\n",
      "8/9 [=========================>....] - ETA: 0s - loss: 1.4886 - accuracy: 0.6217\n",
      "Epoch 57: val_loss did not improve from 2.67062\n",
      "9/9 [==============================] - 1s 142ms/step - loss: 1.4941 - accuracy: 0.6203 - val_loss: 2.6749 - val_accuracy: 0.3364 - lr: 1.5625e-05\n",
      "Epoch 58/100\n",
      "8/9 [=========================>....] - ETA: 0s - loss: 1.4872 - accuracy: 0.6195\n",
      "Epoch 58: val_loss did not improve from 2.67062\n",
      "9/9 [==============================] - 1s 142ms/step - loss: 1.4846 - accuracy: 0.6200 - val_loss: 2.6733 - val_accuracy: 0.3548 - lr: 1.5625e-05\n",
      "Epoch 59/100\n",
      "8/9 [=========================>....] - ETA: 0s - loss: 1.4822 - accuracy: 0.6292\n",
      "Epoch 59: val_loss improved from 2.67062 to 2.64832, saving model to ../../artifacts/checkpoints\\checkpoint_AlexNet\n"
     ]
    },
    {
     "name": "stderr",
     "output_type": "stream",
     "text": [
      "WARNING:absl:Found untraced functions such as _jit_compiled_convolution_op, _jit_compiled_convolution_op, _jit_compiled_convolution_op, _jit_compiled_convolution_op, _jit_compiled_convolution_op while saving (showing 5 of 5). These functions will not be directly callable after loading.\n"
     ]
    },
    {
     "name": "stdout",
     "output_type": "stream",
     "text": [
      "INFO:tensorflow:Assets written to: ../../artifacts/checkpoints\\checkpoint_AlexNet\\assets\n"
     ]
    },
    {
     "name": "stderr",
     "output_type": "stream",
     "text": [
      "INFO:tensorflow:Assets written to: ../../artifacts/checkpoints\\checkpoint_AlexNet\\assets\n"
     ]
    },
    {
     "name": "stdout",
     "output_type": "stream",
     "text": [
      "9/9 [==============================] - 3s 297ms/step - loss: 1.4845 - accuracy: 0.6288 - val_loss: 2.6483 - val_accuracy: 0.3502 - lr: 1.5625e-05\n",
      "Epoch 60/100\n",
      "8/9 [=========================>....] - ETA: 0s - loss: 1.4679 - accuracy: 0.6342\n",
      "Epoch 60: val_loss improved from 2.64832 to 2.63775, saving model to ../../artifacts/checkpoints\\checkpoint_AlexNet\n"
     ]
    },
    {
     "name": "stderr",
     "output_type": "stream",
     "text": [
      "WARNING:absl:Found untraced functions such as _jit_compiled_convolution_op, _jit_compiled_convolution_op, _jit_compiled_convolution_op, _jit_compiled_convolution_op, _jit_compiled_convolution_op while saving (showing 5 of 5). These functions will not be directly callable after loading.\n"
     ]
    },
    {
     "name": "stdout",
     "output_type": "stream",
     "text": [
      "INFO:tensorflow:Assets written to: ../../artifacts/checkpoints\\checkpoint_AlexNet\\assets\n"
     ]
    },
    {
     "name": "stderr",
     "output_type": "stream",
     "text": [
      "INFO:tensorflow:Assets written to: ../../artifacts/checkpoints\\checkpoint_AlexNet\\assets\n"
     ]
    },
    {
     "name": "stdout",
     "output_type": "stream",
     "text": [
      "9/9 [==============================] - 3s 307ms/step - loss: 1.4679 - accuracy: 0.6346 - val_loss: 2.6377 - val_accuracy: 0.3548 - lr: 1.5625e-05\n",
      "Epoch 61/100\n",
      "8/9 [=========================>....] - ETA: 0s - loss: 1.4703 - accuracy: 0.6298\n",
      "Epoch 61: val_loss did not improve from 2.63775\n",
      "9/9 [==============================] - 1s 143ms/step - loss: 1.4704 - accuracy: 0.6298 - val_loss: 2.6465 - val_accuracy: 0.3502 - lr: 1.5625e-05\n",
      "Epoch 62/100\n",
      "8/9 [=========================>....] - ETA: 0s - loss: 1.4714 - accuracy: 0.6290\n",
      "Epoch 62: val_loss improved from 2.63775 to 2.62318, saving model to ../../artifacts/checkpoints\\checkpoint_AlexNet\n"
     ]
    },
    {
     "name": "stderr",
     "output_type": "stream",
     "text": [
      "WARNING:absl:Found untraced functions such as _jit_compiled_convolution_op, _jit_compiled_convolution_op, _jit_compiled_convolution_op, _jit_compiled_convolution_op, _jit_compiled_convolution_op while saving (showing 5 of 5). These functions will not be directly callable after loading.\n"
     ]
    },
    {
     "name": "stdout",
     "output_type": "stream",
     "text": [
      "INFO:tensorflow:Assets written to: ../../artifacts/checkpoints\\checkpoint_AlexNet\\assets\n"
     ]
    },
    {
     "name": "stderr",
     "output_type": "stream",
     "text": [
      "INFO:tensorflow:Assets written to: ../../artifacts/checkpoints\\checkpoint_AlexNet\\assets\n"
     ]
    },
    {
     "name": "stdout",
     "output_type": "stream",
     "text": [
      "9/9 [==============================] - 3s 296ms/step - loss: 1.4668 - accuracy: 0.6295 - val_loss: 2.6232 - val_accuracy: 0.3548 - lr: 1.5625e-05\n",
      "Epoch 63/100\n",
      "8/9 [=========================>....] - ETA: 0s - loss: 1.4567 - accuracy: 0.6290\n",
      "Epoch 63: val_loss did not improve from 2.62318\n",
      "9/9 [==============================] - 1s 149ms/step - loss: 1.4587 - accuracy: 0.6286 - val_loss: 2.6274 - val_accuracy: 0.3594 - lr: 1.5625e-05\n",
      "Epoch 64/100\n",
      "8/9 [=========================>....] - ETA: 0s - loss: 1.4534 - accuracy: 0.6283\n",
      "Epoch 64: val_loss did not improve from 2.62318\n",
      "9/9 [==============================] - 1s 145ms/step - loss: 1.4503 - accuracy: 0.6300 - val_loss: 2.6317 - val_accuracy: 0.3502 - lr: 1.5625e-05\n",
      "Epoch 65/100\n",
      "8/9 [=========================>....] - ETA: 0s - loss: 1.4569 - accuracy: 0.6245\n",
      "Epoch 65: val_loss improved from 2.62318 to 2.61428, saving model to ../../artifacts/checkpoints\\checkpoint_AlexNet\n"
     ]
    },
    {
     "name": "stderr",
     "output_type": "stream",
     "text": [
      "WARNING:absl:Found untraced functions such as _jit_compiled_convolution_op, _jit_compiled_convolution_op, _jit_compiled_convolution_op, _jit_compiled_convolution_op, _jit_compiled_convolution_op while saving (showing 5 of 5). These functions will not be directly callable after loading.\n"
     ]
    },
    {
     "name": "stdout",
     "output_type": "stream",
     "text": [
      "INFO:tensorflow:Assets written to: ../../artifacts/checkpoints\\checkpoint_AlexNet\\assets\n"
     ]
    },
    {
     "name": "stderr",
     "output_type": "stream",
     "text": [
      "INFO:tensorflow:Assets written to: ../../artifacts/checkpoints\\checkpoint_AlexNet\\assets\n"
     ]
    },
    {
     "name": "stdout",
     "output_type": "stream",
     "text": [
      "9/9 [==============================] - 3s 306ms/step - loss: 1.4546 - accuracy: 0.6269 - val_loss: 2.6143 - val_accuracy: 0.3502 - lr: 1.5625e-05\n",
      "Epoch 66/100\n",
      "8/9 [=========================>....] - ETA: 0s - loss: 1.4365 - accuracy: 0.6375\n",
      "Epoch 66: val_loss improved from 2.61428 to 2.61151, saving model to ../../artifacts/checkpoints\\checkpoint_AlexNet\n"
     ]
    },
    {
     "name": "stderr",
     "output_type": "stream",
     "text": [
      "WARNING:absl:Found untraced functions such as _jit_compiled_convolution_op, _jit_compiled_convolution_op, _jit_compiled_convolution_op, _jit_compiled_convolution_op, _jit_compiled_convolution_op while saving (showing 5 of 5). These functions will not be directly callable after loading.\n"
     ]
    },
    {
     "name": "stdout",
     "output_type": "stream",
     "text": [
      "INFO:tensorflow:Assets written to: ../../artifacts/checkpoints\\checkpoint_AlexNet\\assets\n"
     ]
    },
    {
     "name": "stderr",
     "output_type": "stream",
     "text": [
      "INFO:tensorflow:Assets written to: ../../artifacts/checkpoints\\checkpoint_AlexNet\\assets\n"
     ]
    },
    {
     "name": "stdout",
     "output_type": "stream",
     "text": [
      "9/9 [==============================] - 2s 291ms/step - loss: 1.4403 - accuracy: 0.6351 - val_loss: 2.6115 - val_accuracy: 0.3502 - lr: 1.5625e-05\n",
      "Epoch 67/100\n",
      "8/9 [=========================>....] - ETA: 0s - loss: 1.4277 - accuracy: 0.6415\n",
      "Epoch 67: val_loss did not improve from 2.61151\n",
      "9/9 [==============================] - 1s 146ms/step - loss: 1.4288 - accuracy: 0.6410 - val_loss: 2.6186 - val_accuracy: 0.3502 - lr: 1.5625e-05\n",
      "Epoch 68/100\n",
      "8/9 [=========================>....] - ETA: 0s - loss: 1.4327 - accuracy: 0.6380\n",
      "Epoch 68: val_loss did not improve from 2.61151\n",
      "9/9 [==============================] - 1s 144ms/step - loss: 1.4298 - accuracy: 0.6378 - val_loss: 2.6277 - val_accuracy: 0.3548 - lr: 1.5625e-05\n",
      "Epoch 69/100\n",
      "8/9 [=========================>....] - ETA: 0s - loss: 1.4231 - accuracy: 0.6415\n",
      "Epoch 69: val_loss did not improve from 2.61151\n",
      "9/9 [==============================] - 1s 144ms/step - loss: 1.4232 - accuracy: 0.6422 - val_loss: 2.6191 - val_accuracy: 0.3548 - lr: 1.5625e-05\n",
      "Epoch 70/100\n",
      "8/9 [=========================>....] - ETA: 0s - loss: 1.4064 - accuracy: 0.6545\n",
      "Epoch 70: val_loss improved from 2.61151 to 2.61046, saving model to ../../artifacts/checkpoints\\checkpoint_AlexNet\n"
     ]
    },
    {
     "name": "stderr",
     "output_type": "stream",
     "text": [
      "WARNING:absl:Found untraced functions such as _jit_compiled_convolution_op, _jit_compiled_convolution_op, _jit_compiled_convolution_op, _jit_compiled_convolution_op, _jit_compiled_convolution_op while saving (showing 5 of 5). These functions will not be directly callable after loading.\n"
     ]
    },
    {
     "name": "stdout",
     "output_type": "stream",
     "text": [
      "INFO:tensorflow:Assets written to: ../../artifacts/checkpoints\\checkpoint_AlexNet\\assets\n"
     ]
    },
    {
     "name": "stderr",
     "output_type": "stream",
     "text": [
      "INFO:tensorflow:Assets written to: ../../artifacts/checkpoints\\checkpoint_AlexNet\\assets\n"
     ]
    },
    {
     "name": "stdout",
     "output_type": "stream",
     "text": [
      "9/9 [==============================] - 2s 293ms/step - loss: 1.4108 - accuracy: 0.6514 - val_loss: 2.6105 - val_accuracy: 0.3548 - lr: 7.8125e-06\n",
      "Epoch 71/100\n",
      "8/9 [=========================>....] - ETA: 0s - loss: 1.4135 - accuracy: 0.6463\n",
      "Epoch 71: val_loss improved from 2.61046 to 2.61045, saving model to ../../artifacts/checkpoints\\checkpoint_AlexNet\n"
     ]
    },
    {
     "name": "stderr",
     "output_type": "stream",
     "text": [
      "WARNING:absl:Found untraced functions such as _jit_compiled_convolution_op, _jit_compiled_convolution_op, _jit_compiled_convolution_op, _jit_compiled_convolution_op, _jit_compiled_convolution_op while saving (showing 5 of 5). These functions will not be directly callable after loading.\n"
     ]
    },
    {
     "name": "stdout",
     "output_type": "stream",
     "text": [
      "INFO:tensorflow:Assets written to: ../../artifacts/checkpoints\\checkpoint_AlexNet\\assets\n"
     ]
    },
    {
     "name": "stderr",
     "output_type": "stream",
     "text": [
      "INFO:tensorflow:Assets written to: ../../artifacts/checkpoints\\checkpoint_AlexNet\\assets\n"
     ]
    },
    {
     "name": "stdout",
     "output_type": "stream",
     "text": [
      "9/9 [==============================] - 3s 300ms/step - loss: 1.4178 - accuracy: 0.6453 - val_loss: 2.6105 - val_accuracy: 0.3502 - lr: 7.8125e-06\n",
      "Epoch 72/100\n",
      "8/9 [=========================>....] - ETA: 0s - loss: 1.4084 - accuracy: 0.6475\n",
      "Epoch 72: val_loss improved from 2.61045 to 2.60809, saving model to ../../artifacts/checkpoints\\checkpoint_AlexNet\n"
     ]
    },
    {
     "name": "stderr",
     "output_type": "stream",
     "text": [
      "WARNING:absl:Found untraced functions such as _jit_compiled_convolution_op, _jit_compiled_convolution_op, _jit_compiled_convolution_op, _jit_compiled_convolution_op, _jit_compiled_convolution_op while saving (showing 5 of 5). These functions will not be directly callable after loading.\n"
     ]
    },
    {
     "name": "stdout",
     "output_type": "stream",
     "text": [
      "INFO:tensorflow:Assets written to: ../../artifacts/checkpoints\\checkpoint_AlexNet\\assets\n"
     ]
    },
    {
     "name": "stderr",
     "output_type": "stream",
     "text": [
      "INFO:tensorflow:Assets written to: ../../artifacts/checkpoints\\checkpoint_AlexNet\\assets\n"
     ]
    },
    {
     "name": "stdout",
     "output_type": "stream",
     "text": [
      "9/9 [==============================] - 2s 288ms/step - loss: 1.4058 - accuracy: 0.6497 - val_loss: 2.6081 - val_accuracy: 0.3502 - lr: 7.8125e-06\n",
      "Epoch 73/100\n",
      "8/9 [=========================>....] - ETA: 0s - loss: 1.3929 - accuracy: 0.6560\n",
      "Epoch 73: val_loss did not improve from 2.60809\n",
      "9/9 [==============================] - 1s 146ms/step - loss: 1.3933 - accuracy: 0.6553 - val_loss: 2.6138 - val_accuracy: 0.3687 - lr: 7.8125e-06\n",
      "Epoch 74/100\n",
      "8/9 [=========================>....] - ETA: 0s - loss: 1.4054 - accuracy: 0.6562\n",
      "Epoch 74: val_loss improved from 2.60809 to 2.60692, saving model to ../../artifacts/checkpoints\\checkpoint_AlexNet\n"
     ]
    },
    {
     "name": "stderr",
     "output_type": "stream",
     "text": [
      "WARNING:absl:Found untraced functions such as _jit_compiled_convolution_op, _jit_compiled_convolution_op, _jit_compiled_convolution_op, _jit_compiled_convolution_op, _jit_compiled_convolution_op while saving (showing 5 of 5). These functions will not be directly callable after loading.\n"
     ]
    },
    {
     "name": "stdout",
     "output_type": "stream",
     "text": [
      "INFO:tensorflow:Assets written to: ../../artifacts/checkpoints\\checkpoint_AlexNet\\assets\n"
     ]
    },
    {
     "name": "stderr",
     "output_type": "stream",
     "text": [
      "INFO:tensorflow:Assets written to: ../../artifacts/checkpoints\\checkpoint_AlexNet\\assets\n"
     ]
    },
    {
     "name": "stdout",
     "output_type": "stream",
     "text": [
      "9/9 [==============================] - 3s 300ms/step - loss: 1.4064 - accuracy: 0.6560 - val_loss: 2.6069 - val_accuracy: 0.3594 - lr: 7.8125e-06\n",
      "Epoch 75/100\n",
      "8/9 [=========================>....] - ETA: 0s - loss: 1.4079 - accuracy: 0.6510\n",
      "Epoch 75: val_loss improved from 2.60692 to 2.60415, saving model to ../../artifacts/checkpoints\\checkpoint_AlexNet\n"
     ]
    },
    {
     "name": "stderr",
     "output_type": "stream",
     "text": [
      "WARNING:absl:Found untraced functions such as _jit_compiled_convolution_op, _jit_compiled_convolution_op, _jit_compiled_convolution_op, _jit_compiled_convolution_op, _jit_compiled_convolution_op while saving (showing 5 of 5). These functions will not be directly callable after loading.\n"
     ]
    },
    {
     "name": "stdout",
     "output_type": "stream",
     "text": [
      "INFO:tensorflow:Assets written to: ../../artifacts/checkpoints\\checkpoint_AlexNet\\assets\n"
     ]
    },
    {
     "name": "stderr",
     "output_type": "stream",
     "text": [
      "INFO:tensorflow:Assets written to: ../../artifacts/checkpoints\\checkpoint_AlexNet\\assets\n"
     ]
    },
    {
     "name": "stdout",
     "output_type": "stream",
     "text": [
      "9/9 [==============================] - 2s 289ms/step - loss: 1.4096 - accuracy: 0.6497 - val_loss: 2.6042 - val_accuracy: 0.3687 - lr: 7.8125e-06\n",
      "Epoch 76/100\n",
      "8/9 [=========================>....] - ETA: 0s - loss: 1.3940 - accuracy: 0.6543\n",
      "Epoch 76: val_loss improved from 2.60415 to 2.60161, saving model to ../../artifacts/checkpoints\\checkpoint_AlexNet\n"
     ]
    },
    {
     "name": "stderr",
     "output_type": "stream",
     "text": [
      "WARNING:absl:Found untraced functions such as _jit_compiled_convolution_op, _jit_compiled_convolution_op, _jit_compiled_convolution_op, _jit_compiled_convolution_op, _jit_compiled_convolution_op while saving (showing 5 of 5). These functions will not be directly callable after loading.\n"
     ]
    },
    {
     "name": "stdout",
     "output_type": "stream",
     "text": [
      "INFO:tensorflow:Assets written to: ../../artifacts/checkpoints\\checkpoint_AlexNet\\assets\n"
     ]
    },
    {
     "name": "stderr",
     "output_type": "stream",
     "text": [
      "INFO:tensorflow:Assets written to: ../../artifacts/checkpoints\\checkpoint_AlexNet\\assets\n"
     ]
    },
    {
     "name": "stdout",
     "output_type": "stream",
     "text": [
      "9/9 [==============================] - 3s 307ms/step - loss: 1.3907 - accuracy: 0.6543 - val_loss: 2.6016 - val_accuracy: 0.3733 - lr: 7.8125e-06\n",
      "Epoch 77/100\n",
      "8/9 [=========================>....] - ETA: 0s - loss: 1.3955 - accuracy: 0.6513\n",
      "Epoch 77: val_loss did not improve from 2.60161\n",
      "9/9 [==============================] - 1s 147ms/step - loss: 1.3969 - accuracy: 0.6512 - val_loss: 2.6101 - val_accuracy: 0.3779 - lr: 7.8125e-06\n",
      "Epoch 78/100\n",
      "8/9 [=========================>....] - ETA: 0s - loss: 1.3829 - accuracy: 0.6580\n",
      "Epoch 78: val_loss did not improve from 2.60161\n",
      "9/9 [==============================] - 1s 148ms/step - loss: 1.3882 - accuracy: 0.6558 - val_loss: 2.6108 - val_accuracy: 0.3779 - lr: 7.8125e-06\n",
      "Epoch 79/100\n",
      "8/9 [=========================>....] - ETA: 0s - loss: 1.3765 - accuracy: 0.6550\n",
      "Epoch 79: val_loss did not improve from 2.60161\n",
      "9/9 [==============================] - 1s 157ms/step - loss: 1.3761 - accuracy: 0.6556 - val_loss: 2.6067 - val_accuracy: 0.3687 - lr: 7.8125e-06\n",
      "Epoch 80/100\n",
      "8/9 [=========================>....] - ETA: 0s - loss: 1.3868 - accuracy: 0.6565\n",
      "Epoch 80: val_loss did not improve from 2.60161\n",
      "9/9 [==============================] - 1s 152ms/step - loss: 1.3856 - accuracy: 0.6582 - val_loss: 2.6041 - val_accuracy: 0.3687 - lr: 3.9063e-06\n",
      "Epoch 81/100\n",
      "8/9 [=========================>....] - ETA: 0s - loss: 1.3763 - accuracy: 0.6578\n",
      "Epoch 81: val_loss did not improve from 2.60161\n",
      "9/9 [==============================] - 1s 145ms/step - loss: 1.3804 - accuracy: 0.6565 - val_loss: 2.6034 - val_accuracy: 0.3687 - lr: 3.9063e-06\n",
      "Epoch 82/100\n",
      "8/9 [=========================>....] - ETA: 0s - loss: 1.3716 - accuracy: 0.6572\n",
      "Epoch 82: val_loss did not improve from 2.60161\n",
      "9/9 [==============================] - 1s 152ms/step - loss: 1.3699 - accuracy: 0.6573 - val_loss: 2.6059 - val_accuracy: 0.3687 - lr: 3.9063e-06\n",
      "Epoch 83/100\n",
      "8/9 [=========================>....] - ETA: 0s - loss: 1.3718 - accuracy: 0.6610\n",
      "Epoch 83: val_loss did not improve from 2.60161\n",
      "9/9 [==============================] - 1s 148ms/step - loss: 1.3666 - accuracy: 0.6633 - val_loss: 2.6065 - val_accuracy: 0.3687 - lr: 1.9531e-06\n",
      "Epoch 84/100\n",
      "8/9 [=========================>....] - ETA: 0s - loss: 1.3763 - accuracy: 0.6605\n",
      "Epoch 84: val_loss did not improve from 2.60161\n",
      "9/9 [==============================] - 1s 147ms/step - loss: 1.3769 - accuracy: 0.6599 - val_loss: 2.6051 - val_accuracy: 0.3687 - lr: 1.9531e-06\n",
      "Epoch 85/100\n",
      "8/9 [=========================>....] - ETA: 0s - loss: 1.3613 - accuracy: 0.6643\n",
      "Epoch 85: val_loss did not improve from 2.60161\n",
      "9/9 [==============================] - 1s 142ms/step - loss: 1.3681 - accuracy: 0.6626 - val_loss: 2.6059 - val_accuracy: 0.3733 - lr: 1.9531e-06\n",
      "Epoch 86/100\n",
      "8/9 [=========================>....] - ETA: 0s - loss: 1.3580 - accuracy: 0.6607\n",
      "Epoch 86: val_loss did not improve from 2.60161\n",
      "9/9 [==============================] - 1s 146ms/step - loss: 1.3611 - accuracy: 0.6585 - val_loss: 2.6059 - val_accuracy: 0.3733 - lr: 1.0000e-06\n",
      "Epoch 87/100\n",
      "8/9 [=========================>....] - ETA: 0s - loss: 1.3756 - accuracy: 0.6605\n",
      "Epoch 87: val_loss did not improve from 2.60161\n",
      "9/9 [==============================] - 1s 143ms/step - loss: 1.3739 - accuracy: 0.6616 - val_loss: 2.6053 - val_accuracy: 0.3733 - lr: 1.0000e-06\n",
      "Epoch 88/100\n",
      "8/9 [=========================>....] - ETA: 0s - loss: 1.3780 - accuracy: 0.6525\n",
      "Epoch 88: val_loss did not improve from 2.60161\n",
      "9/9 [==============================] - 1s 143ms/step - loss: 1.3773 - accuracy: 0.6536 - val_loss: 2.6052 - val_accuracy: 0.3641 - lr: 1.0000e-06\n",
      "Epoch 89/100\n",
      "8/9 [=========================>....] - ETA: 0s - loss: 1.3707 - accuracy: 0.6605\n",
      "Epoch 89: val_loss did not improve from 2.60161\n",
      "9/9 [==============================] - 1s 145ms/step - loss: 1.3700 - accuracy: 0.6614 - val_loss: 2.6052 - val_accuracy: 0.3687 - lr: 1.0000e-06\n",
      "Epoch 90/100\n",
      "8/9 [=========================>....] - ETA: 0s - loss: 1.3676 - accuracy: 0.6690\n",
      "Epoch 90: val_loss did not improve from 2.60161\n",
      "9/9 [==============================] - 1s 147ms/step - loss: 1.3684 - accuracy: 0.6672 - val_loss: 2.6055 - val_accuracy: 0.3687 - lr: 1.0000e-06\n",
      "Epoch 91/100\n",
      "8/9 [=========================>....] - ETA: 0s - loss: 1.3683 - accuracy: 0.6637\n",
      "Epoch 91: val_loss did not improve from 2.60161\n",
      "9/9 [==============================] - 1s 146ms/step - loss: 1.3697 - accuracy: 0.6646 - val_loss: 2.6060 - val_accuracy: 0.3687 - lr: 1.0000e-06\n",
      "Epoch 92/100\n",
      "8/9 [=========================>....] - ETA: 0s - loss: 1.3812 - accuracy: 0.6518\n",
      "Epoch 92: val_loss did not improve from 2.60161\n",
      "9/9 [==============================] - 1s 154ms/step - loss: 1.3808 - accuracy: 0.6512 - val_loss: 2.6068 - val_accuracy: 0.3687 - lr: 1.0000e-06\n",
      "Epoch 93/100\n",
      "8/9 [=========================>....] - ETA: 0s - loss: 1.3659 - accuracy: 0.6547\n",
      "Epoch 93: val_loss did not improve from 2.60161\n",
      "9/9 [==============================] - 1s 147ms/step - loss: 1.3679 - accuracy: 0.6541 - val_loss: 2.6074 - val_accuracy: 0.3687 - lr: 1.0000e-06\n",
      "Epoch 94/100\n",
      "8/9 [=========================>....] - ETA: 0s - loss: 1.3551 - accuracy: 0.6683\n",
      "Epoch 94: val_loss did not improve from 2.60161\n",
      "9/9 [==============================] - 1s 151ms/step - loss: 1.3547 - accuracy: 0.6689 - val_loss: 2.6083 - val_accuracy: 0.3687 - lr: 1.0000e-06\n",
      "Epoch 95/100\n",
      "8/9 [=========================>....] - ETA: 0s - loss: 1.3626 - accuracy: 0.6597\n",
      "Epoch 95: val_loss did not improve from 2.60161\n",
      "9/9 [==============================] - 1s 144ms/step - loss: 1.3645 - accuracy: 0.6573 - val_loss: 2.6086 - val_accuracy: 0.3687 - lr: 1.0000e-06\n",
      "Epoch 96/100\n",
      "8/9 [=========================>....] - ETA: 0s - loss: 1.3644 - accuracy: 0.6593\n",
      "Epoch 96: val_loss did not improve from 2.60161\n",
      "9/9 [==============================] - 1s 148ms/step - loss: 1.3662 - accuracy: 0.6587 - val_loss: 2.6080 - val_accuracy: 0.3687 - lr: 1.0000e-06\n",
      "Epoch 97/100\n",
      "8/9 [=========================>....] - ETA: 0s - loss: 1.3603 - accuracy: 0.6597\n",
      "Epoch 97: val_loss did not improve from 2.60161\n",
      "9/9 [==============================] - 1s 150ms/step - loss: 1.3660 - accuracy: 0.6587 - val_loss: 2.6080 - val_accuracy: 0.3687 - lr: 1.0000e-06\n",
      "Epoch 98/100\n",
      "8/9 [=========================>....] - ETA: 0s - loss: 1.3594 - accuracy: 0.6640\n",
      "Epoch 98: val_loss did not improve from 2.60161\n",
      "9/9 [==============================] - 1s 147ms/step - loss: 1.3596 - accuracy: 0.6648 - val_loss: 2.6088 - val_accuracy: 0.3687 - lr: 1.0000e-06\n",
      "Epoch 99/100\n",
      "8/9 [=========================>....] - ETA: 0s - loss: 1.3696 - accuracy: 0.6695\n",
      "Epoch 99: val_loss did not improve from 2.60161\n",
      "9/9 [==============================] - 1s 167ms/step - loss: 1.3660 - accuracy: 0.6704 - val_loss: 2.6094 - val_accuracy: 0.3687 - lr: 1.0000e-06\n",
      "Epoch 100/100\n",
      "8/9 [=========================>....] - ETA: 0s - loss: 1.3741 - accuracy: 0.6572\n",
      "Epoch 100: val_loss did not improve from 2.60161\n",
      "9/9 [==============================] - 1s 143ms/step - loss: 1.3766 - accuracy: 0.6565 - val_loss: 2.6098 - val_accuracy: 0.3733 - lr: 1.0000e-06\n",
      "Saving model to \"artifacts/models/AlexNet.h5\"...\n",
      "Model saved successfully!\n",
      "Saving history to \"artifacts/model_histories/history_AlexNet\"...\n",
      "History saved successfully!\n"
     ]
    }
   ],
   "source": [
    "alex_net_wrapper.train_and_save_model_and_history()"
   ]
  },
  {
   "cell_type": "code",
   "execution_count": 10,
   "metadata": {},
   "outputs": [
    {
     "name": "stdout",
     "output_type": "stream",
     "text": [
      "Loading model from \"../../artifacts/models/AlexNet.h5\"...\n",
      "Model loaded successfully!\n",
      "Loading history from \"../../artifacts/model_histories/history_AlexNet\"...\n",
      "History loaded successfully!\n"
     ]
    }
   ],
   "source": [
    "alex_net_wrapper.load_model_and_history()"
   ]
  },
  {
   "cell_type": "code",
   "execution_count": 11,
   "metadata": {},
   "outputs": [
    {
     "data": {
      "image/png": "[encoded data removed]",
      "text/plain": [
       "<Figure size 640x480 with 1 Axes>"
      ]
     },
     "metadata": {},
     "output_type": "display_data"
    }
   ],
   "source": [
    "alex_net_wrapper.plot_accuracy()"
   ]
  },
  {
   "cell_type": "code",
   "execution_count": 12,
   "metadata": {},
   "outputs": [
    {
     "data": {
      "image/png": "[encoded data removed]",
      "text/plain": [
       "<Figure size 640x480 with 1 Axes>"
      ]
     },
     "metadata": {},
     "output_type": "display_data"
    }
   ],
   "source": [
    "alex_net_wrapper.plot_loss()"
   ]
  },
  {
   "cell_type": "code",
   "execution_count": 13,
   "metadata": {},
   "outputs": [
    {
     "name": "stdout",
     "output_type": "stream",
     "text": [
      "20/20 [==============================] - 0s 9ms/step - loss: 2.7483 - accuracy: 0.3700\n",
      "Loss: 2.7483\n",
      "Accuracy: 0.3700\n",
      "20/20 [==============================] - 0s 6ms/step\n",
      "Classification Report:\n",
      "              precision    recall  f1-score   support\n",
      "\n",
      "           0       0.42      0.22      0.29        23\n",
      "           1       0.29      0.20      0.24        25\n",
      "           2       0.55      0.58      0.56        52\n",
      "           3       0.27      0.24      0.25        38\n",
      "           4       0.41      0.41      0.41        27\n",
      "           5       0.20      0.31      0.24        35\n",
      "           6       0.39      0.27      0.32        45\n",
      "           7       0.31      0.40      0.35        10\n",
      "           8       0.43      0.25      0.32        12\n",
      "           9       0.12      0.18      0.15        11\n",
      "          10       0.35      0.30      0.33        23\n",
      "          11       0.55      0.65      0.60        26\n",
      "          12       0.27      0.34      0.30        32\n",
      "          13       0.35      0.53      0.42        15\n",
      "          14       0.27      0.18      0.21        17\n",
      "          15       0.57      0.50      0.53        16\n",
      "          16       0.24      0.46      0.32        13\n",
      "          17       0.30      0.43      0.35        21\n",
      "          18       0.16      0.17      0.16        18\n",
      "          19       0.27      0.33      0.30        21\n",
      "          20       0.47      0.67      0.55        12\n",
      "          21       0.38      0.25      0.30        53\n",
      "          22       0.15      0.16      0.15        19\n",
      "          23       0.69      0.53      0.60        17\n",
      "          24       0.86      0.66      0.75        38\n",
      "\n",
      "    accuracy                           0.37       619\n",
      "   macro avg       0.37      0.37      0.36       619\n",
      "weighted avg       0.39      0.37      0.37       619\n",
      "\n"
     ]
    },
    {
     "data": {
      "image/png": "[encoded data removed]",
      "text/plain": [
       "<Figure size 1500x1000 with 2 Axes>"
      ]
     },
     "metadata": {},
     "output_type": "display_data"
    }
   ],
   "source": [
    "alex_net_wrapper.display_evaluation_results()"
   ]
  },
  {
   "cell_type": "code",
   "execution_count": null,
   "metadata": {},
   "outputs": [],
   "source": []
  }
 ],
 "metadata": {
  "kernelspec": {
   "display_name": "ML-projekat",
   "language": "python",
   "name": "python3"
  },
  "language_info": {
   "codemirror_mode": {
    "name": "ipython",
    "version": 3
   },
   "file_extension": ".py",
   "mimetype": "text/x-python",
   "name": "python",
   "nbconvert_exporter": "python",
   "pygments_lexer": "ipython3",
   "version": "3.9.17"
  },
  "orig_nbformat": 4
 },
 "nbformat": 4,
 "nbformat_minor": 2
}
