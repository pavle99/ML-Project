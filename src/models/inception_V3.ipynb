{
 "cells": [
  {
   "cell_type": "code",
   "execution_count": 1,
   "metadata": {},
   "outputs": [],
   "source": [
    "import sys\n",
    "\n",
    "sys.path.append(\"..\")"
   ]
  },
  {
   "cell_type": "code",
   "execution_count": 2,
   "metadata": {},
   "outputs": [],
   "source": [
    "from tensorflow import keras"
   ]
  },
  {
   "cell_type": "code",
   "execution_count": 3,
   "metadata": {},
   "outputs": [],
   "source": [
    "from utils.preprocessing_utils import PreprocessingUtils"
   ]
  },
  {
   "cell_type": "code",
   "execution_count": 4,
   "metadata": {},
   "outputs": [],
   "source": [
    "from utils.model_wrapper import ModelWrapper"
   ]
  },
  {
   "cell_type": "code",
   "execution_count": 5,
   "metadata": {},
   "outputs": [
    {
     "name": "stdout",
     "output_type": "stream",
     "text": [
      "Files already exist, skipping...\n",
      "Loading images and labels...\n",
      "Images and labels loaded successfully!\n",
      "Preprocessing labels...\n",
      "Labels preprocessed successfully!\n",
      "Splitting data into train, test and validation sets...\n",
      "Data split successfully!\n"
     ]
    }
   ],
   "source": [
    "preprocessing_utils = PreprocessingUtils()"
   ]
  },
  {
   "cell_type": "code",
   "execution_count": 6,
   "metadata": {},
   "outputs": [],
   "source": [
    "def build_inceptionV3(model_name: str):\n",
    "    model = keras.models.Sequential(\n",
    "        name=model_name,\n",
    "        layers=[\n",
    "            keras.applications.inception_v3.InceptionV3(\n",
    "                weights=\"imagenet\", include_top=False, input_shape=preprocessing_utils.images.shape[1:]\n",
    "            ),\n",
    "            keras.layers.GlobalAveragePooling2D(),\n",
    "            keras.layers.Dense(128, activation=\"relu\"),\n",
    "            keras.layers.Dropout(0.2),\n",
    "            keras.layers.Dense(\n",
    "                preprocessing_utils.num_classes, kernel_regularizer=keras.regularizers.l2(0.01), activation=\"softmax\"\n",
    "            ),\n",
    "        ],\n",
    "    )\n",
    "\n",
    "    model.compile(\n",
    "        optimizer=keras.optimizers.SGD(learning_rate=0.0001, momentum=0.9),\n",
    "        loss=\"categorical_crossentropy\",\n",
    "        metrics=[\"accuracy\"],\n",
    "    )\n",
    "\n",
    "    model.summary()\n",
    "\n",
    "    return model"
   ]
  },
  {
   "cell_type": "code",
   "execution_count": 7,
   "metadata": {},
   "outputs": [],
   "source": [
    "inceptionV3_wrapper = ModelWrapper(\"InceptionV3\", preprocessing_utils=preprocessing_utils)"
   ]
  },
  {
   "cell_type": "code",
   "execution_count": 8,
   "metadata": {},
   "outputs": [
    {
     "name": "stdout",
     "output_type": "stream",
     "text": [
      "Building model...\n",
      "Model: \"InceptionV3\"\n",
      "_________________________________________________________________\n",
      " Layer (type)                Output Shape              Param #   \n",
      "=================================================================\n",
      " inception_v3 (Functional)   (None, 6, 6, 2048)        21802784  \n",
      "                                                                 \n",
      " global_average_pooling2d (G  (None, 2048)             0         \n",
      " lobalAveragePooling2D)                                          \n",
      "                                                                 \n",
      " dense (Dense)               (None, 128)               262272    \n",
      "                                                                 \n",
      " dropout (Dropout)           (None, 128)               0         \n",
      "                                                                 \n",
      " dense_1 (Dense)             (None, 25)                3225      \n",
      "                                                                 \n",
      "=================================================================\n",
      "Total params: 22,068,281\n",
      "Trainable params: 22,033,849\n",
      "Non-trainable params: 34,432\n",
      "_________________________________________________________________\n",
      "Model built successfully!\n",
      "Saving model summary to ../../artifacts/model_summaries/summary_InceptionV3...\n",
      "Model summary saved successfully!\n"
     ]
    }
   ],
   "source": [
    "inceptionV3_wrapper.build_model(build_fn=build_inceptionV3, model_name=inceptionV3_wrapper.model_name)"
   ]
  },
  {
   "cell_type": "code",
   "execution_count": 9,
   "metadata": {},
   "outputs": [
    {
     "name": "stdout",
     "output_type": "stream",
     "text": [
      "Epoch 1/100\n",
      "129/129 [==============================] - ETA: 0s - loss: 3.6436 - accuracy: 0.0640\n",
      "Epoch 1: val_loss improved from inf to 3.52900, saving model to ../../artifacts/checkpoints\\checkpoint_InceptionV3\n"
     ]
    },
    {
     "name": "stderr",
     "output_type": "stream",
     "text": [
      "WARNING:absl:Found untraced functions such as _jit_compiled_convolution_op, _jit_compiled_convolution_op, _jit_compiled_convolution_op, _jit_compiled_convolution_op, _jit_compiled_convolution_op while saving (showing 5 of 94). These functions will not be directly callable after loading.\n"
     ]
    },
    {
     "name": "stdout",
     "output_type": "stream",
     "text": [
      "INFO:tensorflow:Assets written to: ../../artifacts/checkpoints\\checkpoint_InceptionV3\\assets\n"
     ]
    },
    {
     "name": "stderr",
     "output_type": "stream",
     "text": [
      "INFO:tensorflow:Assets written to: ../../artifacts/checkpoints\\checkpoint_InceptionV3\\assets\n"
     ]
    },
    {
     "name": "stdout",
     "output_type": "stream",
     "text": [
      "129/129 [==============================] - 31s 189ms/step - loss: 3.6436 - accuracy: 0.0640 - val_loss: 3.5290 - val_accuracy: 0.0829 - lr: 1.0000e-04\n",
      "Epoch 2/100\n",
      "128/129 [============================>.] - ETA: 0s - loss: 3.4986 - accuracy: 0.1082\n",
      "Epoch 2: val_loss improved from 3.52900 to 3.41657, saving model to ../../artifacts/checkpoints\\checkpoint_InceptionV3\n"
     ]
    },
    {
     "name": "stderr",
     "output_type": "stream",
     "text": [
      "WARNING:absl:Found untraced functions such as _jit_compiled_convolution_op, _jit_compiled_convolution_op, _jit_compiled_convolution_op, _jit_compiled_convolution_op, _jit_compiled_convolution_op while saving (showing 5 of 94). These functions will not be directly callable after loading.\n"
     ]
    },
    {
     "name": "stdout",
     "output_type": "stream",
     "text": [
      "INFO:tensorflow:Assets written to: ../../artifacts/checkpoints\\checkpoint_InceptionV3\\assets\n"
     ]
    },
    {
     "name": "stderr",
     "output_type": "stream",
     "text": [
      "INFO:tensorflow:Assets written to: ../../artifacts/checkpoints\\checkpoint_InceptionV3\\assets\n"
     ]
    },
    {
     "name": "stdout",
     "output_type": "stream",
     "text": [
      "129/129 [==============================] - 24s 183ms/step - loss: 3.4978 - accuracy: 0.1092 - val_loss: 3.4166 - val_accuracy: 0.1567 - lr: 1.0000e-04\n",
      "Epoch 3/100\n",
      "129/129 [==============================] - ETA: 0s - loss: 3.3673 - accuracy: 0.1657\n",
      "Epoch 3: val_loss improved from 3.41657 to 3.32118, saving model to ../../artifacts/checkpoints\\checkpoint_InceptionV3\n"
     ]
    },
    {
     "name": "stderr",
     "output_type": "stream",
     "text": [
      "WARNING:absl:Found untraced functions such as _jit_compiled_convolution_op, _jit_compiled_convolution_op, _jit_compiled_convolution_op, _jit_compiled_convolution_op, _jit_compiled_convolution_op while saving (showing 5 of 94). These functions will not be directly callable after loading.\n"
     ]
    },
    {
     "name": "stdout",
     "output_type": "stream",
     "text": [
      "INFO:tensorflow:Assets written to: ../../artifacts/checkpoints\\checkpoint_InceptionV3\\assets\n"
     ]
    },
    {
     "name": "stderr",
     "output_type": "stream",
     "text": [
      "INFO:tensorflow:Assets written to: ../../artifacts/checkpoints\\checkpoint_InceptionV3\\assets\n"
     ]
    },
    {
     "name": "stdout",
     "output_type": "stream",
     "text": [
      "129/129 [==============================] - 37s 287ms/step - loss: 3.3673 - accuracy: 0.1657 - val_loss: 3.3212 - val_accuracy: 0.2166 - lr: 1.0000e-04\n",
      "Epoch 4/100\n",
      "129/129 [==============================] - ETA: 0s - loss: 3.2170 - accuracy: 0.2330\n",
      "Epoch 4: val_loss improved from 3.32118 to 3.20430, saving model to ../../artifacts/checkpoints\\checkpoint_InceptionV3\n"
     ]
    },
    {
     "name": "stderr",
     "output_type": "stream",
     "text": [
      "WARNING:absl:Found untraced functions such as _jit_compiled_convolution_op, _jit_compiled_convolution_op, _jit_compiled_convolution_op, _jit_compiled_convolution_op, _jit_compiled_convolution_op while saving (showing 5 of 94). These functions will not be directly callable after loading.\n"
     ]
    },
    {
     "name": "stdout",
     "output_type": "stream",
     "text": [
      "INFO:tensorflow:Assets written to: ../../artifacts/checkpoints\\checkpoint_InceptionV3\\assets\n"
     ]
    },
    {
     "name": "stderr",
     "output_type": "stream",
     "text": [
      "INFO:tensorflow:Assets written to: ../../artifacts/checkpoints\\checkpoint_InceptionV3\\assets\n"
     ]
    },
    {
     "name": "stdout",
     "output_type": "stream",
     "text": [
      "129/129 [==============================] - 37s 286ms/step - loss: 3.2170 - accuracy: 0.2330 - val_loss: 3.2043 - val_accuracy: 0.2488 - lr: 1.0000e-04\n",
      "Epoch 5/100\n",
      "128/129 [============================>.] - ETA: 0s - loss: 3.0562 - accuracy: 0.2986\n",
      "Epoch 5: val_loss improved from 3.20430 to 3.06955, saving model to ../../artifacts/checkpoints\\checkpoint_InceptionV3\n"
     ]
    },
    {
     "name": "stderr",
     "output_type": "stream",
     "text": [
      "WARNING:absl:Found untraced functions such as _jit_compiled_convolution_op, _jit_compiled_convolution_op, _jit_compiled_convolution_op, _jit_compiled_convolution_op, _jit_compiled_convolution_op while saving (showing 5 of 94). These functions will not be directly callable after loading.\n"
     ]
    },
    {
     "name": "stdout",
     "output_type": "stream",
     "text": [
      "INFO:tensorflow:Assets written to: ../../artifacts/checkpoints\\checkpoint_InceptionV3\\assets\n"
     ]
    },
    {
     "name": "stderr",
     "output_type": "stream",
     "text": [
      "INFO:tensorflow:Assets written to: ../../artifacts/checkpoints\\checkpoint_InceptionV3\\assets\n"
     ]
    },
    {
     "name": "stdout",
     "output_type": "stream",
     "text": [
      "129/129 [==============================] - 29s 226ms/step - loss: 3.0557 - accuracy: 0.2990 - val_loss: 3.0696 - val_accuracy: 0.3088 - lr: 1.0000e-04\n",
      "Epoch 6/100\n",
      "128/129 [============================>.] - ETA: 0s - loss: 2.8894 - accuracy: 0.3445\n",
      "Epoch 6: val_loss improved from 3.06955 to 2.92656, saving model to ../../artifacts/checkpoints\\checkpoint_InceptionV3\n"
     ]
    },
    {
     "name": "stderr",
     "output_type": "stream",
     "text": [
      "WARNING:absl:Found untraced functions such as _jit_compiled_convolution_op, _jit_compiled_convolution_op, _jit_compiled_convolution_op, _jit_compiled_convolution_op, _jit_compiled_convolution_op while saving (showing 5 of 94). These functions will not be directly callable after loading.\n"
     ]
    },
    {
     "name": "stdout",
     "output_type": "stream",
     "text": [
      "INFO:tensorflow:Assets written to: ../../artifacts/checkpoints\\checkpoint_InceptionV3\\assets\n"
     ]
    },
    {
     "name": "stderr",
     "output_type": "stream",
     "text": [
      "INFO:tensorflow:Assets written to: ../../artifacts/checkpoints\\checkpoint_InceptionV3\\assets\n"
     ]
    },
    {
     "name": "stdout",
     "output_type": "stream",
     "text": [
      "129/129 [==============================] - 24s 185ms/step - loss: 2.8893 - accuracy: 0.3447 - val_loss: 2.9266 - val_accuracy: 0.3364 - lr: 1.0000e-04\n",
      "Epoch 7/100\n",
      "128/129 [============================>.] - ETA: 0s - loss: 2.7146 - accuracy: 0.4043\n",
      "Epoch 7: val_loss improved from 2.92656 to 2.78812, saving model to ../../artifacts/checkpoints\\checkpoint_InceptionV3\n"
     ]
    },
    {
     "name": "stderr",
     "output_type": "stream",
     "text": [
      "WARNING:absl:Found untraced functions such as _jit_compiled_convolution_op, _jit_compiled_convolution_op, _jit_compiled_convolution_op, _jit_compiled_convolution_op, _jit_compiled_convolution_op while saving (showing 5 of 94). These functions will not be directly callable after loading.\n"
     ]
    },
    {
     "name": "stdout",
     "output_type": "stream",
     "text": [
      "INFO:tensorflow:Assets written to: ../../artifacts/checkpoints\\checkpoint_InceptionV3\\assets\n"
     ]
    },
    {
     "name": "stderr",
     "output_type": "stream",
     "text": [
      "INFO:tensorflow:Assets written to: ../../artifacts/checkpoints\\checkpoint_InceptionV3\\assets\n"
     ]
    },
    {
     "name": "stdout",
     "output_type": "stream",
     "text": [
      "129/129 [==============================] - 24s 182ms/step - loss: 2.7151 - accuracy: 0.4040 - val_loss: 2.7881 - val_accuracy: 0.3733 - lr: 1.0000e-04\n",
      "Epoch 8/100\n",
      "128/129 [============================>.] - ETA: 0s - loss: 2.5678 - accuracy: 0.4380\n",
      "Epoch 8: val_loss improved from 2.78812 to 2.65955, saving model to ../../artifacts/checkpoints\\checkpoint_InceptionV3\n"
     ]
    },
    {
     "name": "stderr",
     "output_type": "stream",
     "text": [
      "WARNING:absl:Found untraced functions such as _jit_compiled_convolution_op, _jit_compiled_convolution_op, _jit_compiled_convolution_op, _jit_compiled_convolution_op, _jit_compiled_convolution_op while saving (showing 5 of 94). These functions will not be directly callable after loading.\n"
     ]
    },
    {
     "name": "stdout",
     "output_type": "stream",
     "text": [
      "INFO:tensorflow:Assets written to: ../../artifacts/checkpoints\\checkpoint_InceptionV3\\assets\n"
     ]
    },
    {
     "name": "stderr",
     "output_type": "stream",
     "text": [
      "INFO:tensorflow:Assets written to: ../../artifacts/checkpoints\\checkpoint_InceptionV3\\assets\n"
     ]
    },
    {
     "name": "stdout",
     "output_type": "stream",
     "text": [
      "129/129 [==============================] - 24s 185ms/step - loss: 2.5676 - accuracy: 0.4383 - val_loss: 2.6596 - val_accuracy: 0.4009 - lr: 1.0000e-04\n",
      "Epoch 9/100\n",
      "128/129 [============================>.] - ETA: 0s - loss: 2.4079 - accuracy: 0.4863\n",
      "Epoch 9: val_loss improved from 2.65955 to 2.52836, saving model to ../../artifacts/checkpoints\\checkpoint_InceptionV3\n"
     ]
    },
    {
     "name": "stderr",
     "output_type": "stream",
     "text": [
      "WARNING:absl:Found untraced functions such as _jit_compiled_convolution_op, _jit_compiled_convolution_op, _jit_compiled_convolution_op, _jit_compiled_convolution_op, _jit_compiled_convolution_op while saving (showing 5 of 94). These functions will not be directly callable after loading.\n"
     ]
    },
    {
     "name": "stdout",
     "output_type": "stream",
     "text": [
      "INFO:tensorflow:Assets written to: ../../artifacts/checkpoints\\checkpoint_InceptionV3\\assets\n"
     ]
    },
    {
     "name": "stderr",
     "output_type": "stream",
     "text": [
      "INFO:tensorflow:Assets written to: ../../artifacts/checkpoints\\checkpoint_InceptionV3\\assets\n"
     ]
    },
    {
     "name": "stdout",
     "output_type": "stream",
     "text": [
      "129/129 [==============================] - 25s 189ms/step - loss: 2.4076 - accuracy: 0.4867 - val_loss: 2.5284 - val_accuracy: 0.4470 - lr: 1.0000e-04\n",
      "Epoch 10/100\n",
      "128/129 [============================>.] - ETA: 0s - loss: 2.2516 - accuracy: 0.5381\n",
      "Epoch 10: val_loss improved from 2.52836 to 2.41718, saving model to ../../artifacts/checkpoints\\checkpoint_InceptionV3\n"
     ]
    },
    {
     "name": "stderr",
     "output_type": "stream",
     "text": [
      "WARNING:absl:Found untraced functions such as _jit_compiled_convolution_op, _jit_compiled_convolution_op, _jit_compiled_convolution_op, _jit_compiled_convolution_op, _jit_compiled_convolution_op while saving (showing 5 of 94). These functions will not be directly callable after loading.\n"
     ]
    },
    {
     "name": "stdout",
     "output_type": "stream",
     "text": [
      "INFO:tensorflow:Assets written to: ../../artifacts/checkpoints\\checkpoint_InceptionV3\\assets\n"
     ]
    },
    {
     "name": "stderr",
     "output_type": "stream",
     "text": [
      "INFO:tensorflow:Assets written to: ../../artifacts/checkpoints\\checkpoint_InceptionV3\\assets\n"
     ]
    },
    {
     "name": "stdout",
     "output_type": "stream",
     "text": [
      "129/129 [==============================] - 24s 183ms/step - loss: 2.2520 - accuracy: 0.5378 - val_loss: 2.4172 - val_accuracy: 0.4654 - lr: 1.0000e-04\n",
      "Epoch 11/100\n",
      "128/129 [============================>.] - ETA: 0s - loss: 2.1229 - accuracy: 0.5713\n",
      "Epoch 11: val_loss improved from 2.41718 to 2.31250, saving model to ../../artifacts/checkpoints\\checkpoint_InceptionV3\n"
     ]
    },
    {
     "name": "stderr",
     "output_type": "stream",
     "text": [
      "WARNING:absl:Found untraced functions such as _jit_compiled_convolution_op, _jit_compiled_convolution_op, _jit_compiled_convolution_op, _jit_compiled_convolution_op, _jit_compiled_convolution_op while saving (showing 5 of 94). These functions will not be directly callable after loading.\n"
     ]
    },
    {
     "name": "stdout",
     "output_type": "stream",
     "text": [
      "INFO:tensorflow:Assets written to: ../../artifacts/checkpoints\\checkpoint_InceptionV3\\assets\n"
     ]
    },
    {
     "name": "stderr",
     "output_type": "stream",
     "text": [
      "INFO:tensorflow:Assets written to: ../../artifacts/checkpoints\\checkpoint_InceptionV3\\assets\n"
     ]
    },
    {
     "name": "stdout",
     "output_type": "stream",
     "text": [
      "129/129 [==============================] - 24s 183ms/step - loss: 2.1231 - accuracy: 0.5714 - val_loss: 2.3125 - val_accuracy: 0.5253 - lr: 1.0000e-04\n",
      "Epoch 12/100\n",
      "128/129 [============================>.] - ETA: 0s - loss: 1.9898 - accuracy: 0.6155\n",
      "Epoch 12: val_loss improved from 2.31250 to 2.21393, saving model to ../../artifacts/checkpoints\\checkpoint_InceptionV3\n"
     ]
    },
    {
     "name": "stderr",
     "output_type": "stream",
     "text": [
      "WARNING:absl:Found untraced functions such as _jit_compiled_convolution_op, _jit_compiled_convolution_op, _jit_compiled_convolution_op, _jit_compiled_convolution_op, _jit_compiled_convolution_op while saving (showing 5 of 94). These functions will not be directly callable after loading.\n"
     ]
    },
    {
     "name": "stdout",
     "output_type": "stream",
     "text": [
      "INFO:tensorflow:Assets written to: ../../artifacts/checkpoints\\checkpoint_InceptionV3\\assets\n"
     ]
    },
    {
     "name": "stderr",
     "output_type": "stream",
     "text": [
      "INFO:tensorflow:Assets written to: ../../artifacts/checkpoints\\checkpoint_InceptionV3\\assets\n"
     ]
    },
    {
     "name": "stdout",
     "output_type": "stream",
     "text": [
      "129/129 [==============================] - 24s 184ms/step - loss: 1.9891 - accuracy: 0.6166 - val_loss: 2.2139 - val_accuracy: 0.5346 - lr: 1.0000e-04\n",
      "Epoch 13/100\n",
      "128/129 [============================>.] - ETA: 0s - loss: 1.8844 - accuracy: 0.6455\n",
      "Epoch 13: val_loss improved from 2.21393 to 2.12670, saving model to ../../artifacts/checkpoints\\checkpoint_InceptionV3\n"
     ]
    },
    {
     "name": "stderr",
     "output_type": "stream",
     "text": [
      "WARNING:absl:Found untraced functions such as _jit_compiled_convolution_op, _jit_compiled_convolution_op, _jit_compiled_convolution_op, _jit_compiled_convolution_op, _jit_compiled_convolution_op while saving (showing 5 of 94). These functions will not be directly callable after loading.\n"
     ]
    },
    {
     "name": "stdout",
     "output_type": "stream",
     "text": [
      "INFO:tensorflow:Assets written to: ../../artifacts/checkpoints\\checkpoint_InceptionV3\\assets\n"
     ]
    },
    {
     "name": "stderr",
     "output_type": "stream",
     "text": [
      "INFO:tensorflow:Assets written to: ../../artifacts/checkpoints\\checkpoint_InceptionV3\\assets\n"
     ]
    },
    {
     "name": "stdout",
     "output_type": "stream",
     "text": [
      "129/129 [==============================] - 24s 184ms/step - loss: 1.8852 - accuracy: 0.6453 - val_loss: 2.1267 - val_accuracy: 0.5392 - lr: 1.0000e-04\n",
      "Epoch 14/100\n",
      "128/129 [============================>.] - ETA: 0s - loss: 1.7615 - accuracy: 0.6885\n",
      "Epoch 14: val_loss improved from 2.12670 to 2.04933, saving model to ../../artifacts/checkpoints\\checkpoint_InceptionV3\n"
     ]
    },
    {
     "name": "stderr",
     "output_type": "stream",
     "text": [
      "WARNING:absl:Found untraced functions such as _jit_compiled_convolution_op, _jit_compiled_convolution_op, _jit_compiled_convolution_op, _jit_compiled_convolution_op, _jit_compiled_convolution_op while saving (showing 5 of 94). These functions will not be directly callable after loading.\n"
     ]
    },
    {
     "name": "stdout",
     "output_type": "stream",
     "text": [
      "INFO:tensorflow:Assets written to: ../../artifacts/checkpoints\\checkpoint_InceptionV3\\assets\n"
     ]
    },
    {
     "name": "stderr",
     "output_type": "stream",
     "text": [
      "INFO:tensorflow:Assets written to: ../../artifacts/checkpoints\\checkpoint_InceptionV3\\assets\n"
     ]
    },
    {
     "name": "stdout",
     "output_type": "stream",
     "text": [
      "129/129 [==============================] - 24s 183ms/step - loss: 1.7614 - accuracy: 0.6886 - val_loss: 2.0493 - val_accuracy: 0.5438 - lr: 1.0000e-04\n",
      "Epoch 15/100\n",
      "128/129 [============================>.] - ETA: 0s - loss: 1.6623 - accuracy: 0.7090\n",
      "Epoch 15: val_loss improved from 2.04933 to 1.98315, saving model to ../../artifacts/checkpoints\\checkpoint_InceptionV3\n"
     ]
    },
    {
     "name": "stderr",
     "output_type": "stream",
     "text": [
      "WARNING:absl:Found untraced functions such as _jit_compiled_convolution_op, _jit_compiled_convolution_op, _jit_compiled_convolution_op, _jit_compiled_convolution_op, _jit_compiled_convolution_op while saving (showing 5 of 94). These functions will not be directly callable after loading.\n"
     ]
    },
    {
     "name": "stdout",
     "output_type": "stream",
     "text": [
      "INFO:tensorflow:Assets written to: ../../artifacts/checkpoints\\checkpoint_InceptionV3\\assets\n"
     ]
    },
    {
     "name": "stderr",
     "output_type": "stream",
     "text": [
      "INFO:tensorflow:Assets written to: ../../artifacts/checkpoints\\checkpoint_InceptionV3\\assets\n"
     ]
    },
    {
     "name": "stdout",
     "output_type": "stream",
     "text": [
      "129/129 [==============================] - 24s 184ms/step - loss: 1.6629 - accuracy: 0.7091 - val_loss: 1.9832 - val_accuracy: 0.5622 - lr: 1.0000e-04\n",
      "Epoch 16/100\n",
      "129/129 [==============================] - ETA: 0s - loss: 1.5531 - accuracy: 0.7426\n",
      "Epoch 16: val_loss improved from 1.98315 to 1.91338, saving model to ../../artifacts/checkpoints\\checkpoint_InceptionV3\n"
     ]
    },
    {
     "name": "stderr",
     "output_type": "stream",
     "text": [
      "WARNING:absl:Found untraced functions such as _jit_compiled_convolution_op, _jit_compiled_convolution_op, _jit_compiled_convolution_op, _jit_compiled_convolution_op, _jit_compiled_convolution_op while saving (showing 5 of 94). These functions will not be directly callable after loading.\n"
     ]
    },
    {
     "name": "stdout",
     "output_type": "stream",
     "text": [
      "INFO:tensorflow:Assets written to: ../../artifacts/checkpoints\\checkpoint_InceptionV3\\assets\n"
     ]
    },
    {
     "name": "stderr",
     "output_type": "stream",
     "text": [
      "INFO:tensorflow:Assets written to: ../../artifacts/checkpoints\\checkpoint_InceptionV3\\assets\n"
     ]
    },
    {
     "name": "stdout",
     "output_type": "stream",
     "text": [
      "129/129 [==============================] - 37s 288ms/step - loss: 1.5531 - accuracy: 0.7426 - val_loss: 1.9134 - val_accuracy: 0.5991 - lr: 1.0000e-04\n",
      "Epoch 17/100\n",
      "129/129 [==============================] - ETA: 0s - loss: 1.4788 - accuracy: 0.7558\n",
      "Epoch 17: val_loss improved from 1.91338 to 1.85244, saving model to ../../artifacts/checkpoints\\checkpoint_InceptionV3\n"
     ]
    },
    {
     "name": "stderr",
     "output_type": "stream",
     "text": [
      "WARNING:absl:Found untraced functions such as _jit_compiled_convolution_op, _jit_compiled_convolution_op, _jit_compiled_convolution_op, _jit_compiled_convolution_op, _jit_compiled_convolution_op while saving (showing 5 of 94). These functions will not be directly callable after loading.\n"
     ]
    },
    {
     "name": "stdout",
     "output_type": "stream",
     "text": [
      "INFO:tensorflow:Assets written to: ../../artifacts/checkpoints\\checkpoint_InceptionV3\\assets\n"
     ]
    },
    {
     "name": "stderr",
     "output_type": "stream",
     "text": [
      "INFO:tensorflow:Assets written to: ../../artifacts/checkpoints\\checkpoint_InceptionV3\\assets\n"
     ]
    },
    {
     "name": "stdout",
     "output_type": "stream",
     "text": [
      "129/129 [==============================] - 38s 294ms/step - loss: 1.4788 - accuracy: 0.7558 - val_loss: 1.8524 - val_accuracy: 0.5853 - lr: 1.0000e-04\n",
      "Epoch 18/100\n",
      "129/129 [==============================] - ETA: 0s - loss: 1.3809 - accuracy: 0.7913\n",
      "Epoch 18: val_loss improved from 1.85244 to 1.80115, saving model to ../../artifacts/checkpoints\\checkpoint_InceptionV3\n"
     ]
    },
    {
     "name": "stderr",
     "output_type": "stream",
     "text": [
      "WARNING:absl:Found untraced functions such as _jit_compiled_convolution_op, _jit_compiled_convolution_op, _jit_compiled_convolution_op, _jit_compiled_convolution_op, _jit_compiled_convolution_op while saving (showing 5 of 94). These functions will not be directly callable after loading.\n"
     ]
    },
    {
     "name": "stdout",
     "output_type": "stream",
     "text": [
      "INFO:tensorflow:Assets written to: ../../artifacts/checkpoints\\checkpoint_InceptionV3\\assets\n"
     ]
    },
    {
     "name": "stderr",
     "output_type": "stream",
     "text": [
      "INFO:tensorflow:Assets written to: ../../artifacts/checkpoints\\checkpoint_InceptionV3\\assets\n"
     ]
    },
    {
     "name": "stdout",
     "output_type": "stream",
     "text": [
      "129/129 [==============================] - 38s 293ms/step - loss: 1.3809 - accuracy: 0.7913 - val_loss: 1.8011 - val_accuracy: 0.5945 - lr: 1.0000e-04\n",
      "Epoch 19/100\n",
      "129/129 [==============================] - ETA: 0s - loss: 1.2996 - accuracy: 0.8159\n",
      "Epoch 19: val_loss improved from 1.80115 to 1.75360, saving model to ../../artifacts/checkpoints\\checkpoint_InceptionV3\n"
     ]
    },
    {
     "name": "stderr",
     "output_type": "stream",
     "text": [
      "WARNING:absl:Found untraced functions such as _jit_compiled_convolution_op, _jit_compiled_convolution_op, _jit_compiled_convolution_op, _jit_compiled_convolution_op, _jit_compiled_convolution_op while saving (showing 5 of 94). These functions will not be directly callable after loading.\n"
     ]
    },
    {
     "name": "stdout",
     "output_type": "stream",
     "text": [
      "INFO:tensorflow:Assets written to: ../../artifacts/checkpoints\\checkpoint_InceptionV3\\assets\n"
     ]
    },
    {
     "name": "stderr",
     "output_type": "stream",
     "text": [
      "INFO:tensorflow:Assets written to: ../../artifacts/checkpoints\\checkpoint_InceptionV3\\assets\n"
     ]
    },
    {
     "name": "stdout",
     "output_type": "stream",
     "text": [
      "129/129 [==============================] - 37s 289ms/step - loss: 1.2996 - accuracy: 0.8159 - val_loss: 1.7536 - val_accuracy: 0.6175 - lr: 1.0000e-04\n",
      "Epoch 20/100\n",
      "129/129 [==============================] - ETA: 0s - loss: 1.2289 - accuracy: 0.8280\n",
      "Epoch 20: val_loss improved from 1.75360 to 1.70631, saving model to ../../artifacts/checkpoints\\checkpoint_InceptionV3\n"
     ]
    },
    {
     "name": "stderr",
     "output_type": "stream",
     "text": [
      "WARNING:absl:Found untraced functions such as _jit_compiled_convolution_op, _jit_compiled_convolution_op, _jit_compiled_convolution_op, _jit_compiled_convolution_op, _jit_compiled_convolution_op while saving (showing 5 of 94). These functions will not be directly callable after loading.\n"
     ]
    },
    {
     "name": "stdout",
     "output_type": "stream",
     "text": [
      "INFO:tensorflow:Assets written to: ../../artifacts/checkpoints\\checkpoint_InceptionV3\\assets\n"
     ]
    },
    {
     "name": "stderr",
     "output_type": "stream",
     "text": [
      "INFO:tensorflow:Assets written to: ../../artifacts/checkpoints\\checkpoint_InceptionV3\\assets\n"
     ]
    },
    {
     "name": "stdout",
     "output_type": "stream",
     "text": [
      "129/129 [==============================] - 38s 292ms/step - loss: 1.2289 - accuracy: 0.8280 - val_loss: 1.7063 - val_accuracy: 0.6175 - lr: 1.0000e-04\n",
      "Epoch 21/100\n",
      "129/129 [==============================] - ETA: 0s - loss: 1.1538 - accuracy: 0.8514\n",
      "Epoch 21: val_loss improved from 1.70631 to 1.66335, saving model to ../../artifacts/checkpoints\\checkpoint_InceptionV3\n"
     ]
    },
    {
     "name": "stderr",
     "output_type": "stream",
     "text": [
      "WARNING:absl:Found untraced functions such as _jit_compiled_convolution_op, _jit_compiled_convolution_op, _jit_compiled_convolution_op, _jit_compiled_convolution_op, _jit_compiled_convolution_op while saving (showing 5 of 94). These functions will not be directly callable after loading.\n"
     ]
    },
    {
     "name": "stdout",
     "output_type": "stream",
     "text": [
      "INFO:tensorflow:Assets written to: ../../artifacts/checkpoints\\checkpoint_InceptionV3\\assets\n"
     ]
    },
    {
     "name": "stderr",
     "output_type": "stream",
     "text": [
      "INFO:tensorflow:Assets written to: ../../artifacts/checkpoints\\checkpoint_InceptionV3\\assets\n"
     ]
    },
    {
     "name": "stdout",
     "output_type": "stream",
     "text": [
      "129/129 [==============================] - 37s 284ms/step - loss: 1.1538 - accuracy: 0.8514 - val_loss: 1.6633 - val_accuracy: 0.6221 - lr: 1.0000e-04\n",
      "Epoch 22/100\n",
      "129/129 [==============================] - ETA: 0s - loss: 1.1041 - accuracy: 0.8674\n",
      "Epoch 22: val_loss improved from 1.66335 to 1.62770, saving model to ../../artifacts/checkpoints\\checkpoint_InceptionV3\n"
     ]
    },
    {
     "name": "stderr",
     "output_type": "stream",
     "text": [
      "WARNING:absl:Found untraced functions such as _jit_compiled_convolution_op, _jit_compiled_convolution_op, _jit_compiled_convolution_op, _jit_compiled_convolution_op, _jit_compiled_convolution_op while saving (showing 5 of 94). These functions will not be directly callable after loading.\n"
     ]
    },
    {
     "name": "stdout",
     "output_type": "stream",
     "text": [
      "INFO:tensorflow:Assets written to: ../../artifacts/checkpoints\\checkpoint_InceptionV3\\assets\n"
     ]
    },
    {
     "name": "stderr",
     "output_type": "stream",
     "text": [
      "INFO:tensorflow:Assets written to: ../../artifacts/checkpoints\\checkpoint_InceptionV3\\assets\n"
     ]
    },
    {
     "name": "stdout",
     "output_type": "stream",
     "text": [
      "129/129 [==============================] - 37s 287ms/step - loss: 1.1041 - accuracy: 0.8674 - val_loss: 1.6277 - val_accuracy: 0.6498 - lr: 1.0000e-04\n",
      "Epoch 23/100\n",
      "129/129 [==============================] - ETA: 0s - loss: 1.0488 - accuracy: 0.8779\n",
      "Epoch 23: val_loss improved from 1.62770 to 1.59351, saving model to ../../artifacts/checkpoints\\checkpoint_InceptionV3\n"
     ]
    },
    {
     "name": "stderr",
     "output_type": "stream",
     "text": [
      "WARNING:absl:Found untraced functions such as _jit_compiled_convolution_op, _jit_compiled_convolution_op, _jit_compiled_convolution_op, _jit_compiled_convolution_op, _jit_compiled_convolution_op while saving (showing 5 of 94). These functions will not be directly callable after loading.\n"
     ]
    },
    {
     "name": "stdout",
     "output_type": "stream",
     "text": [
      "INFO:tensorflow:Assets written to: ../../artifacts/checkpoints\\checkpoint_InceptionV3\\assets\n"
     ]
    },
    {
     "name": "stderr",
     "output_type": "stream",
     "text": [
      "INFO:tensorflow:Assets written to: ../../artifacts/checkpoints\\checkpoint_InceptionV3\\assets\n"
     ]
    },
    {
     "name": "stdout",
     "output_type": "stream",
     "text": [
      "129/129 [==============================] - 38s 291ms/step - loss: 1.0488 - accuracy: 0.8779 - val_loss: 1.5935 - val_accuracy: 0.6498 - lr: 1.0000e-04\n",
      "Epoch 24/100\n",
      "129/129 [==============================] - ETA: 0s - loss: 1.0009 - accuracy: 0.8849\n",
      "Epoch 24: val_loss improved from 1.59351 to 1.56746, saving model to ../../artifacts/checkpoints\\checkpoint_InceptionV3\n"
     ]
    },
    {
     "name": "stderr",
     "output_type": "stream",
     "text": [
      "WARNING:absl:Found untraced functions such as _jit_compiled_convolution_op, _jit_compiled_convolution_op, _jit_compiled_convolution_op, _jit_compiled_convolution_op, _jit_compiled_convolution_op while saving (showing 5 of 94). These functions will not be directly callable after loading.\n"
     ]
    },
    {
     "name": "stdout",
     "output_type": "stream",
     "text": [
      "INFO:tensorflow:Assets written to: ../../artifacts/checkpoints\\checkpoint_InceptionV3\\assets\n"
     ]
    },
    {
     "name": "stderr",
     "output_type": "stream",
     "text": [
      "INFO:tensorflow:Assets written to: ../../artifacts/checkpoints\\checkpoint_InceptionV3\\assets\n"
     ]
    },
    {
     "name": "stdout",
     "output_type": "stream",
     "text": [
      "129/129 [==============================] - 35s 269ms/step - loss: 1.0009 - accuracy: 0.8849 - val_loss: 1.5675 - val_accuracy: 0.6544 - lr: 1.0000e-04\n",
      "Epoch 25/100\n",
      "128/129 [============================>.] - ETA: 0s - loss: 0.9491 - accuracy: 0.9072\n",
      "Epoch 25: val_loss improved from 1.56746 to 1.54272, saving model to ../../artifacts/checkpoints\\checkpoint_InceptionV3\n"
     ]
    },
    {
     "name": "stderr",
     "output_type": "stream",
     "text": [
      "WARNING:absl:Found untraced functions such as _jit_compiled_convolution_op, _jit_compiled_convolution_op, _jit_compiled_convolution_op, _jit_compiled_convolution_op, _jit_compiled_convolution_op while saving (showing 5 of 94). These functions will not be directly callable after loading.\n"
     ]
    },
    {
     "name": "stdout",
     "output_type": "stream",
     "text": [
      "INFO:tensorflow:Assets written to: ../../artifacts/checkpoints\\checkpoint_InceptionV3\\assets\n"
     ]
    },
    {
     "name": "stderr",
     "output_type": "stream",
     "text": [
      "INFO:tensorflow:Assets written to: ../../artifacts/checkpoints\\checkpoint_InceptionV3\\assets\n"
     ]
    },
    {
     "name": "stdout",
     "output_type": "stream",
     "text": [
      "129/129 [==============================] - 24s 187ms/step - loss: 0.9492 - accuracy: 0.9073 - val_loss: 1.5427 - val_accuracy: 0.6452 - lr: 1.0000e-04\n",
      "Epoch 26/100\n",
      "128/129 [============================>.] - ETA: 0s - loss: 0.9165 - accuracy: 0.9104\n",
      "Epoch 26: val_loss improved from 1.54272 to 1.51928, saving model to ../../artifacts/checkpoints\\checkpoint_InceptionV3\n"
     ]
    },
    {
     "name": "stderr",
     "output_type": "stream",
     "text": [
      "WARNING:absl:Found untraced functions such as _jit_compiled_convolution_op, _jit_compiled_convolution_op, _jit_compiled_convolution_op, _jit_compiled_convolution_op, _jit_compiled_convolution_op while saving (showing 5 of 94). These functions will not be directly callable after loading.\n"
     ]
    },
    {
     "name": "stdout",
     "output_type": "stream",
     "text": [
      "INFO:tensorflow:Assets written to: ../../artifacts/checkpoints\\checkpoint_InceptionV3\\assets\n"
     ]
    },
    {
     "name": "stderr",
     "output_type": "stream",
     "text": [
      "INFO:tensorflow:Assets written to: ../../artifacts/checkpoints\\checkpoint_InceptionV3\\assets\n"
     ]
    },
    {
     "name": "stdout",
     "output_type": "stream",
     "text": [
      "129/129 [==============================] - 24s 181ms/step - loss: 0.9170 - accuracy: 0.9105 - val_loss: 1.5193 - val_accuracy: 0.6636 - lr: 1.0000e-04\n",
      "Epoch 27/100\n",
      "128/129 [============================>.] - ETA: 0s - loss: 0.8740 - accuracy: 0.9221\n",
      "Epoch 27: val_loss improved from 1.51928 to 1.50227, saving model to ../../artifacts/checkpoints\\checkpoint_InceptionV3\n"
     ]
    },
    {
     "name": "stderr",
     "output_type": "stream",
     "text": [
      "WARNING:absl:Found untraced functions such as _jit_compiled_convolution_op, _jit_compiled_convolution_op, _jit_compiled_convolution_op, _jit_compiled_convolution_op, _jit_compiled_convolution_op while saving (showing 5 of 94). These functions will not be directly callable after loading.\n"
     ]
    },
    {
     "name": "stdout",
     "output_type": "stream",
     "text": [
      "INFO:tensorflow:Assets written to: ../../artifacts/checkpoints\\checkpoint_InceptionV3\\assets\n"
     ]
    },
    {
     "name": "stderr",
     "output_type": "stream",
     "text": [
      "INFO:tensorflow:Assets written to: ../../artifacts/checkpoints\\checkpoint_InceptionV3\\assets\n"
     ]
    },
    {
     "name": "stdout",
     "output_type": "stream",
     "text": [
      "129/129 [==============================] - 23s 182ms/step - loss: 0.8740 - accuracy: 0.9217 - val_loss: 1.5023 - val_accuracy: 0.6636 - lr: 1.0000e-04\n",
      "Epoch 28/100\n",
      "128/129 [============================>.] - ETA: 0s - loss: 0.8349 - accuracy: 0.9309\n",
      "Epoch 28: val_loss improved from 1.50227 to 1.48421, saving model to ../../artifacts/checkpoints\\checkpoint_InceptionV3\n"
     ]
    },
    {
     "name": "stderr",
     "output_type": "stream",
     "text": [
      "WARNING:absl:Found untraced functions such as _jit_compiled_convolution_op, _jit_compiled_convolution_op, _jit_compiled_convolution_op, _jit_compiled_convolution_op, _jit_compiled_convolution_op while saving (showing 5 of 94). These functions will not be directly callable after loading.\n"
     ]
    },
    {
     "name": "stdout",
     "output_type": "stream",
     "text": [
      "INFO:tensorflow:Assets written to: ../../artifacts/checkpoints\\checkpoint_InceptionV3\\assets\n"
     ]
    },
    {
     "name": "stderr",
     "output_type": "stream",
     "text": [
      "INFO:tensorflow:Assets written to: ../../artifacts/checkpoints\\checkpoint_InceptionV3\\assets\n"
     ]
    },
    {
     "name": "stdout",
     "output_type": "stream",
     "text": [
      "129/129 [==============================] - 24s 185ms/step - loss: 0.8356 - accuracy: 0.9309 - val_loss: 1.4842 - val_accuracy: 0.6682 - lr: 1.0000e-04\n",
      "Epoch 29/100\n",
      "128/129 [============================>.] - ETA: 0s - loss: 0.8086 - accuracy: 0.9382\n",
      "Epoch 29: val_loss improved from 1.48421 to 1.46814, saving model to ../../artifacts/checkpoints\\checkpoint_InceptionV3\n"
     ]
    },
    {
     "name": "stderr",
     "output_type": "stream",
     "text": [
      "WARNING:absl:Found untraced functions such as _jit_compiled_convolution_op, _jit_compiled_convolution_op, _jit_compiled_convolution_op, _jit_compiled_convolution_op, _jit_compiled_convolution_op while saving (showing 5 of 94). These functions will not be directly callable after loading.\n"
     ]
    },
    {
     "name": "stdout",
     "output_type": "stream",
     "text": [
      "INFO:tensorflow:Assets written to: ../../artifacts/checkpoints\\checkpoint_InceptionV3\\assets\n"
     ]
    },
    {
     "name": "stderr",
     "output_type": "stream",
     "text": [
      "INFO:tensorflow:Assets written to: ../../artifacts/checkpoints\\checkpoint_InceptionV3\\assets\n"
     ]
    },
    {
     "name": "stdout",
     "output_type": "stream",
     "text": [
      "129/129 [==============================] - 24s 189ms/step - loss: 0.8089 - accuracy: 0.9380 - val_loss: 1.4681 - val_accuracy: 0.6866 - lr: 1.0000e-04\n",
      "Epoch 30/100\n",
      "128/129 [============================>.] - ETA: 0s - loss: 0.7579 - accuracy: 0.9500\n",
      "Epoch 30: val_loss improved from 1.46814 to 1.45414, saving model to ../../artifacts/checkpoints\\checkpoint_InceptionV3\n"
     ]
    },
    {
     "name": "stderr",
     "output_type": "stream",
     "text": [
      "WARNING:absl:Found untraced functions such as _jit_compiled_convolution_op, _jit_compiled_convolution_op, _jit_compiled_convolution_op, _jit_compiled_convolution_op, _jit_compiled_convolution_op while saving (showing 5 of 94). These functions will not be directly callable after loading.\n"
     ]
    },
    {
     "name": "stdout",
     "output_type": "stream",
     "text": [
      "INFO:tensorflow:Assets written to: ../../artifacts/checkpoints\\checkpoint_InceptionV3\\assets\n"
     ]
    },
    {
     "name": "stderr",
     "output_type": "stream",
     "text": [
      "INFO:tensorflow:Assets written to: ../../artifacts/checkpoints\\checkpoint_InceptionV3\\assets\n"
     ]
    },
    {
     "name": "stdout",
     "output_type": "stream",
     "text": [
      "129/129 [==============================] - 24s 184ms/step - loss: 0.7585 - accuracy: 0.9496 - val_loss: 1.4541 - val_accuracy: 0.6682 - lr: 1.0000e-04\n",
      "Epoch 31/100\n",
      "128/129 [============================>.] - ETA: 0s - loss: 0.7411 - accuracy: 0.9495\n",
      "Epoch 31: val_loss improved from 1.45414 to 1.43887, saving model to ../../artifacts/checkpoints\\checkpoint_InceptionV3\n"
     ]
    },
    {
     "name": "stderr",
     "output_type": "stream",
     "text": [
      "WARNING:absl:Found untraced functions such as _jit_compiled_convolution_op, _jit_compiled_convolution_op, _jit_compiled_convolution_op, _jit_compiled_convolution_op, _jit_compiled_convolution_op while saving (showing 5 of 94). These functions will not be directly callable after loading.\n"
     ]
    },
    {
     "name": "stdout",
     "output_type": "stream",
     "text": [
      "INFO:tensorflow:Assets written to: ../../artifacts/checkpoints\\checkpoint_InceptionV3\\assets\n"
     ]
    },
    {
     "name": "stderr",
     "output_type": "stream",
     "text": [
      "INFO:tensorflow:Assets written to: ../../artifacts/checkpoints\\checkpoint_InceptionV3\\assets\n"
     ]
    },
    {
     "name": "stdout",
     "output_type": "stream",
     "text": [
      "129/129 [==============================] - 24s 183ms/step - loss: 0.7419 - accuracy: 0.9489 - val_loss: 1.4389 - val_accuracy: 0.6774 - lr: 1.0000e-04\n",
      "Epoch 32/100\n",
      "128/129 [============================>.] - ETA: 0s - loss: 0.7200 - accuracy: 0.9600\n",
      "Epoch 32: val_loss improved from 1.43887 to 1.42695, saving model to ../../artifacts/checkpoints\\checkpoint_InceptionV3\n"
     ]
    },
    {
     "name": "stderr",
     "output_type": "stream",
     "text": [
      "WARNING:absl:Found untraced functions such as _jit_compiled_convolution_op, _jit_compiled_convolution_op, _jit_compiled_convolution_op, _jit_compiled_convolution_op, _jit_compiled_convolution_op while saving (showing 5 of 94). These functions will not be directly callable after loading.\n"
     ]
    },
    {
     "name": "stdout",
     "output_type": "stream",
     "text": [
      "INFO:tensorflow:Assets written to: ../../artifacts/checkpoints\\checkpoint_InceptionV3\\assets\n"
     ]
    },
    {
     "name": "stderr",
     "output_type": "stream",
     "text": [
      "INFO:tensorflow:Assets written to: ../../artifacts/checkpoints\\checkpoint_InceptionV3\\assets\n"
     ]
    },
    {
     "name": "stdout",
     "output_type": "stream",
     "text": [
      "129/129 [==============================] - 24s 187ms/step - loss: 0.7204 - accuracy: 0.9596 - val_loss: 1.4269 - val_accuracy: 0.7005 - lr: 1.0000e-04\n",
      "Epoch 33/100\n",
      "128/129 [============================>.] - ETA: 0s - loss: 0.7043 - accuracy: 0.9600\n",
      "Epoch 33: val_loss improved from 1.42695 to 1.41430, saving model to ../../artifacts/checkpoints\\checkpoint_InceptionV3\n"
     ]
    },
    {
     "name": "stderr",
     "output_type": "stream",
     "text": [
      "WARNING:absl:Found untraced functions such as _jit_compiled_convolution_op, _jit_compiled_convolution_op, _jit_compiled_convolution_op, _jit_compiled_convolution_op, _jit_compiled_convolution_op while saving (showing 5 of 94). These functions will not be directly callable after loading.\n"
     ]
    },
    {
     "name": "stdout",
     "output_type": "stream",
     "text": [
      "INFO:tensorflow:Assets written to: ../../artifacts/checkpoints\\checkpoint_InceptionV3\\assets\n"
     ]
    },
    {
     "name": "stderr",
     "output_type": "stream",
     "text": [
      "INFO:tensorflow:Assets written to: ../../artifacts/checkpoints\\checkpoint_InceptionV3\\assets\n"
     ]
    },
    {
     "name": "stdout",
     "output_type": "stream",
     "text": [
      "129/129 [==============================] - 24s 182ms/step - loss: 0.7053 - accuracy: 0.9599 - val_loss: 1.4143 - val_accuracy: 0.6866 - lr: 1.0000e-04\n",
      "Epoch 34/100\n",
      "128/129 [============================>.] - ETA: 0s - loss: 0.6760 - accuracy: 0.9634\n",
      "Epoch 34: val_loss improved from 1.41430 to 1.41098, saving model to ../../artifacts/checkpoints\\checkpoint_InceptionV3\n"
     ]
    },
    {
     "name": "stderr",
     "output_type": "stream",
     "text": [
      "WARNING:absl:Found untraced functions such as _jit_compiled_convolution_op, _jit_compiled_convolution_op, _jit_compiled_convolution_op, _jit_compiled_convolution_op, _jit_compiled_convolution_op while saving (showing 5 of 94). These functions will not be directly callable after loading.\n"
     ]
    },
    {
     "name": "stdout",
     "output_type": "stream",
     "text": [
      "INFO:tensorflow:Assets written to: ../../artifacts/checkpoints\\checkpoint_InceptionV3\\assets\n"
     ]
    },
    {
     "name": "stderr",
     "output_type": "stream",
     "text": [
      "INFO:tensorflow:Assets written to: ../../artifacts/checkpoints\\checkpoint_InceptionV3\\assets\n"
     ]
    },
    {
     "name": "stdout",
     "output_type": "stream",
     "text": [
      "129/129 [==============================] - 24s 184ms/step - loss: 0.6759 - accuracy: 0.9635 - val_loss: 1.4110 - val_accuracy: 0.6912 - lr: 1.0000e-04\n",
      "Epoch 35/100\n",
      "128/129 [============================>.] - ETA: 0s - loss: 0.6590 - accuracy: 0.9670\n",
      "Epoch 35: val_loss improved from 1.41098 to 1.39833, saving model to ../../artifacts/checkpoints\\checkpoint_InceptionV3\n"
     ]
    },
    {
     "name": "stderr",
     "output_type": "stream",
     "text": [
      "WARNING:absl:Found untraced functions such as _jit_compiled_convolution_op, _jit_compiled_convolution_op, _jit_compiled_convolution_op, _jit_compiled_convolution_op, _jit_compiled_convolution_op while saving (showing 5 of 94). These functions will not be directly callable after loading.\n"
     ]
    },
    {
     "name": "stdout",
     "output_type": "stream",
     "text": [
      "INFO:tensorflow:Assets written to: ../../artifacts/checkpoints\\checkpoint_InceptionV3\\assets\n"
     ]
    },
    {
     "name": "stderr",
     "output_type": "stream",
     "text": [
      "INFO:tensorflow:Assets written to: ../../artifacts/checkpoints\\checkpoint_InceptionV3\\assets\n"
     ]
    },
    {
     "name": "stdout",
     "output_type": "stream",
     "text": [
      "129/129 [==============================] - 24s 184ms/step - loss: 0.6600 - accuracy: 0.9669 - val_loss: 1.3983 - val_accuracy: 0.7005 - lr: 1.0000e-04\n",
      "Epoch 36/100\n",
      "128/129 [============================>.] - ETA: 0s - loss: 0.6395 - accuracy: 0.9751\n",
      "Epoch 36: val_loss improved from 1.39833 to 1.39250, saving model to ../../artifacts/checkpoints\\checkpoint_InceptionV3\n"
     ]
    },
    {
     "name": "stderr",
     "output_type": "stream",
     "text": [
      "WARNING:absl:Found untraced functions such as _jit_compiled_convolution_op, _jit_compiled_convolution_op, _jit_compiled_convolution_op, _jit_compiled_convolution_op, _jit_compiled_convolution_op while saving (showing 5 of 94). These functions will not be directly callable after loading.\n"
     ]
    },
    {
     "name": "stdout",
     "output_type": "stream",
     "text": [
      "INFO:tensorflow:Assets written to: ../../artifacts/checkpoints\\checkpoint_InceptionV3\\assets\n"
     ]
    },
    {
     "name": "stderr",
     "output_type": "stream",
     "text": [
      "INFO:tensorflow:Assets written to: ../../artifacts/checkpoints\\checkpoint_InceptionV3\\assets\n"
     ]
    },
    {
     "name": "stdout",
     "output_type": "stream",
     "text": [
      "129/129 [==============================] - 24s 185ms/step - loss: 0.6392 - accuracy: 0.9752 - val_loss: 1.3925 - val_accuracy: 0.7005 - lr: 1.0000e-04\n",
      "Epoch 37/100\n",
      "128/129 [============================>.] - ETA: 0s - loss: 0.6239 - accuracy: 0.9722\n",
      "Epoch 37: val_loss improved from 1.39250 to 1.38252, saving model to ../../artifacts/checkpoints\\checkpoint_InceptionV3\n"
     ]
    },
    {
     "name": "stderr",
     "output_type": "stream",
     "text": [
      "WARNING:absl:Found untraced functions such as _jit_compiled_convolution_op, _jit_compiled_convolution_op, _jit_compiled_convolution_op, _jit_compiled_convolution_op, _jit_compiled_convolution_op while saving (showing 5 of 94). These functions will not be directly callable after loading.\n"
     ]
    },
    {
     "name": "stdout",
     "output_type": "stream",
     "text": [
      "INFO:tensorflow:Assets written to: ../../artifacts/checkpoints\\checkpoint_InceptionV3\\assets\n"
     ]
    },
    {
     "name": "stderr",
     "output_type": "stream",
     "text": [
      "INFO:tensorflow:Assets written to: ../../artifacts/checkpoints\\checkpoint_InceptionV3\\assets\n"
     ]
    },
    {
     "name": "stdout",
     "output_type": "stream",
     "text": [
      "129/129 [==============================] - 24s 183ms/step - loss: 0.6243 - accuracy: 0.9723 - val_loss: 1.3825 - val_accuracy: 0.6959 - lr: 1.0000e-04\n",
      "Epoch 38/100\n",
      "128/129 [============================>.] - ETA: 0s - loss: 0.6080 - accuracy: 0.9763\n",
      "Epoch 38: val_loss improved from 1.38252 to 1.37338, saving model to ../../artifacts/checkpoints\\checkpoint_InceptionV3\n"
     ]
    },
    {
     "name": "stderr",
     "output_type": "stream",
     "text": [
      "WARNING:absl:Found untraced functions such as _jit_compiled_convolution_op, _jit_compiled_convolution_op, _jit_compiled_convolution_op, _jit_compiled_convolution_op, _jit_compiled_convolution_op while saving (showing 5 of 94). These functions will not be directly callable after loading.\n"
     ]
    },
    {
     "name": "stdout",
     "output_type": "stream",
     "text": [
      "INFO:tensorflow:Assets written to: ../../artifacts/checkpoints\\checkpoint_InceptionV3\\assets\n"
     ]
    },
    {
     "name": "stderr",
     "output_type": "stream",
     "text": [
      "INFO:tensorflow:Assets written to: ../../artifacts/checkpoints\\checkpoint_InceptionV3\\assets\n"
     ]
    },
    {
     "name": "stdout",
     "output_type": "stream",
     "text": [
      "129/129 [==============================] - 24s 184ms/step - loss: 0.6086 - accuracy: 0.9759 - val_loss: 1.3734 - val_accuracy: 0.7051 - lr: 1.0000e-04\n",
      "Epoch 39/100\n",
      "128/129 [============================>.] - ETA: 0s - loss: 0.5911 - accuracy: 0.9812\n",
      "Epoch 39: val_loss improved from 1.37338 to 1.36497, saving model to ../../artifacts/checkpoints\\checkpoint_InceptionV3\n"
     ]
    },
    {
     "name": "stderr",
     "output_type": "stream",
     "text": [
      "WARNING:absl:Found untraced functions such as _jit_compiled_convolution_op, _jit_compiled_convolution_op, _jit_compiled_convolution_op, _jit_compiled_convolution_op, _jit_compiled_convolution_op while saving (showing 5 of 94). These functions will not be directly callable after loading.\n"
     ]
    },
    {
     "name": "stdout",
     "output_type": "stream",
     "text": [
      "INFO:tensorflow:Assets written to: ../../artifacts/checkpoints\\checkpoint_InceptionV3\\assets\n"
     ]
    },
    {
     "name": "stderr",
     "output_type": "stream",
     "text": [
      "INFO:tensorflow:Assets written to: ../../artifacts/checkpoints\\checkpoint_InceptionV3\\assets\n"
     ]
    },
    {
     "name": "stdout",
     "output_type": "stream",
     "text": [
      "129/129 [==============================] - 24s 184ms/step - loss: 0.5916 - accuracy: 0.9813 - val_loss: 1.3650 - val_accuracy: 0.6959 - lr: 1.0000e-04\n",
      "Epoch 40/100\n",
      "128/129 [============================>.] - ETA: 0s - loss: 0.5859 - accuracy: 0.9824\n",
      "Epoch 40: val_loss improved from 1.36497 to 1.36355, saving model to ../../artifacts/checkpoints\\checkpoint_InceptionV3\n"
     ]
    },
    {
     "name": "stderr",
     "output_type": "stream",
     "text": [
      "WARNING:absl:Found untraced functions such as _jit_compiled_convolution_op, _jit_compiled_convolution_op, _jit_compiled_convolution_op, _jit_compiled_convolution_op, _jit_compiled_convolution_op while saving (showing 5 of 94). These functions will not be directly callable after loading.\n"
     ]
    },
    {
     "name": "stdout",
     "output_type": "stream",
     "text": [
      "INFO:tensorflow:Assets written to: ../../artifacts/checkpoints\\checkpoint_InceptionV3\\assets\n"
     ]
    },
    {
     "name": "stderr",
     "output_type": "stream",
     "text": [
      "INFO:tensorflow:Assets written to: ../../artifacts/checkpoints\\checkpoint_InceptionV3\\assets\n"
     ]
    },
    {
     "name": "stdout",
     "output_type": "stream",
     "text": [
      "129/129 [==============================] - 24s 183ms/step - loss: 0.5865 - accuracy: 0.9822 - val_loss: 1.3636 - val_accuracy: 0.6959 - lr: 1.0000e-04\n",
      "Epoch 41/100\n",
      "128/129 [============================>.] - ETA: 0s - loss: 0.5760 - accuracy: 0.9836\n",
      "Epoch 41: val_loss improved from 1.36355 to 1.35412, saving model to ../../artifacts/checkpoints\\checkpoint_InceptionV3\n"
     ]
    },
    {
     "name": "stderr",
     "output_type": "stream",
     "text": [
      "WARNING:absl:Found untraced functions such as _jit_compiled_convolution_op, _jit_compiled_convolution_op, _jit_compiled_convolution_op, _jit_compiled_convolution_op, _jit_compiled_convolution_op while saving (showing 5 of 94). These functions will not be directly callable after loading.\n"
     ]
    },
    {
     "name": "stdout",
     "output_type": "stream",
     "text": [
      "INFO:tensorflow:Assets written to: ../../artifacts/checkpoints\\checkpoint_InceptionV3\\assets\n"
     ]
    },
    {
     "name": "stderr",
     "output_type": "stream",
     "text": [
      "INFO:tensorflow:Assets written to: ../../artifacts/checkpoints\\checkpoint_InceptionV3\\assets\n"
     ]
    },
    {
     "name": "stdout",
     "output_type": "stream",
     "text": [
      "129/129 [==============================] - 24s 185ms/step - loss: 0.5761 - accuracy: 0.9837 - val_loss: 1.3541 - val_accuracy: 0.6912 - lr: 1.0000e-04\n",
      "Epoch 42/100\n",
      "128/129 [============================>.] - ETA: 0s - loss: 0.5544 - accuracy: 0.9890\n",
      "Epoch 42: val_loss improved from 1.35412 to 1.34800, saving model to ../../artifacts/checkpoints\\checkpoint_InceptionV3\n"
     ]
    },
    {
     "name": "stderr",
     "output_type": "stream",
     "text": [
      "WARNING:absl:Found untraced functions such as _jit_compiled_convolution_op, _jit_compiled_convolution_op, _jit_compiled_convolution_op, _jit_compiled_convolution_op, _jit_compiled_convolution_op while saving (showing 5 of 94). These functions will not be directly callable after loading.\n"
     ]
    },
    {
     "name": "stdout",
     "output_type": "stream",
     "text": [
      "INFO:tensorflow:Assets written to: ../../artifacts/checkpoints\\checkpoint_InceptionV3\\assets\n"
     ]
    },
    {
     "name": "stderr",
     "output_type": "stream",
     "text": [
      "INFO:tensorflow:Assets written to: ../../artifacts/checkpoints\\checkpoint_InceptionV3\\assets\n"
     ]
    },
    {
     "name": "stdout",
     "output_type": "stream",
     "text": [
      "129/129 [==============================] - 24s 184ms/step - loss: 0.5550 - accuracy: 0.9891 - val_loss: 1.3480 - val_accuracy: 0.6959 - lr: 1.0000e-04\n",
      "Epoch 43/100\n",
      "128/129 [============================>.] - ETA: 0s - loss: 0.5525 - accuracy: 0.9878\n",
      "Epoch 43: val_loss improved from 1.34800 to 1.34744, saving model to ../../artifacts/checkpoints\\checkpoint_InceptionV3\n"
     ]
    },
    {
     "name": "stderr",
     "output_type": "stream",
     "text": [
      "WARNING:absl:Found untraced functions such as _jit_compiled_convolution_op, _jit_compiled_convolution_op, _jit_compiled_convolution_op, _jit_compiled_convolution_op, _jit_compiled_convolution_op while saving (showing 5 of 94). These functions will not be directly callable after loading.\n"
     ]
    },
    {
     "name": "stdout",
     "output_type": "stream",
     "text": [
      "INFO:tensorflow:Assets written to: ../../artifacts/checkpoints\\checkpoint_InceptionV3\\assets\n"
     ]
    },
    {
     "name": "stderr",
     "output_type": "stream",
     "text": [
      "INFO:tensorflow:Assets written to: ../../artifacts/checkpoints\\checkpoint_InceptionV3\\assets\n"
     ]
    },
    {
     "name": "stdout",
     "output_type": "stream",
     "text": [
      "129/129 [==============================] - 24s 184ms/step - loss: 0.5530 - accuracy: 0.9876 - val_loss: 1.3474 - val_accuracy: 0.6959 - lr: 1.0000e-04\n",
      "Epoch 44/100\n",
      "128/129 [============================>.] - ETA: 0s - loss: 0.5434 - accuracy: 0.9846\n",
      "Epoch 44: val_loss improved from 1.34744 to 1.34209, saving model to ../../artifacts/checkpoints\\checkpoint_InceptionV3\n"
     ]
    },
    {
     "name": "stderr",
     "output_type": "stream",
     "text": [
      "WARNING:absl:Found untraced functions such as _jit_compiled_convolution_op, _jit_compiled_convolution_op, _jit_compiled_convolution_op, _jit_compiled_convolution_op, _jit_compiled_convolution_op while saving (showing 5 of 94). These functions will not be directly callable after loading.\n"
     ]
    },
    {
     "name": "stdout",
     "output_type": "stream",
     "text": [
      "INFO:tensorflow:Assets written to: ../../artifacts/checkpoints\\checkpoint_InceptionV3\\assets\n"
     ]
    },
    {
     "name": "stderr",
     "output_type": "stream",
     "text": [
      "INFO:tensorflow:Assets written to: ../../artifacts/checkpoints\\checkpoint_InceptionV3\\assets\n"
     ]
    },
    {
     "name": "stdout",
     "output_type": "stream",
     "text": [
      "129/129 [==============================] - 24s 187ms/step - loss: 0.5432 - accuracy: 0.9847 - val_loss: 1.3421 - val_accuracy: 0.7051 - lr: 1.0000e-04\n",
      "Epoch 45/100\n",
      "128/129 [============================>.] - ETA: 0s - loss: 0.5321 - accuracy: 0.9915\n",
      "Epoch 45: val_loss improved from 1.34209 to 1.34032, saving model to ../../artifacts/checkpoints\\checkpoint_InceptionV3\n"
     ]
    },
    {
     "name": "stderr",
     "output_type": "stream",
     "text": [
      "WARNING:absl:Found untraced functions such as _jit_compiled_convolution_op, _jit_compiled_convolution_op, _jit_compiled_convolution_op, _jit_compiled_convolution_op, _jit_compiled_convolution_op while saving (showing 5 of 94). These functions will not be directly callable after loading.\n"
     ]
    },
    {
     "name": "stdout",
     "output_type": "stream",
     "text": [
      "INFO:tensorflow:Assets written to: ../../artifacts/checkpoints\\checkpoint_InceptionV3\\assets\n"
     ]
    },
    {
     "name": "stderr",
     "output_type": "stream",
     "text": [
      "INFO:tensorflow:Assets written to: ../../artifacts/checkpoints\\checkpoint_InceptionV3\\assets\n"
     ]
    },
    {
     "name": "stdout",
     "output_type": "stream",
     "text": [
      "129/129 [==============================] - 24s 185ms/step - loss: 0.5322 - accuracy: 0.9915 - val_loss: 1.3403 - val_accuracy: 0.7005 - lr: 1.0000e-04\n",
      "Epoch 46/100\n",
      "128/129 [============================>.] - ETA: 0s - loss: 0.5228 - accuracy: 0.9949\n",
      "Epoch 46: val_loss improved from 1.34032 to 1.33580, saving model to ../../artifacts/checkpoints\\checkpoint_InceptionV3\n"
     ]
    },
    {
     "name": "stderr",
     "output_type": "stream",
     "text": [
      "WARNING:absl:Found untraced functions such as _jit_compiled_convolution_op, _jit_compiled_convolution_op, _jit_compiled_convolution_op, _jit_compiled_convolution_op, _jit_compiled_convolution_op while saving (showing 5 of 94). These functions will not be directly callable after loading.\n"
     ]
    },
    {
     "name": "stdout",
     "output_type": "stream",
     "text": [
      "INFO:tensorflow:Assets written to: ../../artifacts/checkpoints\\checkpoint_InceptionV3\\assets\n"
     ]
    },
    {
     "name": "stderr",
     "output_type": "stream",
     "text": [
      "INFO:tensorflow:Assets written to: ../../artifacts/checkpoints\\checkpoint_InceptionV3\\assets\n"
     ]
    },
    {
     "name": "stdout",
     "output_type": "stream",
     "text": [
      "129/129 [==============================] - 24s 183ms/step - loss: 0.5230 - accuracy: 0.9949 - val_loss: 1.3358 - val_accuracy: 0.7005 - lr: 1.0000e-04\n",
      "Epoch 47/100\n",
      "128/129 [============================>.] - ETA: 0s - loss: 0.5193 - accuracy: 0.9905\n",
      "Epoch 47: val_loss improved from 1.33580 to 1.32953, saving model to ../../artifacts/checkpoints\\checkpoint_InceptionV3\n"
     ]
    },
    {
     "name": "stderr",
     "output_type": "stream",
     "text": [
      "WARNING:absl:Found untraced functions such as _jit_compiled_convolution_op, _jit_compiled_convolution_op, _jit_compiled_convolution_op, _jit_compiled_convolution_op, _jit_compiled_convolution_op while saving (showing 5 of 94). These functions will not be directly callable after loading.\n"
     ]
    },
    {
     "name": "stdout",
     "output_type": "stream",
     "text": [
      "INFO:tensorflow:Assets written to: ../../artifacts/checkpoints\\checkpoint_InceptionV3\\assets\n"
     ]
    },
    {
     "name": "stderr",
     "output_type": "stream",
     "text": [
      "INFO:tensorflow:Assets written to: ../../artifacts/checkpoints\\checkpoint_InceptionV3\\assets\n"
     ]
    },
    {
     "name": "stdout",
     "output_type": "stream",
     "text": [
      "129/129 [==============================] - 24s 185ms/step - loss: 0.5199 - accuracy: 0.9905 - val_loss: 1.3295 - val_accuracy: 0.6959 - lr: 1.0000e-04\n",
      "Epoch 48/100\n",
      "128/129 [============================>.] - ETA: 0s - loss: 0.5125 - accuracy: 0.9924\n",
      "Epoch 48: val_loss improved from 1.32953 to 1.32503, saving model to ../../artifacts/checkpoints\\checkpoint_InceptionV3\n"
     ]
    },
    {
     "name": "stderr",
     "output_type": "stream",
     "text": [
      "WARNING:absl:Found untraced functions such as _jit_compiled_convolution_op, _jit_compiled_convolution_op, _jit_compiled_convolution_op, _jit_compiled_convolution_op, _jit_compiled_convolution_op while saving (showing 5 of 94). These functions will not be directly callable after loading.\n"
     ]
    },
    {
     "name": "stdout",
     "output_type": "stream",
     "text": [
      "INFO:tensorflow:Assets written to: ../../artifacts/checkpoints\\checkpoint_InceptionV3\\assets\n"
     ]
    },
    {
     "name": "stderr",
     "output_type": "stream",
     "text": [
      "INFO:tensorflow:Assets written to: ../../artifacts/checkpoints\\checkpoint_InceptionV3\\assets\n"
     ]
    },
    {
     "name": "stdout",
     "output_type": "stream",
     "text": [
      "129/129 [==============================] - 24s 184ms/step - loss: 0.5124 - accuracy: 0.9925 - val_loss: 1.3250 - val_accuracy: 0.7051 - lr: 1.0000e-04\n",
      "Epoch 49/100\n",
      "128/129 [============================>.] - ETA: 0s - loss: 0.5019 - accuracy: 0.9932\n",
      "Epoch 49: val_loss did not improve from 1.32503\n",
      "129/129 [==============================] - 9s 68ms/step - loss: 0.5026 - accuracy: 0.9932 - val_loss: 1.3254 - val_accuracy: 0.7005 - lr: 1.0000e-04\n",
      "Epoch 50/100\n",
      "128/129 [============================>.] - ETA: 0s - loss: 0.5032 - accuracy: 0.9917\n",
      "Epoch 50: val_loss improved from 1.32503 to 1.31850, saving model to ../../artifacts/checkpoints\\checkpoint_InceptionV3\n"
     ]
    },
    {
     "name": "stderr",
     "output_type": "stream",
     "text": [
      "WARNING:absl:Found untraced functions such as _jit_compiled_convolution_op, _jit_compiled_convolution_op, _jit_compiled_convolution_op, _jit_compiled_convolution_op, _jit_compiled_convolution_op while saving (showing 5 of 94). These functions will not be directly callable after loading.\n"
     ]
    },
    {
     "name": "stdout",
     "output_type": "stream",
     "text": [
      "INFO:tensorflow:Assets written to: ../../artifacts/checkpoints\\checkpoint_InceptionV3\\assets\n"
     ]
    },
    {
     "name": "stderr",
     "output_type": "stream",
     "text": [
      "INFO:tensorflow:Assets written to: ../../artifacts/checkpoints\\checkpoint_InceptionV3\\assets\n"
     ]
    },
    {
     "name": "stdout",
     "output_type": "stream",
     "text": [
      "129/129 [==============================] - 24s 184ms/step - loss: 0.5037 - accuracy: 0.9917 - val_loss: 1.3185 - val_accuracy: 0.7005 - lr: 1.0000e-04\n",
      "Epoch 51/100\n",
      "128/129 [============================>.] - ETA: 0s - loss: 0.4926 - accuracy: 0.9934\n",
      "Epoch 51: val_loss improved from 1.31850 to 1.31572, saving model to ../../artifacts/checkpoints\\checkpoint_InceptionV3\n"
     ]
    },
    {
     "name": "stderr",
     "output_type": "stream",
     "text": [
      "WARNING:absl:Found untraced functions such as _jit_compiled_convolution_op, _jit_compiled_convolution_op, _jit_compiled_convolution_op, _jit_compiled_convolution_op, _jit_compiled_convolution_op while saving (showing 5 of 94). These functions will not be directly callable after loading.\n"
     ]
    },
    {
     "name": "stdout",
     "output_type": "stream",
     "text": [
      "INFO:tensorflow:Assets written to: ../../artifacts/checkpoints\\checkpoint_InceptionV3\\assets\n"
     ]
    },
    {
     "name": "stderr",
     "output_type": "stream",
     "text": [
      "INFO:tensorflow:Assets written to: ../../artifacts/checkpoints\\checkpoint_InceptionV3\\assets\n"
     ]
    },
    {
     "name": "stdout",
     "output_type": "stream",
     "text": [
      "129/129 [==============================] - 24s 185ms/step - loss: 0.4936 - accuracy: 0.9929 - val_loss: 1.3157 - val_accuracy: 0.7189 - lr: 1.0000e-04\n",
      "Epoch 52/100\n",
      "128/129 [============================>.] - ETA: 0s - loss: 0.4853 - accuracy: 0.9951\n",
      "Epoch 52: val_loss improved from 1.31572 to 1.31314, saving model to ../../artifacts/checkpoints\\checkpoint_InceptionV3\n"
     ]
    },
    {
     "name": "stderr",
     "output_type": "stream",
     "text": [
      "WARNING:absl:Found untraced functions such as _jit_compiled_convolution_op, _jit_compiled_convolution_op, _jit_compiled_convolution_op, _jit_compiled_convolution_op, _jit_compiled_convolution_op while saving (showing 5 of 94). These functions will not be directly callable after loading.\n"
     ]
    },
    {
     "name": "stdout",
     "output_type": "stream",
     "text": [
      "INFO:tensorflow:Assets written to: ../../artifacts/checkpoints\\checkpoint_InceptionV3\\assets\n"
     ]
    },
    {
     "name": "stderr",
     "output_type": "stream",
     "text": [
      "INFO:tensorflow:Assets written to: ../../artifacts/checkpoints\\checkpoint_InceptionV3\\assets\n"
     ]
    },
    {
     "name": "stdout",
     "output_type": "stream",
     "text": [
      "129/129 [==============================] - 24s 185ms/step - loss: 0.4859 - accuracy: 0.9951 - val_loss: 1.3131 - val_accuracy: 0.7143 - lr: 1.0000e-04\n",
      "Epoch 53/100\n",
      "128/129 [============================>.] - ETA: 0s - loss: 0.4847 - accuracy: 0.9941\n",
      "Epoch 53: val_loss improved from 1.31314 to 1.30636, saving model to ../../artifacts/checkpoints\\checkpoint_InceptionV3\n"
     ]
    },
    {
     "name": "stderr",
     "output_type": "stream",
     "text": [
      "WARNING:absl:Found untraced functions such as _jit_compiled_convolution_op, _jit_compiled_convolution_op, _jit_compiled_convolution_op, _jit_compiled_convolution_op, _jit_compiled_convolution_op while saving (showing 5 of 94). These functions will not be directly callable after loading.\n"
     ]
    },
    {
     "name": "stdout",
     "output_type": "stream",
     "text": [
      "INFO:tensorflow:Assets written to: ../../artifacts/checkpoints\\checkpoint_InceptionV3\\assets\n"
     ]
    },
    {
     "name": "stderr",
     "output_type": "stream",
     "text": [
      "INFO:tensorflow:Assets written to: ../../artifacts/checkpoints\\checkpoint_InceptionV3\\assets\n"
     ]
    },
    {
     "name": "stdout",
     "output_type": "stream",
     "text": [
      "129/129 [==============================] - 24s 186ms/step - loss: 0.4853 - accuracy: 0.9939 - val_loss: 1.3064 - val_accuracy: 0.7143 - lr: 1.0000e-04\n",
      "Epoch 54/100\n",
      "128/129 [============================>.] - ETA: 0s - loss: 0.4826 - accuracy: 0.9954\n",
      "Epoch 54: val_loss did not improve from 1.30636\n",
      "129/129 [==============================] - 9s 69ms/step - loss: 0.4832 - accuracy: 0.9951 - val_loss: 1.3089 - val_accuracy: 0.7097 - lr: 1.0000e-04\n",
      "Epoch 55/100\n",
      "128/129 [============================>.] - ETA: 0s - loss: 0.4702 - accuracy: 0.9978\n",
      "Epoch 55: val_loss improved from 1.30636 to 1.30554, saving model to ../../artifacts/checkpoints\\checkpoint_InceptionV3\n"
     ]
    },
    {
     "name": "stderr",
     "output_type": "stream",
     "text": [
      "WARNING:absl:Found untraced functions such as _jit_compiled_convolution_op, _jit_compiled_convolution_op, _jit_compiled_convolution_op, _jit_compiled_convolution_op, _jit_compiled_convolution_op while saving (showing 5 of 94). These functions will not be directly callable after loading.\n"
     ]
    },
    {
     "name": "stdout",
     "output_type": "stream",
     "text": [
      "INFO:tensorflow:Assets written to: ../../artifacts/checkpoints\\checkpoint_InceptionV3\\assets\n"
     ]
    },
    {
     "name": "stderr",
     "output_type": "stream",
     "text": [
      "INFO:tensorflow:Assets written to: ../../artifacts/checkpoints\\checkpoint_InceptionV3\\assets\n"
     ]
    },
    {
     "name": "stdout",
     "output_type": "stream",
     "text": [
      "129/129 [==============================] - 24s 184ms/step - loss: 0.4712 - accuracy: 0.9973 - val_loss: 1.3055 - val_accuracy: 0.7143 - lr: 1.0000e-04\n",
      "Epoch 56/100\n",
      "128/129 [============================>.] - ETA: 0s - loss: 0.4678 - accuracy: 0.9958\n",
      "Epoch 56: val_loss improved from 1.30554 to 1.30184, saving model to ../../artifacts/checkpoints\\checkpoint_InceptionV3\n"
     ]
    },
    {
     "name": "stderr",
     "output_type": "stream",
     "text": [
      "WARNING:absl:Found untraced functions such as _jit_compiled_convolution_op, _jit_compiled_convolution_op, _jit_compiled_convolution_op, _jit_compiled_convolution_op, _jit_compiled_convolution_op while saving (showing 5 of 94). These functions will not be directly callable after loading.\n"
     ]
    },
    {
     "name": "stdout",
     "output_type": "stream",
     "text": [
      "INFO:tensorflow:Assets written to: ../../artifacts/checkpoints\\checkpoint_InceptionV3\\assets\n"
     ]
    },
    {
     "name": "stderr",
     "output_type": "stream",
     "text": [
      "INFO:tensorflow:Assets written to: ../../artifacts/checkpoints\\checkpoint_InceptionV3\\assets\n"
     ]
    },
    {
     "name": "stdout",
     "output_type": "stream",
     "text": [
      "129/129 [==============================] - 24s 184ms/step - loss: 0.4680 - accuracy: 0.9956 - val_loss: 1.3018 - val_accuracy: 0.7097 - lr: 1.0000e-04\n",
      "Epoch 57/100\n",
      "128/129 [============================>.] - ETA: 0s - loss: 0.4612 - accuracy: 0.9966\n",
      "Epoch 57: val_loss improved from 1.30184 to 1.30165, saving model to ../../artifacts/checkpoints\\checkpoint_InceptionV3\n"
     ]
    },
    {
     "name": "stderr",
     "output_type": "stream",
     "text": [
      "WARNING:absl:Found untraced functions such as _jit_compiled_convolution_op, _jit_compiled_convolution_op, _jit_compiled_convolution_op, _jit_compiled_convolution_op, _jit_compiled_convolution_op while saving (showing 5 of 94). These functions will not be directly callable after loading.\n"
     ]
    },
    {
     "name": "stdout",
     "output_type": "stream",
     "text": [
      "INFO:tensorflow:Assets written to: ../../artifacts/checkpoints\\checkpoint_InceptionV3\\assets\n"
     ]
    },
    {
     "name": "stderr",
     "output_type": "stream",
     "text": [
      "INFO:tensorflow:Assets written to: ../../artifacts/checkpoints\\checkpoint_InceptionV3\\assets\n"
     ]
    },
    {
     "name": "stdout",
     "output_type": "stream",
     "text": [
      "129/129 [==============================] - 24s 183ms/step - loss: 0.4620 - accuracy: 0.9966 - val_loss: 1.3016 - val_accuracy: 0.7097 - lr: 1.0000e-04\n",
      "Epoch 58/100\n",
      "128/129 [============================>.] - ETA: 0s - loss: 0.4580 - accuracy: 0.9980\n",
      "Epoch 58: val_loss improved from 1.30165 to 1.30020, saving model to ../../artifacts/checkpoints\\checkpoint_InceptionV3\n"
     ]
    },
    {
     "name": "stderr",
     "output_type": "stream",
     "text": [
      "WARNING:absl:Found untraced functions such as _jit_compiled_convolution_op, _jit_compiled_convolution_op, _jit_compiled_convolution_op, _jit_compiled_convolution_op, _jit_compiled_convolution_op while saving (showing 5 of 94). These functions will not be directly callable after loading.\n"
     ]
    },
    {
     "name": "stdout",
     "output_type": "stream",
     "text": [
      "INFO:tensorflow:Assets written to: ../../artifacts/checkpoints\\checkpoint_InceptionV3\\assets\n"
     ]
    },
    {
     "name": "stderr",
     "output_type": "stream",
     "text": [
      "INFO:tensorflow:Assets written to: ../../artifacts/checkpoints\\checkpoint_InceptionV3\\assets\n"
     ]
    },
    {
     "name": "stdout",
     "output_type": "stream",
     "text": [
      "129/129 [==============================] - 24s 186ms/step - loss: 0.4587 - accuracy: 0.9978 - val_loss: 1.3002 - val_accuracy: 0.7189 - lr: 1.0000e-04\n",
      "Epoch 59/100\n",
      "128/129 [============================>.] - ETA: 0s - loss: 0.4565 - accuracy: 0.9961\n",
      "Epoch 59: val_loss improved from 1.30020 to 1.29987, saving model to ../../artifacts/checkpoints\\checkpoint_InceptionV3\n"
     ]
    },
    {
     "name": "stderr",
     "output_type": "stream",
     "text": [
      "WARNING:absl:Found untraced functions such as _jit_compiled_convolution_op, _jit_compiled_convolution_op, _jit_compiled_convolution_op, _jit_compiled_convolution_op, _jit_compiled_convolution_op while saving (showing 5 of 94). These functions will not be directly callable after loading.\n"
     ]
    },
    {
     "name": "stdout",
     "output_type": "stream",
     "text": [
      "INFO:tensorflow:Assets written to: ../../artifacts/checkpoints\\checkpoint_InceptionV3\\assets\n"
     ]
    },
    {
     "name": "stderr",
     "output_type": "stream",
     "text": [
      "INFO:tensorflow:Assets written to: ../../artifacts/checkpoints\\checkpoint_InceptionV3\\assets\n"
     ]
    },
    {
     "name": "stdout",
     "output_type": "stream",
     "text": [
      "129/129 [==============================] - 24s 183ms/step - loss: 0.4576 - accuracy: 0.9961 - val_loss: 1.2999 - val_accuracy: 0.7143 - lr: 1.0000e-04\n",
      "Epoch 60/100\n",
      "128/129 [============================>.] - ETA: 0s - loss: 0.4518 - accuracy: 0.9958\n",
      "Epoch 60: val_loss did not improve from 1.29987\n",
      "129/129 [==============================] - 9s 68ms/step - loss: 0.4526 - accuracy: 0.9956 - val_loss: 1.3009 - val_accuracy: 0.7143 - lr: 1.0000e-04\n",
      "Epoch 61/100\n",
      "128/129 [============================>.] - ETA: 0s - loss: 0.4499 - accuracy: 0.9958\n",
      "Epoch 61: val_loss improved from 1.29987 to 1.29658, saving model to ../../artifacts/checkpoints\\checkpoint_InceptionV3\n"
     ]
    },
    {
     "name": "stderr",
     "output_type": "stream",
     "text": [
      "WARNING:absl:Found untraced functions such as _jit_compiled_convolution_op, _jit_compiled_convolution_op, _jit_compiled_convolution_op, _jit_compiled_convolution_op, _jit_compiled_convolution_op while saving (showing 5 of 94). These functions will not be directly callable after loading.\n"
     ]
    },
    {
     "name": "stdout",
     "output_type": "stream",
     "text": [
      "INFO:tensorflow:Assets written to: ../../artifacts/checkpoints\\checkpoint_InceptionV3\\assets\n"
     ]
    },
    {
     "name": "stderr",
     "output_type": "stream",
     "text": [
      "INFO:tensorflow:Assets written to: ../../artifacts/checkpoints\\checkpoint_InceptionV3\\assets\n"
     ]
    },
    {
     "name": "stdout",
     "output_type": "stream",
     "text": [
      "129/129 [==============================] - 24s 184ms/step - loss: 0.4502 - accuracy: 0.9959 - val_loss: 1.2966 - val_accuracy: 0.7097 - lr: 1.0000e-04\n",
      "Epoch 62/100\n",
      "128/129 [============================>.] - ETA: 0s - loss: 0.4457 - accuracy: 0.9983\n",
      "Epoch 62: val_loss improved from 1.29658 to 1.29173, saving model to ../../artifacts/checkpoints\\checkpoint_InceptionV3\n"
     ]
    },
    {
     "name": "stderr",
     "output_type": "stream",
     "text": [
      "WARNING:absl:Found untraced functions such as _jit_compiled_convolution_op, _jit_compiled_convolution_op, _jit_compiled_convolution_op, _jit_compiled_convolution_op, _jit_compiled_convolution_op while saving (showing 5 of 94). These functions will not be directly callable after loading.\n"
     ]
    },
    {
     "name": "stdout",
     "output_type": "stream",
     "text": [
      "INFO:tensorflow:Assets written to: ../../artifacts/checkpoints\\checkpoint_InceptionV3\\assets\n"
     ]
    },
    {
     "name": "stderr",
     "output_type": "stream",
     "text": [
      "INFO:tensorflow:Assets written to: ../../artifacts/checkpoints\\checkpoint_InceptionV3\\assets\n"
     ]
    },
    {
     "name": "stdout",
     "output_type": "stream",
     "text": [
      "129/129 [==============================] - 24s 185ms/step - loss: 0.4457 - accuracy: 0.9983 - val_loss: 1.2917 - val_accuracy: 0.7235 - lr: 1.0000e-04\n",
      "Epoch 63/100\n",
      "128/129 [============================>.] - ETA: 0s - loss: 0.4385 - accuracy: 0.9985\n",
      "Epoch 63: val_loss improved from 1.29173 to 1.29135, saving model to ../../artifacts/checkpoints\\checkpoint_InceptionV3\n"
     ]
    },
    {
     "name": "stderr",
     "output_type": "stream",
     "text": [
      "WARNING:absl:Found untraced functions such as _jit_compiled_convolution_op, _jit_compiled_convolution_op, _jit_compiled_convolution_op, _jit_compiled_convolution_op, _jit_compiled_convolution_op while saving (showing 5 of 94). These functions will not be directly callable after loading.\n"
     ]
    },
    {
     "name": "stdout",
     "output_type": "stream",
     "text": [
      "INFO:tensorflow:Assets written to: ../../artifacts/checkpoints\\checkpoint_InceptionV3\\assets\n"
     ]
    },
    {
     "name": "stderr",
     "output_type": "stream",
     "text": [
      "INFO:tensorflow:Assets written to: ../../artifacts/checkpoints\\checkpoint_InceptionV3\\assets\n"
     ]
    },
    {
     "name": "stdout",
     "output_type": "stream",
     "text": [
      "129/129 [==============================] - 24s 184ms/step - loss: 0.4386 - accuracy: 0.9985 - val_loss: 1.2913 - val_accuracy: 0.7189 - lr: 1.0000e-04\n",
      "Epoch 64/100\n",
      "128/129 [============================>.] - ETA: 0s - loss: 0.4349 - accuracy: 0.9985\n",
      "Epoch 64: val_loss improved from 1.29135 to 1.28981, saving model to ../../artifacts/checkpoints\\checkpoint_InceptionV3\n"
     ]
    },
    {
     "name": "stderr",
     "output_type": "stream",
     "text": [
      "WARNING:absl:Found untraced functions such as _jit_compiled_convolution_op, _jit_compiled_convolution_op, _jit_compiled_convolution_op, _jit_compiled_convolution_op, _jit_compiled_convolution_op while saving (showing 5 of 94). These functions will not be directly callable after loading.\n"
     ]
    },
    {
     "name": "stdout",
     "output_type": "stream",
     "text": [
      "INFO:tensorflow:Assets written to: ../../artifacts/checkpoints\\checkpoint_InceptionV3\\assets\n"
     ]
    },
    {
     "name": "stderr",
     "output_type": "stream",
     "text": [
      "INFO:tensorflow:Assets written to: ../../artifacts/checkpoints\\checkpoint_InceptionV3\\assets\n"
     ]
    },
    {
     "name": "stdout",
     "output_type": "stream",
     "text": [
      "129/129 [==============================] - 24s 185ms/step - loss: 0.4353 - accuracy: 0.9985 - val_loss: 1.2898 - val_accuracy: 0.7097 - lr: 1.0000e-04\n",
      "Epoch 65/100\n",
      "128/129 [============================>.] - ETA: 0s - loss: 0.4333 - accuracy: 0.9976\n",
      "Epoch 65: val_loss did not improve from 1.28981\n",
      "129/129 [==============================] - 9s 68ms/step - loss: 0.4335 - accuracy: 0.9976 - val_loss: 1.2904 - val_accuracy: 0.7143 - lr: 1.0000e-04\n",
      "Epoch 66/100\n",
      "128/129 [============================>.] - ETA: 0s - loss: 0.4272 - accuracy: 0.9983\n",
      "Epoch 66: val_loss improved from 1.28981 to 1.28031, saving model to ../../artifacts/checkpoints\\checkpoint_InceptionV3\n"
     ]
    },
    {
     "name": "stderr",
     "output_type": "stream",
     "text": [
      "WARNING:absl:Found untraced functions such as _jit_compiled_convolution_op, _jit_compiled_convolution_op, _jit_compiled_convolution_op, _jit_compiled_convolution_op, _jit_compiled_convolution_op while saving (showing 5 of 94). These functions will not be directly callable after loading.\n"
     ]
    },
    {
     "name": "stdout",
     "output_type": "stream",
     "text": [
      "INFO:tensorflow:Assets written to: ../../artifacts/checkpoints\\checkpoint_InceptionV3\\assets\n"
     ]
    },
    {
     "name": "stderr",
     "output_type": "stream",
     "text": [
      "INFO:tensorflow:Assets written to: ../../artifacts/checkpoints\\checkpoint_InceptionV3\\assets\n"
     ]
    },
    {
     "name": "stdout",
     "output_type": "stream",
     "text": [
      "129/129 [==============================] - 24s 187ms/step - loss: 0.4273 - accuracy: 0.9983 - val_loss: 1.2803 - val_accuracy: 0.7097 - lr: 1.0000e-04\n",
      "Epoch 67/100\n",
      "128/129 [============================>.] - ETA: 0s - loss: 0.4286 - accuracy: 0.9980\n",
      "Epoch 67: val_loss did not improve from 1.28031\n",
      "129/129 [==============================] - 9s 68ms/step - loss: 0.4288 - accuracy: 0.9981 - val_loss: 1.2804 - val_accuracy: 0.7235 - lr: 1.0000e-04\n",
      "Epoch 68/100\n",
      "128/129 [============================>.] - ETA: 0s - loss: 0.4232 - accuracy: 0.9980\n",
      "Epoch 68: val_loss improved from 1.28031 to 1.27980, saving model to ../../artifacts/checkpoints\\checkpoint_InceptionV3\n"
     ]
    },
    {
     "name": "stderr",
     "output_type": "stream",
     "text": [
      "WARNING:absl:Found untraced functions such as _jit_compiled_convolution_op, _jit_compiled_convolution_op, _jit_compiled_convolution_op, _jit_compiled_convolution_op, _jit_compiled_convolution_op while saving (showing 5 of 94). These functions will not be directly callable after loading.\n"
     ]
    },
    {
     "name": "stdout",
     "output_type": "stream",
     "text": [
      "INFO:tensorflow:Assets written to: ../../artifacts/checkpoints\\checkpoint_InceptionV3\\assets\n"
     ]
    },
    {
     "name": "stderr",
     "output_type": "stream",
     "text": [
      "INFO:tensorflow:Assets written to: ../../artifacts/checkpoints\\checkpoint_InceptionV3\\assets\n"
     ]
    },
    {
     "name": "stdout",
     "output_type": "stream",
     "text": [
      "129/129 [==============================] - 24s 183ms/step - loss: 0.4232 - accuracy: 0.9981 - val_loss: 1.2798 - val_accuracy: 0.7235 - lr: 1.0000e-04\n",
      "Epoch 69/100\n",
      "128/129 [============================>.] - ETA: 0s - loss: 0.4192 - accuracy: 0.9980\n",
      "Epoch 69: val_loss did not improve from 1.27980\n",
      "129/129 [==============================] - 9s 68ms/step - loss: 0.4196 - accuracy: 0.9978 - val_loss: 1.2807 - val_accuracy: 0.7235 - lr: 1.0000e-04\n",
      "Epoch 70/100\n",
      "128/129 [============================>.] - ETA: 0s - loss: 0.4182 - accuracy: 0.9971\n",
      "Epoch 70: val_loss improved from 1.27980 to 1.27859, saving model to ../../artifacts/checkpoints\\checkpoint_InceptionV3\n"
     ]
    },
    {
     "name": "stderr",
     "output_type": "stream",
     "text": [
      "WARNING:absl:Found untraced functions such as _jit_compiled_convolution_op, _jit_compiled_convolution_op, _jit_compiled_convolution_op, _jit_compiled_convolution_op, _jit_compiled_convolution_op while saving (showing 5 of 94). These functions will not be directly callable after loading.\n"
     ]
    },
    {
     "name": "stdout",
     "output_type": "stream",
     "text": [
      "INFO:tensorflow:Assets written to: ../../artifacts/checkpoints\\checkpoint_InceptionV3\\assets\n"
     ]
    },
    {
     "name": "stderr",
     "output_type": "stream",
     "text": [
      "INFO:tensorflow:Assets written to: ../../artifacts/checkpoints\\checkpoint_InceptionV3\\assets\n"
     ]
    },
    {
     "name": "stdout",
     "output_type": "stream",
     "text": [
      "129/129 [==============================] - 23s 183ms/step - loss: 0.4183 - accuracy: 0.9971 - val_loss: 1.2786 - val_accuracy: 0.7235 - lr: 1.0000e-04\n",
      "Epoch 71/100\n",
      "128/129 [============================>.] - ETA: 0s - loss: 0.4162 - accuracy: 0.9976\n",
      "Epoch 71: val_loss improved from 1.27859 to 1.27065, saving model to ../../artifacts/checkpoints\\checkpoint_InceptionV3\n"
     ]
    },
    {
     "name": "stderr",
     "output_type": "stream",
     "text": [
      "WARNING:absl:Found untraced functions such as _jit_compiled_convolution_op, _jit_compiled_convolution_op, _jit_compiled_convolution_op, _jit_compiled_convolution_op, _jit_compiled_convolution_op while saving (showing 5 of 94). These functions will not be directly callable after loading.\n"
     ]
    },
    {
     "name": "stdout",
     "output_type": "stream",
     "text": [
      "INFO:tensorflow:Assets written to: ../../artifacts/checkpoints\\checkpoint_InceptionV3\\assets\n"
     ]
    },
    {
     "name": "stderr",
     "output_type": "stream",
     "text": [
      "INFO:tensorflow:Assets written to: ../../artifacts/checkpoints\\checkpoint_InceptionV3\\assets\n"
     ]
    },
    {
     "name": "stdout",
     "output_type": "stream",
     "text": [
      "129/129 [==============================] - 24s 185ms/step - loss: 0.4167 - accuracy: 0.9973 - val_loss: 1.2707 - val_accuracy: 0.7189 - lr: 1.0000e-04\n",
      "Epoch 72/100\n",
      "128/129 [============================>.] - ETA: 0s - loss: 0.4153 - accuracy: 0.9983\n",
      "Epoch 72: val_loss improved from 1.27065 to 1.26950, saving model to ../../artifacts/checkpoints\\checkpoint_InceptionV3\n"
     ]
    },
    {
     "name": "stderr",
     "output_type": "stream",
     "text": [
      "WARNING:absl:Found untraced functions such as _jit_compiled_convolution_op, _jit_compiled_convolution_op, _jit_compiled_convolution_op, _jit_compiled_convolution_op, _jit_compiled_convolution_op while saving (showing 5 of 94). These functions will not be directly callable after loading.\n"
     ]
    },
    {
     "name": "stdout",
     "output_type": "stream",
     "text": [
      "INFO:tensorflow:Assets written to: ../../artifacts/checkpoints\\checkpoint_InceptionV3\\assets\n"
     ]
    },
    {
     "name": "stderr",
     "output_type": "stream",
     "text": [
      "INFO:tensorflow:Assets written to: ../../artifacts/checkpoints\\checkpoint_InceptionV3\\assets\n"
     ]
    },
    {
     "name": "stdout",
     "output_type": "stream",
     "text": [
      "129/129 [==============================] - 24s 187ms/step - loss: 0.4157 - accuracy: 0.9983 - val_loss: 1.2695 - val_accuracy: 0.7189 - lr: 1.0000e-04\n",
      "Epoch 73/100\n",
      "128/129 [============================>.] - ETA: 0s - loss: 0.4124 - accuracy: 0.9980\n",
      "Epoch 73: val_loss improved from 1.26950 to 1.26708, saving model to ../../artifacts/checkpoints\\checkpoint_InceptionV3\n"
     ]
    },
    {
     "name": "stderr",
     "output_type": "stream",
     "text": [
      "WARNING:absl:Found untraced functions such as _jit_compiled_convolution_op, _jit_compiled_convolution_op, _jit_compiled_convolution_op, _jit_compiled_convolution_op, _jit_compiled_convolution_op while saving (showing 5 of 94). These functions will not be directly callable after loading.\n"
     ]
    },
    {
     "name": "stdout",
     "output_type": "stream",
     "text": [
      "INFO:tensorflow:Assets written to: ../../artifacts/checkpoints\\checkpoint_InceptionV3\\assets\n"
     ]
    },
    {
     "name": "stderr",
     "output_type": "stream",
     "text": [
      "INFO:tensorflow:Assets written to: ../../artifacts/checkpoints\\checkpoint_InceptionV3\\assets\n"
     ]
    },
    {
     "name": "stdout",
     "output_type": "stream",
     "text": [
      "129/129 [==============================] - 24s 184ms/step - loss: 0.4127 - accuracy: 0.9981 - val_loss: 1.2671 - val_accuracy: 0.7189 - lr: 1.0000e-04\n",
      "Epoch 74/100\n",
      "128/129 [============================>.] - ETA: 0s - loss: 0.4088 - accuracy: 0.9983\n",
      "Epoch 74: val_loss improved from 1.26708 to 1.26657, saving model to ../../artifacts/checkpoints\\checkpoint_InceptionV3\n"
     ]
    },
    {
     "name": "stderr",
     "output_type": "stream",
     "text": [
      "WARNING:absl:Found untraced functions such as _jit_compiled_convolution_op, _jit_compiled_convolution_op, _jit_compiled_convolution_op, _jit_compiled_convolution_op, _jit_compiled_convolution_op while saving (showing 5 of 94). These functions will not be directly callable after loading.\n"
     ]
    },
    {
     "name": "stdout",
     "output_type": "stream",
     "text": [
      "INFO:tensorflow:Assets written to: ../../artifacts/checkpoints\\checkpoint_InceptionV3\\assets\n"
     ]
    },
    {
     "name": "stderr",
     "output_type": "stream",
     "text": [
      "INFO:tensorflow:Assets written to: ../../artifacts/checkpoints\\checkpoint_InceptionV3\\assets\n"
     ]
    },
    {
     "name": "stdout",
     "output_type": "stream",
     "text": [
      "129/129 [==============================] - 24s 185ms/step - loss: 0.4089 - accuracy: 0.9983 - val_loss: 1.2666 - val_accuracy: 0.7235 - lr: 1.0000e-04\n",
      "Epoch 75/100\n",
      "128/129 [============================>.] - ETA: 0s - loss: 0.4078 - accuracy: 0.9978\n",
      "Epoch 75: val_loss improved from 1.26657 to 1.26181, saving model to ../../artifacts/checkpoints\\checkpoint_InceptionV3\n"
     ]
    },
    {
     "name": "stderr",
     "output_type": "stream",
     "text": [
      "WARNING:absl:Found untraced functions such as _jit_compiled_convolution_op, _jit_compiled_convolution_op, _jit_compiled_convolution_op, _jit_compiled_convolution_op, _jit_compiled_convolution_op while saving (showing 5 of 94). These functions will not be directly callable after loading.\n"
     ]
    },
    {
     "name": "stdout",
     "output_type": "stream",
     "text": [
      "INFO:tensorflow:Assets written to: ../../artifacts/checkpoints\\checkpoint_InceptionV3\\assets\n"
     ]
    },
    {
     "name": "stderr",
     "output_type": "stream",
     "text": [
      "INFO:tensorflow:Assets written to: ../../artifacts/checkpoints\\checkpoint_InceptionV3\\assets\n"
     ]
    },
    {
     "name": "stdout",
     "output_type": "stream",
     "text": [
      "129/129 [==============================] - 24s 185ms/step - loss: 0.4081 - accuracy: 0.9978 - val_loss: 1.2618 - val_accuracy: 0.7235 - lr: 1.0000e-04\n",
      "Epoch 76/100\n",
      "128/129 [============================>.] - ETA: 0s - loss: 0.4046 - accuracy: 0.9990\n",
      "Epoch 76: val_loss improved from 1.26181 to 1.25818, saving model to ../../artifacts/checkpoints\\checkpoint_InceptionV3\n"
     ]
    },
    {
     "name": "stderr",
     "output_type": "stream",
     "text": [
      "WARNING:absl:Found untraced functions such as _jit_compiled_convolution_op, _jit_compiled_convolution_op, _jit_compiled_convolution_op, _jit_compiled_convolution_op, _jit_compiled_convolution_op while saving (showing 5 of 94). These functions will not be directly callable after loading.\n"
     ]
    },
    {
     "name": "stdout",
     "output_type": "stream",
     "text": [
      "INFO:tensorflow:Assets written to: ../../artifacts/checkpoints\\checkpoint_InceptionV3\\assets\n"
     ]
    },
    {
     "name": "stderr",
     "output_type": "stream",
     "text": [
      "INFO:tensorflow:Assets written to: ../../artifacts/checkpoints\\checkpoint_InceptionV3\\assets\n"
     ]
    },
    {
     "name": "stdout",
     "output_type": "stream",
     "text": [
      "129/129 [==============================] - 24s 184ms/step - loss: 0.4047 - accuracy: 0.9990 - val_loss: 1.2582 - val_accuracy: 0.7235 - lr: 1.0000e-04\n",
      "Epoch 77/100\n",
      "128/129 [============================>.] - ETA: 0s - loss: 0.4019 - accuracy: 0.9978\n",
      "Epoch 77: val_loss improved from 1.25818 to 1.25460, saving model to ../../artifacts/checkpoints\\checkpoint_InceptionV3\n"
     ]
    },
    {
     "name": "stderr",
     "output_type": "stream",
     "text": [
      "WARNING:absl:Found untraced functions such as _jit_compiled_convolution_op, _jit_compiled_convolution_op, _jit_compiled_convolution_op, _jit_compiled_convolution_op, _jit_compiled_convolution_op while saving (showing 5 of 94). These functions will not be directly callable after loading.\n"
     ]
    },
    {
     "name": "stdout",
     "output_type": "stream",
     "text": [
      "INFO:tensorflow:Assets written to: ../../artifacts/checkpoints\\checkpoint_InceptionV3\\assets\n"
     ]
    },
    {
     "name": "stderr",
     "output_type": "stream",
     "text": [
      "INFO:tensorflow:Assets written to: ../../artifacts/checkpoints\\checkpoint_InceptionV3\\assets\n"
     ]
    },
    {
     "name": "stdout",
     "output_type": "stream",
     "text": [
      "129/129 [==============================] - 24s 186ms/step - loss: 0.4020 - accuracy: 0.9978 - val_loss: 1.2546 - val_accuracy: 0.7281 - lr: 1.0000e-04\n",
      "Epoch 78/100\n",
      "128/129 [============================>.] - ETA: 0s - loss: 0.4004 - accuracy: 0.9988\n",
      "Epoch 78: val_loss did not improve from 1.25460\n",
      "129/129 [==============================] - 9s 68ms/step - loss: 0.4005 - accuracy: 0.9988 - val_loss: 1.2568 - val_accuracy: 0.7281 - lr: 1.0000e-04\n",
      "Epoch 79/100\n",
      "128/129 [============================>.] - ETA: 0s - loss: 0.3996 - accuracy: 0.9993\n",
      "Epoch 79: val_loss did not improve from 1.25460\n",
      "129/129 [==============================] - 9s 67ms/step - loss: 0.4002 - accuracy: 0.9993 - val_loss: 1.2566 - val_accuracy: 0.7235 - lr: 1.0000e-04\n",
      "Epoch 80/100\n",
      "128/129 [============================>.] - ETA: 0s - loss: 0.3908 - accuracy: 0.9995\n",
      "Epoch 80: val_loss did not improve from 1.25460\n",
      "129/129 [==============================] - 9s 67ms/step - loss: 0.3909 - accuracy: 0.9995 - val_loss: 1.2547 - val_accuracy: 0.7189 - lr: 1.0000e-04\n",
      "Epoch 81/100\n",
      "128/129 [============================>.] - ETA: 0s - loss: 0.3927 - accuracy: 0.9993\n",
      "Epoch 81: val_loss did not improve from 1.25460\n",
      "129/129 [==============================] - 9s 67ms/step - loss: 0.3927 - accuracy: 0.9993 - val_loss: 1.2555 - val_accuracy: 0.7235 - lr: 5.0000e-05\n",
      "Epoch 82/100\n",
      "128/129 [============================>.] - ETA: 0s - loss: 0.3925 - accuracy: 0.9985\n",
      "Epoch 82: val_loss improved from 1.25460 to 1.25181, saving model to ../../artifacts/checkpoints\\checkpoint_InceptionV3\n"
     ]
    },
    {
     "name": "stderr",
     "output_type": "stream",
     "text": [
      "WARNING:absl:Found untraced functions such as _jit_compiled_convolution_op, _jit_compiled_convolution_op, _jit_compiled_convolution_op, _jit_compiled_convolution_op, _jit_compiled_convolution_op while saving (showing 5 of 94). These functions will not be directly callable after loading.\n"
     ]
    },
    {
     "name": "stdout",
     "output_type": "stream",
     "text": [
      "INFO:tensorflow:Assets written to: ../../artifacts/checkpoints\\checkpoint_InceptionV3\\assets\n"
     ]
    },
    {
     "name": "stderr",
     "output_type": "stream",
     "text": [
      "INFO:tensorflow:Assets written to: ../../artifacts/checkpoints\\checkpoint_InceptionV3\\assets\n"
     ]
    },
    {
     "name": "stdout",
     "output_type": "stream",
     "text": [
      "129/129 [==============================] - 24s 183ms/step - loss: 0.3932 - accuracy: 0.9983 - val_loss: 1.2518 - val_accuracy: 0.7189 - lr: 5.0000e-05\n",
      "Epoch 83/100\n",
      "128/129 [============================>.] - ETA: 0s - loss: 0.3927 - accuracy: 0.9978\n",
      "Epoch 83: val_loss did not improve from 1.25181\n",
      "129/129 [==============================] - 9s 68ms/step - loss: 0.3930 - accuracy: 0.9976 - val_loss: 1.2541 - val_accuracy: 0.7189 - lr: 5.0000e-05\n",
      "Epoch 84/100\n",
      "128/129 [============================>.] - ETA: 0s - loss: 0.3881 - accuracy: 0.9990\n",
      "Epoch 84: val_loss improved from 1.25181 to 1.25068, saving model to ../../artifacts/checkpoints\\checkpoint_InceptionV3\n"
     ]
    },
    {
     "name": "stderr",
     "output_type": "stream",
     "text": [
      "WARNING:absl:Found untraced functions such as _jit_compiled_convolution_op, _jit_compiled_convolution_op, _jit_compiled_convolution_op, _jit_compiled_convolution_op, _jit_compiled_convolution_op while saving (showing 5 of 94). These functions will not be directly callable after loading.\n"
     ]
    },
    {
     "name": "stdout",
     "output_type": "stream",
     "text": [
      "INFO:tensorflow:Assets written to: ../../artifacts/checkpoints\\checkpoint_InceptionV3\\assets\n"
     ]
    },
    {
     "name": "stderr",
     "output_type": "stream",
     "text": [
      "INFO:tensorflow:Assets written to: ../../artifacts/checkpoints\\checkpoint_InceptionV3\\assets\n"
     ]
    },
    {
     "name": "stdout",
     "output_type": "stream",
     "text": [
      "129/129 [==============================] - 24s 184ms/step - loss: 0.3883 - accuracy: 0.9990 - val_loss: 1.2507 - val_accuracy: 0.7235 - lr: 5.0000e-05\n",
      "Epoch 85/100\n",
      "128/129 [============================>.] - ETA: 0s - loss: 0.3872 - accuracy: 0.9998\n",
      "Epoch 85: val_loss improved from 1.25068 to 1.25013, saving model to ../../artifacts/checkpoints\\checkpoint_InceptionV3\n"
     ]
    },
    {
     "name": "stderr",
     "output_type": "stream",
     "text": [
      "WARNING:absl:Found untraced functions such as _jit_compiled_convolution_op, _jit_compiled_convolution_op, _jit_compiled_convolution_op, _jit_compiled_convolution_op, _jit_compiled_convolution_op while saving (showing 5 of 94). These functions will not be directly callable after loading.\n"
     ]
    },
    {
     "name": "stdout",
     "output_type": "stream",
     "text": [
      "INFO:tensorflow:Assets written to: ../../artifacts/checkpoints\\checkpoint_InceptionV3\\assets\n"
     ]
    },
    {
     "name": "stderr",
     "output_type": "stream",
     "text": [
      "INFO:tensorflow:Assets written to: ../../artifacts/checkpoints\\checkpoint_InceptionV3\\assets\n"
     ]
    },
    {
     "name": "stdout",
     "output_type": "stream",
     "text": [
      "129/129 [==============================] - 24s 185ms/step - loss: 0.3881 - accuracy: 0.9998 - val_loss: 1.2501 - val_accuracy: 0.7235 - lr: 5.0000e-05\n",
      "Epoch 86/100\n",
      "128/129 [============================>.] - ETA: 0s - loss: 0.3876 - accuracy: 0.9990\n",
      "Epoch 86: val_loss improved from 1.25013 to 1.24739, saving model to ../../artifacts/checkpoints\\checkpoint_InceptionV3\n"
     ]
    },
    {
     "name": "stderr",
     "output_type": "stream",
     "text": [
      "WARNING:absl:Found untraced functions such as _jit_compiled_convolution_op, _jit_compiled_convolution_op, _jit_compiled_convolution_op, _jit_compiled_convolution_op, _jit_compiled_convolution_op while saving (showing 5 of 94). These functions will not be directly callable after loading.\n"
     ]
    },
    {
     "name": "stdout",
     "output_type": "stream",
     "text": [
      "INFO:tensorflow:Assets written to: ../../artifacts/checkpoints\\checkpoint_InceptionV3\\assets\n"
     ]
    },
    {
     "name": "stderr",
     "output_type": "stream",
     "text": [
      "INFO:tensorflow:Assets written to: ../../artifacts/checkpoints\\checkpoint_InceptionV3\\assets\n"
     ]
    },
    {
     "name": "stdout",
     "output_type": "stream",
     "text": [
      "129/129 [==============================] - 24s 187ms/step - loss: 0.3880 - accuracy: 0.9990 - val_loss: 1.2474 - val_accuracy: 0.7235 - lr: 5.0000e-05\n",
      "Epoch 87/100\n",
      "128/129 [============================>.] - ETA: 0s - loss: 0.3864 - accuracy: 0.9980\n",
      "Epoch 87: val_loss improved from 1.24739 to 1.24651, saving model to ../../artifacts/checkpoints\\checkpoint_InceptionV3\n"
     ]
    },
    {
     "name": "stderr",
     "output_type": "stream",
     "text": [
      "WARNING:absl:Found untraced functions such as _jit_compiled_convolution_op, _jit_compiled_convolution_op, _jit_compiled_convolution_op, _jit_compiled_convolution_op, _jit_compiled_convolution_op while saving (showing 5 of 94). These functions will not be directly callable after loading.\n"
     ]
    },
    {
     "name": "stdout",
     "output_type": "stream",
     "text": [
      "INFO:tensorflow:Assets written to: ../../artifacts/checkpoints\\checkpoint_InceptionV3\\assets\n"
     ]
    },
    {
     "name": "stderr",
     "output_type": "stream",
     "text": [
      "INFO:tensorflow:Assets written to: ../../artifacts/checkpoints\\checkpoint_InceptionV3\\assets\n"
     ]
    },
    {
     "name": "stdout",
     "output_type": "stream",
     "text": [
      "129/129 [==============================] - 24s 185ms/step - loss: 0.3866 - accuracy: 0.9981 - val_loss: 1.2465 - val_accuracy: 0.7281 - lr: 5.0000e-05\n",
      "Epoch 88/100\n",
      "128/129 [============================>.] - ETA: 0s - loss: 0.3850 - accuracy: 0.9985\n",
      "Epoch 88: val_loss improved from 1.24651 to 1.24619, saving model to ../../artifacts/checkpoints\\checkpoint_InceptionV3\n"
     ]
    },
    {
     "name": "stderr",
     "output_type": "stream",
     "text": [
      "WARNING:absl:Found untraced functions such as _jit_compiled_convolution_op, _jit_compiled_convolution_op, _jit_compiled_convolution_op, _jit_compiled_convolution_op, _jit_compiled_convolution_op while saving (showing 5 of 94). These functions will not be directly callable after loading.\n"
     ]
    },
    {
     "name": "stdout",
     "output_type": "stream",
     "text": [
      "INFO:tensorflow:Assets written to: ../../artifacts/checkpoints\\checkpoint_InceptionV3\\assets\n"
     ]
    },
    {
     "name": "stderr",
     "output_type": "stream",
     "text": [
      "INFO:tensorflow:Assets written to: ../../artifacts/checkpoints\\checkpoint_InceptionV3\\assets\n"
     ]
    },
    {
     "name": "stdout",
     "output_type": "stream",
     "text": [
      "129/129 [==============================] - 36s 279ms/step - loss: 0.3852 - accuracy: 0.9985 - val_loss: 1.2462 - val_accuracy: 0.7143 - lr: 5.0000e-05\n",
      "Epoch 89/100\n",
      "129/129 [==============================] - ETA: 0s - loss: 0.3856 - accuracy: 0.9981\n",
      "Epoch 89: val_loss did not improve from 1.24619\n",
      "129/129 [==============================] - 12s 90ms/step - loss: 0.3856 - accuracy: 0.9981 - val_loss: 1.2478 - val_accuracy: 0.7281 - lr: 5.0000e-05\n",
      "Epoch 90/100\n",
      "129/129 [==============================] - ETA: 0s - loss: 0.3825 - accuracy: 0.9983\n",
      "Epoch 90: val_loss improved from 1.24619 to 1.24560, saving model to ../../artifacts/checkpoints\\checkpoint_InceptionV3\n"
     ]
    },
    {
     "name": "stderr",
     "output_type": "stream",
     "text": [
      "WARNING:absl:Found untraced functions such as _jit_compiled_convolution_op, _jit_compiled_convolution_op, _jit_compiled_convolution_op, _jit_compiled_convolution_op, _jit_compiled_convolution_op while saving (showing 5 of 94). These functions will not be directly callable after loading.\n"
     ]
    },
    {
     "name": "stdout",
     "output_type": "stream",
     "text": [
      "INFO:tensorflow:Assets written to: ../../artifacts/checkpoints\\checkpoint_InceptionV3\\assets\n"
     ]
    },
    {
     "name": "stderr",
     "output_type": "stream",
     "text": [
      "INFO:tensorflow:Assets written to: ../../artifacts/checkpoints\\checkpoint_InceptionV3\\assets\n"
     ]
    },
    {
     "name": "stdout",
     "output_type": "stream",
     "text": [
      "129/129 [==============================] - 37s 286ms/step - loss: 0.3825 - accuracy: 0.9983 - val_loss: 1.2456 - val_accuracy: 0.7281 - lr: 5.0000e-05\n",
      "Epoch 91/100\n",
      "129/129 [==============================] - ETA: 0s - loss: 0.3825 - accuracy: 0.9993\n",
      "Epoch 91: val_loss improved from 1.24560 to 1.24432, saving model to ../../artifacts/checkpoints\\checkpoint_InceptionV3\n"
     ]
    },
    {
     "name": "stderr",
     "output_type": "stream",
     "text": [
      "WARNING:absl:Found untraced functions such as _jit_compiled_convolution_op, _jit_compiled_convolution_op, _jit_compiled_convolution_op, _jit_compiled_convolution_op, _jit_compiled_convolution_op while saving (showing 5 of 94). These functions will not be directly callable after loading.\n"
     ]
    },
    {
     "name": "stdout",
     "output_type": "stream",
     "text": [
      "INFO:tensorflow:Assets written to: ../../artifacts/checkpoints\\checkpoint_InceptionV3\\assets\n"
     ]
    },
    {
     "name": "stderr",
     "output_type": "stream",
     "text": [
      "INFO:tensorflow:Assets written to: ../../artifacts/checkpoints\\checkpoint_InceptionV3\\assets\n"
     ]
    },
    {
     "name": "stdout",
     "output_type": "stream",
     "text": [
      "129/129 [==============================] - 34s 263ms/step - loss: 0.3825 - accuracy: 0.9993 - val_loss: 1.2443 - val_accuracy: 0.7235 - lr: 5.0000e-05\n",
      "Epoch 92/100\n",
      "128/129 [============================>.] - ETA: 0s - loss: 0.3839 - accuracy: 0.9985\n",
      "Epoch 92: val_loss improved from 1.24432 to 1.24055, saving model to ../../artifacts/checkpoints\\checkpoint_InceptionV3\n"
     ]
    },
    {
     "name": "stderr",
     "output_type": "stream",
     "text": [
      "WARNING:absl:Found untraced functions such as _jit_compiled_convolution_op, _jit_compiled_convolution_op, _jit_compiled_convolution_op, _jit_compiled_convolution_op, _jit_compiled_convolution_op while saving (showing 5 of 94). These functions will not be directly callable after loading.\n"
     ]
    },
    {
     "name": "stdout",
     "output_type": "stream",
     "text": [
      "INFO:tensorflow:Assets written to: ../../artifacts/checkpoints\\checkpoint_InceptionV3\\assets\n"
     ]
    },
    {
     "name": "stderr",
     "output_type": "stream",
     "text": [
      "INFO:tensorflow:Assets written to: ../../artifacts/checkpoints\\checkpoint_InceptionV3\\assets\n"
     ]
    },
    {
     "name": "stdout",
     "output_type": "stream",
     "text": [
      "129/129 [==============================] - 24s 182ms/step - loss: 0.3839 - accuracy: 0.9985 - val_loss: 1.2406 - val_accuracy: 0.7235 - lr: 5.0000e-05\n",
      "Epoch 93/100\n",
      "128/129 [============================>.] - ETA: 0s - loss: 0.3840 - accuracy: 0.9983\n",
      "Epoch 93: val_loss did not improve from 1.24055\n",
      "129/129 [==============================] - 9s 66ms/step - loss: 0.3845 - accuracy: 0.9981 - val_loss: 1.2437 - val_accuracy: 0.7235 - lr: 5.0000e-05\n",
      "Epoch 94/100\n",
      "128/129 [============================>.] - ETA: 0s - loss: 0.3783 - accuracy: 0.9993\n",
      "Epoch 94: val_loss did not improve from 1.24055\n",
      "129/129 [==============================] - 9s 66ms/step - loss: 0.3785 - accuracy: 0.9993 - val_loss: 1.2418 - val_accuracy: 0.7281 - lr: 5.0000e-05\n",
      "Epoch 95/100\n",
      "128/129 [============================>.] - ETA: 0s - loss: 0.3798 - accuracy: 0.9990\n",
      "Epoch 95: val_loss improved from 1.24055 to 1.23848, saving model to ../../artifacts/checkpoints\\checkpoint_InceptionV3\n"
     ]
    },
    {
     "name": "stderr",
     "output_type": "stream",
     "text": [
      "WARNING:absl:Found untraced functions such as _jit_compiled_convolution_op, _jit_compiled_convolution_op, _jit_compiled_convolution_op, _jit_compiled_convolution_op, _jit_compiled_convolution_op while saving (showing 5 of 94). These functions will not be directly callable after loading.\n"
     ]
    },
    {
     "name": "stdout",
     "output_type": "stream",
     "text": [
      "INFO:tensorflow:Assets written to: ../../artifacts/checkpoints\\checkpoint_InceptionV3\\assets\n"
     ]
    },
    {
     "name": "stderr",
     "output_type": "stream",
     "text": [
      "INFO:tensorflow:Assets written to: ../../artifacts/checkpoints\\checkpoint_InceptionV3\\assets\n"
     ]
    },
    {
     "name": "stdout",
     "output_type": "stream",
     "text": [
      "129/129 [==============================] - 23s 182ms/step - loss: 0.3799 - accuracy: 0.9990 - val_loss: 1.2385 - val_accuracy: 0.7281 - lr: 5.0000e-05\n",
      "Epoch 96/100\n",
      "128/129 [============================>.] - ETA: 0s - loss: 0.3792 - accuracy: 0.9988\n",
      "Epoch 96: val_loss did not improve from 1.23848\n",
      "129/129 [==============================] - 9s 67ms/step - loss: 0.3794 - accuracy: 0.9988 - val_loss: 1.2409 - val_accuracy: 0.7281 - lr: 5.0000e-05\n",
      "Epoch 97/100\n",
      "128/129 [============================>.] - ETA: 0s - loss: 0.3745 - accuracy: 0.9998\n",
      "Epoch 97: val_loss did not improve from 1.23848\n",
      "129/129 [==============================] - 9s 67ms/step - loss: 0.3759 - accuracy: 0.9995 - val_loss: 1.2398 - val_accuracy: 0.7281 - lr: 5.0000e-05\n",
      "Epoch 98/100\n",
      "128/129 [============================>.] - ETA: 0s - loss: 0.3765 - accuracy: 0.9990\n",
      "Epoch 98: val_loss improved from 1.23848 to 1.23696, saving model to ../../artifacts/checkpoints\\checkpoint_InceptionV3\n"
     ]
    },
    {
     "name": "stderr",
     "output_type": "stream",
     "text": [
      "WARNING:absl:Found untraced functions such as _jit_compiled_convolution_op, _jit_compiled_convolution_op, _jit_compiled_convolution_op, _jit_compiled_convolution_op, _jit_compiled_convolution_op while saving (showing 5 of 94). These functions will not be directly callable after loading.\n"
     ]
    },
    {
     "name": "stdout",
     "output_type": "stream",
     "text": [
      "INFO:tensorflow:Assets written to: ../../artifacts/checkpoints\\checkpoint_InceptionV3\\assets\n"
     ]
    },
    {
     "name": "stderr",
     "output_type": "stream",
     "text": [
      "INFO:tensorflow:Assets written to: ../../artifacts/checkpoints\\checkpoint_InceptionV3\\assets\n"
     ]
    },
    {
     "name": "stdout",
     "output_type": "stream",
     "text": [
      "129/129 [==============================] - 23s 183ms/step - loss: 0.3767 - accuracy: 0.9990 - val_loss: 1.2370 - val_accuracy: 0.7281 - lr: 5.0000e-05\n",
      "Epoch 99/100\n",
      "128/129 [============================>.] - ETA: 0s - loss: 0.3766 - accuracy: 0.9983\n",
      "Epoch 99: val_loss improved from 1.23696 to 1.23673, saving model to ../../artifacts/checkpoints\\checkpoint_InceptionV3\n"
     ]
    },
    {
     "name": "stderr",
     "output_type": "stream",
     "text": [
      "WARNING:absl:Found untraced functions such as _jit_compiled_convolution_op, _jit_compiled_convolution_op, _jit_compiled_convolution_op, _jit_compiled_convolution_op, _jit_compiled_convolution_op while saving (showing 5 of 94). These functions will not be directly callable after loading.\n"
     ]
    },
    {
     "name": "stdout",
     "output_type": "stream",
     "text": [
      "INFO:tensorflow:Assets written to: ../../artifacts/checkpoints\\checkpoint_InceptionV3\\assets\n"
     ]
    },
    {
     "name": "stderr",
     "output_type": "stream",
     "text": [
      "INFO:tensorflow:Assets written to: ../../artifacts/checkpoints\\checkpoint_InceptionV3\\assets\n"
     ]
    },
    {
     "name": "stdout",
     "output_type": "stream",
     "text": [
      "129/129 [==============================] - 24s 182ms/step - loss: 0.3766 - accuracy: 0.9983 - val_loss: 1.2367 - val_accuracy: 0.7235 - lr: 5.0000e-05\n",
      "Epoch 100/100\n",
      "128/129 [============================>.] - ETA: 0s - loss: 0.3749 - accuracy: 0.9993\n",
      "Epoch 100: val_loss did not improve from 1.23673\n",
      "129/129 [==============================] - 9s 66ms/step - loss: 0.3750 - accuracy: 0.9993 - val_loss: 1.2380 - val_accuracy: 0.7281 - lr: 5.0000e-05\n",
      "Saving model to \"artifacts/models/InceptionV3.h5\"...\n",
      "Model saved successfully!\n"
     ]
    }
   ],
   "source": [
    "inceptionV3_wrapper.train_and_save_model(batch_size=32)"
   ]
  },
  {
   "cell_type": "code",
   "execution_count": 10,
   "metadata": {},
   "outputs": [
    {
     "data": {
      "image/png": "[encoded data removed]",
      "text/plain": [
       "<Figure size 640x480 with 1 Axes>"
      ]
     },
     "metadata": {},
     "output_type": "display_data"
    }
   ],
   "source": [
    "inceptionV3_wrapper.plot_accuracy()"
   ]
  },
  {
   "cell_type": "code",
   "execution_count": 11,
   "metadata": {},
   "outputs": [
    {
     "data": {
      "image/png": "[encoded data removed]",
      "text/plain": [
       "<Figure size 640x480 with 1 Axes>"
      ]
     },
     "metadata": {},
     "output_type": "display_data"
    }
   ],
   "source": [
    "inceptionV3_wrapper.plot_loss()"
   ]
  },
  {
   "cell_type": "code",
   "execution_count": 12,
   "metadata": {},
   "outputs": [
    {
     "name": "stdout",
     "output_type": "stream",
     "text": [
      "Loading model from \"../../artifacts/models/InceptionV3.h5\"...\n",
      "Model loaded successfully!\n"
     ]
    }
   ],
   "source": [
    "inceptionV3_wrapper.load_model()"
   ]
  },
  {
   "cell_type": "code",
   "execution_count": 13,
   "metadata": {},
   "outputs": [
    {
     "name": "stdout",
     "output_type": "stream",
     "text": [
      "20/20 [==============================] - 1s 31ms/step - loss: 1.0788 - accuracy: 0.7916\n",
      "Loss: 1.0788\n",
      "Accuracy: 0.7916\n",
      "20/20 [==============================] - 1s 20ms/step\n",
      "Classification Report:\n",
      "              precision    recall  f1-score   support\n",
      "\n",
      "           0       0.95      0.78      0.86        23\n",
      "           1       0.84      0.64      0.73        25\n",
      "           2       0.80      0.87      0.83        52\n",
      "           3       0.90      0.92      0.91        38\n",
      "           4       0.74      0.74      0.74        27\n",
      "           5       0.60      0.86      0.71        35\n",
      "           6       0.73      0.71      0.72        45\n",
      "           7       0.75      0.90      0.82        10\n",
      "           8       0.92      0.92      0.92        12\n",
      "           9       0.71      0.45      0.56        11\n",
      "          10       0.93      0.61      0.74        23\n",
      "          11       0.76      0.96      0.85        26\n",
      "          12       0.69      0.75      0.72        32\n",
      "          13       0.86      0.80      0.83        15\n",
      "          14       0.73      0.65      0.69        17\n",
      "          15       0.80      0.75      0.77        16\n",
      "          16       0.91      0.77      0.83        13\n",
      "          17       0.71      0.71      0.71        21\n",
      "          18       0.65      0.61      0.63        18\n",
      "          19       0.77      0.95      0.85        21\n",
      "          20       0.71      0.83      0.77        12\n",
      "          21       0.90      0.85      0.87        53\n",
      "          22       1.00      0.74      0.85        19\n",
      "          23       0.81      0.76      0.79        17\n",
      "          24       0.87      0.87      0.87        38\n",
      "\n",
      "    accuracy                           0.79       619\n",
      "   macro avg       0.80      0.78      0.78       619\n",
      "weighted avg       0.80      0.79      0.79       619\n",
      "\n"
     ]
    },
    {
     "data": {
      "image/png": "[encoded data removed]",
      "text/plain": [
       "<Figure size 1500x1000 with 2 Axes>"
      ]
     },
     "metadata": {},
     "output_type": "display_data"
    }
   ],
   "source": [
    "inceptionV3_wrapper.display_evaluation_results()"
   ]
  },
  {
   "cell_type": "code",
   "execution_count": null,
   "metadata": {},
   "outputs": [],
   "source": []
  }
 ],
 "metadata": {
  "kernelspec": {
   "display_name": "ML-projekat",
   "language": "python",
   "name": "python3"
  },
  "language_info": {
   "codemirror_mode": {
    "name": "ipython",
    "version": 3
   },
   "file_extension": ".py",
   "mimetype": "text/x-python",
   "name": "python",
   "nbconvert_exporter": "python",
   "pygments_lexer": "ipython3",
   "version": "3.9.17"
  },
  "orig_nbformat": 4
 },
 "nbformat": 4,
 "nbformat_minor": 2
}
