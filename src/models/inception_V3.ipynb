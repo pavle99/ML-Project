{
 "cells": [
  {
   "cell_type": "code",
   "execution_count": 1,
   "metadata": {},
   "outputs": [],
   "source": [
    "import sys\n",
    "\n",
    "sys.path.append(\"..\")"
   ]
  },
  {
   "cell_type": "code",
   "execution_count": 2,
   "metadata": {},
   "outputs": [],
   "source": [
    "from tensorflow import keras"
   ]
  },
  {
   "cell_type": "code",
   "execution_count": 3,
   "metadata": {},
   "outputs": [],
   "source": [
    "from utils.preprocessing_utils import PreprocessingUtils"
   ]
  },
  {
   "cell_type": "code",
   "execution_count": 4,
   "metadata": {},
   "outputs": [],
   "source": [
    "from utils.model_wrapper import ModelWrapper"
   ]
  },
  {
   "cell_type": "code",
   "execution_count": 5,
   "metadata": {},
   "outputs": [
    {
     "name": "stdout",
     "output_type": "stream",
     "text": [
      "Files already exist, skipping...\n",
      "Loading images and labels...\n",
      "Images and labels loaded successfully!\n",
      "Preprocessing labels...\n",
      "Labels preprocessed successfully!\n",
      "Loading split data...\n",
      "Split data loaded successfully!\n"
     ]
    }
   ],
   "source": [
    "preprocessing_utils = PreprocessingUtils()"
   ]
  },
  {
   "cell_type": "code",
   "execution_count": 6,
   "metadata": {},
   "outputs": [],
   "source": [
    "def build_inceptionV3(model_name: str):\n",
    "    model = keras.models.Sequential(\n",
    "        name=model_name,\n",
    "        layers=[\n",
    "            keras.applications.inception_v3.InceptionV3(\n",
    "                weights=\"imagenet\",\n",
    "                include_top=False,\n",
    "                input_shape=preprocessing_utils.images.shape[1:],\n",
    "            ),\n",
    "            keras.layers.GlobalAveragePooling2D(),\n",
    "            keras.layers.Dense(128, activation=\"relu\"),\n",
    "            keras.layers.Dropout(0.2),\n",
    "            keras.layers.Dense(\n",
    "                preprocessing_utils.num_classes,\n",
    "                kernel_regularizer=keras.regularizers.l2(0.01),\n",
    "                activation=\"softmax\",\n",
    "            ),\n",
    "        ],\n",
    "    )\n",
    "\n",
    "    model.compile(\n",
    "        optimizer=keras.optimizers.SGD(learning_rate=0.0001, momentum=0.9),\n",
    "        loss=\"categorical_crossentropy\",\n",
    "        metrics=[\"accuracy\"],\n",
    "    )\n",
    "\n",
    "    model.summary()\n",
    "\n",
    "    return model"
   ]
  },
  {
   "cell_type": "code",
   "execution_count": 7,
   "metadata": {},
   "outputs": [],
   "source": [
    "inceptionV3_wrapper = ModelWrapper(\"InceptionV3\", preprocessing_utils=preprocessing_utils)"
   ]
  },
  {
   "cell_type": "code",
   "execution_count": 8,
   "metadata": {},
   "outputs": [
    {
     "name": "stdout",
     "output_type": "stream",
     "text": [
      "Building model...\n",
      "Model: \"InceptionV3\"\n",
      "_________________________________________________________________\n",
      " Layer (type)                Output Shape              Param #   \n",
      "=================================================================\n",
      " inception_v3 (Functional)   (None, 6, 6, 2048)        21802784  \n",
      "                                                                 \n",
      " global_average_pooling2d (G  (None, 2048)             0         \n",
      " lobalAveragePooling2D)                                          \n",
      "                                                                 \n",
      " dense (Dense)               (None, 128)               262272    \n",
      "                                                                 \n",
      " dropout (Dropout)           (None, 128)               0         \n",
      "                                                                 \n",
      " dense_1 (Dense)             (None, 25)                3225      \n",
      "                                                                 \n",
      "=================================================================\n",
      "Total params: 22,068,281\n",
      "Trainable params: 22,033,849\n",
      "Non-trainable params: 34,432\n",
      "_________________________________________________________________\n",
      "Model built successfully!\n",
      "Saving model summary to ../../artifacts/model_summaries/summary_InceptionV3...\n",
      "Model summary saved successfully!\n"
     ]
    }
   ],
   "source": [
    "inceptionV3_wrapper.build_model(build_fn=build_inceptionV3, model_name=inceptionV3_wrapper.model_name)"
   ]
  },
  {
   "cell_type": "code",
   "execution_count": 9,
   "metadata": {},
   "outputs": [
    {
     "name": "stdout",
     "output_type": "stream",
     "text": [
      "Epoch 1/100\n",
      "129/129 [==============================] - ETA: 0s - loss: 3.6536 - accuracy: 0.0754\n",
      "Epoch 1: val_loss improved from inf to 3.51053, saving model to ../../artifacts/checkpoints\\checkpoint_InceptionV3\n"
     ]
    },
    {
     "name": "stderr",
     "output_type": "stream",
     "text": [
      "WARNING:absl:Found untraced functions such as _jit_compiled_convolution_op, _jit_compiled_convolution_op, _jit_compiled_convolution_op, _jit_compiled_convolution_op, _jit_compiled_convolution_op while saving (showing 5 of 94). These functions will not be directly callable after loading.\n"
     ]
    },
    {
     "name": "stdout",
     "output_type": "stream",
     "text": [
      "INFO:tensorflow:Assets written to: ../../artifacts/checkpoints\\checkpoint_InceptionV3\\assets\n"
     ]
    },
    {
     "name": "stderr",
     "output_type": "stream",
     "text": [
      "INFO:tensorflow:Assets written to: ../../artifacts/checkpoints\\checkpoint_InceptionV3\\assets\n"
     ]
    },
    {
     "name": "stdout",
     "output_type": "stream",
     "text": [
      "129/129 [==============================] - 44s 300ms/step - loss: 3.6536 - accuracy: 0.0754 - val_loss: 3.5105 - val_accuracy: 0.0922 - lr: 1.0000e-04\n",
      "Epoch 2/100\n",
      "129/129 [==============================] - ETA: 0s - loss: 3.4453 - accuracy: 0.1438\n",
      "Epoch 2: val_loss improved from 3.51053 to 3.38957, saving model to ../../artifacts/checkpoints\\checkpoint_InceptionV3\n"
     ]
    },
    {
     "name": "stderr",
     "output_type": "stream",
     "text": [
      "WARNING:absl:Found untraced functions such as _jit_compiled_convolution_op, _jit_compiled_convolution_op, _jit_compiled_convolution_op, _jit_compiled_convolution_op, _jit_compiled_convolution_op while saving (showing 5 of 94). These functions will not be directly callable after loading.\n"
     ]
    },
    {
     "name": "stdout",
     "output_type": "stream",
     "text": [
      "INFO:tensorflow:Assets written to: ../../artifacts/checkpoints\\checkpoint_InceptionV3\\assets\n"
     ]
    },
    {
     "name": "stderr",
     "output_type": "stream",
     "text": [
      "INFO:tensorflow:Assets written to: ../../artifacts/checkpoints\\checkpoint_InceptionV3\\assets\n"
     ]
    },
    {
     "name": "stdout",
     "output_type": "stream",
     "text": [
      "129/129 [==============================] - 38s 297ms/step - loss: 3.4453 - accuracy: 0.1438 - val_loss: 3.3896 - val_accuracy: 0.1567 - lr: 1.0000e-04\n",
      "Epoch 3/100\n",
      "129/129 [==============================] - ETA: 0s - loss: 3.2915 - accuracy: 0.1978\n",
      "Epoch 3: val_loss improved from 3.38957 to 3.29341, saving model to ../../artifacts/checkpoints\\checkpoint_InceptionV3\n"
     ]
    },
    {
     "name": "stderr",
     "output_type": "stream",
     "text": [
      "WARNING:absl:Found untraced functions such as _jit_compiled_convolution_op, _jit_compiled_convolution_op, _jit_compiled_convolution_op, _jit_compiled_convolution_op, _jit_compiled_convolution_op while saving (showing 5 of 94). These functions will not be directly callable after loading.\n"
     ]
    },
    {
     "name": "stdout",
     "output_type": "stream",
     "text": [
      "INFO:tensorflow:Assets written to: ../../artifacts/checkpoints\\checkpoint_InceptionV3\\assets\n"
     ]
    },
    {
     "name": "stderr",
     "output_type": "stream",
     "text": [
      "INFO:tensorflow:Assets written to: ../../artifacts/checkpoints\\checkpoint_InceptionV3\\assets\n"
     ]
    },
    {
     "name": "stdout",
     "output_type": "stream",
     "text": [
      "129/129 [==============================] - 37s 285ms/step - loss: 3.2915 - accuracy: 0.1978 - val_loss: 3.2934 - val_accuracy: 0.1843 - lr: 1.0000e-04\n",
      "Epoch 4/100\n",
      "129/129 [==============================] - ETA: 0s - loss: 3.1361 - accuracy: 0.2377\n",
      "Epoch 4: val_loss improved from 3.29341 to 3.18419, saving model to ../../artifacts/checkpoints\\checkpoint_InceptionV3\n"
     ]
    },
    {
     "name": "stderr",
     "output_type": "stream",
     "text": [
      "WARNING:absl:Found untraced functions such as _jit_compiled_convolution_op, _jit_compiled_convolution_op, _jit_compiled_convolution_op, _jit_compiled_convolution_op, _jit_compiled_convolution_op while saving (showing 5 of 94). These functions will not be directly callable after loading.\n"
     ]
    },
    {
     "name": "stdout",
     "output_type": "stream",
     "text": [
      "INFO:tensorflow:Assets written to: ../../artifacts/checkpoints\\checkpoint_InceptionV3\\assets\n"
     ]
    },
    {
     "name": "stderr",
     "output_type": "stream",
     "text": [
      "INFO:tensorflow:Assets written to: ../../artifacts/checkpoints\\checkpoint_InceptionV3\\assets\n"
     ]
    },
    {
     "name": "stdout",
     "output_type": "stream",
     "text": [
      "129/129 [==============================] - 37s 287ms/step - loss: 3.1361 - accuracy: 0.2377 - val_loss: 3.1842 - val_accuracy: 0.1982 - lr: 1.0000e-04\n",
      "Epoch 5/100\n",
      "129/129 [==============================] - ETA: 0s - loss: 2.9726 - accuracy: 0.2990\n",
      "Epoch 5: val_loss improved from 3.18419 to 3.05716, saving model to ../../artifacts/checkpoints\\checkpoint_InceptionV3\n"
     ]
    },
    {
     "name": "stderr",
     "output_type": "stream",
     "text": [
      "WARNING:absl:Found untraced functions such as _jit_compiled_convolution_op, _jit_compiled_convolution_op, _jit_compiled_convolution_op, _jit_compiled_convolution_op, _jit_compiled_convolution_op while saving (showing 5 of 94). These functions will not be directly callable after loading.\n"
     ]
    },
    {
     "name": "stdout",
     "output_type": "stream",
     "text": [
      "INFO:tensorflow:Assets written to: ../../artifacts/checkpoints\\checkpoint_InceptionV3\\assets\n"
     ]
    },
    {
     "name": "stderr",
     "output_type": "stream",
     "text": [
      "INFO:tensorflow:Assets written to: ../../artifacts/checkpoints\\checkpoint_InceptionV3\\assets\n"
     ]
    },
    {
     "name": "stdout",
     "output_type": "stream",
     "text": [
      "129/129 [==============================] - 37s 288ms/step - loss: 2.9726 - accuracy: 0.2990 - val_loss: 3.0572 - val_accuracy: 0.2535 - lr: 1.0000e-04\n",
      "Epoch 6/100\n",
      "129/129 [==============================] - ETA: 0s - loss: 2.8068 - accuracy: 0.3530\n",
      "Epoch 6: val_loss improved from 3.05716 to 2.91857, saving model to ../../artifacts/checkpoints\\checkpoint_InceptionV3\n"
     ]
    },
    {
     "name": "stderr",
     "output_type": "stream",
     "text": [
      "WARNING:absl:Found untraced functions such as _jit_compiled_convolution_op, _jit_compiled_convolution_op, _jit_compiled_convolution_op, _jit_compiled_convolution_op, _jit_compiled_convolution_op while saving (showing 5 of 94). These functions will not be directly callable after loading.\n"
     ]
    },
    {
     "name": "stdout",
     "output_type": "stream",
     "text": [
      "INFO:tensorflow:Assets written to: ../../artifacts/checkpoints\\checkpoint_InceptionV3\\assets\n"
     ]
    },
    {
     "name": "stderr",
     "output_type": "stream",
     "text": [
      "INFO:tensorflow:Assets written to: ../../artifacts/checkpoints\\checkpoint_InceptionV3\\assets\n"
     ]
    },
    {
     "name": "stdout",
     "output_type": "stream",
     "text": [
      "129/129 [==============================] - 38s 291ms/step - loss: 2.8068 - accuracy: 0.3530 - val_loss: 2.9186 - val_accuracy: 0.3088 - lr: 1.0000e-04\n",
      "Epoch 7/100\n",
      "129/129 [==============================] - ETA: 0s - loss: 2.6427 - accuracy: 0.4157\n",
      "Epoch 7: val_loss improved from 2.91857 to 2.78042, saving model to ../../artifacts/checkpoints\\checkpoint_InceptionV3\n"
     ]
    },
    {
     "name": "stderr",
     "output_type": "stream",
     "text": [
      "WARNING:absl:Found untraced functions such as _jit_compiled_convolution_op, _jit_compiled_convolution_op, _jit_compiled_convolution_op, _jit_compiled_convolution_op, _jit_compiled_convolution_op while saving (showing 5 of 94). These functions will not be directly callable after loading.\n"
     ]
    },
    {
     "name": "stdout",
     "output_type": "stream",
     "text": [
      "INFO:tensorflow:Assets written to: ../../artifacts/checkpoints\\checkpoint_InceptionV3\\assets\n"
     ]
    },
    {
     "name": "stderr",
     "output_type": "stream",
     "text": [
      "INFO:tensorflow:Assets written to: ../../artifacts/checkpoints\\checkpoint_InceptionV3\\assets\n"
     ]
    },
    {
     "name": "stdout",
     "output_type": "stream",
     "text": [
      "129/129 [==============================] - 37s 286ms/step - loss: 2.6427 - accuracy: 0.4157 - val_loss: 2.7804 - val_accuracy: 0.3594 - lr: 1.0000e-04\n",
      "Epoch 8/100\n",
      "129/129 [==============================] - ETA: 0s - loss: 2.4869 - accuracy: 0.4610\n",
      "Epoch 8: val_loss improved from 2.78042 to 2.64905, saving model to ../../artifacts/checkpoints\\checkpoint_InceptionV3\n"
     ]
    },
    {
     "name": "stderr",
     "output_type": "stream",
     "text": [
      "WARNING:absl:Found untraced functions such as _jit_compiled_convolution_op, _jit_compiled_convolution_op, _jit_compiled_convolution_op, _jit_compiled_convolution_op, _jit_compiled_convolution_op while saving (showing 5 of 94). These functions will not be directly callable after loading.\n"
     ]
    },
    {
     "name": "stdout",
     "output_type": "stream",
     "text": [
      "INFO:tensorflow:Assets written to: ../../artifacts/checkpoints\\checkpoint_InceptionV3\\assets\n"
     ]
    },
    {
     "name": "stderr",
     "output_type": "stream",
     "text": [
      "INFO:tensorflow:Assets written to: ../../artifacts/checkpoints\\checkpoint_InceptionV3\\assets\n"
     ]
    },
    {
     "name": "stdout",
     "output_type": "stream",
     "text": [
      "129/129 [==============================] - 37s 289ms/step - loss: 2.4869 - accuracy: 0.4610 - val_loss: 2.6491 - val_accuracy: 0.4286 - lr: 1.0000e-04\n",
      "Epoch 9/100\n",
      "129/129 [==============================] - ETA: 0s - loss: 2.3359 - accuracy: 0.5060\n",
      "Epoch 9: val_loss improved from 2.64905 to 2.53081, saving model to ../../artifacts/checkpoints\\checkpoint_InceptionV3\n"
     ]
    },
    {
     "name": "stderr",
     "output_type": "stream",
     "text": [
      "WARNING:absl:Found untraced functions such as _jit_compiled_convolution_op, _jit_compiled_convolution_op, _jit_compiled_convolution_op, _jit_compiled_convolution_op, _jit_compiled_convolution_op while saving (showing 5 of 94). These functions will not be directly callable after loading.\n"
     ]
    },
    {
     "name": "stdout",
     "output_type": "stream",
     "text": [
      "INFO:tensorflow:Assets written to: ../../artifacts/checkpoints\\checkpoint_InceptionV3\\assets\n"
     ]
    },
    {
     "name": "stderr",
     "output_type": "stream",
     "text": [
      "INFO:tensorflow:Assets written to: ../../artifacts/checkpoints\\checkpoint_InceptionV3\\assets\n"
     ]
    },
    {
     "name": "stdout",
     "output_type": "stream",
     "text": [
      "129/129 [==============================] - 37s 285ms/step - loss: 2.3359 - accuracy: 0.5060 - val_loss: 2.5308 - val_accuracy: 0.4470 - lr: 1.0000e-04\n",
      "Epoch 10/100\n",
      "129/129 [==============================] - ETA: 0s - loss: 2.1981 - accuracy: 0.5546\n",
      "Epoch 10: val_loss improved from 2.53081 to 2.40900, saving model to ../../artifacts/checkpoints\\checkpoint_InceptionV3\n"
     ]
    },
    {
     "name": "stderr",
     "output_type": "stream",
     "text": [
      "WARNING:absl:Found untraced functions such as _jit_compiled_convolution_op, _jit_compiled_convolution_op, _jit_compiled_convolution_op, _jit_compiled_convolution_op, _jit_compiled_convolution_op while saving (showing 5 of 94). These functions will not be directly callable after loading.\n"
     ]
    },
    {
     "name": "stdout",
     "output_type": "stream",
     "text": [
      "INFO:tensorflow:Assets written to: ../../artifacts/checkpoints\\checkpoint_InceptionV3\\assets\n"
     ]
    },
    {
     "name": "stderr",
     "output_type": "stream",
     "text": [
      "INFO:tensorflow:Assets written to: ../../artifacts/checkpoints\\checkpoint_InceptionV3\\assets\n"
     ]
    },
    {
     "name": "stdout",
     "output_type": "stream",
     "text": [
      "129/129 [==============================] - 37s 285ms/step - loss: 2.1981 - accuracy: 0.5546 - val_loss: 2.4090 - val_accuracy: 0.4793 - lr: 1.0000e-04\n",
      "Epoch 11/100\n",
      "129/129 [==============================] - ETA: 0s - loss: 2.0534 - accuracy: 0.5982\n",
      "Epoch 11: val_loss improved from 2.40900 to 2.30684, saving model to ../../artifacts/checkpoints\\checkpoint_InceptionV3\n"
     ]
    },
    {
     "name": "stderr",
     "output_type": "stream",
     "text": [
      "WARNING:absl:Found untraced functions such as _jit_compiled_convolution_op, _jit_compiled_convolution_op, _jit_compiled_convolution_op, _jit_compiled_convolution_op, _jit_compiled_convolution_op while saving (showing 5 of 94). These functions will not be directly callable after loading.\n"
     ]
    },
    {
     "name": "stdout",
     "output_type": "stream",
     "text": [
      "INFO:tensorflow:Assets written to: ../../artifacts/checkpoints\\checkpoint_InceptionV3\\assets\n"
     ]
    },
    {
     "name": "stderr",
     "output_type": "stream",
     "text": [
      "INFO:tensorflow:Assets written to: ../../artifacts/checkpoints\\checkpoint_InceptionV3\\assets\n"
     ]
    },
    {
     "name": "stdout",
     "output_type": "stream",
     "text": [
      "129/129 [==============================] - 38s 293ms/step - loss: 2.0534 - accuracy: 0.5982 - val_loss: 2.3068 - val_accuracy: 0.5253 - lr: 1.0000e-04\n",
      "Epoch 12/100\n",
      "129/129 [==============================] - ETA: 0s - loss: 1.9240 - accuracy: 0.6234\n",
      "Epoch 12: val_loss improved from 2.30684 to 2.20372, saving model to ../../artifacts/checkpoints\\checkpoint_InceptionV3\n"
     ]
    },
    {
     "name": "stderr",
     "output_type": "stream",
     "text": [
      "WARNING:absl:Found untraced functions such as _jit_compiled_convolution_op, _jit_compiled_convolution_op, _jit_compiled_convolution_op, _jit_compiled_convolution_op, _jit_compiled_convolution_op while saving (showing 5 of 94). These functions will not be directly callable after loading.\n"
     ]
    },
    {
     "name": "stdout",
     "output_type": "stream",
     "text": [
      "INFO:tensorflow:Assets written to: ../../artifacts/checkpoints\\checkpoint_InceptionV3\\assets\n"
     ]
    },
    {
     "name": "stderr",
     "output_type": "stream",
     "text": [
      "INFO:tensorflow:Assets written to: ../../artifacts/checkpoints\\checkpoint_InceptionV3\\assets\n"
     ]
    },
    {
     "name": "stdout",
     "output_type": "stream",
     "text": [
      "129/129 [==============================] - 37s 286ms/step - loss: 1.9240 - accuracy: 0.6234 - val_loss: 2.2037 - val_accuracy: 0.5668 - lr: 1.0000e-04\n",
      "Epoch 13/100\n",
      "129/129 [==============================] - ETA: 0s - loss: 1.8007 - accuracy: 0.6677\n",
      "Epoch 13: val_loss improved from 2.20372 to 2.11362, saving model to ../../artifacts/checkpoints\\checkpoint_InceptionV3\n"
     ]
    },
    {
     "name": "stderr",
     "output_type": "stream",
     "text": [
      "WARNING:absl:Found untraced functions such as _jit_compiled_convolution_op, _jit_compiled_convolution_op, _jit_compiled_convolution_op, _jit_compiled_convolution_op, _jit_compiled_convolution_op while saving (showing 5 of 94). These functions will not be directly callable after loading.\n"
     ]
    },
    {
     "name": "stdout",
     "output_type": "stream",
     "text": [
      "INFO:tensorflow:Assets written to: ../../artifacts/checkpoints\\checkpoint_InceptionV3\\assets\n"
     ]
    },
    {
     "name": "stderr",
     "output_type": "stream",
     "text": [
      "INFO:tensorflow:Assets written to: ../../artifacts/checkpoints\\checkpoint_InceptionV3\\assets\n"
     ]
    },
    {
     "name": "stdout",
     "output_type": "stream",
     "text": [
      "129/129 [==============================] - 37s 286ms/step - loss: 1.8007 - accuracy: 0.6677 - val_loss: 2.1136 - val_accuracy: 0.5668 - lr: 1.0000e-04\n",
      "Epoch 14/100\n",
      "129/129 [==============================] - ETA: 0s - loss: 1.6976 - accuracy: 0.6950\n",
      "Epoch 14: val_loss improved from 2.11362 to 2.03680, saving model to ../../artifacts/checkpoints\\checkpoint_InceptionV3\n"
     ]
    },
    {
     "name": "stderr",
     "output_type": "stream",
     "text": [
      "WARNING:absl:Found untraced functions such as _jit_compiled_convolution_op, _jit_compiled_convolution_op, _jit_compiled_convolution_op, _jit_compiled_convolution_op, _jit_compiled_convolution_op while saving (showing 5 of 94). These functions will not be directly callable after loading.\n"
     ]
    },
    {
     "name": "stdout",
     "output_type": "stream",
     "text": [
      "INFO:tensorflow:Assets written to: ../../artifacts/checkpoints\\checkpoint_InceptionV3\\assets\n"
     ]
    },
    {
     "name": "stderr",
     "output_type": "stream",
     "text": [
      "INFO:tensorflow:Assets written to: ../../artifacts/checkpoints\\checkpoint_InceptionV3\\assets\n"
     ]
    },
    {
     "name": "stdout",
     "output_type": "stream",
     "text": [
      "129/129 [==============================] - 37s 288ms/step - loss: 1.6976 - accuracy: 0.6950 - val_loss: 2.0368 - val_accuracy: 0.6083 - lr: 1.0000e-04\n",
      "Epoch 15/100\n",
      "129/129 [==============================] - ETA: 0s - loss: 1.5838 - accuracy: 0.7259\n",
      "Epoch 15: val_loss improved from 2.03680 to 1.96820, saving model to ../../artifacts/checkpoints\\checkpoint_InceptionV3\n"
     ]
    },
    {
     "name": "stderr",
     "output_type": "stream",
     "text": [
      "WARNING:absl:Found untraced functions such as _jit_compiled_convolution_op, _jit_compiled_convolution_op, _jit_compiled_convolution_op, _jit_compiled_convolution_op, _jit_compiled_convolution_op while saving (showing 5 of 94). These functions will not be directly callable after loading.\n"
     ]
    },
    {
     "name": "stdout",
     "output_type": "stream",
     "text": [
      "INFO:tensorflow:Assets written to: ../../artifacts/checkpoints\\checkpoint_InceptionV3\\assets\n"
     ]
    },
    {
     "name": "stderr",
     "output_type": "stream",
     "text": [
      "INFO:tensorflow:Assets written to: ../../artifacts/checkpoints\\checkpoint_InceptionV3\\assets\n"
     ]
    },
    {
     "name": "stdout",
     "output_type": "stream",
     "text": [
      "129/129 [==============================] - 37s 285ms/step - loss: 1.5838 - accuracy: 0.7259 - val_loss: 1.9682 - val_accuracy: 0.6313 - lr: 1.0000e-04\n",
      "Epoch 16/100\n",
      "129/129 [==============================] - ETA: 0s - loss: 1.4746 - accuracy: 0.7609\n",
      "Epoch 16: val_loss improved from 1.96820 to 1.90227, saving model to ../../artifacts/checkpoints\\checkpoint_InceptionV3\n"
     ]
    },
    {
     "name": "stderr",
     "output_type": "stream",
     "text": [
      "WARNING:absl:Found untraced functions such as _jit_compiled_convolution_op, _jit_compiled_convolution_op, _jit_compiled_convolution_op, _jit_compiled_convolution_op, _jit_compiled_convolution_op while saving (showing 5 of 94). These functions will not be directly callable after loading.\n"
     ]
    },
    {
     "name": "stdout",
     "output_type": "stream",
     "text": [
      "INFO:tensorflow:Assets written to: ../../artifacts/checkpoints\\checkpoint_InceptionV3\\assets\n"
     ]
    },
    {
     "name": "stderr",
     "output_type": "stream",
     "text": [
      "INFO:tensorflow:Assets written to: ../../artifacts/checkpoints\\checkpoint_InceptionV3\\assets\n"
     ]
    },
    {
     "name": "stdout",
     "output_type": "stream",
     "text": [
      "129/129 [==============================] - 38s 293ms/step - loss: 1.4746 - accuracy: 0.7609 - val_loss: 1.9023 - val_accuracy: 0.6359 - lr: 1.0000e-04\n",
      "Epoch 17/100\n",
      "129/129 [==============================] - ETA: 0s - loss: 1.3898 - accuracy: 0.7762\n",
      "Epoch 17: val_loss improved from 1.90227 to 1.84697, saving model to ../../artifacts/checkpoints\\checkpoint_InceptionV3\n"
     ]
    },
    {
     "name": "stderr",
     "output_type": "stream",
     "text": [
      "WARNING:absl:Found untraced functions such as _jit_compiled_convolution_op, _jit_compiled_convolution_op, _jit_compiled_convolution_op, _jit_compiled_convolution_op, _jit_compiled_convolution_op while saving (showing 5 of 94). These functions will not be directly callable after loading.\n"
     ]
    },
    {
     "name": "stdout",
     "output_type": "stream",
     "text": [
      "INFO:tensorflow:Assets written to: ../../artifacts/checkpoints\\checkpoint_InceptionV3\\assets\n"
     ]
    },
    {
     "name": "stderr",
     "output_type": "stream",
     "text": [
      "INFO:tensorflow:Assets written to: ../../artifacts/checkpoints\\checkpoint_InceptionV3\\assets\n"
     ]
    },
    {
     "name": "stdout",
     "output_type": "stream",
     "text": [
      "129/129 [==============================] - 37s 287ms/step - loss: 1.3898 - accuracy: 0.7762 - val_loss: 1.8470 - val_accuracy: 0.6313 - lr: 1.0000e-04\n",
      "Epoch 18/100\n",
      "129/129 [==============================] - ETA: 0s - loss: 1.3026 - accuracy: 0.8090\n",
      "Epoch 18: val_loss improved from 1.84697 to 1.78702, saving model to ../../artifacts/checkpoints\\checkpoint_InceptionV3\n"
     ]
    },
    {
     "name": "stderr",
     "output_type": "stream",
     "text": [
      "WARNING:absl:Found untraced functions such as _jit_compiled_convolution_op, _jit_compiled_convolution_op, _jit_compiled_convolution_op, _jit_compiled_convolution_op, _jit_compiled_convolution_op while saving (showing 5 of 94). These functions will not be directly callable after loading.\n"
     ]
    },
    {
     "name": "stdout",
     "output_type": "stream",
     "text": [
      "INFO:tensorflow:Assets written to: ../../artifacts/checkpoints\\checkpoint_InceptionV3\\assets\n"
     ]
    },
    {
     "name": "stderr",
     "output_type": "stream",
     "text": [
      "INFO:tensorflow:Assets written to: ../../artifacts/checkpoints\\checkpoint_InceptionV3\\assets\n"
     ]
    },
    {
     "name": "stdout",
     "output_type": "stream",
     "text": [
      "129/129 [==============================] - 37s 284ms/step - loss: 1.3026 - accuracy: 0.8090 - val_loss: 1.7870 - val_accuracy: 0.6498 - lr: 1.0000e-04\n",
      "Epoch 19/100\n",
      "129/129 [==============================] - ETA: 0s - loss: 1.2353 - accuracy: 0.8195\n",
      "Epoch 19: val_loss improved from 1.78702 to 1.74639, saving model to ../../artifacts/checkpoints\\checkpoint_InceptionV3\n"
     ]
    },
    {
     "name": "stderr",
     "output_type": "stream",
     "text": [
      "WARNING:absl:Found untraced functions such as _jit_compiled_convolution_op, _jit_compiled_convolution_op, _jit_compiled_convolution_op, _jit_compiled_convolution_op, _jit_compiled_convolution_op while saving (showing 5 of 94). These functions will not be directly callable after loading.\n"
     ]
    },
    {
     "name": "stdout",
     "output_type": "stream",
     "text": [
      "INFO:tensorflow:Assets written to: ../../artifacts/checkpoints\\checkpoint_InceptionV3\\assets\n"
     ]
    },
    {
     "name": "stderr",
     "output_type": "stream",
     "text": [
      "INFO:tensorflow:Assets written to: ../../artifacts/checkpoints\\checkpoint_InceptionV3\\assets\n"
     ]
    },
    {
     "name": "stdout",
     "output_type": "stream",
     "text": [
      "129/129 [==============================] - 37s 287ms/step - loss: 1.2353 - accuracy: 0.8195 - val_loss: 1.7464 - val_accuracy: 0.6590 - lr: 1.0000e-04\n",
      "Epoch 20/100\n",
      "129/129 [==============================] - ETA: 0s - loss: 1.1728 - accuracy: 0.8431\n",
      "Epoch 20: val_loss improved from 1.74639 to 1.69749, saving model to ../../artifacts/checkpoints\\checkpoint_InceptionV3\n"
     ]
    },
    {
     "name": "stderr",
     "output_type": "stream",
     "text": [
      "WARNING:absl:Found untraced functions such as _jit_compiled_convolution_op, _jit_compiled_convolution_op, _jit_compiled_convolution_op, _jit_compiled_convolution_op, _jit_compiled_convolution_op while saving (showing 5 of 94). These functions will not be directly callable after loading.\n"
     ]
    },
    {
     "name": "stdout",
     "output_type": "stream",
     "text": [
      "INFO:tensorflow:Assets written to: ../../artifacts/checkpoints\\checkpoint_InceptionV3\\assets\n"
     ]
    },
    {
     "name": "stderr",
     "output_type": "stream",
     "text": [
      "INFO:tensorflow:Assets written to: ../../artifacts/checkpoints\\checkpoint_InceptionV3\\assets\n"
     ]
    },
    {
     "name": "stdout",
     "output_type": "stream",
     "text": [
      "129/129 [==============================] - 37s 288ms/step - loss: 1.1728 - accuracy: 0.8431 - val_loss: 1.6975 - val_accuracy: 0.6636 - lr: 1.0000e-04\n",
      "Epoch 21/100\n",
      "129/129 [==============================] - ETA: 0s - loss: 1.1159 - accuracy: 0.8497\n",
      "Epoch 21: val_loss improved from 1.69749 to 1.65954, saving model to ../../artifacts/checkpoints\\checkpoint_InceptionV3\n"
     ]
    },
    {
     "name": "stderr",
     "output_type": "stream",
     "text": [
      "WARNING:absl:Found untraced functions such as _jit_compiled_convolution_op, _jit_compiled_convolution_op, _jit_compiled_convolution_op, _jit_compiled_convolution_op, _jit_compiled_convolution_op while saving (showing 5 of 94). These functions will not be directly callable after loading.\n"
     ]
    },
    {
     "name": "stdout",
     "output_type": "stream",
     "text": [
      "INFO:tensorflow:Assets written to: ../../artifacts/checkpoints\\checkpoint_InceptionV3\\assets\n"
     ]
    },
    {
     "name": "stderr",
     "output_type": "stream",
     "text": [
      "INFO:tensorflow:Assets written to: ../../artifacts/checkpoints\\checkpoint_InceptionV3\\assets\n"
     ]
    },
    {
     "name": "stdout",
     "output_type": "stream",
     "text": [
      "129/129 [==============================] - 37s 291ms/step - loss: 1.1159 - accuracy: 0.8497 - val_loss: 1.6595 - val_accuracy: 0.6636 - lr: 1.0000e-04\n",
      "Epoch 22/100\n",
      "129/129 [==============================] - ETA: 0s - loss: 1.0443 - accuracy: 0.8718\n",
      "Epoch 22: val_loss improved from 1.65954 to 1.63020, saving model to ../../artifacts/checkpoints\\checkpoint_InceptionV3\n"
     ]
    },
    {
     "name": "stderr",
     "output_type": "stream",
     "text": [
      "WARNING:absl:Found untraced functions such as _jit_compiled_convolution_op, _jit_compiled_convolution_op, _jit_compiled_convolution_op, _jit_compiled_convolution_op, _jit_compiled_convolution_op while saving (showing 5 of 94). These functions will not be directly callable after loading.\n"
     ]
    },
    {
     "name": "stdout",
     "output_type": "stream",
     "text": [
      "INFO:tensorflow:Assets written to: ../../artifacts/checkpoints\\checkpoint_InceptionV3\\assets\n"
     ]
    },
    {
     "name": "stderr",
     "output_type": "stream",
     "text": [
      "INFO:tensorflow:Assets written to: ../../artifacts/checkpoints\\checkpoint_InceptionV3\\assets\n"
     ]
    },
    {
     "name": "stdout",
     "output_type": "stream",
     "text": [
      "129/129 [==============================] - 37s 291ms/step - loss: 1.0443 - accuracy: 0.8718 - val_loss: 1.6302 - val_accuracy: 0.6820 - lr: 1.0000e-04\n",
      "Epoch 23/100\n",
      "129/129 [==============================] - ETA: 0s - loss: 0.9997 - accuracy: 0.8901\n",
      "Epoch 23: val_loss improved from 1.63020 to 1.59752, saving model to ../../artifacts/checkpoints\\checkpoint_InceptionV3\n"
     ]
    },
    {
     "name": "stderr",
     "output_type": "stream",
     "text": [
      "WARNING:absl:Found untraced functions such as _jit_compiled_convolution_op, _jit_compiled_convolution_op, _jit_compiled_convolution_op, _jit_compiled_convolution_op, _jit_compiled_convolution_op while saving (showing 5 of 94). These functions will not be directly callable after loading.\n"
     ]
    },
    {
     "name": "stdout",
     "output_type": "stream",
     "text": [
      "INFO:tensorflow:Assets written to: ../../artifacts/checkpoints\\checkpoint_InceptionV3\\assets\n"
     ]
    },
    {
     "name": "stderr",
     "output_type": "stream",
     "text": [
      "INFO:tensorflow:Assets written to: ../../artifacts/checkpoints\\checkpoint_InceptionV3\\assets\n"
     ]
    },
    {
     "name": "stdout",
     "output_type": "stream",
     "text": [
      "129/129 [==============================] - 37s 284ms/step - loss: 0.9997 - accuracy: 0.8901 - val_loss: 1.5975 - val_accuracy: 0.6912 - lr: 1.0000e-04\n",
      "Epoch 24/100\n",
      "129/129 [==============================] - ETA: 0s - loss: 0.9605 - accuracy: 0.8932\n",
      "Epoch 24: val_loss improved from 1.59752 to 1.57130, saving model to ../../artifacts/checkpoints\\checkpoint_InceptionV3\n"
     ]
    },
    {
     "name": "stderr",
     "output_type": "stream",
     "text": [
      "WARNING:absl:Found untraced functions such as _jit_compiled_convolution_op, _jit_compiled_convolution_op, _jit_compiled_convolution_op, _jit_compiled_convolution_op, _jit_compiled_convolution_op while saving (showing 5 of 94). These functions will not be directly callable after loading.\n"
     ]
    },
    {
     "name": "stdout",
     "output_type": "stream",
     "text": [
      "INFO:tensorflow:Assets written to: ../../artifacts/checkpoints\\checkpoint_InceptionV3\\assets\n"
     ]
    },
    {
     "name": "stderr",
     "output_type": "stream",
     "text": [
      "INFO:tensorflow:Assets written to: ../../artifacts/checkpoints\\checkpoint_InceptionV3\\assets\n"
     ]
    },
    {
     "name": "stdout",
     "output_type": "stream",
     "text": [
      "129/129 [==============================] - 37s 287ms/step - loss: 0.9605 - accuracy: 0.8932 - val_loss: 1.5713 - val_accuracy: 0.6912 - lr: 1.0000e-04\n",
      "Epoch 25/100\n",
      "128/129 [============================>.] - ETA: 0s - loss: 0.8989 - accuracy: 0.9099\n",
      "Epoch 25: val_loss improved from 1.57130 to 1.54479, saving model to ../../artifacts/checkpoints\\checkpoint_InceptionV3\n"
     ]
    },
    {
     "name": "stderr",
     "output_type": "stream",
     "text": [
      "WARNING:absl:Found untraced functions such as _jit_compiled_convolution_op, _jit_compiled_convolution_op, _jit_compiled_convolution_op, _jit_compiled_convolution_op, _jit_compiled_convolution_op while saving (showing 5 of 94). These functions will not be directly callable after loading.\n"
     ]
    },
    {
     "name": "stdout",
     "output_type": "stream",
     "text": [
      "INFO:tensorflow:Assets written to: ../../artifacts/checkpoints\\checkpoint_InceptionV3\\assets\n"
     ]
    },
    {
     "name": "stderr",
     "output_type": "stream",
     "text": [
      "INFO:tensorflow:Assets written to: ../../artifacts/checkpoints\\checkpoint_InceptionV3\\assets\n"
     ]
    },
    {
     "name": "stdout",
     "output_type": "stream",
     "text": [
      "129/129 [==============================] - 34s 264ms/step - loss: 0.8998 - accuracy: 0.9098 - val_loss: 1.5448 - val_accuracy: 0.6912 - lr: 1.0000e-04\n",
      "Epoch 26/100\n",
      "129/129 [==============================] - ETA: 0s - loss: 0.8698 - accuracy: 0.9139\n",
      "Epoch 26: val_loss improved from 1.54479 to 1.52243, saving model to ../../artifacts/checkpoints\\checkpoint_InceptionV3\n"
     ]
    },
    {
     "name": "stderr",
     "output_type": "stream",
     "text": [
      "WARNING:absl:Found untraced functions such as _jit_compiled_convolution_op, _jit_compiled_convolution_op, _jit_compiled_convolution_op, _jit_compiled_convolution_op, _jit_compiled_convolution_op while saving (showing 5 of 94). These functions will not be directly callable after loading.\n"
     ]
    },
    {
     "name": "stdout",
     "output_type": "stream",
     "text": [
      "INFO:tensorflow:Assets written to: ../../artifacts/checkpoints\\checkpoint_InceptionV3\\assets\n"
     ]
    },
    {
     "name": "stderr",
     "output_type": "stream",
     "text": [
      "INFO:tensorflow:Assets written to: ../../artifacts/checkpoints\\checkpoint_InceptionV3\\assets\n"
     ]
    },
    {
     "name": "stdout",
     "output_type": "stream",
     "text": [
      "129/129 [==============================] - 37s 285ms/step - loss: 0.8698 - accuracy: 0.9139 - val_loss: 1.5224 - val_accuracy: 0.6959 - lr: 1.0000e-04\n",
      "Epoch 27/100\n",
      "129/129 [==============================] - ETA: 0s - loss: 0.8194 - accuracy: 0.9278\n",
      "Epoch 27: val_loss improved from 1.52243 to 1.49780, saving model to ../../artifacts/checkpoints\\checkpoint_InceptionV3\n"
     ]
    },
    {
     "name": "stderr",
     "output_type": "stream",
     "text": [
      "WARNING:absl:Found untraced functions such as _jit_compiled_convolution_op, _jit_compiled_convolution_op, _jit_compiled_convolution_op, _jit_compiled_convolution_op, _jit_compiled_convolution_op while saving (showing 5 of 94). These functions will not be directly callable after loading.\n"
     ]
    },
    {
     "name": "stdout",
     "output_type": "stream",
     "text": [
      "INFO:tensorflow:Assets written to: ../../artifacts/checkpoints\\checkpoint_InceptionV3\\assets\n"
     ]
    },
    {
     "name": "stderr",
     "output_type": "stream",
     "text": [
      "INFO:tensorflow:Assets written to: ../../artifacts/checkpoints\\checkpoint_InceptionV3\\assets\n"
     ]
    },
    {
     "name": "stdout",
     "output_type": "stream",
     "text": [
      "129/129 [==============================] - 37s 284ms/step - loss: 0.8194 - accuracy: 0.9278 - val_loss: 1.4978 - val_accuracy: 0.7005 - lr: 1.0000e-04\n",
      "Epoch 28/100\n",
      "129/129 [==============================] - ETA: 0s - loss: 0.8013 - accuracy: 0.9333\n",
      "Epoch 28: val_loss improved from 1.49780 to 1.48364, saving model to ../../artifacts/checkpoints\\checkpoint_InceptionV3\n"
     ]
    },
    {
     "name": "stderr",
     "output_type": "stream",
     "text": [
      "WARNING:absl:Found untraced functions such as _jit_compiled_convolution_op, _jit_compiled_convolution_op, _jit_compiled_convolution_op, _jit_compiled_convolution_op, _jit_compiled_convolution_op while saving (showing 5 of 94). These functions will not be directly callable after loading.\n"
     ]
    },
    {
     "name": "stdout",
     "output_type": "stream",
     "text": [
      "INFO:tensorflow:Assets written to: ../../artifacts/checkpoints\\checkpoint_InceptionV3\\assets\n"
     ]
    },
    {
     "name": "stderr",
     "output_type": "stream",
     "text": [
      "INFO:tensorflow:Assets written to: ../../artifacts/checkpoints\\checkpoint_InceptionV3\\assets\n"
     ]
    },
    {
     "name": "stdout",
     "output_type": "stream",
     "text": [
      "129/129 [==============================] - 37s 285ms/step - loss: 0.8013 - accuracy: 0.9333 - val_loss: 1.4836 - val_accuracy: 0.6912 - lr: 1.0000e-04\n",
      "Epoch 29/100\n",
      "129/129 [==============================] - ETA: 0s - loss: 0.7602 - accuracy: 0.9492\n",
      "Epoch 29: val_loss improved from 1.48364 to 1.46907, saving model to ../../artifacts/checkpoints\\checkpoint_InceptionV3\n"
     ]
    },
    {
     "name": "stderr",
     "output_type": "stream",
     "text": [
      "WARNING:absl:Found untraced functions such as _jit_compiled_convolution_op, _jit_compiled_convolution_op, _jit_compiled_convolution_op, _jit_compiled_convolution_op, _jit_compiled_convolution_op while saving (showing 5 of 94). These functions will not be directly callable after loading.\n"
     ]
    },
    {
     "name": "stdout",
     "output_type": "stream",
     "text": [
      "INFO:tensorflow:Assets written to: ../../artifacts/checkpoints\\checkpoint_InceptionV3\\assets\n"
     ]
    },
    {
     "name": "stderr",
     "output_type": "stream",
     "text": [
      "INFO:tensorflow:Assets written to: ../../artifacts/checkpoints\\checkpoint_InceptionV3\\assets\n"
     ]
    },
    {
     "name": "stdout",
     "output_type": "stream",
     "text": [
      "129/129 [==============================] - 37s 290ms/step - loss: 0.7602 - accuracy: 0.9492 - val_loss: 1.4691 - val_accuracy: 0.6959 - lr: 1.0000e-04\n",
      "Epoch 30/100\n",
      "129/129 [==============================] - ETA: 0s - loss: 0.7384 - accuracy: 0.9516\n",
      "Epoch 30: val_loss improved from 1.46907 to 1.44528, saving model to ../../artifacts/checkpoints\\checkpoint_InceptionV3\n"
     ]
    },
    {
     "name": "stderr",
     "output_type": "stream",
     "text": [
      "WARNING:absl:Found untraced functions such as _jit_compiled_convolution_op, _jit_compiled_convolution_op, _jit_compiled_convolution_op, _jit_compiled_convolution_op, _jit_compiled_convolution_op while saving (showing 5 of 94). These functions will not be directly callable after loading.\n"
     ]
    },
    {
     "name": "stdout",
     "output_type": "stream",
     "text": [
      "INFO:tensorflow:Assets written to: ../../artifacts/checkpoints\\checkpoint_InceptionV3\\assets\n"
     ]
    },
    {
     "name": "stderr",
     "output_type": "stream",
     "text": [
      "INFO:tensorflow:Assets written to: ../../artifacts/checkpoints\\checkpoint_InceptionV3\\assets\n"
     ]
    },
    {
     "name": "stdout",
     "output_type": "stream",
     "text": [
      "129/129 [==============================] - 35s 272ms/step - loss: 0.7384 - accuracy: 0.9516 - val_loss: 1.4453 - val_accuracy: 0.6912 - lr: 1.0000e-04\n",
      "Epoch 31/100\n",
      "129/129 [==============================] - ETA: 0s - loss: 0.7163 - accuracy: 0.9591\n",
      "Epoch 31: val_loss improved from 1.44528 to 1.43568, saving model to ../../artifacts/checkpoints\\checkpoint_InceptionV3\n"
     ]
    },
    {
     "name": "stderr",
     "output_type": "stream",
     "text": [
      "WARNING:absl:Found untraced functions such as _jit_compiled_convolution_op, _jit_compiled_convolution_op, _jit_compiled_convolution_op, _jit_compiled_convolution_op, _jit_compiled_convolution_op while saving (showing 5 of 94). These functions will not be directly callable after loading.\n"
     ]
    },
    {
     "name": "stdout",
     "output_type": "stream",
     "text": [
      "INFO:tensorflow:Assets written to: ../../artifacts/checkpoints\\checkpoint_InceptionV3\\assets\n"
     ]
    },
    {
     "name": "stderr",
     "output_type": "stream",
     "text": [
      "INFO:tensorflow:Assets written to: ../../artifacts/checkpoints\\checkpoint_InceptionV3\\assets\n"
     ]
    },
    {
     "name": "stdout",
     "output_type": "stream",
     "text": [
      "129/129 [==============================] - 35s 270ms/step - loss: 0.7163 - accuracy: 0.9591 - val_loss: 1.4357 - val_accuracy: 0.6959 - lr: 1.0000e-04\n",
      "Epoch 32/100\n",
      "129/129 [==============================] - ETA: 0s - loss: 0.6866 - accuracy: 0.9650\n",
      "Epoch 32: val_loss improved from 1.43568 to 1.41939, saving model to ../../artifacts/checkpoints\\checkpoint_InceptionV3\n"
     ]
    },
    {
     "name": "stderr",
     "output_type": "stream",
     "text": [
      "WARNING:absl:Found untraced functions such as _jit_compiled_convolution_op, _jit_compiled_convolution_op, _jit_compiled_convolution_op, _jit_compiled_convolution_op, _jit_compiled_convolution_op while saving (showing 5 of 94). These functions will not be directly callable after loading.\n"
     ]
    },
    {
     "name": "stdout",
     "output_type": "stream",
     "text": [
      "INFO:tensorflow:Assets written to: ../../artifacts/checkpoints\\checkpoint_InceptionV3\\assets\n"
     ]
    },
    {
     "name": "stderr",
     "output_type": "stream",
     "text": [
      "INFO:tensorflow:Assets written to: ../../artifacts/checkpoints\\checkpoint_InceptionV3\\assets\n"
     ]
    },
    {
     "name": "stdout",
     "output_type": "stream",
     "text": [
      "129/129 [==============================] - 35s 269ms/step - loss: 0.6866 - accuracy: 0.9650 - val_loss: 1.4194 - val_accuracy: 0.6959 - lr: 1.0000e-04\n",
      "Epoch 33/100\n",
      "129/129 [==============================] - ETA: 0s - loss: 0.6578 - accuracy: 0.9723\n",
      "Epoch 33: val_loss improved from 1.41939 to 1.40264, saving model to ../../artifacts/checkpoints\\checkpoint_InceptionV3\n"
     ]
    },
    {
     "name": "stderr",
     "output_type": "stream",
     "text": [
      "WARNING:absl:Found untraced functions such as _jit_compiled_convolution_op, _jit_compiled_convolution_op, _jit_compiled_convolution_op, _jit_compiled_convolution_op, _jit_compiled_convolution_op while saving (showing 5 of 94). These functions will not be directly callable after loading.\n"
     ]
    },
    {
     "name": "stdout",
     "output_type": "stream",
     "text": [
      "INFO:tensorflow:Assets written to: ../../artifacts/checkpoints\\checkpoint_InceptionV3\\assets\n"
     ]
    },
    {
     "name": "stderr",
     "output_type": "stream",
     "text": [
      "INFO:tensorflow:Assets written to: ../../artifacts/checkpoints\\checkpoint_InceptionV3\\assets\n"
     ]
    },
    {
     "name": "stdout",
     "output_type": "stream",
     "text": [
      "129/129 [==============================] - 36s 277ms/step - loss: 0.6578 - accuracy: 0.9723 - val_loss: 1.4026 - val_accuracy: 0.6959 - lr: 1.0000e-04\n",
      "Epoch 34/100\n",
      "128/129 [============================>.] - ETA: 0s - loss: 0.6550 - accuracy: 0.9697\n",
      "Epoch 34: val_loss improved from 1.40264 to 1.39547, saving model to ../../artifacts/checkpoints\\checkpoint_InceptionV3\n"
     ]
    },
    {
     "name": "stderr",
     "output_type": "stream",
     "text": [
      "WARNING:absl:Found untraced functions such as _jit_compiled_convolution_op, _jit_compiled_convolution_op, _jit_compiled_convolution_op, _jit_compiled_convolution_op, _jit_compiled_convolution_op while saving (showing 5 of 94). These functions will not be directly callable after loading.\n"
     ]
    },
    {
     "name": "stdout",
     "output_type": "stream",
     "text": [
      "INFO:tensorflow:Assets written to: ../../artifacts/checkpoints\\checkpoint_InceptionV3\\assets\n"
     ]
    },
    {
     "name": "stderr",
     "output_type": "stream",
     "text": [
      "INFO:tensorflow:Assets written to: ../../artifacts/checkpoints\\checkpoint_InceptionV3\\assets\n"
     ]
    },
    {
     "name": "stdout",
     "output_type": "stream",
     "text": [
      "129/129 [==============================] - 24s 183ms/step - loss: 0.6555 - accuracy: 0.9694 - val_loss: 1.3955 - val_accuracy: 0.7005 - lr: 1.0000e-04\n",
      "Epoch 35/100\n",
      "128/129 [============================>.] - ETA: 0s - loss: 0.6399 - accuracy: 0.9712\n",
      "Epoch 35: val_loss improved from 1.39547 to 1.38980, saving model to ../../artifacts/checkpoints\\checkpoint_InceptionV3\n"
     ]
    },
    {
     "name": "stderr",
     "output_type": "stream",
     "text": [
      "WARNING:absl:Found untraced functions such as _jit_compiled_convolution_op, _jit_compiled_convolution_op, _jit_compiled_convolution_op, _jit_compiled_convolution_op, _jit_compiled_convolution_op while saving (showing 5 of 94). These functions will not be directly callable after loading.\n"
     ]
    },
    {
     "name": "stdout",
     "output_type": "stream",
     "text": [
      "INFO:tensorflow:Assets written to: ../../artifacts/checkpoints\\checkpoint_InceptionV3\\assets\n"
     ]
    },
    {
     "name": "stderr",
     "output_type": "stream",
     "text": [
      "INFO:tensorflow:Assets written to: ../../artifacts/checkpoints\\checkpoint_InceptionV3\\assets\n"
     ]
    },
    {
     "name": "stdout",
     "output_type": "stream",
     "text": [
      "129/129 [==============================] - 24s 185ms/step - loss: 0.6405 - accuracy: 0.9708 - val_loss: 1.3898 - val_accuracy: 0.6912 - lr: 1.0000e-04\n",
      "Epoch 36/100\n",
      "128/129 [============================>.] - ETA: 0s - loss: 0.6248 - accuracy: 0.9727\n",
      "Epoch 36: val_loss improved from 1.38980 to 1.37537, saving model to ../../artifacts/checkpoints\\checkpoint_InceptionV3\n"
     ]
    },
    {
     "name": "stderr",
     "output_type": "stream",
     "text": [
      "WARNING:absl:Found untraced functions such as _jit_compiled_convolution_op, _jit_compiled_convolution_op, _jit_compiled_convolution_op, _jit_compiled_convolution_op, _jit_compiled_convolution_op while saving (showing 5 of 94). These functions will not be directly callable after loading.\n"
     ]
    },
    {
     "name": "stdout",
     "output_type": "stream",
     "text": [
      "INFO:tensorflow:Assets written to: ../../artifacts/checkpoints\\checkpoint_InceptionV3\\assets\n"
     ]
    },
    {
     "name": "stderr",
     "output_type": "stream",
     "text": [
      "INFO:tensorflow:Assets written to: ../../artifacts/checkpoints\\checkpoint_InceptionV3\\assets\n"
     ]
    },
    {
     "name": "stdout",
     "output_type": "stream",
     "text": [
      "129/129 [==============================] - 24s 183ms/step - loss: 0.6249 - accuracy: 0.9728 - val_loss: 1.3754 - val_accuracy: 0.7051 - lr: 1.0000e-04\n",
      "Epoch 37/100\n",
      "128/129 [============================>.] - ETA: 0s - loss: 0.5938 - accuracy: 0.9810\n",
      "Epoch 37: val_loss improved from 1.37537 to 1.37049, saving model to ../../artifacts/checkpoints\\checkpoint_InceptionV3\n"
     ]
    },
    {
     "name": "stderr",
     "output_type": "stream",
     "text": [
      "WARNING:absl:Found untraced functions such as _jit_compiled_convolution_op, _jit_compiled_convolution_op, _jit_compiled_convolution_op, _jit_compiled_convolution_op, _jit_compiled_convolution_op while saving (showing 5 of 94). These functions will not be directly callable after loading.\n"
     ]
    },
    {
     "name": "stdout",
     "output_type": "stream",
     "text": [
      "INFO:tensorflow:Assets written to: ../../artifacts/checkpoints\\checkpoint_InceptionV3\\assets\n"
     ]
    },
    {
     "name": "stderr",
     "output_type": "stream",
     "text": [
      "INFO:tensorflow:Assets written to: ../../artifacts/checkpoints\\checkpoint_InceptionV3\\assets\n"
     ]
    },
    {
     "name": "stdout",
     "output_type": "stream",
     "text": [
      "129/129 [==============================] - 24s 183ms/step - loss: 0.5951 - accuracy: 0.9803 - val_loss: 1.3705 - val_accuracy: 0.7051 - lr: 1.0000e-04\n",
      "Epoch 38/100\n",
      "128/129 [============================>.] - ETA: 0s - loss: 0.5867 - accuracy: 0.9832\n",
      "Epoch 38: val_loss improved from 1.37049 to 1.36353, saving model to ../../artifacts/checkpoints\\checkpoint_InceptionV3\n"
     ]
    },
    {
     "name": "stderr",
     "output_type": "stream",
     "text": [
      "WARNING:absl:Found untraced functions such as _jit_compiled_convolution_op, _jit_compiled_convolution_op, _jit_compiled_convolution_op, _jit_compiled_convolution_op, _jit_compiled_convolution_op while saving (showing 5 of 94). These functions will not be directly callable after loading.\n"
     ]
    },
    {
     "name": "stdout",
     "output_type": "stream",
     "text": [
      "INFO:tensorflow:Assets written to: ../../artifacts/checkpoints\\checkpoint_InceptionV3\\assets\n"
     ]
    },
    {
     "name": "stderr",
     "output_type": "stream",
     "text": [
      "INFO:tensorflow:Assets written to: ../../artifacts/checkpoints\\checkpoint_InceptionV3\\assets\n"
     ]
    },
    {
     "name": "stdout",
     "output_type": "stream",
     "text": [
      "129/129 [==============================] - 24s 185ms/step - loss: 0.5866 - accuracy: 0.9832 - val_loss: 1.3635 - val_accuracy: 0.7051 - lr: 1.0000e-04\n",
      "Epoch 39/100\n",
      "128/129 [============================>.] - ETA: 0s - loss: 0.5745 - accuracy: 0.9812\n",
      "Epoch 39: val_loss improved from 1.36353 to 1.35284, saving model to ../../artifacts/checkpoints\\checkpoint_InceptionV3\n"
     ]
    },
    {
     "name": "stderr",
     "output_type": "stream",
     "text": [
      "WARNING:absl:Found untraced functions such as _jit_compiled_convolution_op, _jit_compiled_convolution_op, _jit_compiled_convolution_op, _jit_compiled_convolution_op, _jit_compiled_convolution_op while saving (showing 5 of 94). These functions will not be directly callable after loading.\n"
     ]
    },
    {
     "name": "stdout",
     "output_type": "stream",
     "text": [
      "INFO:tensorflow:Assets written to: ../../artifacts/checkpoints\\checkpoint_InceptionV3\\assets\n"
     ]
    },
    {
     "name": "stderr",
     "output_type": "stream",
     "text": [
      "INFO:tensorflow:Assets written to: ../../artifacts/checkpoints\\checkpoint_InceptionV3\\assets\n"
     ]
    },
    {
     "name": "stdout",
     "output_type": "stream",
     "text": [
      "129/129 [==============================] - 23s 182ms/step - loss: 0.5750 - accuracy: 0.9810 - val_loss: 1.3528 - val_accuracy: 0.7143 - lr: 1.0000e-04\n",
      "Epoch 40/100\n",
      "128/129 [============================>.] - ETA: 0s - loss: 0.5600 - accuracy: 0.9861\n",
      "Epoch 40: val_loss improved from 1.35284 to 1.34910, saving model to ../../artifacts/checkpoints\\checkpoint_InceptionV3\n"
     ]
    },
    {
     "name": "stderr",
     "output_type": "stream",
     "text": [
      "WARNING:absl:Found untraced functions such as _jit_compiled_convolution_op, _jit_compiled_convolution_op, _jit_compiled_convolution_op, _jit_compiled_convolution_op, _jit_compiled_convolution_op while saving (showing 5 of 94). These functions will not be directly callable after loading.\n"
     ]
    },
    {
     "name": "stdout",
     "output_type": "stream",
     "text": [
      "INFO:tensorflow:Assets written to: ../../artifacts/checkpoints\\checkpoint_InceptionV3\\assets\n"
     ]
    },
    {
     "name": "stderr",
     "output_type": "stream",
     "text": [
      "INFO:tensorflow:Assets written to: ../../artifacts/checkpoints\\checkpoint_InceptionV3\\assets\n"
     ]
    },
    {
     "name": "stdout",
     "output_type": "stream",
     "text": [
      "129/129 [==============================] - 24s 183ms/step - loss: 0.5606 - accuracy: 0.9859 - val_loss: 1.3491 - val_accuracy: 0.7097 - lr: 1.0000e-04\n",
      "Epoch 41/100\n",
      "128/129 [============================>.] - ETA: 0s - loss: 0.5540 - accuracy: 0.9868\n",
      "Epoch 41: val_loss improved from 1.34910 to 1.34323, saving model to ../../artifacts/checkpoints\\checkpoint_InceptionV3\n"
     ]
    },
    {
     "name": "stderr",
     "output_type": "stream",
     "text": [
      "WARNING:absl:Found untraced functions such as _jit_compiled_convolution_op, _jit_compiled_convolution_op, _jit_compiled_convolution_op, _jit_compiled_convolution_op, _jit_compiled_convolution_op while saving (showing 5 of 94). These functions will not be directly callable after loading.\n"
     ]
    },
    {
     "name": "stdout",
     "output_type": "stream",
     "text": [
      "INFO:tensorflow:Assets written to: ../../artifacts/checkpoints\\checkpoint_InceptionV3\\assets\n"
     ]
    },
    {
     "name": "stderr",
     "output_type": "stream",
     "text": [
      "INFO:tensorflow:Assets written to: ../../artifacts/checkpoints\\checkpoint_InceptionV3\\assets\n"
     ]
    },
    {
     "name": "stdout",
     "output_type": "stream",
     "text": [
      "129/129 [==============================] - 24s 187ms/step - loss: 0.5544 - accuracy: 0.9866 - val_loss: 1.3432 - val_accuracy: 0.7235 - lr: 1.0000e-04\n",
      "Epoch 42/100\n",
      "128/129 [============================>.] - ETA: 0s - loss: 0.5412 - accuracy: 0.9888\n",
      "Epoch 42: val_loss improved from 1.34323 to 1.33074, saving model to ../../artifacts/checkpoints\\checkpoint_InceptionV3\n"
     ]
    },
    {
     "name": "stderr",
     "output_type": "stream",
     "text": [
      "WARNING:absl:Found untraced functions such as _jit_compiled_convolution_op, _jit_compiled_convolution_op, _jit_compiled_convolution_op, _jit_compiled_convolution_op, _jit_compiled_convolution_op while saving (showing 5 of 94). These functions will not be directly callable after loading.\n"
     ]
    },
    {
     "name": "stdout",
     "output_type": "stream",
     "text": [
      "INFO:tensorflow:Assets written to: ../../artifacts/checkpoints\\checkpoint_InceptionV3\\assets\n"
     ]
    },
    {
     "name": "stderr",
     "output_type": "stream",
     "text": [
      "INFO:tensorflow:Assets written to: ../../artifacts/checkpoints\\checkpoint_InceptionV3\\assets\n"
     ]
    },
    {
     "name": "stdout",
     "output_type": "stream",
     "text": [
      "129/129 [==============================] - 25s 196ms/step - loss: 0.5411 - accuracy: 0.9888 - val_loss: 1.3307 - val_accuracy: 0.7235 - lr: 1.0000e-04\n",
      "Epoch 43/100\n",
      "128/129 [============================>.] - ETA: 0s - loss: 0.5299 - accuracy: 0.9897\n",
      "Epoch 43: val_loss improved from 1.33074 to 1.32409, saving model to ../../artifacts/checkpoints\\checkpoint_InceptionV3\n"
     ]
    },
    {
     "name": "stderr",
     "output_type": "stream",
     "text": [
      "WARNING:absl:Found untraced functions such as _jit_compiled_convolution_op, _jit_compiled_convolution_op, _jit_compiled_convolution_op, _jit_compiled_convolution_op, _jit_compiled_convolution_op while saving (showing 5 of 94). These functions will not be directly callable after loading.\n"
     ]
    },
    {
     "name": "stdout",
     "output_type": "stream",
     "text": [
      "INFO:tensorflow:Assets written to: ../../artifacts/checkpoints\\checkpoint_InceptionV3\\assets\n"
     ]
    },
    {
     "name": "stderr",
     "output_type": "stream",
     "text": [
      "INFO:tensorflow:Assets written to: ../../artifacts/checkpoints\\checkpoint_InceptionV3\\assets\n"
     ]
    },
    {
     "name": "stdout",
     "output_type": "stream",
     "text": [
      "129/129 [==============================] - 24s 183ms/step - loss: 0.5305 - accuracy: 0.9898 - val_loss: 1.3241 - val_accuracy: 0.7235 - lr: 1.0000e-04\n",
      "Epoch 44/100\n",
      "128/129 [============================>.] - ETA: 0s - loss: 0.5274 - accuracy: 0.9893\n",
      "Epoch 44: val_loss improved from 1.32409 to 1.31792, saving model to ../../artifacts/checkpoints\\checkpoint_InceptionV3\n"
     ]
    },
    {
     "name": "stderr",
     "output_type": "stream",
     "text": [
      "WARNING:absl:Found untraced functions such as _jit_compiled_convolution_op, _jit_compiled_convolution_op, _jit_compiled_convolution_op, _jit_compiled_convolution_op, _jit_compiled_convolution_op while saving (showing 5 of 94). These functions will not be directly callable after loading.\n"
     ]
    },
    {
     "name": "stdout",
     "output_type": "stream",
     "text": [
      "INFO:tensorflow:Assets written to: ../../artifacts/checkpoints\\checkpoint_InceptionV3\\assets\n"
     ]
    },
    {
     "name": "stderr",
     "output_type": "stream",
     "text": [
      "INFO:tensorflow:Assets written to: ../../artifacts/checkpoints\\checkpoint_InceptionV3\\assets\n"
     ]
    },
    {
     "name": "stdout",
     "output_type": "stream",
     "text": [
      "129/129 [==============================] - 24s 184ms/step - loss: 0.5272 - accuracy: 0.9893 - val_loss: 1.3179 - val_accuracy: 0.7189 - lr: 1.0000e-04\n",
      "Epoch 45/100\n",
      "128/129 [============================>.] - ETA: 0s - loss: 0.5174 - accuracy: 0.9905\n",
      "Epoch 45: val_loss improved from 1.31792 to 1.31162, saving model to ../../artifacts/checkpoints\\checkpoint_InceptionV3\n"
     ]
    },
    {
     "name": "stderr",
     "output_type": "stream",
     "text": [
      "WARNING:absl:Found untraced functions such as _jit_compiled_convolution_op, _jit_compiled_convolution_op, _jit_compiled_convolution_op, _jit_compiled_convolution_op, _jit_compiled_convolution_op while saving (showing 5 of 94). These functions will not be directly callable after loading.\n"
     ]
    },
    {
     "name": "stdout",
     "output_type": "stream",
     "text": [
      "INFO:tensorflow:Assets written to: ../../artifacts/checkpoints\\checkpoint_InceptionV3\\assets\n"
     ]
    },
    {
     "name": "stderr",
     "output_type": "stream",
     "text": [
      "INFO:tensorflow:Assets written to: ../../artifacts/checkpoints\\checkpoint_InceptionV3\\assets\n"
     ]
    },
    {
     "name": "stdout",
     "output_type": "stream",
     "text": [
      "129/129 [==============================] - 24s 184ms/step - loss: 0.5180 - accuracy: 0.9905 - val_loss: 1.3116 - val_accuracy: 0.7189 - lr: 1.0000e-04\n",
      "Epoch 46/100\n",
      "128/129 [============================>.] - ETA: 0s - loss: 0.5161 - accuracy: 0.9919\n",
      "Epoch 46: val_loss improved from 1.31162 to 1.30521, saving model to ../../artifacts/checkpoints\\checkpoint_InceptionV3\n"
     ]
    },
    {
     "name": "stderr",
     "output_type": "stream",
     "text": [
      "WARNING:absl:Found untraced functions such as _jit_compiled_convolution_op, _jit_compiled_convolution_op, _jit_compiled_convolution_op, _jit_compiled_convolution_op, _jit_compiled_convolution_op while saving (showing 5 of 94). These functions will not be directly callable after loading.\n"
     ]
    },
    {
     "name": "stdout",
     "output_type": "stream",
     "text": [
      "INFO:tensorflow:Assets written to: ../../artifacts/checkpoints\\checkpoint_InceptionV3\\assets\n"
     ]
    },
    {
     "name": "stderr",
     "output_type": "stream",
     "text": [
      "INFO:tensorflow:Assets written to: ../../artifacts/checkpoints\\checkpoint_InceptionV3\\assets\n"
     ]
    },
    {
     "name": "stdout",
     "output_type": "stream",
     "text": [
      "129/129 [==============================] - 24s 185ms/step - loss: 0.5161 - accuracy: 0.9920 - val_loss: 1.3052 - val_accuracy: 0.7419 - lr: 1.0000e-04\n",
      "Epoch 47/100\n",
      "128/129 [============================>.] - ETA: 0s - loss: 0.5062 - accuracy: 0.9934\n",
      "Epoch 47: val_loss improved from 1.30521 to 1.30501, saving model to ../../artifacts/checkpoints\\checkpoint_InceptionV3\n"
     ]
    },
    {
     "name": "stderr",
     "output_type": "stream",
     "text": [
      "WARNING:absl:Found untraced functions such as _jit_compiled_convolution_op, _jit_compiled_convolution_op, _jit_compiled_convolution_op, _jit_compiled_convolution_op, _jit_compiled_convolution_op while saving (showing 5 of 94). These functions will not be directly callable after loading.\n"
     ]
    },
    {
     "name": "stdout",
     "output_type": "stream",
     "text": [
      "INFO:tensorflow:Assets written to: ../../artifacts/checkpoints\\checkpoint_InceptionV3\\assets\n"
     ]
    },
    {
     "name": "stderr",
     "output_type": "stream",
     "text": [
      "INFO:tensorflow:Assets written to: ../../artifacts/checkpoints\\checkpoint_InceptionV3\\assets\n"
     ]
    },
    {
     "name": "stdout",
     "output_type": "stream",
     "text": [
      "129/129 [==============================] - 24s 184ms/step - loss: 0.5067 - accuracy: 0.9934 - val_loss: 1.3050 - val_accuracy: 0.7419 - lr: 1.0000e-04\n",
      "Epoch 48/100\n",
      "128/129 [============================>.] - ETA: 0s - loss: 0.5000 - accuracy: 0.9919\n",
      "Epoch 48: val_loss improved from 1.30501 to 1.30015, saving model to ../../artifacts/checkpoints\\checkpoint_InceptionV3\n"
     ]
    },
    {
     "name": "stderr",
     "output_type": "stream",
     "text": [
      "WARNING:absl:Found untraced functions such as _jit_compiled_convolution_op, _jit_compiled_convolution_op, _jit_compiled_convolution_op, _jit_compiled_convolution_op, _jit_compiled_convolution_op while saving (showing 5 of 94). These functions will not be directly callable after loading.\n"
     ]
    },
    {
     "name": "stdout",
     "output_type": "stream",
     "text": [
      "INFO:tensorflow:Assets written to: ../../artifacts/checkpoints\\checkpoint_InceptionV3\\assets\n"
     ]
    },
    {
     "name": "stderr",
     "output_type": "stream",
     "text": [
      "INFO:tensorflow:Assets written to: ../../artifacts/checkpoints\\checkpoint_InceptionV3\\assets\n"
     ]
    },
    {
     "name": "stdout",
     "output_type": "stream",
     "text": [
      "129/129 [==============================] - 24s 185ms/step - loss: 0.5008 - accuracy: 0.9917 - val_loss: 1.3002 - val_accuracy: 0.7327 - lr: 1.0000e-04\n",
      "Epoch 49/100\n",
      "128/129 [============================>.] - ETA: 0s - loss: 0.4913 - accuracy: 0.9932\n",
      "Epoch 49: val_loss improved from 1.30015 to 1.29697, saving model to ../../artifacts/checkpoints\\checkpoint_InceptionV3\n"
     ]
    },
    {
     "name": "stderr",
     "output_type": "stream",
     "text": [
      "WARNING:absl:Found untraced functions such as _jit_compiled_convolution_op, _jit_compiled_convolution_op, _jit_compiled_convolution_op, _jit_compiled_convolution_op, _jit_compiled_convolution_op while saving (showing 5 of 94). These functions will not be directly callable after loading.\n"
     ]
    },
    {
     "name": "stdout",
     "output_type": "stream",
     "text": [
      "INFO:tensorflow:Assets written to: ../../artifacts/checkpoints\\checkpoint_InceptionV3\\assets\n"
     ]
    },
    {
     "name": "stderr",
     "output_type": "stream",
     "text": [
      "INFO:tensorflow:Assets written to: ../../artifacts/checkpoints\\checkpoint_InceptionV3\\assets\n"
     ]
    },
    {
     "name": "stdout",
     "output_type": "stream",
     "text": [
      "129/129 [==============================] - 24s 185ms/step - loss: 0.4913 - accuracy: 0.9932 - val_loss: 1.2970 - val_accuracy: 0.7281 - lr: 1.0000e-04\n",
      "Epoch 50/100\n",
      "128/129 [============================>.] - ETA: 0s - loss: 0.4744 - accuracy: 0.9951\n",
      "Epoch 50: val_loss improved from 1.29697 to 1.29510, saving model to ../../artifacts/checkpoints\\checkpoint_InceptionV3\n"
     ]
    },
    {
     "name": "stderr",
     "output_type": "stream",
     "text": [
      "WARNING:absl:Found untraced functions such as _jit_compiled_convolution_op, _jit_compiled_convolution_op, _jit_compiled_convolution_op, _jit_compiled_convolution_op, _jit_compiled_convolution_op while saving (showing 5 of 94). These functions will not be directly callable after loading.\n"
     ]
    },
    {
     "name": "stdout",
     "output_type": "stream",
     "text": [
      "INFO:tensorflow:Assets written to: ../../artifacts/checkpoints\\checkpoint_InceptionV3\\assets\n"
     ]
    },
    {
     "name": "stderr",
     "output_type": "stream",
     "text": [
      "INFO:tensorflow:Assets written to: ../../artifacts/checkpoints\\checkpoint_InceptionV3\\assets\n"
     ]
    },
    {
     "name": "stdout",
     "output_type": "stream",
     "text": [
      "129/129 [==============================] - 24s 185ms/step - loss: 0.4753 - accuracy: 0.9951 - val_loss: 1.2951 - val_accuracy: 0.7281 - lr: 1.0000e-04\n",
      "Epoch 51/100\n",
      "128/129 [============================>.] - ETA: 0s - loss: 0.4756 - accuracy: 0.9958\n",
      "Epoch 51: val_loss improved from 1.29510 to 1.29130, saving model to ../../artifacts/checkpoints\\checkpoint_InceptionV3\n"
     ]
    },
    {
     "name": "stderr",
     "output_type": "stream",
     "text": [
      "WARNING:absl:Found untraced functions such as _jit_compiled_convolution_op, _jit_compiled_convolution_op, _jit_compiled_convolution_op, _jit_compiled_convolution_op, _jit_compiled_convolution_op while saving (showing 5 of 94). These functions will not be directly callable after loading.\n"
     ]
    },
    {
     "name": "stdout",
     "output_type": "stream",
     "text": [
      "INFO:tensorflow:Assets written to: ../../artifacts/checkpoints\\checkpoint_InceptionV3\\assets\n"
     ]
    },
    {
     "name": "stderr",
     "output_type": "stream",
     "text": [
      "INFO:tensorflow:Assets written to: ../../artifacts/checkpoints\\checkpoint_InceptionV3\\assets\n"
     ]
    },
    {
     "name": "stdout",
     "output_type": "stream",
     "text": [
      "129/129 [==============================] - 24s 186ms/step - loss: 0.4757 - accuracy: 0.9959 - val_loss: 1.2913 - val_accuracy: 0.7235 - lr: 1.0000e-04\n",
      "Epoch 52/100\n",
      "128/129 [============================>.] - ETA: 0s - loss: 0.4722 - accuracy: 0.9939\n",
      "Epoch 52: val_loss did not improve from 1.29130\n",
      "129/129 [==============================] - 9s 68ms/step - loss: 0.4724 - accuracy: 0.9937 - val_loss: 1.2932 - val_accuracy: 0.7281 - lr: 1.0000e-04\n",
      "Epoch 53/100\n",
      "128/129 [============================>.] - ETA: 0s - loss: 0.4727 - accuracy: 0.9954\n",
      "Epoch 53: val_loss improved from 1.29130 to 1.28547, saving model to ../../artifacts/checkpoints\\checkpoint_InceptionV3\n"
     ]
    },
    {
     "name": "stderr",
     "output_type": "stream",
     "text": [
      "WARNING:absl:Found untraced functions such as _jit_compiled_convolution_op, _jit_compiled_convolution_op, _jit_compiled_convolution_op, _jit_compiled_convolution_op, _jit_compiled_convolution_op while saving (showing 5 of 94). These functions will not be directly callable after loading.\n"
     ]
    },
    {
     "name": "stdout",
     "output_type": "stream",
     "text": [
      "INFO:tensorflow:Assets written to: ../../artifacts/checkpoints\\checkpoint_InceptionV3\\assets\n"
     ]
    },
    {
     "name": "stderr",
     "output_type": "stream",
     "text": [
      "INFO:tensorflow:Assets written to: ../../artifacts/checkpoints\\checkpoint_InceptionV3\\assets\n"
     ]
    },
    {
     "name": "stdout",
     "output_type": "stream",
     "text": [
      "129/129 [==============================] - 23s 182ms/step - loss: 0.4737 - accuracy: 0.9954 - val_loss: 1.2855 - val_accuracy: 0.7327 - lr: 1.0000e-04\n",
      "Epoch 54/100\n",
      "128/129 [============================>.] - ETA: 0s - loss: 0.4667 - accuracy: 0.9951\n",
      "Epoch 54: val_loss improved from 1.28547 to 1.28226, saving model to ../../artifacts/checkpoints\\checkpoint_InceptionV3\n"
     ]
    },
    {
     "name": "stderr",
     "output_type": "stream",
     "text": [
      "WARNING:absl:Found untraced functions such as _jit_compiled_convolution_op, _jit_compiled_convolution_op, _jit_compiled_convolution_op, _jit_compiled_convolution_op, _jit_compiled_convolution_op while saving (showing 5 of 94). These functions will not be directly callable after loading.\n"
     ]
    },
    {
     "name": "stdout",
     "output_type": "stream",
     "text": [
      "INFO:tensorflow:Assets written to: ../../artifacts/checkpoints\\checkpoint_InceptionV3\\assets\n"
     ]
    },
    {
     "name": "stderr",
     "output_type": "stream",
     "text": [
      "INFO:tensorflow:Assets written to: ../../artifacts/checkpoints\\checkpoint_InceptionV3\\assets\n"
     ]
    },
    {
     "name": "stdout",
     "output_type": "stream",
     "text": [
      "129/129 [==============================] - 24s 185ms/step - loss: 0.4666 - accuracy: 0.9951 - val_loss: 1.2823 - val_accuracy: 0.7189 - lr: 1.0000e-04\n",
      "Epoch 55/100\n",
      "128/129 [============================>.] - ETA: 0s - loss: 0.4566 - accuracy: 0.9951\n",
      "Epoch 55: val_loss did not improve from 1.28226\n",
      "129/129 [==============================] - 9s 68ms/step - loss: 0.4567 - accuracy: 0.9951 - val_loss: 1.2836 - val_accuracy: 0.7189 - lr: 1.0000e-04\n",
      "Epoch 56/100\n",
      "128/129 [============================>.] - ETA: 0s - loss: 0.4544 - accuracy: 0.9978\n",
      "Epoch 56: val_loss improved from 1.28226 to 1.28083, saving model to ../../artifacts/checkpoints\\checkpoint_InceptionV3\n"
     ]
    },
    {
     "name": "stderr",
     "output_type": "stream",
     "text": [
      "WARNING:absl:Found untraced functions such as _jit_compiled_convolution_op, _jit_compiled_convolution_op, _jit_compiled_convolution_op, _jit_compiled_convolution_op, _jit_compiled_convolution_op while saving (showing 5 of 94). These functions will not be directly callable after loading.\n"
     ]
    },
    {
     "name": "stdout",
     "output_type": "stream",
     "text": [
      "INFO:tensorflow:Assets written to: ../../artifacts/checkpoints\\checkpoint_InceptionV3\\assets\n"
     ]
    },
    {
     "name": "stderr",
     "output_type": "stream",
     "text": [
      "INFO:tensorflow:Assets written to: ../../artifacts/checkpoints\\checkpoint_InceptionV3\\assets\n"
     ]
    },
    {
     "name": "stdout",
     "output_type": "stream",
     "text": [
      "129/129 [==============================] - 24s 184ms/step - loss: 0.4550 - accuracy: 0.9978 - val_loss: 1.2808 - val_accuracy: 0.7235 - lr: 1.0000e-04\n",
      "Epoch 57/100\n",
      "128/129 [============================>.] - ETA: 0s - loss: 0.4506 - accuracy: 0.9961\n",
      "Epoch 57: val_loss improved from 1.28083 to 1.27206, saving model to ../../artifacts/checkpoints\\checkpoint_InceptionV3\n"
     ]
    },
    {
     "name": "stderr",
     "output_type": "stream",
     "text": [
      "WARNING:absl:Found untraced functions such as _jit_compiled_convolution_op, _jit_compiled_convolution_op, _jit_compiled_convolution_op, _jit_compiled_convolution_op, _jit_compiled_convolution_op while saving (showing 5 of 94). These functions will not be directly callable after loading.\n"
     ]
    },
    {
     "name": "stdout",
     "output_type": "stream",
     "text": [
      "INFO:tensorflow:Assets written to: ../../artifacts/checkpoints\\checkpoint_InceptionV3\\assets\n"
     ]
    },
    {
     "name": "stderr",
     "output_type": "stream",
     "text": [
      "INFO:tensorflow:Assets written to: ../../artifacts/checkpoints\\checkpoint_InceptionV3\\assets\n"
     ]
    },
    {
     "name": "stdout",
     "output_type": "stream",
     "text": [
      "129/129 [==============================] - 24s 184ms/step - loss: 0.4508 - accuracy: 0.9961 - val_loss: 1.2721 - val_accuracy: 0.7373 - lr: 1.0000e-04\n",
      "Epoch 58/100\n",
      "128/129 [============================>.] - ETA: 0s - loss: 0.4484 - accuracy: 0.9968\n",
      "Epoch 58: val_loss improved from 1.27206 to 1.26494, saving model to ../../artifacts/checkpoints\\checkpoint_InceptionV3\n"
     ]
    },
    {
     "name": "stderr",
     "output_type": "stream",
     "text": [
      "WARNING:absl:Found untraced functions such as _jit_compiled_convolution_op, _jit_compiled_convolution_op, _jit_compiled_convolution_op, _jit_compiled_convolution_op, _jit_compiled_convolution_op while saving (showing 5 of 94). These functions will not be directly callable after loading.\n"
     ]
    },
    {
     "name": "stdout",
     "output_type": "stream",
     "text": [
      "INFO:tensorflow:Assets written to: ../../artifacts/checkpoints\\checkpoint_InceptionV3\\assets\n"
     ]
    },
    {
     "name": "stderr",
     "output_type": "stream",
     "text": [
      "INFO:tensorflow:Assets written to: ../../artifacts/checkpoints\\checkpoint_InceptionV3\\assets\n"
     ]
    },
    {
     "name": "stdout",
     "output_type": "stream",
     "text": [
      "129/129 [==============================] - 24s 184ms/step - loss: 0.4487 - accuracy: 0.9968 - val_loss: 1.2649 - val_accuracy: 0.7327 - lr: 1.0000e-04\n",
      "Epoch 59/100\n",
      "128/129 [============================>.] - ETA: 0s - loss: 0.4404 - accuracy: 0.9985\n",
      "Epoch 59: val_loss improved from 1.26494 to 1.26277, saving model to ../../artifacts/checkpoints\\checkpoint_InceptionV3\n"
     ]
    },
    {
     "name": "stderr",
     "output_type": "stream",
     "text": [
      "WARNING:absl:Found untraced functions such as _jit_compiled_convolution_op, _jit_compiled_convolution_op, _jit_compiled_convolution_op, _jit_compiled_convolution_op, _jit_compiled_convolution_op while saving (showing 5 of 94). These functions will not be directly callable after loading.\n"
     ]
    },
    {
     "name": "stdout",
     "output_type": "stream",
     "text": [
      "INFO:tensorflow:Assets written to: ../../artifacts/checkpoints\\checkpoint_InceptionV3\\assets\n"
     ]
    },
    {
     "name": "stderr",
     "output_type": "stream",
     "text": [
      "INFO:tensorflow:Assets written to: ../../artifacts/checkpoints\\checkpoint_InceptionV3\\assets\n"
     ]
    },
    {
     "name": "stdout",
     "output_type": "stream",
     "text": [
      "129/129 [==============================] - 24s 184ms/step - loss: 0.4403 - accuracy: 0.9985 - val_loss: 1.2628 - val_accuracy: 0.7465 - lr: 1.0000e-04\n",
      "Epoch 60/100\n",
      "128/129 [============================>.] - ETA: 0s - loss: 0.4421 - accuracy: 0.9951\n",
      "Epoch 60: val_loss improved from 1.26277 to 1.25848, saving model to ../../artifacts/checkpoints\\checkpoint_InceptionV3\n"
     ]
    },
    {
     "name": "stderr",
     "output_type": "stream",
     "text": [
      "WARNING:absl:Found untraced functions such as _jit_compiled_convolution_op, _jit_compiled_convolution_op, _jit_compiled_convolution_op, _jit_compiled_convolution_op, _jit_compiled_convolution_op while saving (showing 5 of 94). These functions will not be directly callable after loading.\n"
     ]
    },
    {
     "name": "stdout",
     "output_type": "stream",
     "text": [
      "INFO:tensorflow:Assets written to: ../../artifacts/checkpoints\\checkpoint_InceptionV3\\assets\n"
     ]
    },
    {
     "name": "stderr",
     "output_type": "stream",
     "text": [
      "INFO:tensorflow:Assets written to: ../../artifacts/checkpoints\\checkpoint_InceptionV3\\assets\n"
     ]
    },
    {
     "name": "stdout",
     "output_type": "stream",
     "text": [
      "129/129 [==============================] - 24s 184ms/step - loss: 0.4428 - accuracy: 0.9951 - val_loss: 1.2585 - val_accuracy: 0.7373 - lr: 1.0000e-04\n",
      "Epoch 61/100\n",
      "128/129 [============================>.] - ETA: 0s - loss: 0.4344 - accuracy: 0.9963\n",
      "Epoch 61: val_loss improved from 1.25848 to 1.25846, saving model to ../../artifacts/checkpoints\\checkpoint_InceptionV3\n"
     ]
    },
    {
     "name": "stderr",
     "output_type": "stream",
     "text": [
      "WARNING:absl:Found untraced functions such as _jit_compiled_convolution_op, _jit_compiled_convolution_op, _jit_compiled_convolution_op, _jit_compiled_convolution_op, _jit_compiled_convolution_op while saving (showing 5 of 94). These functions will not be directly callable after loading.\n"
     ]
    },
    {
     "name": "stdout",
     "output_type": "stream",
     "text": [
      "INFO:tensorflow:Assets written to: ../../artifacts/checkpoints\\checkpoint_InceptionV3\\assets\n"
     ]
    },
    {
     "name": "stderr",
     "output_type": "stream",
     "text": [
      "INFO:tensorflow:Assets written to: ../../artifacts/checkpoints\\checkpoint_InceptionV3\\assets\n"
     ]
    },
    {
     "name": "stdout",
     "output_type": "stream",
     "text": [
      "129/129 [==============================] - 24s 185ms/step - loss: 0.4353 - accuracy: 0.9959 - val_loss: 1.2585 - val_accuracy: 0.7419 - lr: 1.0000e-04\n",
      "Epoch 62/100\n",
      "128/129 [============================>.] - ETA: 0s - loss: 0.4281 - accuracy: 0.9980\n",
      "Epoch 62: val_loss improved from 1.25846 to 1.25391, saving model to ../../artifacts/checkpoints\\checkpoint_InceptionV3\n"
     ]
    },
    {
     "name": "stderr",
     "output_type": "stream",
     "text": [
      "WARNING:absl:Found untraced functions such as _jit_compiled_convolution_op, _jit_compiled_convolution_op, _jit_compiled_convolution_op, _jit_compiled_convolution_op, _jit_compiled_convolution_op while saving (showing 5 of 94). These functions will not be directly callable after loading.\n"
     ]
    },
    {
     "name": "stdout",
     "output_type": "stream",
     "text": [
      "INFO:tensorflow:Assets written to: ../../artifacts/checkpoints\\checkpoint_InceptionV3\\assets\n"
     ]
    },
    {
     "name": "stderr",
     "output_type": "stream",
     "text": [
      "INFO:tensorflow:Assets written to: ../../artifacts/checkpoints\\checkpoint_InceptionV3\\assets\n"
     ]
    },
    {
     "name": "stdout",
     "output_type": "stream",
     "text": [
      "129/129 [==============================] - 24s 184ms/step - loss: 0.4285 - accuracy: 0.9981 - val_loss: 1.2539 - val_accuracy: 0.7419 - lr: 1.0000e-04\n",
      "Epoch 63/100\n",
      "128/129 [============================>.] - ETA: 0s - loss: 0.4305 - accuracy: 0.9966\n",
      "Epoch 63: val_loss did not improve from 1.25391\n",
      "129/129 [==============================] - 9s 68ms/step - loss: 0.4310 - accuracy: 0.9966 - val_loss: 1.2580 - val_accuracy: 0.7373 - lr: 1.0000e-04\n",
      "Epoch 64/100\n",
      "128/129 [============================>.] - ETA: 0s - loss: 0.4244 - accuracy: 0.9978\n",
      "Epoch 64: val_loss improved from 1.25391 to 1.25341, saving model to ../../artifacts/checkpoints\\checkpoint_InceptionV3\n"
     ]
    },
    {
     "name": "stderr",
     "output_type": "stream",
     "text": [
      "WARNING:absl:Found untraced functions such as _jit_compiled_convolution_op, _jit_compiled_convolution_op, _jit_compiled_convolution_op, _jit_compiled_convolution_op, _jit_compiled_convolution_op while saving (showing 5 of 94). These functions will not be directly callable after loading.\n"
     ]
    },
    {
     "name": "stdout",
     "output_type": "stream",
     "text": [
      "INFO:tensorflow:Assets written to: ../../artifacts/checkpoints\\checkpoint_InceptionV3\\assets\n"
     ]
    },
    {
     "name": "stderr",
     "output_type": "stream",
     "text": [
      "INFO:tensorflow:Assets written to: ../../artifacts/checkpoints\\checkpoint_InceptionV3\\assets\n"
     ]
    },
    {
     "name": "stdout",
     "output_type": "stream",
     "text": [
      "129/129 [==============================] - 23s 182ms/step - loss: 0.4246 - accuracy: 0.9978 - val_loss: 1.2534 - val_accuracy: 0.7465 - lr: 1.0000e-04\n",
      "Epoch 65/100\n",
      "128/129 [============================>.] - ETA: 0s - loss: 0.4246 - accuracy: 0.9980\n",
      "Epoch 65: val_loss did not improve from 1.25341\n",
      "129/129 [==============================] - 9s 68ms/step - loss: 0.4251 - accuracy: 0.9981 - val_loss: 1.2564 - val_accuracy: 0.7419 - lr: 1.0000e-04\n",
      "Epoch 66/100\n",
      "128/129 [============================>.] - ETA: 0s - loss: 0.4217 - accuracy: 0.9985\n",
      "Epoch 66: val_loss improved from 1.25341 to 1.25036, saving model to ../../artifacts/checkpoints\\checkpoint_InceptionV3\n"
     ]
    },
    {
     "name": "stderr",
     "output_type": "stream",
     "text": [
      "WARNING:absl:Found untraced functions such as _jit_compiled_convolution_op, _jit_compiled_convolution_op, _jit_compiled_convolution_op, _jit_compiled_convolution_op, _jit_compiled_convolution_op while saving (showing 5 of 94). These functions will not be directly callable after loading.\n"
     ]
    },
    {
     "name": "stdout",
     "output_type": "stream",
     "text": [
      "INFO:tensorflow:Assets written to: ../../artifacts/checkpoints\\checkpoint_InceptionV3\\assets\n"
     ]
    },
    {
     "name": "stderr",
     "output_type": "stream",
     "text": [
      "INFO:tensorflow:Assets written to: ../../artifacts/checkpoints\\checkpoint_InceptionV3\\assets\n"
     ]
    },
    {
     "name": "stdout",
     "output_type": "stream",
     "text": [
      "129/129 [==============================] - 24s 185ms/step - loss: 0.4220 - accuracy: 0.9985 - val_loss: 1.2504 - val_accuracy: 0.7373 - lr: 1.0000e-04\n",
      "Epoch 67/100\n",
      "128/129 [============================>.] - ETA: 0s - loss: 0.4175 - accuracy: 0.9983\n",
      "Epoch 67: val_loss improved from 1.25036 to 1.24398, saving model to ../../artifacts/checkpoints\\checkpoint_InceptionV3\n"
     ]
    },
    {
     "name": "stderr",
     "output_type": "stream",
     "text": [
      "WARNING:absl:Found untraced functions such as _jit_compiled_convolution_op, _jit_compiled_convolution_op, _jit_compiled_convolution_op, _jit_compiled_convolution_op, _jit_compiled_convolution_op while saving (showing 5 of 94). These functions will not be directly callable after loading.\n"
     ]
    },
    {
     "name": "stdout",
     "output_type": "stream",
     "text": [
      "INFO:tensorflow:Assets written to: ../../artifacts/checkpoints\\checkpoint_InceptionV3\\assets\n"
     ]
    },
    {
     "name": "stderr",
     "output_type": "stream",
     "text": [
      "INFO:tensorflow:Assets written to: ../../artifacts/checkpoints\\checkpoint_InceptionV3\\assets\n"
     ]
    },
    {
     "name": "stdout",
     "output_type": "stream",
     "text": [
      "129/129 [==============================] - 24s 184ms/step - loss: 0.4175 - accuracy: 0.9983 - val_loss: 1.2440 - val_accuracy: 0.7373 - lr: 1.0000e-04\n",
      "Epoch 68/100\n",
      "128/129 [============================>.] - ETA: 0s - loss: 0.4130 - accuracy: 0.9990\n",
      "Epoch 68: val_loss improved from 1.24398 to 1.23515, saving model to ../../artifacts/checkpoints\\checkpoint_InceptionV3\n"
     ]
    },
    {
     "name": "stderr",
     "output_type": "stream",
     "text": [
      "WARNING:absl:Found untraced functions such as _jit_compiled_convolution_op, _jit_compiled_convolution_op, _jit_compiled_convolution_op, _jit_compiled_convolution_op, _jit_compiled_convolution_op while saving (showing 5 of 94). These functions will not be directly callable after loading.\n"
     ]
    },
    {
     "name": "stdout",
     "output_type": "stream",
     "text": [
      "INFO:tensorflow:Assets written to: ../../artifacts/checkpoints\\checkpoint_InceptionV3\\assets\n"
     ]
    },
    {
     "name": "stderr",
     "output_type": "stream",
     "text": [
      "INFO:tensorflow:Assets written to: ../../artifacts/checkpoints\\checkpoint_InceptionV3\\assets\n"
     ]
    },
    {
     "name": "stdout",
     "output_type": "stream",
     "text": [
      "129/129 [==============================] - 24s 185ms/step - loss: 0.4130 - accuracy: 0.9990 - val_loss: 1.2352 - val_accuracy: 0.7419 - lr: 1.0000e-04\n",
      "Epoch 69/100\n",
      "128/129 [============================>.] - ETA: 0s - loss: 0.4109 - accuracy: 0.9976\n",
      "Epoch 69: val_loss improved from 1.23515 to 1.23310, saving model to ../../artifacts/checkpoints\\checkpoint_InceptionV3\n"
     ]
    },
    {
     "name": "stderr",
     "output_type": "stream",
     "text": [
      "WARNING:absl:Found untraced functions such as _jit_compiled_convolution_op, _jit_compiled_convolution_op, _jit_compiled_convolution_op, _jit_compiled_convolution_op, _jit_compiled_convolution_op while saving (showing 5 of 94). These functions will not be directly callable after loading.\n"
     ]
    },
    {
     "name": "stdout",
     "output_type": "stream",
     "text": [
      "INFO:tensorflow:Assets written to: ../../artifacts/checkpoints\\checkpoint_InceptionV3\\assets\n"
     ]
    },
    {
     "name": "stderr",
     "output_type": "stream",
     "text": [
      "INFO:tensorflow:Assets written to: ../../artifacts/checkpoints\\checkpoint_InceptionV3\\assets\n"
     ]
    },
    {
     "name": "stdout",
     "output_type": "stream",
     "text": [
      "129/129 [==============================] - 24s 185ms/step - loss: 0.4112 - accuracy: 0.9976 - val_loss: 1.2331 - val_accuracy: 0.7465 - lr: 1.0000e-04\n",
      "Epoch 70/100\n",
      "128/129 [============================>.] - ETA: 0s - loss: 0.4087 - accuracy: 0.9985\n",
      "Epoch 70: val_loss did not improve from 1.23310\n",
      "129/129 [==============================] - 9s 68ms/step - loss: 0.4090 - accuracy: 0.9985 - val_loss: 1.2380 - val_accuracy: 0.7419 - lr: 1.0000e-04\n",
      "Epoch 71/100\n",
      "128/129 [============================>.] - ETA: 0s - loss: 0.4067 - accuracy: 0.9976\n",
      "Epoch 71: val_loss did not improve from 1.23310\n",
      "129/129 [==============================] - 9s 67ms/step - loss: 0.4079 - accuracy: 0.9971 - val_loss: 1.2335 - val_accuracy: 0.7327 - lr: 1.0000e-04\n",
      "Epoch 72/100\n",
      "128/129 [============================>.] - ETA: 0s - loss: 0.4069 - accuracy: 0.9980\n",
      "Epoch 72: val_loss improved from 1.23310 to 1.23082, saving model to ../../artifacts/checkpoints\\checkpoint_InceptionV3\n"
     ]
    },
    {
     "name": "stderr",
     "output_type": "stream",
     "text": [
      "WARNING:absl:Found untraced functions such as _jit_compiled_convolution_op, _jit_compiled_convolution_op, _jit_compiled_convolution_op, _jit_compiled_convolution_op, _jit_compiled_convolution_op while saving (showing 5 of 94). These functions will not be directly callable after loading.\n"
     ]
    },
    {
     "name": "stdout",
     "output_type": "stream",
     "text": [
      "INFO:tensorflow:Assets written to: ../../artifacts/checkpoints\\checkpoint_InceptionV3\\assets\n"
     ]
    },
    {
     "name": "stderr",
     "output_type": "stream",
     "text": [
      "INFO:tensorflow:Assets written to: ../../artifacts/checkpoints\\checkpoint_InceptionV3\\assets\n"
     ]
    },
    {
     "name": "stdout",
     "output_type": "stream",
     "text": [
      "129/129 [==============================] - 24s 185ms/step - loss: 0.4077 - accuracy: 0.9978 - val_loss: 1.2308 - val_accuracy: 0.7373 - lr: 1.0000e-04\n",
      "Epoch 73/100\n",
      "128/129 [============================>.] - ETA: 0s - loss: 0.4013 - accuracy: 0.9988\n",
      "Epoch 73: val_loss improved from 1.23082 to 1.22845, saving model to ../../artifacts/checkpoints\\checkpoint_InceptionV3\n"
     ]
    },
    {
     "name": "stderr",
     "output_type": "stream",
     "text": [
      "WARNING:absl:Found untraced functions such as _jit_compiled_convolution_op, _jit_compiled_convolution_op, _jit_compiled_convolution_op, _jit_compiled_convolution_op, _jit_compiled_convolution_op while saving (showing 5 of 94). These functions will not be directly callable after loading.\n"
     ]
    },
    {
     "name": "stdout",
     "output_type": "stream",
     "text": [
      "INFO:tensorflow:Assets written to: ../../artifacts/checkpoints\\checkpoint_InceptionV3\\assets\n"
     ]
    },
    {
     "name": "stderr",
     "output_type": "stream",
     "text": [
      "INFO:tensorflow:Assets written to: ../../artifacts/checkpoints\\checkpoint_InceptionV3\\assets\n"
     ]
    },
    {
     "name": "stdout",
     "output_type": "stream",
     "text": [
      "129/129 [==============================] - 24s 184ms/step - loss: 0.4018 - accuracy: 0.9988 - val_loss: 1.2285 - val_accuracy: 0.7419 - lr: 1.0000e-04\n",
      "Epoch 74/100\n",
      "128/129 [============================>.] - ETA: 0s - loss: 0.4003 - accuracy: 0.9973\n",
      "Epoch 74: val_loss improved from 1.22845 to 1.22469, saving model to ../../artifacts/checkpoints\\checkpoint_InceptionV3\n"
     ]
    },
    {
     "name": "stderr",
     "output_type": "stream",
     "text": [
      "WARNING:absl:Found untraced functions such as _jit_compiled_convolution_op, _jit_compiled_convolution_op, _jit_compiled_convolution_op, _jit_compiled_convolution_op, _jit_compiled_convolution_op while saving (showing 5 of 94). These functions will not be directly callable after loading.\n"
     ]
    },
    {
     "name": "stdout",
     "output_type": "stream",
     "text": [
      "INFO:tensorflow:Assets written to: ../../artifacts/checkpoints\\checkpoint_InceptionV3\\assets\n"
     ]
    },
    {
     "name": "stderr",
     "output_type": "stream",
     "text": [
      "INFO:tensorflow:Assets written to: ../../artifacts/checkpoints\\checkpoint_InceptionV3\\assets\n"
     ]
    },
    {
     "name": "stdout",
     "output_type": "stream",
     "text": [
      "129/129 [==============================] - 24s 183ms/step - loss: 0.4012 - accuracy: 0.9968 - val_loss: 1.2247 - val_accuracy: 0.7419 - lr: 1.0000e-04\n",
      "Epoch 75/100\n",
      "128/129 [============================>.] - ETA: 0s - loss: 0.3963 - accuracy: 0.9995\n",
      "Epoch 75: val_loss improved from 1.22469 to 1.22087, saving model to ../../artifacts/checkpoints\\checkpoint_InceptionV3\n"
     ]
    },
    {
     "name": "stderr",
     "output_type": "stream",
     "text": [
      "WARNING:absl:Found untraced functions such as _jit_compiled_convolution_op, _jit_compiled_convolution_op, _jit_compiled_convolution_op, _jit_compiled_convolution_op, _jit_compiled_convolution_op while saving (showing 5 of 94). These functions will not be directly callable after loading.\n"
     ]
    },
    {
     "name": "stdout",
     "output_type": "stream",
     "text": [
      "INFO:tensorflow:Assets written to: ../../artifacts/checkpoints\\checkpoint_InceptionV3\\assets\n"
     ]
    },
    {
     "name": "stderr",
     "output_type": "stream",
     "text": [
      "INFO:tensorflow:Assets written to: ../../artifacts/checkpoints\\checkpoint_InceptionV3\\assets\n"
     ]
    },
    {
     "name": "stdout",
     "output_type": "stream",
     "text": [
      "129/129 [==============================] - 24s 186ms/step - loss: 0.3970 - accuracy: 0.9995 - val_loss: 1.2209 - val_accuracy: 0.7419 - lr: 1.0000e-04\n",
      "Epoch 76/100\n",
      "128/129 [============================>.] - ETA: 0s - loss: 0.3933 - accuracy: 0.9983\n",
      "Epoch 76: val_loss improved from 1.22087 to 1.21562, saving model to ../../artifacts/checkpoints\\checkpoint_InceptionV3\n"
     ]
    },
    {
     "name": "stderr",
     "output_type": "stream",
     "text": [
      "WARNING:absl:Found untraced functions such as _jit_compiled_convolution_op, _jit_compiled_convolution_op, _jit_compiled_convolution_op, _jit_compiled_convolution_op, _jit_compiled_convolution_op while saving (showing 5 of 94). These functions will not be directly callable after loading.\n"
     ]
    },
    {
     "name": "stdout",
     "output_type": "stream",
     "text": [
      "INFO:tensorflow:Assets written to: ../../artifacts/checkpoints\\checkpoint_InceptionV3\\assets\n"
     ]
    },
    {
     "name": "stderr",
     "output_type": "stream",
     "text": [
      "INFO:tensorflow:Assets written to: ../../artifacts/checkpoints\\checkpoint_InceptionV3\\assets\n"
     ]
    },
    {
     "name": "stdout",
     "output_type": "stream",
     "text": [
      "129/129 [==============================] - 24s 184ms/step - loss: 0.3936 - accuracy: 0.9983 - val_loss: 1.2156 - val_accuracy: 0.7373 - lr: 1.0000e-04\n",
      "Epoch 77/100\n",
      "128/129 [============================>.] - ETA: 0s - loss: 0.3903 - accuracy: 0.9985\n",
      "Epoch 77: val_loss improved from 1.21562 to 1.21087, saving model to ../../artifacts/checkpoints\\checkpoint_InceptionV3\n"
     ]
    },
    {
     "name": "stderr",
     "output_type": "stream",
     "text": [
      "WARNING:absl:Found untraced functions such as _jit_compiled_convolution_op, _jit_compiled_convolution_op, _jit_compiled_convolution_op, _jit_compiled_convolution_op, _jit_compiled_convolution_op while saving (showing 5 of 94). These functions will not be directly callable after loading.\n"
     ]
    },
    {
     "name": "stdout",
     "output_type": "stream",
     "text": [
      "INFO:tensorflow:Assets written to: ../../artifacts/checkpoints\\checkpoint_InceptionV3\\assets\n"
     ]
    },
    {
     "name": "stderr",
     "output_type": "stream",
     "text": [
      "INFO:tensorflow:Assets written to: ../../artifacts/checkpoints\\checkpoint_InceptionV3\\assets\n"
     ]
    },
    {
     "name": "stdout",
     "output_type": "stream",
     "text": [
      "129/129 [==============================] - 24s 184ms/step - loss: 0.3902 - accuracy: 0.9985 - val_loss: 1.2109 - val_accuracy: 0.7419 - lr: 1.0000e-04\n",
      "Epoch 78/100\n",
      "128/129 [============================>.] - ETA: 0s - loss: 0.3895 - accuracy: 0.9988\n",
      "Epoch 78: val_loss improved from 1.21087 to 1.20698, saving model to ../../artifacts/checkpoints\\checkpoint_InceptionV3\n"
     ]
    },
    {
     "name": "stderr",
     "output_type": "stream",
     "text": [
      "WARNING:absl:Found untraced functions such as _jit_compiled_convolution_op, _jit_compiled_convolution_op, _jit_compiled_convolution_op, _jit_compiled_convolution_op, _jit_compiled_convolution_op while saving (showing 5 of 94). These functions will not be directly callable after loading.\n"
     ]
    },
    {
     "name": "stdout",
     "output_type": "stream",
     "text": [
      "INFO:tensorflow:Assets written to: ../../artifacts/checkpoints\\checkpoint_InceptionV3\\assets\n"
     ]
    },
    {
     "name": "stderr",
     "output_type": "stream",
     "text": [
      "INFO:tensorflow:Assets written to: ../../artifacts/checkpoints\\checkpoint_InceptionV3\\assets\n"
     ]
    },
    {
     "name": "stdout",
     "output_type": "stream",
     "text": [
      "129/129 [==============================] - 24s 187ms/step - loss: 0.3897 - accuracy: 0.9988 - val_loss: 1.2070 - val_accuracy: 0.7419 - lr: 1.0000e-04\n",
      "Epoch 79/100\n",
      "128/129 [============================>.] - ETA: 0s - loss: 0.3894 - accuracy: 0.9983\n",
      "Epoch 79: val_loss did not improve from 1.20698\n",
      "129/129 [==============================] - 9s 68ms/step - loss: 0.3899 - accuracy: 0.9981 - val_loss: 1.2123 - val_accuracy: 0.7465 - lr: 1.0000e-04\n",
      "Epoch 80/100\n",
      "128/129 [============================>.] - ETA: 0s - loss: 0.3859 - accuracy: 0.9990\n",
      "Epoch 80: val_loss improved from 1.20698 to 1.20575, saving model to ../../artifacts/checkpoints\\checkpoint_InceptionV3\n"
     ]
    },
    {
     "name": "stderr",
     "output_type": "stream",
     "text": [
      "WARNING:absl:Found untraced functions such as _jit_compiled_convolution_op, _jit_compiled_convolution_op, _jit_compiled_convolution_op, _jit_compiled_convolution_op, _jit_compiled_convolution_op while saving (showing 5 of 94). These functions will not be directly callable after loading.\n"
     ]
    },
    {
     "name": "stdout",
     "output_type": "stream",
     "text": [
      "INFO:tensorflow:Assets written to: ../../artifacts/checkpoints\\checkpoint_InceptionV3\\assets\n"
     ]
    },
    {
     "name": "stderr",
     "output_type": "stream",
     "text": [
      "INFO:tensorflow:Assets written to: ../../artifacts/checkpoints\\checkpoint_InceptionV3\\assets\n"
     ]
    },
    {
     "name": "stdout",
     "output_type": "stream",
     "text": [
      "129/129 [==============================] - 24s 184ms/step - loss: 0.3860 - accuracy: 0.9990 - val_loss: 1.2058 - val_accuracy: 0.7465 - lr: 1.0000e-04\n",
      "Epoch 81/100\n",
      "128/129 [============================>.] - ETA: 0s - loss: 0.3814 - accuracy: 0.9993\n",
      "Epoch 81: val_loss improved from 1.20575 to 1.20450, saving model to ../../artifacts/checkpoints\\checkpoint_InceptionV3\n"
     ]
    },
    {
     "name": "stderr",
     "output_type": "stream",
     "text": [
      "WARNING:absl:Found untraced functions such as _jit_compiled_convolution_op, _jit_compiled_convolution_op, _jit_compiled_convolution_op, _jit_compiled_convolution_op, _jit_compiled_convolution_op while saving (showing 5 of 94). These functions will not be directly callable after loading.\n"
     ]
    },
    {
     "name": "stdout",
     "output_type": "stream",
     "text": [
      "INFO:tensorflow:Assets written to: ../../artifacts/checkpoints\\checkpoint_InceptionV3\\assets\n"
     ]
    },
    {
     "name": "stderr",
     "output_type": "stream",
     "text": [
      "INFO:tensorflow:Assets written to: ../../artifacts/checkpoints\\checkpoint_InceptionV3\\assets\n"
     ]
    },
    {
     "name": "stdout",
     "output_type": "stream",
     "text": [
      "129/129 [==============================] - 24s 185ms/step - loss: 0.3828 - accuracy: 0.9988 - val_loss: 1.2045 - val_accuracy: 0.7465 - lr: 1.0000e-04\n",
      "Epoch 82/100\n",
      "128/129 [============================>.] - ETA: 0s - loss: 0.3799 - accuracy: 0.9998\n",
      "Epoch 82: val_loss improved from 1.20450 to 1.20195, saving model to ../../artifacts/checkpoints\\checkpoint_InceptionV3\n"
     ]
    },
    {
     "name": "stderr",
     "output_type": "stream",
     "text": [
      "WARNING:absl:Found untraced functions such as _jit_compiled_convolution_op, _jit_compiled_convolution_op, _jit_compiled_convolution_op, _jit_compiled_convolution_op, _jit_compiled_convolution_op while saving (showing 5 of 94). These functions will not be directly callable after loading.\n"
     ]
    },
    {
     "name": "stdout",
     "output_type": "stream",
     "text": [
      "INFO:tensorflow:Assets written to: ../../artifacts/checkpoints\\checkpoint_InceptionV3\\assets\n"
     ]
    },
    {
     "name": "stderr",
     "output_type": "stream",
     "text": [
      "INFO:tensorflow:Assets written to: ../../artifacts/checkpoints\\checkpoint_InceptionV3\\assets\n"
     ]
    },
    {
     "name": "stdout",
     "output_type": "stream",
     "text": [
      "129/129 [==============================] - 24s 184ms/step - loss: 0.3801 - accuracy: 0.9998 - val_loss: 1.2019 - val_accuracy: 0.7512 - lr: 1.0000e-04\n",
      "Epoch 83/100\n",
      "128/129 [============================>.] - ETA: 0s - loss: 0.3786 - accuracy: 0.9983\n",
      "Epoch 83: val_loss improved from 1.20195 to 1.19788, saving model to ../../artifacts/checkpoints\\checkpoint_InceptionV3\n"
     ]
    },
    {
     "name": "stderr",
     "output_type": "stream",
     "text": [
      "WARNING:absl:Found untraced functions such as _jit_compiled_convolution_op, _jit_compiled_convolution_op, _jit_compiled_convolution_op, _jit_compiled_convolution_op, _jit_compiled_convolution_op while saving (showing 5 of 94). These functions will not be directly callable after loading.\n"
     ]
    },
    {
     "name": "stdout",
     "output_type": "stream",
     "text": [
      "INFO:tensorflow:Assets written to: ../../artifacts/checkpoints\\checkpoint_InceptionV3\\assets\n"
     ]
    },
    {
     "name": "stderr",
     "output_type": "stream",
     "text": [
      "INFO:tensorflow:Assets written to: ../../artifacts/checkpoints\\checkpoint_InceptionV3\\assets\n"
     ]
    },
    {
     "name": "stdout",
     "output_type": "stream",
     "text": [
      "129/129 [==============================] - 24s 187ms/step - loss: 0.3788 - accuracy: 0.9983 - val_loss: 1.1979 - val_accuracy: 0.7465 - lr: 1.0000e-04\n",
      "Epoch 84/100\n",
      "128/129 [============================>.] - ETA: 0s - loss: 0.3735 - accuracy: 1.0000\n",
      "Epoch 84: val_loss improved from 1.19788 to 1.19124, saving model to ../../artifacts/checkpoints\\checkpoint_InceptionV3\n"
     ]
    },
    {
     "name": "stderr",
     "output_type": "stream",
     "text": [
      "WARNING:absl:Found untraced functions such as _jit_compiled_convolution_op, _jit_compiled_convolution_op, _jit_compiled_convolution_op, _jit_compiled_convolution_op, _jit_compiled_convolution_op while saving (showing 5 of 94). These functions will not be directly callable after loading.\n"
     ]
    },
    {
     "name": "stdout",
     "output_type": "stream",
     "text": [
      "INFO:tensorflow:Assets written to: ../../artifacts/checkpoints\\checkpoint_InceptionV3\\assets\n"
     ]
    },
    {
     "name": "stderr",
     "output_type": "stream",
     "text": [
      "INFO:tensorflow:Assets written to: ../../artifacts/checkpoints\\checkpoint_InceptionV3\\assets\n"
     ]
    },
    {
     "name": "stdout",
     "output_type": "stream",
     "text": [
      "129/129 [==============================] - 24s 184ms/step - loss: 0.3740 - accuracy: 1.0000 - val_loss: 1.1912 - val_accuracy: 0.7465 - lr: 1.0000e-04\n",
      "Epoch 85/100\n",
      "128/129 [============================>.] - ETA: 0s - loss: 0.3763 - accuracy: 0.9983\n",
      "Epoch 85: val_loss did not improve from 1.19124\n",
      "129/129 [==============================] - 9s 68ms/step - loss: 0.3768 - accuracy: 0.9981 - val_loss: 1.1923 - val_accuracy: 0.7419 - lr: 1.0000e-04\n",
      "Epoch 86/100\n",
      "128/129 [============================>.] - ETA: 0s - loss: 0.3700 - accuracy: 0.9993\n",
      "Epoch 86: val_loss did not improve from 1.19124\n",
      "129/129 [==============================] - 9s 68ms/step - loss: 0.3702 - accuracy: 0.9993 - val_loss: 1.1955 - val_accuracy: 0.7465 - lr: 1.0000e-04\n",
      "Epoch 87/100\n",
      "128/129 [============================>.] - ETA: 0s - loss: 0.3696 - accuracy: 0.9985\n",
      "Epoch 87: val_loss did not improve from 1.19124\n",
      "129/129 [==============================] - 9s 67ms/step - loss: 0.3703 - accuracy: 0.9983 - val_loss: 1.1955 - val_accuracy: 0.7465 - lr: 1.0000e-04\n",
      "Epoch 88/100\n",
      "128/129 [============================>.] - ETA: 0s - loss: 0.3670 - accuracy: 0.9990\n",
      "Epoch 88: val_loss did not improve from 1.19124\n",
      "129/129 [==============================] - 9s 68ms/step - loss: 0.3671 - accuracy: 0.9990 - val_loss: 1.1923 - val_accuracy: 0.7465 - lr: 5.0000e-05\n",
      "Epoch 89/100\n",
      "128/129 [============================>.] - ETA: 0s - loss: 0.3664 - accuracy: 0.9995\n",
      "Epoch 89: val_loss did not improve from 1.19124\n",
      "129/129 [==============================] - 9s 68ms/step - loss: 0.3665 - accuracy: 0.9995 - val_loss: 1.1944 - val_accuracy: 0.7465 - lr: 5.0000e-05\n",
      "Epoch 90/100\n",
      "128/129 [============================>.] - ETA: 0s - loss: 0.3695 - accuracy: 0.9990\n",
      "Epoch 90: val_loss did not improve from 1.19124\n",
      "129/129 [==============================] - 9s 68ms/step - loss: 0.3706 - accuracy: 0.9985 - val_loss: 1.1939 - val_accuracy: 0.7465 - lr: 5.0000e-05\n",
      "Epoch 91/100\n",
      "128/129 [============================>.] - ETA: 0s - loss: 0.3690 - accuracy: 0.9983\n",
      "Epoch 91: val_loss did not improve from 1.19124\n",
      "129/129 [==============================] - 9s 68ms/step - loss: 0.3693 - accuracy: 0.9983 - val_loss: 1.1926 - val_accuracy: 0.7465 - lr: 2.5000e-05\n",
      "Epoch 92/100\n",
      "128/129 [============================>.] - ETA: 0s - loss: 0.3654 - accuracy: 0.9983\n",
      "Epoch 92: val_loss did not improve from 1.19124\n",
      "129/129 [==============================] - 9s 68ms/step - loss: 0.3655 - accuracy: 0.9983 - val_loss: 1.1917 - val_accuracy: 0.7465 - lr: 2.5000e-05\n",
      "Epoch 93/100\n",
      "128/129 [============================>.] - ETA: 0s - loss: 0.3633 - accuracy: 0.9995\n",
      "Epoch 93: val_loss did not improve from 1.19124\n",
      "129/129 [==============================] - 9s 68ms/step - loss: 0.3635 - accuracy: 0.9995 - val_loss: 1.1920 - val_accuracy: 0.7465 - lr: 2.5000e-05\n",
      "Epoch 94/100\n",
      "128/129 [============================>.] - ETA: 0s - loss: 0.3633 - accuracy: 0.9993\n",
      "Epoch 94: val_loss improved from 1.19124 to 1.18744, saving model to ../../artifacts/checkpoints\\checkpoint_InceptionV3\n"
     ]
    },
    {
     "name": "stderr",
     "output_type": "stream",
     "text": [
      "WARNING:absl:Found untraced functions such as _jit_compiled_convolution_op, _jit_compiled_convolution_op, _jit_compiled_convolution_op, _jit_compiled_convolution_op, _jit_compiled_convolution_op while saving (showing 5 of 94). These functions will not be directly callable after loading.\n"
     ]
    },
    {
     "name": "stdout",
     "output_type": "stream",
     "text": [
      "INFO:tensorflow:Assets written to: ../../artifacts/checkpoints\\checkpoint_InceptionV3\\assets\n"
     ]
    },
    {
     "name": "stderr",
     "output_type": "stream",
     "text": [
      "INFO:tensorflow:Assets written to: ../../artifacts/checkpoints\\checkpoint_InceptionV3\\assets\n"
     ]
    },
    {
     "name": "stdout",
     "output_type": "stream",
     "text": [
      "129/129 [==============================] - 24s 185ms/step - loss: 0.3637 - accuracy: 0.9990 - val_loss: 1.1874 - val_accuracy: 0.7465 - lr: 1.2500e-05\n",
      "Epoch 95/100\n",
      "128/129 [============================>.] - ETA: 0s - loss: 0.3636 - accuracy: 0.9993\n",
      "Epoch 95: val_loss did not improve from 1.18744\n",
      "129/129 [==============================] - 9s 69ms/step - loss: 0.3640 - accuracy: 0.9993 - val_loss: 1.1880 - val_accuracy: 0.7465 - lr: 1.2500e-05\n",
      "Epoch 96/100\n",
      "128/129 [============================>.] - ETA: 0s - loss: 0.3615 - accuracy: 0.9995\n",
      "Epoch 96: val_loss did not improve from 1.18744\n",
      "129/129 [==============================] - 9s 68ms/step - loss: 0.3625 - accuracy: 0.9993 - val_loss: 1.1895 - val_accuracy: 0.7465 - lr: 1.2500e-05\n",
      "Epoch 97/100\n",
      "128/129 [============================>.] - ETA: 0s - loss: 0.3640 - accuracy: 0.9993\n",
      "Epoch 97: val_loss did not improve from 1.18744\n",
      "129/129 [==============================] - 9s 68ms/step - loss: 0.3640 - accuracy: 0.9993 - val_loss: 1.1876 - val_accuracy: 0.7465 - lr: 1.2500e-05\n",
      "Epoch 98/100\n",
      "128/129 [============================>.] - ETA: 0s - loss: 0.3621 - accuracy: 1.0000\n",
      "Epoch 98: val_loss improved from 1.18744 to 1.18735, saving model to ../../artifacts/checkpoints\\checkpoint_InceptionV3\n"
     ]
    },
    {
     "name": "stderr",
     "output_type": "stream",
     "text": [
      "WARNING:absl:Found untraced functions such as _jit_compiled_convolution_op, _jit_compiled_convolution_op, _jit_compiled_convolution_op, _jit_compiled_convolution_op, _jit_compiled_convolution_op while saving (showing 5 of 94). These functions will not be directly callable after loading.\n"
     ]
    },
    {
     "name": "stdout",
     "output_type": "stream",
     "text": [
      "INFO:tensorflow:Assets written to: ../../artifacts/checkpoints\\checkpoint_InceptionV3\\assets\n"
     ]
    },
    {
     "name": "stderr",
     "output_type": "stream",
     "text": [
      "INFO:tensorflow:Assets written to: ../../artifacts/checkpoints\\checkpoint_InceptionV3\\assets\n"
     ]
    },
    {
     "name": "stdout",
     "output_type": "stream",
     "text": [
      "129/129 [==============================] - 25s 192ms/step - loss: 0.3628 - accuracy: 0.9998 - val_loss: 1.1873 - val_accuracy: 0.7465 - lr: 6.2500e-06\n",
      "Epoch 99/100\n",
      "128/129 [============================>.] - ETA: 0s - loss: 0.3664 - accuracy: 0.9988\n",
      "Epoch 99: val_loss improved from 1.18735 to 1.18699, saving model to ../../artifacts/checkpoints\\checkpoint_InceptionV3\n"
     ]
    },
    {
     "name": "stderr",
     "output_type": "stream",
     "text": [
      "WARNING:absl:Found untraced functions such as _jit_compiled_convolution_op, _jit_compiled_convolution_op, _jit_compiled_convolution_op, _jit_compiled_convolution_op, _jit_compiled_convolution_op while saving (showing 5 of 94). These functions will not be directly callable after loading.\n"
     ]
    },
    {
     "name": "stdout",
     "output_type": "stream",
     "text": [
      "INFO:tensorflow:Assets written to: ../../artifacts/checkpoints\\checkpoint_InceptionV3\\assets\n"
     ]
    },
    {
     "name": "stderr",
     "output_type": "stream",
     "text": [
      "INFO:tensorflow:Assets written to: ../../artifacts/checkpoints\\checkpoint_InceptionV3\\assets\n"
     ]
    },
    {
     "name": "stdout",
     "output_type": "stream",
     "text": [
      "129/129 [==============================] - 24s 186ms/step - loss: 0.3670 - accuracy: 0.9985 - val_loss: 1.1870 - val_accuracy: 0.7465 - lr: 6.2500e-06\n",
      "Epoch 100/100\n",
      "128/129 [============================>.] - ETA: 0s - loss: 0.3631 - accuracy: 0.9995\n",
      "Epoch 100: val_loss did not improve from 1.18699\n",
      "129/129 [==============================] - 9s 68ms/step - loss: 0.3636 - accuracy: 0.9995 - val_loss: 1.1894 - val_accuracy: 0.7465 - lr: 6.2500e-06\n",
      "Saving model to \"artifacts/models/InceptionV3.h5\"...\n",
      "Model saved successfully!\n",
      "Saving history to \"artifacts/model_histories/history_InceptionV3\"...\n",
      "History saved successfully!\n"
     ]
    }
   ],
   "source": [
    "inceptionV3_wrapper.train_and_save_model_and_history(batch_size=32)"
   ]
  },
  {
   "cell_type": "code",
   "execution_count": 10,
   "metadata": {},
   "outputs": [
    {
     "name": "stdout",
     "output_type": "stream",
     "text": [
      "Loading model from \"../../artifacts/models/InceptionV3.h5\"...\n",
      "Model loaded successfully!\n",
      "Loading history from \"../../artifacts/model_histories/history_InceptionV3\"...\n",
      "History loaded successfully!\n"
     ]
    }
   ],
   "source": [
    "inceptionV3_wrapper.load_model_and_history()"
   ]
  },
  {
   "cell_type": "code",
   "execution_count": 11,
   "metadata": {},
   "outputs": [
    {
     "data": {
      "image/png": "[encoded data removed]",
      "text/plain": [
       "<Figure size 640x480 with 1 Axes>"
      ]
     },
     "metadata": {},
     "output_type": "display_data"
    }
   ],
   "source": [
    "inceptionV3_wrapper.plot_accuracy()"
   ]
  },
  {
   "cell_type": "code",
   "execution_count": 12,
   "metadata": {},
   "outputs": [
    {
     "data": {
      "image/png": "[encoded data removed]",
      "text/plain": [
       "<Figure size 640x480 with 1 Axes>"
      ]
     },
     "metadata": {},
     "output_type": "display_data"
    }
   ],
   "source": [
    "inceptionV3_wrapper.plot_loss()"
   ]
  },
  {
   "cell_type": "code",
   "execution_count": 13,
   "metadata": {},
   "outputs": [
    {
     "name": "stdout",
     "output_type": "stream",
     "text": [
      "20/20 [==============================] - 1s 31ms/step - loss: 1.1455 - accuracy: 0.7625\n",
      "Loss: 1.1455\n",
      "Accuracy: 0.7625\n",
      "20/20 [==============================] - 1s 20ms/step\n",
      "Classification Report:\n",
      "              precision    recall  f1-score   support\n",
      "\n",
      "           0       0.95      0.78      0.86        23\n",
      "           1       0.95      0.72      0.82        25\n",
      "           2       0.79      0.88      0.84        52\n",
      "           3       0.86      0.84      0.85        38\n",
      "           4       0.82      0.67      0.73        27\n",
      "           5       0.57      0.80      0.67        35\n",
      "           6       0.71      0.64      0.67        45\n",
      "           7       0.75      0.90      0.82        10\n",
      "           8       1.00      0.75      0.86        12\n",
      "           9       1.00      0.82      0.90        11\n",
      "          10       0.72      0.57      0.63        23\n",
      "          11       0.73      0.92      0.81        26\n",
      "          12       0.69      0.69      0.69        32\n",
      "          13       0.67      0.80      0.73        15\n",
      "          14       0.79      0.65      0.71        17\n",
      "          15       0.63      0.75      0.69        16\n",
      "          16       0.62      0.77      0.69        13\n",
      "          17       0.78      0.67      0.72        21\n",
      "          18       0.61      0.61      0.61        18\n",
      "          19       0.77      0.95      0.85        21\n",
      "          20       0.73      0.92      0.81        12\n",
      "          21       0.80      0.74      0.76        53\n",
      "          22       0.80      0.63      0.71        19\n",
      "          23       0.80      0.71      0.75        17\n",
      "          24       0.87      0.87      0.87        38\n",
      "\n",
      "    accuracy                           0.76       619\n",
      "   macro avg       0.78      0.76      0.76       619\n",
      "weighted avg       0.77      0.76      0.76       619\n",
      "\n"
     ]
    },
    {
     "data": {
      "image/png": "[encoded data removed]",
      "text/plain": [
       "<Figure size 1500x1000 with 2 Axes>"
      ]
     },
     "metadata": {},
     "output_type": "display_data"
    }
   ],
   "source": [
    "inceptionV3_wrapper.display_evaluation_results()"
   ]
  },
  {
   "cell_type": "code",
   "execution_count": null,
   "metadata": {},
   "outputs": [],
   "source": []
  }
 ],
 "metadata": {
  "kernelspec": {
   "display_name": "ML-projekat",
   "language": "python",
   "name": "python3"
  },
  "language_info": {
   "codemirror_mode": {
    "name": "ipython",
    "version": 3
   },
   "file_extension": ".py",
   "mimetype": "text/x-python",
   "name": "python",
   "nbconvert_exporter": "python",
   "pygments_lexer": "ipython3",
   "version": "3.9.17"
  },
  "orig_nbformat": 4
 },
 "nbformat": 4,
 "nbformat_minor": 2
}
