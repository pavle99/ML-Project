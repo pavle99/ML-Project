{
 "cells": [
  {
   "cell_type": "code",
   "execution_count": 1,
   "metadata": {},
   "outputs": [],
   "source": [
    "import sys\n",
    "\n",
    "sys.path.append(\"..\")"
   ]
  },
  {
   "cell_type": "code",
   "execution_count": 2,
   "metadata": {},
   "outputs": [],
   "source": [
    "from tensorflow import keras"
   ]
  },
  {
   "cell_type": "code",
   "execution_count": 3,
   "metadata": {},
   "outputs": [],
   "source": [
    "from utils.preprocessing_utils import PreprocessingUtils"
   ]
  },
  {
   "cell_type": "code",
   "execution_count": 4,
   "metadata": {},
   "outputs": [],
   "source": [
    "from utils.model_wrapper import ModelWrapper"
   ]
  },
  {
   "cell_type": "code",
   "execution_count": 5,
   "metadata": {},
   "outputs": [
    {
     "name": "stdout",
     "output_type": "stream",
     "text": [
      "Files already exist, skipping...\n",
      "Loading images and labels...\n",
      "Images and labels loaded successfully!\n",
      "Preprocessing labels...\n",
      "Labels preprocessed successfully!\n",
      "Splitting data into train, test and validation sets...\n",
      "Data split successfully!\n"
     ]
    }
   ],
   "source": [
    "preprocessing_utils = PreprocessingUtils()"
   ]
  },
  {
   "cell_type": "code",
   "execution_count": 6,
   "metadata": {},
   "outputs": [],
   "source": [
    "def build_inceptionV3(model_name: str):\n",
    "    model = keras.models.Sequential(\n",
    "        name=model_name,\n",
    "        layers=[\n",
    "            keras.applications.inception_v3.InceptionV3(\n",
    "                weights=\"imagenet\", include_top=False, input_shape=preprocessing_utils.images.shape[1:]\n",
    "            ),\n",
    "            keras.layers.GlobalAveragePooling2D(),\n",
    "            keras.layers.Dense(128, activation=\"relu\"),\n",
    "            keras.layers.Dropout(0.2),\n",
    "            keras.layers.Dense(\n",
    "                preprocessing_utils.num_classes, kernel_regularizer=keras.regularizers.l2(0.01), activation=\"softmax\"\n",
    "            ),\n",
    "        ],\n",
    "    )\n",
    "\n",
    "    model.compile(\n",
    "        optimizer=keras.optimizers.SGD(learning_rate=0.0001, momentum=0.9),\n",
    "        loss=\"categorical_crossentropy\",\n",
    "        metrics=[\"accuracy\"],\n",
    "    )\n",
    "\n",
    "    model.summary()\n",
    "\n",
    "    return model"
   ]
  },
  {
   "cell_type": "code",
   "execution_count": 7,
   "metadata": {},
   "outputs": [],
   "source": [
    "inceptionV3_wrapper = ModelWrapper(\"InceptionV3\", preprocessing_utils=preprocessing_utils)"
   ]
  },
  {
   "cell_type": "code",
   "execution_count": 8,
   "metadata": {},
   "outputs": [
    {
     "name": "stdout",
     "output_type": "stream",
     "text": [
      "Building model...\n",
      "Model: \"InceptionV3\"\n",
      "_________________________________________________________________\n",
      " Layer (type)                Output Shape              Param #   \n",
      "=================================================================\n",
      " inception_v3 (Functional)   (None, 6, 6, 2048)        21802784  \n",
      "                                                                 \n",
      " global_average_pooling2d (G  (None, 2048)             0         \n",
      " lobalAveragePooling2D)                                          \n",
      "                                                                 \n",
      " dense (Dense)               (None, 128)               262272    \n",
      "                                                                 \n",
      " dropout (Dropout)           (None, 128)               0         \n",
      "                                                                 \n",
      " dense_1 (Dense)             (None, 25)                3225      \n",
      "                                                                 \n",
      "=================================================================\n",
      "Total params: 22,068,281\n",
      "Trainable params: 22,033,849\n",
      "Non-trainable params: 34,432\n",
      "_________________________________________________________________\n",
      "Model built successfully!\n",
      "Saving model summary to ../../artifacts/model_summaries/summary_InceptionV3...\n",
      "Model summary saved successfully!\n"
     ]
    }
   ],
   "source": [
    "inceptionV3_wrapper.build_model(build_fn=build_inceptionV3, model_name=inceptionV3_wrapper.model_name)"
   ]
  },
  {
   "cell_type": "code",
   "execution_count": 9,
   "metadata": {},
   "outputs": [
    {
     "name": "stdout",
     "output_type": "stream",
     "text": [
      "Epoch 1/100\n",
      "129/129 [==============================] - ETA: 0s - loss: 3.6318 - accuracy: 0.0669\n",
      "Epoch 1: val_loss improved from inf to 3.46902, saving model to ../../artifacts/checkpoints\\checkpoint_InceptionV3\n"
     ]
    },
    {
     "name": "stderr",
     "output_type": "stream",
     "text": [
      "WARNING:absl:Found untraced functions such as _jit_compiled_convolution_op, _jit_compiled_convolution_op, _jit_compiled_convolution_op, _jit_compiled_convolution_op, _jit_compiled_convolution_op while saving (showing 5 of 94). These functions will not be directly callable after loading.\n"
     ]
    },
    {
     "name": "stdout",
     "output_type": "stream",
     "text": [
      "INFO:tensorflow:Assets written to: ../../artifacts/checkpoints\\checkpoint_InceptionV3\\assets\n"
     ]
    },
    {
     "name": "stderr",
     "output_type": "stream",
     "text": [
      "INFO:tensorflow:Assets written to: ../../artifacts/checkpoints\\checkpoint_InceptionV3\\assets\n"
     ]
    },
    {
     "name": "stdout",
     "output_type": "stream",
     "text": [
      "129/129 [==============================] - 46s 301ms/step - loss: 3.6318 - accuracy: 0.0669 - val_loss: 3.4690 - val_accuracy: 0.1198 - lr: 1.0000e-04\n",
      "Epoch 2/100\n",
      "129/129 [==============================] - ETA: 0s - loss: 3.4318 - accuracy: 0.1428\n",
      "Epoch 2: val_loss improved from 3.46902 to 3.34970, saving model to ../../artifacts/checkpoints\\checkpoint_InceptionV3\n"
     ]
    },
    {
     "name": "stderr",
     "output_type": "stream",
     "text": [
      "WARNING:absl:Found untraced functions such as _jit_compiled_convolution_op, _jit_compiled_convolution_op, _jit_compiled_convolution_op, _jit_compiled_convolution_op, _jit_compiled_convolution_op while saving (showing 5 of 94). These functions will not be directly callable after loading.\n"
     ]
    },
    {
     "name": "stdout",
     "output_type": "stream",
     "text": [
      "INFO:tensorflow:Assets written to: ../../artifacts/checkpoints\\checkpoint_InceptionV3\\assets\n"
     ]
    },
    {
     "name": "stderr",
     "output_type": "stream",
     "text": [
      "INFO:tensorflow:Assets written to: ../../artifacts/checkpoints\\checkpoint_InceptionV3\\assets\n"
     ]
    },
    {
     "name": "stdout",
     "output_type": "stream",
     "text": [
      "129/129 [==============================] - 38s 298ms/step - loss: 3.4318 - accuracy: 0.1428 - val_loss: 3.3497 - val_accuracy: 0.1935 - lr: 1.0000e-04\n",
      "Epoch 3/100\n",
      "129/129 [==============================] - ETA: 0s - loss: 3.2604 - accuracy: 0.2009\n",
      "Epoch 3: val_loss improved from 3.34970 to 3.22524, saving model to ../../artifacts/checkpoints\\checkpoint_InceptionV3\n"
     ]
    },
    {
     "name": "stderr",
     "output_type": "stream",
     "text": [
      "WARNING:absl:Found untraced functions such as _jit_compiled_convolution_op, _jit_compiled_convolution_op, _jit_compiled_convolution_op, _jit_compiled_convolution_op, _jit_compiled_convolution_op while saving (showing 5 of 94). These functions will not be directly callable after loading.\n"
     ]
    },
    {
     "name": "stdout",
     "output_type": "stream",
     "text": [
      "INFO:tensorflow:Assets written to: ../../artifacts/checkpoints\\checkpoint_InceptionV3\\assets\n"
     ]
    },
    {
     "name": "stderr",
     "output_type": "stream",
     "text": [
      "INFO:tensorflow:Assets written to: ../../artifacts/checkpoints\\checkpoint_InceptionV3\\assets\n"
     ]
    },
    {
     "name": "stdout",
     "output_type": "stream",
     "text": [
      "129/129 [==============================] - 38s 295ms/step - loss: 3.2604 - accuracy: 0.2009 - val_loss: 3.2252 - val_accuracy: 0.2212 - lr: 1.0000e-04\n",
      "Epoch 4/100\n",
      "129/129 [==============================] - ETA: 0s - loss: 3.0843 - accuracy: 0.2685\n",
      "Epoch 4: val_loss improved from 3.22524 to 3.08854, saving model to ../../artifacts/checkpoints\\checkpoint_InceptionV3\n"
     ]
    },
    {
     "name": "stderr",
     "output_type": "stream",
     "text": [
      "WARNING:absl:Found untraced functions such as _jit_compiled_convolution_op, _jit_compiled_convolution_op, _jit_compiled_convolution_op, _jit_compiled_convolution_op, _jit_compiled_convolution_op while saving (showing 5 of 94). These functions will not be directly callable after loading.\n"
     ]
    },
    {
     "name": "stdout",
     "output_type": "stream",
     "text": [
      "INFO:tensorflow:Assets written to: ../../artifacts/checkpoints\\checkpoint_InceptionV3\\assets\n"
     ]
    },
    {
     "name": "stderr",
     "output_type": "stream",
     "text": [
      "INFO:tensorflow:Assets written to: ../../artifacts/checkpoints\\checkpoint_InceptionV3\\assets\n"
     ]
    },
    {
     "name": "stdout",
     "output_type": "stream",
     "text": [
      "129/129 [==============================] - 39s 299ms/step - loss: 3.0843 - accuracy: 0.2685 - val_loss: 3.0885 - val_accuracy: 0.2581 - lr: 1.0000e-04\n",
      "Epoch 5/100\n",
      "129/129 [==============================] - ETA: 0s - loss: 2.9008 - accuracy: 0.3184\n",
      "Epoch 5: val_loss improved from 3.08854 to 2.93158, saving model to ../../artifacts/checkpoints\\checkpoint_InceptionV3\n"
     ]
    },
    {
     "name": "stderr",
     "output_type": "stream",
     "text": [
      "WARNING:absl:Found untraced functions such as _jit_compiled_convolution_op, _jit_compiled_convolution_op, _jit_compiled_convolution_op, _jit_compiled_convolution_op, _jit_compiled_convolution_op while saving (showing 5 of 94). These functions will not be directly callable after loading.\n"
     ]
    },
    {
     "name": "stdout",
     "output_type": "stream",
     "text": [
      "INFO:tensorflow:Assets written to: ../../artifacts/checkpoints\\checkpoint_InceptionV3\\assets\n"
     ]
    },
    {
     "name": "stderr",
     "output_type": "stream",
     "text": [
      "INFO:tensorflow:Assets written to: ../../artifacts/checkpoints\\checkpoint_InceptionV3\\assets\n"
     ]
    },
    {
     "name": "stdout",
     "output_type": "stream",
     "text": [
      "129/129 [==============================] - 37s 284ms/step - loss: 2.9008 - accuracy: 0.3184 - val_loss: 2.9316 - val_accuracy: 0.3041 - lr: 1.0000e-04\n",
      "Epoch 6/100\n",
      "129/129 [==============================] - ETA: 0s - loss: 2.7213 - accuracy: 0.3697\n",
      "Epoch 6: val_loss improved from 2.93158 to 2.78102, saving model to ../../artifacts/checkpoints\\checkpoint_InceptionV3\n"
     ]
    },
    {
     "name": "stderr",
     "output_type": "stream",
     "text": [
      "WARNING:absl:Found untraced functions such as _jit_compiled_convolution_op, _jit_compiled_convolution_op, _jit_compiled_convolution_op, _jit_compiled_convolution_op, _jit_compiled_convolution_op while saving (showing 5 of 94). These functions will not be directly callable after loading.\n"
     ]
    },
    {
     "name": "stdout",
     "output_type": "stream",
     "text": [
      "INFO:tensorflow:Assets written to: ../../artifacts/checkpoints\\checkpoint_InceptionV3\\assets\n"
     ]
    },
    {
     "name": "stderr",
     "output_type": "stream",
     "text": [
      "INFO:tensorflow:Assets written to: ../../artifacts/checkpoints\\checkpoint_InceptionV3\\assets\n"
     ]
    },
    {
     "name": "stdout",
     "output_type": "stream",
     "text": [
      "129/129 [==============================] - 37s 286ms/step - loss: 2.7213 - accuracy: 0.3697 - val_loss: 2.7810 - val_accuracy: 0.3364 - lr: 1.0000e-04\n",
      "Epoch 7/100\n",
      "129/129 [==============================] - ETA: 0s - loss: 2.5565 - accuracy: 0.4172\n",
      "Epoch 7: val_loss improved from 2.78102 to 2.63733, saving model to ../../artifacts/checkpoints\\checkpoint_InceptionV3\n"
     ]
    },
    {
     "name": "stderr",
     "output_type": "stream",
     "text": [
      "WARNING:absl:Found untraced functions such as _jit_compiled_convolution_op, _jit_compiled_convolution_op, _jit_compiled_convolution_op, _jit_compiled_convolution_op, _jit_compiled_convolution_op while saving (showing 5 of 94). These functions will not be directly callable after loading.\n"
     ]
    },
    {
     "name": "stdout",
     "output_type": "stream",
     "text": [
      "INFO:tensorflow:Assets written to: ../../artifacts/checkpoints\\checkpoint_InceptionV3\\assets\n"
     ]
    },
    {
     "name": "stderr",
     "output_type": "stream",
     "text": [
      "INFO:tensorflow:Assets written to: ../../artifacts/checkpoints\\checkpoint_InceptionV3\\assets\n"
     ]
    },
    {
     "name": "stdout",
     "output_type": "stream",
     "text": [
      "129/129 [==============================] - 37s 283ms/step - loss: 2.5565 - accuracy: 0.4172 - val_loss: 2.6373 - val_accuracy: 0.3779 - lr: 1.0000e-04\n",
      "Epoch 8/100\n",
      "129/129 [==============================] - ETA: 0s - loss: 2.4052 - accuracy: 0.4634\n",
      "Epoch 8: val_loss improved from 2.63733 to 2.52215, saving model to ../../artifacts/checkpoints\\checkpoint_InceptionV3\n"
     ]
    },
    {
     "name": "stderr",
     "output_type": "stream",
     "text": [
      "WARNING:absl:Found untraced functions such as _jit_compiled_convolution_op, _jit_compiled_convolution_op, _jit_compiled_convolution_op, _jit_compiled_convolution_op, _jit_compiled_convolution_op while saving (showing 5 of 94). These functions will not be directly callable after loading.\n"
     ]
    },
    {
     "name": "stdout",
     "output_type": "stream",
     "text": [
      "INFO:tensorflow:Assets written to: ../../artifacts/checkpoints\\checkpoint_InceptionV3\\assets\n"
     ]
    },
    {
     "name": "stderr",
     "output_type": "stream",
     "text": [
      "INFO:tensorflow:Assets written to: ../../artifacts/checkpoints\\checkpoint_InceptionV3\\assets\n"
     ]
    },
    {
     "name": "stdout",
     "output_type": "stream",
     "text": [
      "129/129 [==============================] - 38s 291ms/step - loss: 2.4052 - accuracy: 0.4634 - val_loss: 2.5221 - val_accuracy: 0.4101 - lr: 1.0000e-04\n",
      "Epoch 9/100\n",
      "129/129 [==============================] - ETA: 0s - loss: 2.2463 - accuracy: 0.5198\n",
      "Epoch 9: val_loss improved from 2.52215 to 2.39413, saving model to ../../artifacts/checkpoints\\checkpoint_InceptionV3\n"
     ]
    },
    {
     "name": "stderr",
     "output_type": "stream",
     "text": [
      "WARNING:absl:Found untraced functions such as _jit_compiled_convolution_op, _jit_compiled_convolution_op, _jit_compiled_convolution_op, _jit_compiled_convolution_op, _jit_compiled_convolution_op while saving (showing 5 of 94). These functions will not be directly callable after loading.\n"
     ]
    },
    {
     "name": "stdout",
     "output_type": "stream",
     "text": [
      "INFO:tensorflow:Assets written to: ../../artifacts/checkpoints\\checkpoint_InceptionV3\\assets\n"
     ]
    },
    {
     "name": "stderr",
     "output_type": "stream",
     "text": [
      "INFO:tensorflow:Assets written to: ../../artifacts/checkpoints\\checkpoint_InceptionV3\\assets\n"
     ]
    },
    {
     "name": "stdout",
     "output_type": "stream",
     "text": [
      "129/129 [==============================] - 37s 287ms/step - loss: 2.2463 - accuracy: 0.5198 - val_loss: 2.3941 - val_accuracy: 0.4700 - lr: 1.0000e-04\n",
      "Epoch 10/100\n",
      "129/129 [==============================] - ETA: 0s - loss: 2.1070 - accuracy: 0.5532\n",
      "Epoch 10: val_loss improved from 2.39413 to 2.28327, saving model to ../../artifacts/checkpoints\\checkpoint_InceptionV3\n"
     ]
    },
    {
     "name": "stderr",
     "output_type": "stream",
     "text": [
      "WARNING:absl:Found untraced functions such as _jit_compiled_convolution_op, _jit_compiled_convolution_op, _jit_compiled_convolution_op, _jit_compiled_convolution_op, _jit_compiled_convolution_op while saving (showing 5 of 94). These functions will not be directly callable after loading.\n"
     ]
    },
    {
     "name": "stdout",
     "output_type": "stream",
     "text": [
      "INFO:tensorflow:Assets written to: ../../artifacts/checkpoints\\checkpoint_InceptionV3\\assets\n"
     ]
    },
    {
     "name": "stderr",
     "output_type": "stream",
     "text": [
      "INFO:tensorflow:Assets written to: ../../artifacts/checkpoints\\checkpoint_InceptionV3\\assets\n"
     ]
    },
    {
     "name": "stdout",
     "output_type": "stream",
     "text": [
      "129/129 [==============================] - 37s 285ms/step - loss: 2.1070 - accuracy: 0.5532 - val_loss: 2.2833 - val_accuracy: 0.5207 - lr: 1.0000e-04\n",
      "Epoch 11/100\n",
      "129/129 [==============================] - ETA: 0s - loss: 1.9772 - accuracy: 0.6045\n",
      "Epoch 11: val_loss improved from 2.28327 to 2.18383, saving model to ../../artifacts/checkpoints\\checkpoint_InceptionV3\n"
     ]
    },
    {
     "name": "stderr",
     "output_type": "stream",
     "text": [
      "WARNING:absl:Found untraced functions such as _jit_compiled_convolution_op, _jit_compiled_convolution_op, _jit_compiled_convolution_op, _jit_compiled_convolution_op, _jit_compiled_convolution_op while saving (showing 5 of 94). These functions will not be directly callable after loading.\n"
     ]
    },
    {
     "name": "stdout",
     "output_type": "stream",
     "text": [
      "INFO:tensorflow:Assets written to: ../../artifacts/checkpoints\\checkpoint_InceptionV3\\assets\n"
     ]
    },
    {
     "name": "stderr",
     "output_type": "stream",
     "text": [
      "INFO:tensorflow:Assets written to: ../../artifacts/checkpoints\\checkpoint_InceptionV3\\assets\n"
     ]
    },
    {
     "name": "stdout",
     "output_type": "stream",
     "text": [
      "129/129 [==============================] - 37s 282ms/step - loss: 1.9772 - accuracy: 0.6045 - val_loss: 2.1838 - val_accuracy: 0.5438 - lr: 1.0000e-04\n",
      "Epoch 12/100\n",
      "129/129 [==============================] - ETA: 0s - loss: 1.8694 - accuracy: 0.6342\n",
      "Epoch 12: val_loss improved from 2.18383 to 2.10072, saving model to ../../artifacts/checkpoints\\checkpoint_InceptionV3\n"
     ]
    },
    {
     "name": "stderr",
     "output_type": "stream",
     "text": [
      "WARNING:absl:Found untraced functions such as _jit_compiled_convolution_op, _jit_compiled_convolution_op, _jit_compiled_convolution_op, _jit_compiled_convolution_op, _jit_compiled_convolution_op while saving (showing 5 of 94). These functions will not be directly callable after loading.\n"
     ]
    },
    {
     "name": "stdout",
     "output_type": "stream",
     "text": [
      "INFO:tensorflow:Assets written to: ../../artifacts/checkpoints\\checkpoint_InceptionV3\\assets\n"
     ]
    },
    {
     "name": "stderr",
     "output_type": "stream",
     "text": [
      "INFO:tensorflow:Assets written to: ../../artifacts/checkpoints\\checkpoint_InceptionV3\\assets\n"
     ]
    },
    {
     "name": "stdout",
     "output_type": "stream",
     "text": [
      "129/129 [==============================] - 37s 284ms/step - loss: 1.8694 - accuracy: 0.6342 - val_loss: 2.1007 - val_accuracy: 0.5530 - lr: 1.0000e-04\n",
      "Epoch 13/100\n",
      "129/129 [==============================] - ETA: 0s - loss: 1.7367 - accuracy: 0.6753\n",
      "Epoch 13: val_loss improved from 2.10072 to 2.01774, saving model to ../../artifacts/checkpoints\\checkpoint_InceptionV3\n"
     ]
    },
    {
     "name": "stderr",
     "output_type": "stream",
     "text": [
      "WARNING:absl:Found untraced functions such as _jit_compiled_convolution_op, _jit_compiled_convolution_op, _jit_compiled_convolution_op, _jit_compiled_convolution_op, _jit_compiled_convolution_op while saving (showing 5 of 94). These functions will not be directly callable after loading.\n"
     ]
    },
    {
     "name": "stdout",
     "output_type": "stream",
     "text": [
      "INFO:tensorflow:Assets written to: ../../artifacts/checkpoints\\checkpoint_InceptionV3\\assets\n"
     ]
    },
    {
     "name": "stderr",
     "output_type": "stream",
     "text": [
      "INFO:tensorflow:Assets written to: ../../artifacts/checkpoints\\checkpoint_InceptionV3\\assets\n"
     ]
    },
    {
     "name": "stdout",
     "output_type": "stream",
     "text": [
      "129/129 [==============================] - 36s 282ms/step - loss: 1.7367 - accuracy: 0.6753 - val_loss: 2.0177 - val_accuracy: 0.5714 - lr: 1.0000e-04\n",
      "Epoch 14/100\n",
      "129/129 [==============================] - ETA: 0s - loss: 1.6324 - accuracy: 0.7081\n",
      "Epoch 14: val_loss improved from 2.01774 to 1.94919, saving model to ../../artifacts/checkpoints\\checkpoint_InceptionV3\n"
     ]
    },
    {
     "name": "stderr",
     "output_type": "stream",
     "text": [
      "WARNING:absl:Found untraced functions such as _jit_compiled_convolution_op, _jit_compiled_convolution_op, _jit_compiled_convolution_op, _jit_compiled_convolution_op, _jit_compiled_convolution_op while saving (showing 5 of 94). These functions will not be directly callable after loading.\n"
     ]
    },
    {
     "name": "stdout",
     "output_type": "stream",
     "text": [
      "INFO:tensorflow:Assets written to: ../../artifacts/checkpoints\\checkpoint_InceptionV3\\assets\n"
     ]
    },
    {
     "name": "stderr",
     "output_type": "stream",
     "text": [
      "INFO:tensorflow:Assets written to: ../../artifacts/checkpoints\\checkpoint_InceptionV3\\assets\n"
     ]
    },
    {
     "name": "stdout",
     "output_type": "stream",
     "text": [
      "129/129 [==============================] - 36s 282ms/step - loss: 1.6324 - accuracy: 0.7081 - val_loss: 1.9492 - val_accuracy: 0.6083 - lr: 1.0000e-04\n",
      "Epoch 15/100\n",
      "129/129 [==============================] - ETA: 0s - loss: 1.5457 - accuracy: 0.7329\n",
      "Epoch 15: val_loss improved from 1.94919 to 1.88206, saving model to ../../artifacts/checkpoints\\checkpoint_InceptionV3\n"
     ]
    },
    {
     "name": "stderr",
     "output_type": "stream",
     "text": [
      "WARNING:absl:Found untraced functions such as _jit_compiled_convolution_op, _jit_compiled_convolution_op, _jit_compiled_convolution_op, _jit_compiled_convolution_op, _jit_compiled_convolution_op while saving (showing 5 of 94). These functions will not be directly callable after loading.\n"
     ]
    },
    {
     "name": "stdout",
     "output_type": "stream",
     "text": [
      "INFO:tensorflow:Assets written to: ../../artifacts/checkpoints\\checkpoint_InceptionV3\\assets\n"
     ]
    },
    {
     "name": "stderr",
     "output_type": "stream",
     "text": [
      "INFO:tensorflow:Assets written to: ../../artifacts/checkpoints\\checkpoint_InceptionV3\\assets\n"
     ]
    },
    {
     "name": "stdout",
     "output_type": "stream",
     "text": [
      "129/129 [==============================] - 37s 286ms/step - loss: 1.5457 - accuracy: 0.7329 - val_loss: 1.8821 - val_accuracy: 0.6313 - lr: 1.0000e-04\n",
      "Epoch 16/100\n",
      "129/129 [==============================] - ETA: 0s - loss: 1.4429 - accuracy: 0.7643\n",
      "Epoch 16: val_loss improved from 1.88206 to 1.82126, saving model to ../../artifacts/checkpoints\\checkpoint_InceptionV3\n"
     ]
    },
    {
     "name": "stderr",
     "output_type": "stream",
     "text": [
      "WARNING:absl:Found untraced functions such as _jit_compiled_convolution_op, _jit_compiled_convolution_op, _jit_compiled_convolution_op, _jit_compiled_convolution_op, _jit_compiled_convolution_op while saving (showing 5 of 94). These functions will not be directly callable after loading.\n"
     ]
    },
    {
     "name": "stdout",
     "output_type": "stream",
     "text": [
      "INFO:tensorflow:Assets written to: ../../artifacts/checkpoints\\checkpoint_InceptionV3\\assets\n"
     ]
    },
    {
     "name": "stderr",
     "output_type": "stream",
     "text": [
      "INFO:tensorflow:Assets written to: ../../artifacts/checkpoints\\checkpoint_InceptionV3\\assets\n"
     ]
    },
    {
     "name": "stdout",
     "output_type": "stream",
     "text": [
      "129/129 [==============================] - 37s 285ms/step - loss: 1.4429 - accuracy: 0.7643 - val_loss: 1.8213 - val_accuracy: 0.6406 - lr: 1.0000e-04\n",
      "Epoch 17/100\n",
      "129/129 [==============================] - ETA: 0s - loss: 1.3726 - accuracy: 0.7806\n",
      "Epoch 17: val_loss improved from 1.82126 to 1.77452, saving model to ../../artifacts/checkpoints\\checkpoint_InceptionV3\n"
     ]
    },
    {
     "name": "stderr",
     "output_type": "stream",
     "text": [
      "WARNING:absl:Found untraced functions such as _jit_compiled_convolution_op, _jit_compiled_convolution_op, _jit_compiled_convolution_op, _jit_compiled_convolution_op, _jit_compiled_convolution_op while saving (showing 5 of 94). These functions will not be directly callable after loading.\n"
     ]
    },
    {
     "name": "stdout",
     "output_type": "stream",
     "text": [
      "INFO:tensorflow:Assets written to: ../../artifacts/checkpoints\\checkpoint_InceptionV3\\assets\n"
     ]
    },
    {
     "name": "stderr",
     "output_type": "stream",
     "text": [
      "INFO:tensorflow:Assets written to: ../../artifacts/checkpoints\\checkpoint_InceptionV3\\assets\n"
     ]
    },
    {
     "name": "stdout",
     "output_type": "stream",
     "text": [
      "129/129 [==============================] - 37s 284ms/step - loss: 1.3726 - accuracy: 0.7806 - val_loss: 1.7745 - val_accuracy: 0.6452 - lr: 1.0000e-04\n",
      "Epoch 18/100\n",
      "129/129 [==============================] - ETA: 0s - loss: 1.2832 - accuracy: 0.8156\n",
      "Epoch 18: val_loss improved from 1.77452 to 1.72498, saving model to ../../artifacts/checkpoints\\checkpoint_InceptionV3\n"
     ]
    },
    {
     "name": "stderr",
     "output_type": "stream",
     "text": [
      "WARNING:absl:Found untraced functions such as _jit_compiled_convolution_op, _jit_compiled_convolution_op, _jit_compiled_convolution_op, _jit_compiled_convolution_op, _jit_compiled_convolution_op while saving (showing 5 of 94). These functions will not be directly callable after loading.\n"
     ]
    },
    {
     "name": "stdout",
     "output_type": "stream",
     "text": [
      "INFO:tensorflow:Assets written to: ../../artifacts/checkpoints\\checkpoint_InceptionV3\\assets\n"
     ]
    },
    {
     "name": "stderr",
     "output_type": "stream",
     "text": [
      "INFO:tensorflow:Assets written to: ../../artifacts/checkpoints\\checkpoint_InceptionV3\\assets\n"
     ]
    },
    {
     "name": "stdout",
     "output_type": "stream",
     "text": [
      "129/129 [==============================] - 37s 282ms/step - loss: 1.2832 - accuracy: 0.8156 - val_loss: 1.7250 - val_accuracy: 0.6498 - lr: 1.0000e-04\n",
      "Epoch 19/100\n",
      "129/129 [==============================] - ETA: 0s - loss: 1.2011 - accuracy: 0.8244\n",
      "Epoch 19: val_loss improved from 1.72498 to 1.67236, saving model to ../../artifacts/checkpoints\\checkpoint_InceptionV3\n"
     ]
    },
    {
     "name": "stderr",
     "output_type": "stream",
     "text": [
      "WARNING:absl:Found untraced functions such as _jit_compiled_convolution_op, _jit_compiled_convolution_op, _jit_compiled_convolution_op, _jit_compiled_convolution_op, _jit_compiled_convolution_op while saving (showing 5 of 94). These functions will not be directly callable after loading.\n"
     ]
    },
    {
     "name": "stdout",
     "output_type": "stream",
     "text": [
      "INFO:tensorflow:Assets written to: ../../artifacts/checkpoints\\checkpoint_InceptionV3\\assets\n"
     ]
    },
    {
     "name": "stderr",
     "output_type": "stream",
     "text": [
      "INFO:tensorflow:Assets written to: ../../artifacts/checkpoints\\checkpoint_InceptionV3\\assets\n"
     ]
    },
    {
     "name": "stdout",
     "output_type": "stream",
     "text": [
      "129/129 [==============================] - 36s 282ms/step - loss: 1.2011 - accuracy: 0.8244 - val_loss: 1.6724 - val_accuracy: 0.6728 - lr: 1.0000e-04\n",
      "Epoch 20/100\n",
      "129/129 [==============================] - ETA: 0s - loss: 1.1407 - accuracy: 0.8511\n",
      "Epoch 20: val_loss improved from 1.67236 to 1.64368, saving model to ../../artifacts/checkpoints\\checkpoint_InceptionV3\n"
     ]
    },
    {
     "name": "stderr",
     "output_type": "stream",
     "text": [
      "WARNING:absl:Found untraced functions such as _jit_compiled_convolution_op, _jit_compiled_convolution_op, _jit_compiled_convolution_op, _jit_compiled_convolution_op, _jit_compiled_convolution_op while saving (showing 5 of 94). These functions will not be directly callable after loading.\n"
     ]
    },
    {
     "name": "stdout",
     "output_type": "stream",
     "text": [
      "INFO:tensorflow:Assets written to: ../../artifacts/checkpoints\\checkpoint_InceptionV3\\assets\n"
     ]
    },
    {
     "name": "stderr",
     "output_type": "stream",
     "text": [
      "INFO:tensorflow:Assets written to: ../../artifacts/checkpoints\\checkpoint_InceptionV3\\assets\n"
     ]
    },
    {
     "name": "stdout",
     "output_type": "stream",
     "text": [
      "129/129 [==============================] - 37s 286ms/step - loss: 1.1407 - accuracy: 0.8511 - val_loss: 1.6437 - val_accuracy: 0.6774 - lr: 1.0000e-04\n",
      "Epoch 21/100\n",
      "129/129 [==============================] - ETA: 0s - loss: 1.0776 - accuracy: 0.8665\n",
      "Epoch 21: val_loss improved from 1.64368 to 1.60453, saving model to ../../artifacts/checkpoints\\checkpoint_InceptionV3\n"
     ]
    },
    {
     "name": "stderr",
     "output_type": "stream",
     "text": [
      "WARNING:absl:Found untraced functions such as _jit_compiled_convolution_op, _jit_compiled_convolution_op, _jit_compiled_convolution_op, _jit_compiled_convolution_op, _jit_compiled_convolution_op while saving (showing 5 of 94). These functions will not be directly callable after loading.\n"
     ]
    },
    {
     "name": "stdout",
     "output_type": "stream",
     "text": [
      "INFO:tensorflow:Assets written to: ../../artifacts/checkpoints\\checkpoint_InceptionV3\\assets\n"
     ]
    },
    {
     "name": "stderr",
     "output_type": "stream",
     "text": [
      "INFO:tensorflow:Assets written to: ../../artifacts/checkpoints\\checkpoint_InceptionV3\\assets\n"
     ]
    },
    {
     "name": "stdout",
     "output_type": "stream",
     "text": [
      "129/129 [==============================] - 36s 280ms/step - loss: 1.0776 - accuracy: 0.8665 - val_loss: 1.6045 - val_accuracy: 0.6820 - lr: 1.0000e-04\n",
      "Epoch 22/100\n",
      "129/129 [==============================] - ETA: 0s - loss: 1.0183 - accuracy: 0.8801\n",
      "Epoch 22: val_loss improved from 1.60453 to 1.57197, saving model to ../../artifacts/checkpoints\\checkpoint_InceptionV3\n"
     ]
    },
    {
     "name": "stderr",
     "output_type": "stream",
     "text": [
      "WARNING:absl:Found untraced functions such as _jit_compiled_convolution_op, _jit_compiled_convolution_op, _jit_compiled_convolution_op, _jit_compiled_convolution_op, _jit_compiled_convolution_op while saving (showing 5 of 94). These functions will not be directly callable after loading.\n"
     ]
    },
    {
     "name": "stdout",
     "output_type": "stream",
     "text": [
      "INFO:tensorflow:Assets written to: ../../artifacts/checkpoints\\checkpoint_InceptionV3\\assets\n"
     ]
    },
    {
     "name": "stderr",
     "output_type": "stream",
     "text": [
      "INFO:tensorflow:Assets written to: ../../artifacts/checkpoints\\checkpoint_InceptionV3\\assets\n"
     ]
    },
    {
     "name": "stdout",
     "output_type": "stream",
     "text": [
      "129/129 [==============================] - 36s 281ms/step - loss: 1.0183 - accuracy: 0.8801 - val_loss: 1.5720 - val_accuracy: 0.6912 - lr: 1.0000e-04\n",
      "Epoch 23/100\n",
      "129/129 [==============================] - ETA: 0s - loss: 0.9705 - accuracy: 0.8976\n",
      "Epoch 23: val_loss improved from 1.57197 to 1.54638, saving model to ../../artifacts/checkpoints\\checkpoint_InceptionV3\n"
     ]
    },
    {
     "name": "stderr",
     "output_type": "stream",
     "text": [
      "WARNING:absl:Found untraced functions such as _jit_compiled_convolution_op, _jit_compiled_convolution_op, _jit_compiled_convolution_op, _jit_compiled_convolution_op, _jit_compiled_convolution_op while saving (showing 5 of 94). These functions will not be directly callable after loading.\n"
     ]
    },
    {
     "name": "stdout",
     "output_type": "stream",
     "text": [
      "INFO:tensorflow:Assets written to: ../../artifacts/checkpoints\\checkpoint_InceptionV3\\assets\n"
     ]
    },
    {
     "name": "stderr",
     "output_type": "stream",
     "text": [
      "INFO:tensorflow:Assets written to: ../../artifacts/checkpoints\\checkpoint_InceptionV3\\assets\n"
     ]
    },
    {
     "name": "stdout",
     "output_type": "stream",
     "text": [
      "129/129 [==============================] - 41s 316ms/step - loss: 0.9705 - accuracy: 0.8976 - val_loss: 1.5464 - val_accuracy: 0.6912 - lr: 1.0000e-04\n",
      "Epoch 24/100\n",
      "129/129 [==============================] - ETA: 0s - loss: 0.9446 - accuracy: 0.9061\n",
      "Epoch 24: val_loss improved from 1.54638 to 1.52034, saving model to ../../artifacts/checkpoints\\checkpoint_InceptionV3\n"
     ]
    },
    {
     "name": "stderr",
     "output_type": "stream",
     "text": [
      "WARNING:absl:Found untraced functions such as _jit_compiled_convolution_op, _jit_compiled_convolution_op, _jit_compiled_convolution_op, _jit_compiled_convolution_op, _jit_compiled_convolution_op while saving (showing 5 of 94). These functions will not be directly callable after loading.\n"
     ]
    },
    {
     "name": "stdout",
     "output_type": "stream",
     "text": [
      "INFO:tensorflow:Assets written to: ../../artifacts/checkpoints\\checkpoint_InceptionV3\\assets\n"
     ]
    },
    {
     "name": "stderr",
     "output_type": "stream",
     "text": [
      "INFO:tensorflow:Assets written to: ../../artifacts/checkpoints\\checkpoint_InceptionV3\\assets\n"
     ]
    },
    {
     "name": "stdout",
     "output_type": "stream",
     "text": [
      "129/129 [==============================] - 36s 282ms/step - loss: 0.9446 - accuracy: 0.9061 - val_loss: 1.5203 - val_accuracy: 0.6959 - lr: 1.0000e-04\n",
      "Epoch 25/100\n",
      "129/129 [==============================] - ETA: 0s - loss: 0.8938 - accuracy: 0.9141\n",
      "Epoch 25: val_loss improved from 1.52034 to 1.49790, saving model to ../../artifacts/checkpoints\\checkpoint_InceptionV3\n"
     ]
    },
    {
     "name": "stderr",
     "output_type": "stream",
     "text": [
      "WARNING:absl:Found untraced functions such as _jit_compiled_convolution_op, _jit_compiled_convolution_op, _jit_compiled_convolution_op, _jit_compiled_convolution_op, _jit_compiled_convolution_op while saving (showing 5 of 94). These functions will not be directly callable after loading.\n"
     ]
    },
    {
     "name": "stdout",
     "output_type": "stream",
     "text": [
      "INFO:tensorflow:Assets written to: ../../artifacts/checkpoints\\checkpoint_InceptionV3\\assets\n"
     ]
    },
    {
     "name": "stderr",
     "output_type": "stream",
     "text": [
      "INFO:tensorflow:Assets written to: ../../artifacts/checkpoints\\checkpoint_InceptionV3\\assets\n"
     ]
    },
    {
     "name": "stdout",
     "output_type": "stream",
     "text": [
      "129/129 [==============================] - 37s 283ms/step - loss: 0.8938 - accuracy: 0.9141 - val_loss: 1.4979 - val_accuracy: 0.6959 - lr: 1.0000e-04\n",
      "Epoch 26/100\n",
      "129/129 [==============================] - ETA: 0s - loss: 0.8603 - accuracy: 0.9153\n",
      "Epoch 26: val_loss improved from 1.49790 to 1.48532, saving model to ../../artifacts/checkpoints\\checkpoint_InceptionV3\n"
     ]
    },
    {
     "name": "stderr",
     "output_type": "stream",
     "text": [
      "WARNING:absl:Found untraced functions such as _jit_compiled_convolution_op, _jit_compiled_convolution_op, _jit_compiled_convolution_op, _jit_compiled_convolution_op, _jit_compiled_convolution_op while saving (showing 5 of 94). These functions will not be directly callable after loading.\n"
     ]
    },
    {
     "name": "stdout",
     "output_type": "stream",
     "text": [
      "INFO:tensorflow:Assets written to: ../../artifacts/checkpoints\\checkpoint_InceptionV3\\assets\n"
     ]
    },
    {
     "name": "stderr",
     "output_type": "stream",
     "text": [
      "INFO:tensorflow:Assets written to: ../../artifacts/checkpoints\\checkpoint_InceptionV3\\assets\n"
     ]
    },
    {
     "name": "stdout",
     "output_type": "stream",
     "text": [
      "129/129 [==============================] - 36s 281ms/step - loss: 0.8603 - accuracy: 0.9153 - val_loss: 1.4853 - val_accuracy: 0.6959 - lr: 1.0000e-04\n",
      "Epoch 27/100\n",
      "129/129 [==============================] - ETA: 0s - loss: 0.8131 - accuracy: 0.9302\n",
      "Epoch 27: val_loss improved from 1.48532 to 1.46304, saving model to ../../artifacts/checkpoints\\checkpoint_InceptionV3\n"
     ]
    },
    {
     "name": "stderr",
     "output_type": "stream",
     "text": [
      "WARNING:absl:Found untraced functions such as _jit_compiled_convolution_op, _jit_compiled_convolution_op, _jit_compiled_convolution_op, _jit_compiled_convolution_op, _jit_compiled_convolution_op while saving (showing 5 of 94). These functions will not be directly callable after loading.\n"
     ]
    },
    {
     "name": "stdout",
     "output_type": "stream",
     "text": [
      "INFO:tensorflow:Assets written to: ../../artifacts/checkpoints\\checkpoint_InceptionV3\\assets\n"
     ]
    },
    {
     "name": "stderr",
     "output_type": "stream",
     "text": [
      "INFO:tensorflow:Assets written to: ../../artifacts/checkpoints\\checkpoint_InceptionV3\\assets\n"
     ]
    },
    {
     "name": "stdout",
     "output_type": "stream",
     "text": [
      "129/129 [==============================] - 36s 283ms/step - loss: 0.8131 - accuracy: 0.9302 - val_loss: 1.4630 - val_accuracy: 0.7005 - lr: 1.0000e-04\n",
      "Epoch 28/100\n",
      "129/129 [==============================] - ETA: 0s - loss: 0.7897 - accuracy: 0.9406\n",
      "Epoch 28: val_loss improved from 1.46304 to 1.44574, saving model to ../../artifacts/checkpoints\\checkpoint_InceptionV3\n"
     ]
    },
    {
     "name": "stderr",
     "output_type": "stream",
     "text": [
      "WARNING:absl:Found untraced functions such as _jit_compiled_convolution_op, _jit_compiled_convolution_op, _jit_compiled_convolution_op, _jit_compiled_convolution_op, _jit_compiled_convolution_op while saving (showing 5 of 94). These functions will not be directly callable after loading.\n"
     ]
    },
    {
     "name": "stdout",
     "output_type": "stream",
     "text": [
      "INFO:tensorflow:Assets written to: ../../artifacts/checkpoints\\checkpoint_InceptionV3\\assets\n"
     ]
    },
    {
     "name": "stderr",
     "output_type": "stream",
     "text": [
      "INFO:tensorflow:Assets written to: ../../artifacts/checkpoints\\checkpoint_InceptionV3\\assets\n"
     ]
    },
    {
     "name": "stdout",
     "output_type": "stream",
     "text": [
      "129/129 [==============================] - 37s 283ms/step - loss: 0.7897 - accuracy: 0.9406 - val_loss: 1.4457 - val_accuracy: 0.7005 - lr: 1.0000e-04\n",
      "Epoch 29/100\n",
      "129/129 [==============================] - ETA: 0s - loss: 0.7637 - accuracy: 0.9438\n",
      "Epoch 29: val_loss improved from 1.44574 to 1.43009, saving model to ../../artifacts/checkpoints\\checkpoint_InceptionV3\n"
     ]
    },
    {
     "name": "stderr",
     "output_type": "stream",
     "text": [
      "WARNING:absl:Found untraced functions such as _jit_compiled_convolution_op, _jit_compiled_convolution_op, _jit_compiled_convolution_op, _jit_compiled_convolution_op, _jit_compiled_convolution_op while saving (showing 5 of 94). These functions will not be directly callable after loading.\n"
     ]
    },
    {
     "name": "stdout",
     "output_type": "stream",
     "text": [
      "INFO:tensorflow:Assets written to: ../../artifacts/checkpoints\\checkpoint_InceptionV3\\assets\n"
     ]
    },
    {
     "name": "stderr",
     "output_type": "stream",
     "text": [
      "INFO:tensorflow:Assets written to: ../../artifacts/checkpoints\\checkpoint_InceptionV3\\assets\n"
     ]
    },
    {
     "name": "stdout",
     "output_type": "stream",
     "text": [
      "129/129 [==============================] - 37s 282ms/step - loss: 0.7637 - accuracy: 0.9438 - val_loss: 1.4301 - val_accuracy: 0.7143 - lr: 1.0000e-04\n",
      "Epoch 30/100\n",
      "129/129 [==============================] - ETA: 0s - loss: 0.7269 - accuracy: 0.9548\n",
      "Epoch 30: val_loss improved from 1.43009 to 1.41133, saving model to ../../artifacts/checkpoints\\checkpoint_InceptionV3\n"
     ]
    },
    {
     "name": "stderr",
     "output_type": "stream",
     "text": [
      "WARNING:absl:Found untraced functions such as _jit_compiled_convolution_op, _jit_compiled_convolution_op, _jit_compiled_convolution_op, _jit_compiled_convolution_op, _jit_compiled_convolution_op while saving (showing 5 of 94). These functions will not be directly callable after loading.\n"
     ]
    },
    {
     "name": "stdout",
     "output_type": "stream",
     "text": [
      "INFO:tensorflow:Assets written to: ../../artifacts/checkpoints\\checkpoint_InceptionV3\\assets\n"
     ]
    },
    {
     "name": "stderr",
     "output_type": "stream",
     "text": [
      "INFO:tensorflow:Assets written to: ../../artifacts/checkpoints\\checkpoint_InceptionV3\\assets\n"
     ]
    },
    {
     "name": "stdout",
     "output_type": "stream",
     "text": [
      "129/129 [==============================] - 36s 281ms/step - loss: 0.7269 - accuracy: 0.9548 - val_loss: 1.4113 - val_accuracy: 0.7143 - lr: 1.0000e-04\n",
      "Epoch 31/100\n",
      "129/129 [==============================] - ETA: 0s - loss: 0.7126 - accuracy: 0.9584\n",
      "Epoch 31: val_loss improved from 1.41133 to 1.39521, saving model to ../../artifacts/checkpoints\\checkpoint_InceptionV3\n"
     ]
    },
    {
     "name": "stderr",
     "output_type": "stream",
     "text": [
      "WARNING:absl:Found untraced functions such as _jit_compiled_convolution_op, _jit_compiled_convolution_op, _jit_compiled_convolution_op, _jit_compiled_convolution_op, _jit_compiled_convolution_op while saving (showing 5 of 94). These functions will not be directly callable after loading.\n"
     ]
    },
    {
     "name": "stdout",
     "output_type": "stream",
     "text": [
      "INFO:tensorflow:Assets written to: ../../artifacts/checkpoints\\checkpoint_InceptionV3\\assets\n"
     ]
    },
    {
     "name": "stderr",
     "output_type": "stream",
     "text": [
      "INFO:tensorflow:Assets written to: ../../artifacts/checkpoints\\checkpoint_InceptionV3\\assets\n"
     ]
    },
    {
     "name": "stdout",
     "output_type": "stream",
     "text": [
      "129/129 [==============================] - 36s 282ms/step - loss: 0.7126 - accuracy: 0.9584 - val_loss: 1.3952 - val_accuracy: 0.7281 - lr: 1.0000e-04\n",
      "Epoch 32/100\n",
      "129/129 [==============================] - ETA: 0s - loss: 0.6885 - accuracy: 0.9621\n",
      "Epoch 32: val_loss improved from 1.39521 to 1.38091, saving model to ../../artifacts/checkpoints\\checkpoint_InceptionV3\n"
     ]
    },
    {
     "name": "stderr",
     "output_type": "stream",
     "text": [
      "WARNING:absl:Found untraced functions such as _jit_compiled_convolution_op, _jit_compiled_convolution_op, _jit_compiled_convolution_op, _jit_compiled_convolution_op, _jit_compiled_convolution_op while saving (showing 5 of 94). These functions will not be directly callable after loading.\n"
     ]
    },
    {
     "name": "stdout",
     "output_type": "stream",
     "text": [
      "INFO:tensorflow:Assets written to: ../../artifacts/checkpoints\\checkpoint_InceptionV3\\assets\n"
     ]
    },
    {
     "name": "stderr",
     "output_type": "stream",
     "text": [
      "INFO:tensorflow:Assets written to: ../../artifacts/checkpoints\\checkpoint_InceptionV3\\assets\n"
     ]
    },
    {
     "name": "stdout",
     "output_type": "stream",
     "text": [
      "129/129 [==============================] - 37s 287ms/step - loss: 0.6885 - accuracy: 0.9621 - val_loss: 1.3809 - val_accuracy: 0.7327 - lr: 1.0000e-04\n",
      "Epoch 33/100\n",
      "129/129 [==============================] - ETA: 0s - loss: 0.6544 - accuracy: 0.9696\n",
      "Epoch 33: val_loss improved from 1.38091 to 1.36906, saving model to ../../artifacts/checkpoints\\checkpoint_InceptionV3\n"
     ]
    },
    {
     "name": "stderr",
     "output_type": "stream",
     "text": [
      "WARNING:absl:Found untraced functions such as _jit_compiled_convolution_op, _jit_compiled_convolution_op, _jit_compiled_convolution_op, _jit_compiled_convolution_op, _jit_compiled_convolution_op while saving (showing 5 of 94). These functions will not be directly callable after loading.\n"
     ]
    },
    {
     "name": "stdout",
     "output_type": "stream",
     "text": [
      "INFO:tensorflow:Assets written to: ../../artifacts/checkpoints\\checkpoint_InceptionV3\\assets\n"
     ]
    },
    {
     "name": "stderr",
     "output_type": "stream",
     "text": [
      "INFO:tensorflow:Assets written to: ../../artifacts/checkpoints\\checkpoint_InceptionV3\\assets\n"
     ]
    },
    {
     "name": "stdout",
     "output_type": "stream",
     "text": [
      "129/129 [==============================] - 37s 286ms/step - loss: 0.6544 - accuracy: 0.9696 - val_loss: 1.3691 - val_accuracy: 0.7327 - lr: 1.0000e-04\n",
      "Epoch 34/100\n",
      "129/129 [==============================] - ETA: 0s - loss: 0.6460 - accuracy: 0.9691\n",
      "Epoch 34: val_loss improved from 1.36906 to 1.36072, saving model to ../../artifacts/checkpoints\\checkpoint_InceptionV3\n"
     ]
    },
    {
     "name": "stderr",
     "output_type": "stream",
     "text": [
      "WARNING:absl:Found untraced functions such as _jit_compiled_convolution_op, _jit_compiled_convolution_op, _jit_compiled_convolution_op, _jit_compiled_convolution_op, _jit_compiled_convolution_op while saving (showing 5 of 94). These functions will not be directly callable after loading.\n"
     ]
    },
    {
     "name": "stdout",
     "output_type": "stream",
     "text": [
      "INFO:tensorflow:Assets written to: ../../artifacts/checkpoints\\checkpoint_InceptionV3\\assets\n"
     ]
    },
    {
     "name": "stderr",
     "output_type": "stream",
     "text": [
      "INFO:tensorflow:Assets written to: ../../artifacts/checkpoints\\checkpoint_InceptionV3\\assets\n"
     ]
    },
    {
     "name": "stdout",
     "output_type": "stream",
     "text": [
      "129/129 [==============================] - 36s 280ms/step - loss: 0.6460 - accuracy: 0.9691 - val_loss: 1.3607 - val_accuracy: 0.7373 - lr: 1.0000e-04\n",
      "Epoch 35/100\n",
      "129/129 [==============================] - ETA: 0s - loss: 0.6294 - accuracy: 0.9759\n",
      "Epoch 35: val_loss improved from 1.36072 to 1.34800, saving model to ../../artifacts/checkpoints\\checkpoint_InceptionV3\n"
     ]
    },
    {
     "name": "stderr",
     "output_type": "stream",
     "text": [
      "WARNING:absl:Found untraced functions such as _jit_compiled_convolution_op, _jit_compiled_convolution_op, _jit_compiled_convolution_op, _jit_compiled_convolution_op, _jit_compiled_convolution_op while saving (showing 5 of 94). These functions will not be directly callable after loading.\n"
     ]
    },
    {
     "name": "stdout",
     "output_type": "stream",
     "text": [
      "INFO:tensorflow:Assets written to: ../../artifacts/checkpoints\\checkpoint_InceptionV3\\assets\n"
     ]
    },
    {
     "name": "stderr",
     "output_type": "stream",
     "text": [
      "INFO:tensorflow:Assets written to: ../../artifacts/checkpoints\\checkpoint_InceptionV3\\assets\n"
     ]
    },
    {
     "name": "stdout",
     "output_type": "stream",
     "text": [
      "129/129 [==============================] - 36s 277ms/step - loss: 0.6294 - accuracy: 0.9759 - val_loss: 1.3480 - val_accuracy: 0.7327 - lr: 1.0000e-04\n",
      "Epoch 36/100\n",
      "129/129 [==============================] - ETA: 0s - loss: 0.6224 - accuracy: 0.9742\n",
      "Epoch 36: val_loss improved from 1.34800 to 1.34129, saving model to ../../artifacts/checkpoints\\checkpoint_InceptionV3\n"
     ]
    },
    {
     "name": "stderr",
     "output_type": "stream",
     "text": [
      "WARNING:absl:Found untraced functions such as _jit_compiled_convolution_op, _jit_compiled_convolution_op, _jit_compiled_convolution_op, _jit_compiled_convolution_op, _jit_compiled_convolution_op while saving (showing 5 of 94). These functions will not be directly callable after loading.\n"
     ]
    },
    {
     "name": "stdout",
     "output_type": "stream",
     "text": [
      "INFO:tensorflow:Assets written to: ../../artifacts/checkpoints\\checkpoint_InceptionV3\\assets\n"
     ]
    },
    {
     "name": "stderr",
     "output_type": "stream",
     "text": [
      "INFO:tensorflow:Assets written to: ../../artifacts/checkpoints\\checkpoint_InceptionV3\\assets\n"
     ]
    },
    {
     "name": "stdout",
     "output_type": "stream",
     "text": [
      "129/129 [==============================] - 36s 280ms/step - loss: 0.6224 - accuracy: 0.9742 - val_loss: 1.3413 - val_accuracy: 0.7281 - lr: 1.0000e-04\n",
      "Epoch 37/100\n",
      "129/129 [==============================] - ETA: 0s - loss: 0.6047 - accuracy: 0.9766\n",
      "Epoch 37: val_loss improved from 1.34129 to 1.32626, saving model to ../../artifacts/checkpoints\\checkpoint_InceptionV3\n"
     ]
    },
    {
     "name": "stderr",
     "output_type": "stream",
     "text": [
      "WARNING:absl:Found untraced functions such as _jit_compiled_convolution_op, _jit_compiled_convolution_op, _jit_compiled_convolution_op, _jit_compiled_convolution_op, _jit_compiled_convolution_op while saving (showing 5 of 94). These functions will not be directly callable after loading.\n"
     ]
    },
    {
     "name": "stdout",
     "output_type": "stream",
     "text": [
      "INFO:tensorflow:Assets written to: ../../artifacts/checkpoints\\checkpoint_InceptionV3\\assets\n"
     ]
    },
    {
     "name": "stderr",
     "output_type": "stream",
     "text": [
      "INFO:tensorflow:Assets written to: ../../artifacts/checkpoints\\checkpoint_InceptionV3\\assets\n"
     ]
    },
    {
     "name": "stdout",
     "output_type": "stream",
     "text": [
      "129/129 [==============================] - 36s 276ms/step - loss: 0.6047 - accuracy: 0.9766 - val_loss: 1.3263 - val_accuracy: 0.7465 - lr: 1.0000e-04\n",
      "Epoch 38/100\n",
      "129/129 [==============================] - ETA: 0s - loss: 0.5802 - accuracy: 0.9854\n",
      "Epoch 38: val_loss improved from 1.32626 to 1.32542, saving model to ../../artifacts/checkpoints\\checkpoint_InceptionV3\n"
     ]
    },
    {
     "name": "stderr",
     "output_type": "stream",
     "text": [
      "WARNING:absl:Found untraced functions such as _jit_compiled_convolution_op, _jit_compiled_convolution_op, _jit_compiled_convolution_op, _jit_compiled_convolution_op, _jit_compiled_convolution_op while saving (showing 5 of 94). These functions will not be directly callable after loading.\n"
     ]
    },
    {
     "name": "stdout",
     "output_type": "stream",
     "text": [
      "INFO:tensorflow:Assets written to: ../../artifacts/checkpoints\\checkpoint_InceptionV3\\assets\n"
     ]
    },
    {
     "name": "stderr",
     "output_type": "stream",
     "text": [
      "INFO:tensorflow:Assets written to: ../../artifacts/checkpoints\\checkpoint_InceptionV3\\assets\n"
     ]
    },
    {
     "name": "stdout",
     "output_type": "stream",
     "text": [
      "129/129 [==============================] - 37s 283ms/step - loss: 0.5802 - accuracy: 0.9854 - val_loss: 1.3254 - val_accuracy: 0.7281 - lr: 1.0000e-04\n",
      "Epoch 39/100\n",
      "129/129 [==============================] - ETA: 0s - loss: 0.5782 - accuracy: 0.9842\n",
      "Epoch 39: val_loss improved from 1.32542 to 1.31333, saving model to ../../artifacts/checkpoints\\checkpoint_InceptionV3\n"
     ]
    },
    {
     "name": "stderr",
     "output_type": "stream",
     "text": [
      "WARNING:absl:Found untraced functions such as _jit_compiled_convolution_op, _jit_compiled_convolution_op, _jit_compiled_convolution_op, _jit_compiled_convolution_op, _jit_compiled_convolution_op while saving (showing 5 of 94). These functions will not be directly callable after loading.\n"
     ]
    },
    {
     "name": "stdout",
     "output_type": "stream",
     "text": [
      "INFO:tensorflow:Assets written to: ../../artifacts/checkpoints\\checkpoint_InceptionV3\\assets\n"
     ]
    },
    {
     "name": "stderr",
     "output_type": "stream",
     "text": [
      "INFO:tensorflow:Assets written to: ../../artifacts/checkpoints\\checkpoint_InceptionV3\\assets\n"
     ]
    },
    {
     "name": "stdout",
     "output_type": "stream",
     "text": [
      "129/129 [==============================] - 36s 284ms/step - loss: 0.5782 - accuracy: 0.9842 - val_loss: 1.3133 - val_accuracy: 0.7465 - lr: 1.0000e-04\n",
      "Epoch 40/100\n",
      "129/129 [==============================] - ETA: 0s - loss: 0.5646 - accuracy: 0.9861\n",
      "Epoch 40: val_loss improved from 1.31333 to 1.30021, saving model to ../../artifacts/checkpoints\\checkpoint_InceptionV3\n"
     ]
    },
    {
     "name": "stderr",
     "output_type": "stream",
     "text": [
      "WARNING:absl:Found untraced functions such as _jit_compiled_convolution_op, _jit_compiled_convolution_op, _jit_compiled_convolution_op, _jit_compiled_convolution_op, _jit_compiled_convolution_op while saving (showing 5 of 94). These functions will not be directly callable after loading.\n"
     ]
    },
    {
     "name": "stdout",
     "output_type": "stream",
     "text": [
      "INFO:tensorflow:Assets written to: ../../artifacts/checkpoints\\checkpoint_InceptionV3\\assets\n"
     ]
    },
    {
     "name": "stderr",
     "output_type": "stream",
     "text": [
      "INFO:tensorflow:Assets written to: ../../artifacts/checkpoints\\checkpoint_InceptionV3\\assets\n"
     ]
    },
    {
     "name": "stdout",
     "output_type": "stream",
     "text": [
      "129/129 [==============================] - 36s 282ms/step - loss: 0.5646 - accuracy: 0.9861 - val_loss: 1.3002 - val_accuracy: 0.7465 - lr: 1.0000e-04\n",
      "Epoch 41/100\n",
      "129/129 [==============================] - ETA: 0s - loss: 0.5591 - accuracy: 0.9859\n",
      "Epoch 41: val_loss improved from 1.30021 to 1.29591, saving model to ../../artifacts/checkpoints\\checkpoint_InceptionV3\n"
     ]
    },
    {
     "name": "stderr",
     "output_type": "stream",
     "text": [
      "WARNING:absl:Found untraced functions such as _jit_compiled_convolution_op, _jit_compiled_convolution_op, _jit_compiled_convolution_op, _jit_compiled_convolution_op, _jit_compiled_convolution_op while saving (showing 5 of 94). These functions will not be directly callable after loading.\n"
     ]
    },
    {
     "name": "stdout",
     "output_type": "stream",
     "text": [
      "INFO:tensorflow:Assets written to: ../../artifacts/checkpoints\\checkpoint_InceptionV3\\assets\n"
     ]
    },
    {
     "name": "stderr",
     "output_type": "stream",
     "text": [
      "INFO:tensorflow:Assets written to: ../../artifacts/checkpoints\\checkpoint_InceptionV3\\assets\n"
     ]
    },
    {
     "name": "stdout",
     "output_type": "stream",
     "text": [
      "129/129 [==============================] - 36s 282ms/step - loss: 0.5591 - accuracy: 0.9859 - val_loss: 1.2959 - val_accuracy: 0.7465 - lr: 1.0000e-04\n",
      "Epoch 42/100\n",
      "129/129 [==============================] - ETA: 0s - loss: 0.5443 - accuracy: 0.9888\n",
      "Epoch 42: val_loss improved from 1.29591 to 1.28649, saving model to ../../artifacts/checkpoints\\checkpoint_InceptionV3\n"
     ]
    },
    {
     "name": "stderr",
     "output_type": "stream",
     "text": [
      "WARNING:absl:Found untraced functions such as _jit_compiled_convolution_op, _jit_compiled_convolution_op, _jit_compiled_convolution_op, _jit_compiled_convolution_op, _jit_compiled_convolution_op while saving (showing 5 of 94). These functions will not be directly callable after loading.\n"
     ]
    },
    {
     "name": "stdout",
     "output_type": "stream",
     "text": [
      "INFO:tensorflow:Assets written to: ../../artifacts/checkpoints\\checkpoint_InceptionV3\\assets\n"
     ]
    },
    {
     "name": "stderr",
     "output_type": "stream",
     "text": [
      "INFO:tensorflow:Assets written to: ../../artifacts/checkpoints\\checkpoint_InceptionV3\\assets\n"
     ]
    },
    {
     "name": "stdout",
     "output_type": "stream",
     "text": [
      "129/129 [==============================] - 37s 283ms/step - loss: 0.5443 - accuracy: 0.9888 - val_loss: 1.2865 - val_accuracy: 0.7512 - lr: 1.0000e-04\n",
      "Epoch 43/100\n",
      "129/129 [==============================] - ETA: 0s - loss: 0.5329 - accuracy: 0.9905\n",
      "Epoch 43: val_loss improved from 1.28649 to 1.27792, saving model to ../../artifacts/checkpoints\\checkpoint_InceptionV3\n"
     ]
    },
    {
     "name": "stderr",
     "output_type": "stream",
     "text": [
      "WARNING:absl:Found untraced functions such as _jit_compiled_convolution_op, _jit_compiled_convolution_op, _jit_compiled_convolution_op, _jit_compiled_convolution_op, _jit_compiled_convolution_op while saving (showing 5 of 94). These functions will not be directly callable after loading.\n"
     ]
    },
    {
     "name": "stdout",
     "output_type": "stream",
     "text": [
      "INFO:tensorflow:Assets written to: ../../artifacts/checkpoints\\checkpoint_InceptionV3\\assets\n"
     ]
    },
    {
     "name": "stderr",
     "output_type": "stream",
     "text": [
      "INFO:tensorflow:Assets written to: ../../artifacts/checkpoints\\checkpoint_InceptionV3\\assets\n"
     ]
    },
    {
     "name": "stdout",
     "output_type": "stream",
     "text": [
      "129/129 [==============================] - 36s 280ms/step - loss: 0.5329 - accuracy: 0.9905 - val_loss: 1.2779 - val_accuracy: 0.7558 - lr: 1.0000e-04\n",
      "Epoch 44/100\n",
      "129/129 [==============================] - ETA: 0s - loss: 0.5298 - accuracy: 0.9878\n",
      "Epoch 44: val_loss improved from 1.27792 to 1.27433, saving model to ../../artifacts/checkpoints\\checkpoint_InceptionV3\n"
     ]
    },
    {
     "name": "stderr",
     "output_type": "stream",
     "text": [
      "WARNING:absl:Found untraced functions such as _jit_compiled_convolution_op, _jit_compiled_convolution_op, _jit_compiled_convolution_op, _jit_compiled_convolution_op, _jit_compiled_convolution_op while saving (showing 5 of 94). These functions will not be directly callable after loading.\n"
     ]
    },
    {
     "name": "stdout",
     "output_type": "stream",
     "text": [
      "INFO:tensorflow:Assets written to: ../../artifacts/checkpoints\\checkpoint_InceptionV3\\assets\n"
     ]
    },
    {
     "name": "stderr",
     "output_type": "stream",
     "text": [
      "INFO:tensorflow:Assets written to: ../../artifacts/checkpoints\\checkpoint_InceptionV3\\assets\n"
     ]
    },
    {
     "name": "stdout",
     "output_type": "stream",
     "text": [
      "129/129 [==============================] - 37s 287ms/step - loss: 0.5298 - accuracy: 0.9878 - val_loss: 1.2743 - val_accuracy: 0.7512 - lr: 1.0000e-04\n",
      "Epoch 45/100\n",
      "129/129 [==============================] - ETA: 0s - loss: 0.5100 - accuracy: 0.9910\n",
      "Epoch 45: val_loss did not improve from 1.27433\n",
      "129/129 [==============================] - 10s 72ms/step - loss: 0.5100 - accuracy: 0.9910 - val_loss: 1.2749 - val_accuracy: 0.7512 - lr: 1.0000e-04\n",
      "Epoch 46/100\n",
      "129/129 [==============================] - ETA: 0s - loss: 0.5117 - accuracy: 0.9905\n",
      "Epoch 46: val_loss improved from 1.27433 to 1.26911, saving model to ../../artifacts/checkpoints\\checkpoint_InceptionV3\n"
     ]
    },
    {
     "name": "stderr",
     "output_type": "stream",
     "text": [
      "WARNING:absl:Found untraced functions such as _jit_compiled_convolution_op, _jit_compiled_convolution_op, _jit_compiled_convolution_op, _jit_compiled_convolution_op, _jit_compiled_convolution_op while saving (showing 5 of 94). These functions will not be directly callable after loading.\n"
     ]
    },
    {
     "name": "stdout",
     "output_type": "stream",
     "text": [
      "INFO:tensorflow:Assets written to: ../../artifacts/checkpoints\\checkpoint_InceptionV3\\assets\n"
     ]
    },
    {
     "name": "stderr",
     "output_type": "stream",
     "text": [
      "INFO:tensorflow:Assets written to: ../../artifacts/checkpoints\\checkpoint_InceptionV3\\assets\n"
     ]
    },
    {
     "name": "stdout",
     "output_type": "stream",
     "text": [
      "129/129 [==============================] - 36s 282ms/step - loss: 0.5117 - accuracy: 0.9905 - val_loss: 1.2691 - val_accuracy: 0.7558 - lr: 1.0000e-04\n",
      "Epoch 47/100\n",
      "129/129 [==============================] - ETA: 0s - loss: 0.5058 - accuracy: 0.9910\n",
      "Epoch 47: val_loss improved from 1.26911 to 1.26533, saving model to ../../artifacts/checkpoints\\checkpoint_InceptionV3\n"
     ]
    },
    {
     "name": "stderr",
     "output_type": "stream",
     "text": [
      "WARNING:absl:Found untraced functions such as _jit_compiled_convolution_op, _jit_compiled_convolution_op, _jit_compiled_convolution_op, _jit_compiled_convolution_op, _jit_compiled_convolution_op while saving (showing 5 of 94). These functions will not be directly callable after loading.\n"
     ]
    },
    {
     "name": "stdout",
     "output_type": "stream",
     "text": [
      "INFO:tensorflow:Assets written to: ../../artifacts/checkpoints\\checkpoint_InceptionV3\\assets\n"
     ]
    },
    {
     "name": "stderr",
     "output_type": "stream",
     "text": [
      "INFO:tensorflow:Assets written to: ../../artifacts/checkpoints\\checkpoint_InceptionV3\\assets\n"
     ]
    },
    {
     "name": "stdout",
     "output_type": "stream",
     "text": [
      "129/129 [==============================] - 36s 282ms/step - loss: 0.5058 - accuracy: 0.9910 - val_loss: 1.2653 - val_accuracy: 0.7558 - lr: 1.0000e-04\n",
      "Epoch 48/100\n",
      "129/129 [==============================] - ETA: 0s - loss: 0.4996 - accuracy: 0.9920\n",
      "Epoch 48: val_loss improved from 1.26533 to 1.25532, saving model to ../../artifacts/checkpoints\\checkpoint_InceptionV3\n"
     ]
    },
    {
     "name": "stderr",
     "output_type": "stream",
     "text": [
      "WARNING:absl:Found untraced functions such as _jit_compiled_convolution_op, _jit_compiled_convolution_op, _jit_compiled_convolution_op, _jit_compiled_convolution_op, _jit_compiled_convolution_op while saving (showing 5 of 94). These functions will not be directly callable after loading.\n"
     ]
    },
    {
     "name": "stdout",
     "output_type": "stream",
     "text": [
      "INFO:tensorflow:Assets written to: ../../artifacts/checkpoints\\checkpoint_InceptionV3\\assets\n"
     ]
    },
    {
     "name": "stderr",
     "output_type": "stream",
     "text": [
      "INFO:tensorflow:Assets written to: ../../artifacts/checkpoints\\checkpoint_InceptionV3\\assets\n"
     ]
    },
    {
     "name": "stdout",
     "output_type": "stream",
     "text": [
      "129/129 [==============================] - 37s 283ms/step - loss: 0.4996 - accuracy: 0.9920 - val_loss: 1.2553 - val_accuracy: 0.7512 - lr: 1.0000e-04\n",
      "Epoch 49/100\n",
      "129/129 [==============================] - ETA: 0s - loss: 0.4896 - accuracy: 0.9939\n",
      "Epoch 49: val_loss improved from 1.25532 to 1.25438, saving model to ../../artifacts/checkpoints\\checkpoint_InceptionV3\n"
     ]
    },
    {
     "name": "stderr",
     "output_type": "stream",
     "text": [
      "WARNING:absl:Found untraced functions such as _jit_compiled_convolution_op, _jit_compiled_convolution_op, _jit_compiled_convolution_op, _jit_compiled_convolution_op, _jit_compiled_convolution_op while saving (showing 5 of 94). These functions will not be directly callable after loading.\n"
     ]
    },
    {
     "name": "stdout",
     "output_type": "stream",
     "text": [
      "INFO:tensorflow:Assets written to: ../../artifacts/checkpoints\\checkpoint_InceptionV3\\assets\n"
     ]
    },
    {
     "name": "stderr",
     "output_type": "stream",
     "text": [
      "INFO:tensorflow:Assets written to: ../../artifacts/checkpoints\\checkpoint_InceptionV3\\assets\n"
     ]
    },
    {
     "name": "stdout",
     "output_type": "stream",
     "text": [
      "129/129 [==============================] - 36s 281ms/step - loss: 0.4896 - accuracy: 0.9939 - val_loss: 1.2544 - val_accuracy: 0.7465 - lr: 1.0000e-04\n",
      "Epoch 50/100\n",
      "129/129 [==============================] - ETA: 0s - loss: 0.4888 - accuracy: 0.9937\n",
      "Epoch 50: val_loss improved from 1.25438 to 1.25335, saving model to ../../artifacts/checkpoints\\checkpoint_InceptionV3\n"
     ]
    },
    {
     "name": "stderr",
     "output_type": "stream",
     "text": [
      "WARNING:absl:Found untraced functions such as _jit_compiled_convolution_op, _jit_compiled_convolution_op, _jit_compiled_convolution_op, _jit_compiled_convolution_op, _jit_compiled_convolution_op while saving (showing 5 of 94). These functions will not be directly callable after loading.\n"
     ]
    },
    {
     "name": "stdout",
     "output_type": "stream",
     "text": [
      "INFO:tensorflow:Assets written to: ../../artifacts/checkpoints\\checkpoint_InceptionV3\\assets\n"
     ]
    },
    {
     "name": "stderr",
     "output_type": "stream",
     "text": [
      "INFO:tensorflow:Assets written to: ../../artifacts/checkpoints\\checkpoint_InceptionV3\\assets\n"
     ]
    },
    {
     "name": "stdout",
     "output_type": "stream",
     "text": [
      "129/129 [==============================] - 37s 285ms/step - loss: 0.4888 - accuracy: 0.9937 - val_loss: 1.2534 - val_accuracy: 0.7558 - lr: 1.0000e-04\n",
      "Epoch 51/100\n",
      "129/129 [==============================] - ETA: 0s - loss: 0.4819 - accuracy: 0.9937\n",
      "Epoch 51: val_loss improved from 1.25335 to 1.24690, saving model to ../../artifacts/checkpoints\\checkpoint_InceptionV3\n"
     ]
    },
    {
     "name": "stderr",
     "output_type": "stream",
     "text": [
      "WARNING:absl:Found untraced functions such as _jit_compiled_convolution_op, _jit_compiled_convolution_op, _jit_compiled_convolution_op, _jit_compiled_convolution_op, _jit_compiled_convolution_op while saving (showing 5 of 94). These functions will not be directly callable after loading.\n"
     ]
    },
    {
     "name": "stdout",
     "output_type": "stream",
     "text": [
      "INFO:tensorflow:Assets written to: ../../artifacts/checkpoints\\checkpoint_InceptionV3\\assets\n"
     ]
    },
    {
     "name": "stderr",
     "output_type": "stream",
     "text": [
      "INFO:tensorflow:Assets written to: ../../artifacts/checkpoints\\checkpoint_InceptionV3\\assets\n"
     ]
    },
    {
     "name": "stdout",
     "output_type": "stream",
     "text": [
      "129/129 [==============================] - 36s 283ms/step - loss: 0.4819 - accuracy: 0.9937 - val_loss: 1.2469 - val_accuracy: 0.7650 - lr: 1.0000e-04\n",
      "Epoch 52/100\n",
      "129/129 [==============================] - ETA: 0s - loss: 0.4758 - accuracy: 0.9959\n",
      "Epoch 52: val_loss improved from 1.24690 to 1.23930, saving model to ../../artifacts/checkpoints\\checkpoint_InceptionV3\n"
     ]
    },
    {
     "name": "stderr",
     "output_type": "stream",
     "text": [
      "WARNING:absl:Found untraced functions such as _jit_compiled_convolution_op, _jit_compiled_convolution_op, _jit_compiled_convolution_op, _jit_compiled_convolution_op, _jit_compiled_convolution_op while saving (showing 5 of 94). These functions will not be directly callable after loading.\n"
     ]
    },
    {
     "name": "stdout",
     "output_type": "stream",
     "text": [
      "INFO:tensorflow:Assets written to: ../../artifacts/checkpoints\\checkpoint_InceptionV3\\assets\n"
     ]
    },
    {
     "name": "stderr",
     "output_type": "stream",
     "text": [
      "INFO:tensorflow:Assets written to: ../../artifacts/checkpoints\\checkpoint_InceptionV3\\assets\n"
     ]
    },
    {
     "name": "stdout",
     "output_type": "stream",
     "text": [
      "129/129 [==============================] - 36s 281ms/step - loss: 0.4758 - accuracy: 0.9959 - val_loss: 1.2393 - val_accuracy: 0.7604 - lr: 1.0000e-04\n",
      "Epoch 53/100\n",
      "129/129 [==============================] - ETA: 0s - loss: 0.4655 - accuracy: 0.9956\n",
      "Epoch 53: val_loss improved from 1.23930 to 1.23517, saving model to ../../artifacts/checkpoints\\checkpoint_InceptionV3\n"
     ]
    },
    {
     "name": "stderr",
     "output_type": "stream",
     "text": [
      "WARNING:absl:Found untraced functions such as _jit_compiled_convolution_op, _jit_compiled_convolution_op, _jit_compiled_convolution_op, _jit_compiled_convolution_op, _jit_compiled_convolution_op while saving (showing 5 of 94). These functions will not be directly callable after loading.\n"
     ]
    },
    {
     "name": "stdout",
     "output_type": "stream",
     "text": [
      "INFO:tensorflow:Assets written to: ../../artifacts/checkpoints\\checkpoint_InceptionV3\\assets\n"
     ]
    },
    {
     "name": "stderr",
     "output_type": "stream",
     "text": [
      "INFO:tensorflow:Assets written to: ../../artifacts/checkpoints\\checkpoint_InceptionV3\\assets\n"
     ]
    },
    {
     "name": "stdout",
     "output_type": "stream",
     "text": [
      "129/129 [==============================] - 37s 283ms/step - loss: 0.4655 - accuracy: 0.9956 - val_loss: 1.2352 - val_accuracy: 0.7558 - lr: 1.0000e-04\n",
      "Epoch 54/100\n",
      "129/129 [==============================] - ETA: 0s - loss: 0.4714 - accuracy: 0.9942\n",
      "Epoch 54: val_loss improved from 1.23517 to 1.22984, saving model to ../../artifacts/checkpoints\\checkpoint_InceptionV3\n"
     ]
    },
    {
     "name": "stderr",
     "output_type": "stream",
     "text": [
      "WARNING:absl:Found untraced functions such as _jit_compiled_convolution_op, _jit_compiled_convolution_op, _jit_compiled_convolution_op, _jit_compiled_convolution_op, _jit_compiled_convolution_op while saving (showing 5 of 94). These functions will not be directly callable after loading.\n"
     ]
    },
    {
     "name": "stdout",
     "output_type": "stream",
     "text": [
      "INFO:tensorflow:Assets written to: ../../artifacts/checkpoints\\checkpoint_InceptionV3\\assets\n"
     ]
    },
    {
     "name": "stderr",
     "output_type": "stream",
     "text": [
      "INFO:tensorflow:Assets written to: ../../artifacts/checkpoints\\checkpoint_InceptionV3\\assets\n"
     ]
    },
    {
     "name": "stdout",
     "output_type": "stream",
     "text": [
      "129/129 [==============================] - 37s 285ms/step - loss: 0.4714 - accuracy: 0.9942 - val_loss: 1.2298 - val_accuracy: 0.7512 - lr: 1.0000e-04\n",
      "Epoch 55/100\n",
      "129/129 [==============================] - ETA: 0s - loss: 0.4596 - accuracy: 0.9978\n",
      "Epoch 55: val_loss did not improve from 1.22984\n",
      "129/129 [==============================] - 10s 73ms/step - loss: 0.4596 - accuracy: 0.9978 - val_loss: 1.2306 - val_accuracy: 0.7512 - lr: 1.0000e-04\n",
      "Epoch 56/100\n",
      "129/129 [==============================] - ETA: 0s - loss: 0.4593 - accuracy: 0.9956\n",
      "Epoch 56: val_loss improved from 1.22984 to 1.21967, saving model to ../../artifacts/checkpoints\\checkpoint_InceptionV3\n"
     ]
    },
    {
     "name": "stderr",
     "output_type": "stream",
     "text": [
      "WARNING:absl:Found untraced functions such as _jit_compiled_convolution_op, _jit_compiled_convolution_op, _jit_compiled_convolution_op, _jit_compiled_convolution_op, _jit_compiled_convolution_op while saving (showing 5 of 94). These functions will not be directly callable after loading.\n"
     ]
    },
    {
     "name": "stdout",
     "output_type": "stream",
     "text": [
      "INFO:tensorflow:Assets written to: ../../artifacts/checkpoints\\checkpoint_InceptionV3\\assets\n"
     ]
    },
    {
     "name": "stderr",
     "output_type": "stream",
     "text": [
      "INFO:tensorflow:Assets written to: ../../artifacts/checkpoints\\checkpoint_InceptionV3\\assets\n"
     ]
    },
    {
     "name": "stdout",
     "output_type": "stream",
     "text": [
      "129/129 [==============================] - 36s 281ms/step - loss: 0.4593 - accuracy: 0.9956 - val_loss: 1.2197 - val_accuracy: 0.7604 - lr: 1.0000e-04\n",
      "Epoch 57/100\n",
      "129/129 [==============================] - ETA: 0s - loss: 0.4516 - accuracy: 0.9976\n",
      "Epoch 57: val_loss improved from 1.21967 to 1.21616, saving model to ../../artifacts/checkpoints\\checkpoint_InceptionV3\n"
     ]
    },
    {
     "name": "stderr",
     "output_type": "stream",
     "text": [
      "WARNING:absl:Found untraced functions such as _jit_compiled_convolution_op, _jit_compiled_convolution_op, _jit_compiled_convolution_op, _jit_compiled_convolution_op, _jit_compiled_convolution_op while saving (showing 5 of 94). These functions will not be directly callable after loading.\n"
     ]
    },
    {
     "name": "stdout",
     "output_type": "stream",
     "text": [
      "INFO:tensorflow:Assets written to: ../../artifacts/checkpoints\\checkpoint_InceptionV3\\assets\n"
     ]
    },
    {
     "name": "stderr",
     "output_type": "stream",
     "text": [
      "INFO:tensorflow:Assets written to: ../../artifacts/checkpoints\\checkpoint_InceptionV3\\assets\n"
     ]
    },
    {
     "name": "stdout",
     "output_type": "stream",
     "text": [
      "129/129 [==============================] - 37s 283ms/step - loss: 0.4516 - accuracy: 0.9976 - val_loss: 1.2162 - val_accuracy: 0.7512 - lr: 1.0000e-04\n",
      "Epoch 58/100\n",
      "129/129 [==============================] - ETA: 0s - loss: 0.4492 - accuracy: 0.9954\n",
      "Epoch 58: val_loss improved from 1.21616 to 1.21430, saving model to ../../artifacts/checkpoints\\checkpoint_InceptionV3\n"
     ]
    },
    {
     "name": "stderr",
     "output_type": "stream",
     "text": [
      "WARNING:absl:Found untraced functions such as _jit_compiled_convolution_op, _jit_compiled_convolution_op, _jit_compiled_convolution_op, _jit_compiled_convolution_op, _jit_compiled_convolution_op while saving (showing 5 of 94). These functions will not be directly callable after loading.\n"
     ]
    },
    {
     "name": "stdout",
     "output_type": "stream",
     "text": [
      "INFO:tensorflow:Assets written to: ../../artifacts/checkpoints\\checkpoint_InceptionV3\\assets\n"
     ]
    },
    {
     "name": "stderr",
     "output_type": "stream",
     "text": [
      "INFO:tensorflow:Assets written to: ../../artifacts/checkpoints\\checkpoint_InceptionV3\\assets\n"
     ]
    },
    {
     "name": "stdout",
     "output_type": "stream",
     "text": [
      "129/129 [==============================] - 37s 283ms/step - loss: 0.4492 - accuracy: 0.9954 - val_loss: 1.2143 - val_accuracy: 0.7419 - lr: 1.0000e-04\n",
      "Epoch 59/100\n",
      "129/129 [==============================] - ETA: 0s - loss: 0.4488 - accuracy: 0.9973\n",
      "Epoch 59: val_loss improved from 1.21430 to 1.20755, saving model to ../../artifacts/checkpoints\\checkpoint_InceptionV3\n"
     ]
    },
    {
     "name": "stderr",
     "output_type": "stream",
     "text": [
      "WARNING:absl:Found untraced functions such as _jit_compiled_convolution_op, _jit_compiled_convolution_op, _jit_compiled_convolution_op, _jit_compiled_convolution_op, _jit_compiled_convolution_op while saving (showing 5 of 94). These functions will not be directly callable after loading.\n"
     ]
    },
    {
     "name": "stdout",
     "output_type": "stream",
     "text": [
      "INFO:tensorflow:Assets written to: ../../artifacts/checkpoints\\checkpoint_InceptionV3\\assets\n"
     ]
    },
    {
     "name": "stderr",
     "output_type": "stream",
     "text": [
      "INFO:tensorflow:Assets written to: ../../artifacts/checkpoints\\checkpoint_InceptionV3\\assets\n"
     ]
    },
    {
     "name": "stdout",
     "output_type": "stream",
     "text": [
      "129/129 [==============================] - 36s 283ms/step - loss: 0.4488 - accuracy: 0.9973 - val_loss: 1.2075 - val_accuracy: 0.7650 - lr: 1.0000e-04\n",
      "Epoch 60/100\n",
      "129/129 [==============================] - ETA: 0s - loss: 0.4388 - accuracy: 0.9973\n",
      "Epoch 60: val_loss did not improve from 1.20755\n",
      "129/129 [==============================] - 10s 73ms/step - loss: 0.4388 - accuracy: 0.9973 - val_loss: 1.2089 - val_accuracy: 0.7604 - lr: 1.0000e-04\n",
      "Epoch 61/100\n",
      "129/129 [==============================] - ETA: 0s - loss: 0.4362 - accuracy: 0.9976\n",
      "Epoch 61: val_loss improved from 1.20755 to 1.20198, saving model to ../../artifacts/checkpoints\\checkpoint_InceptionV3\n"
     ]
    },
    {
     "name": "stderr",
     "output_type": "stream",
     "text": [
      "WARNING:absl:Found untraced functions such as _jit_compiled_convolution_op, _jit_compiled_convolution_op, _jit_compiled_convolution_op, _jit_compiled_convolution_op, _jit_compiled_convolution_op while saving (showing 5 of 94). These functions will not be directly callable after loading.\n"
     ]
    },
    {
     "name": "stdout",
     "output_type": "stream",
     "text": [
      "INFO:tensorflow:Assets written to: ../../artifacts/checkpoints\\checkpoint_InceptionV3\\assets\n"
     ]
    },
    {
     "name": "stderr",
     "output_type": "stream",
     "text": [
      "INFO:tensorflow:Assets written to: ../../artifacts/checkpoints\\checkpoint_InceptionV3\\assets\n"
     ]
    },
    {
     "name": "stdout",
     "output_type": "stream",
     "text": [
      "129/129 [==============================] - 36s 283ms/step - loss: 0.4362 - accuracy: 0.9976 - val_loss: 1.2020 - val_accuracy: 0.7650 - lr: 1.0000e-04\n",
      "Epoch 62/100\n",
      "129/129 [==============================] - ETA: 0s - loss: 0.4362 - accuracy: 0.9973\n",
      "Epoch 62: val_loss improved from 1.20198 to 1.19807, saving model to ../../artifacts/checkpoints\\checkpoint_InceptionV3\n"
     ]
    },
    {
     "name": "stderr",
     "output_type": "stream",
     "text": [
      "WARNING:absl:Found untraced functions such as _jit_compiled_convolution_op, _jit_compiled_convolution_op, _jit_compiled_convolution_op, _jit_compiled_convolution_op, _jit_compiled_convolution_op while saving (showing 5 of 94). These functions will not be directly callable after loading.\n"
     ]
    },
    {
     "name": "stdout",
     "output_type": "stream",
     "text": [
      "INFO:tensorflow:Assets written to: ../../artifacts/checkpoints\\checkpoint_InceptionV3\\assets\n"
     ]
    },
    {
     "name": "stderr",
     "output_type": "stream",
     "text": [
      "INFO:tensorflow:Assets written to: ../../artifacts/checkpoints\\checkpoint_InceptionV3\\assets\n"
     ]
    },
    {
     "name": "stdout",
     "output_type": "stream",
     "text": [
      "129/129 [==============================] - 37s 283ms/step - loss: 0.4362 - accuracy: 0.9973 - val_loss: 1.1981 - val_accuracy: 0.7558 - lr: 1.0000e-04\n",
      "Epoch 63/100\n",
      "129/129 [==============================] - ETA: 0s - loss: 0.4301 - accuracy: 0.9981\n",
      "Epoch 63: val_loss improved from 1.19807 to 1.19553, saving model to ../../artifacts/checkpoints\\checkpoint_InceptionV3\n"
     ]
    },
    {
     "name": "stderr",
     "output_type": "stream",
     "text": [
      "WARNING:absl:Found untraced functions such as _jit_compiled_convolution_op, _jit_compiled_convolution_op, _jit_compiled_convolution_op, _jit_compiled_convolution_op, _jit_compiled_convolution_op while saving (showing 5 of 94). These functions will not be directly callable after loading.\n"
     ]
    },
    {
     "name": "stdout",
     "output_type": "stream",
     "text": [
      "INFO:tensorflow:Assets written to: ../../artifacts/checkpoints\\checkpoint_InceptionV3\\assets\n"
     ]
    },
    {
     "name": "stderr",
     "output_type": "stream",
     "text": [
      "INFO:tensorflow:Assets written to: ../../artifacts/checkpoints\\checkpoint_InceptionV3\\assets\n"
     ]
    },
    {
     "name": "stdout",
     "output_type": "stream",
     "text": [
      "129/129 [==============================] - 36s 281ms/step - loss: 0.4301 - accuracy: 0.9981 - val_loss: 1.1955 - val_accuracy: 0.7650 - lr: 1.0000e-04\n",
      "Epoch 64/100\n",
      "129/129 [==============================] - ETA: 0s - loss: 0.4282 - accuracy: 0.9988\n",
      "Epoch 64: val_loss improved from 1.19553 to 1.19480, saving model to ../../artifacts/checkpoints\\checkpoint_InceptionV3\n"
     ]
    },
    {
     "name": "stderr",
     "output_type": "stream",
     "text": [
      "WARNING:absl:Found untraced functions such as _jit_compiled_convolution_op, _jit_compiled_convolution_op, _jit_compiled_convolution_op, _jit_compiled_convolution_op, _jit_compiled_convolution_op while saving (showing 5 of 94). These functions will not be directly callable after loading.\n"
     ]
    },
    {
     "name": "stdout",
     "output_type": "stream",
     "text": [
      "INFO:tensorflow:Assets written to: ../../artifacts/checkpoints\\checkpoint_InceptionV3\\assets\n"
     ]
    },
    {
     "name": "stderr",
     "output_type": "stream",
     "text": [
      "INFO:tensorflow:Assets written to: ../../artifacts/checkpoints\\checkpoint_InceptionV3\\assets\n"
     ]
    },
    {
     "name": "stdout",
     "output_type": "stream",
     "text": [
      "129/129 [==============================] - 37s 284ms/step - loss: 0.4282 - accuracy: 0.9988 - val_loss: 1.1948 - val_accuracy: 0.7558 - lr: 1.0000e-04\n",
      "Epoch 65/100\n",
      "129/129 [==============================] - ETA: 0s - loss: 0.4205 - accuracy: 0.9983\n",
      "Epoch 65: val_loss did not improve from 1.19480\n",
      "129/129 [==============================] - 10s 72ms/step - loss: 0.4205 - accuracy: 0.9983 - val_loss: 1.1961 - val_accuracy: 0.7512 - lr: 1.0000e-04\n",
      "Epoch 66/100\n",
      "129/129 [==============================] - ETA: 0s - loss: 0.4238 - accuracy: 0.9978\n",
      "Epoch 66: val_loss improved from 1.19480 to 1.19094, saving model to ../../artifacts/checkpoints\\checkpoint_InceptionV3\n"
     ]
    },
    {
     "name": "stderr",
     "output_type": "stream",
     "text": [
      "WARNING:absl:Found untraced functions such as _jit_compiled_convolution_op, _jit_compiled_convolution_op, _jit_compiled_convolution_op, _jit_compiled_convolution_op, _jit_compiled_convolution_op while saving (showing 5 of 94). These functions will not be directly callable after loading.\n"
     ]
    },
    {
     "name": "stdout",
     "output_type": "stream",
     "text": [
      "INFO:tensorflow:Assets written to: ../../artifacts/checkpoints\\checkpoint_InceptionV3\\assets\n"
     ]
    },
    {
     "name": "stderr",
     "output_type": "stream",
     "text": [
      "INFO:tensorflow:Assets written to: ../../artifacts/checkpoints\\checkpoint_InceptionV3\\assets\n"
     ]
    },
    {
     "name": "stdout",
     "output_type": "stream",
     "text": [
      "129/129 [==============================] - 36s 282ms/step - loss: 0.4238 - accuracy: 0.9978 - val_loss: 1.1909 - val_accuracy: 0.7558 - lr: 1.0000e-04\n",
      "Epoch 67/100\n",
      "129/129 [==============================] - ETA: 0s - loss: 0.4193 - accuracy: 0.9988\n",
      "Epoch 67: val_loss improved from 1.19094 to 1.18824, saving model to ../../artifacts/checkpoints\\checkpoint_InceptionV3\n"
     ]
    },
    {
     "name": "stderr",
     "output_type": "stream",
     "text": [
      "WARNING:absl:Found untraced functions such as _jit_compiled_convolution_op, _jit_compiled_convolution_op, _jit_compiled_convolution_op, _jit_compiled_convolution_op, _jit_compiled_convolution_op while saving (showing 5 of 94). These functions will not be directly callable after loading.\n"
     ]
    },
    {
     "name": "stdout",
     "output_type": "stream",
     "text": [
      "INFO:tensorflow:Assets written to: ../../artifacts/checkpoints\\checkpoint_InceptionV3\\assets\n"
     ]
    },
    {
     "name": "stderr",
     "output_type": "stream",
     "text": [
      "INFO:tensorflow:Assets written to: ../../artifacts/checkpoints\\checkpoint_InceptionV3\\assets\n"
     ]
    },
    {
     "name": "stdout",
     "output_type": "stream",
     "text": [
      "129/129 [==============================] - 36s 282ms/step - loss: 0.4193 - accuracy: 0.9988 - val_loss: 1.1882 - val_accuracy: 0.7558 - lr: 1.0000e-04\n",
      "Epoch 68/100\n",
      "129/129 [==============================] - ETA: 0s - loss: 0.4187 - accuracy: 0.9959\n",
      "Epoch 68: val_loss improved from 1.18824 to 1.18177, saving model to ../../artifacts/checkpoints\\checkpoint_InceptionV3\n"
     ]
    },
    {
     "name": "stderr",
     "output_type": "stream",
     "text": [
      "WARNING:absl:Found untraced functions such as _jit_compiled_convolution_op, _jit_compiled_convolution_op, _jit_compiled_convolution_op, _jit_compiled_convolution_op, _jit_compiled_convolution_op while saving (showing 5 of 94). These functions will not be directly callable after loading.\n"
     ]
    },
    {
     "name": "stdout",
     "output_type": "stream",
     "text": [
      "INFO:tensorflow:Assets written to: ../../artifacts/checkpoints\\checkpoint_InceptionV3\\assets\n"
     ]
    },
    {
     "name": "stderr",
     "output_type": "stream",
     "text": [
      "INFO:tensorflow:Assets written to: ../../artifacts/checkpoints\\checkpoint_InceptionV3\\assets\n"
     ]
    },
    {
     "name": "stdout",
     "output_type": "stream",
     "text": [
      "129/129 [==============================] - 37s 288ms/step - loss: 0.4187 - accuracy: 0.9959 - val_loss: 1.1818 - val_accuracy: 0.7696 - lr: 1.0000e-04\n",
      "Epoch 69/100\n",
      "129/129 [==============================] - ETA: 0s - loss: 0.4150 - accuracy: 0.9973\n",
      "Epoch 69: val_loss improved from 1.18177 to 1.17817, saving model to ../../artifacts/checkpoints\\checkpoint_InceptionV3\n"
     ]
    },
    {
     "name": "stderr",
     "output_type": "stream",
     "text": [
      "WARNING:absl:Found untraced functions such as _jit_compiled_convolution_op, _jit_compiled_convolution_op, _jit_compiled_convolution_op, _jit_compiled_convolution_op, _jit_compiled_convolution_op while saving (showing 5 of 94). These functions will not be directly callable after loading.\n"
     ]
    },
    {
     "name": "stdout",
     "output_type": "stream",
     "text": [
      "INFO:tensorflow:Assets written to: ../../artifacts/checkpoints\\checkpoint_InceptionV3\\assets\n"
     ]
    },
    {
     "name": "stderr",
     "output_type": "stream",
     "text": [
      "INFO:tensorflow:Assets written to: ../../artifacts/checkpoints\\checkpoint_InceptionV3\\assets\n"
     ]
    },
    {
     "name": "stdout",
     "output_type": "stream",
     "text": [
      "129/129 [==============================] - 36s 283ms/step - loss: 0.4150 - accuracy: 0.9973 - val_loss: 1.1782 - val_accuracy: 0.7650 - lr: 1.0000e-04\n",
      "Epoch 70/100\n",
      "129/129 [==============================] - ETA: 0s - loss: 0.4145 - accuracy: 0.9973\n",
      "Epoch 70: val_loss improved from 1.17817 to 1.17587, saving model to ../../artifacts/checkpoints\\checkpoint_InceptionV3\n"
     ]
    },
    {
     "name": "stderr",
     "output_type": "stream",
     "text": [
      "WARNING:absl:Found untraced functions such as _jit_compiled_convolution_op, _jit_compiled_convolution_op, _jit_compiled_convolution_op, _jit_compiled_convolution_op, _jit_compiled_convolution_op while saving (showing 5 of 94). These functions will not be directly callable after loading.\n"
     ]
    },
    {
     "name": "stdout",
     "output_type": "stream",
     "text": [
      "INFO:tensorflow:Assets written to: ../../artifacts/checkpoints\\checkpoint_InceptionV3\\assets\n"
     ]
    },
    {
     "name": "stderr",
     "output_type": "stream",
     "text": [
      "INFO:tensorflow:Assets written to: ../../artifacts/checkpoints\\checkpoint_InceptionV3\\assets\n"
     ]
    },
    {
     "name": "stdout",
     "output_type": "stream",
     "text": [
      "129/129 [==============================] - 36s 282ms/step - loss: 0.4145 - accuracy: 0.9973 - val_loss: 1.1759 - val_accuracy: 0.7512 - lr: 1.0000e-04\n",
      "Epoch 71/100\n",
      "129/129 [==============================] - ETA: 0s - loss: 0.4131 - accuracy: 0.9973\n",
      "Epoch 71: val_loss improved from 1.17587 to 1.17550, saving model to ../../artifacts/checkpoints\\checkpoint_InceptionV3\n"
     ]
    },
    {
     "name": "stderr",
     "output_type": "stream",
     "text": [
      "WARNING:absl:Found untraced functions such as _jit_compiled_convolution_op, _jit_compiled_convolution_op, _jit_compiled_convolution_op, _jit_compiled_convolution_op, _jit_compiled_convolution_op while saving (showing 5 of 94). These functions will not be directly callable after loading.\n"
     ]
    },
    {
     "name": "stdout",
     "output_type": "stream",
     "text": [
      "INFO:tensorflow:Assets written to: ../../artifacts/checkpoints\\checkpoint_InceptionV3\\assets\n"
     ]
    },
    {
     "name": "stderr",
     "output_type": "stream",
     "text": [
      "INFO:tensorflow:Assets written to: ../../artifacts/checkpoints\\checkpoint_InceptionV3\\assets\n"
     ]
    },
    {
     "name": "stdout",
     "output_type": "stream",
     "text": [
      "129/129 [==============================] - 37s 284ms/step - loss: 0.4131 - accuracy: 0.9973 - val_loss: 1.1755 - val_accuracy: 0.7512 - lr: 1.0000e-04\n",
      "Epoch 72/100\n",
      "129/129 [==============================] - ETA: 0s - loss: 0.4035 - accuracy: 0.9985\n",
      "Epoch 72: val_loss improved from 1.17550 to 1.17042, saving model to ../../artifacts/checkpoints\\checkpoint_InceptionV3\n"
     ]
    },
    {
     "name": "stderr",
     "output_type": "stream",
     "text": [
      "WARNING:absl:Found untraced functions such as _jit_compiled_convolution_op, _jit_compiled_convolution_op, _jit_compiled_convolution_op, _jit_compiled_convolution_op, _jit_compiled_convolution_op while saving (showing 5 of 94). These functions will not be directly callable after loading.\n"
     ]
    },
    {
     "name": "stdout",
     "output_type": "stream",
     "text": [
      "INFO:tensorflow:Assets written to: ../../artifacts/checkpoints\\checkpoint_InceptionV3\\assets\n"
     ]
    },
    {
     "name": "stderr",
     "output_type": "stream",
     "text": [
      "INFO:tensorflow:Assets written to: ../../artifacts/checkpoints\\checkpoint_InceptionV3\\assets\n"
     ]
    },
    {
     "name": "stdout",
     "output_type": "stream",
     "text": [
      "129/129 [==============================] - 36s 282ms/step - loss: 0.4035 - accuracy: 0.9985 - val_loss: 1.1704 - val_accuracy: 0.7604 - lr: 1.0000e-04\n",
      "Epoch 73/100\n",
      "129/129 [==============================] - ETA: 0s - loss: 0.4054 - accuracy: 0.9988\n",
      "Epoch 73: val_loss improved from 1.17042 to 1.17002, saving model to ../../artifacts/checkpoints\\checkpoint_InceptionV3\n"
     ]
    },
    {
     "name": "stderr",
     "output_type": "stream",
     "text": [
      "WARNING:absl:Found untraced functions such as _jit_compiled_convolution_op, _jit_compiled_convolution_op, _jit_compiled_convolution_op, _jit_compiled_convolution_op, _jit_compiled_convolution_op while saving (showing 5 of 94). These functions will not be directly callable after loading.\n"
     ]
    },
    {
     "name": "stdout",
     "output_type": "stream",
     "text": [
      "INFO:tensorflow:Assets written to: ../../artifacts/checkpoints\\checkpoint_InceptionV3\\assets\n"
     ]
    },
    {
     "name": "stderr",
     "output_type": "stream",
     "text": [
      "INFO:tensorflow:Assets written to: ../../artifacts/checkpoints\\checkpoint_InceptionV3\\assets\n"
     ]
    },
    {
     "name": "stdout",
     "output_type": "stream",
     "text": [
      "129/129 [==============================] - 36s 283ms/step - loss: 0.4054 - accuracy: 0.9988 - val_loss: 1.1700 - val_accuracy: 0.7696 - lr: 1.0000e-04\n",
      "Epoch 74/100\n",
      "129/129 [==============================] - ETA: 0s - loss: 0.4003 - accuracy: 0.9995\n",
      "Epoch 74: val_loss improved from 1.17002 to 1.16243, saving model to ../../artifacts/checkpoints\\checkpoint_InceptionV3\n"
     ]
    },
    {
     "name": "stderr",
     "output_type": "stream",
     "text": [
      "WARNING:absl:Found untraced functions such as _jit_compiled_convolution_op, _jit_compiled_convolution_op, _jit_compiled_convolution_op, _jit_compiled_convolution_op, _jit_compiled_convolution_op while saving (showing 5 of 94). These functions will not be directly callable after loading.\n"
     ]
    },
    {
     "name": "stdout",
     "output_type": "stream",
     "text": [
      "INFO:tensorflow:Assets written to: ../../artifacts/checkpoints\\checkpoint_InceptionV3\\assets\n"
     ]
    },
    {
     "name": "stderr",
     "output_type": "stream",
     "text": [
      "INFO:tensorflow:Assets written to: ../../artifacts/checkpoints\\checkpoint_InceptionV3\\assets\n"
     ]
    },
    {
     "name": "stdout",
     "output_type": "stream",
     "text": [
      "129/129 [==============================] - 37s 287ms/step - loss: 0.4003 - accuracy: 0.9995 - val_loss: 1.1624 - val_accuracy: 0.7742 - lr: 1.0000e-04\n",
      "Epoch 75/100\n",
      "129/129 [==============================] - ETA: 0s - loss: 0.4014 - accuracy: 0.9988\n",
      "Epoch 75: val_loss improved from 1.16243 to 1.16209, saving model to ../../artifacts/checkpoints\\checkpoint_InceptionV3\n"
     ]
    },
    {
     "name": "stderr",
     "output_type": "stream",
     "text": [
      "WARNING:absl:Found untraced functions such as _jit_compiled_convolution_op, _jit_compiled_convolution_op, _jit_compiled_convolution_op, _jit_compiled_convolution_op, _jit_compiled_convolution_op while saving (showing 5 of 94). These functions will not be directly callable after loading.\n"
     ]
    },
    {
     "name": "stdout",
     "output_type": "stream",
     "text": [
      "INFO:tensorflow:Assets written to: ../../artifacts/checkpoints\\checkpoint_InceptionV3\\assets\n"
     ]
    },
    {
     "name": "stderr",
     "output_type": "stream",
     "text": [
      "INFO:tensorflow:Assets written to: ../../artifacts/checkpoints\\checkpoint_InceptionV3\\assets\n"
     ]
    },
    {
     "name": "stdout",
     "output_type": "stream",
     "text": [
      "129/129 [==============================] - 37s 284ms/step - loss: 0.4014 - accuracy: 0.9988 - val_loss: 1.1621 - val_accuracy: 0.7650 - lr: 1.0000e-04\n",
      "Epoch 76/100\n",
      "129/129 [==============================] - ETA: 0s - loss: 0.3944 - accuracy: 0.9988\n",
      "Epoch 76: val_loss improved from 1.16209 to 1.15960, saving model to ../../artifacts/checkpoints\\checkpoint_InceptionV3\n"
     ]
    },
    {
     "name": "stderr",
     "output_type": "stream",
     "text": [
      "WARNING:absl:Found untraced functions such as _jit_compiled_convolution_op, _jit_compiled_convolution_op, _jit_compiled_convolution_op, _jit_compiled_convolution_op, _jit_compiled_convolution_op while saving (showing 5 of 94). These functions will not be directly callable after loading.\n"
     ]
    },
    {
     "name": "stdout",
     "output_type": "stream",
     "text": [
      "INFO:tensorflow:Assets written to: ../../artifacts/checkpoints\\checkpoint_InceptionV3\\assets\n"
     ]
    },
    {
     "name": "stderr",
     "output_type": "stream",
     "text": [
      "INFO:tensorflow:Assets written to: ../../artifacts/checkpoints\\checkpoint_InceptionV3\\assets\n"
     ]
    },
    {
     "name": "stdout",
     "output_type": "stream",
     "text": [
      "129/129 [==============================] - 36s 283ms/step - loss: 0.3944 - accuracy: 0.9988 - val_loss: 1.1596 - val_accuracy: 0.7742 - lr: 1.0000e-04\n",
      "Epoch 77/100\n",
      "129/129 [==============================] - ETA: 0s - loss: 0.3920 - accuracy: 0.9990\n",
      "Epoch 77: val_loss improved from 1.15960 to 1.15911, saving model to ../../artifacts/checkpoints\\checkpoint_InceptionV3\n"
     ]
    },
    {
     "name": "stderr",
     "output_type": "stream",
     "text": [
      "WARNING:absl:Found untraced functions such as _jit_compiled_convolution_op, _jit_compiled_convolution_op, _jit_compiled_convolution_op, _jit_compiled_convolution_op, _jit_compiled_convolution_op while saving (showing 5 of 94). These functions will not be directly callable after loading.\n"
     ]
    },
    {
     "name": "stdout",
     "output_type": "stream",
     "text": [
      "INFO:tensorflow:Assets written to: ../../artifacts/checkpoints\\checkpoint_InceptionV3\\assets\n"
     ]
    },
    {
     "name": "stderr",
     "output_type": "stream",
     "text": [
      "INFO:tensorflow:Assets written to: ../../artifacts/checkpoints\\checkpoint_InceptionV3\\assets\n"
     ]
    },
    {
     "name": "stdout",
     "output_type": "stream",
     "text": [
      "129/129 [==============================] - 37s 283ms/step - loss: 0.3920 - accuracy: 0.9990 - val_loss: 1.1591 - val_accuracy: 0.7742 - lr: 1.0000e-04\n",
      "Epoch 78/100\n",
      "129/129 [==============================] - ETA: 0s - loss: 0.3921 - accuracy: 0.9985\n",
      "Epoch 78: val_loss improved from 1.15911 to 1.15456, saving model to ../../artifacts/checkpoints\\checkpoint_InceptionV3\n"
     ]
    },
    {
     "name": "stderr",
     "output_type": "stream",
     "text": [
      "WARNING:absl:Found untraced functions such as _jit_compiled_convolution_op, _jit_compiled_convolution_op, _jit_compiled_convolution_op, _jit_compiled_convolution_op, _jit_compiled_convolution_op while saving (showing 5 of 94). These functions will not be directly callable after loading.\n"
     ]
    },
    {
     "name": "stdout",
     "output_type": "stream",
     "text": [
      "INFO:tensorflow:Assets written to: ../../artifacts/checkpoints\\checkpoint_InceptionV3\\assets\n"
     ]
    },
    {
     "name": "stderr",
     "output_type": "stream",
     "text": [
      "INFO:tensorflow:Assets written to: ../../artifacts/checkpoints\\checkpoint_InceptionV3\\assets\n"
     ]
    },
    {
     "name": "stdout",
     "output_type": "stream",
     "text": [
      "129/129 [==============================] - 37s 284ms/step - loss: 0.3921 - accuracy: 0.9985 - val_loss: 1.1546 - val_accuracy: 0.7696 - lr: 1.0000e-04\n",
      "Epoch 79/100\n",
      "129/129 [==============================] - ETA: 0s - loss: 0.3921 - accuracy: 0.9976\n",
      "Epoch 79: val_loss did not improve from 1.15456\n",
      "129/129 [==============================] - 10s 73ms/step - loss: 0.3921 - accuracy: 0.9976 - val_loss: 1.1568 - val_accuracy: 0.7650 - lr: 1.0000e-04\n",
      "Epoch 80/100\n",
      "129/129 [==============================] - ETA: 0s - loss: 0.3899 - accuracy: 0.9988\n",
      "Epoch 80: val_loss improved from 1.15456 to 1.15012, saving model to ../../artifacts/checkpoints\\checkpoint_InceptionV3\n"
     ]
    },
    {
     "name": "stderr",
     "output_type": "stream",
     "text": [
      "WARNING:absl:Found untraced functions such as _jit_compiled_convolution_op, _jit_compiled_convolution_op, _jit_compiled_convolution_op, _jit_compiled_convolution_op, _jit_compiled_convolution_op while saving (showing 5 of 94). These functions will not be directly callable after loading.\n"
     ]
    },
    {
     "name": "stdout",
     "output_type": "stream",
     "text": [
      "INFO:tensorflow:Assets written to: ../../artifacts/checkpoints\\checkpoint_InceptionV3\\assets\n"
     ]
    },
    {
     "name": "stderr",
     "output_type": "stream",
     "text": [
      "INFO:tensorflow:Assets written to: ../../artifacts/checkpoints\\checkpoint_InceptionV3\\assets\n"
     ]
    },
    {
     "name": "stdout",
     "output_type": "stream",
     "text": [
      "129/129 [==============================] - 37s 287ms/step - loss: 0.3899 - accuracy: 0.9988 - val_loss: 1.1501 - val_accuracy: 0.7650 - lr: 1.0000e-04\n",
      "Epoch 81/100\n",
      "129/129 [==============================] - ETA: 0s - loss: 0.3822 - accuracy: 0.9988\n",
      "Epoch 81: val_loss improved from 1.15012 to 1.14542, saving model to ../../artifacts/checkpoints\\checkpoint_InceptionV3\n"
     ]
    },
    {
     "name": "stderr",
     "output_type": "stream",
     "text": [
      "WARNING:absl:Found untraced functions such as _jit_compiled_convolution_op, _jit_compiled_convolution_op, _jit_compiled_convolution_op, _jit_compiled_convolution_op, _jit_compiled_convolution_op while saving (showing 5 of 94). These functions will not be directly callable after loading.\n"
     ]
    },
    {
     "name": "stdout",
     "output_type": "stream",
     "text": [
      "INFO:tensorflow:Assets written to: ../../artifacts/checkpoints\\checkpoint_InceptionV3\\assets\n"
     ]
    },
    {
     "name": "stderr",
     "output_type": "stream",
     "text": [
      "INFO:tensorflow:Assets written to: ../../artifacts/checkpoints\\checkpoint_InceptionV3\\assets\n"
     ]
    },
    {
     "name": "stdout",
     "output_type": "stream",
     "text": [
      "129/129 [==============================] - 37s 284ms/step - loss: 0.3822 - accuracy: 0.9988 - val_loss: 1.1454 - val_accuracy: 0.7604 - lr: 1.0000e-04\n",
      "Epoch 82/100\n",
      "128/129 [============================>.] - ETA: 0s - loss: 0.3818 - accuracy: 0.9993\n",
      "Epoch 82: val_loss improved from 1.14542 to 1.14526, saving model to ../../artifacts/checkpoints\\checkpoint_InceptionV3\n"
     ]
    },
    {
     "name": "stderr",
     "output_type": "stream",
     "text": [
      "WARNING:absl:Found untraced functions such as _jit_compiled_convolution_op, _jit_compiled_convolution_op, _jit_compiled_convolution_op, _jit_compiled_convolution_op, _jit_compiled_convolution_op while saving (showing 5 of 94). These functions will not be directly callable after loading.\n"
     ]
    },
    {
     "name": "stdout",
     "output_type": "stream",
     "text": [
      "INFO:tensorflow:Assets written to: ../../artifacts/checkpoints\\checkpoint_InceptionV3\\assets\n"
     ]
    },
    {
     "name": "stderr",
     "output_type": "stream",
     "text": [
      "INFO:tensorflow:Assets written to: ../../artifacts/checkpoints\\checkpoint_InceptionV3\\assets\n"
     ]
    },
    {
     "name": "stdout",
     "output_type": "stream",
     "text": [
      "129/129 [==============================] - 25s 191ms/step - loss: 0.3818 - accuracy: 0.9993 - val_loss: 1.1453 - val_accuracy: 0.7650 - lr: 1.0000e-04\n",
      "Epoch 83/100\n",
      "128/129 [============================>.] - ETA: 0s - loss: 0.3820 - accuracy: 0.9988\n",
      "Epoch 83: val_loss did not improve from 1.14526\n",
      "129/129 [==============================] - 9s 68ms/step - loss: 0.3829 - accuracy: 0.9985 - val_loss: 1.1481 - val_accuracy: 0.7650 - lr: 1.0000e-04\n",
      "Epoch 84/100\n",
      "128/129 [============================>.] - ETA: 0s - loss: 0.3767 - accuracy: 0.9993\n",
      "Epoch 84: val_loss improved from 1.14526 to 1.14407, saving model to ../../artifacts/checkpoints\\checkpoint_InceptionV3\n"
     ]
    },
    {
     "name": "stderr",
     "output_type": "stream",
     "text": [
      "WARNING:absl:Found untraced functions such as _jit_compiled_convolution_op, _jit_compiled_convolution_op, _jit_compiled_convolution_op, _jit_compiled_convolution_op, _jit_compiled_convolution_op while saving (showing 5 of 94). These functions will not be directly callable after loading.\n"
     ]
    },
    {
     "name": "stdout",
     "output_type": "stream",
     "text": [
      "INFO:tensorflow:Assets written to: ../../artifacts/checkpoints\\checkpoint_InceptionV3\\assets\n"
     ]
    },
    {
     "name": "stderr",
     "output_type": "stream",
     "text": [
      "INFO:tensorflow:Assets written to: ../../artifacts/checkpoints\\checkpoint_InceptionV3\\assets\n"
     ]
    },
    {
     "name": "stdout",
     "output_type": "stream",
     "text": [
      "129/129 [==============================] - 24s 184ms/step - loss: 0.3771 - accuracy: 0.9993 - val_loss: 1.1441 - val_accuracy: 0.7696 - lr: 1.0000e-04\n",
      "Epoch 85/100\n",
      "128/129 [============================>.] - ETA: 0s - loss: 0.3763 - accuracy: 0.9993\n",
      "Epoch 85: val_loss improved from 1.14407 to 1.14238, saving model to ../../artifacts/checkpoints\\checkpoint_InceptionV3\n"
     ]
    },
    {
     "name": "stderr",
     "output_type": "stream",
     "text": [
      "WARNING:absl:Found untraced functions such as _jit_compiled_convolution_op, _jit_compiled_convolution_op, _jit_compiled_convolution_op, _jit_compiled_convolution_op, _jit_compiled_convolution_op while saving (showing 5 of 94). These functions will not be directly callable after loading.\n"
     ]
    },
    {
     "name": "stdout",
     "output_type": "stream",
     "text": [
      "INFO:tensorflow:Assets written to: ../../artifacts/checkpoints\\checkpoint_InceptionV3\\assets\n"
     ]
    },
    {
     "name": "stderr",
     "output_type": "stream",
     "text": [
      "INFO:tensorflow:Assets written to: ../../artifacts/checkpoints\\checkpoint_InceptionV3\\assets\n"
     ]
    },
    {
     "name": "stdout",
     "output_type": "stream",
     "text": [
      "129/129 [==============================] - 24s 183ms/step - loss: 0.3769 - accuracy: 0.9993 - val_loss: 1.1424 - val_accuracy: 0.7650 - lr: 1.0000e-04\n",
      "Epoch 86/100\n",
      "128/129 [============================>.] - ETA: 0s - loss: 0.3757 - accuracy: 0.9990\n",
      "Epoch 86: val_loss improved from 1.14238 to 1.13654, saving model to ../../artifacts/checkpoints\\checkpoint_InceptionV3\n"
     ]
    },
    {
     "name": "stderr",
     "output_type": "stream",
     "text": [
      "WARNING:absl:Found untraced functions such as _jit_compiled_convolution_op, _jit_compiled_convolution_op, _jit_compiled_convolution_op, _jit_compiled_convolution_op, _jit_compiled_convolution_op while saving (showing 5 of 94). These functions will not be directly callable after loading.\n"
     ]
    },
    {
     "name": "stdout",
     "output_type": "stream",
     "text": [
      "INFO:tensorflow:Assets written to: ../../artifacts/checkpoints\\checkpoint_InceptionV3\\assets\n"
     ]
    },
    {
     "name": "stderr",
     "output_type": "stream",
     "text": [
      "INFO:tensorflow:Assets written to: ../../artifacts/checkpoints\\checkpoint_InceptionV3\\assets\n"
     ]
    },
    {
     "name": "stdout",
     "output_type": "stream",
     "text": [
      "129/129 [==============================] - 24s 184ms/step - loss: 0.3762 - accuracy: 0.9988 - val_loss: 1.1365 - val_accuracy: 0.7604 - lr: 1.0000e-04\n",
      "Epoch 87/100\n",
      "128/129 [============================>.] - ETA: 0s - loss: 0.3704 - accuracy: 0.9995\n",
      "Epoch 87: val_loss improved from 1.13654 to 1.13392, saving model to ../../artifacts/checkpoints\\checkpoint_InceptionV3\n"
     ]
    },
    {
     "name": "stderr",
     "output_type": "stream",
     "text": [
      "WARNING:absl:Found untraced functions such as _jit_compiled_convolution_op, _jit_compiled_convolution_op, _jit_compiled_convolution_op, _jit_compiled_convolution_op, _jit_compiled_convolution_op while saving (showing 5 of 94). These functions will not be directly callable after loading.\n"
     ]
    },
    {
     "name": "stdout",
     "output_type": "stream",
     "text": [
      "INFO:tensorflow:Assets written to: ../../artifacts/checkpoints\\checkpoint_InceptionV3\\assets\n"
     ]
    },
    {
     "name": "stderr",
     "output_type": "stream",
     "text": [
      "INFO:tensorflow:Assets written to: ../../artifacts/checkpoints\\checkpoint_InceptionV3\\assets\n"
     ]
    },
    {
     "name": "stdout",
     "output_type": "stream",
     "text": [
      "129/129 [==============================] - 24s 185ms/step - loss: 0.3707 - accuracy: 0.9995 - val_loss: 1.1339 - val_accuracy: 0.7650 - lr: 1.0000e-04\n",
      "Epoch 88/100\n",
      "128/129 [============================>.] - ETA: 0s - loss: 0.3697 - accuracy: 0.9998\n",
      "Epoch 88: val_loss improved from 1.13392 to 1.12879, saving model to ../../artifacts/checkpoints\\checkpoint_InceptionV3\n"
     ]
    },
    {
     "name": "stderr",
     "output_type": "stream",
     "text": [
      "WARNING:absl:Found untraced functions such as _jit_compiled_convolution_op, _jit_compiled_convolution_op, _jit_compiled_convolution_op, _jit_compiled_convolution_op, _jit_compiled_convolution_op while saving (showing 5 of 94). These functions will not be directly callable after loading.\n"
     ]
    },
    {
     "name": "stdout",
     "output_type": "stream",
     "text": [
      "INFO:tensorflow:Assets written to: ../../artifacts/checkpoints\\checkpoint_InceptionV3\\assets\n"
     ]
    },
    {
     "name": "stderr",
     "output_type": "stream",
     "text": [
      "INFO:tensorflow:Assets written to: ../../artifacts/checkpoints\\checkpoint_InceptionV3\\assets\n"
     ]
    },
    {
     "name": "stdout",
     "output_type": "stream",
     "text": [
      "129/129 [==============================] - 24s 183ms/step - loss: 0.3700 - accuracy: 0.9998 - val_loss: 1.1288 - val_accuracy: 0.7604 - lr: 1.0000e-04\n",
      "Epoch 89/100\n",
      "128/129 [============================>.] - ETA: 0s - loss: 0.3682 - accuracy: 0.9998\n",
      "Epoch 89: val_loss did not improve from 1.12879\n",
      "129/129 [==============================] - 9s 68ms/step - loss: 0.3685 - accuracy: 0.9998 - val_loss: 1.1334 - val_accuracy: 0.7650 - lr: 1.0000e-04\n",
      "Epoch 90/100\n",
      "128/129 [============================>.] - ETA: 0s - loss: 0.3680 - accuracy: 0.9993\n",
      "Epoch 90: val_loss did not improve from 1.12879\n",
      "129/129 [==============================] - 9s 67ms/step - loss: 0.3682 - accuracy: 0.9993 - val_loss: 1.1298 - val_accuracy: 0.7696 - lr: 1.0000e-04\n",
      "Epoch 91/100\n",
      "128/129 [============================>.] - ETA: 0s - loss: 0.3651 - accuracy: 0.9998\n",
      "Epoch 91: val_loss improved from 1.12879 to 1.12378, saving model to ../../artifacts/checkpoints\\checkpoint_InceptionV3\n"
     ]
    },
    {
     "name": "stderr",
     "output_type": "stream",
     "text": [
      "WARNING:absl:Found untraced functions such as _jit_compiled_convolution_op, _jit_compiled_convolution_op, _jit_compiled_convolution_op, _jit_compiled_convolution_op, _jit_compiled_convolution_op while saving (showing 5 of 94). These functions will not be directly callable after loading.\n"
     ]
    },
    {
     "name": "stdout",
     "output_type": "stream",
     "text": [
      "INFO:tensorflow:Assets written to: ../../artifacts/checkpoints\\checkpoint_InceptionV3\\assets\n"
     ]
    },
    {
     "name": "stderr",
     "output_type": "stream",
     "text": [
      "INFO:tensorflow:Assets written to: ../../artifacts/checkpoints\\checkpoint_InceptionV3\\assets\n"
     ]
    },
    {
     "name": "stdout",
     "output_type": "stream",
     "text": [
      "129/129 [==============================] - 24s 183ms/step - loss: 0.3654 - accuracy: 0.9998 - val_loss: 1.1238 - val_accuracy: 0.7650 - lr: 1.0000e-04\n",
      "Epoch 92/100\n",
      "128/129 [============================>.] - ETA: 0s - loss: 0.3620 - accuracy: 0.9990\n",
      "Epoch 92: val_loss improved from 1.12378 to 1.12344, saving model to ../../artifacts/checkpoints\\checkpoint_InceptionV3\n"
     ]
    },
    {
     "name": "stderr",
     "output_type": "stream",
     "text": [
      "WARNING:absl:Found untraced functions such as _jit_compiled_convolution_op, _jit_compiled_convolution_op, _jit_compiled_convolution_op, _jit_compiled_convolution_op, _jit_compiled_convolution_op while saving (showing 5 of 94). These functions will not be directly callable after loading.\n"
     ]
    },
    {
     "name": "stdout",
     "output_type": "stream",
     "text": [
      "INFO:tensorflow:Assets written to: ../../artifacts/checkpoints\\checkpoint_InceptionV3\\assets\n"
     ]
    },
    {
     "name": "stderr",
     "output_type": "stream",
     "text": [
      "INFO:tensorflow:Assets written to: ../../artifacts/checkpoints\\checkpoint_InceptionV3\\assets\n"
     ]
    },
    {
     "name": "stdout",
     "output_type": "stream",
     "text": [
      "129/129 [==============================] - 24s 183ms/step - loss: 0.3622 - accuracy: 0.9990 - val_loss: 1.1234 - val_accuracy: 0.7742 - lr: 1.0000e-04\n",
      "Epoch 93/100\n",
      "128/129 [============================>.] - ETA: 0s - loss: 0.3628 - accuracy: 0.9995\n",
      "Epoch 93: val_loss improved from 1.12344 to 1.12056, saving model to ../../artifacts/checkpoints\\checkpoint_InceptionV3\n"
     ]
    },
    {
     "name": "stderr",
     "output_type": "stream",
     "text": [
      "WARNING:absl:Found untraced functions such as _jit_compiled_convolution_op, _jit_compiled_convolution_op, _jit_compiled_convolution_op, _jit_compiled_convolution_op, _jit_compiled_convolution_op while saving (showing 5 of 94). These functions will not be directly callable after loading.\n"
     ]
    },
    {
     "name": "stdout",
     "output_type": "stream",
     "text": [
      "INFO:tensorflow:Assets written to: ../../artifacts/checkpoints\\checkpoint_InceptionV3\\assets\n"
     ]
    },
    {
     "name": "stderr",
     "output_type": "stream",
     "text": [
      "INFO:tensorflow:Assets written to: ../../artifacts/checkpoints\\checkpoint_InceptionV3\\assets\n"
     ]
    },
    {
     "name": "stdout",
     "output_type": "stream",
     "text": [
      "129/129 [==============================] - 24s 185ms/step - loss: 0.3629 - accuracy: 0.9995 - val_loss: 1.1206 - val_accuracy: 0.7788 - lr: 1.0000e-04\n",
      "Epoch 94/100\n",
      "128/129 [============================>.] - ETA: 0s - loss: 0.3574 - accuracy: 0.9993\n",
      "Epoch 94: val_loss improved from 1.12056 to 1.11637, saving model to ../../artifacts/checkpoints\\checkpoint_InceptionV3\n"
     ]
    },
    {
     "name": "stderr",
     "output_type": "stream",
     "text": [
      "WARNING:absl:Found untraced functions such as _jit_compiled_convolution_op, _jit_compiled_convolution_op, _jit_compiled_convolution_op, _jit_compiled_convolution_op, _jit_compiled_convolution_op while saving (showing 5 of 94). These functions will not be directly callable after loading.\n"
     ]
    },
    {
     "name": "stdout",
     "output_type": "stream",
     "text": [
      "INFO:tensorflow:Assets written to: ../../artifacts/checkpoints\\checkpoint_InceptionV3\\assets\n"
     ]
    },
    {
     "name": "stderr",
     "output_type": "stream",
     "text": [
      "INFO:tensorflow:Assets written to: ../../artifacts/checkpoints\\checkpoint_InceptionV3\\assets\n"
     ]
    },
    {
     "name": "stdout",
     "output_type": "stream",
     "text": [
      "129/129 [==============================] - 24s 184ms/step - loss: 0.3578 - accuracy: 0.9993 - val_loss: 1.1164 - val_accuracy: 0.7788 - lr: 1.0000e-04\n",
      "Epoch 95/100\n",
      "128/129 [============================>.] - ETA: 0s - loss: 0.3569 - accuracy: 0.9995\n",
      "Epoch 95: val_loss improved from 1.11637 to 1.11526, saving model to ../../artifacts/checkpoints\\checkpoint_InceptionV3\n"
     ]
    },
    {
     "name": "stderr",
     "output_type": "stream",
     "text": [
      "WARNING:absl:Found untraced functions such as _jit_compiled_convolution_op, _jit_compiled_convolution_op, _jit_compiled_convolution_op, _jit_compiled_convolution_op, _jit_compiled_convolution_op while saving (showing 5 of 94). These functions will not be directly callable after loading.\n"
     ]
    },
    {
     "name": "stdout",
     "output_type": "stream",
     "text": [
      "INFO:tensorflow:Assets written to: ../../artifacts/checkpoints\\checkpoint_InceptionV3\\assets\n"
     ]
    },
    {
     "name": "stderr",
     "output_type": "stream",
     "text": [
      "INFO:tensorflow:Assets written to: ../../artifacts/checkpoints\\checkpoint_InceptionV3\\assets\n"
     ]
    },
    {
     "name": "stdout",
     "output_type": "stream",
     "text": [
      "129/129 [==============================] - 24s 183ms/step - loss: 0.3571 - accuracy: 0.9995 - val_loss: 1.1153 - val_accuracy: 0.7788 - lr: 1.0000e-04\n",
      "Epoch 96/100\n",
      "128/129 [============================>.] - ETA: 0s - loss: 0.3564 - accuracy: 0.9995\n",
      "Epoch 96: val_loss improved from 1.11526 to 1.11451, saving model to ../../artifacts/checkpoints\\checkpoint_InceptionV3\n"
     ]
    },
    {
     "name": "stderr",
     "output_type": "stream",
     "text": [
      "WARNING:absl:Found untraced functions such as _jit_compiled_convolution_op, _jit_compiled_convolution_op, _jit_compiled_convolution_op, _jit_compiled_convolution_op, _jit_compiled_convolution_op while saving (showing 5 of 94). These functions will not be directly callable after loading.\n"
     ]
    },
    {
     "name": "stdout",
     "output_type": "stream",
     "text": [
      "INFO:tensorflow:Assets written to: ../../artifacts/checkpoints\\checkpoint_InceptionV3\\assets\n"
     ]
    },
    {
     "name": "stderr",
     "output_type": "stream",
     "text": [
      "INFO:tensorflow:Assets written to: ../../artifacts/checkpoints\\checkpoint_InceptionV3\\assets\n"
     ]
    },
    {
     "name": "stdout",
     "output_type": "stream",
     "text": [
      "129/129 [==============================] - 24s 186ms/step - loss: 0.3567 - accuracy: 0.9995 - val_loss: 1.1145 - val_accuracy: 0.7696 - lr: 1.0000e-04\n",
      "Epoch 97/100\n",
      "128/129 [============================>.] - ETA: 0s - loss: 0.3558 - accuracy: 0.9990\n",
      "Epoch 97: val_loss did not improve from 1.11451\n",
      "129/129 [==============================] - 9s 68ms/step - loss: 0.3559 - accuracy: 0.9990 - val_loss: 1.1158 - val_accuracy: 0.7696 - lr: 1.0000e-04\n",
      "Epoch 98/100\n",
      "128/129 [============================>.] - ETA: 0s - loss: 0.3533 - accuracy: 0.9990\n",
      "Epoch 98: val_loss improved from 1.11451 to 1.11313, saving model to ../../artifacts/checkpoints\\checkpoint_InceptionV3\n"
     ]
    },
    {
     "name": "stderr",
     "output_type": "stream",
     "text": [
      "WARNING:absl:Found untraced functions such as _jit_compiled_convolution_op, _jit_compiled_convolution_op, _jit_compiled_convolution_op, _jit_compiled_convolution_op, _jit_compiled_convolution_op while saving (showing 5 of 94). These functions will not be directly callable after loading.\n"
     ]
    },
    {
     "name": "stdout",
     "output_type": "stream",
     "text": [
      "INFO:tensorflow:Assets written to: ../../artifacts/checkpoints\\checkpoint_InceptionV3\\assets\n"
     ]
    },
    {
     "name": "stderr",
     "output_type": "stream",
     "text": [
      "INFO:tensorflow:Assets written to: ../../artifacts/checkpoints\\checkpoint_InceptionV3\\assets\n"
     ]
    },
    {
     "name": "stdout",
     "output_type": "stream",
     "text": [
      "129/129 [==============================] - 23s 183ms/step - loss: 0.3533 - accuracy: 0.9990 - val_loss: 1.1131 - val_accuracy: 0.7742 - lr: 1.0000e-04\n",
      "Epoch 99/100\n",
      "128/129 [============================>.] - ETA: 0s - loss: 0.3488 - accuracy: 0.9998\n",
      "Epoch 99: val_loss improved from 1.11313 to 1.11195, saving model to ../../artifacts/checkpoints\\checkpoint_InceptionV3\n"
     ]
    },
    {
     "name": "stderr",
     "output_type": "stream",
     "text": [
      "WARNING:absl:Found untraced functions such as _jit_compiled_convolution_op, _jit_compiled_convolution_op, _jit_compiled_convolution_op, _jit_compiled_convolution_op, _jit_compiled_convolution_op while saving (showing 5 of 94). These functions will not be directly callable after loading.\n"
     ]
    },
    {
     "name": "stdout",
     "output_type": "stream",
     "text": [
      "INFO:tensorflow:Assets written to: ../../artifacts/checkpoints\\checkpoint_InceptionV3\\assets\n"
     ]
    },
    {
     "name": "stderr",
     "output_type": "stream",
     "text": [
      "INFO:tensorflow:Assets written to: ../../artifacts/checkpoints\\checkpoint_InceptionV3\\assets\n"
     ]
    },
    {
     "name": "stdout",
     "output_type": "stream",
     "text": [
      "129/129 [==============================] - 24s 184ms/step - loss: 0.3493 - accuracy: 0.9995 - val_loss: 1.1119 - val_accuracy: 0.7650 - lr: 1.0000e-04\n",
      "Epoch 100/100\n",
      "128/129 [============================>.] - ETA: 0s - loss: 0.3513 - accuracy: 0.9988\n",
      "Epoch 100: val_loss improved from 1.11195 to 1.10831, saving model to ../../artifacts/checkpoints\\checkpoint_InceptionV3\n"
     ]
    },
    {
     "name": "stderr",
     "output_type": "stream",
     "text": [
      "WARNING:absl:Found untraced functions such as _jit_compiled_convolution_op, _jit_compiled_convolution_op, _jit_compiled_convolution_op, _jit_compiled_convolution_op, _jit_compiled_convolution_op while saving (showing 5 of 94). These functions will not be directly callable after loading.\n"
     ]
    },
    {
     "name": "stdout",
     "output_type": "stream",
     "text": [
      "INFO:tensorflow:Assets written to: ../../artifacts/checkpoints\\checkpoint_InceptionV3\\assets\n"
     ]
    },
    {
     "name": "stderr",
     "output_type": "stream",
     "text": [
      "INFO:tensorflow:Assets written to: ../../artifacts/checkpoints\\checkpoint_InceptionV3\\assets\n"
     ]
    },
    {
     "name": "stdout",
     "output_type": "stream",
     "text": [
      "129/129 [==============================] - 24s 186ms/step - loss: 0.3514 - accuracy: 0.9988 - val_loss: 1.1083 - val_accuracy: 0.7696 - lr: 1.0000e-04\n",
      "Saving model to \"artifacts/models/InceptionV3.h5\"...\n",
      "Model saved successfully!\n",
      "Saving history to \"artifacts/model_histories/history_InceptionV3\"...\n",
      "History saved successfully!\n"
     ]
    }
   ],
   "source": [
    "inceptionV3_wrapper.train_and_save_model_and_history(batch_size=32)"
   ]
  },
  {
   "cell_type": "code",
   "execution_count": 10,
   "metadata": {},
   "outputs": [
    {
     "name": "stdout",
     "output_type": "stream",
     "text": [
      "Loading model from \"../../artifacts/models/InceptionV3.h5\"...\n",
      "Model loaded successfully!\n",
      "Loading history from \"../../artifacts/model_histories/history_InceptionV3\"...\n",
      "History loaded successfully!\n"
     ]
    }
   ],
   "source": [
    "inceptionV3_wrapper.load_model_and_history()"
   ]
  },
  {
   "cell_type": "code",
   "execution_count": 11,
   "metadata": {},
   "outputs": [
    {
     "data": {
      "image/png": "[encoded data removed]",
      "text/plain": [
       "<Figure size 640x480 with 1 Axes>"
      ]
     },
     "metadata": {},
     "output_type": "display_data"
    }
   ],
   "source": [
    "inceptionV3_wrapper.plot_accuracy()"
   ]
  },
  {
   "cell_type": "code",
   "execution_count": 12,
   "metadata": {},
   "outputs": [
    {
     "data": {
      "image/png": "[encoded data removed]",
      "text/plain": [
       "<Figure size 640x480 with 1 Axes>"
      ]
     },
     "metadata": {},
     "output_type": "display_data"
    }
   ],
   "source": [
    "inceptionV3_wrapper.plot_loss()"
   ]
  },
  {
   "cell_type": "code",
   "execution_count": 13,
   "metadata": {},
   "outputs": [
    {
     "name": "stdout",
     "output_type": "stream",
     "text": [
      "20/20 [==============================] - 1s 24ms/step - loss: 1.1374 - accuracy: 0.7561\n",
      "Loss: 1.1374\n",
      "Accuracy: 0.7561\n",
      "20/20 [==============================] - 1s 19ms/step\n",
      "Classification Report:\n",
      "              precision    recall  f1-score   support\n",
      "\n",
      "           0       1.00      0.65      0.79        23\n",
      "           1       0.79      0.60      0.68        25\n",
      "           2       0.80      0.83      0.81        52\n",
      "           3       0.76      0.74      0.75        38\n",
      "           4       0.72      0.67      0.69        27\n",
      "           5       0.61      0.89      0.72        35\n",
      "           6       0.62      0.71      0.66        45\n",
      "           7       0.75      0.90      0.82        10\n",
      "           8       0.88      0.58      0.70        12\n",
      "           9       0.80      0.73      0.76        11\n",
      "          10       0.71      0.65      0.68        23\n",
      "          11       0.74      0.88      0.81        26\n",
      "          12       0.80      0.75      0.77        32\n",
      "          13       0.71      1.00      0.83        15\n",
      "          14       0.67      0.71      0.69        17\n",
      "          15       0.81      0.81      0.81        16\n",
      "          16       0.67      0.62      0.64        13\n",
      "          17       0.78      0.67      0.72        21\n",
      "          18       0.61      0.61      0.61        18\n",
      "          19       0.83      0.90      0.86        21\n",
      "          20       0.77      0.83      0.80        12\n",
      "          21       0.91      0.81      0.86        53\n",
      "          22       0.73      0.58      0.65        19\n",
      "          23       0.67      0.71      0.69        17\n",
      "          24       0.91      0.84      0.88        38\n",
      "\n",
      "    accuracy                           0.76       619\n",
      "   macro avg       0.76      0.75      0.75       619\n",
      "weighted avg       0.77      0.76      0.76       619\n",
      "\n"
     ]
    },
    {
     "data": {
      "image/png": "[encoded data removed]",
      "text/plain": [
       "<Figure size 1500x1000 with 2 Axes>"
      ]
     },
     "metadata": {},
     "output_type": "display_data"
    }
   ],
   "source": [
    "inceptionV3_wrapper.display_evaluation_results()"
   ]
  },
  {
   "cell_type": "code",
   "execution_count": null,
   "metadata": {},
   "outputs": [],
   "source": []
  }
 ],
 "metadata": {
  "kernelspec": {
   "display_name": "ML-projekat",
   "language": "python",
   "name": "python3"
  },
  "language_info": {
   "codemirror_mode": {
    "name": "ipython",
    "version": 3
   },
   "file_extension": ".py",
   "mimetype": "text/x-python",
   "name": "python",
   "nbconvert_exporter": "python",
   "pygments_lexer": "ipython3",
   "version": "3.9.17"
  },
  "orig_nbformat": 4
 },
 "nbformat": 4,
 "nbformat_minor": 2
}
