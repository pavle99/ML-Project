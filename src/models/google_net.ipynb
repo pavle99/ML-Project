{
 "cells": [
  {
   "cell_type": "code",
   "execution_count": 1,
   "metadata": {},
   "outputs": [],
   "source": [
    "import sys\n",
    "\n",
    "sys.path.append(\"..\")"
   ]
  },
  {
   "cell_type": "code",
   "execution_count": 2,
   "metadata": {},
   "outputs": [],
   "source": [
    "from tensorflow import keras"
   ]
  },
  {
   "cell_type": "code",
   "execution_count": 3,
   "metadata": {},
   "outputs": [],
   "source": [
    "from utils.preprocessing_utils import PreprocessingUtils"
   ]
  },
  {
   "cell_type": "code",
   "execution_count": 4,
   "metadata": {},
   "outputs": [],
   "source": [
    "from utils.model_wrapper import ModelWrapper"
   ]
  },
  {
   "cell_type": "code",
   "execution_count": 5,
   "metadata": {},
   "outputs": [
    {
     "name": "stdout",
     "output_type": "stream",
     "text": [
      "Files already exist, skipping...\n",
      "Loading images and labels...\n",
      "Images and labels loaded successfully!\n",
      "Preprocessing labels...\n",
      "Labels preprocessed successfully!\n",
      "Splitting data into train, test and validation sets...\n",
      "Data split successfully!\n"
     ]
    }
   ],
   "source": [
    "preprocessing_utils = PreprocessingUtils()"
   ]
  },
  {
   "cell_type": "code",
   "execution_count": 6,
   "metadata": {},
   "outputs": [],
   "source": [
    "def inception_module(x, filters: list[int]):\n",
    "    tower_1 = keras.layers.Conv2D(filters[0], (1, 1), padding=\"same\", activation=\"relu\")(x)\n",
    "    tower_1 = keras.layers.Conv2D(filters[1], (3, 3), padding=\"same\", activation=\"relu\")(tower_1)\n",
    "\n",
    "    tower_2 = keras.layers.Conv2D(filters[2], (1, 1), padding=\"same\", activation=\"relu\")(x)\n",
    "    tower_2 = keras.layers.Conv2D(filters[3], (5, 5), padding=\"same\", activation=\"relu\")(tower_2)\n",
    "\n",
    "    tower_3 = keras.layers.AveragePooling2D((3, 3), strides=(1, 1), padding=\"same\")(x)\n",
    "    tower_3 = keras.layers.Conv2D(filters[4], (1, 1), padding=\"same\", activation=\"relu\")(tower_3)\n",
    "\n",
    "    tower_4 = keras.layers.Conv2D(filters[5], (1, 1), padding=\"same\", activation=\"relu\")(x)\n",
    "\n",
    "    concatenated = keras.layers.Concatenate(axis=-1)([tower_1, tower_2, tower_3, tower_4])\n",
    "    return concatenated\n",
    "\n",
    "\n",
    "def build_google_net(model_name: str):\n",
    "    input_layer = keras.layers.Input(shape=preprocessing_utils.images.shape[1:])\n",
    "\n",
    "    x = keras.layers.Conv2D(\n",
    "        64, (7, 7), strides=(2, 2), padding=\"same\", activation=\"relu\", kernel_regularizer=keras.regularizers.l2(0.001)\n",
    "    )(input_layer)\n",
    "    x = keras.layers.MaxPooling2D((3, 3), strides=(2, 2), padding=\"same\")(x)\n",
    "\n",
    "    x = keras.layers.Conv2D(\n",
    "        64, (1, 1), padding=\"same\", activation=\"relu\", kernel_regularizer=keras.regularizers.l2(0.001)\n",
    "    )(x)\n",
    "    x = keras.layers.Conv2D(\n",
    "        192, (3, 3), padding=\"same\", activation=\"relu\", kernel_regularizer=keras.regularizers.l2(0.001)\n",
    "    )(x)\n",
    "    x = keras.layers.MaxPooling2D((3, 3), strides=(2, 2), padding=\"same\")(x)\n",
    "\n",
    "    x = inception_module(x, [64, 128, 32, 32, 32, 32])\n",
    "    x = inception_module(x, [128, 192, 96, 64, 64, 64])\n",
    "\n",
    "    x = keras.layers.MaxPooling2D((3, 3), strides=(2, 2), padding=\"same\")(x)\n",
    "\n",
    "    x = keras.layers.Flatten()(x)\n",
    "    x = keras.layers.Dense(256, activation=\"relu\", kernel_regularizer=keras.regularizers.l2(0.001))(x)\n",
    "    x = keras.layers.Dropout(0.5)(x)\n",
    "\n",
    "    output_layer = keras.layers.Dense(preprocessing_utils.num_classes, activation=\"softmax\")(x)\n",
    "\n",
    "    model = keras.models.Model(name=model_name, inputs=input_layer, outputs=output_layer)\n",
    "\n",
    "    model.compile(\n",
    "        optimizer=keras.optimizers.SGD(learning_rate=0.01, momentum=0.9),\n",
    "        loss=\"categorical_crossentropy\",\n",
    "        metrics=[\"accuracy\"],\n",
    "    )\n",
    "\n",
    "    model.summary()\n",
    "\n",
    "    return model"
   ]
  },
  {
   "cell_type": "code",
   "execution_count": 7,
   "metadata": {},
   "outputs": [],
   "source": [
    "google_net_wrapper = ModelWrapper(\"GoogleNet\", preprocessing_utils=preprocessing_utils)"
   ]
  },
  {
   "cell_type": "code",
   "execution_count": 8,
   "metadata": {},
   "outputs": [
    {
     "name": "stdout",
     "output_type": "stream",
     "text": [
      "Building model...\n",
      "Model: \"GoogleNet\"\n",
      "__________________________________________________________________________________________________\n",
      " Layer (type)                   Output Shape         Param #     Connected to                     \n",
      "==================================================================================================\n",
      " input_1 (InputLayer)           [(None, 256, 256, 3  0           []                               \n",
      "                                )]                                                                \n",
      "                                                                                                  \n",
      " conv2d (Conv2D)                (None, 128, 128, 64  9472        ['input_1[0][0]']                \n",
      "                                )                                                                 \n",
      "                                                                                                  \n",
      " max_pooling2d (MaxPooling2D)   (None, 64, 64, 64)   0           ['conv2d[0][0]']                 \n",
      "                                                                                                  \n",
      " conv2d_1 (Conv2D)              (None, 64, 64, 64)   4160        ['max_pooling2d[0][0]']          \n",
      "                                                                                                  \n",
      " conv2d_2 (Conv2D)              (None, 64, 64, 192)  110784      ['conv2d_1[0][0]']               \n",
      "                                                                                                  \n",
      " max_pooling2d_1 (MaxPooling2D)  (None, 32, 32, 192)  0          ['conv2d_2[0][0]']               \n",
      "                                                                                                  \n",
      " conv2d_3 (Conv2D)              (None, 32, 32, 64)   12352       ['max_pooling2d_1[0][0]']        \n",
      "                                                                                                  \n",
      " conv2d_5 (Conv2D)              (None, 32, 32, 32)   6176        ['max_pooling2d_1[0][0]']        \n",
      "                                                                                                  \n",
      " average_pooling2d (AveragePool  (None, 32, 32, 192)  0          ['max_pooling2d_1[0][0]']        \n",
      " ing2D)                                                                                           \n",
      "                                                                                                  \n",
      " conv2d_4 (Conv2D)              (None, 32, 32, 128)  73856       ['conv2d_3[0][0]']               \n",
      "                                                                                                  \n",
      " conv2d_6 (Conv2D)              (None, 32, 32, 32)   25632       ['conv2d_5[0][0]']               \n",
      "                                                                                                  \n",
      " conv2d_7 (Conv2D)              (None, 32, 32, 32)   6176        ['average_pooling2d[0][0]']      \n",
      "                                                                                                  \n",
      " conv2d_8 (Conv2D)              (None, 32, 32, 32)   6176        ['max_pooling2d_1[0][0]']        \n",
      "                                                                                                  \n",
      " concatenate (Concatenate)      (None, 32, 32, 224)  0           ['conv2d_4[0][0]',               \n",
      "                                                                  'conv2d_6[0][0]',               \n",
      "                                                                  'conv2d_7[0][0]',               \n",
      "                                                                  'conv2d_8[0][0]']               \n",
      "                                                                                                  \n",
      " conv2d_9 (Conv2D)              (None, 32, 32, 128)  28800       ['concatenate[0][0]']            \n",
      "                                                                                                  \n",
      " conv2d_11 (Conv2D)             (None, 32, 32, 96)   21600       ['concatenate[0][0]']            \n",
      "                                                                                                  \n",
      " average_pooling2d_1 (AveragePo  (None, 32, 32, 224)  0          ['concatenate[0][0]']            \n",
      " oling2D)                                                                                         \n",
      "                                                                                                  \n",
      " conv2d_10 (Conv2D)             (None, 32, 32, 192)  221376      ['conv2d_9[0][0]']               \n",
      "                                                                                                  \n",
      " conv2d_12 (Conv2D)             (None, 32, 32, 64)   153664      ['conv2d_11[0][0]']              \n",
      "                                                                                                  \n",
      " conv2d_13 (Conv2D)             (None, 32, 32, 64)   14400       ['average_pooling2d_1[0][0]']    \n",
      "                                                                                                  \n",
      " conv2d_14 (Conv2D)             (None, 32, 32, 64)   14400       ['concatenate[0][0]']            \n",
      "                                                                                                  \n",
      " concatenate_1 (Concatenate)    (None, 32, 32, 384)  0           ['conv2d_10[0][0]',              \n",
      "                                                                  'conv2d_12[0][0]',              \n",
      "                                                                  'conv2d_13[0][0]',              \n",
      "                                                                  'conv2d_14[0][0]']              \n",
      "                                                                                                  \n",
      " max_pooling2d_2 (MaxPooling2D)  (None, 16, 16, 384)  0          ['concatenate_1[0][0]']          \n",
      "                                                                                                  \n",
      " flatten (Flatten)              (None, 98304)        0           ['max_pooling2d_2[0][0]']        \n",
      "                                                                                                  \n",
      " dense (Dense)                  (None, 256)          25166080    ['flatten[0][0]']                \n",
      "                                                                                                  \n",
      " dropout (Dropout)              (None, 256)          0           ['dense[0][0]']                  \n",
      "                                                                                                  \n",
      " dense_1 (Dense)                (None, 25)           6425        ['dropout[0][0]']                \n",
      "                                                                                                  \n",
      "==================================================================================================\n",
      "Total params: 25,881,529\n",
      "Trainable params: 25,881,529\n",
      "Non-trainable params: 0\n",
      "__________________________________________________________________________________________________\n",
      "Model built successfully!\n"
     ]
    }
   ],
   "source": [
    "google_net_wrapper.build_model(build_fn=build_google_net, model_name=google_net_wrapper.model_name)"
   ]
  },
  {
   "cell_type": "code",
   "execution_count": 9,
   "metadata": {},
   "outputs": [
    {
     "name": "stdout",
     "output_type": "stream",
     "text": [
      "Epoch 1/100\n",
      "9/9 [==============================] - ETA: 0s - loss: 3.8831 - accuracy: 0.0684\n",
      "Epoch 1: val_loss improved from inf to 3.84342, saving model to ../../artifacts/checkpoints\\checkpoint_GoogleNet\n"
     ]
    },
    {
     "name": "stderr",
     "output_type": "stream",
     "text": [
      "WARNING:absl:Found untraced functions such as _jit_compiled_convolution_op, _jit_compiled_convolution_op, _jit_compiled_convolution_op, _jit_compiled_convolution_op, _jit_compiled_convolution_op while saving (showing 5 of 15). These functions will not be directly callable after loading.\n"
     ]
    },
    {
     "name": "stdout",
     "output_type": "stream",
     "text": [
      "INFO:tensorflow:Assets written to: ../../artifacts/checkpoints\\checkpoint_GoogleNet\\assets\n"
     ]
    },
    {
     "name": "stderr",
     "output_type": "stream",
     "text": [
      "INFO:tensorflow:Assets written to: ../../artifacts/checkpoints\\checkpoint_GoogleNet\\assets\n"
     ]
    },
    {
     "name": "stdout",
     "output_type": "stream",
     "text": [
      "9/9 [==============================] - 19s 772ms/step - loss: 3.8831 - accuracy: 0.0684 - val_loss: 3.8434 - val_accuracy: 0.0599 - lr: 0.0100\n",
      "Epoch 2/100\n",
      "9/9 [==============================] - ETA: 0s - loss: 3.8523 - accuracy: 0.0752\n",
      "Epoch 2: val_loss improved from 3.84342 to 3.82119, saving model to ../../artifacts/checkpoints\\checkpoint_GoogleNet\n"
     ]
    },
    {
     "name": "stderr",
     "output_type": "stream",
     "text": [
      "WARNING:absl:Found untraced functions such as _jit_compiled_convolution_op, _jit_compiled_convolution_op, _jit_compiled_convolution_op, _jit_compiled_convolution_op, _jit_compiled_convolution_op while saving (showing 5 of 15). These functions will not be directly callable after loading.\n"
     ]
    },
    {
     "name": "stdout",
     "output_type": "stream",
     "text": [
      "INFO:tensorflow:Assets written to: ../../artifacts/checkpoints\\checkpoint_GoogleNet\\assets\n"
     ]
    },
    {
     "name": "stderr",
     "output_type": "stream",
     "text": [
      "INFO:tensorflow:Assets written to: ../../artifacts/checkpoints\\checkpoint_GoogleNet\\assets\n"
     ]
    },
    {
     "name": "stdout",
     "output_type": "stream",
     "text": [
      "9/9 [==============================] - 4s 481ms/step - loss: 3.8523 - accuracy: 0.0752 - val_loss: 3.8212 - val_accuracy: 0.0645 - lr: 0.0100\n",
      "Epoch 3/100\n",
      "9/9 [==============================] - ETA: 0s - loss: 3.8421 - accuracy: 0.0781\n",
      "Epoch 3: val_loss improved from 3.82119 to 3.81552, saving model to ../../artifacts/checkpoints\\checkpoint_GoogleNet\n"
     ]
    },
    {
     "name": "stderr",
     "output_type": "stream",
     "text": [
      "WARNING:absl:Found untraced functions such as _jit_compiled_convolution_op, _jit_compiled_convolution_op, _jit_compiled_convolution_op, _jit_compiled_convolution_op, _jit_compiled_convolution_op while saving (showing 5 of 15). These functions will not be directly callable after loading.\n"
     ]
    },
    {
     "name": "stdout",
     "output_type": "stream",
     "text": [
      "INFO:tensorflow:Assets written to: ../../artifacts/checkpoints\\checkpoint_GoogleNet\\assets\n"
     ]
    },
    {
     "name": "stderr",
     "output_type": "stream",
     "text": [
      "INFO:tensorflow:Assets written to: ../../artifacts/checkpoints\\checkpoint_GoogleNet\\assets\n"
     ]
    },
    {
     "name": "stdout",
     "output_type": "stream",
     "text": [
      "9/9 [==============================] - 4s 499ms/step - loss: 3.8421 - accuracy: 0.0781 - val_loss: 3.8155 - val_accuracy: 0.0829 - lr: 0.0100\n",
      "Epoch 4/100\n",
      "9/9 [==============================] - ETA: 0s - loss: 3.8303 - accuracy: 0.0688\n",
      "Epoch 4: val_loss improved from 3.81552 to 3.79928, saving model to ../../artifacts/checkpoints\\checkpoint_GoogleNet\n"
     ]
    },
    {
     "name": "stderr",
     "output_type": "stream",
     "text": [
      "WARNING:absl:Found untraced functions such as _jit_compiled_convolution_op, _jit_compiled_convolution_op, _jit_compiled_convolution_op, _jit_compiled_convolution_op, _jit_compiled_convolution_op while saving (showing 5 of 15). These functions will not be directly callable after loading.\n"
     ]
    },
    {
     "name": "stdout",
     "output_type": "stream",
     "text": [
      "INFO:tensorflow:Assets written to: ../../artifacts/checkpoints\\checkpoint_GoogleNet\\assets\n"
     ]
    },
    {
     "name": "stderr",
     "output_type": "stream",
     "text": [
      "INFO:tensorflow:Assets written to: ../../artifacts/checkpoints\\checkpoint_GoogleNet\\assets\n"
     ]
    },
    {
     "name": "stdout",
     "output_type": "stream",
     "text": [
      "9/9 [==============================] - 5s 605ms/step - loss: 3.8303 - accuracy: 0.0688 - val_loss: 3.7993 - val_accuracy: 0.0645 - lr: 0.0100\n",
      "Epoch 5/100\n",
      "9/9 [==============================] - ETA: 0s - loss: 3.8207 - accuracy: 0.0793\n",
      "Epoch 5: val_loss improved from 3.79928 to 3.79085, saving model to ../../artifacts/checkpoints\\checkpoint_GoogleNet\n"
     ]
    },
    {
     "name": "stderr",
     "output_type": "stream",
     "text": [
      "WARNING:absl:Found untraced functions such as _jit_compiled_convolution_op, _jit_compiled_convolution_op, _jit_compiled_convolution_op, _jit_compiled_convolution_op, _jit_compiled_convolution_op while saving (showing 5 of 15). These functions will not be directly callable after loading.\n"
     ]
    },
    {
     "name": "stdout",
     "output_type": "stream",
     "text": [
      "INFO:tensorflow:Assets written to: ../../artifacts/checkpoints\\checkpoint_GoogleNet\\assets\n"
     ]
    },
    {
     "name": "stderr",
     "output_type": "stream",
     "text": [
      "INFO:tensorflow:Assets written to: ../../artifacts/checkpoints\\checkpoint_GoogleNet\\assets\n"
     ]
    },
    {
     "name": "stdout",
     "output_type": "stream",
     "text": [
      "9/9 [==============================] - 6s 638ms/step - loss: 3.8207 - accuracy: 0.0793 - val_loss: 3.7909 - val_accuracy: 0.0922 - lr: 0.0100\n",
      "Epoch 6/100\n",
      "9/9 [==============================] - ETA: 0s - loss: 3.8019 - accuracy: 0.0885\n",
      "Epoch 6: val_loss improved from 3.79085 to 3.76771, saving model to ../../artifacts/checkpoints\\checkpoint_GoogleNet\n"
     ]
    },
    {
     "name": "stderr",
     "output_type": "stream",
     "text": [
      "WARNING:absl:Found untraced functions such as _jit_compiled_convolution_op, _jit_compiled_convolution_op, _jit_compiled_convolution_op, _jit_compiled_convolution_op, _jit_compiled_convolution_op while saving (showing 5 of 15). These functions will not be directly callable after loading.\n"
     ]
    },
    {
     "name": "stdout",
     "output_type": "stream",
     "text": [
      "INFO:tensorflow:Assets written to: ../../artifacts/checkpoints\\checkpoint_GoogleNet\\assets\n"
     ]
    },
    {
     "name": "stderr",
     "output_type": "stream",
     "text": [
      "INFO:tensorflow:Assets written to: ../../artifacts/checkpoints\\checkpoint_GoogleNet\\assets\n"
     ]
    },
    {
     "name": "stdout",
     "output_type": "stream",
     "text": [
      "9/9 [==============================] - 5s 607ms/step - loss: 3.8019 - accuracy: 0.0885 - val_loss: 3.7677 - val_accuracy: 0.0922 - lr: 0.0100\n",
      "Epoch 7/100\n",
      "9/9 [==============================] - ETA: 0s - loss: 3.7687 - accuracy: 0.0954\n",
      "Epoch 7: val_loss improved from 3.76771 to 3.72387, saving model to ../../artifacts/checkpoints\\checkpoint_GoogleNet\n"
     ]
    },
    {
     "name": "stderr",
     "output_type": "stream",
     "text": [
      "WARNING:absl:Found untraced functions such as _jit_compiled_convolution_op, _jit_compiled_convolution_op, _jit_compiled_convolution_op, _jit_compiled_convolution_op, _jit_compiled_convolution_op while saving (showing 5 of 15). These functions will not be directly callable after loading.\n"
     ]
    },
    {
     "name": "stdout",
     "output_type": "stream",
     "text": [
      "INFO:tensorflow:Assets written to: ../../artifacts/checkpoints\\checkpoint_GoogleNet\\assets\n"
     ]
    },
    {
     "name": "stderr",
     "output_type": "stream",
     "text": [
      "INFO:tensorflow:Assets written to: ../../artifacts/checkpoints\\checkpoint_GoogleNet\\assets\n"
     ]
    },
    {
     "name": "stdout",
     "output_type": "stream",
     "text": [
      "9/9 [==============================] - 6s 636ms/step - loss: 3.7687 - accuracy: 0.0954 - val_loss: 3.7239 - val_accuracy: 0.0922 - lr: 0.0100\n",
      "Epoch 8/100\n",
      "9/9 [==============================] - ETA: 0s - loss: 3.7272 - accuracy: 0.1202\n",
      "Epoch 8: val_loss improved from 3.72387 to 3.68033, saving model to ../../artifacts/checkpoints\\checkpoint_GoogleNet\n"
     ]
    },
    {
     "name": "stderr",
     "output_type": "stream",
     "text": [
      "WARNING:absl:Found untraced functions such as _jit_compiled_convolution_op, _jit_compiled_convolution_op, _jit_compiled_convolution_op, _jit_compiled_convolution_op, _jit_compiled_convolution_op while saving (showing 5 of 15). These functions will not be directly callable after loading.\n"
     ]
    },
    {
     "name": "stdout",
     "output_type": "stream",
     "text": [
      "INFO:tensorflow:Assets written to: ../../artifacts/checkpoints\\checkpoint_GoogleNet\\assets\n"
     ]
    },
    {
     "name": "stderr",
     "output_type": "stream",
     "text": [
      "INFO:tensorflow:Assets written to: ../../artifacts/checkpoints\\checkpoint_GoogleNet\\assets\n"
     ]
    },
    {
     "name": "stdout",
     "output_type": "stream",
     "text": [
      "9/9 [==============================] - 5s 586ms/step - loss: 3.7272 - accuracy: 0.1202 - val_loss: 3.6803 - val_accuracy: 0.1014 - lr: 0.0100\n",
      "Epoch 9/100\n",
      "9/9 [==============================] - ETA: 0s - loss: 3.6625 - accuracy: 0.1423\n",
      "Epoch 9: val_loss improved from 3.68033 to 3.59510, saving model to ../../artifacts/checkpoints\\checkpoint_GoogleNet\n"
     ]
    },
    {
     "name": "stderr",
     "output_type": "stream",
     "text": [
      "WARNING:absl:Found untraced functions such as _jit_compiled_convolution_op, _jit_compiled_convolution_op, _jit_compiled_convolution_op, _jit_compiled_convolution_op, _jit_compiled_convolution_op while saving (showing 5 of 15). These functions will not be directly callable after loading.\n"
     ]
    },
    {
     "name": "stdout",
     "output_type": "stream",
     "text": [
      "INFO:tensorflow:Assets written to: ../../artifacts/checkpoints\\checkpoint_GoogleNet\\assets\n"
     ]
    },
    {
     "name": "stderr",
     "output_type": "stream",
     "text": [
      "INFO:tensorflow:Assets written to: ../../artifacts/checkpoints\\checkpoint_GoogleNet\\assets\n"
     ]
    },
    {
     "name": "stdout",
     "output_type": "stream",
     "text": [
      "9/9 [==============================] - 5s 611ms/step - loss: 3.6625 - accuracy: 0.1423 - val_loss: 3.5951 - val_accuracy: 0.1336 - lr: 0.0100\n",
      "Epoch 10/100\n",
      "9/9 [==============================] - ETA: 0s - loss: 3.6070 - accuracy: 0.1532\n",
      "Epoch 10: val_loss improved from 3.59510 to 3.58102, saving model to ../../artifacts/checkpoints\\checkpoint_GoogleNet\n"
     ]
    },
    {
     "name": "stderr",
     "output_type": "stream",
     "text": [
      "WARNING:absl:Found untraced functions such as _jit_compiled_convolution_op, _jit_compiled_convolution_op, _jit_compiled_convolution_op, _jit_compiled_convolution_op, _jit_compiled_convolution_op while saving (showing 5 of 15). These functions will not be directly callable after loading.\n"
     ]
    },
    {
     "name": "stdout",
     "output_type": "stream",
     "text": [
      "INFO:tensorflow:Assets written to: ../../artifacts/checkpoints\\checkpoint_GoogleNet\\assets\n"
     ]
    },
    {
     "name": "stderr",
     "output_type": "stream",
     "text": [
      "INFO:tensorflow:Assets written to: ../../artifacts/checkpoints\\checkpoint_GoogleNet\\assets\n"
     ]
    },
    {
     "name": "stdout",
     "output_type": "stream",
     "text": [
      "9/9 [==============================] - 5s 603ms/step - loss: 3.6070 - accuracy: 0.1532 - val_loss: 3.5810 - val_accuracy: 0.1429 - lr: 0.0100\n",
      "Epoch 11/100\n",
      "9/9 [==============================] - ETA: 0s - loss: 3.5832 - accuracy: 0.1569\n",
      "Epoch 11: val_loss improved from 3.58102 to 3.52754, saving model to ../../artifacts/checkpoints\\checkpoint_GoogleNet\n"
     ]
    },
    {
     "name": "stderr",
     "output_type": "stream",
     "text": [
      "WARNING:absl:Found untraced functions such as _jit_compiled_convolution_op, _jit_compiled_convolution_op, _jit_compiled_convolution_op, _jit_compiled_convolution_op, _jit_compiled_convolution_op while saving (showing 5 of 15). These functions will not be directly callable after loading.\n"
     ]
    },
    {
     "name": "stdout",
     "output_type": "stream",
     "text": [
      "INFO:tensorflow:Assets written to: ../../artifacts/checkpoints\\checkpoint_GoogleNet\\assets\n"
     ]
    },
    {
     "name": "stderr",
     "output_type": "stream",
     "text": [
      "INFO:tensorflow:Assets written to: ../../artifacts/checkpoints\\checkpoint_GoogleNet\\assets\n"
     ]
    },
    {
     "name": "stdout",
     "output_type": "stream",
     "text": [
      "9/9 [==============================] - 5s 594ms/step - loss: 3.5832 - accuracy: 0.1569 - val_loss: 3.5275 - val_accuracy: 0.1429 - lr: 0.0100\n",
      "Epoch 12/100\n",
      "9/9 [==============================] - ETA: 0s - loss: 3.5234 - accuracy: 0.1708\n",
      "Epoch 12: val_loss improved from 3.52754 to 3.50283, saving model to ../../artifacts/checkpoints\\checkpoint_GoogleNet\n"
     ]
    },
    {
     "name": "stderr",
     "output_type": "stream",
     "text": [
      "WARNING:absl:Found untraced functions such as _jit_compiled_convolution_op, _jit_compiled_convolution_op, _jit_compiled_convolution_op, _jit_compiled_convolution_op, _jit_compiled_convolution_op while saving (showing 5 of 15). These functions will not be directly callable after loading.\n"
     ]
    },
    {
     "name": "stdout",
     "output_type": "stream",
     "text": [
      "INFO:tensorflow:Assets written to: ../../artifacts/checkpoints\\checkpoint_GoogleNet\\assets\n"
     ]
    },
    {
     "name": "stderr",
     "output_type": "stream",
     "text": [
      "INFO:tensorflow:Assets written to: ../../artifacts/checkpoints\\checkpoint_GoogleNet\\assets\n"
     ]
    },
    {
     "name": "stdout",
     "output_type": "stream",
     "text": [
      "9/9 [==============================] - 5s 615ms/step - loss: 3.5234 - accuracy: 0.1708 - val_loss: 3.5028 - val_accuracy: 0.1475 - lr: 0.0100\n",
      "Epoch 13/100\n",
      "9/9 [==============================] - ETA: 0s - loss: 3.4864 - accuracy: 0.1761\n",
      "Epoch 13: val_loss improved from 3.50283 to 3.44484, saving model to ../../artifacts/checkpoints\\checkpoint_GoogleNet\n"
     ]
    },
    {
     "name": "stderr",
     "output_type": "stream",
     "text": [
      "WARNING:absl:Found untraced functions such as _jit_compiled_convolution_op, _jit_compiled_convolution_op, _jit_compiled_convolution_op, _jit_compiled_convolution_op, _jit_compiled_convolution_op while saving (showing 5 of 15). These functions will not be directly callable after loading.\n"
     ]
    },
    {
     "name": "stdout",
     "output_type": "stream",
     "text": [
      "INFO:tensorflow:Assets written to: ../../artifacts/checkpoints\\checkpoint_GoogleNet\\assets\n"
     ]
    },
    {
     "name": "stderr",
     "output_type": "stream",
     "text": [
      "INFO:tensorflow:Assets written to: ../../artifacts/checkpoints\\checkpoint_GoogleNet\\assets\n"
     ]
    },
    {
     "name": "stdout",
     "output_type": "stream",
     "text": [
      "9/9 [==============================] - 5s 623ms/step - loss: 3.4864 - accuracy: 0.1761 - val_loss: 3.4448 - val_accuracy: 0.1982 - lr: 0.0100\n",
      "Epoch 14/100\n",
      "9/9 [==============================] - ETA: 0s - loss: 3.4448 - accuracy: 0.1863\n",
      "Epoch 14: val_loss improved from 3.44484 to 3.42363, saving model to ../../artifacts/checkpoints\\checkpoint_GoogleNet\n"
     ]
    },
    {
     "name": "stderr",
     "output_type": "stream",
     "text": [
      "WARNING:absl:Found untraced functions such as _jit_compiled_convolution_op, _jit_compiled_convolution_op, _jit_compiled_convolution_op, _jit_compiled_convolution_op, _jit_compiled_convolution_op while saving (showing 5 of 15). These functions will not be directly callable after loading.\n"
     ]
    },
    {
     "name": "stdout",
     "output_type": "stream",
     "text": [
      "INFO:tensorflow:Assets written to: ../../artifacts/checkpoints\\checkpoint_GoogleNet\\assets\n"
     ]
    },
    {
     "name": "stderr",
     "output_type": "stream",
     "text": [
      "INFO:tensorflow:Assets written to: ../../artifacts/checkpoints\\checkpoint_GoogleNet\\assets\n"
     ]
    },
    {
     "name": "stdout",
     "output_type": "stream",
     "text": [
      "9/9 [==============================] - 5s 620ms/step - loss: 3.4448 - accuracy: 0.1863 - val_loss: 3.4236 - val_accuracy: 0.1751 - lr: 0.0100\n",
      "Epoch 15/100\n",
      "9/9 [==============================] - ETA: 0s - loss: 3.4046 - accuracy: 0.1929\n",
      "Epoch 15: val_loss did not improve from 3.42363\n",
      "9/9 [==============================] - 3s 303ms/step - loss: 3.4046 - accuracy: 0.1929 - val_loss: 3.4267 - val_accuracy: 0.1567 - lr: 0.0100\n",
      "Epoch 16/100\n",
      "9/9 [==============================] - ETA: 0s - loss: 3.3587 - accuracy: 0.2092\n",
      "Epoch 16: val_loss improved from 3.42363 to 3.33843, saving model to ../../artifacts/checkpoints\\checkpoint_GoogleNet\n"
     ]
    },
    {
     "name": "stderr",
     "output_type": "stream",
     "text": [
      "WARNING:absl:Found untraced functions such as _jit_compiled_convolution_op, _jit_compiled_convolution_op, _jit_compiled_convolution_op, _jit_compiled_convolution_op, _jit_compiled_convolution_op while saving (showing 5 of 15). These functions will not be directly callable after loading.\n"
     ]
    },
    {
     "name": "stdout",
     "output_type": "stream",
     "text": [
      "INFO:tensorflow:Assets written to: ../../artifacts/checkpoints\\checkpoint_GoogleNet\\assets\n"
     ]
    },
    {
     "name": "stderr",
     "output_type": "stream",
     "text": [
      "INFO:tensorflow:Assets written to: ../../artifacts/checkpoints\\checkpoint_GoogleNet\\assets\n"
     ]
    },
    {
     "name": "stdout",
     "output_type": "stream",
     "text": [
      "9/9 [==============================] - 5s 629ms/step - loss: 3.3587 - accuracy: 0.2092 - val_loss: 3.3384 - val_accuracy: 0.1982 - lr: 0.0100\n",
      "Epoch 17/100\n",
      "9/9 [==============================] - ETA: 0s - loss: 3.3341 - accuracy: 0.2189\n",
      "Epoch 17: val_loss did not improve from 3.33843\n",
      "9/9 [==============================] - 3s 303ms/step - loss: 3.3341 - accuracy: 0.2189 - val_loss: 3.3389 - val_accuracy: 0.2120 - lr: 0.0100\n",
      "Epoch 18/100\n",
      "9/9 [==============================] - ETA: 0s - loss: 3.2725 - accuracy: 0.2374\n",
      "Epoch 18: val_loss did not improve from 3.33843\n",
      "9/9 [==============================] - 8s 936ms/step - loss: 3.2725 - accuracy: 0.2374 - val_loss: 3.4277 - val_accuracy: 0.1659 - lr: 0.0100\n",
      "Epoch 19/100\n",
      "9/9 [==============================] - ETA: 0s - loss: 3.3527 - accuracy: 0.2153\n",
      "Epoch 19: val_loss did not improve from 3.33843\n",
      "9/9 [==============================] - 3s 308ms/step - loss: 3.3527 - accuracy: 0.2153 - val_loss: 3.3411 - val_accuracy: 0.2350 - lr: 0.0100\n",
      "Epoch 20/100\n",
      "9/9 [==============================] - ETA: 0s - loss: 3.2437 - accuracy: 0.2389\n",
      "Epoch 20: val_loss improved from 3.33843 to 3.26722, saving model to ../../artifacts/checkpoints\\checkpoint_GoogleNet\n"
     ]
    },
    {
     "name": "stderr",
     "output_type": "stream",
     "text": [
      "WARNING:absl:Found untraced functions such as _jit_compiled_convolution_op, _jit_compiled_convolution_op, _jit_compiled_convolution_op, _jit_compiled_convolution_op, _jit_compiled_convolution_op while saving (showing 5 of 15). These functions will not be directly callable after loading.\n"
     ]
    },
    {
     "name": "stdout",
     "output_type": "stream",
     "text": [
      "INFO:tensorflow:Assets written to: ../../artifacts/checkpoints\\checkpoint_GoogleNet\\assets\n"
     ]
    },
    {
     "name": "stderr",
     "output_type": "stream",
     "text": [
      "INFO:tensorflow:Assets written to: ../../artifacts/checkpoints\\checkpoint_GoogleNet\\assets\n"
     ]
    },
    {
     "name": "stdout",
     "output_type": "stream",
     "text": [
      "9/9 [==============================] - 5s 581ms/step - loss: 3.2437 - accuracy: 0.2389 - val_loss: 3.2672 - val_accuracy: 0.2581 - lr: 0.0050\n",
      "Epoch 21/100\n",
      "9/9 [==============================] - ETA: 0s - loss: 3.1610 - accuracy: 0.2698\n",
      "Epoch 21: val_loss did not improve from 3.26722\n",
      "9/9 [==============================] - 3s 302ms/step - loss: 3.1610 - accuracy: 0.2698 - val_loss: 3.2677 - val_accuracy: 0.2765 - lr: 0.0050\n",
      "Epoch 22/100\n",
      "9/9 [==============================] - ETA: 0s - loss: 3.1093 - accuracy: 0.2819\n",
      "Epoch 22: val_loss improved from 3.26722 to 3.17578, saving model to ../../artifacts/checkpoints\\checkpoint_GoogleNet\n"
     ]
    },
    {
     "name": "stderr",
     "output_type": "stream",
     "text": [
      "WARNING:absl:Found untraced functions such as _jit_compiled_convolution_op, _jit_compiled_convolution_op, _jit_compiled_convolution_op, _jit_compiled_convolution_op, _jit_compiled_convolution_op while saving (showing 5 of 15). These functions will not be directly callable after loading.\n"
     ]
    },
    {
     "name": "stdout",
     "output_type": "stream",
     "text": [
      "INFO:tensorflow:Assets written to: ../../artifacts/checkpoints\\checkpoint_GoogleNet\\assets\n"
     ]
    },
    {
     "name": "stderr",
     "output_type": "stream",
     "text": [
      "INFO:tensorflow:Assets written to: ../../artifacts/checkpoints\\checkpoint_GoogleNet\\assets\n"
     ]
    },
    {
     "name": "stdout",
     "output_type": "stream",
     "text": [
      "9/9 [==============================] - 5s 609ms/step - loss: 3.1093 - accuracy: 0.2819 - val_loss: 3.1758 - val_accuracy: 0.2857 - lr: 0.0050\n",
      "Epoch 23/100\n",
      "9/9 [==============================] - ETA: 0s - loss: 3.0678 - accuracy: 0.2858\n",
      "Epoch 23: val_loss improved from 3.17578 to 3.17537, saving model to ../../artifacts/checkpoints\\checkpoint_GoogleNet\n"
     ]
    },
    {
     "name": "stderr",
     "output_type": "stream",
     "text": [
      "WARNING:absl:Found untraced functions such as _jit_compiled_convolution_op, _jit_compiled_convolution_op, _jit_compiled_convolution_op, _jit_compiled_convolution_op, _jit_compiled_convolution_op while saving (showing 5 of 15). These functions will not be directly callable after loading.\n"
     ]
    },
    {
     "name": "stdout",
     "output_type": "stream",
     "text": [
      "INFO:tensorflow:Assets written to: ../../artifacts/checkpoints\\checkpoint_GoogleNet\\assets\n"
     ]
    },
    {
     "name": "stderr",
     "output_type": "stream",
     "text": [
      "INFO:tensorflow:Assets written to: ../../artifacts/checkpoints\\checkpoint_GoogleNet\\assets\n"
     ]
    },
    {
     "name": "stdout",
     "output_type": "stream",
     "text": [
      "9/9 [==============================] - 5s 601ms/step - loss: 3.0678 - accuracy: 0.2858 - val_loss: 3.1754 - val_accuracy: 0.2673 - lr: 0.0050\n",
      "Epoch 24/100\n",
      "9/9 [==============================] - ETA: 0s - loss: 3.0246 - accuracy: 0.2999\n",
      "Epoch 24: val_loss did not improve from 3.17537\n",
      "9/9 [==============================] - 3s 300ms/step - loss: 3.0246 - accuracy: 0.2999 - val_loss: 3.1933 - val_accuracy: 0.3088 - lr: 0.0050\n",
      "Epoch 25/100\n",
      "9/9 [==============================] - ETA: 0s - loss: 2.9752 - accuracy: 0.3118\n",
      "Epoch 25: val_loss improved from 3.17537 to 3.10675, saving model to ../../artifacts/checkpoints\\checkpoint_GoogleNet\n"
     ]
    },
    {
     "name": "stderr",
     "output_type": "stream",
     "text": [
      "WARNING:absl:Found untraced functions such as _jit_compiled_convolution_op, _jit_compiled_convolution_op, _jit_compiled_convolution_op, _jit_compiled_convolution_op, _jit_compiled_convolution_op while saving (showing 5 of 15). These functions will not be directly callable after loading.\n"
     ]
    },
    {
     "name": "stdout",
     "output_type": "stream",
     "text": [
      "INFO:tensorflow:Assets written to: ../../artifacts/checkpoints\\checkpoint_GoogleNet\\assets\n"
     ]
    },
    {
     "name": "stderr",
     "output_type": "stream",
     "text": [
      "INFO:tensorflow:Assets written to: ../../artifacts/checkpoints\\checkpoint_GoogleNet\\assets\n"
     ]
    },
    {
     "name": "stdout",
     "output_type": "stream",
     "text": [
      "9/9 [==============================] - 5s 609ms/step - loss: 2.9752 - accuracy: 0.3118 - val_loss: 3.1067 - val_accuracy: 0.2627 - lr: 0.0050\n",
      "Epoch 26/100\n",
      "9/9 [==============================] - ETA: 0s - loss: 2.8969 - accuracy: 0.3250\n",
      "Epoch 26: val_loss did not improve from 3.10675\n",
      "9/9 [==============================] - 3s 300ms/step - loss: 2.8969 - accuracy: 0.3250 - val_loss: 3.1099 - val_accuracy: 0.2857 - lr: 0.0050\n",
      "Epoch 27/100\n",
      "9/9 [==============================] - ETA: 0s - loss: 2.8665 - accuracy: 0.3447\n",
      "Epoch 27: val_loss improved from 3.10675 to 3.08262, saving model to ../../artifacts/checkpoints\\checkpoint_GoogleNet\n"
     ]
    },
    {
     "name": "stderr",
     "output_type": "stream",
     "text": [
      "WARNING:absl:Found untraced functions such as _jit_compiled_convolution_op, _jit_compiled_convolution_op, _jit_compiled_convolution_op, _jit_compiled_convolution_op, _jit_compiled_convolution_op while saving (showing 5 of 15). These functions will not be directly callable after loading.\n"
     ]
    },
    {
     "name": "stdout",
     "output_type": "stream",
     "text": [
      "INFO:tensorflow:Assets written to: ../../artifacts/checkpoints\\checkpoint_GoogleNet\\assets\n"
     ]
    },
    {
     "name": "stderr",
     "output_type": "stream",
     "text": [
      "INFO:tensorflow:Assets written to: ../../artifacts/checkpoints\\checkpoint_GoogleNet\\assets\n"
     ]
    },
    {
     "name": "stdout",
     "output_type": "stream",
     "text": [
      "9/9 [==============================] - 5s 600ms/step - loss: 2.8665 - accuracy: 0.3447 - val_loss: 3.0826 - val_accuracy: 0.2765 - lr: 0.0050\n",
      "Epoch 28/100\n",
      "9/9 [==============================] - ETA: 0s - loss: 2.8189 - accuracy: 0.3581\n",
      "Epoch 28: val_loss did not improve from 3.08262\n",
      "9/9 [==============================] - 3s 302ms/step - loss: 2.8189 - accuracy: 0.3581 - val_loss: 3.0935 - val_accuracy: 0.2396 - lr: 0.0050\n",
      "Epoch 29/100\n",
      "9/9 [==============================] - ETA: 0s - loss: 2.7961 - accuracy: 0.3624\n",
      "Epoch 29: val_loss did not improve from 3.08262\n",
      "9/9 [==============================] - 3s 301ms/step - loss: 2.7961 - accuracy: 0.3624 - val_loss: 3.0957 - val_accuracy: 0.2765 - lr: 0.0050\n",
      "Epoch 30/100\n",
      "9/9 [==============================] - ETA: 0s - loss: 2.7537 - accuracy: 0.3741\n",
      "Epoch 30: val_loss did not improve from 3.08262\n",
      "9/9 [==============================] - 3s 301ms/step - loss: 2.7537 - accuracy: 0.3741 - val_loss: 3.1131 - val_accuracy: 0.2535 - lr: 0.0050\n",
      "Epoch 31/100\n",
      "9/9 [==============================] - ETA: 0s - loss: 2.7313 - accuracy: 0.3770\n",
      "Epoch 31: val_loss improved from 3.08262 to 3.05810, saving model to ../../artifacts/checkpoints\\checkpoint_GoogleNet\n"
     ]
    },
    {
     "name": "stderr",
     "output_type": "stream",
     "text": [
      "WARNING:absl:Found untraced functions such as _jit_compiled_convolution_op, _jit_compiled_convolution_op, _jit_compiled_convolution_op, _jit_compiled_convolution_op, _jit_compiled_convolution_op while saving (showing 5 of 15). These functions will not be directly callable after loading.\n"
     ]
    },
    {
     "name": "stdout",
     "output_type": "stream",
     "text": [
      "INFO:tensorflow:Assets written to: ../../artifacts/checkpoints\\checkpoint_GoogleNet\\assets\n"
     ]
    },
    {
     "name": "stderr",
     "output_type": "stream",
     "text": [
      "INFO:tensorflow:Assets written to: ../../artifacts/checkpoints\\checkpoint_GoogleNet\\assets\n"
     ]
    },
    {
     "name": "stdout",
     "output_type": "stream",
     "text": [
      "9/9 [==============================] - 5s 576ms/step - loss: 2.7313 - accuracy: 0.3770 - val_loss: 3.0581 - val_accuracy: 0.2719 - lr: 0.0025\n",
      "Epoch 32/100\n",
      "9/9 [==============================] - ETA: 0s - loss: 2.6404 - accuracy: 0.4011\n",
      "Epoch 32: val_loss improved from 3.05810 to 2.97952, saving model to ../../artifacts/checkpoints\\checkpoint_GoogleNet\n"
     ]
    },
    {
     "name": "stderr",
     "output_type": "stream",
     "text": [
      "WARNING:absl:Found untraced functions such as _jit_compiled_convolution_op, _jit_compiled_convolution_op, _jit_compiled_convolution_op, _jit_compiled_convolution_op, _jit_compiled_convolution_op while saving (showing 5 of 15). These functions will not be directly callable after loading.\n"
     ]
    },
    {
     "name": "stdout",
     "output_type": "stream",
     "text": [
      "INFO:tensorflow:Assets written to: ../../artifacts/checkpoints\\checkpoint_GoogleNet\\assets\n"
     ]
    },
    {
     "name": "stderr",
     "output_type": "stream",
     "text": [
      "INFO:tensorflow:Assets written to: ../../artifacts/checkpoints\\checkpoint_GoogleNet\\assets\n"
     ]
    },
    {
     "name": "stdout",
     "output_type": "stream",
     "text": [
      "9/9 [==============================] - 5s 605ms/step - loss: 2.6404 - accuracy: 0.4011 - val_loss: 2.9795 - val_accuracy: 0.2995 - lr: 0.0025\n",
      "Epoch 33/100\n",
      "9/9 [==============================] - ETA: 0s - loss: 2.5751 - accuracy: 0.4228\n",
      "Epoch 33: val_loss improved from 2.97952 to 2.92723, saving model to ../../artifacts/checkpoints\\checkpoint_GoogleNet\n"
     ]
    },
    {
     "name": "stderr",
     "output_type": "stream",
     "text": [
      "WARNING:absl:Found untraced functions such as _jit_compiled_convolution_op, _jit_compiled_convolution_op, _jit_compiled_convolution_op, _jit_compiled_convolution_op, _jit_compiled_convolution_op while saving (showing 5 of 15). These functions will not be directly callable after loading.\n"
     ]
    },
    {
     "name": "stdout",
     "output_type": "stream",
     "text": [
      "INFO:tensorflow:Assets written to: ../../artifacts/checkpoints\\checkpoint_GoogleNet\\assets\n"
     ]
    },
    {
     "name": "stderr",
     "output_type": "stream",
     "text": [
      "INFO:tensorflow:Assets written to: ../../artifacts/checkpoints\\checkpoint_GoogleNet\\assets\n"
     ]
    },
    {
     "name": "stdout",
     "output_type": "stream",
     "text": [
      "9/9 [==============================] - 5s 595ms/step - loss: 2.5751 - accuracy: 0.4228 - val_loss: 2.9272 - val_accuracy: 0.3226 - lr: 0.0025\n",
      "Epoch 34/100\n",
      "9/9 [==============================] - ETA: 0s - loss: 2.5075 - accuracy: 0.4388\n",
      "Epoch 34: val_loss improved from 2.92723 to 2.91827, saving model to ../../artifacts/checkpoints\\checkpoint_GoogleNet\n"
     ]
    },
    {
     "name": "stderr",
     "output_type": "stream",
     "text": [
      "WARNING:absl:Found untraced functions such as _jit_compiled_convolution_op, _jit_compiled_convolution_op, _jit_compiled_convolution_op, _jit_compiled_convolution_op, _jit_compiled_convolution_op while saving (showing 5 of 15). These functions will not be directly callable after loading.\n"
     ]
    },
    {
     "name": "stdout",
     "output_type": "stream",
     "text": [
      "INFO:tensorflow:Assets written to: ../../artifacts/checkpoints\\checkpoint_GoogleNet\\assets\n"
     ]
    },
    {
     "name": "stderr",
     "output_type": "stream",
     "text": [
      "INFO:tensorflow:Assets written to: ../../artifacts/checkpoints\\checkpoint_GoogleNet\\assets\n"
     ]
    },
    {
     "name": "stdout",
     "output_type": "stream",
     "text": [
      "9/9 [==============================] - 5s 581ms/step - loss: 2.5075 - accuracy: 0.4388 - val_loss: 2.9183 - val_accuracy: 0.3134 - lr: 0.0025\n",
      "Epoch 35/100\n",
      "9/9 [==============================] - ETA: 0s - loss: 2.4465 - accuracy: 0.4510\n",
      "Epoch 35: val_loss did not improve from 2.91827\n",
      "9/9 [==============================] - 3s 303ms/step - loss: 2.4465 - accuracy: 0.4510 - val_loss: 2.9431 - val_accuracy: 0.3041 - lr: 0.0025\n",
      "Epoch 36/100\n",
      "9/9 [==============================] - ETA: 0s - loss: 2.4607 - accuracy: 0.4468\n",
      "Epoch 36: val_loss did not improve from 2.91827\n",
      "9/9 [==============================] - 3s 299ms/step - loss: 2.4607 - accuracy: 0.4468 - val_loss: 2.9234 - val_accuracy: 0.2903 - lr: 0.0025\n",
      "Epoch 37/100\n",
      "9/9 [==============================] - ETA: 0s - loss: 2.3799 - accuracy: 0.4741\n",
      "Epoch 37: val_loss did not improve from 2.91827\n",
      "9/9 [==============================] - 3s 301ms/step - loss: 2.3799 - accuracy: 0.4741 - val_loss: 2.9229 - val_accuracy: 0.3180 - lr: 0.0025\n",
      "Epoch 38/100\n",
      "9/9 [==============================] - ETA: 0s - loss: 2.3695 - accuracy: 0.4724\n",
      "Epoch 38: val_loss improved from 2.91827 to 2.91414, saving model to ../../artifacts/checkpoints\\checkpoint_GoogleNet\n"
     ]
    },
    {
     "name": "stderr",
     "output_type": "stream",
     "text": [
      "WARNING:absl:Found untraced functions such as _jit_compiled_convolution_op, _jit_compiled_convolution_op, _jit_compiled_convolution_op, _jit_compiled_convolution_op, _jit_compiled_convolution_op while saving (showing 5 of 15). These functions will not be directly callable after loading.\n"
     ]
    },
    {
     "name": "stdout",
     "output_type": "stream",
     "text": [
      "INFO:tensorflow:Assets written to: ../../artifacts/checkpoints\\checkpoint_GoogleNet\\assets\n"
     ]
    },
    {
     "name": "stderr",
     "output_type": "stream",
     "text": [
      "INFO:tensorflow:Assets written to: ../../artifacts/checkpoints\\checkpoint_GoogleNet\\assets\n"
     ]
    },
    {
     "name": "stdout",
     "output_type": "stream",
     "text": [
      "9/9 [==============================] - 5s 602ms/step - loss: 2.3695 - accuracy: 0.4724 - val_loss: 2.9141 - val_accuracy: 0.3088 - lr: 0.0012\n",
      "Epoch 39/100\n",
      "9/9 [==============================] - ETA: 0s - loss: 2.3111 - accuracy: 0.4904\n",
      "Epoch 39: val_loss improved from 2.91414 to 2.89520, saving model to ../../artifacts/checkpoints\\checkpoint_GoogleNet\n"
     ]
    },
    {
     "name": "stderr",
     "output_type": "stream",
     "text": [
      "WARNING:absl:Found untraced functions such as _jit_compiled_convolution_op, _jit_compiled_convolution_op, _jit_compiled_convolution_op, _jit_compiled_convolution_op, _jit_compiled_convolution_op while saving (showing 5 of 15). These functions will not be directly callable after loading.\n"
     ]
    },
    {
     "name": "stdout",
     "output_type": "stream",
     "text": [
      "INFO:tensorflow:Assets written to: ../../artifacts/checkpoints\\checkpoint_GoogleNet\\assets\n"
     ]
    },
    {
     "name": "stderr",
     "output_type": "stream",
     "text": [
      "INFO:tensorflow:Assets written to: ../../artifacts/checkpoints\\checkpoint_GoogleNet\\assets\n"
     ]
    },
    {
     "name": "stdout",
     "output_type": "stream",
     "text": [
      "9/9 [==============================] - 5s 600ms/step - loss: 2.3111 - accuracy: 0.4904 - val_loss: 2.8952 - val_accuracy: 0.3364 - lr: 0.0012\n",
      "Epoch 40/100\n",
      "9/9 [==============================] - ETA: 0s - loss: 2.2696 - accuracy: 0.4991\n",
      "Epoch 40: val_loss improved from 2.89520 to 2.87112, saving model to ../../artifacts/checkpoints\\checkpoint_GoogleNet\n"
     ]
    },
    {
     "name": "stderr",
     "output_type": "stream",
     "text": [
      "WARNING:absl:Found untraced functions such as _jit_compiled_convolution_op, _jit_compiled_convolution_op, _jit_compiled_convolution_op, _jit_compiled_convolution_op, _jit_compiled_convolution_op while saving (showing 5 of 15). These functions will not be directly callable after loading.\n"
     ]
    },
    {
     "name": "stdout",
     "output_type": "stream",
     "text": [
      "INFO:tensorflow:Assets written to: ../../artifacts/checkpoints\\checkpoint_GoogleNet\\assets\n"
     ]
    },
    {
     "name": "stderr",
     "output_type": "stream",
     "text": [
      "INFO:tensorflow:Assets written to: ../../artifacts/checkpoints\\checkpoint_GoogleNet\\assets\n"
     ]
    },
    {
     "name": "stdout",
     "output_type": "stream",
     "text": [
      "9/9 [==============================] - 5s 571ms/step - loss: 2.2696 - accuracy: 0.4991 - val_loss: 2.8711 - val_accuracy: 0.3364 - lr: 0.0012\n",
      "Epoch 41/100\n",
      "9/9 [==============================] - ETA: 0s - loss: 2.2019 - accuracy: 0.5261\n",
      "Epoch 41: val_loss did not improve from 2.87112\n",
      "9/9 [==============================] - 3s 302ms/step - loss: 2.2019 - accuracy: 0.5261 - val_loss: 2.8862 - val_accuracy: 0.3594 - lr: 0.0012\n",
      "Epoch 42/100\n",
      "9/9 [==============================] - ETA: 0s - loss: 2.2112 - accuracy: 0.5171\n",
      "Epoch 42: val_loss did not improve from 2.87112\n",
      "9/9 [==============================] - 3s 299ms/step - loss: 2.2112 - accuracy: 0.5171 - val_loss: 2.8889 - val_accuracy: 0.3594 - lr: 0.0012\n",
      "Epoch 43/100\n",
      "9/9 [==============================] - ETA: 0s - loss: 2.1649 - accuracy: 0.5286\n",
      "Epoch 43: val_loss did not improve from 2.87112\n",
      "9/9 [==============================] - 3s 301ms/step - loss: 2.1649 - accuracy: 0.5286 - val_loss: 2.8816 - val_accuracy: 0.3456 - lr: 0.0012\n",
      "Epoch 44/100\n",
      "9/9 [==============================] - ETA: 0s - loss: 2.1539 - accuracy: 0.5359\n",
      "Epoch 44: val_loss improved from 2.87112 to 2.86045, saving model to ../../artifacts/checkpoints\\checkpoint_GoogleNet\n"
     ]
    },
    {
     "name": "stderr",
     "output_type": "stream",
     "text": [
      "WARNING:absl:Found untraced functions such as _jit_compiled_convolution_op, _jit_compiled_convolution_op, _jit_compiled_convolution_op, _jit_compiled_convolution_op, _jit_compiled_convolution_op while saving (showing 5 of 15). These functions will not be directly callable after loading.\n"
     ]
    },
    {
     "name": "stdout",
     "output_type": "stream",
     "text": [
      "INFO:tensorflow:Assets written to: ../../artifacts/checkpoints\\checkpoint_GoogleNet\\assets\n"
     ]
    },
    {
     "name": "stderr",
     "output_type": "stream",
     "text": [
      "INFO:tensorflow:Assets written to: ../../artifacts/checkpoints\\checkpoint_GoogleNet\\assets\n"
     ]
    },
    {
     "name": "stdout",
     "output_type": "stream",
     "text": [
      "9/9 [==============================] - 5s 609ms/step - loss: 2.1539 - accuracy: 0.5359 - val_loss: 2.8605 - val_accuracy: 0.3318 - lr: 6.2500e-04\n",
      "Epoch 45/100\n",
      "9/9 [==============================] - ETA: 0s - loss: 2.1189 - accuracy: 0.5376\n",
      "Epoch 45: val_loss did not improve from 2.86045\n",
      "9/9 [==============================] - 3s 299ms/step - loss: 2.1189 - accuracy: 0.5376 - val_loss: 2.8819 - val_accuracy: 0.3641 - lr: 6.2500e-04\n",
      "Epoch 46/100\n",
      "9/9 [==============================] - ETA: 0s - loss: 2.0373 - accuracy: 0.5673\n",
      "Epoch 46: val_loss improved from 2.86045 to 2.85756, saving model to ../../artifacts/checkpoints\\checkpoint_GoogleNet\n"
     ]
    },
    {
     "name": "stderr",
     "output_type": "stream",
     "text": [
      "WARNING:absl:Found untraced functions such as _jit_compiled_convolution_op, _jit_compiled_convolution_op, _jit_compiled_convolution_op, _jit_compiled_convolution_op, _jit_compiled_convolution_op while saving (showing 5 of 15). These functions will not be directly callable after loading.\n"
     ]
    },
    {
     "name": "stdout",
     "output_type": "stream",
     "text": [
      "INFO:tensorflow:Assets written to: ../../artifacts/checkpoints\\checkpoint_GoogleNet\\assets\n"
     ]
    },
    {
     "name": "stderr",
     "output_type": "stream",
     "text": [
      "INFO:tensorflow:Assets written to: ../../artifacts/checkpoints\\checkpoint_GoogleNet\\assets\n"
     ]
    },
    {
     "name": "stdout",
     "output_type": "stream",
     "text": [
      "9/9 [==============================] - 5s 613ms/step - loss: 2.0373 - accuracy: 0.5673 - val_loss: 2.8576 - val_accuracy: 0.3548 - lr: 6.2500e-04\n",
      "Epoch 47/100\n",
      "9/9 [==============================] - ETA: 0s - loss: 2.0207 - accuracy: 0.5680\n",
      "Epoch 47: val_loss improved from 2.85756 to 2.85078, saving model to ../../artifacts/checkpoints\\checkpoint_GoogleNet\n"
     ]
    },
    {
     "name": "stderr",
     "output_type": "stream",
     "text": [
      "WARNING:absl:Found untraced functions such as _jit_compiled_convolution_op, _jit_compiled_convolution_op, _jit_compiled_convolution_op, _jit_compiled_convolution_op, _jit_compiled_convolution_op while saving (showing 5 of 15). These functions will not be directly callable after loading.\n"
     ]
    },
    {
     "name": "stdout",
     "output_type": "stream",
     "text": [
      "INFO:tensorflow:Assets written to: ../../artifacts/checkpoints\\checkpoint_GoogleNet\\assets\n"
     ]
    },
    {
     "name": "stderr",
     "output_type": "stream",
     "text": [
      "INFO:tensorflow:Assets written to: ../../artifacts/checkpoints\\checkpoint_GoogleNet\\assets\n"
     ]
    },
    {
     "name": "stdout",
     "output_type": "stream",
     "text": [
      "9/9 [==============================] - 5s 624ms/step - loss: 2.0207 - accuracy: 0.5680 - val_loss: 2.8508 - val_accuracy: 0.3641 - lr: 6.2500e-04\n",
      "Epoch 48/100\n",
      "9/9 [==============================] - ETA: 0s - loss: 2.0198 - accuracy: 0.5767\n",
      "Epoch 48: val_loss did not improve from 2.85078\n",
      "9/9 [==============================] - 3s 304ms/step - loss: 2.0198 - accuracy: 0.5767 - val_loss: 2.8553 - val_accuracy: 0.3641 - lr: 6.2500e-04\n",
      "Epoch 49/100\n",
      "9/9 [==============================] - ETA: 0s - loss: 2.0037 - accuracy: 0.5823\n",
      "Epoch 49: val_loss improved from 2.85078 to 2.82508, saving model to ../../artifacts/checkpoints\\checkpoint_GoogleNet\n"
     ]
    },
    {
     "name": "stderr",
     "output_type": "stream",
     "text": [
      "WARNING:absl:Found untraced functions such as _jit_compiled_convolution_op, _jit_compiled_convolution_op, _jit_compiled_convolution_op, _jit_compiled_convolution_op, _jit_compiled_convolution_op while saving (showing 5 of 15). These functions will not be directly callable after loading.\n"
     ]
    },
    {
     "name": "stdout",
     "output_type": "stream",
     "text": [
      "INFO:tensorflow:Assets written to: ../../artifacts/checkpoints\\checkpoint_GoogleNet\\assets\n"
     ]
    },
    {
     "name": "stderr",
     "output_type": "stream",
     "text": [
      "INFO:tensorflow:Assets written to: ../../artifacts/checkpoints\\checkpoint_GoogleNet\\assets\n"
     ]
    },
    {
     "name": "stdout",
     "output_type": "stream",
     "text": [
      "9/9 [==============================] - 5s 612ms/step - loss: 2.0037 - accuracy: 0.5823 - val_loss: 2.8251 - val_accuracy: 0.3548 - lr: 6.2500e-04\n",
      "Epoch 50/100\n",
      "9/9 [==============================] - ETA: 0s - loss: 1.9801 - accuracy: 0.5865\n",
      "Epoch 50: val_loss did not improve from 2.82508\n",
      "9/9 [==============================] - 3s 301ms/step - loss: 1.9801 - accuracy: 0.5865 - val_loss: 2.8514 - val_accuracy: 0.3594 - lr: 6.2500e-04\n",
      "Epoch 51/100\n",
      "9/9 [==============================] - ETA: 0s - loss: 1.9674 - accuracy: 0.5853\n",
      "Epoch 51: val_loss did not improve from 2.82508\n",
      "9/9 [==============================] - 3s 306ms/step - loss: 1.9674 - accuracy: 0.5853 - val_loss: 2.8311 - val_accuracy: 0.3687 - lr: 6.2500e-04\n",
      "Epoch 52/100\n",
      "9/9 [==============================] - ETA: 0s - loss: 1.9568 - accuracy: 0.5955\n",
      "Epoch 52: val_loss did not improve from 2.82508\n",
      "9/9 [==============================] - 3s 307ms/step - loss: 1.9568 - accuracy: 0.5955 - val_loss: 2.8314 - val_accuracy: 0.3502 - lr: 6.2500e-04\n",
      "Epoch 53/100\n",
      "9/9 [==============================] - ETA: 0s - loss: 1.9342 - accuracy: 0.5996\n",
      "Epoch 53: val_loss did not improve from 2.82508\n",
      "9/9 [==============================] - 3s 301ms/step - loss: 1.9342 - accuracy: 0.5996 - val_loss: 2.8374 - val_accuracy: 0.3641 - lr: 3.1250e-04\n",
      "Epoch 54/100\n",
      "9/9 [==============================] - ETA: 0s - loss: 1.9188 - accuracy: 0.6098\n",
      "Epoch 54: val_loss did not improve from 2.82508\n",
      "9/9 [==============================] - 3s 297ms/step - loss: 1.9188 - accuracy: 0.6098 - val_loss: 2.8362 - val_accuracy: 0.3641 - lr: 3.1250e-04\n",
      "Epoch 55/100\n",
      "9/9 [==============================] - ETA: 0s - loss: 1.8749 - accuracy: 0.6164\n",
      "Epoch 55: val_loss did not improve from 2.82508\n",
      "9/9 [==============================] - 3s 305ms/step - loss: 1.8749 - accuracy: 0.6164 - val_loss: 2.8429 - val_accuracy: 0.3641 - lr: 3.1250e-04\n",
      "Epoch 56/100\n",
      "9/9 [==============================] - ETA: 0s - loss: 1.8789 - accuracy: 0.6191\n",
      "Epoch 56: val_loss did not improve from 2.82508\n",
      "9/9 [==============================] - 3s 299ms/step - loss: 1.8789 - accuracy: 0.6191 - val_loss: 2.8462 - val_accuracy: 0.3641 - lr: 1.5625e-04\n",
      "Epoch 57/100\n",
      "9/9 [==============================] - ETA: 0s - loss: 1.8569 - accuracy: 0.6320\n",
      "Epoch 57: val_loss did not improve from 2.82508\n",
      "9/9 [==============================] - 3s 304ms/step - loss: 1.8569 - accuracy: 0.6320 - val_loss: 2.8361 - val_accuracy: 0.3779 - lr: 1.5625e-04\n",
      "Epoch 58/100\n",
      "9/9 [==============================] - ETA: 0s - loss: 1.8412 - accuracy: 0.6283\n",
      "Epoch 58: val_loss did not improve from 2.82508\n",
      "9/9 [==============================] - 3s 298ms/step - loss: 1.8412 - accuracy: 0.6283 - val_loss: 2.8340 - val_accuracy: 0.3733 - lr: 1.5625e-04\n",
      "Epoch 59/100\n",
      "9/9 [==============================] - ETA: 0s - loss: 1.8287 - accuracy: 0.6281\n",
      "Epoch 59: val_loss did not improve from 2.82508\n",
      "9/9 [==============================] - 3s 301ms/step - loss: 1.8287 - accuracy: 0.6281 - val_loss: 2.8412 - val_accuracy: 0.3594 - lr: 7.8125e-05\n",
      "Epoch 60/100\n",
      "9/9 [==============================] - ETA: 0s - loss: 1.8466 - accuracy: 0.6283\n",
      "Epoch 60: val_loss did not improve from 2.82508\n",
      "9/9 [==============================] - 3s 295ms/step - loss: 1.8466 - accuracy: 0.6283 - val_loss: 2.8312 - val_accuracy: 0.3594 - lr: 7.8125e-05\n",
      "Epoch 61/100\n",
      "9/9 [==============================] - ETA: 0s - loss: 1.8266 - accuracy: 0.6376\n",
      "Epoch 61: val_loss did not improve from 2.82508\n",
      "9/9 [==============================] - 3s 304ms/step - loss: 1.8266 - accuracy: 0.6376 - val_loss: 2.8312 - val_accuracy: 0.3733 - lr: 7.8125e-05\n",
      "Epoch 62/100\n",
      "9/9 [==============================] - ETA: 0s - loss: 1.8115 - accuracy: 0.6402\n",
      "Epoch 62: val_loss did not improve from 2.82508\n",
      "9/9 [==============================] - 3s 300ms/step - loss: 1.8115 - accuracy: 0.6402 - val_loss: 2.8353 - val_accuracy: 0.3779 - lr: 3.9062e-05\n",
      "Epoch 63/100\n",
      "9/9 [==============================] - ETA: 0s - loss: 1.8233 - accuracy: 0.6290\n",
      "Epoch 63: val_loss did not improve from 2.82508\n",
      "9/9 [==============================] - 3s 302ms/step - loss: 1.8233 - accuracy: 0.6290 - val_loss: 2.8396 - val_accuracy: 0.3687 - lr: 3.9062e-05\n",
      "Epoch 64/100\n",
      "9/9 [==============================] - ETA: 0s - loss: 1.8170 - accuracy: 0.6334\n",
      "Epoch 64: val_loss did not improve from 2.82508\n",
      "9/9 [==============================] - 3s 300ms/step - loss: 1.8170 - accuracy: 0.6334 - val_loss: 2.8385 - val_accuracy: 0.3687 - lr: 3.9062e-05\n",
      "Epoch 65/100\n",
      "9/9 [==============================] - ETA: 0s - loss: 1.8235 - accuracy: 0.6371\n",
      "Epoch 65: val_loss did not improve from 2.82508\n",
      "9/9 [==============================] - 3s 296ms/step - loss: 1.8235 - accuracy: 0.6371 - val_loss: 2.8404 - val_accuracy: 0.3641 - lr: 1.9531e-05\n",
      "Epoch 66/100\n",
      "9/9 [==============================] - ETA: 0s - loss: 1.8066 - accuracy: 0.6451\n",
      "Epoch 66: val_loss did not improve from 2.82508\n",
      "9/9 [==============================] - 3s 299ms/step - loss: 1.8066 - accuracy: 0.6451 - val_loss: 2.8394 - val_accuracy: 0.3687 - lr: 1.9531e-05\n",
      "Epoch 67/100\n",
      "9/9 [==============================] - ETA: 0s - loss: 1.8214 - accuracy: 0.6359\n",
      "Epoch 67: val_loss did not improve from 2.82508\n",
      "9/9 [==============================] - 3s 300ms/step - loss: 1.8214 - accuracy: 0.6359 - val_loss: 2.8380 - val_accuracy: 0.3733 - lr: 1.9531e-05\n",
      "Epoch 68/100\n",
      "9/9 [==============================] - ETA: 0s - loss: 1.8023 - accuracy: 0.6427\n",
      "Epoch 68: val_loss did not improve from 2.82508\n",
      "9/9 [==============================] - 3s 297ms/step - loss: 1.8023 - accuracy: 0.6427 - val_loss: 2.8369 - val_accuracy: 0.3779 - lr: 9.7656e-06\n",
      "Epoch 69/100\n",
      "9/9 [==============================] - ETA: 0s - loss: 1.7807 - accuracy: 0.6451\n",
      "Epoch 69: val_loss did not improve from 2.82508\n",
      "9/9 [==============================] - 3s 297ms/step - loss: 1.7807 - accuracy: 0.6451 - val_loss: 2.8379 - val_accuracy: 0.3733 - lr: 9.7656e-06\n",
      "20/20 [==============================] - 1s 16ms/step - loss: 2.7501 - accuracy: 0.3910\n",
      "Saving model to \"artifacts/models/GoogleNet.h5\"...\n",
      "Model saved successfully!\n"
     ]
    }
   ],
   "source": [
    "google_net_wrapper.train_evaluate_and_save_model(\n",
    "    callbacks=[keras.callbacks.ReduceLROnPlateau(monitor=\"val_loss\", factor=0.5, patience=3, min_lr=1e-6)]  # type: ignore\n",
    ")"
   ]
  },
  {
   "cell_type": "code",
   "execution_count": 10,
   "metadata": {},
   "outputs": [
    {
     "data": {
      "image/png": "[encoded data removed]",
      "text/plain": [
       "<Figure size 640x480 with 1 Axes>"
      ]
     },
     "metadata": {},
     "output_type": "display_data"
    }
   ],
   "source": [
    "google_net_wrapper.plot_accuracy()"
   ]
  },
  {
   "cell_type": "code",
   "execution_count": 11,
   "metadata": {},
   "outputs": [
    {
     "data": {
      "image/png": "[encoded data removed]",
      "text/plain": [
       "<Figure size 640x480 with 1 Axes>"
      ]
     },
     "metadata": {},
     "output_type": "display_data"
    }
   ],
   "source": [
    "google_net_wrapper.plot_loss()"
   ]
  },
  {
   "cell_type": "code",
   "execution_count": 12,
   "metadata": {},
   "outputs": [
    {
     "name": "stdout",
     "output_type": "stream",
     "text": [
      "20/20 [==============================] - 0s 11ms/step\n"
     ]
    },
    {
     "data": {
      "image/png": "[encoded data removed]",
      "text/plain": [
       "<Figure size 1500x1000 with 2 Axes>"
      ]
     },
     "metadata": {},
     "output_type": "display_data"
    }
   ],
   "source": [
    "google_net_wrapper.display_confusion_matrix()"
   ]
  },
  {
   "cell_type": "code",
   "execution_count": null,
   "metadata": {},
   "outputs": [],
   "source": []
  }
 ],
 "metadata": {
  "kernelspec": {
   "display_name": "ML-projekat",
   "language": "python",
   "name": "python3"
  },
  "language_info": {
   "codemirror_mode": {
    "name": "ipython",
    "version": 3
   },
   "file_extension": ".py",
   "mimetype": "text/x-python",
   "name": "python",
   "nbconvert_exporter": "python",
   "pygments_lexer": "ipython3",
   "version": "3.9.17"
  },
  "orig_nbformat": 4
 },
 "nbformat": 4,
 "nbformat_minor": 2
}
