{
 "cells": [
  {
   "cell_type": "code",
   "execution_count": 1,
   "metadata": {},
   "outputs": [],
   "source": [
    "import sys\n",
    "\n",
    "sys.path.append(\"..\")"
   ]
  },
  {
   "cell_type": "code",
   "execution_count": 2,
   "metadata": {},
   "outputs": [],
   "source": [
    "from tensorflow import keras"
   ]
  },
  {
   "cell_type": "code",
   "execution_count": 3,
   "metadata": {},
   "outputs": [],
   "source": [
    "from utils.preprocessing_utils import PreprocessingUtils"
   ]
  },
  {
   "cell_type": "code",
   "execution_count": 4,
   "metadata": {},
   "outputs": [],
   "source": [
    "from utils.model_wrapper import ModelWrapper"
   ]
  },
  {
   "cell_type": "code",
   "execution_count": 5,
   "metadata": {},
   "outputs": [
    {
     "name": "stdout",
     "output_type": "stream",
     "text": [
      "Files already exist, skipping...\n",
      "Loading images and labels...\n",
      "Images and labels loaded successfully!\n",
      "Preprocessing labels...\n",
      "Labels preprocessed successfully!\n",
      "Splitting data into train, test and validation sets...\n",
      "Data split successfully!\n"
     ]
    }
   ],
   "source": [
    "preprocessing_utils = PreprocessingUtils()"
   ]
  },
  {
   "cell_type": "code",
   "execution_count": 6,
   "metadata": {},
   "outputs": [],
   "source": [
    "def build_caffe_net(model_name: str):\n",
    "    model = keras.models.Sequential(\n",
    "        name=model_name,\n",
    "        layers=[\n",
    "            keras.layers.Conv2D(\n",
    "                filters=3, kernel_size=(11, 11), activation=\"relu\", input_shape=preprocessing_utils.images.shape[1:]\n",
    "            ),\n",
    "            keras.layers.MaxPooling2D(pool_size=(2, 2)),\n",
    "            keras.layers.BatchNormalization(),\n",
    "            keras.layers.Conv2D(\n",
    "                filters=16, kernel_size=(5, 5), activation=\"relu\", kernel_regularizer=keras.regularizers.l2(0.01)\n",
    "            ),\n",
    "            keras.layers.MaxPooling2D(pool_size=(2, 2)),\n",
    "            keras.layers.BatchNormalization(),\n",
    "            keras.layers.Conv2D(\n",
    "                filters=96, kernel_size=(3, 3), activation=\"relu\", kernel_regularizer=keras.regularizers.l2(0.01)\n",
    "            ),\n",
    "            keras.layers.MaxPooling2D(pool_size=(2, 2)),\n",
    "            keras.layers.Flatten(),\n",
    "            keras.layers.Dense(units=2048, activation=\"relu\", kernel_regularizer=keras.regularizers.l2(0.01)),\n",
    "            keras.layers.Dense(units=2048, activation=\"relu\", kernel_regularizer=keras.regularizers.l2(0.01)),\n",
    "            keras.layers.Dense(units=preprocessing_utils.num_classes, activation=\"softmax\"),\n",
    "        ],\n",
    "    )\n",
    "\n",
    "    model.compile(optimizer=\"adam\", loss=\"categorical_crossentropy\", metrics=[\"accuracy\"])\n",
    "\n",
    "    model.summary()\n",
    "\n",
    "    return model"
   ]
  },
  {
   "cell_type": "code",
   "execution_count": 7,
   "metadata": {},
   "outputs": [],
   "source": [
    "caffe_net_wrapper = ModelWrapper(\"CaffeNet\", preprocessing_utils=preprocessing_utils)"
   ]
  },
  {
   "cell_type": "code",
   "execution_count": 8,
   "metadata": {},
   "outputs": [
    {
     "name": "stdout",
     "output_type": "stream",
     "text": [
      "Building model...\n",
      "Model: \"CaffeNet\"\n",
      "_________________________________________________________________\n",
      " Layer (type)                Output Shape              Param #   \n",
      "=================================================================\n",
      " conv2d (Conv2D)             (None, 246, 246, 3)       1092      \n",
      "                                                                 \n",
      " max_pooling2d (MaxPooling2D  (None, 123, 123, 3)      0         \n",
      " )                                                               \n",
      "                                                                 \n",
      " batch_normalization (BatchN  (None, 123, 123, 3)      12        \n",
      " ormalization)                                                   \n",
      "                                                                 \n",
      " conv2d_1 (Conv2D)           (None, 119, 119, 16)      1216      \n",
      "                                                                 \n",
      " max_pooling2d_1 (MaxPooling  (None, 59, 59, 16)       0         \n",
      " 2D)                                                             \n",
      "                                                                 \n",
      " batch_normalization_1 (Batc  (None, 59, 59, 16)       64        \n",
      " hNormalization)                                                 \n",
      "                                                                 \n",
      " conv2d_2 (Conv2D)           (None, 57, 57, 96)        13920     \n",
      "                                                                 \n",
      " max_pooling2d_2 (MaxPooling  (None, 28, 28, 96)       0         \n",
      " 2D)                                                             \n",
      "                                                                 \n",
      " flatten (Flatten)           (None, 75264)             0         \n",
      "                                                                 \n",
      " dense (Dense)               (None, 2048)              154142720 \n",
      "                                                                 \n",
      " dense_1 (Dense)             (None, 2048)              4196352   \n",
      "                                                                 \n",
      " dense_2 (Dense)             (None, 25)                51225     \n",
      "                                                                 \n",
      "=================================================================\n",
      "Total params: 158,406,601\n",
      "Trainable params: 158,406,563\n",
      "Non-trainable params: 38\n",
      "_________________________________________________________________\n",
      "Model built successfully!\n",
      "Saving model summary to ../../artifacts/model_summaries/summary_CaffeNet...\n",
      "Model summary saved successfully!\n"
     ]
    }
   ],
   "source": [
    "caffe_net_wrapper.build_model(build_fn=build_caffe_net, model_name=caffe_net_wrapper.model_name)"
   ]
  },
  {
   "cell_type": "code",
   "execution_count": 9,
   "metadata": {},
   "outputs": [
    {
     "name": "stdout",
     "output_type": "stream",
     "text": [
      "Epoch 1/100\n",
      "9/9 [==============================] - ETA: 0s - loss: 114.6927 - accuracy: 0.0516\n",
      "Epoch 1: val_loss improved from inf to 57.68774, saving model to ../../artifacts/checkpoints\\checkpoint_CaffeNet\n"
     ]
    },
    {
     "name": "stderr",
     "output_type": "stream",
     "text": [
      "WARNING:absl:Found untraced functions such as _jit_compiled_convolution_op, _jit_compiled_convolution_op, _jit_compiled_convolution_op while saving (showing 3 of 3). These functions will not be directly callable after loading.\n"
     ]
    },
    {
     "name": "stdout",
     "output_type": "stream",
     "text": [
      "INFO:tensorflow:Assets written to: ../../artifacts/checkpoints\\checkpoint_CaffeNet\\assets\n"
     ]
    },
    {
     "name": "stderr",
     "output_type": "stream",
     "text": [
      "INFO:tensorflow:Assets written to: ../../artifacts/checkpoints\\checkpoint_CaffeNet\\assets\n"
     ]
    },
    {
     "name": "stdout",
     "output_type": "stream",
     "text": [
      "9/9 [==============================] - 14s 661ms/step - loss: 114.6927 - accuracy: 0.0516 - val_loss: 57.6877 - val_accuracy: 0.0138 - lr: 0.0010\n",
      "Epoch 2/100\n",
      "9/9 [==============================] - ETA: 0s - loss: 50.6573 - accuracy: 0.0355\n",
      "Epoch 2: val_loss improved from 57.68774 to 40.07085, saving model to ../../artifacts/checkpoints\\checkpoint_CaffeNet\n"
     ]
    },
    {
     "name": "stderr",
     "output_type": "stream",
     "text": [
      "WARNING:absl:Found untraced functions such as _jit_compiled_convolution_op, _jit_compiled_convolution_op, _jit_compiled_convolution_op while saving (showing 3 of 3). These functions will not be directly callable after loading.\n"
     ]
    },
    {
     "name": "stdout",
     "output_type": "stream",
     "text": [
      "INFO:tensorflow:Assets written to: ../../artifacts/checkpoints\\checkpoint_CaffeNet\\assets\n"
     ]
    },
    {
     "name": "stderr",
     "output_type": "stream",
     "text": [
      "INFO:tensorflow:Assets written to: ../../artifacts/checkpoints\\checkpoint_CaffeNet\\assets\n"
     ]
    },
    {
     "name": "stdout",
     "output_type": "stream",
     "text": [
      "9/9 [==============================] - 5s 575ms/step - loss: 50.6573 - accuracy: 0.0355 - val_loss: 40.0708 - val_accuracy: 0.0691 - lr: 0.0010\n",
      "Epoch 3/100\n",
      "8/9 [=========================>....] - ETA: 0s - loss: 36.1950 - accuracy: 0.0785\n",
      "Epoch 3: val_loss improved from 40.07085 to 33.08619, saving model to ../../artifacts/checkpoints\\checkpoint_CaffeNet\n"
     ]
    },
    {
     "name": "stderr",
     "output_type": "stream",
     "text": [
      "WARNING:absl:Found untraced functions such as _jit_compiled_convolution_op, _jit_compiled_convolution_op, _jit_compiled_convolution_op while saving (showing 3 of 3). These functions will not be directly callable after loading.\n"
     ]
    },
    {
     "name": "stdout",
     "output_type": "stream",
     "text": [
      "INFO:tensorflow:Assets written to: ../../artifacts/checkpoints\\checkpoint_CaffeNet\\assets\n"
     ]
    },
    {
     "name": "stderr",
     "output_type": "stream",
     "text": [
      "INFO:tensorflow:Assets written to: ../../artifacts/checkpoints\\checkpoint_CaffeNet\\assets\n"
     ]
    },
    {
     "name": "stdout",
     "output_type": "stream",
     "text": [
      "9/9 [==============================] - 5s 589ms/step - loss: 36.1038 - accuracy: 0.0791 - val_loss: 33.0862 - val_accuracy: 0.0323 - lr: 0.0010\n",
      "Epoch 4/100\n",
      "9/9 [==============================] - ETA: 0s - loss: 29.7499 - accuracy: 0.1447\n",
      "Epoch 4: val_loss improved from 33.08619 to 28.25059, saving model to ../../artifacts/checkpoints\\checkpoint_CaffeNet\n"
     ]
    },
    {
     "name": "stderr",
     "output_type": "stream",
     "text": [
      "WARNING:absl:Found untraced functions such as _jit_compiled_convolution_op, _jit_compiled_convolution_op, _jit_compiled_convolution_op while saving (showing 3 of 3). These functions will not be directly callable after loading.\n"
     ]
    },
    {
     "name": "stdout",
     "output_type": "stream",
     "text": [
      "INFO:tensorflow:Assets written to: ../../artifacts/checkpoints\\checkpoint_CaffeNet\\assets\n"
     ]
    },
    {
     "name": "stderr",
     "output_type": "stream",
     "text": [
      "INFO:tensorflow:Assets written to: ../../artifacts/checkpoints\\checkpoint_CaffeNet\\assets\n"
     ]
    },
    {
     "name": "stdout",
     "output_type": "stream",
     "text": [
      "9/9 [==============================] - 5s 658ms/step - loss: 29.7499 - accuracy: 0.1447 - val_loss: 28.2506 - val_accuracy: 0.0461 - lr: 0.0010\n",
      "Epoch 5/100\n",
      "9/9 [==============================] - ETA: 0s - loss: 24.3027 - accuracy: 0.1851\n",
      "Epoch 5: val_loss improved from 28.25059 to 24.28787, saving model to ../../artifacts/checkpoints\\checkpoint_CaffeNet\n"
     ]
    },
    {
     "name": "stderr",
     "output_type": "stream",
     "text": [
      "WARNING:absl:Found untraced functions such as _jit_compiled_convolution_op, _jit_compiled_convolution_op, _jit_compiled_convolution_op while saving (showing 3 of 3). These functions will not be directly callable after loading.\n"
     ]
    },
    {
     "name": "stdout",
     "output_type": "stream",
     "text": [
      "INFO:tensorflow:Assets written to: ../../artifacts/checkpoints\\checkpoint_CaffeNet\\assets\n"
     ]
    },
    {
     "name": "stderr",
     "output_type": "stream",
     "text": [
      "INFO:tensorflow:Assets written to: ../../artifacts/checkpoints\\checkpoint_CaffeNet\\assets\n"
     ]
    },
    {
     "name": "stdout",
     "output_type": "stream",
     "text": [
      "9/9 [==============================] - 5s 605ms/step - loss: 24.3027 - accuracy: 0.1851 - val_loss: 24.2879 - val_accuracy: 0.0230 - lr: 0.0010\n",
      "Epoch 6/100\n",
      "8/9 [=========================>....] - ETA: 0s - loss: 20.0709 - accuracy: 0.1822\n",
      "Epoch 6: val_loss improved from 24.28787 to 19.92050, saving model to ../../artifacts/checkpoints\\checkpoint_CaffeNet\n"
     ]
    },
    {
     "name": "stderr",
     "output_type": "stream",
     "text": [
      "WARNING:absl:Found untraced functions such as _jit_compiled_convolution_op, _jit_compiled_convolution_op, _jit_compiled_convolution_op while saving (showing 3 of 3). These functions will not be directly callable after loading.\n"
     ]
    },
    {
     "name": "stdout",
     "output_type": "stream",
     "text": [
      "INFO:tensorflow:Assets written to: ../../artifacts/checkpoints\\checkpoint_CaffeNet\\assets\n"
     ]
    },
    {
     "name": "stderr",
     "output_type": "stream",
     "text": [
      "INFO:tensorflow:Assets written to: ../../artifacts/checkpoints\\checkpoint_CaffeNet\\assets\n"
     ]
    },
    {
     "name": "stdout",
     "output_type": "stream",
     "text": [
      "9/9 [==============================] - 5s 587ms/step - loss: 20.0244 - accuracy: 0.1824 - val_loss: 19.9205 - val_accuracy: 0.0507 - lr: 0.0010\n",
      "Epoch 7/100\n",
      "9/9 [==============================] - ETA: 0s - loss: 16.7203 - accuracy: 0.2238\n",
      "Epoch 7: val_loss improved from 19.92050 to 17.98586, saving model to ../../artifacts/checkpoints\\checkpoint_CaffeNet\n"
     ]
    },
    {
     "name": "stderr",
     "output_type": "stream",
     "text": [
      "WARNING:absl:Found untraced functions such as _jit_compiled_convolution_op, _jit_compiled_convolution_op, _jit_compiled_convolution_op while saving (showing 3 of 3). These functions will not be directly callable after loading.\n"
     ]
    },
    {
     "name": "stdout",
     "output_type": "stream",
     "text": [
      "INFO:tensorflow:Assets written to: ../../artifacts/checkpoints\\checkpoint_CaffeNet\\assets\n"
     ]
    },
    {
     "name": "stderr",
     "output_type": "stream",
     "text": [
      "INFO:tensorflow:Assets written to: ../../artifacts/checkpoints\\checkpoint_CaffeNet\\assets\n"
     ]
    },
    {
     "name": "stdout",
     "output_type": "stream",
     "text": [
      "9/9 [==============================] - 5s 542ms/step - loss: 16.7203 - accuracy: 0.2238 - val_loss: 17.9859 - val_accuracy: 0.0599 - lr: 0.0010\n",
      "Epoch 8/100\n",
      "8/9 [=========================>....] - ETA: 0s - loss: 14.2481 - accuracy: 0.2415\n",
      "Epoch 8: val_loss improved from 17.98586 to 14.95428, saving model to ../../artifacts/checkpoints\\checkpoint_CaffeNet\n"
     ]
    },
    {
     "name": "stderr",
     "output_type": "stream",
     "text": [
      "WARNING:absl:Found untraced functions such as _jit_compiled_convolution_op, _jit_compiled_convolution_op, _jit_compiled_convolution_op while saving (showing 3 of 3). These functions will not be directly callable after loading.\n"
     ]
    },
    {
     "name": "stdout",
     "output_type": "stream",
     "text": [
      "INFO:tensorflow:Assets written to: ../../artifacts/checkpoints\\checkpoint_CaffeNet\\assets\n"
     ]
    },
    {
     "name": "stderr",
     "output_type": "stream",
     "text": [
      "INFO:tensorflow:Assets written to: ../../artifacts/checkpoints\\checkpoint_CaffeNet\\assets\n"
     ]
    },
    {
     "name": "stdout",
     "output_type": "stream",
     "text": [
      "9/9 [==============================] - 5s 529ms/step - loss: 14.2206 - accuracy: 0.2418 - val_loss: 14.9543 - val_accuracy: 0.0553 - lr: 0.0010\n",
      "Epoch 9/100\n",
      "9/9 [==============================] - ETA: 0s - loss: 12.5116 - accuracy: 0.2457\n",
      "Epoch 9: val_loss improved from 14.95428 to 13.23875, saving model to ../../artifacts/checkpoints\\checkpoint_CaffeNet\n"
     ]
    },
    {
     "name": "stderr",
     "output_type": "stream",
     "text": [
      "WARNING:absl:Found untraced functions such as _jit_compiled_convolution_op, _jit_compiled_convolution_op, _jit_compiled_convolution_op while saving (showing 3 of 3). These functions will not be directly callable after loading.\n"
     ]
    },
    {
     "name": "stdout",
     "output_type": "stream",
     "text": [
      "INFO:tensorflow:Assets written to: ../../artifacts/checkpoints\\checkpoint_CaffeNet\\assets\n"
     ]
    },
    {
     "name": "stderr",
     "output_type": "stream",
     "text": [
      "INFO:tensorflow:Assets written to: ../../artifacts/checkpoints\\checkpoint_CaffeNet\\assets\n"
     ]
    },
    {
     "name": "stdout",
     "output_type": "stream",
     "text": [
      "9/9 [==============================] - 6s 662ms/step - loss: 12.5116 - accuracy: 0.2457 - val_loss: 13.2387 - val_accuracy: 0.0968 - lr: 0.0010\n",
      "Epoch 10/100\n",
      "9/9 [==============================] - ETA: 0s - loss: 11.2743 - accuracy: 0.2705\n",
      "Epoch 10: val_loss improved from 13.23875 to 12.38122, saving model to ../../artifacts/checkpoints\\checkpoint_CaffeNet\n"
     ]
    },
    {
     "name": "stderr",
     "output_type": "stream",
     "text": [
      "WARNING:absl:Found untraced functions such as _jit_compiled_convolution_op, _jit_compiled_convolution_op, _jit_compiled_convolution_op while saving (showing 3 of 3). These functions will not be directly callable after loading.\n"
     ]
    },
    {
     "name": "stdout",
     "output_type": "stream",
     "text": [
      "INFO:tensorflow:Assets written to: ../../artifacts/checkpoints\\checkpoint_CaffeNet\\assets\n"
     ]
    },
    {
     "name": "stderr",
     "output_type": "stream",
     "text": [
      "INFO:tensorflow:Assets written to: ../../artifacts/checkpoints\\checkpoint_CaffeNet\\assets\n"
     ]
    },
    {
     "name": "stdout",
     "output_type": "stream",
     "text": [
      "9/9 [==============================] - 7s 814ms/step - loss: 11.2743 - accuracy: 0.2705 - val_loss: 12.3812 - val_accuracy: 0.0737 - lr: 0.0010\n",
      "Epoch 11/100\n",
      "9/9 [==============================] - ETA: 0s - loss: 10.4260 - accuracy: 0.2690\n",
      "Epoch 11: val_loss improved from 12.38122 to 11.52367, saving model to ../../artifacts/checkpoints\\checkpoint_CaffeNet\n"
     ]
    },
    {
     "name": "stderr",
     "output_type": "stream",
     "text": [
      "WARNING:absl:Found untraced functions such as _jit_compiled_convolution_op, _jit_compiled_convolution_op, _jit_compiled_convolution_op while saving (showing 3 of 3). These functions will not be directly callable after loading.\n"
     ]
    },
    {
     "name": "stdout",
     "output_type": "stream",
     "text": [
      "INFO:tensorflow:Assets written to: ../../artifacts/checkpoints\\checkpoint_CaffeNet\\assets\n"
     ]
    },
    {
     "name": "stderr",
     "output_type": "stream",
     "text": [
      "INFO:tensorflow:Assets written to: ../../artifacts/checkpoints\\checkpoint_CaffeNet\\assets\n"
     ]
    },
    {
     "name": "stdout",
     "output_type": "stream",
     "text": [
      "9/9 [==============================] - 7s 790ms/step - loss: 10.4260 - accuracy: 0.2690 - val_loss: 11.5237 - val_accuracy: 0.1060 - lr: 0.0010\n",
      "Epoch 12/100\n",
      "9/9 [==============================] - ETA: 0s - loss: 9.7222 - accuracy: 0.2977\n",
      "Epoch 12: val_loss improved from 11.52367 to 10.64543, saving model to ../../artifacts/checkpoints\\checkpoint_CaffeNet\n"
     ]
    },
    {
     "name": "stderr",
     "output_type": "stream",
     "text": [
      "WARNING:absl:Found untraced functions such as _jit_compiled_convolution_op, _jit_compiled_convolution_op, _jit_compiled_convolution_op while saving (showing 3 of 3). These functions will not be directly callable after loading.\n"
     ]
    },
    {
     "name": "stdout",
     "output_type": "stream",
     "text": [
      "INFO:tensorflow:Assets written to: ../../artifacts/checkpoints\\checkpoint_CaffeNet\\assets\n"
     ]
    },
    {
     "name": "stderr",
     "output_type": "stream",
     "text": [
      "INFO:tensorflow:Assets written to: ../../artifacts/checkpoints\\checkpoint_CaffeNet\\assets\n"
     ]
    },
    {
     "name": "stdout",
     "output_type": "stream",
     "text": [
      "9/9 [==============================] - 7s 829ms/step - loss: 9.7222 - accuracy: 0.2977 - val_loss: 10.6454 - val_accuracy: 0.0783 - lr: 0.0010\n",
      "Epoch 13/100\n",
      "9/9 [==============================] - ETA: 0s - loss: 9.3013 - accuracy: 0.2841\n",
      "Epoch 13: val_loss did not improve from 10.64543\n",
      "9/9 [==============================] - 4s 265ms/step - loss: 9.3013 - accuracy: 0.2841 - val_loss: 10.9406 - val_accuracy: 0.0645 - lr: 0.0010\n",
      "Epoch 14/100\n",
      "9/9 [==============================] - ETA: 0s - loss: 8.8947 - accuracy: 0.3262\n",
      "Epoch 14: val_loss improved from 10.64543 to 10.42355, saving model to ../../artifacts/checkpoints\\checkpoint_CaffeNet\n"
     ]
    },
    {
     "name": "stderr",
     "output_type": "stream",
     "text": [
      "WARNING:absl:Found untraced functions such as _jit_compiled_convolution_op, _jit_compiled_convolution_op, _jit_compiled_convolution_op while saving (showing 3 of 3). These functions will not be directly callable after loading.\n"
     ]
    },
    {
     "name": "stdout",
     "output_type": "stream",
     "text": [
      "INFO:tensorflow:Assets written to: ../../artifacts/checkpoints\\checkpoint_CaffeNet\\assets\n"
     ]
    },
    {
     "name": "stderr",
     "output_type": "stream",
     "text": [
      "INFO:tensorflow:Assets written to: ../../artifacts/checkpoints\\checkpoint_CaffeNet\\assets\n"
     ]
    },
    {
     "name": "stdout",
     "output_type": "stream",
     "text": [
      "9/9 [==============================] - 6s 776ms/step - loss: 8.8947 - accuracy: 0.3262 - val_loss: 10.4235 - val_accuracy: 0.1014 - lr: 0.0010\n",
      "Epoch 15/100\n",
      "9/9 [==============================] - ETA: 0s - loss: 8.4761 - accuracy: 0.3476\n",
      "Epoch 15: val_loss improved from 10.42355 to 10.09971, saving model to ../../artifacts/checkpoints\\checkpoint_CaffeNet\n"
     ]
    },
    {
     "name": "stderr",
     "output_type": "stream",
     "text": [
      "WARNING:absl:Found untraced functions such as _jit_compiled_convolution_op, _jit_compiled_convolution_op, _jit_compiled_convolution_op while saving (showing 3 of 3). These functions will not be directly callable after loading.\n"
     ]
    },
    {
     "name": "stdout",
     "output_type": "stream",
     "text": [
      "INFO:tensorflow:Assets written to: ../../artifacts/checkpoints\\checkpoint_CaffeNet\\assets\n"
     ]
    },
    {
     "name": "stderr",
     "output_type": "stream",
     "text": [
      "INFO:tensorflow:Assets written to: ../../artifacts/checkpoints\\checkpoint_CaffeNet\\assets\n"
     ]
    },
    {
     "name": "stdout",
     "output_type": "stream",
     "text": [
      "9/9 [==============================] - 5s 563ms/step - loss: 8.4761 - accuracy: 0.3476 - val_loss: 10.0997 - val_accuracy: 0.0645 - lr: 0.0010\n",
      "Epoch 16/100\n",
      "9/9 [==============================] - ETA: 0s - loss: 8.3637 - accuracy: 0.3320\n",
      "Epoch 16: val_loss improved from 10.09971 to 9.50867, saving model to ../../artifacts/checkpoints\\checkpoint_CaffeNet\n"
     ]
    },
    {
     "name": "stderr",
     "output_type": "stream",
     "text": [
      "WARNING:absl:Found untraced functions such as _jit_compiled_convolution_op, _jit_compiled_convolution_op, _jit_compiled_convolution_op while saving (showing 3 of 3). These functions will not be directly callable after loading.\n"
     ]
    },
    {
     "name": "stdout",
     "output_type": "stream",
     "text": [
      "INFO:tensorflow:Assets written to: ../../artifacts/checkpoints\\checkpoint_CaffeNet\\assets\n"
     ]
    },
    {
     "name": "stderr",
     "output_type": "stream",
     "text": [
      "INFO:tensorflow:Assets written to: ../../artifacts/checkpoints\\checkpoint_CaffeNet\\assets\n"
     ]
    },
    {
     "name": "stdout",
     "output_type": "stream",
     "text": [
      "9/9 [==============================] - 7s 831ms/step - loss: 8.3637 - accuracy: 0.3320 - val_loss: 9.5087 - val_accuracy: 0.1290 - lr: 0.0010\n",
      "Epoch 17/100\n",
      "9/9 [==============================] - ETA: 0s - loss: 8.0567 - accuracy: 0.3814\n",
      "Epoch 17: val_loss did not improve from 9.50867\n",
      "9/9 [==============================] - 2s 250ms/step - loss: 8.0567 - accuracy: 0.3814 - val_loss: 9.6887 - val_accuracy: 0.1152 - lr: 0.0010\n",
      "Epoch 18/100\n",
      "9/9 [==============================] - ETA: 0s - loss: 7.8377 - accuracy: 0.3992\n",
      "Epoch 18: val_loss improved from 9.50867 to 9.31153, saving model to ../../artifacts/checkpoints\\checkpoint_CaffeNet\n"
     ]
    },
    {
     "name": "stderr",
     "output_type": "stream",
     "text": [
      "WARNING:absl:Found untraced functions such as _jit_compiled_convolution_op, _jit_compiled_convolution_op, _jit_compiled_convolution_op while saving (showing 3 of 3). These functions will not be directly callable after loading.\n"
     ]
    },
    {
     "name": "stdout",
     "output_type": "stream",
     "text": [
      "INFO:tensorflow:Assets written to: ../../artifacts/checkpoints\\checkpoint_CaffeNet\\assets\n"
     ]
    },
    {
     "name": "stderr",
     "output_type": "stream",
     "text": [
      "INFO:tensorflow:Assets written to: ../../artifacts/checkpoints\\checkpoint_CaffeNet\\assets\n"
     ]
    },
    {
     "name": "stdout",
     "output_type": "stream",
     "text": [
      "9/9 [==============================] - 6s 764ms/step - loss: 7.8377 - accuracy: 0.3992 - val_loss: 9.3115 - val_accuracy: 0.1382 - lr: 0.0010\n",
      "Epoch 19/100\n",
      "9/9 [==============================] - ETA: 0s - loss: 7.6910 - accuracy: 0.4230\n",
      "Epoch 19: val_loss did not improve from 9.31153\n",
      "9/9 [==============================] - 2s 222ms/step - loss: 7.6910 - accuracy: 0.4230 - val_loss: 9.3272 - val_accuracy: 0.1290 - lr: 0.0010\n",
      "Epoch 20/100\n",
      "9/9 [==============================] - ETA: 0s - loss: 7.5860 - accuracy: 0.4230\n",
      "Epoch 20: val_loss improved from 9.31153 to 8.86814, saving model to ../../artifacts/checkpoints\\checkpoint_CaffeNet\n"
     ]
    },
    {
     "name": "stderr",
     "output_type": "stream",
     "text": [
      "WARNING:absl:Found untraced functions such as _jit_compiled_convolution_op, _jit_compiled_convolution_op, _jit_compiled_convolution_op while saving (showing 3 of 3). These functions will not be directly callable after loading.\n"
     ]
    },
    {
     "name": "stdout",
     "output_type": "stream",
     "text": [
      "INFO:tensorflow:Assets written to: ../../artifacts/checkpoints\\checkpoint_CaffeNet\\assets\n"
     ]
    },
    {
     "name": "stderr",
     "output_type": "stream",
     "text": [
      "INFO:tensorflow:Assets written to: ../../artifacts/checkpoints\\checkpoint_CaffeNet\\assets\n"
     ]
    },
    {
     "name": "stdout",
     "output_type": "stream",
     "text": [
      "9/9 [==============================] - 6s 764ms/step - loss: 7.5860 - accuracy: 0.4230 - val_loss: 8.8681 - val_accuracy: 0.1659 - lr: 0.0010\n",
      "Epoch 21/100\n",
      "9/9 [==============================] - ETA: 0s - loss: 7.3227 - accuracy: 0.4753\n",
      "Epoch 21: val_loss did not improve from 8.86814\n",
      "9/9 [==============================] - 2s 216ms/step - loss: 7.3227 - accuracy: 0.4753 - val_loss: 9.2935 - val_accuracy: 0.1060 - lr: 0.0010\n",
      "Epoch 22/100\n",
      "9/9 [==============================] - ETA: 0s - loss: 7.3826 - accuracy: 0.4393\n",
      "Epoch 22: val_loss improved from 8.86814 to 8.49928, saving model to ../../artifacts/checkpoints\\checkpoint_CaffeNet\n"
     ]
    },
    {
     "name": "stderr",
     "output_type": "stream",
     "text": [
      "WARNING:absl:Found untraced functions such as _jit_compiled_convolution_op, _jit_compiled_convolution_op, _jit_compiled_convolution_op while saving (showing 3 of 3). These functions will not be directly callable after loading.\n"
     ]
    },
    {
     "name": "stdout",
     "output_type": "stream",
     "text": [
      "INFO:tensorflow:Assets written to: ../../artifacts/checkpoints\\checkpoint_CaffeNet\\assets\n"
     ]
    },
    {
     "name": "stderr",
     "output_type": "stream",
     "text": [
      "INFO:tensorflow:Assets written to: ../../artifacts/checkpoints\\checkpoint_CaffeNet\\assets\n"
     ]
    },
    {
     "name": "stdout",
     "output_type": "stream",
     "text": [
      "9/9 [==============================] - 6s 749ms/step - loss: 7.3826 - accuracy: 0.4393 - val_loss: 8.4993 - val_accuracy: 0.1613 - lr: 0.0010\n",
      "Epoch 23/100\n",
      "9/9 [==============================] - ETA: 0s - loss: 7.0887 - accuracy: 0.5206\n",
      "Epoch 23: val_loss improved from 8.49928 to 8.47148, saving model to ../../artifacts/checkpoints\\checkpoint_CaffeNet\n"
     ]
    },
    {
     "name": "stderr",
     "output_type": "stream",
     "text": [
      "WARNING:absl:Found untraced functions such as _jit_compiled_convolution_op, _jit_compiled_convolution_op, _jit_compiled_convolution_op while saving (showing 3 of 3). These functions will not be directly callable after loading.\n"
     ]
    },
    {
     "name": "stdout",
     "output_type": "stream",
     "text": [
      "INFO:tensorflow:Assets written to: ../../artifacts/checkpoints\\checkpoint_CaffeNet\\assets\n"
     ]
    },
    {
     "name": "stderr",
     "output_type": "stream",
     "text": [
      "INFO:tensorflow:Assets written to: ../../artifacts/checkpoints\\checkpoint_CaffeNet\\assets\n"
     ]
    },
    {
     "name": "stdout",
     "output_type": "stream",
     "text": [
      "9/9 [==============================] - 6s 747ms/step - loss: 7.0887 - accuracy: 0.5206 - val_loss: 8.4715 - val_accuracy: 0.2166 - lr: 0.0010\n",
      "Epoch 24/100\n",
      "9/9 [==============================] - ETA: 0s - loss: 6.9848 - accuracy: 0.5116\n",
      "Epoch 24: val_loss did not improve from 8.47148\n",
      "9/9 [==============================] - 2s 226ms/step - loss: 6.9848 - accuracy: 0.5116 - val_loss: 8.5999 - val_accuracy: 0.1659 - lr: 0.0010\n",
      "Epoch 25/100\n",
      "9/9 [==============================] - ETA: 0s - loss: 6.7795 - accuracy: 0.5568\n",
      "Epoch 25: val_loss did not improve from 8.47148\n",
      "9/9 [==============================] - 2s 215ms/step - loss: 6.7795 - accuracy: 0.5568 - val_loss: 8.6528 - val_accuracy: 0.1982 - lr: 0.0010\n",
      "Epoch 26/100\n",
      "9/9 [==============================] - ETA: 0s - loss: 6.5890 - accuracy: 0.5945\n",
      "Epoch 26: val_loss improved from 8.47148 to 8.34164, saving model to ../../artifacts/checkpoints\\checkpoint_CaffeNet\n"
     ]
    },
    {
     "name": "stderr",
     "output_type": "stream",
     "text": [
      "WARNING:absl:Found untraced functions such as _jit_compiled_convolution_op, _jit_compiled_convolution_op, _jit_compiled_convolution_op while saving (showing 3 of 3). These functions will not be directly callable after loading.\n"
     ]
    },
    {
     "name": "stdout",
     "output_type": "stream",
     "text": [
      "INFO:tensorflow:Assets written to: ../../artifacts/checkpoints\\checkpoint_CaffeNet\\assets\n"
     ]
    },
    {
     "name": "stderr",
     "output_type": "stream",
     "text": [
      "INFO:tensorflow:Assets written to: ../../artifacts/checkpoints\\checkpoint_CaffeNet\\assets\n"
     ]
    },
    {
     "name": "stdout",
     "output_type": "stream",
     "text": [
      "9/9 [==============================] - 6s 752ms/step - loss: 6.5890 - accuracy: 0.5945 - val_loss: 8.3416 - val_accuracy: 0.1935 - lr: 0.0010\n",
      "Epoch 27/100\n",
      "9/9 [==============================] - ETA: 0s - loss: 6.3820 - accuracy: 0.6183\n",
      "Epoch 27: val_loss improved from 8.34164 to 8.31671, saving model to ../../artifacts/checkpoints\\checkpoint_CaffeNet\n"
     ]
    },
    {
     "name": "stderr",
     "output_type": "stream",
     "text": [
      "WARNING:absl:Found untraced functions such as _jit_compiled_convolution_op, _jit_compiled_convolution_op, _jit_compiled_convolution_op while saving (showing 3 of 3). These functions will not be directly callable after loading.\n"
     ]
    },
    {
     "name": "stdout",
     "output_type": "stream",
     "text": [
      "INFO:tensorflow:Assets written to: ../../artifacts/checkpoints\\checkpoint_CaffeNet\\assets\n"
     ]
    },
    {
     "name": "stderr",
     "output_type": "stream",
     "text": [
      "INFO:tensorflow:Assets written to: ../../artifacts/checkpoints\\checkpoint_CaffeNet\\assets\n"
     ]
    },
    {
     "name": "stdout",
     "output_type": "stream",
     "text": [
      "9/9 [==============================] - 6s 742ms/step - loss: 6.3820 - accuracy: 0.6183 - val_loss: 8.3167 - val_accuracy: 0.1751 - lr: 0.0010\n",
      "Epoch 28/100\n",
      "9/9 [==============================] - ETA: 0s - loss: 6.3479 - accuracy: 0.6042\n",
      "Epoch 28: val_loss did not improve from 8.31671\n",
      "9/9 [==============================] - 2s 215ms/step - loss: 6.3479 - accuracy: 0.6042 - val_loss: 8.3632 - val_accuracy: 0.1982 - lr: 0.0010\n",
      "Epoch 29/100\n",
      "9/9 [==============================] - ETA: 0s - loss: 6.1560 - accuracy: 0.6573\n",
      "Epoch 29: val_loss did not improve from 8.31671\n",
      "9/9 [==============================] - 2s 216ms/step - loss: 6.1560 - accuracy: 0.6573 - val_loss: 8.3471 - val_accuracy: 0.2350 - lr: 0.0010\n",
      "Epoch 30/100\n",
      "9/9 [==============================] - ETA: 0s - loss: 6.0491 - accuracy: 0.6733\n",
      "Epoch 30: val_loss improved from 8.31671 to 8.15407, saving model to ../../artifacts/checkpoints\\checkpoint_CaffeNet\n"
     ]
    },
    {
     "name": "stderr",
     "output_type": "stream",
     "text": [
      "WARNING:absl:Found untraced functions such as _jit_compiled_convolution_op, _jit_compiled_convolution_op, _jit_compiled_convolution_op while saving (showing 3 of 3). These functions will not be directly callable after loading.\n"
     ]
    },
    {
     "name": "stdout",
     "output_type": "stream",
     "text": [
      "INFO:tensorflow:Assets written to: ../../artifacts/checkpoints\\checkpoint_CaffeNet\\assets\n"
     ]
    },
    {
     "name": "stderr",
     "output_type": "stream",
     "text": [
      "INFO:tensorflow:Assets written to: ../../artifacts/checkpoints\\checkpoint_CaffeNet\\assets\n"
     ]
    },
    {
     "name": "stdout",
     "output_type": "stream",
     "text": [
      "9/9 [==============================] - 6s 728ms/step - loss: 6.0491 - accuracy: 0.6733 - val_loss: 8.1541 - val_accuracy: 0.2258 - lr: 0.0010\n",
      "Epoch 31/100\n",
      "9/9 [==============================] - ETA: 0s - loss: 5.9000 - accuracy: 0.6957\n",
      "Epoch 31: val_loss did not improve from 8.15407\n",
      "9/9 [==============================] - 2s 216ms/step - loss: 5.9000 - accuracy: 0.6957 - val_loss: 8.2727 - val_accuracy: 0.2350 - lr: 0.0010\n",
      "Epoch 32/100\n",
      "9/9 [==============================] - ETA: 0s - loss: 5.7713 - accuracy: 0.7181\n",
      "Epoch 32: val_loss did not improve from 8.15407\n",
      "9/9 [==============================] - 2s 218ms/step - loss: 5.7713 - accuracy: 0.7181 - val_loss: 8.5006 - val_accuracy: 0.1797 - lr: 0.0010\n",
      "Epoch 33/100\n",
      "9/9 [==============================] - ETA: 0s - loss: 5.7213 - accuracy: 0.7076\n",
      "Epoch 33: val_loss did not improve from 8.15407\n",
      "9/9 [==============================] - 2s 233ms/step - loss: 5.7213 - accuracy: 0.7076 - val_loss: 8.2516 - val_accuracy: 0.1889 - lr: 0.0010\n",
      "Epoch 34/100\n",
      "9/9 [==============================] - ETA: 0s - loss: 5.3803 - accuracy: 0.8205\n",
      "Epoch 34: val_loss improved from 8.15407 to 8.02516, saving model to ../../artifacts/checkpoints\\checkpoint_CaffeNet\n"
     ]
    },
    {
     "name": "stderr",
     "output_type": "stream",
     "text": [
      "WARNING:absl:Found untraced functions such as _jit_compiled_convolution_op, _jit_compiled_convolution_op, _jit_compiled_convolution_op while saving (showing 3 of 3). These functions will not be directly callable after loading.\n"
     ]
    },
    {
     "name": "stdout",
     "output_type": "stream",
     "text": [
      "INFO:tensorflow:Assets written to: ../../artifacts/checkpoints\\checkpoint_CaffeNet\\assets\n"
     ]
    },
    {
     "name": "stderr",
     "output_type": "stream",
     "text": [
      "INFO:tensorflow:Assets written to: ../../artifacts/checkpoints\\checkpoint_CaffeNet\\assets\n"
     ]
    },
    {
     "name": "stdout",
     "output_type": "stream",
     "text": [
      "9/9 [==============================] - 6s 713ms/step - loss: 5.3803 - accuracy: 0.8205 - val_loss: 8.0252 - val_accuracy: 0.2627 - lr: 5.0000e-04\n",
      "Epoch 35/100\n",
      "8/9 [=========================>....] - ETA: 0s - loss: 5.1031 - accuracy: 0.8880\n",
      "Epoch 35: val_loss improved from 8.02516 to 7.75362, saving model to ../../artifacts/checkpoints\\checkpoint_CaffeNet\n"
     ]
    },
    {
     "name": "stderr",
     "output_type": "stream",
     "text": [
      "WARNING:absl:Found untraced functions such as _jit_compiled_convolution_op, _jit_compiled_convolution_op, _jit_compiled_convolution_op while saving (showing 3 of 3). These functions will not be directly callable after loading.\n"
     ]
    },
    {
     "name": "stdout",
     "output_type": "stream",
     "text": [
      "INFO:tensorflow:Assets written to: ../../artifacts/checkpoints\\checkpoint_CaffeNet\\assets\n"
     ]
    },
    {
     "name": "stderr",
     "output_type": "stream",
     "text": [
      "INFO:tensorflow:Assets written to: ../../artifacts/checkpoints\\checkpoint_CaffeNet\\assets\n"
     ]
    },
    {
     "name": "stdout",
     "output_type": "stream",
     "text": [
      "9/9 [==============================] - 5s 540ms/step - loss: 5.0996 - accuracy: 0.8891 - val_loss: 7.7536 - val_accuracy: 0.2811 - lr: 5.0000e-04\n",
      "Epoch 36/100\n",
      "8/9 [=========================>....] - ETA: 0s - loss: 4.8839 - accuracy: 0.9097\n",
      "Epoch 36: val_loss improved from 7.75362 to 7.71482, saving model to ../../artifacts/checkpoints\\checkpoint_CaffeNet\n"
     ]
    },
    {
     "name": "stderr",
     "output_type": "stream",
     "text": [
      "WARNING:absl:Found untraced functions such as _jit_compiled_convolution_op, _jit_compiled_convolution_op, _jit_compiled_convolution_op while saving (showing 3 of 3). These functions will not be directly callable after loading.\n"
     ]
    },
    {
     "name": "stdout",
     "output_type": "stream",
     "text": [
      "INFO:tensorflow:Assets written to: ../../artifacts/checkpoints\\checkpoint_CaffeNet\\assets\n"
     ]
    },
    {
     "name": "stderr",
     "output_type": "stream",
     "text": [
      "INFO:tensorflow:Assets written to: ../../artifacts/checkpoints\\checkpoint_CaffeNet\\assets\n"
     ]
    },
    {
     "name": "stdout",
     "output_type": "stream",
     "text": [
      "9/9 [==============================] - 5s 541ms/step - loss: 4.8839 - accuracy: 0.9100 - val_loss: 7.7148 - val_accuracy: 0.2535 - lr: 5.0000e-04\n",
      "Epoch 37/100\n",
      "8/9 [=========================>....] - ETA: 0s - loss: 4.7322 - accuracy: 0.9295\n",
      "Epoch 37: val_loss improved from 7.71482 to 7.65913, saving model to ../../artifacts/checkpoints\\checkpoint_CaffeNet\n"
     ]
    },
    {
     "name": "stderr",
     "output_type": "stream",
     "text": [
      "WARNING:absl:Found untraced functions such as _jit_compiled_convolution_op, _jit_compiled_convolution_op, _jit_compiled_convolution_op while saving (showing 3 of 3). These functions will not be directly callable after loading.\n"
     ]
    },
    {
     "name": "stdout",
     "output_type": "stream",
     "text": [
      "INFO:tensorflow:Assets written to: ../../artifacts/checkpoints\\checkpoint_CaffeNet\\assets\n"
     ]
    },
    {
     "name": "stderr",
     "output_type": "stream",
     "text": [
      "INFO:tensorflow:Assets written to: ../../artifacts/checkpoints\\checkpoint_CaffeNet\\assets\n"
     ]
    },
    {
     "name": "stdout",
     "output_type": "stream",
     "text": [
      "9/9 [==============================] - 5s 549ms/step - loss: 4.7321 - accuracy: 0.9297 - val_loss: 7.6591 - val_accuracy: 0.2673 - lr: 5.0000e-04\n",
      "Epoch 38/100\n",
      "8/9 [=========================>....] - ETA: 0s - loss: 4.5959 - accuracy: 0.9488\n",
      "Epoch 38: val_loss improved from 7.65913 to 7.63242, saving model to ../../artifacts/checkpoints\\checkpoint_CaffeNet\n"
     ]
    },
    {
     "name": "stderr",
     "output_type": "stream",
     "text": [
      "WARNING:absl:Found untraced functions such as _jit_compiled_convolution_op, _jit_compiled_convolution_op, _jit_compiled_convolution_op while saving (showing 3 of 3). These functions will not be directly callable after loading.\n"
     ]
    },
    {
     "name": "stdout",
     "output_type": "stream",
     "text": [
      "INFO:tensorflow:Assets written to: ../../artifacts/checkpoints\\checkpoint_CaffeNet\\assets\n"
     ]
    },
    {
     "name": "stderr",
     "output_type": "stream",
     "text": [
      "INFO:tensorflow:Assets written to: ../../artifacts/checkpoints\\checkpoint_CaffeNet\\assets\n"
     ]
    },
    {
     "name": "stdout",
     "output_type": "stream",
     "text": [
      "9/9 [==============================] - 5s 536ms/step - loss: 4.5963 - accuracy: 0.9482 - val_loss: 7.6324 - val_accuracy: 0.2719 - lr: 5.0000e-04\n",
      "Epoch 39/100\n",
      "8/9 [=========================>....] - ETA: 0s - loss: 4.5097 - accuracy: 0.9588\n",
      "Epoch 39: val_loss improved from 7.63242 to 7.54678, saving model to ../../artifacts/checkpoints\\checkpoint_CaffeNet\n"
     ]
    },
    {
     "name": "stderr",
     "output_type": "stream",
     "text": [
      "WARNING:absl:Found untraced functions such as _jit_compiled_convolution_op, _jit_compiled_convolution_op, _jit_compiled_convolution_op while saving (showing 3 of 3). These functions will not be directly callable after loading.\n"
     ]
    },
    {
     "name": "stdout",
     "output_type": "stream",
     "text": [
      "INFO:tensorflow:Assets written to: ../../artifacts/checkpoints\\checkpoint_CaffeNet\\assets\n"
     ]
    },
    {
     "name": "stderr",
     "output_type": "stream",
     "text": [
      "INFO:tensorflow:Assets written to: ../../artifacts/checkpoints\\checkpoint_CaffeNet\\assets\n"
     ]
    },
    {
     "name": "stdout",
     "output_type": "stream",
     "text": [
      "9/9 [==============================] - 4s 528ms/step - loss: 4.5080 - accuracy: 0.9589 - val_loss: 7.5468 - val_accuracy: 0.2857 - lr: 5.0000e-04\n",
      "Epoch 40/100\n",
      "8/9 [=========================>....] - ETA: 0s - loss: 4.4181 - accuracy: 0.9617\n",
      "Epoch 40: val_loss did not improve from 7.54678\n",
      "9/9 [==============================] - 2s 157ms/step - loss: 4.4200 - accuracy: 0.9608 - val_loss: 7.6841 - val_accuracy: 0.2765 - lr: 5.0000e-04\n",
      "Epoch 41/100\n",
      "9/9 [==============================] - ETA: 0s - loss: 4.3612 - accuracy: 0.9621\n",
      "Epoch 41: val_loss did not improve from 7.54678\n",
      "9/9 [==============================] - 1s 165ms/step - loss: 4.3612 - accuracy: 0.9621 - val_loss: 7.7903 - val_accuracy: 0.2719 - lr: 5.0000e-04\n",
      "Epoch 42/100\n",
      "8/9 [=========================>....] - ETA: 0s - loss: 4.3328 - accuracy: 0.9475\n",
      "Epoch 42: val_loss improved from 7.54678 to 7.51130, saving model to ../../artifacts/checkpoints\\checkpoint_CaffeNet\n"
     ]
    },
    {
     "name": "stderr",
     "output_type": "stream",
     "text": [
      "WARNING:absl:Found untraced functions such as _jit_compiled_convolution_op, _jit_compiled_convolution_op, _jit_compiled_convolution_op while saving (showing 3 of 3). These functions will not be directly callable after loading.\n"
     ]
    },
    {
     "name": "stdout",
     "output_type": "stream",
     "text": [
      "INFO:tensorflow:Assets written to: ../../artifacts/checkpoints\\checkpoint_CaffeNet\\assets\n"
     ]
    },
    {
     "name": "stderr",
     "output_type": "stream",
     "text": [
      "INFO:tensorflow:Assets written to: ../../artifacts/checkpoints\\checkpoint_CaffeNet\\assets\n"
     ]
    },
    {
     "name": "stdout",
     "output_type": "stream",
     "text": [
      "9/9 [==============================] - 5s 633ms/step - loss: 4.3348 - accuracy: 0.9467 - val_loss: 7.5113 - val_accuracy: 0.2581 - lr: 5.0000e-04\n",
      "Epoch 43/100\n",
      "9/9 [==============================] - ETA: 0s - loss: 4.2851 - accuracy: 0.9511\n",
      "Epoch 43: val_loss did not improve from 7.51130\n",
      "9/9 [==============================] - 3s 283ms/step - loss: 4.2851 - accuracy: 0.9511 - val_loss: 7.6068 - val_accuracy: 0.2581 - lr: 5.0000e-04\n",
      "Epoch 44/100\n",
      "9/9 [==============================] - ETA: 0s - loss: 4.2024 - accuracy: 0.9662\n",
      "Epoch 44: val_loss did not improve from 7.51130\n",
      "9/9 [==============================] - 2s 246ms/step - loss: 4.2024 - accuracy: 0.9662 - val_loss: 7.6218 - val_accuracy: 0.2304 - lr: 5.0000e-04\n",
      "Epoch 45/100\n",
      "9/9 [==============================] - ETA: 0s - loss: 4.1350 - accuracy: 0.9740\n",
      "Epoch 45: val_loss improved from 7.51130 to 7.45613, saving model to ../../artifacts/checkpoints\\checkpoint_CaffeNet\n"
     ]
    },
    {
     "name": "stderr",
     "output_type": "stream",
     "text": [
      "WARNING:absl:Found untraced functions such as _jit_compiled_convolution_op, _jit_compiled_convolution_op, _jit_compiled_convolution_op while saving (showing 3 of 3). These functions will not be directly callable after loading.\n"
     ]
    },
    {
     "name": "stdout",
     "output_type": "stream",
     "text": [
      "INFO:tensorflow:Assets written to: ../../artifacts/checkpoints\\checkpoint_CaffeNet\\assets\n"
     ]
    },
    {
     "name": "stderr",
     "output_type": "stream",
     "text": [
      "INFO:tensorflow:Assets written to: ../../artifacts/checkpoints\\checkpoint_CaffeNet\\assets\n"
     ]
    },
    {
     "name": "stdout",
     "output_type": "stream",
     "text": [
      "9/9 [==============================] - 5s 622ms/step - loss: 4.1350 - accuracy: 0.9740 - val_loss: 7.4561 - val_accuracy: 0.2673 - lr: 5.0000e-04\n",
      "Epoch 46/100\n",
      "9/9 [==============================] - ETA: 0s - loss: 4.0767 - accuracy: 0.9781\n",
      "Epoch 46: val_loss did not improve from 7.45613\n",
      "9/9 [==============================] - 2s 224ms/step - loss: 4.0767 - accuracy: 0.9781 - val_loss: 7.7283 - val_accuracy: 0.2719 - lr: 5.0000e-04\n",
      "Epoch 47/100\n",
      "8/9 [=========================>....] - ETA: 0s - loss: 4.0675 - accuracy: 0.9657\n",
      "Epoch 47: val_loss did not improve from 7.45613\n",
      "9/9 [==============================] - 2s 181ms/step - loss: 4.0660 - accuracy: 0.9664 - val_loss: 7.5994 - val_accuracy: 0.2627 - lr: 5.0000e-04\n",
      "Epoch 48/100\n",
      "8/9 [=========================>....] - ETA: 0s - loss: 3.9967 - accuracy: 0.9705\n",
      "Epoch 48: val_loss did not improve from 7.45613\n",
      "9/9 [==============================] - 1s 156ms/step - loss: 3.9957 - accuracy: 0.9713 - val_loss: 7.4964 - val_accuracy: 0.2765 - lr: 5.0000e-04\n",
      "Epoch 49/100\n",
      "8/9 [=========================>....] - ETA: 0s - loss: 3.9215 - accuracy: 0.9868\n",
      "Epoch 49: val_loss improved from 7.45613 to 7.43162, saving model to ../../artifacts/checkpoints\\checkpoint_CaffeNet\n"
     ]
    },
    {
     "name": "stderr",
     "output_type": "stream",
     "text": [
      "WARNING:absl:Found untraced functions such as _jit_compiled_convolution_op, _jit_compiled_convolution_op, _jit_compiled_convolution_op while saving (showing 3 of 3). These functions will not be directly callable after loading.\n"
     ]
    },
    {
     "name": "stdout",
     "output_type": "stream",
     "text": [
      "INFO:tensorflow:Assets written to: ../../artifacts/checkpoints\\checkpoint_CaffeNet\\assets\n"
     ]
    },
    {
     "name": "stderr",
     "output_type": "stream",
     "text": [
      "INFO:tensorflow:Assets written to: ../../artifacts/checkpoints\\checkpoint_CaffeNet\\assets\n"
     ]
    },
    {
     "name": "stdout",
     "output_type": "stream",
     "text": [
      "9/9 [==============================] - 5s 550ms/step - loss: 3.9215 - accuracy: 0.9869 - val_loss: 7.4316 - val_accuracy: 0.2627 - lr: 2.5000e-04\n",
      "Epoch 50/100\n",
      "9/9 [==============================] - ETA: 0s - loss: 3.8489 - accuracy: 0.9966\n",
      "Epoch 50: val_loss improved from 7.43162 to 7.42527, saving model to ../../artifacts/checkpoints\\checkpoint_CaffeNet\n"
     ]
    },
    {
     "name": "stderr",
     "output_type": "stream",
     "text": [
      "WARNING:absl:Found untraced functions such as _jit_compiled_convolution_op, _jit_compiled_convolution_op, _jit_compiled_convolution_op while saving (showing 3 of 3). These functions will not be directly callable after loading.\n"
     ]
    },
    {
     "name": "stdout",
     "output_type": "stream",
     "text": [
      "INFO:tensorflow:Assets written to: ../../artifacts/checkpoints\\checkpoint_CaffeNet\\assets\n"
     ]
    },
    {
     "name": "stderr",
     "output_type": "stream",
     "text": [
      "INFO:tensorflow:Assets written to: ../../artifacts/checkpoints\\checkpoint_CaffeNet\\assets\n"
     ]
    },
    {
     "name": "stdout",
     "output_type": "stream",
     "text": [
      "9/9 [==============================] - 5s 596ms/step - loss: 3.8489 - accuracy: 0.9966 - val_loss: 7.4253 - val_accuracy: 0.2811 - lr: 2.5000e-04\n",
      "Epoch 51/100\n",
      "9/9 [==============================] - ETA: 0s - loss: 3.8033 - accuracy: 0.9990\n",
      "Epoch 51: val_loss did not improve from 7.42527\n",
      "9/9 [==============================] - 2s 187ms/step - loss: 3.8033 - accuracy: 0.9990 - val_loss: 7.4884 - val_accuracy: 0.2673 - lr: 2.5000e-04\n",
      "Epoch 52/100\n",
      "9/9 [==============================] - ETA: 0s - loss: 3.7635 - accuracy: 1.0000\n",
      "Epoch 52: val_loss did not improve from 7.42527\n",
      "9/9 [==============================] - 2s 179ms/step - loss: 3.7635 - accuracy: 1.0000 - val_loss: 7.4253 - val_accuracy: 0.2488 - lr: 2.5000e-04\n",
      "Epoch 53/100\n",
      "9/9 [==============================] - ETA: 0s - loss: 3.7292 - accuracy: 0.9988\n",
      "Epoch 53: val_loss improved from 7.42527 to 7.37278, saving model to ../../artifacts/checkpoints\\checkpoint_CaffeNet\n"
     ]
    },
    {
     "name": "stderr",
     "output_type": "stream",
     "text": [
      "WARNING:absl:Found untraced functions such as _jit_compiled_convolution_op, _jit_compiled_convolution_op, _jit_compiled_convolution_op while saving (showing 3 of 3). These functions will not be directly callable after loading.\n"
     ]
    },
    {
     "name": "stdout",
     "output_type": "stream",
     "text": [
      "INFO:tensorflow:Assets written to: ../../artifacts/checkpoints\\checkpoint_CaffeNet\\assets\n"
     ]
    },
    {
     "name": "stderr",
     "output_type": "stream",
     "text": [
      "INFO:tensorflow:Assets written to: ../../artifacts/checkpoints\\checkpoint_CaffeNet\\assets\n"
     ]
    },
    {
     "name": "stdout",
     "output_type": "stream",
     "text": [
      "9/9 [==============================] - 5s 553ms/step - loss: 3.7292 - accuracy: 0.9988 - val_loss: 7.3728 - val_accuracy: 0.2811 - lr: 2.5000e-04\n",
      "Epoch 54/100\n",
      "9/9 [==============================] - ETA: 0s - loss: 3.7007 - accuracy: 0.9993\n",
      "Epoch 54: val_loss improved from 7.37278 to 7.30350, saving model to ../../artifacts/checkpoints\\checkpoint_CaffeNet\n"
     ]
    },
    {
     "name": "stderr",
     "output_type": "stream",
     "text": [
      "WARNING:absl:Found untraced functions such as _jit_compiled_convolution_op, _jit_compiled_convolution_op, _jit_compiled_convolution_op while saving (showing 3 of 3). These functions will not be directly callable after loading.\n"
     ]
    },
    {
     "name": "stdout",
     "output_type": "stream",
     "text": [
      "INFO:tensorflow:Assets written to: ../../artifacts/checkpoints\\checkpoint_CaffeNet\\assets\n"
     ]
    },
    {
     "name": "stderr",
     "output_type": "stream",
     "text": [
      "INFO:tensorflow:Assets written to: ../../artifacts/checkpoints\\checkpoint_CaffeNet\\assets\n"
     ]
    },
    {
     "name": "stdout",
     "output_type": "stream",
     "text": [
      "9/9 [==============================] - 5s 558ms/step - loss: 3.7007 - accuracy: 0.9993 - val_loss: 7.3035 - val_accuracy: 0.2627 - lr: 2.5000e-04\n",
      "Epoch 55/100\n",
      "9/9 [==============================] - ETA: 0s - loss: 3.6710 - accuracy: 0.9998\n",
      "Epoch 55: val_loss did not improve from 7.30350\n",
      "9/9 [==============================] - 2s 169ms/step - loss: 3.6710 - accuracy: 0.9998 - val_loss: 7.3403 - val_accuracy: 0.2719 - lr: 2.5000e-04\n",
      "Epoch 56/100\n",
      "9/9 [==============================] - ETA: 0s - loss: 3.6437 - accuracy: 1.0000\n",
      "Epoch 56: val_loss did not improve from 7.30350\n",
      "9/9 [==============================] - 1s 166ms/step - loss: 3.6437 - accuracy: 1.0000 - val_loss: 7.3167 - val_accuracy: 0.2765 - lr: 2.5000e-04\n",
      "Epoch 57/100\n",
      "9/9 [==============================] - ETA: 0s - loss: 3.6192 - accuracy: 1.0000\n",
      "Epoch 57: val_loss did not improve from 7.30350\n",
      "9/9 [==============================] - 3s 410ms/step - loss: 3.6192 - accuracy: 1.0000 - val_loss: 7.3141 - val_accuracy: 0.2811 - lr: 2.5000e-04\n",
      "Epoch 58/100\n",
      "9/9 [==============================] - ETA: 0s - loss: 3.5925 - accuracy: 1.0000\n",
      "Epoch 58: val_loss improved from 7.30350 to 7.24297, saving model to ../../artifacts/checkpoints\\checkpoint_CaffeNet\n"
     ]
    },
    {
     "name": "stderr",
     "output_type": "stream",
     "text": [
      "WARNING:absl:Found untraced functions such as _jit_compiled_convolution_op, _jit_compiled_convolution_op, _jit_compiled_convolution_op while saving (showing 3 of 3). These functions will not be directly callable after loading.\n"
     ]
    },
    {
     "name": "stdout",
     "output_type": "stream",
     "text": [
      "INFO:tensorflow:Assets written to: ../../artifacts/checkpoints\\checkpoint_CaffeNet\\assets\n"
     ]
    },
    {
     "name": "stderr",
     "output_type": "stream",
     "text": [
      "INFO:tensorflow:Assets written to: ../../artifacts/checkpoints\\checkpoint_CaffeNet\\assets\n"
     ]
    },
    {
     "name": "stdout",
     "output_type": "stream",
     "text": [
      "9/9 [==============================] - 15s 2s/step - loss: 3.5925 - accuracy: 1.0000 - val_loss: 7.2430 - val_accuracy: 0.2719 - lr: 1.2500e-04\n",
      "Epoch 59/100\n",
      "9/9 [==============================] - ETA: 0s - loss: 3.5771 - accuracy: 1.0000\n",
      "Epoch 59: val_loss improved from 7.24297 to 7.18129, saving model to ../../artifacts/checkpoints\\checkpoint_CaffeNet\n"
     ]
    },
    {
     "name": "stderr",
     "output_type": "stream",
     "text": [
      "WARNING:absl:Found untraced functions such as _jit_compiled_convolution_op, _jit_compiled_convolution_op, _jit_compiled_convolution_op while saving (showing 3 of 3). These functions will not be directly callable after loading.\n"
     ]
    },
    {
     "name": "stdout",
     "output_type": "stream",
     "text": [
      "INFO:tensorflow:Assets written to: ../../artifacts/checkpoints\\checkpoint_CaffeNet\\assets\n"
     ]
    },
    {
     "name": "stderr",
     "output_type": "stream",
     "text": [
      "INFO:tensorflow:Assets written to: ../../artifacts/checkpoints\\checkpoint_CaffeNet\\assets\n"
     ]
    },
    {
     "name": "stdout",
     "output_type": "stream",
     "text": [
      "9/9 [==============================] - 16s 2s/step - loss: 3.5771 - accuracy: 1.0000 - val_loss: 7.1813 - val_accuracy: 0.2581 - lr: 1.2500e-04\n",
      "Epoch 60/100\n",
      "9/9 [==============================] - ETA: 0s - loss: 3.5637 - accuracy: 1.0000\n",
      "Epoch 60: val_loss did not improve from 7.18129\n",
      "9/9 [==============================] - 13s 1s/step - loss: 3.5637 - accuracy: 1.0000 - val_loss: 7.1818 - val_accuracy: 0.2765 - lr: 1.2500e-04\n",
      "Epoch 61/100\n",
      "9/9 [==============================] - ETA: 0s - loss: 3.5533 - accuracy: 1.0000\n",
      "Epoch 61: val_loss did not improve from 7.18129\n",
      "9/9 [==============================] - 12s 1s/step - loss: 3.5533 - accuracy: 1.0000 - val_loss: 7.2319 - val_accuracy: 0.2535 - lr: 1.2500e-04\n",
      "Epoch 62/100\n",
      "9/9 [==============================] - ETA: 0s - loss: 3.5391 - accuracy: 1.0000\n",
      "Epoch 62: val_loss improved from 7.18129 to 7.17681, saving model to ../../artifacts/checkpoints\\checkpoint_CaffeNet\n"
     ]
    },
    {
     "name": "stderr",
     "output_type": "stream",
     "text": [
      "WARNING:absl:Found untraced functions such as _jit_compiled_convolution_op, _jit_compiled_convolution_op, _jit_compiled_convolution_op while saving (showing 3 of 3). These functions will not be directly callable after loading.\n"
     ]
    },
    {
     "name": "stdout",
     "output_type": "stream",
     "text": [
      "INFO:tensorflow:Assets written to: ../../artifacts/checkpoints\\checkpoint_CaffeNet\\assets\n"
     ]
    },
    {
     "name": "stderr",
     "output_type": "stream",
     "text": [
      "INFO:tensorflow:Assets written to: ../../artifacts/checkpoints\\checkpoint_CaffeNet\\assets\n"
     ]
    },
    {
     "name": "stdout",
     "output_type": "stream",
     "text": [
      "9/9 [==============================] - 15s 2s/step - loss: 3.5391 - accuracy: 1.0000 - val_loss: 7.1768 - val_accuracy: 0.2673 - lr: 1.2500e-04\n",
      "Epoch 63/100\n",
      "9/9 [==============================] - ETA: 0s - loss: 3.5268 - accuracy: 1.0000\n",
      "Epoch 63: val_loss did not improve from 7.17681\n",
      "9/9 [==============================] - 13s 1s/step - loss: 3.5268 - accuracy: 1.0000 - val_loss: 7.1811 - val_accuracy: 0.2673 - lr: 1.2500e-04\n",
      "Epoch 64/100\n",
      "9/9 [==============================] - ETA: 0s - loss: 3.5150 - accuracy: 1.0000\n",
      "Epoch 64: val_loss improved from 7.17681 to 7.16982, saving model to ../../artifacts/checkpoints\\checkpoint_CaffeNet\n"
     ]
    },
    {
     "name": "stderr",
     "output_type": "stream",
     "text": [
      "WARNING:absl:Found untraced functions such as _jit_compiled_convolution_op, _jit_compiled_convolution_op, _jit_compiled_convolution_op while saving (showing 3 of 3). These functions will not be directly callable after loading.\n"
     ]
    },
    {
     "name": "stdout",
     "output_type": "stream",
     "text": [
      "INFO:tensorflow:Assets written to: ../../artifacts/checkpoints\\checkpoint_CaffeNet\\assets\n"
     ]
    },
    {
     "name": "stderr",
     "output_type": "stream",
     "text": [
      "INFO:tensorflow:Assets written to: ../../artifacts/checkpoints\\checkpoint_CaffeNet\\assets\n"
     ]
    },
    {
     "name": "stdout",
     "output_type": "stream",
     "text": [
      "9/9 [==============================] - 15s 2s/step - loss: 3.5150 - accuracy: 1.0000 - val_loss: 7.1698 - val_accuracy: 0.2719 - lr: 1.2500e-04\n",
      "Epoch 65/100\n",
      "9/9 [==============================] - ETA: 0s - loss: 3.5027 - accuracy: 1.0000\n",
      "Epoch 65: val_loss did not improve from 7.16982\n",
      "9/9 [==============================] - 13s 1s/step - loss: 3.5027 - accuracy: 1.0000 - val_loss: 7.1790 - val_accuracy: 0.2719 - lr: 1.2500e-04\n",
      "Epoch 66/100\n",
      "9/9 [==============================] - ETA: 0s - loss: 3.4922 - accuracy: 1.0000\n",
      "Epoch 66: val_loss did not improve from 7.16982\n",
      "9/9 [==============================] - 13s 1s/step - loss: 3.4922 - accuracy: 1.0000 - val_loss: 7.1781 - val_accuracy: 0.2673 - lr: 1.2500e-04\n",
      "Epoch 67/100\n",
      "9/9 [==============================] - ETA: 0s - loss: 3.4799 - accuracy: 1.0000\n",
      "Epoch 67: val_loss improved from 7.16982 to 7.15067, saving model to ../../artifacts/checkpoints\\checkpoint_CaffeNet\n"
     ]
    },
    {
     "name": "stderr",
     "output_type": "stream",
     "text": [
      "WARNING:absl:Found untraced functions such as _jit_compiled_convolution_op, _jit_compiled_convolution_op, _jit_compiled_convolution_op while saving (showing 3 of 3). These functions will not be directly callable after loading.\n"
     ]
    },
    {
     "name": "stdout",
     "output_type": "stream",
     "text": [
      "INFO:tensorflow:Assets written to: ../../artifacts/checkpoints\\checkpoint_CaffeNet\\assets\n"
     ]
    },
    {
     "name": "stderr",
     "output_type": "stream",
     "text": [
      "INFO:tensorflow:Assets written to: ../../artifacts/checkpoints\\checkpoint_CaffeNet\\assets\n"
     ]
    },
    {
     "name": "stdout",
     "output_type": "stream",
     "text": [
      "9/9 [==============================] - 16s 2s/step - loss: 3.4799 - accuracy: 1.0000 - val_loss: 7.1507 - val_accuracy: 0.2627 - lr: 1.2500e-04\n",
      "Epoch 68/100\n",
      "8/9 [=========================>....] - ETA: 0s - loss: 3.4683 - accuracy: 1.0000\n",
      "Epoch 68: val_loss improved from 7.15067 to 7.14449, saving model to ../../artifacts/checkpoints\\checkpoint_CaffeNet\n"
     ]
    },
    {
     "name": "stderr",
     "output_type": "stream",
     "text": [
      "WARNING:absl:Found untraced functions such as _jit_compiled_convolution_op, _jit_compiled_convolution_op, _jit_compiled_convolution_op while saving (showing 3 of 3). These functions will not be directly callable after loading.\n"
     ]
    },
    {
     "name": "stdout",
     "output_type": "stream",
     "text": [
      "INFO:tensorflow:Assets written to: ../../artifacts/checkpoints\\checkpoint_CaffeNet\\assets\n"
     ]
    },
    {
     "name": "stderr",
     "output_type": "stream",
     "text": [
      "INFO:tensorflow:Assets written to: ../../artifacts/checkpoints\\checkpoint_CaffeNet\\assets\n"
     ]
    },
    {
     "name": "stdout",
     "output_type": "stream",
     "text": [
      "9/9 [==============================] - 5s 558ms/step - loss: 3.4682 - accuracy: 1.0000 - val_loss: 7.1445 - val_accuracy: 0.2765 - lr: 1.2500e-04\n",
      "Epoch 69/100\n",
      "8/9 [=========================>....] - ETA: 0s - loss: 3.4563 - accuracy: 1.0000\n",
      "Epoch 69: val_loss did not improve from 7.14449\n",
      "9/9 [==============================] - 2s 163ms/step - loss: 3.4564 - accuracy: 1.0000 - val_loss: 7.1573 - val_accuracy: 0.2719 - lr: 1.2500e-04\n",
      "Epoch 70/100\n",
      "8/9 [=========================>....] - ETA: 0s - loss: 3.4449 - accuracy: 1.0000\n",
      "Epoch 70: val_loss did not improve from 7.14449\n",
      "9/9 [==============================] - 1s 156ms/step - loss: 3.4446 - accuracy: 1.0000 - val_loss: 7.1965 - val_accuracy: 0.2673 - lr: 1.2500e-04\n",
      "Epoch 71/100\n",
      "8/9 [=========================>....] - ETA: 0s - loss: 3.4320 - accuracy: 1.0000\n",
      "Epoch 71: val_loss improved from 7.14449 to 7.13508, saving model to ../../artifacts/checkpoints\\checkpoint_CaffeNet\n"
     ]
    },
    {
     "name": "stderr",
     "output_type": "stream",
     "text": [
      "WARNING:absl:Found untraced functions such as _jit_compiled_convolution_op, _jit_compiled_convolution_op, _jit_compiled_convolution_op while saving (showing 3 of 3). These functions will not be directly callable after loading.\n"
     ]
    },
    {
     "name": "stdout",
     "output_type": "stream",
     "text": [
      "INFO:tensorflow:Assets written to: ../../artifacts/checkpoints\\checkpoint_CaffeNet\\assets\n"
     ]
    },
    {
     "name": "stderr",
     "output_type": "stream",
     "text": [
      "INFO:tensorflow:Assets written to: ../../artifacts/checkpoints\\checkpoint_CaffeNet\\assets\n"
     ]
    },
    {
     "name": "stdout",
     "output_type": "stream",
     "text": [
      "9/9 [==============================] - 4s 526ms/step - loss: 3.4325 - accuracy: 1.0000 - val_loss: 7.1351 - val_accuracy: 0.2673 - lr: 1.2500e-04\n",
      "Epoch 72/100\n",
      "8/9 [=========================>....] - ETA: 0s - loss: 3.4216 - accuracy: 1.0000\n",
      "Epoch 72: val_loss improved from 7.13508 to 7.09469, saving model to ../../artifacts/checkpoints\\checkpoint_CaffeNet\n"
     ]
    },
    {
     "name": "stderr",
     "output_type": "stream",
     "text": [
      "WARNING:absl:Found untraced functions such as _jit_compiled_convolution_op, _jit_compiled_convolution_op, _jit_compiled_convolution_op while saving (showing 3 of 3). These functions will not be directly callable after loading.\n"
     ]
    },
    {
     "name": "stdout",
     "output_type": "stream",
     "text": [
      "INFO:tensorflow:Assets written to: ../../artifacts/checkpoints\\checkpoint_CaffeNet\\assets\n"
     ]
    },
    {
     "name": "stderr",
     "output_type": "stream",
     "text": [
      "INFO:tensorflow:Assets written to: ../../artifacts/checkpoints\\checkpoint_CaffeNet\\assets\n"
     ]
    },
    {
     "name": "stdout",
     "output_type": "stream",
     "text": [
      "9/9 [==============================] - 5s 543ms/step - loss: 3.4215 - accuracy: 1.0000 - val_loss: 7.0947 - val_accuracy: 0.2535 - lr: 1.2500e-04\n",
      "Epoch 73/100\n",
      "8/9 [=========================>....] - ETA: 0s - loss: 3.4086 - accuracy: 1.0000\n",
      "Epoch 73: val_loss did not improve from 7.09469\n",
      "9/9 [==============================] - 2s 160ms/step - loss: 3.4086 - accuracy: 1.0000 - val_loss: 7.1143 - val_accuracy: 0.2627 - lr: 1.2500e-04\n",
      "Epoch 74/100\n",
      "8/9 [=========================>....] - ETA: 0s - loss: 3.3988 - accuracy: 1.0000\n",
      "Epoch 74: val_loss did not improve from 7.09469\n",
      "9/9 [==============================] - 1s 155ms/step - loss: 3.3986 - accuracy: 1.0000 - val_loss: 7.1220 - val_accuracy: 0.2719 - lr: 1.2500e-04\n",
      "Epoch 75/100\n",
      "8/9 [=========================>....] - ETA: 0s - loss: 3.3858 - accuracy: 1.0000\n",
      "Epoch 75: val_loss did not improve from 7.09469\n",
      "9/9 [==============================] - 1s 164ms/step - loss: 3.3858 - accuracy: 1.0000 - val_loss: 7.0955 - val_accuracy: 0.2765 - lr: 1.2500e-04\n",
      "Epoch 76/100\n",
      "8/9 [=========================>....] - ETA: 0s - loss: 3.3736 - accuracy: 1.0000\n",
      "Epoch 76: val_loss improved from 7.09469 to 7.07100, saving model to ../../artifacts/checkpoints\\checkpoint_CaffeNet\n"
     ]
    },
    {
     "name": "stderr",
     "output_type": "stream",
     "text": [
      "WARNING:absl:Found untraced functions such as _jit_compiled_convolution_op, _jit_compiled_convolution_op, _jit_compiled_convolution_op while saving (showing 3 of 3). These functions will not be directly callable after loading.\n"
     ]
    },
    {
     "name": "stdout",
     "output_type": "stream",
     "text": [
      "INFO:tensorflow:Assets written to: ../../artifacts/checkpoints\\checkpoint_CaffeNet\\assets\n"
     ]
    },
    {
     "name": "stderr",
     "output_type": "stream",
     "text": [
      "INFO:tensorflow:Assets written to: ../../artifacts/checkpoints\\checkpoint_CaffeNet\\assets\n"
     ]
    },
    {
     "name": "stdout",
     "output_type": "stream",
     "text": [
      "9/9 [==============================] - 5s 572ms/step - loss: 3.3740 - accuracy: 1.0000 - val_loss: 7.0710 - val_accuracy: 0.2719 - lr: 6.2500e-05\n",
      "Epoch 77/100\n",
      "9/9 [==============================] - ETA: 0s - loss: 3.3680 - accuracy: 1.0000\n",
      "Epoch 77: val_loss did not improve from 7.07100\n",
      "9/9 [==============================] - 4s 422ms/step - loss: 3.3680 - accuracy: 1.0000 - val_loss: 7.0917 - val_accuracy: 0.2719 - lr: 6.2500e-05\n",
      "Epoch 78/100\n",
      "9/9 [==============================] - ETA: 0s - loss: 3.3615 - accuracy: 1.0000\n",
      "Epoch 78: val_loss did not improve from 7.07100\n",
      "9/9 [==============================] - 4s 437ms/step - loss: 3.3615 - accuracy: 1.0000 - val_loss: 7.0726 - val_accuracy: 0.2673 - lr: 6.2500e-05\n",
      "Epoch 79/100\n",
      "9/9 [==============================] - ETA: 0s - loss: 3.3560 - accuracy: 1.0000\n",
      "Epoch 79: val_loss improved from 7.07100 to 7.06247, saving model to ../../artifacts/checkpoints\\checkpoint_CaffeNet\n"
     ]
    },
    {
     "name": "stderr",
     "output_type": "stream",
     "text": [
      "WARNING:absl:Found untraced functions such as _jit_compiled_convolution_op, _jit_compiled_convolution_op, _jit_compiled_convolution_op while saving (showing 3 of 3). These functions will not be directly callable after loading.\n"
     ]
    },
    {
     "name": "stdout",
     "output_type": "stream",
     "text": [
      "INFO:tensorflow:Assets written to: ../../artifacts/checkpoints\\checkpoint_CaffeNet\\assets\n"
     ]
    },
    {
     "name": "stderr",
     "output_type": "stream",
     "text": [
      "INFO:tensorflow:Assets written to: ../../artifacts/checkpoints\\checkpoint_CaffeNet\\assets\n"
     ]
    },
    {
     "name": "stdout",
     "output_type": "stream",
     "text": [
      "9/9 [==============================] - 8s 994ms/step - loss: 3.3560 - accuracy: 1.0000 - val_loss: 7.0625 - val_accuracy: 0.2673 - lr: 6.2500e-05\n",
      "Epoch 80/100\n",
      "9/9 [==============================] - ETA: 0s - loss: 3.3499 - accuracy: 1.0000\n",
      "Epoch 80: val_loss improved from 7.06247 to 7.05359, saving model to ../../artifacts/checkpoints\\checkpoint_CaffeNet\n"
     ]
    },
    {
     "name": "stderr",
     "output_type": "stream",
     "text": [
      "WARNING:absl:Found untraced functions such as _jit_compiled_convolution_op, _jit_compiled_convolution_op, _jit_compiled_convolution_op while saving (showing 3 of 3). These functions will not be directly callable after loading.\n"
     ]
    },
    {
     "name": "stdout",
     "output_type": "stream",
     "text": [
      "INFO:tensorflow:Assets written to: ../../artifacts/checkpoints\\checkpoint_CaffeNet\\assets\n"
     ]
    },
    {
     "name": "stderr",
     "output_type": "stream",
     "text": [
      "INFO:tensorflow:Assets written to: ../../artifacts/checkpoints\\checkpoint_CaffeNet\\assets\n"
     ]
    },
    {
     "name": "stdout",
     "output_type": "stream",
     "text": [
      "9/9 [==============================] - 11s 1s/step - loss: 3.3499 - accuracy: 1.0000 - val_loss: 7.0536 - val_accuracy: 0.2627 - lr: 6.2500e-05\n",
      "Epoch 81/100\n",
      "9/9 [==============================] - ETA: 0s - loss: 3.3428 - accuracy: 1.0000\n",
      "Epoch 81: val_loss did not improve from 7.05359\n",
      "9/9 [==============================] - 4s 377ms/step - loss: 3.3428 - accuracy: 1.0000 - val_loss: 7.0562 - val_accuracy: 0.2627 - lr: 6.2500e-05\n",
      "Epoch 82/100\n",
      "9/9 [==============================] - ETA: 0s - loss: 3.3372 - accuracy: 1.0000\n",
      "Epoch 82: val_loss improved from 7.05359 to 7.04702, saving model to ../../artifacts/checkpoints\\checkpoint_CaffeNet\n"
     ]
    },
    {
     "name": "stderr",
     "output_type": "stream",
     "text": [
      "WARNING:absl:Found untraced functions such as _jit_compiled_convolution_op, _jit_compiled_convolution_op, _jit_compiled_convolution_op while saving (showing 3 of 3). These functions will not be directly callable after loading.\n"
     ]
    },
    {
     "name": "stdout",
     "output_type": "stream",
     "text": [
      "INFO:tensorflow:Assets written to: ../../artifacts/checkpoints\\checkpoint_CaffeNet\\assets\n"
     ]
    },
    {
     "name": "stderr",
     "output_type": "stream",
     "text": [
      "INFO:tensorflow:Assets written to: ../../artifacts/checkpoints\\checkpoint_CaffeNet\\assets\n"
     ]
    },
    {
     "name": "stdout",
     "output_type": "stream",
     "text": [
      "9/9 [==============================] - 8s 950ms/step - loss: 3.3372 - accuracy: 1.0000 - val_loss: 7.0470 - val_accuracy: 0.2673 - lr: 6.2500e-05\n",
      "Epoch 83/100\n",
      "9/9 [==============================] - ETA: 0s - loss: 3.3310 - accuracy: 1.0000\n",
      "Epoch 83: val_loss improved from 7.04702 to 7.03629, saving model to ../../artifacts/checkpoints\\checkpoint_CaffeNet\n"
     ]
    },
    {
     "name": "stderr",
     "output_type": "stream",
     "text": [
      "WARNING:absl:Found untraced functions such as _jit_compiled_convolution_op, _jit_compiled_convolution_op, _jit_compiled_convolution_op while saving (showing 3 of 3). These functions will not be directly callable after loading.\n"
     ]
    },
    {
     "name": "stdout",
     "output_type": "stream",
     "text": [
      "INFO:tensorflow:Assets written to: ../../artifacts/checkpoints\\checkpoint_CaffeNet\\assets\n"
     ]
    },
    {
     "name": "stderr",
     "output_type": "stream",
     "text": [
      "INFO:tensorflow:Assets written to: ../../artifacts/checkpoints\\checkpoint_CaffeNet\\assets\n"
     ]
    },
    {
     "name": "stdout",
     "output_type": "stream",
     "text": [
      "9/9 [==============================] - 8s 893ms/step - loss: 3.3310 - accuracy: 1.0000 - val_loss: 7.0363 - val_accuracy: 0.2811 - lr: 6.2500e-05\n",
      "Epoch 84/100\n",
      "9/9 [==============================] - ETA: 0s - loss: 3.3251 - accuracy: 1.0000\n",
      "Epoch 84: val_loss improved from 7.03629 to 7.03122, saving model to ../../artifacts/checkpoints\\checkpoint_CaffeNet\n"
     ]
    },
    {
     "name": "stderr",
     "output_type": "stream",
     "text": [
      "WARNING:absl:Found untraced functions such as _jit_compiled_convolution_op, _jit_compiled_convolution_op, _jit_compiled_convolution_op while saving (showing 3 of 3). These functions will not be directly callable after loading.\n"
     ]
    },
    {
     "name": "stdout",
     "output_type": "stream",
     "text": [
      "INFO:tensorflow:Assets written to: ../../artifacts/checkpoints\\checkpoint_CaffeNet\\assets\n"
     ]
    },
    {
     "name": "stderr",
     "output_type": "stream",
     "text": [
      "INFO:tensorflow:Assets written to: ../../artifacts/checkpoints\\checkpoint_CaffeNet\\assets\n"
     ]
    },
    {
     "name": "stdout",
     "output_type": "stream",
     "text": [
      "9/9 [==============================] - 8s 895ms/step - loss: 3.3251 - accuracy: 1.0000 - val_loss: 7.0312 - val_accuracy: 0.2765 - lr: 6.2500e-05\n",
      "Epoch 85/100\n",
      "9/9 [==============================] - ETA: 0s - loss: 3.3198 - accuracy: 1.0000\n",
      "Epoch 85: val_loss did not improve from 7.03122\n",
      "9/9 [==============================] - 3s 358ms/step - loss: 3.3198 - accuracy: 1.0000 - val_loss: 7.0493 - val_accuracy: 0.2673 - lr: 6.2500e-05\n",
      "Epoch 86/100\n",
      "9/9 [==============================] - ETA: 0s - loss: 3.3139 - accuracy: 1.0000\n",
      "Epoch 86: val_loss improved from 7.03122 to 7.00088, saving model to ../../artifacts/checkpoints\\checkpoint_CaffeNet\n"
     ]
    },
    {
     "name": "stderr",
     "output_type": "stream",
     "text": [
      "WARNING:absl:Found untraced functions such as _jit_compiled_convolution_op, _jit_compiled_convolution_op, _jit_compiled_convolution_op while saving (showing 3 of 3). These functions will not be directly callable after loading.\n"
     ]
    },
    {
     "name": "stdout",
     "output_type": "stream",
     "text": [
      "INFO:tensorflow:Assets written to: ../../artifacts/checkpoints\\checkpoint_CaffeNet\\assets\n"
     ]
    },
    {
     "name": "stderr",
     "output_type": "stream",
     "text": [
      "INFO:tensorflow:Assets written to: ../../artifacts/checkpoints\\checkpoint_CaffeNet\\assets\n"
     ]
    },
    {
     "name": "stdout",
     "output_type": "stream",
     "text": [
      "9/9 [==============================] - 7s 878ms/step - loss: 3.3139 - accuracy: 1.0000 - val_loss: 7.0009 - val_accuracy: 0.2627 - lr: 6.2500e-05\n",
      "Epoch 87/100\n",
      "9/9 [==============================] - ETA: 0s - loss: 3.3074 - accuracy: 1.0000\n",
      "Epoch 87: val_loss did not improve from 7.00088\n",
      "9/9 [==============================] - 3s 350ms/step - loss: 3.3074 - accuracy: 1.0000 - val_loss: 7.0183 - val_accuracy: 0.2627 - lr: 6.2500e-05\n",
      "Epoch 88/100\n",
      "9/9 [==============================] - ETA: 0s - loss: 3.3008 - accuracy: 1.0000\n",
      "Epoch 88: val_loss did not improve from 7.00088\n",
      "9/9 [==============================] - 3s 343ms/step - loss: 3.3008 - accuracy: 1.0000 - val_loss: 7.0304 - val_accuracy: 0.2719 - lr: 6.2500e-05\n",
      "Epoch 89/100\n",
      "9/9 [==============================] - ETA: 0s - loss: 3.2954 - accuracy: 1.0000\n",
      "Epoch 89: val_loss did not improve from 7.00088\n",
      "9/9 [==============================] - 3s 334ms/step - loss: 3.2954 - accuracy: 1.0000 - val_loss: 7.0160 - val_accuracy: 0.2673 - lr: 6.2500e-05\n",
      "Epoch 90/100\n",
      "9/9 [==============================] - ETA: 0s - loss: 3.2899 - accuracy: 1.0000\n",
      "Epoch 90: val_loss did not improve from 7.00088\n",
      "9/9 [==============================] - 3s 348ms/step - loss: 3.2899 - accuracy: 1.0000 - val_loss: 7.0170 - val_accuracy: 0.2627 - lr: 3.1250e-05\n",
      "Epoch 91/100\n",
      "9/9 [==============================] - ETA: 0s - loss: 3.2865 - accuracy: 1.0000\n",
      "Epoch 91: val_loss did not improve from 7.00088\n",
      "9/9 [==============================] - 3s 352ms/step - loss: 3.2865 - accuracy: 1.0000 - val_loss: 7.0131 - val_accuracy: 0.2719 - lr: 3.1250e-05\n",
      "Epoch 92/100\n",
      "9/9 [==============================] - ETA: 0s - loss: 3.2825 - accuracy: 1.0000\n",
      "Epoch 92: val_loss did not improve from 7.00088\n",
      "9/9 [==============================] - 3s 339ms/step - loss: 3.2825 - accuracy: 1.0000 - val_loss: 7.0054 - val_accuracy: 0.2627 - lr: 3.1250e-05\n",
      "Epoch 93/100\n",
      "9/9 [==============================] - ETA: 0s - loss: 3.2797 - accuracy: 1.0000\n",
      "Epoch 93: val_loss improved from 7.00088 to 7.00082, saving model to ../../artifacts/checkpoints\\checkpoint_CaffeNet\n"
     ]
    },
    {
     "name": "stderr",
     "output_type": "stream",
     "text": [
      "WARNING:absl:Found untraced functions such as _jit_compiled_convolution_op, _jit_compiled_convolution_op, _jit_compiled_convolution_op while saving (showing 3 of 3). These functions will not be directly callable after loading.\n"
     ]
    },
    {
     "name": "stdout",
     "output_type": "stream",
     "text": [
      "INFO:tensorflow:Assets written to: ../../artifacts/checkpoints\\checkpoint_CaffeNet\\assets\n"
     ]
    },
    {
     "name": "stderr",
     "output_type": "stream",
     "text": [
      "INFO:tensorflow:Assets written to: ../../artifacts/checkpoints\\checkpoint_CaffeNet\\assets\n"
     ]
    },
    {
     "name": "stdout",
     "output_type": "stream",
     "text": [
      "9/9 [==============================] - 7s 868ms/step - loss: 3.2797 - accuracy: 1.0000 - val_loss: 7.0008 - val_accuracy: 0.2627 - lr: 1.5625e-05\n",
      "Epoch 94/100\n",
      "9/9 [==============================] - ETA: 0s - loss: 3.2777 - accuracy: 1.0000\n",
      "Epoch 94: val_loss did not improve from 7.00082\n",
      "9/9 [==============================] - 3s 341ms/step - loss: 3.2777 - accuracy: 1.0000 - val_loss: 7.0091 - val_accuracy: 0.2673 - lr: 1.5625e-05\n",
      "Epoch 95/100\n",
      "9/9 [==============================] - ETA: 0s - loss: 3.2755 - accuracy: 1.0000\n",
      "Epoch 95: val_loss did not improve from 7.00082\n",
      "9/9 [==============================] - 3s 342ms/step - loss: 3.2755 - accuracy: 1.0000 - val_loss: 7.0013 - val_accuracy: 0.2673 - lr: 1.5625e-05\n",
      "Epoch 96/100\n",
      "9/9 [==============================] - ETA: 0s - loss: 3.2754 - accuracy: 1.0000\n",
      "Epoch 96: val_loss did not improve from 7.00082\n",
      "9/9 [==============================] - 3s 319ms/step - loss: 3.2754 - accuracy: 1.0000 - val_loss: 7.0036 - val_accuracy: 0.2673 - lr: 7.8125e-06\n",
      "Epoch 97/100\n",
      "9/9 [==============================] - ETA: 0s - loss: 3.2735 - accuracy: 1.0000\n",
      "Epoch 97: val_loss did not improve from 7.00082\n",
      "9/9 [==============================] - 3s 339ms/step - loss: 3.2735 - accuracy: 1.0000 - val_loss: 7.0082 - val_accuracy: 0.2719 - lr: 7.8125e-06\n",
      "Epoch 98/100\n",
      "9/9 [==============================] - ETA: 0s - loss: 3.2735 - accuracy: 1.0000\n",
      "Epoch 98: val_loss did not improve from 7.00082\n",
      "9/9 [==============================] - 3s 347ms/step - loss: 3.2735 - accuracy: 1.0000 - val_loss: 7.0144 - val_accuracy: 0.2719 - lr: 7.8125e-06\n",
      "Epoch 99/100\n",
      "9/9 [==============================] - ETA: 0s - loss: 3.2715 - accuracy: 1.0000\n",
      "Epoch 99: val_loss did not improve from 7.00082\n",
      "9/9 [==============================] - 3s 336ms/step - loss: 3.2715 - accuracy: 1.0000 - val_loss: 7.0094 - val_accuracy: 0.2719 - lr: 3.9063e-06\n",
      "Epoch 100/100\n",
      "9/9 [==============================] - ETA: 0s - loss: 3.2720 - accuracy: 1.0000\n",
      "Epoch 100: val_loss did not improve from 7.00082\n",
      "9/9 [==============================] - 3s 339ms/step - loss: 3.2720 - accuracy: 1.0000 - val_loss: 7.0066 - val_accuracy: 0.2719 - lr: 3.9063e-06\n",
      "Saving model to \"artifacts/models/CaffeNet.h5\"...\n",
      "Model saved successfully!\n",
      "Saving history to \"artifacts/model_histories/history_CaffeNet\"...\n",
      "History saved successfully!\n"
     ]
    }
   ],
   "source": [
    "caffe_net_wrapper.train_and_save_model_and_history()"
   ]
  },
  {
   "cell_type": "code",
   "execution_count": 10,
   "metadata": {},
   "outputs": [
    {
     "name": "stdout",
     "output_type": "stream",
     "text": [
      "Loading model from \"../../artifacts/models/CaffeNet.h5\"...\n",
      "Model loaded successfully!\n",
      "Loading history from \"../../artifacts/model_histories/history_CaffeNet\"...\n",
      "History loaded successfully!\n"
     ]
    }
   ],
   "source": [
    "caffe_net_wrapper.load_model_and_history()"
   ]
  },
  {
   "cell_type": "code",
   "execution_count": 11,
   "metadata": {},
   "outputs": [
    {
     "data": {
      "image/png": "[encoded data removed]",
      "text/plain": [
       "<Figure size 640x480 with 1 Axes>"
      ]
     },
     "metadata": {},
     "output_type": "display_data"
    }
   ],
   "source": [
    "caffe_net_wrapper.plot_accuracy()"
   ]
  },
  {
   "cell_type": "code",
   "execution_count": 12,
   "metadata": {},
   "outputs": [
    {
     "data": {
      "image/png": "[encoded data removed]",
      "text/plain": [
       "<Figure size 640x480 with 1 Axes>"
      ]
     },
     "metadata": {},
     "output_type": "display_data"
    }
   ],
   "source": [
    "caffe_net_wrapper.plot_loss()"
   ]
  },
  {
   "cell_type": "code",
   "execution_count": 13,
   "metadata": {},
   "outputs": [
    {
     "name": "stdout",
     "output_type": "stream",
     "text": [
      "20/20 [==============================] - 1s 21ms/step - loss: 7.0626 - accuracy: 0.2359\n",
      "Loss: 7.0626\n",
      "Accuracy: 0.2359\n",
      "20/20 [==============================] - 0s 13ms/step\n",
      "Classification Report:\n",
      "              precision    recall  f1-score   support\n",
      "\n",
      "           0       0.27      0.17      0.21        23\n",
      "           1       0.29      0.24      0.26        25\n",
      "           2       0.44      0.44      0.44        52\n",
      "           3       0.19      0.24      0.21        38\n",
      "           4       0.09      0.07      0.08        27\n",
      "           5       0.19      0.23      0.21        35\n",
      "           6       0.17      0.16      0.16        45\n",
      "           7       0.00      0.00      0.00        10\n",
      "           8       0.14      0.17      0.15        12\n",
      "           9       0.33      0.27      0.30        11\n",
      "          10       0.06      0.04      0.05        23\n",
      "          11       0.27      0.27      0.27        26\n",
      "          12       0.18      0.22      0.20        32\n",
      "          13       0.14      0.20      0.17        15\n",
      "          14       0.17      0.24      0.20        17\n",
      "          15       0.62      0.50      0.55        16\n",
      "          16       0.13      0.23      0.17        13\n",
      "          17       0.23      0.14      0.18        21\n",
      "          18       0.17      0.17      0.17        18\n",
      "          19       0.19      0.19      0.19        21\n",
      "          20       0.29      0.33      0.31        12\n",
      "          21       0.40      0.36      0.38        53\n",
      "          22       0.09      0.11      0.10        19\n",
      "          23       0.40      0.24      0.30        17\n",
      "          24       0.26      0.26      0.26        38\n",
      "\n",
      "    accuracy                           0.24       619\n",
      "   macro avg       0.23      0.22      0.22       619\n",
      "weighted avg       0.24      0.24      0.24       619\n",
      "\n"
     ]
    },
    {
     "data": {
      "image/png": "[encoded data removed]",
      "text/plain": [
       "<Figure size 1500x1000 with 2 Axes>"
      ]
     },
     "metadata": {},
     "output_type": "display_data"
    }
   ],
   "source": [
    "caffe_net_wrapper.display_evaluation_results()"
   ]
  },
  {
   "cell_type": "code",
   "execution_count": null,
   "metadata": {},
   "outputs": [],
   "source": []
  }
 ],
 "metadata": {
  "kernelspec": {
   "display_name": "ML-projekat",
   "language": "python",
   "name": "python3"
  },
  "language_info": {
   "codemirror_mode": {
    "name": "ipython",
    "version": 3
   },
   "file_extension": ".py",
   "mimetype": "text/x-python",
   "name": "python",
   "nbconvert_exporter": "python",
   "pygments_lexer": "ipython3",
   "version": "3.9.17"
  },
  "orig_nbformat": 4
 },
 "nbformat": 4,
 "nbformat_minor": 2
}
