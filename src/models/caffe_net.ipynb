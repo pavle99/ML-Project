{
 "cells": [
  {
   "cell_type": "code",
   "execution_count": 1,
   "metadata": {},
   "outputs": [],
   "source": [
    "import sys\n",
    "\n",
    "sys.path.append(\"..\")"
   ]
  },
  {
   "cell_type": "code",
   "execution_count": 2,
   "metadata": {},
   "outputs": [],
   "source": [
    "from tensorflow import keras"
   ]
  },
  {
   "cell_type": "code",
   "execution_count": 3,
   "metadata": {},
   "outputs": [],
   "source": [
    "from utils.preprocessing_utils import PreprocessingUtils"
   ]
  },
  {
   "cell_type": "code",
   "execution_count": 4,
   "metadata": {},
   "outputs": [],
   "source": [
    "from utils.model_wrapper import ModelWrapper"
   ]
  },
  {
   "cell_type": "code",
   "execution_count": 5,
   "metadata": {},
   "outputs": [
    {
     "name": "stdout",
     "output_type": "stream",
     "text": [
      "Files already exist, skipping...\n",
      "Loading images and labels...\n",
      "Images and labels loaded successfully!\n",
      "Preprocessing labels...\n",
      "Labels preprocessed successfully!\n",
      "Loading split data...\n",
      "Split data loaded successfully!\n"
     ]
    }
   ],
   "source": [
    "preprocessing_utils = PreprocessingUtils()"
   ]
  },
  {
   "cell_type": "code",
   "execution_count": 6,
   "metadata": {},
   "outputs": [],
   "source": [
    "def build_caffe_net(model_name: str):\n",
    "    model = keras.models.Sequential(\n",
    "        name=model_name,\n",
    "        layers=[\n",
    "            keras.layers.Conv2D(\n",
    "                filters=3,\n",
    "                kernel_size=(11, 11),\n",
    "                activation=\"relu\",\n",
    "                input_shape=preprocessing_utils.images.shape[1:],\n",
    "            ),\n",
    "            keras.layers.MaxPooling2D(pool_size=(2, 2)),\n",
    "            keras.layers.BatchNormalization(),\n",
    "            keras.layers.Conv2D(\n",
    "                filters=16,\n",
    "                kernel_size=(5, 5),\n",
    "                activation=\"relu\",\n",
    "                kernel_regularizer=keras.regularizers.l2(0.01),\n",
    "            ),\n",
    "            keras.layers.MaxPooling2D(pool_size=(2, 2)),\n",
    "            keras.layers.BatchNormalization(),\n",
    "            keras.layers.Conv2D(\n",
    "                filters=96,\n",
    "                kernel_size=(3, 3),\n",
    "                activation=\"relu\",\n",
    "                kernel_regularizer=keras.regularizers.l2(0.01),\n",
    "            ),\n",
    "            keras.layers.MaxPooling2D(pool_size=(2, 2)),\n",
    "            keras.layers.Flatten(),\n",
    "            keras.layers.Dense(\n",
    "                units=2048,\n",
    "                activation=\"relu\",\n",
    "                kernel_regularizer=keras.regularizers.l2(0.01),\n",
    "            ),\n",
    "            keras.layers.Dense(\n",
    "                units=2048,\n",
    "                activation=\"relu\",\n",
    "                kernel_regularizer=keras.regularizers.l2(0.01),\n",
    "            ),\n",
    "            keras.layers.Dense(\n",
    "                units=preprocessing_utils.num_classes, activation=\"softmax\"\n",
    "            ),\n",
    "        ],\n",
    "    )\n",
    "\n",
    "    model.compile(\n",
    "        optimizer=\"adam\", loss=\"categorical_crossentropy\", metrics=[\"accuracy\"]\n",
    "    )\n",
    "\n",
    "    model.summary()\n",
    "\n",
    "    return model"
   ]
  },
  {
   "cell_type": "code",
   "execution_count": 7,
   "metadata": {},
   "outputs": [],
   "source": [
    "caffe_net_wrapper = ModelWrapper(\"CaffeNet\", preprocessing_utils=preprocessing_utils)"
   ]
  },
  {
   "cell_type": "code",
   "execution_count": 8,
   "metadata": {},
   "outputs": [
    {
     "name": "stdout",
     "output_type": "stream",
     "text": [
      "Building model...\n",
      "Model: \"CaffeNet\"\n",
      "_________________________________________________________________\n",
      " Layer (type)                Output Shape              Param #   \n",
      "=================================================================\n",
      " conv2d (Conv2D)             (None, 246, 246, 3)       1092      \n",
      "                                                                 \n",
      " max_pooling2d (MaxPooling2D  (None, 123, 123, 3)      0         \n",
      " )                                                               \n",
      "                                                                 \n",
      " batch_normalization (BatchN  (None, 123, 123, 3)      12        \n",
      " ormalization)                                                   \n",
      "                                                                 \n",
      " conv2d_1 (Conv2D)           (None, 119, 119, 16)      1216      \n",
      "                                                                 \n",
      " max_pooling2d_1 (MaxPooling  (None, 59, 59, 16)       0         \n",
      " 2D)                                                             \n",
      "                                                                 \n",
      " batch_normalization_1 (Batc  (None, 59, 59, 16)       64        \n",
      " hNormalization)                                                 \n",
      "                                                                 \n",
      " conv2d_2 (Conv2D)           (None, 57, 57, 96)        13920     \n",
      "                                                                 \n",
      " max_pooling2d_2 (MaxPooling  (None, 28, 28, 96)       0         \n",
      " 2D)                                                             \n",
      "                                                                 \n",
      " flatten (Flatten)           (None, 75264)             0         \n",
      "                                                                 \n",
      " dense (Dense)               (None, 2048)              154142720 \n",
      "                                                                 \n",
      " dense_1 (Dense)             (None, 2048)              4196352   \n",
      "                                                                 \n",
      " dense_2 (Dense)             (None, 25)                51225     \n",
      "                                                                 \n",
      "=================================================================\n",
      "Total params: 158,406,601\n",
      "Trainable params: 158,406,563\n",
      "Non-trainable params: 38\n",
      "_________________________________________________________________\n",
      "Model built successfully!\n",
      "Saving model summary to ../../artifacts/model_summaries/summary_CaffeNet...\n",
      "Model summary saved successfully!\n"
     ]
    }
   ],
   "source": [
    "caffe_net_wrapper.build_model(\n",
    "    build_fn=build_caffe_net, model_name=caffe_net_wrapper.model_name\n",
    ")"
   ]
  },
  {
   "cell_type": "code",
   "execution_count": 9,
   "metadata": {},
   "outputs": [
    {
     "name": "stdout",
     "output_type": "stream",
     "text": [
      "Epoch 1/100\n",
      "9/9 [==============================] - ETA: 0s - loss: 113.4039 - accuracy: 0.0559\n",
      "Epoch 1: val_loss improved from inf to 48.95309, saving model to ../../artifacts/checkpoints\\checkpoint_CaffeNet\n"
     ]
    },
    {
     "name": "stderr",
     "output_type": "stream",
     "text": [
      "WARNING:absl:Found untraced functions such as _jit_compiled_convolution_op, _jit_compiled_convolution_op, _jit_compiled_convolution_op while saving (showing 3 of 3). These functions will not be directly callable after loading.\n"
     ]
    },
    {
     "name": "stdout",
     "output_type": "stream",
     "text": [
      "INFO:tensorflow:Assets written to: ../../artifacts/checkpoints\\checkpoint_CaffeNet\\assets\n"
     ]
    },
    {
     "name": "stderr",
     "output_type": "stream",
     "text": [
      "INFO:tensorflow:Assets written to: ../../artifacts/checkpoints\\checkpoint_CaffeNet\\assets\n"
     ]
    },
    {
     "name": "stdout",
     "output_type": "stream",
     "text": [
      "9/9 [==============================] - 13s 813ms/step - loss: 113.4039 - accuracy: 0.0559 - val_loss: 48.9531 - val_accuracy: 0.0230 - lr: 0.0010\n",
      "Epoch 2/100\n",
      "9/9 [==============================] - ETA: 0s - loss: 48.4954 - accuracy: 0.0309\n",
      "Epoch 2: val_loss improved from 48.95309 to 35.87443, saving model to ../../artifacts/checkpoints\\checkpoint_CaffeNet\n"
     ]
    },
    {
     "name": "stderr",
     "output_type": "stream",
     "text": [
      "WARNING:absl:Found untraced functions such as _jit_compiled_convolution_op, _jit_compiled_convolution_op, _jit_compiled_convolution_op while saving (showing 3 of 3). These functions will not be directly callable after loading.\n"
     ]
    },
    {
     "name": "stdout",
     "output_type": "stream",
     "text": [
      "INFO:tensorflow:Assets written to: ../../artifacts/checkpoints\\checkpoint_CaffeNet\\assets\n"
     ]
    },
    {
     "name": "stderr",
     "output_type": "stream",
     "text": [
      "INFO:tensorflow:Assets written to: ../../artifacts/checkpoints\\checkpoint_CaffeNet\\assets\n"
     ]
    },
    {
     "name": "stdout",
     "output_type": "stream",
     "text": [
      "9/9 [==============================] - 7s 785ms/step - loss: 48.4954 - accuracy: 0.0309 - val_loss: 35.8744 - val_accuracy: 0.0783 - lr: 0.0010\n",
      "Epoch 3/100\n",
      "9/9 [==============================] - ETA: 0s - loss: 33.2228 - accuracy: 0.0907\n",
      "Epoch 3: val_loss improved from 35.87443 to 30.32004, saving model to ../../artifacts/checkpoints\\checkpoint_CaffeNet\n"
     ]
    },
    {
     "name": "stderr",
     "output_type": "stream",
     "text": [
      "WARNING:absl:Found untraced functions such as _jit_compiled_convolution_op, _jit_compiled_convolution_op, _jit_compiled_convolution_op while saving (showing 3 of 3). These functions will not be directly callable after loading.\n"
     ]
    },
    {
     "name": "stdout",
     "output_type": "stream",
     "text": [
      "INFO:tensorflow:Assets written to: ../../artifacts/checkpoints\\checkpoint_CaffeNet\\assets\n"
     ]
    },
    {
     "name": "stderr",
     "output_type": "stream",
     "text": [
      "INFO:tensorflow:Assets written to: ../../artifacts/checkpoints\\checkpoint_CaffeNet\\assets\n"
     ]
    },
    {
     "name": "stdout",
     "output_type": "stream",
     "text": [
      "9/9 [==============================] - 7s 860ms/step - loss: 33.2228 - accuracy: 0.0907 - val_loss: 30.3200 - val_accuracy: 0.0461 - lr: 0.0010\n",
      "Epoch 4/100\n",
      "9/9 [==============================] - ETA: 0s - loss: 27.3543 - accuracy: 0.1571\n",
      "Epoch 4: val_loss improved from 30.32004 to 25.73785, saving model to ../../artifacts/checkpoints\\checkpoint_CaffeNet\n"
     ]
    },
    {
     "name": "stderr",
     "output_type": "stream",
     "text": [
      "WARNING:absl:Found untraced functions such as _jit_compiled_convolution_op, _jit_compiled_convolution_op, _jit_compiled_convolution_op while saving (showing 3 of 3). These functions will not be directly callable after loading.\n"
     ]
    },
    {
     "name": "stdout",
     "output_type": "stream",
     "text": [
      "INFO:tensorflow:Assets written to: ../../artifacts/checkpoints\\checkpoint_CaffeNet\\assets\n"
     ]
    },
    {
     "name": "stderr",
     "output_type": "stream",
     "text": [
      "INFO:tensorflow:Assets written to: ../../artifacts/checkpoints\\checkpoint_CaffeNet\\assets\n"
     ]
    },
    {
     "name": "stdout",
     "output_type": "stream",
     "text": [
      "9/9 [==============================] - 6s 763ms/step - loss: 27.3543 - accuracy: 0.1571 - val_loss: 25.7379 - val_accuracy: 0.0092 - lr: 0.0010\n",
      "Epoch 5/100\n",
      "9/9 [==============================] - ETA: 0s - loss: 22.3136 - accuracy: 0.2087\n",
      "Epoch 5: val_loss improved from 25.73785 to 21.42697, saving model to ../../artifacts/checkpoints\\checkpoint_CaffeNet\n"
     ]
    },
    {
     "name": "stderr",
     "output_type": "stream",
     "text": [
      "WARNING:absl:Found untraced functions such as _jit_compiled_convolution_op, _jit_compiled_convolution_op, _jit_compiled_convolution_op while saving (showing 3 of 3). These functions will not be directly callable after loading.\n"
     ]
    },
    {
     "name": "stdout",
     "output_type": "stream",
     "text": [
      "INFO:tensorflow:Assets written to: ../../artifacts/checkpoints\\checkpoint_CaffeNet\\assets\n"
     ]
    },
    {
     "name": "stderr",
     "output_type": "stream",
     "text": [
      "INFO:tensorflow:Assets written to: ../../artifacts/checkpoints\\checkpoint_CaffeNet\\assets\n"
     ]
    },
    {
     "name": "stdout",
     "output_type": "stream",
     "text": [
      "9/9 [==============================] - 7s 799ms/step - loss: 22.3136 - accuracy: 0.2087 - val_loss: 21.4270 - val_accuracy: 0.0415 - lr: 0.0010\n",
      "Epoch 6/100\n",
      "9/9 [==============================] - ETA: 0s - loss: 18.4745 - accuracy: 0.2012\n",
      "Epoch 6: val_loss improved from 21.42697 to 17.57614, saving model to ../../artifacts/checkpoints\\checkpoint_CaffeNet\n"
     ]
    },
    {
     "name": "stderr",
     "output_type": "stream",
     "text": [
      "WARNING:absl:Found untraced functions such as _jit_compiled_convolution_op, _jit_compiled_convolution_op, _jit_compiled_convolution_op while saving (showing 3 of 3). These functions will not be directly callable after loading.\n"
     ]
    },
    {
     "name": "stdout",
     "output_type": "stream",
     "text": [
      "INFO:tensorflow:Assets written to: ../../artifacts/checkpoints\\checkpoint_CaffeNet\\assets\n"
     ]
    },
    {
     "name": "stderr",
     "output_type": "stream",
     "text": [
      "INFO:tensorflow:Assets written to: ../../artifacts/checkpoints\\checkpoint_CaffeNet\\assets\n"
     ]
    },
    {
     "name": "stdout",
     "output_type": "stream",
     "text": [
      "9/9 [==============================] - 7s 793ms/step - loss: 18.4745 - accuracy: 0.2012 - val_loss: 17.5761 - val_accuracy: 0.0461 - lr: 0.0010\n",
      "Epoch 7/100\n",
      "9/9 [==============================] - ETA: 0s - loss: 15.3977 - accuracy: 0.2668\n",
      "Epoch 7: val_loss improved from 17.57614 to 14.90477, saving model to ../../artifacts/checkpoints\\checkpoint_CaffeNet\n"
     ]
    },
    {
     "name": "stderr",
     "output_type": "stream",
     "text": [
      "WARNING:absl:Found untraced functions such as _jit_compiled_convolution_op, _jit_compiled_convolution_op, _jit_compiled_convolution_op while saving (showing 3 of 3). These functions will not be directly callable after loading.\n"
     ]
    },
    {
     "name": "stdout",
     "output_type": "stream",
     "text": [
      "INFO:tensorflow:Assets written to: ../../artifacts/checkpoints\\checkpoint_CaffeNet\\assets\n"
     ]
    },
    {
     "name": "stderr",
     "output_type": "stream",
     "text": [
      "INFO:tensorflow:Assets written to: ../../artifacts/checkpoints\\checkpoint_CaffeNet\\assets\n"
     ]
    },
    {
     "name": "stdout",
     "output_type": "stream",
     "text": [
      "9/9 [==============================] - 6s 748ms/step - loss: 15.3977 - accuracy: 0.2668 - val_loss: 14.9048 - val_accuracy: 0.0599 - lr: 0.0010\n",
      "Epoch 8/100\n",
      "9/9 [==============================] - ETA: 0s - loss: 13.0305 - accuracy: 0.2938\n",
      "Epoch 8: val_loss improved from 14.90477 to 13.11951, saving model to ../../artifacts/checkpoints\\checkpoint_CaffeNet\n"
     ]
    },
    {
     "name": "stderr",
     "output_type": "stream",
     "text": [
      "WARNING:absl:Found untraced functions such as _jit_compiled_convolution_op, _jit_compiled_convolution_op, _jit_compiled_convolution_op while saving (showing 3 of 3). These functions will not be directly callable after loading.\n"
     ]
    },
    {
     "name": "stdout",
     "output_type": "stream",
     "text": [
      "INFO:tensorflow:Assets written to: ../../artifacts/checkpoints\\checkpoint_CaffeNet\\assets\n"
     ]
    },
    {
     "name": "stderr",
     "output_type": "stream",
     "text": [
      "INFO:tensorflow:Assets written to: ../../artifacts/checkpoints\\checkpoint_CaffeNet\\assets\n"
     ]
    },
    {
     "name": "stdout",
     "output_type": "stream",
     "text": [
      "9/9 [==============================] - 6s 755ms/step - loss: 13.0305 - accuracy: 0.2938 - val_loss: 13.1195 - val_accuracy: 0.0645 - lr: 0.0010\n",
      "Epoch 9/100\n",
      "9/9 [==============================] - ETA: 0s - loss: 11.5433 - accuracy: 0.2800\n",
      "Epoch 9: val_loss improved from 13.11951 to 12.18987, saving model to ../../artifacts/checkpoints\\checkpoint_CaffeNet\n"
     ]
    },
    {
     "name": "stderr",
     "output_type": "stream",
     "text": [
      "WARNING:absl:Found untraced functions such as _jit_compiled_convolution_op, _jit_compiled_convolution_op, _jit_compiled_convolution_op while saving (showing 3 of 3). These functions will not be directly callable after loading.\n"
     ]
    },
    {
     "name": "stdout",
     "output_type": "stream",
     "text": [
      "INFO:tensorflow:Assets written to: ../../artifacts/checkpoints\\checkpoint_CaffeNet\\assets\n"
     ]
    },
    {
     "name": "stderr",
     "output_type": "stream",
     "text": [
      "INFO:tensorflow:Assets written to: ../../artifacts/checkpoints\\checkpoint_CaffeNet\\assets\n"
     ]
    },
    {
     "name": "stdout",
     "output_type": "stream",
     "text": [
      "9/9 [==============================] - 7s 790ms/step - loss: 11.5433 - accuracy: 0.2800 - val_loss: 12.1899 - val_accuracy: 0.0737 - lr: 0.0010\n",
      "Epoch 10/100\n",
      "9/9 [==============================] - ETA: 0s - loss: 10.4966 - accuracy: 0.2975\n",
      "Epoch 10: val_loss improved from 12.18987 to 11.08335, saving model to ../../artifacts/checkpoints\\checkpoint_CaffeNet\n"
     ]
    },
    {
     "name": "stderr",
     "output_type": "stream",
     "text": [
      "WARNING:absl:Found untraced functions such as _jit_compiled_convolution_op, _jit_compiled_convolution_op, _jit_compiled_convolution_op while saving (showing 3 of 3). These functions will not be directly callable after loading.\n"
     ]
    },
    {
     "name": "stdout",
     "output_type": "stream",
     "text": [
      "INFO:tensorflow:Assets written to: ../../artifacts/checkpoints\\checkpoint_CaffeNet\\assets\n"
     ]
    },
    {
     "name": "stderr",
     "output_type": "stream",
     "text": [
      "INFO:tensorflow:Assets written to: ../../artifacts/checkpoints\\checkpoint_CaffeNet\\assets\n"
     ]
    },
    {
     "name": "stdout",
     "output_type": "stream",
     "text": [
      "9/9 [==============================] - 7s 800ms/step - loss: 10.4966 - accuracy: 0.2975 - val_loss: 11.0833 - val_accuracy: 0.0783 - lr: 0.0010\n",
      "Epoch 11/100\n",
      "9/9 [==============================] - ETA: 0s - loss: 9.4913 - accuracy: 0.3637\n",
      "Epoch 11: val_loss improved from 11.08335 to 10.33545, saving model to ../../artifacts/checkpoints\\checkpoint_CaffeNet\n"
     ]
    },
    {
     "name": "stderr",
     "output_type": "stream",
     "text": [
      "WARNING:absl:Found untraced functions such as _jit_compiled_convolution_op, _jit_compiled_convolution_op, _jit_compiled_convolution_op while saving (showing 3 of 3). These functions will not be directly callable after loading.\n"
     ]
    },
    {
     "name": "stdout",
     "output_type": "stream",
     "text": [
      "INFO:tensorflow:Assets written to: ../../artifacts/checkpoints\\checkpoint_CaffeNet\\assets\n"
     ]
    },
    {
     "name": "stderr",
     "output_type": "stream",
     "text": [
      "INFO:tensorflow:Assets written to: ../../artifacts/checkpoints\\checkpoint_CaffeNet\\assets\n"
     ]
    },
    {
     "name": "stdout",
     "output_type": "stream",
     "text": [
      "9/9 [==============================] - 7s 810ms/step - loss: 9.4913 - accuracy: 0.3637 - val_loss: 10.3354 - val_accuracy: 0.0737 - lr: 0.0010\n",
      "Epoch 12/100\n",
      "9/9 [==============================] - ETA: 0s - loss: 8.8469 - accuracy: 0.3838\n",
      "Epoch 12: val_loss improved from 10.33545 to 9.82085, saving model to ../../artifacts/checkpoints\\checkpoint_CaffeNet\n"
     ]
    },
    {
     "name": "stderr",
     "output_type": "stream",
     "text": [
      "WARNING:absl:Found untraced functions such as _jit_compiled_convolution_op, _jit_compiled_convolution_op, _jit_compiled_convolution_op while saving (showing 3 of 3). These functions will not be directly callable after loading.\n"
     ]
    },
    {
     "name": "stdout",
     "output_type": "stream",
     "text": [
      "INFO:tensorflow:Assets written to: ../../artifacts/checkpoints\\checkpoint_CaffeNet\\assets\n"
     ]
    },
    {
     "name": "stderr",
     "output_type": "stream",
     "text": [
      "INFO:tensorflow:Assets written to: ../../artifacts/checkpoints\\checkpoint_CaffeNet\\assets\n"
     ]
    },
    {
     "name": "stdout",
     "output_type": "stream",
     "text": [
      "9/9 [==============================] - 7s 787ms/step - loss: 8.8469 - accuracy: 0.3838 - val_loss: 9.8209 - val_accuracy: 0.1060 - lr: 0.0010\n",
      "Epoch 13/100\n",
      "9/9 [==============================] - ETA: 0s - loss: 8.5674 - accuracy: 0.3948\n",
      "Epoch 13: val_loss did not improve from 9.82085\n",
      "9/9 [==============================] - 2s 235ms/step - loss: 8.5674 - accuracy: 0.3948 - val_loss: 9.8480 - val_accuracy: 0.1060 - lr: 0.0010\n",
      "Epoch 14/100\n",
      "9/9 [==============================] - ETA: 0s - loss: 8.1255 - accuracy: 0.4442\n",
      "Epoch 14: val_loss improved from 9.82085 to 9.32874, saving model to ../../artifacts/checkpoints\\checkpoint_CaffeNet\n"
     ]
    },
    {
     "name": "stderr",
     "output_type": "stream",
     "text": [
      "WARNING:absl:Found untraced functions such as _jit_compiled_convolution_op, _jit_compiled_convolution_op, _jit_compiled_convolution_op while saving (showing 3 of 3). These functions will not be directly callable after loading.\n"
     ]
    },
    {
     "name": "stdout",
     "output_type": "stream",
     "text": [
      "INFO:tensorflow:Assets written to: ../../artifacts/checkpoints\\checkpoint_CaffeNet\\assets\n"
     ]
    },
    {
     "name": "stderr",
     "output_type": "stream",
     "text": [
      "INFO:tensorflow:Assets written to: ../../artifacts/checkpoints\\checkpoint_CaffeNet\\assets\n"
     ]
    },
    {
     "name": "stdout",
     "output_type": "stream",
     "text": [
      "9/9 [==============================] - 6s 749ms/step - loss: 8.1255 - accuracy: 0.4442 - val_loss: 9.3287 - val_accuracy: 0.1152 - lr: 0.0010\n",
      "Epoch 15/100\n",
      "8/9 [=========================>....] - ETA: 0s - loss: 7.7689 - accuracy: 0.4660\n",
      "Epoch 15: val_loss improved from 9.32874 to 9.02749, saving model to ../../artifacts/checkpoints\\checkpoint_CaffeNet\n"
     ]
    },
    {
     "name": "stderr",
     "output_type": "stream",
     "text": [
      "WARNING:absl:Found untraced functions such as _jit_compiled_convolution_op, _jit_compiled_convolution_op, _jit_compiled_convolution_op while saving (showing 3 of 3). These functions will not be directly callable after loading.\n"
     ]
    },
    {
     "name": "stdout",
     "output_type": "stream",
     "text": [
      "INFO:tensorflow:Assets written to: ../../artifacts/checkpoints\\checkpoint_CaffeNet\\assets\n"
     ]
    },
    {
     "name": "stderr",
     "output_type": "stream",
     "text": [
      "INFO:tensorflow:Assets written to: ../../artifacts/checkpoints\\checkpoint_CaffeNet\\assets\n"
     ]
    },
    {
     "name": "stdout",
     "output_type": "stream",
     "text": [
      "9/9 [==============================] - 6s 742ms/step - loss: 7.7769 - accuracy: 0.4629 - val_loss: 9.0275 - val_accuracy: 0.1152 - lr: 0.0010\n",
      "Epoch 16/100\n",
      "9/9 [==============================] - ETA: 0s - loss: 7.6056 - accuracy: 0.4867\n",
      "Epoch 16: val_loss did not improve from 9.02749\n",
      "9/9 [==============================] - 2s 215ms/step - loss: 7.6056 - accuracy: 0.4867 - val_loss: 9.3067 - val_accuracy: 0.1106 - lr: 0.0010\n",
      "Epoch 17/100\n",
      "9/9 [==============================] - ETA: 0s - loss: 7.5316 - accuracy: 0.5074\n",
      "Epoch 17: val_loss did not improve from 9.02749\n",
      "9/9 [==============================] - 2s 210ms/step - loss: 7.5316 - accuracy: 0.5074 - val_loss: 9.0472 - val_accuracy: 0.1521 - lr: 0.0010\n",
      "Epoch 18/100\n",
      "9/9 [==============================] - ETA: 0s - loss: 7.4206 - accuracy: 0.5091\n",
      "Epoch 18: val_loss improved from 9.02749 to 8.75096, saving model to ../../artifacts/checkpoints\\checkpoint_CaffeNet\n"
     ]
    },
    {
     "name": "stderr",
     "output_type": "stream",
     "text": [
      "WARNING:absl:Found untraced functions such as _jit_compiled_convolution_op, _jit_compiled_convolution_op, _jit_compiled_convolution_op while saving (showing 3 of 3). These functions will not be directly callable after loading.\n"
     ]
    },
    {
     "name": "stdout",
     "output_type": "stream",
     "text": [
      "INFO:tensorflow:Assets written to: ../../artifacts/checkpoints\\checkpoint_CaffeNet\\assets\n"
     ]
    },
    {
     "name": "stderr",
     "output_type": "stream",
     "text": [
      "INFO:tensorflow:Assets written to: ../../artifacts/checkpoints\\checkpoint_CaffeNet\\assets\n"
     ]
    },
    {
     "name": "stdout",
     "output_type": "stream",
     "text": [
      "9/9 [==============================] - 6s 770ms/step - loss: 7.4206 - accuracy: 0.5091 - val_loss: 8.7510 - val_accuracy: 0.1244 - lr: 0.0010\n",
      "Epoch 19/100\n",
      "9/9 [==============================] - ETA: 0s - loss: 7.0797 - accuracy: 0.5789\n",
      "Epoch 19: val_loss improved from 8.75096 to 8.70389, saving model to ../../artifacts/checkpoints\\checkpoint_CaffeNet\n"
     ]
    },
    {
     "name": "stderr",
     "output_type": "stream",
     "text": [
      "WARNING:absl:Found untraced functions such as _jit_compiled_convolution_op, _jit_compiled_convolution_op, _jit_compiled_convolution_op while saving (showing 3 of 3). These functions will not be directly callable after loading.\n"
     ]
    },
    {
     "name": "stdout",
     "output_type": "stream",
     "text": [
      "INFO:tensorflow:Assets written to: ../../artifacts/checkpoints\\checkpoint_CaffeNet\\assets\n"
     ]
    },
    {
     "name": "stderr",
     "output_type": "stream",
     "text": [
      "INFO:tensorflow:Assets written to: ../../artifacts/checkpoints\\checkpoint_CaffeNet\\assets\n"
     ]
    },
    {
     "name": "stdout",
     "output_type": "stream",
     "text": [
      "9/9 [==============================] - 7s 775ms/step - loss: 7.0797 - accuracy: 0.5789 - val_loss: 8.7039 - val_accuracy: 0.1290 - lr: 0.0010\n",
      "Epoch 20/100\n",
      "9/9 [==============================] - ETA: 0s - loss: 6.9238 - accuracy: 0.5845\n",
      "Epoch 20: val_loss did not improve from 8.70389\n",
      "9/9 [==============================] - 2s 215ms/step - loss: 6.9238 - accuracy: 0.5845 - val_loss: 8.9660 - val_accuracy: 0.1106 - lr: 0.0010\n",
      "Epoch 21/100\n",
      "8/9 [=========================>....] - ETA: 0s - loss: 6.8995 - accuracy: 0.5867\n",
      "Epoch 21: val_loss did not improve from 8.70389\n",
      "9/9 [==============================] - 2s 173ms/step - loss: 6.8944 - accuracy: 0.5874 - val_loss: 8.7064 - val_accuracy: 0.1843 - lr: 0.0010\n",
      "Epoch 22/100\n",
      "9/9 [==============================] - ETA: 0s - loss: 6.5862 - accuracy: 0.6473\n",
      "Epoch 22: val_loss improved from 8.70389 to 8.47497, saving model to ../../artifacts/checkpoints\\checkpoint_CaffeNet\n"
     ]
    },
    {
     "name": "stderr",
     "output_type": "stream",
     "text": [
      "WARNING:absl:Found untraced functions such as _jit_compiled_convolution_op, _jit_compiled_convolution_op, _jit_compiled_convolution_op while saving (showing 3 of 3). These functions will not be directly callable after loading.\n"
     ]
    },
    {
     "name": "stdout",
     "output_type": "stream",
     "text": [
      "INFO:tensorflow:Assets written to: ../../artifacts/checkpoints\\checkpoint_CaffeNet\\assets\n"
     ]
    },
    {
     "name": "stderr",
     "output_type": "stream",
     "text": [
      "INFO:tensorflow:Assets written to: ../../artifacts/checkpoints\\checkpoint_CaffeNet\\assets\n"
     ]
    },
    {
     "name": "stdout",
     "output_type": "stream",
     "text": [
      "9/9 [==============================] - 6s 719ms/step - loss: 6.5862 - accuracy: 0.6473 - val_loss: 8.4750 - val_accuracy: 0.1382 - lr: 0.0010\n",
      "Epoch 23/100\n",
      "9/9 [==============================] - ETA: 0s - loss: 6.5843 - accuracy: 0.6507\n",
      "Epoch 23: val_loss did not improve from 8.47497\n",
      "9/9 [==============================] - 2s 203ms/step - loss: 6.5843 - accuracy: 0.6507 - val_loss: 8.5179 - val_accuracy: 0.1429 - lr: 0.0010\n",
      "Epoch 24/100\n",
      "9/9 [==============================] - ETA: 0s - loss: 6.3826 - accuracy: 0.6804\n",
      "Epoch 24: val_loss improved from 8.47497 to 8.46708, saving model to ../../artifacts/checkpoints\\checkpoint_CaffeNet\n"
     ]
    },
    {
     "name": "stderr",
     "output_type": "stream",
     "text": [
      "WARNING:absl:Found untraced functions such as _jit_compiled_convolution_op, _jit_compiled_convolution_op, _jit_compiled_convolution_op while saving (showing 3 of 3). These functions will not be directly callable after loading.\n"
     ]
    },
    {
     "name": "stdout",
     "output_type": "stream",
     "text": [
      "INFO:tensorflow:Assets written to: ../../artifacts/checkpoints\\checkpoint_CaffeNet\\assets\n"
     ]
    },
    {
     "name": "stderr",
     "output_type": "stream",
     "text": [
      "INFO:tensorflow:Assets written to: ../../artifacts/checkpoints\\checkpoint_CaffeNet\\assets\n"
     ]
    },
    {
     "name": "stdout",
     "output_type": "stream",
     "text": [
      "9/9 [==============================] - 6s 750ms/step - loss: 6.3826 - accuracy: 0.6804 - val_loss: 8.4671 - val_accuracy: 0.1429 - lr: 0.0010\n",
      "Epoch 25/100\n",
      "9/9 [==============================] - ETA: 0s - loss: 6.1493 - accuracy: 0.7161\n",
      "Epoch 25: val_loss improved from 8.46708 to 8.39384, saving model to ../../artifacts/checkpoints\\checkpoint_CaffeNet\n"
     ]
    },
    {
     "name": "stderr",
     "output_type": "stream",
     "text": [
      "WARNING:absl:Found untraced functions such as _jit_compiled_convolution_op, _jit_compiled_convolution_op, _jit_compiled_convolution_op while saving (showing 3 of 3). These functions will not be directly callable after loading.\n"
     ]
    },
    {
     "name": "stdout",
     "output_type": "stream",
     "text": [
      "INFO:tensorflow:Assets written to: ../../artifacts/checkpoints\\checkpoint_CaffeNet\\assets\n"
     ]
    },
    {
     "name": "stderr",
     "output_type": "stream",
     "text": [
      "INFO:tensorflow:Assets written to: ../../artifacts/checkpoints\\checkpoint_CaffeNet\\assets\n"
     ]
    },
    {
     "name": "stdout",
     "output_type": "stream",
     "text": [
      "9/9 [==============================] - 6s 729ms/step - loss: 6.1493 - accuracy: 0.7161 - val_loss: 8.3938 - val_accuracy: 0.1613 - lr: 0.0010\n",
      "Epoch 26/100\n",
      "9/9 [==============================] - ETA: 0s - loss: 6.0600 - accuracy: 0.7105\n",
      "Epoch 26: val_loss improved from 8.39384 to 8.26230, saving model to ../../artifacts/checkpoints\\checkpoint_CaffeNet\n"
     ]
    },
    {
     "name": "stderr",
     "output_type": "stream",
     "text": [
      "WARNING:absl:Found untraced functions such as _jit_compiled_convolution_op, _jit_compiled_convolution_op, _jit_compiled_convolution_op while saving (showing 3 of 3). These functions will not be directly callable after loading.\n"
     ]
    },
    {
     "name": "stdout",
     "output_type": "stream",
     "text": [
      "INFO:tensorflow:Assets written to: ../../artifacts/checkpoints\\checkpoint_CaffeNet\\assets\n"
     ]
    },
    {
     "name": "stderr",
     "output_type": "stream",
     "text": [
      "INFO:tensorflow:Assets written to: ../../artifacts/checkpoints\\checkpoint_CaffeNet\\assets\n"
     ]
    },
    {
     "name": "stdout",
     "output_type": "stream",
     "text": [
      "9/9 [==============================] - 7s 813ms/step - loss: 6.0600 - accuracy: 0.7105 - val_loss: 8.2623 - val_accuracy: 0.1705 - lr: 0.0010\n",
      "Epoch 27/100\n",
      "9/9 [==============================] - ETA: 0s - loss: 5.9475 - accuracy: 0.7358\n",
      "Epoch 27: val_loss did not improve from 8.26230\n",
      "9/9 [==============================] - 2s 202ms/step - loss: 5.9475 - accuracy: 0.7358 - val_loss: 8.3561 - val_accuracy: 0.1705 - lr: 0.0010\n",
      "Epoch 28/100\n",
      "9/9 [==============================] - ETA: 0s - loss: 5.8159 - accuracy: 0.7677\n",
      "Epoch 28: val_loss did not improve from 8.26230\n",
      "9/9 [==============================] - 2s 200ms/step - loss: 5.8159 - accuracy: 0.7677 - val_loss: 8.3279 - val_accuracy: 0.1751 - lr: 0.0010\n",
      "Epoch 29/100\n",
      "9/9 [==============================] - ETA: 0s - loss: 5.6323 - accuracy: 0.7886\n",
      "Epoch 29: val_loss did not improve from 8.26230\n",
      "9/9 [==============================] - 2s 201ms/step - loss: 5.6323 - accuracy: 0.7886 - val_loss: 8.5072 - val_accuracy: 0.1244 - lr: 0.0010\n",
      "Epoch 30/100\n",
      "9/9 [==============================] - ETA: 0s - loss: 5.4846 - accuracy: 0.8120\n",
      "Epoch 30: val_loss improved from 8.26230 to 7.89982, saving model to ../../artifacts/checkpoints\\checkpoint_CaffeNet\n"
     ]
    },
    {
     "name": "stderr",
     "output_type": "stream",
     "text": [
      "WARNING:absl:Found untraced functions such as _jit_compiled_convolution_op, _jit_compiled_convolution_op, _jit_compiled_convolution_op while saving (showing 3 of 3). These functions will not be directly callable after loading.\n"
     ]
    },
    {
     "name": "stdout",
     "output_type": "stream",
     "text": [
      "INFO:tensorflow:Assets written to: ../../artifacts/checkpoints\\checkpoint_CaffeNet\\assets\n"
     ]
    },
    {
     "name": "stderr",
     "output_type": "stream",
     "text": [
      "INFO:tensorflow:Assets written to: ../../artifacts/checkpoints\\checkpoint_CaffeNet\\assets\n"
     ]
    },
    {
     "name": "stdout",
     "output_type": "stream",
     "text": [
      "9/9 [==============================] - 6s 713ms/step - loss: 5.4846 - accuracy: 0.8120 - val_loss: 7.8998 - val_accuracy: 0.1797 - lr: 5.0000e-04\n",
      "Epoch 31/100\n",
      "9/9 [==============================] - ETA: 0s - loss: 5.1040 - accuracy: 0.8886\n",
      "Epoch 31: val_loss improved from 7.89982 to 7.66622, saving model to ../../artifacts/checkpoints\\checkpoint_CaffeNet\n"
     ]
    },
    {
     "name": "stderr",
     "output_type": "stream",
     "text": [
      "WARNING:absl:Found untraced functions such as _jit_compiled_convolution_op, _jit_compiled_convolution_op, _jit_compiled_convolution_op while saving (showing 3 of 3). These functions will not be directly callable after loading.\n"
     ]
    },
    {
     "name": "stdout",
     "output_type": "stream",
     "text": [
      "INFO:tensorflow:Assets written to: ../../artifacts/checkpoints\\checkpoint_CaffeNet\\assets\n"
     ]
    },
    {
     "name": "stderr",
     "output_type": "stream",
     "text": [
      "INFO:tensorflow:Assets written to: ../../artifacts/checkpoints\\checkpoint_CaffeNet\\assets\n"
     ]
    },
    {
     "name": "stdout",
     "output_type": "stream",
     "text": [
      "9/9 [==============================] - 6s 764ms/step - loss: 5.1040 - accuracy: 0.8886 - val_loss: 7.6662 - val_accuracy: 0.1797 - lr: 5.0000e-04\n",
      "Epoch 32/100\n",
      "9/9 [==============================] - ETA: 0s - loss: 4.8374 - accuracy: 0.9336\n",
      "Epoch 32: val_loss improved from 7.66622 to 7.49956, saving model to ../../artifacts/checkpoints\\checkpoint_CaffeNet\n"
     ]
    },
    {
     "name": "stderr",
     "output_type": "stream",
     "text": [
      "WARNING:absl:Found untraced functions such as _jit_compiled_convolution_op, _jit_compiled_convolution_op, _jit_compiled_convolution_op while saving (showing 3 of 3). These functions will not be directly callable after loading.\n"
     ]
    },
    {
     "name": "stdout",
     "output_type": "stream",
     "text": [
      "INFO:tensorflow:Assets written to: ../../artifacts/checkpoints\\checkpoint_CaffeNet\\assets\n"
     ]
    },
    {
     "name": "stderr",
     "output_type": "stream",
     "text": [
      "INFO:tensorflow:Assets written to: ../../artifacts/checkpoints\\checkpoint_CaffeNet\\assets\n"
     ]
    },
    {
     "name": "stdout",
     "output_type": "stream",
     "text": [
      "9/9 [==============================] - 6s 732ms/step - loss: 4.8374 - accuracy: 0.9336 - val_loss: 7.4996 - val_accuracy: 0.1751 - lr: 5.0000e-04\n",
      "Epoch 33/100\n",
      "9/9 [==============================] - ETA: 0s - loss: 4.6551 - accuracy: 0.9465\n",
      "Epoch 33: val_loss improved from 7.49956 to 7.46905, saving model to ../../artifacts/checkpoints\\checkpoint_CaffeNet\n"
     ]
    },
    {
     "name": "stderr",
     "output_type": "stream",
     "text": [
      "WARNING:absl:Found untraced functions such as _jit_compiled_convolution_op, _jit_compiled_convolution_op, _jit_compiled_convolution_op while saving (showing 3 of 3). These functions will not be directly callable after loading.\n"
     ]
    },
    {
     "name": "stdout",
     "output_type": "stream",
     "text": [
      "INFO:tensorflow:Assets written to: ../../artifacts/checkpoints\\checkpoint_CaffeNet\\assets\n"
     ]
    },
    {
     "name": "stderr",
     "output_type": "stream",
     "text": [
      "INFO:tensorflow:Assets written to: ../../artifacts/checkpoints\\checkpoint_CaffeNet\\assets\n"
     ]
    },
    {
     "name": "stdout",
     "output_type": "stream",
     "text": [
      "9/9 [==============================] - 6s 740ms/step - loss: 4.6551 - accuracy: 0.9465 - val_loss: 7.4691 - val_accuracy: 0.1751 - lr: 5.0000e-04\n",
      "Epoch 34/100\n",
      "9/9 [==============================] - ETA: 0s - loss: 4.5177 - accuracy: 0.9572\n",
      "Epoch 34: val_loss improved from 7.46905 to 7.35992, saving model to ../../artifacts/checkpoints\\checkpoint_CaffeNet\n"
     ]
    },
    {
     "name": "stderr",
     "output_type": "stream",
     "text": [
      "WARNING:absl:Found untraced functions such as _jit_compiled_convolution_op, _jit_compiled_convolution_op, _jit_compiled_convolution_op while saving (showing 3 of 3). These functions will not be directly callable after loading.\n"
     ]
    },
    {
     "name": "stdout",
     "output_type": "stream",
     "text": [
      "INFO:tensorflow:Assets written to: ../../artifacts/checkpoints\\checkpoint_CaffeNet\\assets\n"
     ]
    },
    {
     "name": "stderr",
     "output_type": "stream",
     "text": [
      "INFO:tensorflow:Assets written to: ../../artifacts/checkpoints\\checkpoint_CaffeNet\\assets\n"
     ]
    },
    {
     "name": "stdout",
     "output_type": "stream",
     "text": [
      "9/9 [==============================] - 6s 719ms/step - loss: 4.5177 - accuracy: 0.9572 - val_loss: 7.3599 - val_accuracy: 0.1751 - lr: 5.0000e-04\n",
      "Epoch 35/100\n",
      "9/9 [==============================] - ETA: 0s - loss: 4.3983 - accuracy: 0.9657\n",
      "Epoch 35: val_loss did not improve from 7.35992\n",
      "9/9 [==============================] - 2s 201ms/step - loss: 4.3983 - accuracy: 0.9657 - val_loss: 7.3685 - val_accuracy: 0.1935 - lr: 5.0000e-04\n",
      "Epoch 36/100\n",
      "9/9 [==============================] - ETA: 0s - loss: 4.3229 - accuracy: 0.9625\n",
      "Epoch 36: val_loss improved from 7.35992 to 7.32445, saving model to ../../artifacts/checkpoints\\checkpoint_CaffeNet\n"
     ]
    },
    {
     "name": "stderr",
     "output_type": "stream",
     "text": [
      "WARNING:absl:Found untraced functions such as _jit_compiled_convolution_op, _jit_compiled_convolution_op, _jit_compiled_convolution_op while saving (showing 3 of 3). These functions will not be directly callable after loading.\n"
     ]
    },
    {
     "name": "stdout",
     "output_type": "stream",
     "text": [
      "INFO:tensorflow:Assets written to: ../../artifacts/checkpoints\\checkpoint_CaffeNet\\assets\n"
     ]
    },
    {
     "name": "stderr",
     "output_type": "stream",
     "text": [
      "INFO:tensorflow:Assets written to: ../../artifacts/checkpoints\\checkpoint_CaffeNet\\assets\n"
     ]
    },
    {
     "name": "stdout",
     "output_type": "stream",
     "text": [
      "9/9 [==============================] - 6s 758ms/step - loss: 4.3229 - accuracy: 0.9625 - val_loss: 7.3244 - val_accuracy: 0.1475 - lr: 5.0000e-04\n",
      "Epoch 37/100\n",
      "9/9 [==============================] - ETA: 0s - loss: 4.2436 - accuracy: 0.9715\n",
      "Epoch 37: val_loss improved from 7.32445 to 7.21515, saving model to ../../artifacts/checkpoints\\checkpoint_CaffeNet\n"
     ]
    },
    {
     "name": "stderr",
     "output_type": "stream",
     "text": [
      "WARNING:absl:Found untraced functions such as _jit_compiled_convolution_op, _jit_compiled_convolution_op, _jit_compiled_convolution_op while saving (showing 3 of 3). These functions will not be directly callable after loading.\n"
     ]
    },
    {
     "name": "stdout",
     "output_type": "stream",
     "text": [
      "INFO:tensorflow:Assets written to: ../../artifacts/checkpoints\\checkpoint_CaffeNet\\assets\n"
     ]
    },
    {
     "name": "stderr",
     "output_type": "stream",
     "text": [
      "INFO:tensorflow:Assets written to: ../../artifacts/checkpoints\\checkpoint_CaffeNet\\assets\n"
     ]
    },
    {
     "name": "stdout",
     "output_type": "stream",
     "text": [
      "9/9 [==============================] - 6s 722ms/step - loss: 4.2436 - accuracy: 0.9715 - val_loss: 7.2151 - val_accuracy: 0.1705 - lr: 5.0000e-04\n",
      "Epoch 38/100\n",
      "9/9 [==============================] - ETA: 0s - loss: 4.1705 - accuracy: 0.9796\n",
      "Epoch 38: val_loss did not improve from 7.21515\n",
      "9/9 [==============================] - 2s 209ms/step - loss: 4.1705 - accuracy: 0.9796 - val_loss: 7.2506 - val_accuracy: 0.1843 - lr: 5.0000e-04\n",
      "Epoch 39/100\n",
      "9/9 [==============================] - ETA: 0s - loss: 4.1271 - accuracy: 0.9766\n",
      "Epoch 39: val_loss did not improve from 7.21515\n",
      "9/9 [==============================] - 2s 201ms/step - loss: 4.1271 - accuracy: 0.9766 - val_loss: 7.2868 - val_accuracy: 0.1797 - lr: 5.0000e-04\n",
      "Epoch 40/100\n",
      "9/9 [==============================] - ETA: 0s - loss: 4.0885 - accuracy: 0.9669\n",
      "Epoch 40: val_loss improved from 7.21515 to 7.13095, saving model to ../../artifacts/checkpoints\\checkpoint_CaffeNet\n"
     ]
    },
    {
     "name": "stderr",
     "output_type": "stream",
     "text": [
      "WARNING:absl:Found untraced functions such as _jit_compiled_convolution_op, _jit_compiled_convolution_op, _jit_compiled_convolution_op while saving (showing 3 of 3). These functions will not be directly callable after loading.\n"
     ]
    },
    {
     "name": "stdout",
     "output_type": "stream",
     "text": [
      "INFO:tensorflow:Assets written to: ../../artifacts/checkpoints\\checkpoint_CaffeNet\\assets\n"
     ]
    },
    {
     "name": "stderr",
     "output_type": "stream",
     "text": [
      "INFO:tensorflow:Assets written to: ../../artifacts/checkpoints\\checkpoint_CaffeNet\\assets\n"
     ]
    },
    {
     "name": "stdout",
     "output_type": "stream",
     "text": [
      "9/9 [==============================] - 6s 736ms/step - loss: 4.0885 - accuracy: 0.9669 - val_loss: 7.1310 - val_accuracy: 0.1751 - lr: 5.0000e-04\n",
      "Epoch 41/100\n",
      "9/9 [==============================] - ETA: 0s - loss: 4.0642 - accuracy: 0.9628\n",
      "Epoch 41: val_loss did not improve from 7.13095\n",
      "9/9 [==============================] - 2s 200ms/step - loss: 4.0642 - accuracy: 0.9628 - val_loss: 7.3951 - val_accuracy: 0.1475 - lr: 5.0000e-04\n",
      "Epoch 42/100\n",
      "9/9 [==============================] - ETA: 0s - loss: 4.0300 - accuracy: 0.9652\n",
      "Epoch 42: val_loss did not improve from 7.13095\n",
      "9/9 [==============================] - 2s 201ms/step - loss: 4.0300 - accuracy: 0.9652 - val_loss: 7.1988 - val_accuracy: 0.1751 - lr: 5.0000e-04\n",
      "Epoch 43/100\n",
      "9/9 [==============================] - ETA: 0s - loss: 4.0128 - accuracy: 0.9623\n",
      "Epoch 43: val_loss did not improve from 7.13095\n",
      "9/9 [==============================] - 2s 201ms/step - loss: 4.0128 - accuracy: 0.9623 - val_loss: 7.4013 - val_accuracy: 0.1751 - lr: 5.0000e-04\n",
      "Epoch 44/100\n",
      "9/9 [==============================] - ETA: 0s - loss: 3.9495 - accuracy: 0.9764\n",
      "Epoch 44: val_loss did not improve from 7.13095\n",
      "9/9 [==============================] - 2s 201ms/step - loss: 3.9495 - accuracy: 0.9764 - val_loss: 7.2113 - val_accuracy: 0.1705 - lr: 2.5000e-04\n",
      "Epoch 45/100\n",
      "9/9 [==============================] - ETA: 0s - loss: 3.8640 - accuracy: 0.9925\n",
      "Epoch 45: val_loss did not improve from 7.13095\n",
      "9/9 [==============================] - 2s 202ms/step - loss: 3.8640 - accuracy: 0.9925 - val_loss: 7.1904 - val_accuracy: 0.1843 - lr: 2.5000e-04\n",
      "Epoch 46/100\n",
      "9/9 [==============================] - ETA: 0s - loss: 3.8065 - accuracy: 0.9959\n",
      "Epoch 46: val_loss did not improve from 7.13095\n",
      "9/9 [==============================] - 2s 201ms/step - loss: 3.8065 - accuracy: 0.9959 - val_loss: 7.1660 - val_accuracy: 0.1889 - lr: 2.5000e-04\n",
      "Epoch 47/100\n",
      "9/9 [==============================] - ETA: 0s - loss: 3.7504 - accuracy: 0.9990\n",
      "Epoch 47: val_loss improved from 7.13095 to 7.07803, saving model to ../../artifacts/checkpoints\\checkpoint_CaffeNet\n"
     ]
    },
    {
     "name": "stderr",
     "output_type": "stream",
     "text": [
      "WARNING:absl:Found untraced functions such as _jit_compiled_convolution_op, _jit_compiled_convolution_op, _jit_compiled_convolution_op while saving (showing 3 of 3). These functions will not be directly callable after loading.\n"
     ]
    },
    {
     "name": "stdout",
     "output_type": "stream",
     "text": [
      "INFO:tensorflow:Assets written to: ../../artifacts/checkpoints\\checkpoint_CaffeNet\\assets\n"
     ]
    },
    {
     "name": "stderr",
     "output_type": "stream",
     "text": [
      "INFO:tensorflow:Assets written to: ../../artifacts/checkpoints\\checkpoint_CaffeNet\\assets\n"
     ]
    },
    {
     "name": "stdout",
     "output_type": "stream",
     "text": [
      "9/9 [==============================] - 6s 776ms/step - loss: 3.7504 - accuracy: 0.9990 - val_loss: 7.0780 - val_accuracy: 0.1843 - lr: 1.2500e-04\n",
      "Epoch 48/100\n",
      "9/9 [==============================] - ETA: 0s - loss: 3.7196 - accuracy: 0.9995\n",
      "Epoch 48: val_loss improved from 7.07803 to 7.03156, saving model to ../../artifacts/checkpoints\\checkpoint_CaffeNet\n"
     ]
    },
    {
     "name": "stderr",
     "output_type": "stream",
     "text": [
      "WARNING:absl:Found untraced functions such as _jit_compiled_convolution_op, _jit_compiled_convolution_op, _jit_compiled_convolution_op while saving (showing 3 of 3). These functions will not be directly callable after loading.\n"
     ]
    },
    {
     "name": "stdout",
     "output_type": "stream",
     "text": [
      "INFO:tensorflow:Assets written to: ../../artifacts/checkpoints\\checkpoint_CaffeNet\\assets\n"
     ]
    },
    {
     "name": "stderr",
     "output_type": "stream",
     "text": [
      "INFO:tensorflow:Assets written to: ../../artifacts/checkpoints\\checkpoint_CaffeNet\\assets\n"
     ]
    },
    {
     "name": "stdout",
     "output_type": "stream",
     "text": [
      "9/9 [==============================] - 6s 653ms/step - loss: 3.7196 - accuracy: 0.9995 - val_loss: 7.0316 - val_accuracy: 0.1889 - lr: 1.2500e-04\n",
      "Epoch 49/100\n",
      "8/9 [=========================>....] - ETA: 0s - loss: 3.6972 - accuracy: 0.9995\n",
      "Epoch 49: val_loss did not improve from 7.03156\n",
      "9/9 [==============================] - 2s 155ms/step - loss: 3.6970 - accuracy: 0.9995 - val_loss: 7.0612 - val_accuracy: 0.1935 - lr: 1.2500e-04\n",
      "Epoch 50/100\n",
      "8/9 [=========================>....] - ETA: 0s - loss: 3.6762 - accuracy: 0.9995\n",
      "Epoch 50: val_loss improved from 7.03156 to 6.97137, saving model to ../../artifacts/checkpoints\\checkpoint_CaffeNet\n"
     ]
    },
    {
     "name": "stderr",
     "output_type": "stream",
     "text": [
      "WARNING:absl:Found untraced functions such as _jit_compiled_convolution_op, _jit_compiled_convolution_op, _jit_compiled_convolution_op while saving (showing 3 of 3). These functions will not be directly callable after loading.\n"
     ]
    },
    {
     "name": "stdout",
     "output_type": "stream",
     "text": [
      "INFO:tensorflow:Assets written to: ../../artifacts/checkpoints\\checkpoint_CaffeNet\\assets\n"
     ]
    },
    {
     "name": "stderr",
     "output_type": "stream",
     "text": [
      "INFO:tensorflow:Assets written to: ../../artifacts/checkpoints\\checkpoint_CaffeNet\\assets\n"
     ]
    },
    {
     "name": "stdout",
     "output_type": "stream",
     "text": [
      "9/9 [==============================] - 4s 526ms/step - loss: 3.6760 - accuracy: 0.9995 - val_loss: 6.9714 - val_accuracy: 0.1797 - lr: 1.2500e-04\n",
      "Epoch 51/100\n",
      "8/9 [=========================>....] - ETA: 0s - loss: 3.6570 - accuracy: 0.9998\n",
      "Epoch 51: val_loss did not improve from 6.97137\n",
      "9/9 [==============================] - 2s 155ms/step - loss: 3.6561 - accuracy: 0.9998 - val_loss: 6.9731 - val_accuracy: 0.1705 - lr: 1.2500e-04\n",
      "Epoch 52/100\n",
      "8/9 [=========================>....] - ETA: 0s - loss: 3.6382 - accuracy: 1.0000\n",
      "Epoch 52: val_loss improved from 6.97137 to 6.93591, saving model to ../../artifacts/checkpoints\\checkpoint_CaffeNet\n"
     ]
    },
    {
     "name": "stderr",
     "output_type": "stream",
     "text": [
      "WARNING:absl:Found untraced functions such as _jit_compiled_convolution_op, _jit_compiled_convolution_op, _jit_compiled_convolution_op while saving (showing 3 of 3). These functions will not be directly callable after loading.\n"
     ]
    },
    {
     "name": "stdout",
     "output_type": "stream",
     "text": [
      "INFO:tensorflow:Assets written to: ../../artifacts/checkpoints\\checkpoint_CaffeNet\\assets\n"
     ]
    },
    {
     "name": "stderr",
     "output_type": "stream",
     "text": [
      "INFO:tensorflow:Assets written to: ../../artifacts/checkpoints\\checkpoint_CaffeNet\\assets\n"
     ]
    },
    {
     "name": "stdout",
     "output_type": "stream",
     "text": [
      "9/9 [==============================] - 4s 540ms/step - loss: 3.6380 - accuracy: 1.0000 - val_loss: 6.9359 - val_accuracy: 0.1797 - lr: 1.2500e-04\n",
      "Epoch 53/100\n",
      "8/9 [=========================>....] - ETA: 0s - loss: 3.6199 - accuracy: 0.9998\n",
      "Epoch 53: val_loss did not improve from 6.93591\n",
      "9/9 [==============================] - 2s 155ms/step - loss: 3.6197 - accuracy: 0.9998 - val_loss: 6.9513 - val_accuracy: 0.1889 - lr: 1.2500e-04\n",
      "Epoch 54/100\n",
      "8/9 [=========================>....] - ETA: 0s - loss: 3.6040 - accuracy: 1.0000\n",
      "Epoch 54: val_loss improved from 6.93591 to 6.91800, saving model to ../../artifacts/checkpoints\\checkpoint_CaffeNet\n"
     ]
    },
    {
     "name": "stderr",
     "output_type": "stream",
     "text": [
      "WARNING:absl:Found untraced functions such as _jit_compiled_convolution_op, _jit_compiled_convolution_op, _jit_compiled_convolution_op while saving (showing 3 of 3). These functions will not be directly callable after loading.\n"
     ]
    },
    {
     "name": "stdout",
     "output_type": "stream",
     "text": [
      "INFO:tensorflow:Assets written to: ../../artifacts/checkpoints\\checkpoint_CaffeNet\\assets\n"
     ]
    },
    {
     "name": "stderr",
     "output_type": "stream",
     "text": [
      "INFO:tensorflow:Assets written to: ../../artifacts/checkpoints\\checkpoint_CaffeNet\\assets\n"
     ]
    },
    {
     "name": "stdout",
     "output_type": "stream",
     "text": [
      "9/9 [==============================] - 4s 519ms/step - loss: 3.6042 - accuracy: 1.0000 - val_loss: 6.9180 - val_accuracy: 0.1843 - lr: 1.2500e-04\n",
      "Epoch 55/100\n",
      "8/9 [=========================>....] - ETA: 0s - loss: 3.5895 - accuracy: 0.9998\n",
      "Epoch 55: val_loss improved from 6.91800 to 6.90617, saving model to ../../artifacts/checkpoints\\checkpoint_CaffeNet\n"
     ]
    },
    {
     "name": "stderr",
     "output_type": "stream",
     "text": [
      "WARNING:absl:Found untraced functions such as _jit_compiled_convolution_op, _jit_compiled_convolution_op, _jit_compiled_convolution_op while saving (showing 3 of 3). These functions will not be directly callable after loading.\n"
     ]
    },
    {
     "name": "stdout",
     "output_type": "stream",
     "text": [
      "INFO:tensorflow:Assets written to: ../../artifacts/checkpoints\\checkpoint_CaffeNet\\assets\n"
     ]
    },
    {
     "name": "stderr",
     "output_type": "stream",
     "text": [
      "INFO:tensorflow:Assets written to: ../../artifacts/checkpoints\\checkpoint_CaffeNet\\assets\n"
     ]
    },
    {
     "name": "stdout",
     "output_type": "stream",
     "text": [
      "9/9 [==============================] - 5s 546ms/step - loss: 3.5893 - accuracy: 0.9998 - val_loss: 6.9062 - val_accuracy: 0.1843 - lr: 1.2500e-04\n",
      "Epoch 56/100\n",
      "8/9 [=========================>....] - ETA: 0s - loss: 3.5739 - accuracy: 1.0000\n",
      "Epoch 56: val_loss improved from 6.90617 to 6.89372, saving model to ../../artifacts/checkpoints\\checkpoint_CaffeNet\n"
     ]
    },
    {
     "name": "stderr",
     "output_type": "stream",
     "text": [
      "WARNING:absl:Found untraced functions such as _jit_compiled_convolution_op, _jit_compiled_convolution_op, _jit_compiled_convolution_op while saving (showing 3 of 3). These functions will not be directly callable after loading.\n"
     ]
    },
    {
     "name": "stdout",
     "output_type": "stream",
     "text": [
      "INFO:tensorflow:Assets written to: ../../artifacts/checkpoints\\checkpoint_CaffeNet\\assets\n"
     ]
    },
    {
     "name": "stderr",
     "output_type": "stream",
     "text": [
      "INFO:tensorflow:Assets written to: ../../artifacts/checkpoints\\checkpoint_CaffeNet\\assets\n"
     ]
    },
    {
     "name": "stdout",
     "output_type": "stream",
     "text": [
      "9/9 [==============================] - 4s 525ms/step - loss: 3.5740 - accuracy: 1.0000 - val_loss: 6.8937 - val_accuracy: 0.1843 - lr: 1.2500e-04\n",
      "Epoch 57/100\n",
      "8/9 [=========================>....] - ETA: 0s - loss: 3.5608 - accuracy: 0.9998\n",
      "Epoch 57: val_loss improved from 6.89372 to 6.86321, saving model to ../../artifacts/checkpoints\\checkpoint_CaffeNet\n"
     ]
    },
    {
     "name": "stderr",
     "output_type": "stream",
     "text": [
      "WARNING:absl:Found untraced functions such as _jit_compiled_convolution_op, _jit_compiled_convolution_op, _jit_compiled_convolution_op while saving (showing 3 of 3). These functions will not be directly callable after loading.\n"
     ]
    },
    {
     "name": "stdout",
     "output_type": "stream",
     "text": [
      "INFO:tensorflow:Assets written to: ../../artifacts/checkpoints\\checkpoint_CaffeNet\\assets\n"
     ]
    },
    {
     "name": "stderr",
     "output_type": "stream",
     "text": [
      "INFO:tensorflow:Assets written to: ../../artifacts/checkpoints\\checkpoint_CaffeNet\\assets\n"
     ]
    },
    {
     "name": "stdout",
     "output_type": "stream",
     "text": [
      "9/9 [==============================] - 5s 535ms/step - loss: 3.5605 - accuracy: 0.9998 - val_loss: 6.8632 - val_accuracy: 0.1843 - lr: 1.2500e-04\n",
      "Epoch 58/100\n",
      "8/9 [=========================>....] - ETA: 0s - loss: 3.5489 - accuracy: 1.0000\n",
      "Epoch 58: val_loss did not improve from 6.86321\n",
      "9/9 [==============================] - 1s 155ms/step - loss: 3.5486 - accuracy: 1.0000 - val_loss: 6.8834 - val_accuracy: 0.1843 - lr: 1.2500e-04\n",
      "Epoch 59/100\n",
      "8/9 [=========================>....] - ETA: 0s - loss: 3.5348 - accuracy: 1.0000\n",
      "Epoch 59: val_loss did not improve from 6.86321\n",
      "9/9 [==============================] - 1s 156ms/step - loss: 3.5344 - accuracy: 1.0000 - val_loss: 6.8958 - val_accuracy: 0.1843 - lr: 1.2500e-04\n",
      "Epoch 60/100\n",
      "9/9 [==============================] - ETA: 0s - loss: 3.5205 - accuracy: 1.0000\n",
      "Epoch 60: val_loss improved from 6.86321 to 6.84347, saving model to ../../artifacts/checkpoints\\checkpoint_CaffeNet\n"
     ]
    },
    {
     "name": "stderr",
     "output_type": "stream",
     "text": [
      "WARNING:absl:Found untraced functions such as _jit_compiled_convolution_op, _jit_compiled_convolution_op, _jit_compiled_convolution_op while saving (showing 3 of 3). These functions will not be directly callable after loading.\n"
     ]
    },
    {
     "name": "stdout",
     "output_type": "stream",
     "text": [
      "INFO:tensorflow:Assets written to: ../../artifacts/checkpoints\\checkpoint_CaffeNet\\assets\n"
     ]
    },
    {
     "name": "stderr",
     "output_type": "stream",
     "text": [
      "INFO:tensorflow:Assets written to: ../../artifacts/checkpoints\\checkpoint_CaffeNet\\assets\n"
     ]
    },
    {
     "name": "stdout",
     "output_type": "stream",
     "text": [
      "9/9 [==============================] - 4s 533ms/step - loss: 3.5205 - accuracy: 1.0000 - val_loss: 6.8435 - val_accuracy: 0.2074 - lr: 1.2500e-04\n",
      "Epoch 61/100\n",
      "8/9 [=========================>....] - ETA: 0s - loss: 3.5063 - accuracy: 1.0000\n",
      "Epoch 61: val_loss did not improve from 6.84347\n",
      "9/9 [==============================] - 2s 157ms/step - loss: 3.5059 - accuracy: 1.0000 - val_loss: 6.8825 - val_accuracy: 0.1889 - lr: 1.2500e-04\n",
      "Epoch 62/100\n",
      "8/9 [=========================>....] - ETA: 0s - loss: 3.4923 - accuracy: 1.0000\n",
      "Epoch 62: val_loss improved from 6.84347 to 6.82546, saving model to ../../artifacts/checkpoints\\checkpoint_CaffeNet\n"
     ]
    },
    {
     "name": "stderr",
     "output_type": "stream",
     "text": [
      "WARNING:absl:Found untraced functions such as _jit_compiled_convolution_op, _jit_compiled_convolution_op, _jit_compiled_convolution_op while saving (showing 3 of 3). These functions will not be directly callable after loading.\n"
     ]
    },
    {
     "name": "stdout",
     "output_type": "stream",
     "text": [
      "INFO:tensorflow:Assets written to: ../../artifacts/checkpoints\\checkpoint_CaffeNet\\assets\n"
     ]
    },
    {
     "name": "stderr",
     "output_type": "stream",
     "text": [
      "INFO:tensorflow:Assets written to: ../../artifacts/checkpoints\\checkpoint_CaffeNet\\assets\n"
     ]
    },
    {
     "name": "stdout",
     "output_type": "stream",
     "text": [
      "9/9 [==============================] - 4s 519ms/step - loss: 3.4924 - accuracy: 1.0000 - val_loss: 6.8255 - val_accuracy: 0.1982 - lr: 1.2500e-04\n",
      "Epoch 63/100\n",
      "8/9 [=========================>....] - ETA: 0s - loss: 3.4796 - accuracy: 1.0000\n",
      "Epoch 63: val_loss improved from 6.82546 to 6.82373, saving model to ../../artifacts/checkpoints\\checkpoint_CaffeNet\n"
     ]
    },
    {
     "name": "stderr",
     "output_type": "stream",
     "text": [
      "WARNING:absl:Found untraced functions such as _jit_compiled_convolution_op, _jit_compiled_convolution_op, _jit_compiled_convolution_op while saving (showing 3 of 3). These functions will not be directly callable after loading.\n"
     ]
    },
    {
     "name": "stdout",
     "output_type": "stream",
     "text": [
      "INFO:tensorflow:Assets written to: ../../artifacts/checkpoints\\checkpoint_CaffeNet\\assets\n"
     ]
    },
    {
     "name": "stderr",
     "output_type": "stream",
     "text": [
      "INFO:tensorflow:Assets written to: ../../artifacts/checkpoints\\checkpoint_CaffeNet\\assets\n"
     ]
    },
    {
     "name": "stdout",
     "output_type": "stream",
     "text": [
      "9/9 [==============================] - 5s 637ms/step - loss: 3.4795 - accuracy: 1.0000 - val_loss: 6.8237 - val_accuracy: 0.1982 - lr: 1.2500e-04\n",
      "Epoch 64/100\n",
      "8/9 [=========================>....] - ETA: 0s - loss: 3.4664 - accuracy: 1.0000\n",
      "Epoch 64: val_loss did not improve from 6.82373\n",
      "9/9 [==============================] - 2s 166ms/step - loss: 3.4660 - accuracy: 1.0000 - val_loss: 6.8329 - val_accuracy: 0.2028 - lr: 1.2500e-04\n",
      "Epoch 65/100\n",
      "8/9 [=========================>....] - ETA: 0s - loss: 3.4534 - accuracy: 1.0000\n",
      "Epoch 65: val_loss improved from 6.82373 to 6.82122, saving model to ../../artifacts/checkpoints\\checkpoint_CaffeNet\n"
     ]
    },
    {
     "name": "stderr",
     "output_type": "stream",
     "text": [
      "WARNING:absl:Found untraced functions such as _jit_compiled_convolution_op, _jit_compiled_convolution_op, _jit_compiled_convolution_op while saving (showing 3 of 3). These functions will not be directly callable after loading.\n"
     ]
    },
    {
     "name": "stdout",
     "output_type": "stream",
     "text": [
      "INFO:tensorflow:Assets written to: ../../artifacts/checkpoints\\checkpoint_CaffeNet\\assets\n"
     ]
    },
    {
     "name": "stderr",
     "output_type": "stream",
     "text": [
      "INFO:tensorflow:Assets written to: ../../artifacts/checkpoints\\checkpoint_CaffeNet\\assets\n"
     ]
    },
    {
     "name": "stdout",
     "output_type": "stream",
     "text": [
      "9/9 [==============================] - 5s 664ms/step - loss: 3.4535 - accuracy: 1.0000 - val_loss: 6.8212 - val_accuracy: 0.2028 - lr: 1.2500e-04\n",
      "Epoch 66/100\n",
      "8/9 [=========================>....] - ETA: 0s - loss: 3.4447 - accuracy: 1.0000\n",
      "Epoch 66: val_loss did not improve from 6.82122\n",
      "9/9 [==============================] - 1s 163ms/step - loss: 3.4444 - accuracy: 1.0000 - val_loss: 6.8485 - val_accuracy: 0.2074 - lr: 1.2500e-04\n",
      "Epoch 67/100\n",
      "8/9 [=========================>....] - ETA: 0s - loss: 3.4301 - accuracy: 0.9998\n",
      "Epoch 67: val_loss did not improve from 6.82122\n",
      "9/9 [==============================] - 1s 156ms/step - loss: 3.4298 - accuracy: 0.9998 - val_loss: 6.8576 - val_accuracy: 0.1982 - lr: 1.2500e-04\n",
      "Epoch 68/100\n",
      "8/9 [=========================>....] - ETA: 0s - loss: 3.4171 - accuracy: 1.0000\n",
      "Epoch 68: val_loss did not improve from 6.82122\n",
      "9/9 [==============================] - 1s 156ms/step - loss: 3.4168 - accuracy: 1.0000 - val_loss: 6.8263 - val_accuracy: 0.1982 - lr: 1.2500e-04\n",
      "Epoch 69/100\n",
      "8/9 [=========================>....] - ETA: 0s - loss: 3.4042 - accuracy: 1.0000\n",
      "Epoch 69: val_loss did not improve from 6.82122\n",
      "9/9 [==============================] - 1s 155ms/step - loss: 3.4041 - accuracy: 1.0000 - val_loss: 6.8346 - val_accuracy: 0.1982 - lr: 6.2500e-05\n",
      "Epoch 70/100\n",
      "8/9 [=========================>....] - ETA: 0s - loss: 3.3960 - accuracy: 1.0000\n",
      "Epoch 70: val_loss did not improve from 6.82122\n",
      "9/9 [==============================] - 1s 156ms/step - loss: 3.3962 - accuracy: 1.0000 - val_loss: 6.8388 - val_accuracy: 0.1982 - lr: 6.2500e-05\n",
      "Epoch 71/100\n",
      "8/9 [=========================>....] - ETA: 0s - loss: 3.3887 - accuracy: 1.0000\n",
      "Epoch 71: val_loss did not improve from 6.82122\n",
      "9/9 [==============================] - 1s 156ms/step - loss: 3.3888 - accuracy: 1.0000 - val_loss: 6.8487 - val_accuracy: 0.1935 - lr: 6.2500e-05\n",
      "Epoch 72/100\n",
      "8/9 [=========================>....] - ETA: 0s - loss: 3.3828 - accuracy: 1.0000\n",
      "Epoch 72: val_loss did not improve from 6.82122\n",
      "9/9 [==============================] - 1s 157ms/step - loss: 3.3826 - accuracy: 1.0000 - val_loss: 6.8541 - val_accuracy: 0.1982 - lr: 3.1250e-05\n",
      "Epoch 73/100\n",
      "8/9 [=========================>....] - ETA: 0s - loss: 3.3787 - accuracy: 1.0000\n",
      "Epoch 73: val_loss did not improve from 6.82122\n",
      "9/9 [==============================] - 1s 152ms/step - loss: 3.3786 - accuracy: 1.0000 - val_loss: 6.8599 - val_accuracy: 0.2028 - lr: 3.1250e-05\n",
      "Epoch 74/100\n",
      "8/9 [=========================>....] - ETA: 0s - loss: 3.3755 - accuracy: 1.0000\n",
      "Epoch 74: val_loss did not improve from 6.82122\n",
      "9/9 [==============================] - 1s 152ms/step - loss: 3.3749 - accuracy: 1.0000 - val_loss: 6.8848 - val_accuracy: 0.2028 - lr: 3.1250e-05\n",
      "Epoch 75/100\n",
      "8/9 [=========================>....] - ETA: 0s - loss: 3.3717 - accuracy: 1.0000\n",
      "Epoch 75: val_loss did not improve from 6.82122\n",
      "9/9 [==============================] - 1s 152ms/step - loss: 3.3716 - accuracy: 1.0000 - val_loss: 6.8919 - val_accuracy: 0.2028 - lr: 1.5625e-05\n",
      "Epoch 76/100\n",
      "8/9 [=========================>....] - ETA: 0s - loss: 3.3700 - accuracy: 1.0000\n",
      "Epoch 76: val_loss did not improve from 6.82122\n",
      "9/9 [==============================] - 1s 152ms/step - loss: 3.3696 - accuracy: 1.0000 - val_loss: 6.8979 - val_accuracy: 0.2028 - lr: 1.5625e-05\n",
      "Epoch 77/100\n",
      "8/9 [=========================>....] - ETA: 0s - loss: 3.3685 - accuracy: 1.0000\n",
      "Epoch 77: val_loss did not improve from 6.82122\n",
      "9/9 [==============================] - 1s 152ms/step - loss: 3.3688 - accuracy: 1.0000 - val_loss: 6.9200 - val_accuracy: 0.2028 - lr: 1.5625e-05\n",
      "Epoch 78/100\n",
      "8/9 [=========================>....] - ETA: 0s - loss: 3.3666 - accuracy: 1.0000\n",
      "Epoch 78: val_loss did not improve from 6.82122\n",
      "9/9 [==============================] - 1s 152ms/step - loss: 3.3664 - accuracy: 1.0000 - val_loss: 6.9337 - val_accuracy: 0.2028 - lr: 7.8125e-06\n",
      "Epoch 79/100\n",
      "8/9 [=========================>....] - ETA: 0s - loss: 3.3652 - accuracy: 1.0000\n",
      "Epoch 79: val_loss did not improve from 6.82122\n",
      "9/9 [==============================] - 1s 153ms/step - loss: 3.3651 - accuracy: 1.0000 - val_loss: 6.9416 - val_accuracy: 0.2028 - lr: 7.8125e-06\n",
      "Epoch 80/100\n",
      "8/9 [=========================>....] - ETA: 0s - loss: 3.3647 - accuracy: 1.0000\n",
      "Epoch 80: val_loss did not improve from 6.82122\n",
      "9/9 [==============================] - 1s 152ms/step - loss: 3.3644 - accuracy: 1.0000 - val_loss: 6.9556 - val_accuracy: 0.2074 - lr: 7.8125e-06\n",
      "Epoch 81/100\n",
      "8/9 [=========================>....] - ETA: 0s - loss: 3.3637 - accuracy: 1.0000\n",
      "Epoch 81: val_loss did not improve from 6.82122\n",
      "9/9 [==============================] - 1s 154ms/step - loss: 3.3639 - accuracy: 1.0000 - val_loss: 6.9708 - val_accuracy: 0.1935 - lr: 3.9063e-06\n",
      "Epoch 82/100\n",
      "8/9 [=========================>....] - ETA: 0s - loss: 3.3635 - accuracy: 1.0000\n",
      "Epoch 82: val_loss did not improve from 6.82122\n",
      "9/9 [==============================] - 1s 151ms/step - loss: 3.3632 - accuracy: 1.0000 - val_loss: 6.9845 - val_accuracy: 0.1935 - lr: 3.9063e-06\n",
      "Epoch 83/100\n",
      "8/9 [=========================>....] - ETA: 0s - loss: 3.3634 - accuracy: 1.0000\n",
      "Epoch 83: val_loss did not improve from 6.82122\n",
      "9/9 [==============================] - 1s 153ms/step - loss: 3.3634 - accuracy: 1.0000 - val_loss: 6.9978 - val_accuracy: 0.2028 - lr: 3.9063e-06\n",
      "Epoch 84/100\n",
      "8/9 [=========================>....] - ETA: 0s - loss: 3.3619 - accuracy: 1.0000\n",
      "Epoch 84: val_loss did not improve from 6.82122\n",
      "9/9 [==============================] - 1s 154ms/step - loss: 3.3624 - accuracy: 1.0000 - val_loss: 7.0093 - val_accuracy: 0.1935 - lr: 1.9531e-06\n",
      "Epoch 85/100\n",
      "8/9 [=========================>....] - ETA: 0s - loss: 3.3621 - accuracy: 1.0000\n",
      "Epoch 85: val_loss did not improve from 6.82122\n",
      "9/9 [==============================] - 1s 153ms/step - loss: 3.3619 - accuracy: 1.0000 - val_loss: 7.0209 - val_accuracy: 0.1935 - lr: 1.9531e-06\n",
      "Epoch 86/100\n",
      "8/9 [=========================>....] - ETA: 0s - loss: 3.3619 - accuracy: 1.0000\n",
      "Epoch 86: val_loss did not improve from 6.82122\n",
      "9/9 [==============================] - 1s 152ms/step - loss: 3.3617 - accuracy: 1.0000 - val_loss: 7.0328 - val_accuracy: 0.1982 - lr: 1.9531e-06\n",
      "Epoch 87/100\n",
      "8/9 [=========================>....] - ETA: 0s - loss: 3.3623 - accuracy: 1.0000\n",
      "Epoch 87: val_loss did not improve from 6.82122\n",
      "9/9 [==============================] - 1s 152ms/step - loss: 3.3620 - accuracy: 1.0000 - val_loss: 7.0450 - val_accuracy: 0.1982 - lr: 1.0000e-06\n",
      "Epoch 88/100\n",
      "8/9 [=========================>....] - ETA: 0s - loss: 3.3620 - accuracy: 1.0000\n",
      "Epoch 88: val_loss did not improve from 6.82122\n",
      "9/9 [==============================] - 1s 153ms/step - loss: 3.3621 - accuracy: 1.0000 - val_loss: 7.0547 - val_accuracy: 0.1982 - lr: 1.0000e-06\n",
      "Epoch 89/100\n",
      "8/9 [=========================>....] - ETA: 0s - loss: 3.3618 - accuracy: 1.0000\n",
      "Epoch 89: val_loss did not improve from 6.82122\n",
      "9/9 [==============================] - 1s 157ms/step - loss: 3.3616 - accuracy: 1.0000 - val_loss: 7.0656 - val_accuracy: 0.1982 - lr: 1.0000e-06\n",
      "Epoch 90/100\n",
      "8/9 [=========================>....] - ETA: 0s - loss: 3.3621 - accuracy: 1.0000\n",
      "Epoch 90: val_loss did not improve from 6.82122\n",
      "9/9 [==============================] - 1s 152ms/step - loss: 3.3618 - accuracy: 1.0000 - val_loss: 7.0759 - val_accuracy: 0.1982 - lr: 1.0000e-06\n",
      "Epoch 91/100\n",
      "8/9 [=========================>....] - ETA: 0s - loss: 3.3613 - accuracy: 1.0000\n",
      "Epoch 91: val_loss did not improve from 6.82122\n",
      "9/9 [==============================] - 1s 155ms/step - loss: 3.3612 - accuracy: 1.0000 - val_loss: 7.0838 - val_accuracy: 0.2028 - lr: 1.0000e-06\n",
      "Epoch 92/100\n",
      "8/9 [=========================>....] - ETA: 0s - loss: 3.3613 - accuracy: 1.0000\n",
      "Epoch 92: val_loss did not improve from 6.82122\n",
      "9/9 [==============================] - 1s 154ms/step - loss: 3.3611 - accuracy: 1.0000 - val_loss: 7.0938 - val_accuracy: 0.2028 - lr: 1.0000e-06\n",
      "Epoch 93/100\n",
      "8/9 [=========================>....] - ETA: 0s - loss: 3.3602 - accuracy: 1.0000\n",
      "Epoch 93: val_loss did not improve from 6.82122\n",
      "9/9 [==============================] - 1s 153ms/step - loss: 3.3611 - accuracy: 1.0000 - val_loss: 7.1009 - val_accuracy: 0.1982 - lr: 1.0000e-06\n",
      "Epoch 94/100\n",
      "8/9 [=========================>....] - ETA: 0s - loss: 3.3614 - accuracy: 1.0000\n",
      "Epoch 94: val_loss did not improve from 6.82122\n",
      "9/9 [==============================] - 1s 155ms/step - loss: 3.3609 - accuracy: 1.0000 - val_loss: 7.1094 - val_accuracy: 0.2028 - lr: 1.0000e-06\n",
      "Epoch 95/100\n",
      "8/9 [=========================>....] - ETA: 0s - loss: 3.3605 - accuracy: 1.0000\n",
      "Epoch 95: val_loss did not improve from 6.82122\n",
      "9/9 [==============================] - 1s 154ms/step - loss: 3.3604 - accuracy: 1.0000 - val_loss: 7.1159 - val_accuracy: 0.2028 - lr: 1.0000e-06\n",
      "Saving model to \"artifacts/models/CaffeNet.h5\"...\n",
      "Model saved successfully!\n",
      "Saving history to \"artifacts/model_histories/history_CaffeNet\"...\n",
      "History saved successfully!\n"
     ]
    }
   ],
   "source": [
    "caffe_net_wrapper.train_and_save_model_and_history()"
   ]
  },
  {
   "cell_type": "code",
   "execution_count": 10,
   "metadata": {},
   "outputs": [
    {
     "name": "stdout",
     "output_type": "stream",
     "text": [
      "Loading model from \"../../artifacts/models/CaffeNet.h5\"...\n",
      "Model loaded successfully!\n",
      "Loading history from \"../../artifacts/model_histories/history_CaffeNet\"...\n",
      "History loaded successfully!\n"
     ]
    }
   ],
   "source": [
    "caffe_net_wrapper.load_model_and_history()"
   ]
  },
  {
   "cell_type": "code",
   "execution_count": 11,
   "metadata": {},
   "outputs": [
    {
     "data": {
      "image/png": "[encoded data removed]",
      "text/plain": [
       "<Figure size 640x480 with 1 Axes>"
      ]
     },
     "metadata": {},
     "output_type": "display_data"
    }
   ],
   "source": [
    "caffe_net_wrapper.plot_accuracy()"
   ]
  },
  {
   "cell_type": "code",
   "execution_count": 12,
   "metadata": {},
   "outputs": [
    {
     "data": {
      "image/png": "[encoded data removed]",
      "text/plain": [
       "<Figure size 640x480 with 1 Axes>"
      ]
     },
     "metadata": {},
     "output_type": "display_data"
    }
   ],
   "source": [
    "caffe_net_wrapper.plot_loss()"
   ]
  },
  {
   "cell_type": "code",
   "execution_count": 13,
   "metadata": {},
   "outputs": [
    {
     "name": "stdout",
     "output_type": "stream",
     "text": [
      "20/20 [==============================] - 1s 14ms/step - loss: 7.1124 - accuracy: 0.2246\n",
      "Loss: 7.1124\n",
      "Accuracy: 0.2246\n",
      "20/20 [==============================] - 0s 5ms/step\n",
      "Classification Report:\n",
      "              precision    recall  f1-score   support\n",
      "\n",
      "           0       0.13      0.09      0.11        23\n",
      "           1       0.21      0.16      0.18        25\n",
      "           2       0.42      0.42      0.42        52\n",
      "           3       0.21      0.18      0.19        38\n",
      "           4       0.25      0.11      0.15        27\n",
      "           5       0.14      0.17      0.15        35\n",
      "           6       0.18      0.18      0.18        45\n",
      "           7       0.00      0.00      0.00        10\n",
      "           8       0.14      0.17      0.15        12\n",
      "           9       0.50      0.27      0.35        11\n",
      "          10       0.10      0.09      0.09        23\n",
      "          11       0.31      0.35      0.33        26\n",
      "          12       0.26      0.25      0.25        32\n",
      "          13       0.12      0.13      0.12        15\n",
      "          14       0.08      0.12      0.10        17\n",
      "          15       0.56      0.31      0.40        16\n",
      "          16       0.13      0.23      0.17        13\n",
      "          17       0.19      0.19      0.19        21\n",
      "          18       0.09      0.11      0.10        18\n",
      "          19       0.08      0.10      0.09        21\n",
      "          20       0.33      0.42      0.37        12\n",
      "          21       0.40      0.38      0.39        53\n",
      "          22       0.13      0.21      0.16        19\n",
      "          23       0.23      0.29      0.26        17\n",
      "          24       0.30      0.24      0.26        38\n",
      "\n",
      "    accuracy                           0.22       619\n",
      "   macro avg       0.22      0.21      0.21       619\n",
      "weighted avg       0.24      0.22      0.23       619\n",
      "\n"
     ]
    },
    {
     "data": {
      "image/png": "[encoded data removed]",
      "text/plain": [
       "<Figure size 1500x1000 with 2 Axes>"
      ]
     },
     "metadata": {},
     "output_type": "display_data"
    }
   ],
   "source": [
    "caffe_net_wrapper.display_evaluation_results()"
   ]
  },
  {
   "cell_type": "code",
   "execution_count": null,
   "metadata": {},
   "outputs": [],
   "source": []
  }
 ],
 "metadata": {
  "kernelspec": {
   "display_name": "ML-projekat",
   "language": "python",
   "name": "python3"
  },
  "language_info": {
   "codemirror_mode": {
    "name": "ipython",
    "version": 3
   },
   "file_extension": ".py",
   "mimetype": "text/x-python",
   "name": "python",
   "nbconvert_exporter": "python",
   "pygments_lexer": "ipython3",
   "version": "3.9.17"
  },
  "orig_nbformat": 4
 },
 "nbformat": 4,
 "nbformat_minor": 2
}
