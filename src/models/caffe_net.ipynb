{
 "cells": [
  {
   "cell_type": "code",
   "execution_count": 1,
   "metadata": {},
   "outputs": [],
   "source": [
    "import sys\n",
    "\n",
    "sys.path.append(\"..\")"
   ]
  },
  {
   "cell_type": "code",
   "execution_count": 2,
   "metadata": {},
   "outputs": [],
   "source": [
    "from tensorflow import keras"
   ]
  },
  {
   "cell_type": "code",
   "execution_count": 3,
   "metadata": {},
   "outputs": [],
   "source": [
    "from utils.preprocessing_utils import PreprocessingUtils"
   ]
  },
  {
   "cell_type": "code",
   "execution_count": 4,
   "metadata": {},
   "outputs": [],
   "source": [
    "from utils.model_wrapper import ModelWrapper"
   ]
  },
  {
   "cell_type": "code",
   "execution_count": 5,
   "metadata": {},
   "outputs": [
    {
     "name": "stdout",
     "output_type": "stream",
     "text": [
      "Files already exist, skipping...\n",
      "Loading images and labels...\n",
      "Images and labels loaded successfully!\n",
      "Preprocessing labels...\n",
      "Labels preprocessed successfully!\n",
      "Splitting data into train, test and validation sets...\n",
      "Data split successfully!\n"
     ]
    }
   ],
   "source": [
    "preprocessing_utils = PreprocessingUtils()"
   ]
  },
  {
   "cell_type": "code",
   "execution_count": 6,
   "metadata": {},
   "outputs": [],
   "source": [
    "def build_caffe_net(model_name: str):\n",
    "    model = keras.models.Sequential(\n",
    "        name=model_name,\n",
    "        layers=[\n",
    "            keras.layers.Conv2D(\n",
    "                filters=3, kernel_size=(11, 11), activation=\"relu\", input_shape=preprocessing_utils.images.shape[1:]\n",
    "            ),\n",
    "            keras.layers.MaxPooling2D(pool_size=(2, 2)),\n",
    "            keras.layers.BatchNormalization(),\n",
    "            keras.layers.Conv2D(\n",
    "                filters=16, kernel_size=(5, 5), activation=\"relu\", kernel_regularizer=keras.regularizers.l2(0.01)\n",
    "            ),\n",
    "            keras.layers.MaxPooling2D(pool_size=(2, 2)),\n",
    "            keras.layers.BatchNormalization(),\n",
    "            keras.layers.Conv2D(\n",
    "                filters=96, kernel_size=(3, 3), activation=\"relu\", kernel_regularizer=keras.regularizers.l2(0.01)\n",
    "            ),\n",
    "            keras.layers.MaxPooling2D(pool_size=(2, 2)),\n",
    "            keras.layers.Flatten(),\n",
    "            keras.layers.Dense(units=2048, activation=\"relu\", kernel_regularizer=keras.regularizers.l2(0.01)),\n",
    "            keras.layers.Dense(units=2048, activation=\"relu\", kernel_regularizer=keras.regularizers.l2(0.01)),\n",
    "            keras.layers.Dense(units=preprocessing_utils.num_classes, activation=\"softmax\"),\n",
    "        ],\n",
    "    )\n",
    "\n",
    "    model.compile(optimizer=\"adam\", loss=\"categorical_crossentropy\", metrics=[\"accuracy\"])\n",
    "\n",
    "    model.summary()\n",
    "\n",
    "    return model"
   ]
  },
  {
   "cell_type": "code",
   "execution_count": 7,
   "metadata": {},
   "outputs": [],
   "source": [
    "caffe_net_wrapper = ModelWrapper(\"CaffeNet\", preprocessing_utils=preprocessing_utils)"
   ]
  },
  {
   "cell_type": "code",
   "execution_count": 8,
   "metadata": {},
   "outputs": [
    {
     "name": "stdout",
     "output_type": "stream",
     "text": [
      "Building model...\n",
      "Model: \"CaffeNet\"\n",
      "_________________________________________________________________\n",
      " Layer (type)                Output Shape              Param #   \n",
      "=================================================================\n",
      " conv2d (Conv2D)             (None, 246, 246, 3)       1092      \n",
      "                                                                 \n",
      " max_pooling2d (MaxPooling2D  (None, 123, 123, 3)      0         \n",
      " )                                                               \n",
      "                                                                 \n",
      " batch_normalization (BatchN  (None, 123, 123, 3)      12        \n",
      " ormalization)                                                   \n",
      "                                                                 \n",
      " conv2d_1 (Conv2D)           (None, 119, 119, 16)      1216      \n",
      "                                                                 \n",
      " max_pooling2d_1 (MaxPooling  (None, 59, 59, 16)       0         \n",
      " 2D)                                                             \n",
      "                                                                 \n",
      " batch_normalization_1 (Batc  (None, 59, 59, 16)       64        \n",
      " hNormalization)                                                 \n",
      "                                                                 \n",
      " conv2d_2 (Conv2D)           (None, 57, 57, 96)        13920     \n",
      "                                                                 \n",
      " max_pooling2d_2 (MaxPooling  (None, 28, 28, 96)       0         \n",
      " 2D)                                                             \n",
      "                                                                 \n",
      " flatten (Flatten)           (None, 75264)             0         \n",
      "                                                                 \n",
      " dense (Dense)               (None, 2048)              154142720 \n",
      "                                                                 \n",
      " dense_1 (Dense)             (None, 2048)              4196352   \n",
      "                                                                 \n",
      " dense_2 (Dense)             (None, 25)                51225     \n",
      "                                                                 \n",
      "=================================================================\n",
      "Total params: 158,406,601\n",
      "Trainable params: 158,406,563\n",
      "Non-trainable params: 38\n",
      "_________________________________________________________________\n",
      "Model built successfully!\n"
     ]
    }
   ],
   "source": [
    "caffe_net_wrapper.build_model(build_fn=build_caffe_net, model_name=caffe_net_wrapper.model_name)"
   ]
  },
  {
   "cell_type": "code",
   "execution_count": 9,
   "metadata": {},
   "outputs": [
    {
     "name": "stdout",
     "output_type": "stream",
     "text": [
      "Epoch 1/100\n",
      "9/9 [==============================] - ETA: 0s - loss: 123.5473 - accuracy: 0.0625\n",
      "Epoch 1: val_loss improved from inf to 48.47038, saving model to ../../artifacts/checkpoints\\checkpoint_CaffeNet\n"
     ]
    },
    {
     "name": "stderr",
     "output_type": "stream",
     "text": [
      "WARNING:absl:Found untraced functions such as _jit_compiled_convolution_op, _jit_compiled_convolution_op, _jit_compiled_convolution_op while saving (showing 3 of 3). These functions will not be directly callable after loading.\n"
     ]
    },
    {
     "name": "stdout",
     "output_type": "stream",
     "text": [
      "INFO:tensorflow:Assets written to: ../../artifacts/checkpoints\\checkpoint_CaffeNet\\assets\n"
     ]
    },
    {
     "name": "stderr",
     "output_type": "stream",
     "text": [
      "INFO:tensorflow:Assets written to: ../../artifacts/checkpoints\\checkpoint_CaffeNet\\assets\n"
     ]
    },
    {
     "name": "stdout",
     "output_type": "stream",
     "text": [
      "9/9 [==============================] - 14s 856ms/step - loss: 123.5473 - accuracy: 0.0625 - val_loss: 48.4704 - val_accuracy: 0.0276\n",
      "Epoch 2/100\n",
      "8/9 [=========================>....] - ETA: 0s - loss: 49.0251 - accuracy: 0.0397\n",
      "Epoch 2: val_loss improved from 48.47038 to 37.97339, saving model to ../../artifacts/checkpoints\\checkpoint_CaffeNet\n"
     ]
    },
    {
     "name": "stderr",
     "output_type": "stream",
     "text": [
      "WARNING:absl:Found untraced functions such as _jit_compiled_convolution_op, _jit_compiled_convolution_op, _jit_compiled_convolution_op while saving (showing 3 of 3). These functions will not be directly callable after loading.\n"
     ]
    },
    {
     "name": "stdout",
     "output_type": "stream",
     "text": [
      "INFO:tensorflow:Assets written to: ../../artifacts/checkpoints\\checkpoint_CaffeNet\\assets\n"
     ]
    },
    {
     "name": "stderr",
     "output_type": "stream",
     "text": [
      "INFO:tensorflow:Assets written to: ../../artifacts/checkpoints\\checkpoint_CaffeNet\\assets\n"
     ]
    },
    {
     "name": "stdout",
     "output_type": "stream",
     "text": [
      "9/9 [==============================] - 5s 553ms/step - loss: 48.7517 - accuracy: 0.0396 - val_loss: 37.9734 - val_accuracy: 0.0369\n",
      "Epoch 3/100\n",
      "8/9 [=========================>....] - ETA: 0s - loss: 35.3551 - accuracy: 0.0777\n",
      "Epoch 3: val_loss improved from 37.97339 to 31.78762, saving model to ../../artifacts/checkpoints\\checkpoint_CaffeNet\n"
     ]
    },
    {
     "name": "stderr",
     "output_type": "stream",
     "text": [
      "WARNING:absl:Found untraced functions such as _jit_compiled_convolution_op, _jit_compiled_convolution_op, _jit_compiled_convolution_op while saving (showing 3 of 3). These functions will not be directly callable after loading.\n"
     ]
    },
    {
     "name": "stdout",
     "output_type": "stream",
     "text": [
      "INFO:tensorflow:Assets written to: ../../artifacts/checkpoints\\checkpoint_CaffeNet\\assets\n"
     ]
    },
    {
     "name": "stderr",
     "output_type": "stream",
     "text": [
      "INFO:tensorflow:Assets written to: ../../artifacts/checkpoints\\checkpoint_CaffeNet\\assets\n"
     ]
    },
    {
     "name": "stdout",
     "output_type": "stream",
     "text": [
      "9/9 [==============================] - 5s 566ms/step - loss: 35.2670 - accuracy: 0.0786 - val_loss: 31.7876 - val_accuracy: 0.0599\n",
      "Epoch 4/100\n",
      "8/9 [=========================>....] - ETA: 0s - loss: 29.2782 - accuracy: 0.1390\n",
      "Epoch 4: val_loss improved from 31.78762 to 27.82294, saving model to ../../artifacts/checkpoints\\checkpoint_CaffeNet\n"
     ]
    },
    {
     "name": "stderr",
     "output_type": "stream",
     "text": [
      "WARNING:absl:Found untraced functions such as _jit_compiled_convolution_op, _jit_compiled_convolution_op, _jit_compiled_convolution_op while saving (showing 3 of 3). These functions will not be directly callable after loading.\n"
     ]
    },
    {
     "name": "stdout",
     "output_type": "stream",
     "text": [
      "INFO:tensorflow:Assets written to: ../../artifacts/checkpoints\\checkpoint_CaffeNet\\assets\n"
     ]
    },
    {
     "name": "stderr",
     "output_type": "stream",
     "text": [
      "INFO:tensorflow:Assets written to: ../../artifacts/checkpoints\\checkpoint_CaffeNet\\assets\n"
     ]
    },
    {
     "name": "stdout",
     "output_type": "stream",
     "text": [
      "9/9 [==============================] - 5s 538ms/step - loss: 29.2033 - accuracy: 0.1406 - val_loss: 27.8229 - val_accuracy: 0.0323\n",
      "Epoch 5/100\n",
      "8/9 [=========================>....] - ETA: 0s - loss: 24.0597 - accuracy: 0.1830\n",
      "Epoch 5: val_loss improved from 27.82294 to 22.90782, saving model to ../../artifacts/checkpoints\\checkpoint_CaffeNet\n"
     ]
    },
    {
     "name": "stderr",
     "output_type": "stream",
     "text": [
      "WARNING:absl:Found untraced functions such as _jit_compiled_convolution_op, _jit_compiled_convolution_op, _jit_compiled_convolution_op while saving (showing 3 of 3). These functions will not be directly callable after loading.\n"
     ]
    },
    {
     "name": "stdout",
     "output_type": "stream",
     "text": [
      "INFO:tensorflow:Assets written to: ../../artifacts/checkpoints\\checkpoint_CaffeNet\\assets\n"
     ]
    },
    {
     "name": "stderr",
     "output_type": "stream",
     "text": [
      "INFO:tensorflow:Assets written to: ../../artifacts/checkpoints\\checkpoint_CaffeNet\\assets\n"
     ]
    },
    {
     "name": "stdout",
     "output_type": "stream",
     "text": [
      "9/9 [==============================] - 5s 536ms/step - loss: 23.9997 - accuracy: 0.1837 - val_loss: 22.9078 - val_accuracy: 0.0553\n",
      "Epoch 6/100\n",
      "8/9 [=========================>....] - ETA: 0s - loss: 19.8397 - accuracy: 0.2048\n",
      "Epoch 6: val_loss improved from 22.90782 to 19.94055, saving model to ../../artifacts/checkpoints\\checkpoint_CaffeNet\n"
     ]
    },
    {
     "name": "stderr",
     "output_type": "stream",
     "text": [
      "WARNING:absl:Found untraced functions such as _jit_compiled_convolution_op, _jit_compiled_convolution_op, _jit_compiled_convolution_op while saving (showing 3 of 3). These functions will not be directly callable after loading.\n"
     ]
    },
    {
     "name": "stdout",
     "output_type": "stream",
     "text": [
      "INFO:tensorflow:Assets written to: ../../artifacts/checkpoints\\checkpoint_CaffeNet\\assets\n"
     ]
    },
    {
     "name": "stderr",
     "output_type": "stream",
     "text": [
      "INFO:tensorflow:Assets written to: ../../artifacts/checkpoints\\checkpoint_CaffeNet\\assets\n"
     ]
    },
    {
     "name": "stdout",
     "output_type": "stream",
     "text": [
      "9/9 [==============================] - 5s 540ms/step - loss: 19.7978 - accuracy: 0.2024 - val_loss: 19.9406 - val_accuracy: 0.0599\n",
      "Epoch 7/100\n",
      "8/9 [=========================>....] - ETA: 0s - loss: 16.6873 - accuracy: 0.2025\n",
      "Epoch 7: val_loss improved from 19.94055 to 16.46040, saving model to ../../artifacts/checkpoints\\checkpoint_CaffeNet\n"
     ]
    },
    {
     "name": "stderr",
     "output_type": "stream",
     "text": [
      "WARNING:absl:Found untraced functions such as _jit_compiled_convolution_op, _jit_compiled_convolution_op, _jit_compiled_convolution_op while saving (showing 3 of 3). These functions will not be directly callable after loading.\n"
     ]
    },
    {
     "name": "stdout",
     "output_type": "stream",
     "text": [
      "INFO:tensorflow:Assets written to: ../../artifacts/checkpoints\\checkpoint_CaffeNet\\assets\n"
     ]
    },
    {
     "name": "stderr",
     "output_type": "stream",
     "text": [
      "INFO:tensorflow:Assets written to: ../../artifacts/checkpoints\\checkpoint_CaffeNet\\assets\n"
     ]
    },
    {
     "name": "stdout",
     "output_type": "stream",
     "text": [
      "9/9 [==============================] - 4s 523ms/step - loss: 16.6471 - accuracy: 0.2041 - val_loss: 16.4604 - val_accuracy: 0.0369\n",
      "Epoch 8/100\n",
      "8/9 [=========================>....] - ETA: 0s - loss: 14.1490 - accuracy: 0.2305\n",
      "Epoch 8: val_loss improved from 16.46040 to 14.01842, saving model to ../../artifacts/checkpoints\\checkpoint_CaffeNet\n"
     ]
    },
    {
     "name": "stderr",
     "output_type": "stream",
     "text": [
      "WARNING:absl:Found untraced functions such as _jit_compiled_convolution_op, _jit_compiled_convolution_op, _jit_compiled_convolution_op while saving (showing 3 of 3). These functions will not be directly callable after loading.\n"
     ]
    },
    {
     "name": "stdout",
     "output_type": "stream",
     "text": [
      "INFO:tensorflow:Assets written to: ../../artifacts/checkpoints\\checkpoint_CaffeNet\\assets\n"
     ]
    },
    {
     "name": "stderr",
     "output_type": "stream",
     "text": [
      "INFO:tensorflow:Assets written to: ../../artifacts/checkpoints\\checkpoint_CaffeNet\\assets\n"
     ]
    },
    {
     "name": "stdout",
     "output_type": "stream",
     "text": [
      "9/9 [==============================] - 5s 532ms/step - loss: 14.1180 - accuracy: 0.2316 - val_loss: 14.0184 - val_accuracy: 0.0553\n",
      "Epoch 9/100\n",
      "8/9 [=========================>....] - ETA: 0s - loss: 12.2327 - accuracy: 0.2430\n",
      "Epoch 9: val_loss improved from 14.01842 to 12.32296, saving model to ../../artifacts/checkpoints\\checkpoint_CaffeNet\n"
     ]
    },
    {
     "name": "stderr",
     "output_type": "stream",
     "text": [
      "WARNING:absl:Found untraced functions such as _jit_compiled_convolution_op, _jit_compiled_convolution_op, _jit_compiled_convolution_op while saving (showing 3 of 3). These functions will not be directly callable after loading.\n"
     ]
    },
    {
     "name": "stdout",
     "output_type": "stream",
     "text": [
      "INFO:tensorflow:Assets written to: ../../artifacts/checkpoints\\checkpoint_CaffeNet\\assets\n"
     ]
    },
    {
     "name": "stderr",
     "output_type": "stream",
     "text": [
      "INFO:tensorflow:Assets written to: ../../artifacts/checkpoints\\checkpoint_CaffeNet\\assets\n"
     ]
    },
    {
     "name": "stdout",
     "output_type": "stream",
     "text": [
      "9/9 [==============================] - 5s 540ms/step - loss: 12.2208 - accuracy: 0.2428 - val_loss: 12.3230 - val_accuracy: 0.0553\n",
      "Epoch 10/100\n",
      "8/9 [=========================>....] - ETA: 0s - loss: 10.8240 - accuracy: 0.2777\n",
      "Epoch 10: val_loss improved from 12.32296 to 11.33946, saving model to ../../artifacts/checkpoints\\checkpoint_CaffeNet\n"
     ]
    },
    {
     "name": "stderr",
     "output_type": "stream",
     "text": [
      "WARNING:absl:Found untraced functions such as _jit_compiled_convolution_op, _jit_compiled_convolution_op, _jit_compiled_convolution_op while saving (showing 3 of 3). These functions will not be directly callable after loading.\n"
     ]
    },
    {
     "name": "stdout",
     "output_type": "stream",
     "text": [
      "INFO:tensorflow:Assets written to: ../../artifacts/checkpoints\\checkpoint_CaffeNet\\assets\n"
     ]
    },
    {
     "name": "stderr",
     "output_type": "stream",
     "text": [
      "INFO:tensorflow:Assets written to: ../../artifacts/checkpoints\\checkpoint_CaffeNet\\assets\n"
     ]
    },
    {
     "name": "stdout",
     "output_type": "stream",
     "text": [
      "9/9 [==============================] - 5s 530ms/step - loss: 10.8095 - accuracy: 0.2778 - val_loss: 11.3395 - val_accuracy: 0.0876\n",
      "Epoch 11/100\n",
      "8/9 [=========================>....] - ETA: 0s - loss: 9.8218 - accuracy: 0.2907\n",
      "Epoch 11: val_loss improved from 11.33946 to 10.53855, saving model to ../../artifacts/checkpoints\\checkpoint_CaffeNet\n"
     ]
    },
    {
     "name": "stderr",
     "output_type": "stream",
     "text": [
      "WARNING:absl:Found untraced functions such as _jit_compiled_convolution_op, _jit_compiled_convolution_op, _jit_compiled_convolution_op while saving (showing 3 of 3). These functions will not be directly callable after loading.\n"
     ]
    },
    {
     "name": "stdout",
     "output_type": "stream",
     "text": [
      "INFO:tensorflow:Assets written to: ../../artifacts/checkpoints\\checkpoint_CaffeNet\\assets\n"
     ]
    },
    {
     "name": "stderr",
     "output_type": "stream",
     "text": [
      "INFO:tensorflow:Assets written to: ../../artifacts/checkpoints\\checkpoint_CaffeNet\\assets\n"
     ]
    },
    {
     "name": "stdout",
     "output_type": "stream",
     "text": [
      "9/9 [==============================] - 5s 526ms/step - loss: 9.8104 - accuracy: 0.2907 - val_loss: 10.5386 - val_accuracy: 0.0691\n",
      "Epoch 12/100\n",
      "8/9 [=========================>....] - ETA: 0s - loss: 9.1239 - accuracy: 0.2985\n",
      "Epoch 12: val_loss improved from 10.53855 to 9.91752, saving model to ../../artifacts/checkpoints\\checkpoint_CaffeNet\n"
     ]
    },
    {
     "name": "stderr",
     "output_type": "stream",
     "text": [
      "WARNING:absl:Found untraced functions such as _jit_compiled_convolution_op, _jit_compiled_convolution_op, _jit_compiled_convolution_op while saving (showing 3 of 3). These functions will not be directly callable after loading.\n"
     ]
    },
    {
     "name": "stdout",
     "output_type": "stream",
     "text": [
      "INFO:tensorflow:Assets written to: ../../artifacts/checkpoints\\checkpoint_CaffeNet\\assets\n"
     ]
    },
    {
     "name": "stderr",
     "output_type": "stream",
     "text": [
      "INFO:tensorflow:Assets written to: ../../artifacts/checkpoints\\checkpoint_CaffeNet\\assets\n"
     ]
    },
    {
     "name": "stdout",
     "output_type": "stream",
     "text": [
      "9/9 [==============================] - 5s 539ms/step - loss: 9.1189 - accuracy: 0.2970 - val_loss: 9.9175 - val_accuracy: 0.0829\n",
      "Epoch 13/100\n",
      "8/9 [=========================>....] - ETA: 0s - loss: 8.5958 - accuracy: 0.3240\n",
      "Epoch 13: val_loss improved from 9.91752 to 9.71610, saving model to ../../artifacts/checkpoints\\checkpoint_CaffeNet\n"
     ]
    },
    {
     "name": "stderr",
     "output_type": "stream",
     "text": [
      "WARNING:absl:Found untraced functions such as _jit_compiled_convolution_op, _jit_compiled_convolution_op, _jit_compiled_convolution_op while saving (showing 3 of 3). These functions will not be directly callable after loading.\n"
     ]
    },
    {
     "name": "stdout",
     "output_type": "stream",
     "text": [
      "INFO:tensorflow:Assets written to: ../../artifacts/checkpoints\\checkpoint_CaffeNet\\assets\n"
     ]
    },
    {
     "name": "stderr",
     "output_type": "stream",
     "text": [
      "INFO:tensorflow:Assets written to: ../../artifacts/checkpoints\\checkpoint_CaffeNet\\assets\n"
     ]
    },
    {
     "name": "stdout",
     "output_type": "stream",
     "text": [
      "9/9 [==============================] - 4s 524ms/step - loss: 8.5890 - accuracy: 0.3245 - val_loss: 9.7161 - val_accuracy: 0.0876\n",
      "Epoch 14/100\n",
      "8/9 [=========================>....] - ETA: 0s - loss: 8.1824 - accuracy: 0.3402\n",
      "Epoch 14: val_loss improved from 9.71610 to 9.26898, saving model to ../../artifacts/checkpoints\\checkpoint_CaffeNet\n"
     ]
    },
    {
     "name": "stderr",
     "output_type": "stream",
     "text": [
      "WARNING:absl:Found untraced functions such as _jit_compiled_convolution_op, _jit_compiled_convolution_op, _jit_compiled_convolution_op while saving (showing 3 of 3). These functions will not be directly callable after loading.\n"
     ]
    },
    {
     "name": "stdout",
     "output_type": "stream",
     "text": [
      "INFO:tensorflow:Assets written to: ../../artifacts/checkpoints\\checkpoint_CaffeNet\\assets\n"
     ]
    },
    {
     "name": "stderr",
     "output_type": "stream",
     "text": [
      "INFO:tensorflow:Assets written to: ../../artifacts/checkpoints\\checkpoint_CaffeNet\\assets\n"
     ]
    },
    {
     "name": "stdout",
     "output_type": "stream",
     "text": [
      "9/9 [==============================] - 5s 527ms/step - loss: 8.1821 - accuracy: 0.3396 - val_loss: 9.2690 - val_accuracy: 0.0968\n",
      "Epoch 15/100\n",
      "8/9 [=========================>....] - ETA: 0s - loss: 7.9082 - accuracy: 0.3560\n",
      "Epoch 15: val_loss improved from 9.26898 to 9.09868, saving model to ../../artifacts/checkpoints\\checkpoint_CaffeNet\n"
     ]
    },
    {
     "name": "stderr",
     "output_type": "stream",
     "text": [
      "WARNING:absl:Found untraced functions such as _jit_compiled_convolution_op, _jit_compiled_convolution_op, _jit_compiled_convolution_op while saving (showing 3 of 3). These functions will not be directly callable after loading.\n"
     ]
    },
    {
     "name": "stdout",
     "output_type": "stream",
     "text": [
      "INFO:tensorflow:Assets written to: ../../artifacts/checkpoints\\checkpoint_CaffeNet\\assets\n"
     ]
    },
    {
     "name": "stderr",
     "output_type": "stream",
     "text": [
      "INFO:tensorflow:Assets written to: ../../artifacts/checkpoints\\checkpoint_CaffeNet\\assets\n"
     ]
    },
    {
     "name": "stdout",
     "output_type": "stream",
     "text": [
      "9/9 [==============================] - 5s 536ms/step - loss: 7.9073 - accuracy: 0.3559 - val_loss: 9.0987 - val_accuracy: 0.1106\n",
      "Epoch 16/100\n",
      "8/9 [=========================>....] - ETA: 0s - loss: 7.5776 - accuracy: 0.4027\n",
      "Epoch 16: val_loss improved from 9.09868 to 9.09605, saving model to ../../artifacts/checkpoints\\checkpoint_CaffeNet\n"
     ]
    },
    {
     "name": "stderr",
     "output_type": "stream",
     "text": [
      "WARNING:absl:Found untraced functions such as _jit_compiled_convolution_op, _jit_compiled_convolution_op, _jit_compiled_convolution_op while saving (showing 3 of 3). These functions will not be directly callable after loading.\n"
     ]
    },
    {
     "name": "stdout",
     "output_type": "stream",
     "text": [
      "INFO:tensorflow:Assets written to: ../../artifacts/checkpoints\\checkpoint_CaffeNet\\assets\n"
     ]
    },
    {
     "name": "stderr",
     "output_type": "stream",
     "text": [
      "INFO:tensorflow:Assets written to: ../../artifacts/checkpoints\\checkpoint_CaffeNet\\assets\n"
     ]
    },
    {
     "name": "stdout",
     "output_type": "stream",
     "text": [
      "9/9 [==============================] - 4s 525ms/step - loss: 7.5835 - accuracy: 0.3982 - val_loss: 9.0961 - val_accuracy: 0.0829\n",
      "Epoch 17/100\n",
      "8/9 [=========================>....] - ETA: 0s - loss: 7.5666 - accuracy: 0.3697\n",
      "Epoch 17: val_loss improved from 9.09605 to 8.74592, saving model to ../../artifacts/checkpoints\\checkpoint_CaffeNet\n"
     ]
    },
    {
     "name": "stderr",
     "output_type": "stream",
     "text": [
      "WARNING:absl:Found untraced functions such as _jit_compiled_convolution_op, _jit_compiled_convolution_op, _jit_compiled_convolution_op while saving (showing 3 of 3). These functions will not be directly callable after loading.\n"
     ]
    },
    {
     "name": "stdout",
     "output_type": "stream",
     "text": [
      "INFO:tensorflow:Assets written to: ../../artifacts/checkpoints\\checkpoint_CaffeNet\\assets\n"
     ]
    },
    {
     "name": "stderr",
     "output_type": "stream",
     "text": [
      "INFO:tensorflow:Assets written to: ../../artifacts/checkpoints\\checkpoint_CaffeNet\\assets\n"
     ]
    },
    {
     "name": "stdout",
     "output_type": "stream",
     "text": [
      "9/9 [==============================] - 5s 527ms/step - loss: 7.5635 - accuracy: 0.3695 - val_loss: 8.7459 - val_accuracy: 0.1198\n",
      "Epoch 18/100\n",
      "8/9 [=========================>....] - ETA: 0s - loss: 7.2604 - accuracy: 0.4425\n",
      "Epoch 18: val_loss improved from 8.74592 to 8.67323, saving model to ../../artifacts/checkpoints\\checkpoint_CaffeNet\n"
     ]
    },
    {
     "name": "stderr",
     "output_type": "stream",
     "text": [
      "WARNING:absl:Found untraced functions such as _jit_compiled_convolution_op, _jit_compiled_convolution_op, _jit_compiled_convolution_op while saving (showing 3 of 3). These functions will not be directly callable after loading.\n"
     ]
    },
    {
     "name": "stdout",
     "output_type": "stream",
     "text": [
      "INFO:tensorflow:Assets written to: ../../artifacts/checkpoints\\checkpoint_CaffeNet\\assets\n"
     ]
    },
    {
     "name": "stderr",
     "output_type": "stream",
     "text": [
      "INFO:tensorflow:Assets written to: ../../artifacts/checkpoints\\checkpoint_CaffeNet\\assets\n"
     ]
    },
    {
     "name": "stdout",
     "output_type": "stream",
     "text": [
      "9/9 [==============================] - 5s 543ms/step - loss: 7.2569 - accuracy: 0.4425 - val_loss: 8.6732 - val_accuracy: 0.1382\n",
      "Epoch 19/100\n",
      "8/9 [=========================>....] - ETA: 0s - loss: 7.0952 - accuracy: 0.4263\n",
      "Epoch 19: val_loss improved from 8.67323 to 8.29024, saving model to ../../artifacts/checkpoints\\checkpoint_CaffeNet\n"
     ]
    },
    {
     "name": "stderr",
     "output_type": "stream",
     "text": [
      "WARNING:absl:Found untraced functions such as _jit_compiled_convolution_op, _jit_compiled_convolution_op, _jit_compiled_convolution_op while saving (showing 3 of 3). These functions will not be directly callable after loading.\n"
     ]
    },
    {
     "name": "stdout",
     "output_type": "stream",
     "text": [
      "INFO:tensorflow:Assets written to: ../../artifacts/checkpoints\\checkpoint_CaffeNet\\assets\n"
     ]
    },
    {
     "name": "stderr",
     "output_type": "stream",
     "text": [
      "INFO:tensorflow:Assets written to: ../../artifacts/checkpoints\\checkpoint_CaffeNet\\assets\n"
     ]
    },
    {
     "name": "stdout",
     "output_type": "stream",
     "text": [
      "9/9 [==============================] - 4s 521ms/step - loss: 7.0957 - accuracy: 0.4259 - val_loss: 8.2902 - val_accuracy: 0.1613\n",
      "Epoch 20/100\n",
      "8/9 [=========================>....] - ETA: 0s - loss: 6.8884 - accuracy: 0.4638\n",
      "Epoch 20: val_loss did not improve from 8.29024\n",
      "9/9 [==============================] - 2s 163ms/step - loss: 6.8821 - accuracy: 0.4661 - val_loss: 8.4523 - val_accuracy: 0.1521\n",
      "Epoch 21/100\n",
      "8/9 [=========================>....] - ETA: 0s - loss: 6.7421 - accuracy: 0.5085\n",
      "Epoch 21: val_loss improved from 8.29024 to 8.14506, saving model to ../../artifacts/checkpoints\\checkpoint_CaffeNet\n"
     ]
    },
    {
     "name": "stderr",
     "output_type": "stream",
     "text": [
      "WARNING:absl:Found untraced functions such as _jit_compiled_convolution_op, _jit_compiled_convolution_op, _jit_compiled_convolution_op while saving (showing 3 of 3). These functions will not be directly callable after loading.\n"
     ]
    },
    {
     "name": "stdout",
     "output_type": "stream",
     "text": [
      "INFO:tensorflow:Assets written to: ../../artifacts/checkpoints\\checkpoint_CaffeNet\\assets\n"
     ]
    },
    {
     "name": "stderr",
     "output_type": "stream",
     "text": [
      "INFO:tensorflow:Assets written to: ../../artifacts/checkpoints\\checkpoint_CaffeNet\\assets\n"
     ]
    },
    {
     "name": "stdout",
     "output_type": "stream",
     "text": [
      "9/9 [==============================] - 4s 529ms/step - loss: 6.7404 - accuracy: 0.5099 - val_loss: 8.1451 - val_accuracy: 0.2028\n",
      "Epoch 22/100\n",
      "8/9 [=========================>....] - ETA: 0s - loss: 6.5791 - accuracy: 0.5293\n",
      "Epoch 22: val_loss improved from 8.14506 to 8.12632, saving model to ../../artifacts/checkpoints\\checkpoint_CaffeNet\n"
     ]
    },
    {
     "name": "stderr",
     "output_type": "stream",
     "text": [
      "WARNING:absl:Found untraced functions such as _jit_compiled_convolution_op, _jit_compiled_convolution_op, _jit_compiled_convolution_op while saving (showing 3 of 3). These functions will not be directly callable after loading.\n"
     ]
    },
    {
     "name": "stdout",
     "output_type": "stream",
     "text": [
      "INFO:tensorflow:Assets written to: ../../artifacts/checkpoints\\checkpoint_CaffeNet\\assets\n"
     ]
    },
    {
     "name": "stderr",
     "output_type": "stream",
     "text": [
      "INFO:tensorflow:Assets written to: ../../artifacts/checkpoints\\checkpoint_CaffeNet\\assets\n"
     ]
    },
    {
     "name": "stdout",
     "output_type": "stream",
     "text": [
      "9/9 [==============================] - 5s 540ms/step - loss: 6.5788 - accuracy: 0.5274 - val_loss: 8.1263 - val_accuracy: 0.1889\n",
      "Epoch 23/100\n",
      "8/9 [=========================>....] - ETA: 0s - loss: 6.4717 - accuracy: 0.5290\n",
      "Epoch 23: val_loss improved from 8.12632 to 8.04651, saving model to ../../artifacts/checkpoints\\checkpoint_CaffeNet\n"
     ]
    },
    {
     "name": "stderr",
     "output_type": "stream",
     "text": [
      "WARNING:absl:Found untraced functions such as _jit_compiled_convolution_op, _jit_compiled_convolution_op, _jit_compiled_convolution_op while saving (showing 3 of 3). These functions will not be directly callable after loading.\n"
     ]
    },
    {
     "name": "stdout",
     "output_type": "stream",
     "text": [
      "INFO:tensorflow:Assets written to: ../../artifacts/checkpoints\\checkpoint_CaffeNet\\assets\n"
     ]
    },
    {
     "name": "stderr",
     "output_type": "stream",
     "text": [
      "INFO:tensorflow:Assets written to: ../../artifacts/checkpoints\\checkpoint_CaffeNet\\assets\n"
     ]
    },
    {
     "name": "stdout",
     "output_type": "stream",
     "text": [
      "9/9 [==============================] - 4s 521ms/step - loss: 6.4752 - accuracy: 0.5291 - val_loss: 8.0465 - val_accuracy: 0.2120\n",
      "Epoch 24/100\n",
      "8/9 [=========================>....] - ETA: 0s - loss: 6.3453 - accuracy: 0.5763\n",
      "Epoch 24: val_loss improved from 8.04651 to 7.89875, saving model to ../../artifacts/checkpoints\\checkpoint_CaffeNet\n"
     ]
    },
    {
     "name": "stderr",
     "output_type": "stream",
     "text": [
      "WARNING:absl:Found untraced functions such as _jit_compiled_convolution_op, _jit_compiled_convolution_op, _jit_compiled_convolution_op while saving (showing 3 of 3). These functions will not be directly callable after loading.\n"
     ]
    },
    {
     "name": "stdout",
     "output_type": "stream",
     "text": [
      "INFO:tensorflow:Assets written to: ../../artifacts/checkpoints\\checkpoint_CaffeNet\\assets\n"
     ]
    },
    {
     "name": "stderr",
     "output_type": "stream",
     "text": [
      "INFO:tensorflow:Assets written to: ../../artifacts/checkpoints\\checkpoint_CaffeNet\\assets\n"
     ]
    },
    {
     "name": "stdout",
     "output_type": "stream",
     "text": [
      "9/9 [==============================] - 4s 522ms/step - loss: 6.3469 - accuracy: 0.5748 - val_loss: 7.8987 - val_accuracy: 0.2074\n",
      "Epoch 25/100\n",
      "8/9 [=========================>....] - ETA: 0s - loss: 6.2117 - accuracy: 0.6015\n",
      "Epoch 25: val_loss did not improve from 7.89875\n",
      "9/9 [==============================] - 2s 160ms/step - loss: 6.2174 - accuracy: 0.6001 - val_loss: 8.0633 - val_accuracy: 0.1613\n",
      "Epoch 26/100\n",
      "8/9 [=========================>....] - ETA: 0s - loss: 6.0112 - accuracy: 0.6430\n",
      "Epoch 26: val_loss did not improve from 7.89875\n",
      "9/9 [==============================] - 1s 161ms/step - loss: 6.0110 - accuracy: 0.6434 - val_loss: 7.9085 - val_accuracy: 0.2028\n",
      "Epoch 27/100\n",
      "8/9 [=========================>....] - ETA: 0s - loss: 5.8821 - accuracy: 0.6555\n",
      "Epoch 27: val_loss did not improve from 7.89875\n",
      "9/9 [==============================] - 1s 160ms/step - loss: 5.8835 - accuracy: 0.6541 - val_loss: 7.9053 - val_accuracy: 0.1843\n",
      "Epoch 28/100\n",
      "9/9 [==============================] - ETA: 0s - loss: 5.6928 - accuracy: 0.7130\n",
      "Epoch 28: val_loss did not improve from 7.89875\n",
      "9/9 [==============================] - 1s 161ms/step - loss: 5.6928 - accuracy: 0.7130 - val_loss: 8.1195 - val_accuracy: 0.1659\n",
      "Epoch 29/100\n",
      "8/9 [=========================>....] - ETA: 0s - loss: 5.6947 - accuracy: 0.6845\n",
      "Epoch 29: val_loss did not improve from 7.89875\n",
      "9/9 [==============================] - 1s 161ms/step - loss: 5.6917 - accuracy: 0.6850 - val_loss: 8.1172 - val_accuracy: 0.1843\n",
      "Epoch 30/100\n",
      "8/9 [=========================>....] - ETA: 0s - loss: 5.6083 - accuracy: 0.7212\n",
      "Epoch 30: val_loss did not improve from 7.89875\n",
      "9/9 [==============================] - 1s 161ms/step - loss: 5.6097 - accuracy: 0.7193 - val_loss: 8.5175 - val_accuracy: 0.1982\n",
      "Epoch 31/100\n",
      "8/9 [=========================>....] - ETA: 0s - loss: 5.6079 - accuracy: 0.7150\n",
      "Epoch 31: val_loss did not improve from 7.89875\n",
      "9/9 [==============================] - 1s 160ms/step - loss: 5.6099 - accuracy: 0.7137 - val_loss: 8.2318 - val_accuracy: 0.1797\n",
      "Epoch 32/100\n",
      "8/9 [=========================>....] - ETA: 0s - loss: 5.3804 - accuracy: 0.7915\n",
      "Epoch 32: val_loss did not improve from 7.89875\n",
      "9/9 [==============================] - 1s 159ms/step - loss: 5.3778 - accuracy: 0.7923 - val_loss: 7.9869 - val_accuracy: 0.2166\n",
      "Epoch 33/100\n",
      "8/9 [=========================>....] - ETA: 0s - loss: 5.2097 - accuracy: 0.8073\n",
      "Epoch 33: val_loss improved from 7.89875 to 7.83679, saving model to ../../artifacts/checkpoints\\checkpoint_CaffeNet\n"
     ]
    },
    {
     "name": "stderr",
     "output_type": "stream",
     "text": [
      "WARNING:absl:Found untraced functions such as _jit_compiled_convolution_op, _jit_compiled_convolution_op, _jit_compiled_convolution_op while saving (showing 3 of 3). These functions will not be directly callable after loading.\n"
     ]
    },
    {
     "name": "stdout",
     "output_type": "stream",
     "text": [
      "INFO:tensorflow:Assets written to: ../../artifacts/checkpoints\\checkpoint_CaffeNet\\assets\n"
     ]
    },
    {
     "name": "stderr",
     "output_type": "stream",
     "text": [
      "INFO:tensorflow:Assets written to: ../../artifacts/checkpoints\\checkpoint_CaffeNet\\assets\n"
     ]
    },
    {
     "name": "stdout",
     "output_type": "stream",
     "text": [
      "9/9 [==============================] - 4s 537ms/step - loss: 5.2117 - accuracy: 0.8071 - val_loss: 7.8368 - val_accuracy: 0.2074\n",
      "Epoch 34/100\n",
      "8/9 [=========================>....] - ETA: 0s - loss: 5.1587 - accuracy: 0.7993\n",
      "Epoch 34: val_loss did not improve from 7.83679\n",
      "9/9 [==============================] - 2s 164ms/step - loss: 5.1563 - accuracy: 0.7991 - val_loss: 7.9889 - val_accuracy: 0.2166\n",
      "Epoch 35/100\n",
      "8/9 [=========================>....] - ETA: 0s - loss: 5.0305 - accuracy: 0.8223\n",
      "Epoch 35: val_loss did not improve from 7.83679\n",
      "9/9 [==============================] - 1s 160ms/step - loss: 5.0315 - accuracy: 0.8207 - val_loss: 7.8580 - val_accuracy: 0.2304\n",
      "Epoch 36/100\n",
      "8/9 [=========================>....] - ETA: 0s - loss: 4.9505 - accuracy: 0.8152\n",
      "Epoch 36: val_loss did not improve from 7.83679\n",
      "9/9 [==============================] - 1s 162ms/step - loss: 4.9521 - accuracy: 0.8151 - val_loss: 7.8612 - val_accuracy: 0.1982\n",
      "Epoch 37/100\n",
      "8/9 [=========================>....] - ETA: 0s - loss: 4.8305 - accuracy: 0.8550\n",
      "Epoch 37: val_loss improved from 7.83679 to 7.72829, saving model to ../../artifacts/checkpoints\\checkpoint_CaffeNet\n"
     ]
    },
    {
     "name": "stderr",
     "output_type": "stream",
     "text": [
      "WARNING:absl:Found untraced functions such as _jit_compiled_convolution_op, _jit_compiled_convolution_op, _jit_compiled_convolution_op while saving (showing 3 of 3). These functions will not be directly callable after loading.\n"
     ]
    },
    {
     "name": "stdout",
     "output_type": "stream",
     "text": [
      "INFO:tensorflow:Assets written to: ../../artifacts/checkpoints\\checkpoint_CaffeNet\\assets\n"
     ]
    },
    {
     "name": "stderr",
     "output_type": "stream",
     "text": [
      "INFO:tensorflow:Assets written to: ../../artifacts/checkpoints\\checkpoint_CaffeNet\\assets\n"
     ]
    },
    {
     "name": "stdout",
     "output_type": "stream",
     "text": [
      "9/9 [==============================] - 4s 521ms/step - loss: 4.8291 - accuracy: 0.8548 - val_loss: 7.7283 - val_accuracy: 0.2535\n",
      "Epoch 38/100\n",
      "8/9 [=========================>....] - ETA: 0s - loss: 4.6835 - accuracy: 0.8745\n",
      "Epoch 38: val_loss did not improve from 7.72829\n",
      "9/9 [==============================] - 2s 163ms/step - loss: 4.6866 - accuracy: 0.8723 - val_loss: 7.7716 - val_accuracy: 0.1889\n",
      "Epoch 39/100\n",
      "8/9 [=========================>....] - ETA: 0s - loss: 4.5853 - accuracy: 0.8832\n",
      "Epoch 39: val_loss did not improve from 7.72829\n",
      "9/9 [==============================] - 1s 162ms/step - loss: 4.5874 - accuracy: 0.8832 - val_loss: 8.0839 - val_accuracy: 0.2120\n",
      "Epoch 40/100\n",
      "8/9 [=========================>....] - ETA: 0s - loss: 4.6058 - accuracy: 0.8468\n",
      "Epoch 40: val_loss did not improve from 7.72829\n",
      "9/9 [==============================] - 1s 161ms/step - loss: 4.6081 - accuracy: 0.8465 - val_loss: 7.7566 - val_accuracy: 0.1935\n",
      "Epoch 41/100\n",
      "8/9 [=========================>....] - ETA: 0s - loss: 4.4841 - accuracy: 0.8765\n",
      "Epoch 41: val_loss did not improve from 7.72829\n",
      "9/9 [==============================] - 1s 159ms/step - loss: 4.4877 - accuracy: 0.8740 - val_loss: 8.2657 - val_accuracy: 0.1982\n",
      "Epoch 42/100\n",
      "8/9 [=========================>....] - ETA: 0s - loss: 4.4888 - accuracy: 0.8627\n",
      "Epoch 42: val_loss did not improve from 7.72829\n",
      "9/9 [==============================] - 1s 160ms/step - loss: 4.4865 - accuracy: 0.8633 - val_loss: 8.1136 - val_accuracy: 0.2074\n",
      "Epoch 43/100\n",
      "9/9 [==============================] - ETA: 0s - loss: 4.3446 - accuracy: 0.8993\n",
      "Epoch 43: val_loss did not improve from 7.72829\n",
      "9/9 [==============================] - 1s 161ms/step - loss: 4.3446 - accuracy: 0.8993 - val_loss: 8.0424 - val_accuracy: 0.1889\n",
      "Epoch 44/100\n",
      "8/9 [=========================>....] - ETA: 0s - loss: 4.4300 - accuracy: 0.8600\n",
      "Epoch 44: val_loss did not improve from 7.72829\n",
      "9/9 [==============================] - 1s 162ms/step - loss: 4.4304 - accuracy: 0.8616 - val_loss: 7.8188 - val_accuracy: 0.2212\n",
      "Epoch 45/100\n",
      "8/9 [=========================>....] - ETA: 0s - loss: 4.3221 - accuracy: 0.9040\n",
      "Epoch 45: val_loss did not improve from 7.72829\n",
      "9/9 [==============================] - 1s 158ms/step - loss: 4.3226 - accuracy: 0.9042 - val_loss: 7.8762 - val_accuracy: 0.2396\n",
      "Epoch 46/100\n",
      "8/9 [=========================>....] - ETA: 0s - loss: 4.1782 - accuracy: 0.9315\n",
      "Epoch 46: val_loss did not improve from 7.72829\n",
      "9/9 [==============================] - 1s 159ms/step - loss: 4.1786 - accuracy: 0.9312 - val_loss: 7.9661 - val_accuracy: 0.2304\n",
      "Epoch 47/100\n",
      "8/9 [=========================>....] - ETA: 0s - loss: 4.0310 - accuracy: 0.9337\n",
      "Epoch 47: val_loss improved from 7.72829 to 7.55318, saving model to ../../artifacts/checkpoints\\checkpoint_CaffeNet\n"
     ]
    },
    {
     "name": "stderr",
     "output_type": "stream",
     "text": [
      "WARNING:absl:Found untraced functions such as _jit_compiled_convolution_op, _jit_compiled_convolution_op, _jit_compiled_convolution_op while saving (showing 3 of 3). These functions will not be directly callable after loading.\n"
     ]
    },
    {
     "name": "stdout",
     "output_type": "stream",
     "text": [
      "INFO:tensorflow:Assets written to: ../../artifacts/checkpoints\\checkpoint_CaffeNet\\assets\n"
     ]
    },
    {
     "name": "stderr",
     "output_type": "stream",
     "text": [
      "INFO:tensorflow:Assets written to: ../../artifacts/checkpoints\\checkpoint_CaffeNet\\assets\n"
     ]
    },
    {
     "name": "stdout",
     "output_type": "stream",
     "text": [
      "9/9 [==============================] - 4s 526ms/step - loss: 4.0295 - accuracy: 0.9338 - val_loss: 7.5532 - val_accuracy: 0.1982\n",
      "Epoch 48/100\n",
      "8/9 [=========================>....] - ETA: 0s - loss: 3.8964 - accuracy: 0.9348\n",
      "Epoch 48: val_loss did not improve from 7.55318\n",
      "9/9 [==============================] - 2s 165ms/step - loss: 3.8922 - accuracy: 0.9360 - val_loss: 7.5712 - val_accuracy: 0.2028\n",
      "Epoch 49/100\n",
      "8/9 [=========================>....] - ETA: 0s - loss: 3.7313 - accuracy: 0.9600\n",
      "Epoch 49: val_loss improved from 7.55318 to 7.31823, saving model to ../../artifacts/checkpoints\\checkpoint_CaffeNet\n"
     ]
    },
    {
     "name": "stderr",
     "output_type": "stream",
     "text": [
      "WARNING:absl:Found untraced functions such as _jit_compiled_convolution_op, _jit_compiled_convolution_op, _jit_compiled_convolution_op while saving (showing 3 of 3). These functions will not be directly callable after loading.\n"
     ]
    },
    {
     "name": "stdout",
     "output_type": "stream",
     "text": [
      "INFO:tensorflow:Assets written to: ../../artifacts/checkpoints\\checkpoint_CaffeNet\\assets\n"
     ]
    },
    {
     "name": "stderr",
     "output_type": "stream",
     "text": [
      "INFO:tensorflow:Assets written to: ../../artifacts/checkpoints\\checkpoint_CaffeNet\\assets\n"
     ]
    },
    {
     "name": "stdout",
     "output_type": "stream",
     "text": [
      "9/9 [==============================] - 4s 532ms/step - loss: 3.7306 - accuracy: 0.9596 - val_loss: 7.3182 - val_accuracy: 0.2258\n",
      "Epoch 50/100\n",
      "8/9 [=========================>....] - ETA: 0s - loss: 3.6222 - accuracy: 0.9632\n",
      "Epoch 50: val_loss improved from 7.31823 to 7.28386, saving model to ../../artifacts/checkpoints\\checkpoint_CaffeNet\n"
     ]
    },
    {
     "name": "stderr",
     "output_type": "stream",
     "text": [
      "WARNING:absl:Found untraced functions such as _jit_compiled_convolution_op, _jit_compiled_convolution_op, _jit_compiled_convolution_op while saving (showing 3 of 3). These functions will not be directly callable after loading.\n"
     ]
    },
    {
     "name": "stdout",
     "output_type": "stream",
     "text": [
      "INFO:tensorflow:Assets written to: ../../artifacts/checkpoints\\checkpoint_CaffeNet\\assets\n"
     ]
    },
    {
     "name": "stderr",
     "output_type": "stream",
     "text": [
      "INFO:tensorflow:Assets written to: ../../artifacts/checkpoints\\checkpoint_CaffeNet\\assets\n"
     ]
    },
    {
     "name": "stdout",
     "output_type": "stream",
     "text": [
      "9/9 [==============================] - 4s 523ms/step - loss: 3.6221 - accuracy: 0.9633 - val_loss: 7.2839 - val_accuracy: 0.2258\n",
      "Epoch 51/100\n",
      "8/9 [=========================>....] - ETA: 0s - loss: 3.5452 - accuracy: 0.9672\n",
      "Epoch 51: val_loss did not improve from 7.28386\n",
      "9/9 [==============================] - 2s 163ms/step - loss: 3.5443 - accuracy: 0.9674 - val_loss: 7.5401 - val_accuracy: 0.2120\n",
      "Epoch 52/100\n",
      "8/9 [=========================>....] - ETA: 0s - loss: 3.5132 - accuracy: 0.9535\n",
      "Epoch 52: val_loss did not improve from 7.28386\n",
      "9/9 [==============================] - 1s 160ms/step - loss: 3.5125 - accuracy: 0.9535 - val_loss: 7.2870 - val_accuracy: 0.2396\n",
      "Epoch 53/100\n",
      "8/9 [=========================>....] - ETA: 0s - loss: 3.4178 - accuracy: 0.9705\n",
      "Epoch 53: val_loss did not improve from 7.28386\n",
      "9/9 [==============================] - 1s 161ms/step - loss: 3.4164 - accuracy: 0.9703 - val_loss: 7.4655 - val_accuracy: 0.2258\n",
      "Epoch 54/100\n",
      "8/9 [=========================>....] - ETA: 0s - loss: 3.3589 - accuracy: 0.9632\n",
      "Epoch 54: val_loss improved from 7.28386 to 7.24913, saving model to ../../artifacts/checkpoints\\checkpoint_CaffeNet\n"
     ]
    },
    {
     "name": "stderr",
     "output_type": "stream",
     "text": [
      "WARNING:absl:Found untraced functions such as _jit_compiled_convolution_op, _jit_compiled_convolution_op, _jit_compiled_convolution_op while saving (showing 3 of 3). These functions will not be directly callable after loading.\n"
     ]
    },
    {
     "name": "stdout",
     "output_type": "stream",
     "text": [
      "INFO:tensorflow:Assets written to: ../../artifacts/checkpoints\\checkpoint_CaffeNet\\assets\n"
     ]
    },
    {
     "name": "stderr",
     "output_type": "stream",
     "text": [
      "INFO:tensorflow:Assets written to: ../../artifacts/checkpoints\\checkpoint_CaffeNet\\assets\n"
     ]
    },
    {
     "name": "stdout",
     "output_type": "stream",
     "text": [
      "9/9 [==============================] - 4s 522ms/step - loss: 3.3590 - accuracy: 0.9630 - val_loss: 7.2491 - val_accuracy: 0.2212\n",
      "Epoch 55/100\n",
      "8/9 [=========================>....] - ETA: 0s - loss: 3.3156 - accuracy: 0.9588\n",
      "Epoch 55: val_loss did not improve from 7.24913\n",
      "9/9 [==============================] - 2s 162ms/step - loss: 3.3162 - accuracy: 0.9586 - val_loss: 7.2500 - val_accuracy: 0.2028\n",
      "Epoch 56/100\n",
      "8/9 [=========================>....] - ETA: 0s - loss: 3.2932 - accuracy: 0.9510\n",
      "Epoch 56: val_loss did not improve from 7.24913\n",
      "9/9 [==============================] - 1s 160ms/step - loss: 3.2919 - accuracy: 0.9514 - val_loss: 7.3839 - val_accuracy: 0.2120\n",
      "Epoch 57/100\n",
      "8/9 [=========================>....] - ETA: 0s - loss: 3.2879 - accuracy: 0.9535\n",
      "Epoch 57: val_loss did not improve from 7.24913\n",
      "9/9 [==============================] - 1s 161ms/step - loss: 3.2892 - accuracy: 0.9531 - val_loss: 7.3535 - val_accuracy: 0.2212\n",
      "Epoch 58/100\n",
      "8/9 [=========================>....] - ETA: 0s - loss: 3.3980 - accuracy: 0.9082\n",
      "Epoch 58: val_loss did not improve from 7.24913\n",
      "9/9 [==============================] - 1s 162ms/step - loss: 3.3992 - accuracy: 0.9078 - val_loss: 7.3572 - val_accuracy: 0.1797\n",
      "Epoch 59/100\n",
      "8/9 [=========================>....] - ETA: 0s - loss: 3.4735 - accuracy: 0.8832\n",
      "Epoch 59: val_loss did not improve from 7.24913\n",
      "9/9 [==============================] - 1s 161ms/step - loss: 3.4762 - accuracy: 0.8832 - val_loss: 7.6180 - val_accuracy: 0.1797\n",
      "Epoch 60/100\n",
      "8/9 [=========================>....] - ETA: 0s - loss: 3.4296 - accuracy: 0.9082\n",
      "Epoch 60: val_loss did not improve from 7.24913\n",
      "9/9 [==============================] - 1s 160ms/step - loss: 3.4260 - accuracy: 0.9095 - val_loss: 7.4482 - val_accuracy: 0.2074\n",
      "Epoch 61/100\n",
      "8/9 [=========================>....] - ETA: 0s - loss: 3.2790 - accuracy: 0.9457\n",
      "Epoch 61: val_loss did not improve from 7.24913\n",
      "9/9 [==============================] - 1s 160ms/step - loss: 3.2799 - accuracy: 0.9445 - val_loss: 7.5389 - val_accuracy: 0.2028\n",
      "Epoch 62/100\n",
      "8/9 [=========================>....] - ETA: 0s - loss: 3.2310 - accuracy: 0.9463\n",
      "Epoch 62: val_loss did not improve from 7.24913\n",
      "9/9 [==============================] - 1s 158ms/step - loss: 3.2296 - accuracy: 0.9465 - val_loss: 7.3502 - val_accuracy: 0.1843\n",
      "Epoch 63/100\n",
      "8/9 [=========================>....] - ETA: 0s - loss: 3.1321 - accuracy: 0.9655\n",
      "Epoch 63: val_loss did not improve from 7.24913\n",
      "9/9 [==============================] - 1s 158ms/step - loss: 3.1327 - accuracy: 0.9647 - val_loss: 7.3484 - val_accuracy: 0.2212\n",
      "Epoch 64/100\n",
      "8/9 [=========================>....] - ETA: 0s - loss: 3.0609 - accuracy: 0.9655\n",
      "Epoch 64: val_loss did not improve from 7.24913\n",
      "9/9 [==============================] - 1s 159ms/step - loss: 3.0610 - accuracy: 0.9655 - val_loss: 7.3839 - val_accuracy: 0.2396\n",
      "Epoch 65/100\n",
      "8/9 [=========================>....] - ETA: 0s - loss: 3.0872 - accuracy: 0.9375\n",
      "Epoch 65: val_loss did not improve from 7.24913\n",
      "9/9 [==============================] - 1s 159ms/step - loss: 3.0885 - accuracy: 0.9372 - val_loss: 7.5383 - val_accuracy: 0.1843\n",
      "Epoch 66/100\n",
      "8/9 [=========================>....] - ETA: 0s - loss: 3.0650 - accuracy: 0.9390\n",
      "Epoch 66: val_loss improved from 7.24913 to 7.21994, saving model to ../../artifacts/checkpoints\\checkpoint_CaffeNet\n"
     ]
    },
    {
     "name": "stderr",
     "output_type": "stream",
     "text": [
      "WARNING:absl:Found untraced functions such as _jit_compiled_convolution_op, _jit_compiled_convolution_op, _jit_compiled_convolution_op while saving (showing 3 of 3). These functions will not be directly callable after loading.\n"
     ]
    },
    {
     "name": "stdout",
     "output_type": "stream",
     "text": [
      "INFO:tensorflow:Assets written to: ../../artifacts/checkpoints\\checkpoint_CaffeNet\\assets\n"
     ]
    },
    {
     "name": "stderr",
     "output_type": "stream",
     "text": [
      "INFO:tensorflow:Assets written to: ../../artifacts/checkpoints\\checkpoint_CaffeNet\\assets\n"
     ]
    },
    {
     "name": "stdout",
     "output_type": "stream",
     "text": [
      "9/9 [==============================] - 4s 537ms/step - loss: 3.0694 - accuracy: 0.9365 - val_loss: 7.2199 - val_accuracy: 0.2350\n",
      "Epoch 67/100\n",
      "8/9 [=========================>....] - ETA: 0s - loss: 3.0896 - accuracy: 0.9308\n",
      "Epoch 67: val_loss improved from 7.21994 to 7.12549, saving model to ../../artifacts/checkpoints\\checkpoint_CaffeNet\n"
     ]
    },
    {
     "name": "stderr",
     "output_type": "stream",
     "text": [
      "WARNING:absl:Found untraced functions such as _jit_compiled_convolution_op, _jit_compiled_convolution_op, _jit_compiled_convolution_op while saving (showing 3 of 3). These functions will not be directly callable after loading.\n"
     ]
    },
    {
     "name": "stdout",
     "output_type": "stream",
     "text": [
      "INFO:tensorflow:Assets written to: ../../artifacts/checkpoints\\checkpoint_CaffeNet\\assets\n"
     ]
    },
    {
     "name": "stderr",
     "output_type": "stream",
     "text": [
      "INFO:tensorflow:Assets written to: ../../artifacts/checkpoints\\checkpoint_CaffeNet\\assets\n"
     ]
    },
    {
     "name": "stdout",
     "output_type": "stream",
     "text": [
      "9/9 [==============================] - 4s 529ms/step - loss: 3.0892 - accuracy: 0.9312 - val_loss: 7.1255 - val_accuracy: 0.2396\n",
      "Epoch 68/100\n",
      "8/9 [=========================>....] - ETA: 0s - loss: 3.0241 - accuracy: 0.9485\n",
      "Epoch 68: val_loss did not improve from 7.12549\n",
      "9/9 [==============================] - 2s 159ms/step - loss: 3.0228 - accuracy: 0.9487 - val_loss: 7.3214 - val_accuracy: 0.2258\n",
      "Epoch 69/100\n",
      "8/9 [=========================>....] - ETA: 0s - loss: 2.9182 - accuracy: 0.9680\n",
      "Epoch 69: val_loss did not improve from 7.12549\n",
      "9/9 [==============================] - 1s 160ms/step - loss: 2.9171 - accuracy: 0.9676 - val_loss: 7.2654 - val_accuracy: 0.2304\n",
      "Epoch 70/100\n",
      "8/9 [=========================>....] - ETA: 0s - loss: 2.8385 - accuracy: 0.9690\n",
      "Epoch 70: val_loss improved from 7.12549 to 6.91589, saving model to ../../artifacts/checkpoints\\checkpoint_CaffeNet\n"
     ]
    },
    {
     "name": "stderr",
     "output_type": "stream",
     "text": [
      "WARNING:absl:Found untraced functions such as _jit_compiled_convolution_op, _jit_compiled_convolution_op, _jit_compiled_convolution_op while saving (showing 3 of 3). These functions will not be directly callable after loading.\n"
     ]
    },
    {
     "name": "stdout",
     "output_type": "stream",
     "text": [
      "INFO:tensorflow:Assets written to: ../../artifacts/checkpoints\\checkpoint_CaffeNet\\assets\n"
     ]
    },
    {
     "name": "stderr",
     "output_type": "stream",
     "text": [
      "INFO:tensorflow:Assets written to: ../../artifacts/checkpoints\\checkpoint_CaffeNet\\assets\n"
     ]
    },
    {
     "name": "stdout",
     "output_type": "stream",
     "text": [
      "9/9 [==============================] - 4s 524ms/step - loss: 2.8367 - accuracy: 0.9694 - val_loss: 6.9159 - val_accuracy: 0.2488\n",
      "Epoch 71/100\n",
      "8/9 [=========================>....] - ETA: 0s - loss: 2.7517 - accuracy: 0.9812\n",
      "Epoch 71: val_loss improved from 6.91589 to 6.80393, saving model to ../../artifacts/checkpoints\\checkpoint_CaffeNet\n"
     ]
    },
    {
     "name": "stderr",
     "output_type": "stream",
     "text": [
      "WARNING:absl:Found untraced functions such as _jit_compiled_convolution_op, _jit_compiled_convolution_op, _jit_compiled_convolution_op while saving (showing 3 of 3). These functions will not be directly callable after loading.\n"
     ]
    },
    {
     "name": "stdout",
     "output_type": "stream",
     "text": [
      "INFO:tensorflow:Assets written to: ../../artifacts/checkpoints\\checkpoint_CaffeNet\\assets\n"
     ]
    },
    {
     "name": "stderr",
     "output_type": "stream",
     "text": [
      "INFO:tensorflow:Assets written to: ../../artifacts/checkpoints\\checkpoint_CaffeNet\\assets\n"
     ]
    },
    {
     "name": "stdout",
     "output_type": "stream",
     "text": [
      "9/9 [==============================] - 5s 535ms/step - loss: 2.7514 - accuracy: 0.9808 - val_loss: 6.8039 - val_accuracy: 0.2442\n",
      "Epoch 72/100\n",
      "8/9 [=========================>....] - ETA: 0s - loss: 2.6739 - accuracy: 0.9827\n",
      "Epoch 72: val_loss did not improve from 6.80393\n",
      "9/9 [==============================] - 2s 160ms/step - loss: 2.6728 - accuracy: 0.9827 - val_loss: 6.9876 - val_accuracy: 0.2120\n",
      "Epoch 73/100\n",
      "8/9 [=========================>....] - ETA: 0s - loss: 2.6031 - accuracy: 0.9822\n",
      "Epoch 73: val_loss improved from 6.80393 to 6.69895, saving model to ../../artifacts/checkpoints\\checkpoint_CaffeNet\n"
     ]
    },
    {
     "name": "stderr",
     "output_type": "stream",
     "text": [
      "WARNING:absl:Found untraced functions such as _jit_compiled_convolution_op, _jit_compiled_convolution_op, _jit_compiled_convolution_op while saving (showing 3 of 3). These functions will not be directly callable after loading.\n"
     ]
    },
    {
     "name": "stdout",
     "output_type": "stream",
     "text": [
      "INFO:tensorflow:Assets written to: ../../artifacts/checkpoints\\checkpoint_CaffeNet\\assets\n"
     ]
    },
    {
     "name": "stderr",
     "output_type": "stream",
     "text": [
      "INFO:tensorflow:Assets written to: ../../artifacts/checkpoints\\checkpoint_CaffeNet\\assets\n"
     ]
    },
    {
     "name": "stdout",
     "output_type": "stream",
     "text": [
      "9/9 [==============================] - 4s 524ms/step - loss: 2.6031 - accuracy: 0.9822 - val_loss: 6.6990 - val_accuracy: 0.2258\n",
      "Epoch 74/100\n",
      "8/9 [=========================>....] - ETA: 0s - loss: 2.5507 - accuracy: 0.9822\n",
      "Epoch 74: val_loss did not improve from 6.69895\n",
      "9/9 [==============================] - 2s 162ms/step - loss: 2.5501 - accuracy: 0.9825 - val_loss: 6.8931 - val_accuracy: 0.2396\n",
      "Epoch 75/100\n",
      "8/9 [=========================>....] - ETA: 0s - loss: 2.4922 - accuracy: 0.9855\n",
      "Epoch 75: val_loss improved from 6.69895 to 6.64590, saving model to ../../artifacts/checkpoints\\checkpoint_CaffeNet\n"
     ]
    },
    {
     "name": "stderr",
     "output_type": "stream",
     "text": [
      "WARNING:absl:Found untraced functions such as _jit_compiled_convolution_op, _jit_compiled_convolution_op, _jit_compiled_convolution_op while saving (showing 3 of 3). These functions will not be directly callable after loading.\n"
     ]
    },
    {
     "name": "stdout",
     "output_type": "stream",
     "text": [
      "INFO:tensorflow:Assets written to: ../../artifacts/checkpoints\\checkpoint_CaffeNet\\assets\n"
     ]
    },
    {
     "name": "stderr",
     "output_type": "stream",
     "text": [
      "INFO:tensorflow:Assets written to: ../../artifacts/checkpoints\\checkpoint_CaffeNet\\assets\n"
     ]
    },
    {
     "name": "stdout",
     "output_type": "stream",
     "text": [
      "9/9 [==============================] - 4s 524ms/step - loss: 2.4917 - accuracy: 0.9854 - val_loss: 6.6459 - val_accuracy: 0.1935\n",
      "Epoch 76/100\n",
      "8/9 [=========================>....] - ETA: 0s - loss: 2.4343 - accuracy: 0.9865\n",
      "Epoch 76: val_loss improved from 6.64590 to 6.58797, saving model to ../../artifacts/checkpoints\\checkpoint_CaffeNet\n"
     ]
    },
    {
     "name": "stderr",
     "output_type": "stream",
     "text": [
      "WARNING:absl:Found untraced functions such as _jit_compiled_convolution_op, _jit_compiled_convolution_op, _jit_compiled_convolution_op while saving (showing 3 of 3). These functions will not be directly callable after loading.\n"
     ]
    },
    {
     "name": "stdout",
     "output_type": "stream",
     "text": [
      "INFO:tensorflow:Assets written to: ../../artifacts/checkpoints\\checkpoint_CaffeNet\\assets\n"
     ]
    },
    {
     "name": "stderr",
     "output_type": "stream",
     "text": [
      "INFO:tensorflow:Assets written to: ../../artifacts/checkpoints\\checkpoint_CaffeNet\\assets\n"
     ]
    },
    {
     "name": "stdout",
     "output_type": "stream",
     "text": [
      "9/9 [==============================] - 5s 535ms/step - loss: 2.4349 - accuracy: 0.9861 - val_loss: 6.5880 - val_accuracy: 0.2442\n",
      "Epoch 77/100\n",
      "8/9 [=========================>....] - ETA: 0s - loss: 2.3962 - accuracy: 0.9820\n",
      "Epoch 77: val_loss did not improve from 6.58797\n",
      "9/9 [==============================] - 2s 162ms/step - loss: 2.3965 - accuracy: 0.9820 - val_loss: 6.7189 - val_accuracy: 0.1843\n",
      "Epoch 78/100\n",
      "8/9 [=========================>....] - ETA: 0s - loss: 2.3973 - accuracy: 0.9770\n",
      "Epoch 78: val_loss did not improve from 6.58797\n",
      "9/9 [==============================] - 1s 161ms/step - loss: 2.3991 - accuracy: 0.9762 - val_loss: 6.9487 - val_accuracy: 0.2535\n",
      "Epoch 79/100\n",
      "8/9 [=========================>....] - ETA: 0s - loss: 2.5064 - accuracy: 0.9383\n",
      "Epoch 79: val_loss did not improve from 6.58797\n",
      "9/9 [==============================] - 1s 160ms/step - loss: 2.5058 - accuracy: 0.9387 - val_loss: 7.0388 - val_accuracy: 0.2028\n",
      "Epoch 80/100\n",
      "8/9 [=========================>....] - ETA: 0s - loss: 2.5869 - accuracy: 0.9277\n",
      "Epoch 80: val_loss did not improve from 6.58797\n",
      "9/9 [==============================] - 1s 161ms/step - loss: 2.5865 - accuracy: 0.9280 - val_loss: 7.0068 - val_accuracy: 0.1935\n",
      "Epoch 81/100\n",
      "8/9 [=========================>....] - ETA: 0s - loss: 2.5566 - accuracy: 0.9442\n",
      "Epoch 81: val_loss did not improve from 6.58797\n",
      "9/9 [==============================] - 1s 161ms/step - loss: 2.5573 - accuracy: 0.9438 - val_loss: 7.0040 - val_accuracy: 0.2166\n",
      "Epoch 82/100\n",
      "8/9 [=========================>....] - ETA: 0s - loss: 2.5294 - accuracy: 0.9390\n",
      "Epoch 82: val_loss did not improve from 6.58797\n",
      "9/9 [==============================] - 1s 161ms/step - loss: 2.5289 - accuracy: 0.9392 - val_loss: 7.0726 - val_accuracy: 0.2074\n",
      "Epoch 83/100\n",
      "8/9 [=========================>....] - ETA: 0s - loss: 2.4889 - accuracy: 0.9477\n",
      "Epoch 83: val_loss did not improve from 6.58797\n",
      "9/9 [==============================] - 1s 160ms/step - loss: 2.4887 - accuracy: 0.9475 - val_loss: 7.0252 - val_accuracy: 0.2350\n",
      "Epoch 84/100\n",
      "8/9 [=========================>....] - ETA: 0s - loss: 2.4580 - accuracy: 0.9582\n",
      "Epoch 84: val_loss did not improve from 6.58797\n",
      "9/9 [==============================] - 1s 160ms/step - loss: 2.4559 - accuracy: 0.9589 - val_loss: 6.7606 - val_accuracy: 0.2350\n",
      "Epoch 85/100\n",
      "8/9 [=========================>....] - ETA: 0s - loss: 2.3535 - accuracy: 0.9800\n",
      "Epoch 85: val_loss did not improve from 6.58797\n",
      "9/9 [==============================] - 1s 159ms/step - loss: 2.3532 - accuracy: 0.9796 - val_loss: 6.9276 - val_accuracy: 0.2028\n",
      "Epoch 86/100\n",
      "8/9 [=========================>....] - ETA: 0s - loss: 2.2850 - accuracy: 0.9815\n",
      "Epoch 86: val_loss did not improve from 6.58797\n",
      "9/9 [==============================] - 1s 158ms/step - loss: 2.2837 - accuracy: 0.9815 - val_loss: 6.9732 - val_accuracy: 0.2120\n",
      "Epoch 87/100\n",
      "8/9 [=========================>....] - ETA: 0s - loss: 2.2218 - accuracy: 0.9820\n",
      "Epoch 87: val_loss improved from 6.58797 to 6.54254, saving model to ../../artifacts/checkpoints\\checkpoint_CaffeNet\n"
     ]
    },
    {
     "name": "stderr",
     "output_type": "stream",
     "text": [
      "WARNING:absl:Found untraced functions such as _jit_compiled_convolution_op, _jit_compiled_convolution_op, _jit_compiled_convolution_op while saving (showing 3 of 3). These functions will not be directly callable after loading.\n"
     ]
    },
    {
     "name": "stdout",
     "output_type": "stream",
     "text": [
      "INFO:tensorflow:Assets written to: ../../artifacts/checkpoints\\checkpoint_CaffeNet\\assets\n"
     ]
    },
    {
     "name": "stderr",
     "output_type": "stream",
     "text": [
      "INFO:tensorflow:Assets written to: ../../artifacts/checkpoints\\checkpoint_CaffeNet\\assets\n"
     ]
    },
    {
     "name": "stdout",
     "output_type": "stream",
     "text": [
      "9/9 [==============================] - 4s 526ms/step - loss: 2.2205 - accuracy: 0.9822 - val_loss: 6.5425 - val_accuracy: 0.2488\n",
      "Epoch 88/100\n",
      "8/9 [=========================>....] - ETA: 0s - loss: 2.1295 - accuracy: 0.9895\n",
      "Epoch 88: val_loss did not improve from 6.54254\n",
      "9/9 [==============================] - 2s 162ms/step - loss: 2.1281 - accuracy: 0.9898 - val_loss: 6.5826 - val_accuracy: 0.2120\n",
      "Epoch 89/100\n",
      "8/9 [=========================>....] - ETA: 0s - loss: 2.0635 - accuracy: 0.9902\n",
      "Epoch 89: val_loss did not improve from 6.54254\n",
      "9/9 [==============================] - 1s 161ms/step - loss: 2.0631 - accuracy: 0.9898 - val_loss: 6.5468 - val_accuracy: 0.1982\n",
      "Epoch 90/100\n",
      "8/9 [=========================>....] - ETA: 0s - loss: 2.0344 - accuracy: 0.9872\n",
      "Epoch 90: val_loss improved from 6.54254 to 6.43496, saving model to ../../artifacts/checkpoints\\checkpoint_CaffeNet\n"
     ]
    },
    {
     "name": "stderr",
     "output_type": "stream",
     "text": [
      "WARNING:absl:Found untraced functions such as _jit_compiled_convolution_op, _jit_compiled_convolution_op, _jit_compiled_convolution_op while saving (showing 3 of 3). These functions will not be directly callable after loading.\n"
     ]
    },
    {
     "name": "stdout",
     "output_type": "stream",
     "text": [
      "INFO:tensorflow:Assets written to: ../../artifacts/checkpoints\\checkpoint_CaffeNet\\assets\n"
     ]
    },
    {
     "name": "stderr",
     "output_type": "stream",
     "text": [
      "INFO:tensorflow:Assets written to: ../../artifacts/checkpoints\\checkpoint_CaffeNet\\assets\n"
     ]
    },
    {
     "name": "stdout",
     "output_type": "stream",
     "text": [
      "9/9 [==============================] - 4s 531ms/step - loss: 2.0342 - accuracy: 0.9874 - val_loss: 6.4350 - val_accuracy: 0.2304\n",
      "Epoch 91/100\n",
      "8/9 [=========================>....] - ETA: 0s - loss: 1.9954 - accuracy: 0.9890\n",
      "Epoch 91: val_loss did not improve from 6.43496\n",
      "9/9 [==============================] - 2s 161ms/step - loss: 1.9956 - accuracy: 0.9891 - val_loss: 6.5249 - val_accuracy: 0.2120\n",
      "Epoch 92/100\n",
      "8/9 [=========================>....] - ETA: 0s - loss: 1.9647 - accuracy: 0.9883\n",
      "Epoch 92: val_loss did not improve from 6.43496\n",
      "9/9 [==============================] - 1s 160ms/step - loss: 1.9642 - accuracy: 0.9878 - val_loss: 6.4355 - val_accuracy: 0.2258\n",
      "Epoch 93/100\n",
      "8/9 [=========================>....] - ETA: 0s - loss: 1.9280 - accuracy: 0.9868\n",
      "Epoch 93: val_loss improved from 6.43496 to 6.34339, saving model to ../../artifacts/checkpoints\\checkpoint_CaffeNet\n"
     ]
    },
    {
     "name": "stderr",
     "output_type": "stream",
     "text": [
      "WARNING:absl:Found untraced functions such as _jit_compiled_convolution_op, _jit_compiled_convolution_op, _jit_compiled_convolution_op while saving (showing 3 of 3). These functions will not be directly callable after loading.\n"
     ]
    },
    {
     "name": "stdout",
     "output_type": "stream",
     "text": [
      "INFO:tensorflow:Assets written to: ../../artifacts/checkpoints\\checkpoint_CaffeNet\\assets\n"
     ]
    },
    {
     "name": "stderr",
     "output_type": "stream",
     "text": [
      "INFO:tensorflow:Assets written to: ../../artifacts/checkpoints\\checkpoint_CaffeNet\\assets\n"
     ]
    },
    {
     "name": "stdout",
     "output_type": "stream",
     "text": [
      "9/9 [==============================] - 4s 537ms/step - loss: 1.9277 - accuracy: 0.9866 - val_loss: 6.3434 - val_accuracy: 0.2120\n",
      "Epoch 94/100\n",
      "8/9 [=========================>....] - ETA: 0s - loss: 1.9064 - accuracy: 0.9875\n",
      "Epoch 94: val_loss did not improve from 6.34339\n",
      "9/9 [==============================] - 2s 161ms/step - loss: 1.9056 - accuracy: 0.9878 - val_loss: 6.3461 - val_accuracy: 0.2166\n",
      "Epoch 95/100\n",
      "8/9 [=========================>....] - ETA: 0s - loss: 1.8689 - accuracy: 0.9937\n",
      "Epoch 95: val_loss improved from 6.34339 to 6.09028, saving model to ../../artifacts/checkpoints\\checkpoint_CaffeNet\n"
     ]
    },
    {
     "name": "stderr",
     "output_type": "stream",
     "text": [
      "WARNING:absl:Found untraced functions such as _jit_compiled_convolution_op, _jit_compiled_convolution_op, _jit_compiled_convolution_op while saving (showing 3 of 3). These functions will not be directly callable after loading.\n"
     ]
    },
    {
     "name": "stdout",
     "output_type": "stream",
     "text": [
      "INFO:tensorflow:Assets written to: ../../artifacts/checkpoints\\checkpoint_CaffeNet\\assets\n"
     ]
    },
    {
     "name": "stderr",
     "output_type": "stream",
     "text": [
      "INFO:tensorflow:Assets written to: ../../artifacts/checkpoints\\checkpoint_CaffeNet\\assets\n"
     ]
    },
    {
     "name": "stdout",
     "output_type": "stream",
     "text": [
      "9/9 [==============================] - 4s 532ms/step - loss: 1.8695 - accuracy: 0.9932 - val_loss: 6.0903 - val_accuracy: 0.2212\n",
      "Epoch 96/100\n",
      "9/9 [==============================] - ETA: 0s - loss: 1.9009 - accuracy: 0.9708\n",
      "Epoch 96: val_loss did not improve from 6.09028\n",
      "9/9 [==============================] - 2s 169ms/step - loss: 1.9009 - accuracy: 0.9708 - val_loss: 6.6190 - val_accuracy: 0.1935\n",
      "Epoch 97/100\n",
      "8/9 [=========================>....] - ETA: 0s - loss: 1.9741 - accuracy: 0.9490\n",
      "Epoch 97: val_loss did not improve from 6.09028\n",
      "9/9 [==============================] - 2s 163ms/step - loss: 1.9736 - accuracy: 0.9492 - val_loss: 6.7522 - val_accuracy: 0.1843\n",
      "Epoch 98/100\n",
      "8/9 [=========================>....] - ETA: 0s - loss: 2.0265 - accuracy: 0.9415\n",
      "Epoch 98: val_loss did not improve from 6.09028\n",
      "9/9 [==============================] - 1s 161ms/step - loss: 2.0256 - accuracy: 0.9419 - val_loss: 7.1023 - val_accuracy: 0.2028\n",
      "Epoch 99/100\n",
      "8/9 [=========================>....] - ETA: 0s - loss: 2.1848 - accuracy: 0.9032\n",
      "Epoch 99: val_loss did not improve from 6.09028\n",
      "9/9 [==============================] - 1s 158ms/step - loss: 2.1922 - accuracy: 0.9008 - val_loss: 7.4920 - val_accuracy: 0.1613\n",
      "Epoch 100/100\n",
      "8/9 [=========================>....] - ETA: 0s - loss: 2.5965 - accuracy: 0.8010\n",
      "Epoch 100: val_loss did not improve from 6.09028\n",
      "9/9 [==============================] - 1s 155ms/step - loss: 2.6031 - accuracy: 0.7998 - val_loss: 6.8778 - val_accuracy: 0.2258\n",
      "20/20 [==============================] - 0s 7ms/step - loss: 6.6926 - accuracy: 0.2359\n",
      "Saving model to \"artifacts/models/CaffeNet.h5\"...\n",
      "Model saved successfully!\n"
     ]
    }
   ],
   "source": [
    "caffe_net_wrapper.train_evaluate_and_save_model()"
   ]
  },
  {
   "cell_type": "code",
   "execution_count": 10,
   "metadata": {},
   "outputs": [
    {
     "data": {
      "image/png": "[encoded data removed]",
      "text/plain": [
       "<Figure size 640x480 with 1 Axes>"
      ]
     },
     "metadata": {},
     "output_type": "display_data"
    }
   ],
   "source": [
    "caffe_net_wrapper.plot_accuracy()"
   ]
  },
  {
   "cell_type": "code",
   "execution_count": 11,
   "metadata": {},
   "outputs": [
    {
     "data": {
      "image/png": "[encoded data removed]",
      "text/plain": [
       "<Figure size 640x480 with 1 Axes>"
      ]
     },
     "metadata": {},
     "output_type": "display_data"
    }
   ],
   "source": [
    "caffe_net_wrapper.plot_loss()"
   ]
  },
  {
   "cell_type": "code",
   "execution_count": 12,
   "metadata": {},
   "outputs": [
    {
     "name": "stdout",
     "output_type": "stream",
     "text": [
      "20/20 [==============================] - 0s 6ms/step\n"
     ]
    },
    {
     "data": {
      "image/png": "[encoded data removed]",
      "text/plain": [
       "<Figure size 1500x1000 with 2 Axes>"
      ]
     },
     "metadata": {},
     "output_type": "display_data"
    }
   ],
   "source": [
    "caffe_net_wrapper.display_confusion_matrix()"
   ]
  },
  {
   "cell_type": "code",
   "execution_count": null,
   "metadata": {},
   "outputs": [],
   "source": []
  }
 ],
 "metadata": {
  "kernelspec": {
   "display_name": "ML-projekat",
   "language": "python",
   "name": "python3"
  },
  "language_info": {
   "codemirror_mode": {
    "name": "ipython",
    "version": 3
   },
   "file_extension": ".py",
   "mimetype": "text/x-python",
   "name": "python",
   "nbconvert_exporter": "python",
   "pygments_lexer": "ipython3",
   "version": "3.9.17"
  },
  "orig_nbformat": 4
 },
 "nbformat": 4,
 "nbformat_minor": 2
}
